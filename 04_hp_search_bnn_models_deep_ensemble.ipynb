{
 "cells": [
  {
   "cell_type": "code",
   "execution_count": 1,
   "metadata": {},
   "outputs": [
    {
     "name": "stderr",
     "output_type": "stream",
     "text": [
      "2023-11-28 15:37:50.549782: I tensorflow/core/util/port.cc:110] oneDNN custom operations are on. You may see slightly different numerical results due to floating-point round-off errors from different computation orders. To turn them off, set the environment variable `TF_ENABLE_ONEDNN_OPTS=0`.\n",
      "2023-11-28 15:37:50.602957: I tensorflow/core/platform/cpu_feature_guard.cc:182] This TensorFlow binary is optimized to use available CPU instructions in performance-critical operations.\n",
      "To enable the following instructions: AVX2 AVX512F AVX512_VNNI FMA, in other operations, rebuild TensorFlow with the appropriate compiler flags.\n",
      "2023-11-28 15:37:51.373242: W tensorflow/compiler/tf2tensorrt/utils/py_utils.cc:38] TF-TRT Warning: Could not find TensorRT\n"
     ]
    }
   ],
   "source": [
    "import os\n",
    "import warnings\n",
    "warnings.filterwarnings('ignore')\n",
    "from sklearn.metrics import confusion_matrix, ConfusionMatrixDisplay\n",
    "import logging\n",
    "from tensorflow.keras.layers import *\n",
    "import tensorflow as tf\n",
    "import keras\n",
    "from keras import Model\n",
    "from keras import regularizers\n",
    "from keras.layers import Dense, Dropout\n",
    "from keras import layers\n",
    "import pandas as pd\n",
    "import numpy as np\n",
    "from sklearn.metrics import confusion_matrix\n",
    "import matplotlib.pyplot as plt\n",
    "from sklearn.metrics import precision_score, recall_score, f1_score\n",
    "from sklearn.model_selection import StratifiedKFold\n",
    "import pathlib\n",
    "import ast\n",
    "import json\n",
    "import coral_ordinal as coral\n",
    "from sklearn.metrics import precision_recall_fscore_support\n",
    "from tqdm import tqdm\n",
    "from imblearn.over_sampling import SMOTENC\n",
    "from numpy import loadtxt\n",
    "from sklearn.metrics import accuracy_score\n",
    "from sklearn.ensemble import RandomForestClassifier\n",
    "from xgboost import XGBClassifier\n",
    "from sklearn.svm import SVC\n",
    "import torch\n",
    "from torch.utils.data import TensorDataset, DataLoader\n",
    "from scipy import stats\n",
    "import matplotlib.pyplot as plt\n",
    "from matplotlib.pyplot import scatter, figure\n",
    "import math\n",
    "import numpy as np\n",
    "import math\n",
    "import numpy as np\n",
    "from scipy import stats\n",
    "import pandas as pd\n",
    "import seaborn as sns\n",
    "import torch\n",
    "import torch.nn as nn\n",
    "import torch.nn.functional as F\n",
    "import torch.optim as optim\n",
    "import matplotlib.pyplot as plt\n",
    "from matplotlib.pyplot import scatter, figure\n",
    "sns.set(rc={'figure.figsize':(9, 7)})\n",
    "from blitz.modules import BayesianLinear\n",
    "from blitz.utils import variational_estimator\n",
    "\n",
    "\n",
    "# os.environ[\"CUDA_VISIBLE_DEVICES\"] = \"-1\"\n",
    "# Coral Ordinal Function and Custom metric defining here\n",
    "os.environ[\"CUDA_VISIBLE_DEVICES\"] = \"-1\"\n",
    "MODEL_PATH = '../data/models/'\n",
    "DATA_DIR = '../data/'\n"
   ]
  },
  {
   "cell_type": "code",
   "execution_count": 2,
   "metadata": {},
   "outputs": [],
   "source": [
    "# Important functions for test accuracy and confusion matrix\n",
    "def predict_get_f1_accuracy(y_true, y_pred, num_classes):\n",
    "    # Resetting the index\n",
    "    y_true = y_true.reset_index(drop=True)\n",
    "\n",
    "    # Function for custom distance accuracy metric\n",
    "    def accuracy_metric(y_true, y_pred):\n",
    "        a = []\n",
    "\n",
    "        for i in range(len(y_true)):\n",
    "            yt = y_true[i]\n",
    "            yp = y_pred[i]\n",
    "\n",
    "            temp = 1 - (np.abs(yt - yp) / num_classes)\n",
    "            a.append(temp)\n",
    "        # print(a)\n",
    "        accuracy = sum(a) / len(y_true)\n",
    "\n",
    "        return accuracy\n",
    "\n",
    "    # Getting the f1 score using sklearn.metrics.precision_recall_fscore_support\n",
    "    f1_score_test = precision_recall_fscore_support(y_true, y_pred, average='weighted')\n",
    "\n",
    "    # Getting the custom distance accuracy metric\n",
    "    custom_accuracy_test = accuracy_metric(y_true, y_pred)\n",
    "\n",
    "    # Returing the values\n",
    "    return f1_score_test[2], custom_accuracy_test\n",
    "\n",
    "\n",
    "def save_confusion_matrix_func(y_test, yp, title, path, route_id):\n",
    "    cm = confusion_matrix(y_test, yp)\n",
    "    disp = ConfusionMatrixDisplay(confusion_matrix=cm)\n",
    "    # Plot the confusion matrix\n",
    "    fig, ax = plt.subplots(figsize=(8, 6))\n",
    "    _ = disp.plot(ax=ax)\n",
    "    # Add a title to the plot\n",
    "    ax.set_title(title + \" - Real Count\")\n",
    "    plt.savefig(f'{path}/CM_real_count_{route_id}.jpg')\n",
    "\n",
    "    # Getting the percentage CM\n",
    "    cm = ((cm * 100) / (cm.sum(axis=1)[:, np.newaxis]))\n",
    "    disp = ConfusionMatrixDisplay(confusion_matrix=cm)\n",
    "    # Plot the confusion matrix\n",
    "    fig, ax = plt.subplots(figsize=(8, 6))\n",
    "    _ = disp.plot(ax=ax)\n",
    "    # Add a title to the plot\n",
    "    ax.set_title(title + \" - Percentages\")\n",
    "    plt.savefig(f'{path}/CM_percentage_{route_id}.jpg')\n",
    "\n"
   ]
  },
  {
   "cell_type": "code",
   "execution_count": 3,
   "metadata": {},
   "outputs": [],
   "source": [
    "\n",
    "version = 'stl_1'\n",
    "log_version = 'stl_1'\n",
    "EPOCHS = 200\n",
    "\n",
    "DATA_DIR = '../data'\n",
    "\n",
    "pd.set_option('display.max_columns', None)"
   ]
  },
  {
   "cell_type": "code",
   "execution_count": 4,
   "metadata": {},
   "outputs": [],
   "source": [
    "path = '../data/new_data/data1/'\n",
    "\n",
    "train_df = pd.read_csv(f'{path}/Data1_Train.csv')\n",
    "val_df = pd.read_csv(f'{path}/Data1_Val.csv')\n",
    "test_df = pd.read_csv(f'{path}/Data1_Test.csv')"
   ]
  },
  {
   "cell_type": "code",
   "execution_count": 5,
   "metadata": {},
   "outputs": [],
   "source": [
    "tensor_train_data = torch.Tensor(train_df.Input1).unsqueeze(1)\n",
    "tensor_train_label = torch.Tensor(train_df.Output)\n",
    "\n",
    "tensor_val_data = torch.Tensor(val_df.Input1).unsqueeze(1)\n",
    "tensor_val_label = torch.Tensor(val_df.Output)\n",
    "\n",
    "tensor_test_data = torch.Tensor(test_df.Input1).unsqueeze(1)\n",
    "tensor_test_label = torch.Tensor(test_df.Output)\n",
    "\n",
    "train_dataset = TensorDataset(tensor_train_data, tensor_train_label)\n",
    "val_dataset = TensorDataset(tensor_val_data, tensor_val_label)\n"
   ]
  },
  {
   "cell_type": "code",
   "execution_count": 6,
   "metadata": {},
   "outputs": [],
   "source": [
    "models = {}"
   ]
  },
  {
   "cell_type": "code",
   "execution_count": 7,
   "metadata": {},
   "outputs": [],
   "source": [
    "import torch\n",
    "import torch.optim as optim\n",
    "from ray import tune\n",
    "from ray.tune.schedulers import ASHAScheduler\n",
    "\n",
    "\n",
    "class DeepEnsembleNet(nn.Module):\n",
    "    def __init__(self, num_features, hidden_size, n_layers):\n",
    "        super(DeepEnsembleNet, self).__init__()\n",
    "\n",
    "        layers = []\n",
    "        input_size = num_features\n",
    "\n",
    "        # Create 'n' hidden layers\n",
    "        for _ in range(n_layers):\n",
    "            layers.append(nn.Linear(input_size, hidden_size))\n",
    "            input_size = hidden_size  # The output of each layer is the input to the next\n",
    "\n",
    "        self.layers = nn.ModuleList(layers)\n",
    "        self.mu = nn.Linear(hidden_size, 1)\n",
    "        self.var = nn.Linear(hidden_size, 1)\n",
    "\n",
    "    def forward(self, x):\n",
    "        for layer in self.layers:\n",
    "            x = torch.relu(layer(x))\n",
    "        mu = self.mu(x)\n",
    "        var = torch.exp(self.var(x))\n",
    "        return mu, var\n",
    "    "
   ]
  },
  {
   "cell_type": "code",
   "execution_count": 8,
   "metadata": {},
   "outputs": [],
   "source": [
    "def train_de(config):\n",
    "\n",
    "    hidden_size = int(config['hidden_size'])\n",
    "    num_layers = int(config['num_layers'])\n",
    "    patience = int(config['patience'])\n",
    "    batch_size = int(config['batch_size'])\n",
    "    num_models = int(config['num_models'])\n",
    "\n",
    "    train_loader = DataLoader(train_dataset, batch_size=batch_size, shuffle=True)\n",
    "    val_loader = DataLoader(val_dataset, batch_size=batch_size, shuffle=True)\n",
    "\n",
    "    model_name = f'hs_{hidden_size}_nl_{num_layers}_do_{config[\"num_models\"]}_ep_{config[\"epochs\"]}_p_{config[\"patience\"]}_lr_{config[\"lr\"]}_bs_{batch_size}.pt'\n",
    "\n",
    "    models[f'{model_name}']= DeepEnsembleNet(config[\"num_features\"], hidden_size, num_layers)\n",
    "\n",
    "    device = 'cpu'\n",
    "    models[f'{model_name}'].to(device)\n",
    "    \n",
    "    best_model_dir = f'./models/'\n",
    "    pathlib.Path(best_model_dir).mkdir(parents=True, exist_ok=True) \n",
    "    best_model_path = f'{best_model_dir}/hs_{hidden_size}_nl_{num_layers}_do_{config[\"num_models\"]}_ep_{config[\"epochs\"]}_p_{config[\"patience\"]}_lr_{config[\"lr\"]}_bs_{batch_size}'\n",
    "    best_val_loss = float('inf')\n",
    "    epochs_no_improve = 0\n",
    "\n",
    "    # Construct ensemble\n",
    "    deep_ensemble = [DeepEnsembleNet(config[\"num_features\"], hidden_size, num_layers).to(device) for i in range(num_models)]\n",
    "    criterion = torch.nn.GaussianNLLLoss(eps=1e-02)\n",
    "    optimizers = [optim.Adam(m.parameters(), lr=config[\"lr\"]) for m in deep_ensemble]\n",
    "\n",
    "    for epoch in range(config['epochs']):\n",
    "        # Train loop\n",
    "        for batch in train_loader:\n",
    "            x = batch[0].to(device)\n",
    "            y = batch[1].to(device)\n",
    "\n",
    "            losses = []\n",
    "            mus = []\n",
    "            vars = []\n",
    "            for i, model in enumerate(deep_ensemble):\n",
    "                optimizers[i].zero_grad()\n",
    "                mu, var = model(x)\n",
    "                loss = criterion(mu, y, var)\n",
    "                loss.backward()\n",
    "                optimizers[i].step()\n",
    "\n",
    "                losses.append(loss.item())\n",
    "                mus.append(mu)\n",
    "                vars.append(var)\n",
    "            loss = sum(losses)/len(losses)\n",
    "\n",
    "        # Validation loop to monitor early stopping\n",
    "        model.eval()  # Set the model to evaluation mode\n",
    "        val_losses = []\n",
    "        for batch in val_loader:  # Assuming you have a validation data loader\n",
    "            x = batch[0].to(device)\n",
    "            y = batch[1].to(device)\n",
    "\n",
    "            with torch.no_grad():  # No gradient calculation for validation data\n",
    "                for model in deep_ensemble:\n",
    "                    mu, var = model(x)\n",
    "                    val_loss = criterion(mu, y, var)\n",
    "                    val_losses.append(val_loss.item())\n",
    "        avg_val_loss = sum(val_losses) / len(val_losses)\n",
    "\n",
    "        # Early stopping logic\n",
    "        if avg_val_loss < best_val_loss:\n",
    "            best_val_loss = avg_val_loss\n",
    "            epochs_no_improve = 0\n",
    "            torch.save(model.state_dict(), best_model_path)\n",
    "        else:\n",
    "            epochs_no_improve += 1\n",
    "            if epochs_no_improve >= patience:\n",
    "                print(f'Early stopping triggered at epoch {epoch}')\n",
    "                break\n",
    "\n",
    "        print(f'Epoch: {epoch}|Train Loss: {loss}|Val Loss: {avg_val_loss}')\n",
    "    \n",
    "    tune.report(train_loss=loss,best_val_loss=best_val_loss)\n"
   ]
  },
  {
   "cell_type": "code",
   "execution_count": 9,
   "metadata": {},
   "outputs": [],
   "source": [
    "\n",
    "\n",
    "def main(num_samples=100, max_num_epochs=500):\n",
    "    \n",
    "\n",
    "    ray.init()\n",
    "\n",
    "    config = {\n",
    "        \"num_features\": 1,\n",
    "        \"hidden_size\": tune.quniform(1, 200, 1),\n",
    "        \"num_layers\": tune.quniform(2, 10, 1),\n",
    "        \"num_models\": 5,\n",
    "        \"lr\": tune.loguniform(1e-4, 1e-1),\n",
    "        \"epochs\": max_num_epochs,\n",
    "        \"patience\": tune.quniform(1, 50, 1),\n",
    "        \"batch_size\": tune.quniform(1, 5, 1)\n",
    "    }\n",
    "\n",
    "    from ray.tune.search import ConcurrencyLimiter\n",
    "    from ray.tune.search.bayesopt import BayesOptSearch\n",
    "    algo = BayesOptSearch(utility_kwargs={\"kind\": \"ucb\", \"kappa\": 2.5, \"xi\": 0.0})\n",
    "    algo = ConcurrencyLimiter(algo, max_concurrent=40)\n",
    "\n",
    "    result = tune.run(\n",
    "            tune.with_parameters(train_de),\n",
    "            config=config,\n",
    "            resources_per_trial={\"cpu\": 1},\n",
    "            metric=\"best_val_loss\",\n",
    "            mode=\"min\",\n",
    "            search_alg=algo,\n",
    "            num_samples=num_samples,\n",
    "            # max_concurrent_trials=20,\n",
    "            local_dir= f'/home/sgupta/WORK/Triplevel_transformer_model/baselines/hyperparameter_search',\n",
    "            name=f\"experiment_de\",\n",
    "            max_failures=7,\n",
    "            raise_on_failed_trial=False\n",
    "        )\n",
    "\n",
    "    temp = result.dataframe()   \n",
    "    hyperparams_path = f'./hyperparameter_search/'\n",
    "    temp.to_csv(f\"{hyperparams_path}/RAY_RESULTS_de.csv\")\n"
   ]
  },
  {
   "cell_type": "code",
   "execution_count": 10,
   "metadata": {},
   "outputs": [
    {
     "name": "stderr",
     "output_type": "stream",
     "text": [
      "2023-11-28 15:37:57,286\tINFO worker.py:1612 -- Started a local Ray instance. View the dashboard at \u001b[1m\u001b[32m127.0.0.1:8265 \u001b[39m\u001b[22m\n",
      "2023-11-28 15:37:58,379\tINFO tune.py:657 -- [output] This uses the legacy output and progress reporter, as Jupyter notebooks are not supported by the new engine, yet. For more information, please see https://github.com/ray-project/ray/issues/36949\n",
      "2023-11-28 15:37:58,397\tWARNING bayesopt_search.py:421 -- BayesOpt search does not support quantization. Dropped quantization.\n",
      "2023-11-28 15:37:58,398\tWARNING bayesopt_search.py:431 -- BayesOpt does not support specific sampling methods. The Uniform sampler will be dropped.\n",
      "2023-11-28 15:37:58,398\tWARNING bayesopt_search.py:421 -- BayesOpt search does not support quantization. Dropped quantization.\n",
      "2023-11-28 15:37:58,399\tWARNING bayesopt_search.py:431 -- BayesOpt does not support specific sampling methods. The Uniform sampler will be dropped.\n",
      "2023-11-28 15:37:58,400\tWARNING bayesopt_search.py:421 -- BayesOpt search does not support quantization. Dropped quantization.\n",
      "2023-11-28 15:37:58,400\tWARNING bayesopt_search.py:431 -- BayesOpt does not support specific sampling methods. The Uniform sampler will be dropped.\n",
      "2023-11-28 15:37:58,401\tWARNING bayesopt_search.py:431 -- BayesOpt does not support specific sampling methods. The LogUniform sampler will be dropped.\n",
      "2023-11-28 15:37:58,402\tWARNING bayesopt_search.py:421 -- BayesOpt search does not support quantization. Dropped quantization.\n",
      "2023-11-28 15:37:58,402\tWARNING bayesopt_search.py:431 -- BayesOpt does not support specific sampling methods. The Uniform sampler will be dropped.\n",
      "2023-11-28 15:37:58,403\tWARNING bayesopt_search.py:421 -- BayesOpt search does not support quantization. Dropped quantization.\n",
      "2023-11-28 15:37:58,404\tWARNING bayesopt_search.py:431 -- BayesOpt does not support specific sampling methods. The Uniform sampler will be dropped.\n"
     ]
    },
    {
     "data": {
      "text/html": [
       "<div class=\"tuneStatus\">\n",
       "  <div style=\"display: flex;flex-direction: row\">\n",
       "    <div style=\"display: flex;flex-direction: column;\">\n",
       "      <h3>Tune Status</h3>\n",
       "      <table>\n",
       "<tbody>\n",
       "<tr><td>Current time:</td><td>2023-11-28 16:35:12</td></tr>\n",
       "<tr><td>Running for: </td><td>00:57:14.52        </td></tr>\n",
       "<tr><td>Memory:      </td><td>14.8/125.5 GiB     </td></tr>\n",
       "</tbody>\n",
       "</table>\n",
       "    </div>\n",
       "    <div class=\"vDivider\"></div>\n",
       "    <div class=\"systemInfo\">\n",
       "      <h3>System Info</h3>\n",
       "      Using FIFO scheduling algorithm.<br>Logical resource usage: 1.0/36 CPUs, 0/1 GPUs (0.0/1.0 accelerator_type:G)\n",
       "    </div>\n",
       "    \n",
       "  </div>\n",
       "  <div class=\"hDivider\"></div>\n",
       "  <div class=\"trialStatus\">\n",
       "    <h3>Trial Status</h3>\n",
       "    <table>\n",
       "<thead>\n",
       "<tr><th>Trial name       </th><th>status    </th><th>loc                </th><th style=\"text-align: right;\">  batch_size</th><th style=\"text-align: right;\">  hidden_size</th><th style=\"text-align: right;\">         lr</th><th style=\"text-align: right;\">  num_layers</th><th style=\"text-align: right;\">  num_models</th><th style=\"text-align: right;\">  patience</th><th style=\"text-align: right;\">  iter</th><th style=\"text-align: right;\">  total time (s)</th><th style=\"text-align: right;\">   train_loss</th><th style=\"text-align: right;\">  best_val_loss</th></tr>\n",
       "</thead>\n",
       "<tbody>\n",
       "<tr><td>train_de_5f97398a</td><td>TERMINATED</td><td>10.2.219.10:3622506</td><td style=\"text-align: right;\">     8.11626</td><td style=\"text-align: right;\">    190.192  </td><td style=\"text-align: right;\">0.0732262  </td><td style=\"text-align: right;\">     6.78927</td><td style=\"text-align: right;\">     4.09213</td><td style=\"text-align: right;\">   8.64373</td><td style=\"text-align: right;\">     1</td><td style=\"text-align: right;\">         6.68713</td><td style=\"text-align: right;\">nan          </td><td style=\"text-align: right;\">   inf         </td></tr>\n",
       "<tr><td>train_de_64c17cd8</td><td>TERMINATED</td><td>10.2.219.10:3622578</td><td style=\"text-align: right;\">     2.10359</td><td style=\"text-align: right;\">    173.369  </td><td style=\"text-align: right;\">0.0601514  </td><td style=\"text-align: right;\">     7.66458</td><td style=\"text-align: right;\">     3.14409</td><td style=\"text-align: right;\">  48.5256 </td><td style=\"text-align: right;\">     1</td><td style=\"text-align: right;\">       102.533  </td><td style=\"text-align: right;\">nan          </td><td style=\"text-align: right;\">   inf         </td></tr>\n",
       "<tr><td>train_de_0afa3c6b</td><td>TERMINATED</td><td>10.2.219.10:3622506</td><td style=\"text-align: right;\">    16.8164 </td><td style=\"text-align: right;\">     43.2555 </td><td style=\"text-align: right;\">0.0182643  </td><td style=\"text-align: right;\">     3.46724</td><td style=\"text-align: right;\">     5.1297 </td><td style=\"text-align: right;\">  26.7131 </td><td style=\"text-align: right;\">     1</td><td style=\"text-align: right;\">         8.63908</td><td style=\"text-align: right;\"> -0.126498   </td><td style=\"text-align: right;\">     0.183864  </td></tr>\n",
       "<tr><td>train_de_1c8877a9</td><td>TERMINATED</td><td>10.2.219.10:3623037</td><td style=\"text-align: right;\">     9.20696</td><td style=\"text-align: right;\">     58.9546 </td><td style=\"text-align: right;\">0.0612241  </td><td style=\"text-align: right;\">     3.11595</td><td style=\"text-align: right;\">     5.04501</td><td style=\"text-align: right;\">  18.9517 </td><td style=\"text-align: right;\">     1</td><td style=\"text-align: right;\">        12.3669 </td><td style=\"text-align: right;\">  0.0972924  </td><td style=\"text-align: right;\">     0.182269  </td></tr>\n",
       "<tr><td>train_de_3ee8d5f5</td><td>TERMINATED</td><td>10.2.219.10:3623099</td><td style=\"text-align: right;\">     9.66533</td><td style=\"text-align: right;\">    157.25   </td><td style=\"text-align: right;\">0.0200474  </td><td style=\"text-align: right;\">     6.11388</td><td style=\"text-align: right;\">     7.1469 </td><td style=\"text-align: right;\">   3.27607</td><td style=\"text-align: right;\">     1</td><td style=\"text-align: right;\">        11.2525 </td><td style=\"text-align: right;\">  0.324224   </td><td style=\"text-align: right;\">     0.17957   </td></tr>\n",
       "<tr><td>train_de_aad798e8</td><td>TERMINATED</td><td>10.2.219.10:3622506</td><td style=\"text-align: right;\">    12.5434 </td><td style=\"text-align: right;\">     34.9343 </td><td style=\"text-align: right;\">0.00659865 </td><td style=\"text-align: right;\">     9.59108</td><td style=\"text-align: right;\">     9.75942</td><td style=\"text-align: right;\">  40.6115 </td><td style=\"text-align: right;\">     1</td><td style=\"text-align: right;\">        44.4991 </td><td style=\"text-align: right;\"> -0.0603344  </td><td style=\"text-align: right;\">     0.189073  </td></tr>\n",
       "<tr><td>train_de_69986faa</td><td>TERMINATED</td><td>10.2.219.10:3623191</td><td style=\"text-align: right;\">     6.78766</td><td style=\"text-align: right;\">     20.4368 </td><td style=\"text-align: right;\">0.0684549  </td><td style=\"text-align: right;\">     5.52122</td><td style=\"text-align: right;\">     3.85427</td><td style=\"text-align: right;\">  25.2637 </td><td style=\"text-align: right;\">     1</td><td style=\"text-align: right;\">        35.9626 </td><td style=\"text-align: right;\">  0.255053   </td><td style=\"text-align: right;\">     0.184442  </td></tr>\n",
       "<tr><td>train_de_89610e8a</td><td>TERMINATED</td><td>10.2.219.10:3623262</td><td style=\"text-align: right;\">     1.65338</td><td style=\"text-align: right;\">    181.955  </td><td style=\"text-align: right;\">0.0259521  </td><td style=\"text-align: right;\">     7.30018</td><td style=\"text-align: right;\">     5.18198</td><td style=\"text-align: right;\">  26.4833 </td><td style=\"text-align: right;\">     1</td><td style=\"text-align: right;\">       323.956  </td><td style=\"text-align: right;\">nan          </td><td style=\"text-align: right;\">   inf         </td></tr>\n",
       "<tr><td>train_de_2eae20f1</td><td>TERMINATED</td><td>10.2.219.10:3623037</td><td style=\"text-align: right;\">    11.3875 </td><td style=\"text-align: right;\">     37.786  </td><td style=\"text-align: right;\">0.0969615  </td><td style=\"text-align: right;\">     8.20106</td><td style=\"text-align: right;\">     9.57649</td><td style=\"text-align: right;\">  44.8465 </td><td style=\"text-align: right;\">     1</td><td style=\"text-align: right;\">        47.7225 </td><td style=\"text-align: right;\">nan          </td><td style=\"text-align: right;\">   inf         </td></tr>\n",
       "<tr><td>train_de_d42bc068</td><td>TERMINATED</td><td>10.2.219.10:3623099</td><td style=\"text-align: right;\">    12.3601 </td><td style=\"text-align: right;\">    184.453  </td><td style=\"text-align: right;\">0.0089404  </td><td style=\"text-align: right;\">     3.56786</td><td style=\"text-align: right;\">     3.31659</td><td style=\"text-align: right;\">  16.9412 </td><td style=\"text-align: right;\">     1</td><td style=\"text-align: right;\">         6.08139</td><td style=\"text-align: right;\"> -0.100723   </td><td style=\"text-align: right;\">     0.189837  </td></tr>\n",
       "<tr><td>train_de_e0993e46</td><td>TERMINATED</td><td>10.2.219.10:3623099</td><td style=\"text-align: right;\">    11.9233 </td><td style=\"text-align: right;\">    184.083  </td><td style=\"text-align: right;\">0.0047358  </td><td style=\"text-align: right;\">     4.74089</td><td style=\"text-align: right;\">     3.15965</td><td style=\"text-align: right;\">  14.3403 </td><td style=\"text-align: right;\">     1</td><td style=\"text-align: right;\">        15.5277 </td><td style=\"text-align: right;\">  0.0313013  </td><td style=\"text-align: right;\">     0.171854  </td></tr>\n",
       "<tr><td>train_de_957655d0</td><td>TERMINATED</td><td>10.2.219.10:3626469</td><td style=\"text-align: right;\">    11.1909 </td><td style=\"text-align: right;\">    181.91   </td><td style=\"text-align: right;\">0.0129355  </td><td style=\"text-align: right;\">     3.90798</td><td style=\"text-align: right;\">     4.13974</td><td style=\"text-align: right;\">  19.3788 </td><td style=\"text-align: right;\">     1</td><td style=\"text-align: right;\">        30.4523 </td><td style=\"text-align: right;\">  0.203584   </td><td style=\"text-align: right;\">     0.17902   </td></tr>\n",
       "<tr><td>train_de_ed7b214b</td><td>TERMINATED</td><td>10.2.219.10:3626519</td><td style=\"text-align: right;\">    13.8926 </td><td style=\"text-align: right;\">     35.8116 </td><td style=\"text-align: right;\">0.0100864  </td><td style=\"text-align: right;\">     9.03355</td><td style=\"text-align: right;\">     9.15415</td><td style=\"text-align: right;\">  38.6556 </td><td style=\"text-align: right;\">     1</td><td style=\"text-align: right;\">        81.0208 </td><td style=\"text-align: right;\">  0.150302   </td><td style=\"text-align: right;\">     0.181073  </td></tr>\n",
       "<tr><td>train_de_4827adba</td><td>TERMINATED</td><td>10.2.219.10:3626583</td><td style=\"text-align: right;\">    13.8906 </td><td style=\"text-align: right;\">    184.22   </td><td style=\"text-align: right;\">0.0684941  </td><td style=\"text-align: right;\">     3.37158</td><td style=\"text-align: right;\">     3.52976</td><td style=\"text-align: right;\">  17.9247 </td><td style=\"text-align: right;\">     1</td><td style=\"text-align: right;\">         4.93206</td><td style=\"text-align: right;\">nan          </td><td style=\"text-align: right;\">   inf         </td></tr>\n",
       "<tr><td>train_de_4826320b</td><td>TERMINATED</td><td>10.2.219.10:3626657</td><td style=\"text-align: right;\">    13.4834 </td><td style=\"text-align: right;\">    185.906  </td><td style=\"text-align: right;\">0.0819306  </td><td style=\"text-align: right;\">     3.06492</td><td style=\"text-align: right;\">     3.08157</td><td style=\"text-align: right;\">  17.4853 </td><td style=\"text-align: right;\">     1</td><td style=\"text-align: right;\">        38.4607 </td><td style=\"text-align: right;\">  0.156269   </td><td style=\"text-align: right;\">     0.181686  </td></tr>\n",
       "<tr><td>train_de_f6fe5d68</td><td>TERMINATED</td><td>10.2.219.10:3626583</td><td style=\"text-align: right;\">    13.398  </td><td style=\"text-align: right;\">     36.9091 </td><td style=\"text-align: right;\">0.0310767  </td><td style=\"text-align: right;\">     8.81909</td><td style=\"text-align: right;\">     8.75483</td><td style=\"text-align: right;\">  41.6231 </td><td style=\"text-align: right;\">     1</td><td style=\"text-align: right;\">        65.2535 </td><td style=\"text-align: right;\">  0.603456   </td><td style=\"text-align: right;\">     0.179816  </td></tr>\n",
       "<tr><td>train_de_0adc45c4</td><td>TERMINATED</td><td>10.2.219.10:3623099</td><td style=\"text-align: right;\">     9.69004</td><td style=\"text-align: right;\">    184.751  </td><td style=\"text-align: right;\">0.0108449  </td><td style=\"text-align: right;\">     3.89917</td><td style=\"text-align: right;\">     3.85134</td><td style=\"text-align: right;\">  16.6937 </td><td style=\"text-align: right;\">     1</td><td style=\"text-align: right;\">        13.3967 </td><td style=\"text-align: right;\">  0.357136   </td><td style=\"text-align: right;\">     0.18192   </td></tr>\n",
       "<tr><td>train_de_85934767</td><td>TERMINATED</td><td>10.2.219.10:3626795</td><td style=\"text-align: right;\">    15.0111 </td><td style=\"text-align: right;\">    158.521  </td><td style=\"text-align: right;\">0.0576836  </td><td style=\"text-align: right;\">     5.12398</td><td style=\"text-align: right;\">     7.00615</td><td style=\"text-align: right;\">   4.64874</td><td style=\"text-align: right;\">     1</td><td style=\"text-align: right;\">         3.12334</td><td style=\"text-align: right;\">nan          </td><td style=\"text-align: right;\">   inf         </td></tr>\n",
       "<tr><td>train_de_c0e462d8</td><td>TERMINATED</td><td>10.2.219.10:3626795</td><td style=\"text-align: right;\">    14.7191 </td><td style=\"text-align: right;\">      6.70887</td><td style=\"text-align: right;\">0.0773855  </td><td style=\"text-align: right;\">     7.33236</td><td style=\"text-align: right;\">     7.82993</td><td style=\"text-align: right;\">  27.2818 </td><td style=\"text-align: right;\">     1</td><td style=\"text-align: right;\">        50.4489 </td><td style=\"text-align: right;\">  0.185157   </td><td style=\"text-align: right;\">     0.172441  </td></tr>\n",
       "<tr><td>train_de_485d1d5e</td><td>TERMINATED</td><td>10.2.219.10:3626920</td><td style=\"text-align: right;\">    17.635  </td><td style=\"text-align: right;\">     67.5773 </td><td style=\"text-align: right;\">0.0336624  </td><td style=\"text-align: right;\">     9.52634</td><td style=\"text-align: right;\">     6.83335</td><td style=\"text-align: right;\">  11.9825 </td><td style=\"text-align: right;\">     1</td><td style=\"text-align: right;\">        15.0855 </td><td style=\"text-align: right;\">  0.322948   </td><td style=\"text-align: right;\">     0.189902  </td></tr>\n",
       "<tr><td>train_de_65823bc2</td><td>TERMINATED</td><td>10.2.219.10:3623099</td><td style=\"text-align: right;\">     9.33268</td><td style=\"text-align: right;\">    196.233  </td><td style=\"text-align: right;\">0.0265511  </td><td style=\"text-align: right;\">     6.19896</td><td style=\"text-align: right;\">     4.97333</td><td style=\"text-align: right;\">  28.9938 </td><td style=\"text-align: right;\">     1</td><td style=\"text-align: right;\">        97.7016 </td><td style=\"text-align: right;\">  0.148997   </td><td style=\"text-align: right;\">     0.176214  </td></tr>\n",
       "<tr><td>train_de_06d07525</td><td>TERMINATED</td><td>10.2.219.10:3627048</td><td style=\"text-align: right;\">     3.25617</td><td style=\"text-align: right;\">     71.0074 </td><td style=\"text-align: right;\">0.0745425  </td><td style=\"text-align: right;\">     7.45121</td><td style=\"text-align: right;\">     6.95019</td><td style=\"text-align: right;\">  18.51   </td><td style=\"text-align: right;\">     1</td><td style=\"text-align: right;\">        67.9721 </td><td style=\"text-align: right;\">nan          </td><td style=\"text-align: right;\">     0.288157  </td></tr>\n",
       "<tr><td>train_de_34a18c0f</td><td>TERMINATED</td><td>10.2.219.10:3626469</td><td style=\"text-align: right;\">     7.59925</td><td style=\"text-align: right;\">    135.839  </td><td style=\"text-align: right;\">0.0487765  </td><td style=\"text-align: right;\">     2.73327</td><td style=\"text-align: right;\">     3.10636</td><td style=\"text-align: right;\">  11.8191 </td><td style=\"text-align: right;\">     1</td><td style=\"text-align: right;\">        12.3987 </td><td style=\"text-align: right;\">  0.203867   </td><td style=\"text-align: right;\">     0.190618  </td></tr>\n",
       "<tr><td>train_de_93a95290</td><td>TERMINATED</td><td>10.2.219.10:3627183</td><td style=\"text-align: right;\">    13.343  </td><td style=\"text-align: right;\">    174.156  </td><td style=\"text-align: right;\">0.0559686  </td><td style=\"text-align: right;\">     4.6458 </td><td style=\"text-align: right;\">     9.65425</td><td style=\"text-align: right;\">  28.2994 </td><td style=\"text-align: right;\">     1</td><td style=\"text-align: right;\">        34.1014 </td><td style=\"text-align: right;\">nan          </td><td style=\"text-align: right;\">   inf         </td></tr>\n",
       "<tr><td>train_de_8ae7bf30</td><td>TERMINATED</td><td>10.2.219.10:3626920</td><td style=\"text-align: right;\">    10.9513 </td><td style=\"text-align: right;\">     28.7934 </td><td style=\"text-align: right;\">0.0477653  </td><td style=\"text-align: right;\">     6.26755</td><td style=\"text-align: right;\">     3.77681</td><td style=\"text-align: right;\">  15.6059 </td><td style=\"text-align: right;\">     1</td><td style=\"text-align: right;\">        12.9668 </td><td style=\"text-align: right;\">  0.385245   </td><td style=\"text-align: right;\">     0.191155  </td></tr>\n",
       "<tr><td>train_de_74b2a20a</td><td>TERMINATED</td><td>10.2.219.10:3627323</td><td style=\"text-align: right;\">     5.29003</td><td style=\"text-align: right;\">     22.008  </td><td style=\"text-align: right;\">0.01587    </td><td style=\"text-align: right;\">     6.28442</td><td style=\"text-align: right;\">     8.5483 </td><td style=\"text-align: right;\">  37.886  </td><td style=\"text-align: right;\">     1</td><td style=\"text-align: right;\">        80.5608 </td><td style=\"text-align: right;\">  0.222488   </td><td style=\"text-align: right;\">     0.188657  </td></tr>\n",
       "<tr><td>train_de_ef996992</td><td>TERMINATED</td><td>10.2.219.10:3626469</td><td style=\"text-align: right;\">     5.21719</td><td style=\"text-align: right;\">    125.538  </td><td style=\"text-align: right;\">0.0592097  </td><td style=\"text-align: right;\">     2.10216</td><td style=\"text-align: right;\">     8.77639</td><td style=\"text-align: right;\">  14.2138 </td><td style=\"text-align: right;\">     1</td><td style=\"text-align: right;\">        21.5785 </td><td style=\"text-align: right;\">nan          </td><td style=\"text-align: right;\">     4.64897   </td></tr>\n",
       "<tr><td>train_de_101a4478</td><td>TERMINATED</td><td>10.2.219.10:3627392</td><td style=\"text-align: right;\">     2.98339</td><td style=\"text-align: right;\">    148.651  </td><td style=\"text-align: right;\">0.0583838  </td><td style=\"text-align: right;\">     9.3861 </td><td style=\"text-align: right;\">     4.32046</td><td style=\"text-align: right;\">  10.7187 </td><td style=\"text-align: right;\">     1</td><td style=\"text-align: right;\">        43.6594 </td><td style=\"text-align: right;\">nan          </td><td style=\"text-align: right;\">   inf         </td></tr>\n",
       "<tr><td>train_de_4d8e175e</td><td>TERMINATED</td><td>10.2.219.10:3626657</td><td style=\"text-align: right;\">    18.3738 </td><td style=\"text-align: right;\">     27.4167 </td><td style=\"text-align: right;\">0.0499852  </td><td style=\"text-align: right;\">     8.20016</td><td style=\"text-align: right;\">     6.52436</td><td style=\"text-align: right;\">   5.02516</td><td style=\"text-align: right;\">     1</td><td style=\"text-align: right;\">         2.8808 </td><td style=\"text-align: right;\">  0.0650693  </td><td style=\"text-align: right;\">     0.175273  </td></tr>\n",
       "<tr><td>train_de_1c7106a3</td><td>TERMINATED</td><td>10.2.219.10:3626920</td><td style=\"text-align: right;\">    12.9781 </td><td style=\"text-align: right;\">     41.5334 </td><td style=\"text-align: right;\">0.031332   </td><td style=\"text-align: right;\">     3.58715</td><td style=\"text-align: right;\">     4.11691</td><td style=\"text-align: right;\">  48.626  </td><td style=\"text-align: right;\">     1</td><td style=\"text-align: right;\">        19.1391 </td><td style=\"text-align: right;\">  0.139956   </td><td style=\"text-align: right;\">     0.186724  </td></tr>\n",
       "<tr><td>train_de_57716f4c</td><td>TERMINATED</td><td>10.2.219.10:3626657</td><td style=\"text-align: right;\">    16.7417 </td><td style=\"text-align: right;\">    140.777  </td><td style=\"text-align: right;\">0.0117628  </td><td style=\"text-align: right;\">     5.36104</td><td style=\"text-align: right;\">     3.47865</td><td style=\"text-align: right;\">   2.83182</td><td style=\"text-align: right;\">     1</td><td style=\"text-align: right;\">         2.41058</td><td style=\"text-align: right;\"> -0.224089   </td><td style=\"text-align: right;\">     0.188891  </td></tr>\n",
       "<tr><td>train_de_08935e9e</td><td>TERMINATED</td><td>10.2.219.10:3626657</td><td style=\"text-align: right;\">     6.42199</td><td style=\"text-align: right;\">    114.51   </td><td style=\"text-align: right;\">0.0742164  </td><td style=\"text-align: right;\">     9.30551</td><td style=\"text-align: right;\">     3.55522</td><td style=\"text-align: right;\">  35.6404 </td><td style=\"text-align: right;\">     1</td><td style=\"text-align: right;\">        35.0889 </td><td style=\"text-align: right;\">nan          </td><td style=\"text-align: right;\">   inf         </td></tr>\n",
       "<tr><td>train_de_a0baec28</td><td>TERMINATED</td><td>10.2.219.10:3627693</td><td style=\"text-align: right;\">    11.1882 </td><td style=\"text-align: right;\">    197.925  </td><td style=\"text-align: right;\">0.066392   </td><td style=\"text-align: right;\">     2.02888</td><td style=\"text-align: right;\">     6.50075</td><td style=\"text-align: right;\">  15.4612 </td><td style=\"text-align: right;\">     1</td><td style=\"text-align: right;\">         9.87241</td><td style=\"text-align: right;\">nan          </td><td style=\"text-align: right;\">   inf         </td></tr>\n",
       "<tr><td>train_de_36da212d</td><td>TERMINATED</td><td>10.2.219.10:3627776</td><td style=\"text-align: right;\">     2.24446</td><td style=\"text-align: right;\">     64.3104 </td><td style=\"text-align: right;\">0.0433583  </td><td style=\"text-align: right;\">     9.98923</td><td style=\"text-align: right;\">     3.45015</td><td style=\"text-align: right;\">  35.1136 </td><td style=\"text-align: right;\">     1</td><td style=\"text-align: right;\">       137.468  </td><td style=\"text-align: right;\">  0.291567   </td><td style=\"text-align: right;\">     0.190985  </td></tr>\n",
       "<tr><td>train_de_59835036</td><td>TERMINATED</td><td>10.2.219.10:3626469</td><td style=\"text-align: right;\">    11.1466 </td><td style=\"text-align: right;\">     95.1088 </td><td style=\"text-align: right;\">0.00220158 </td><td style=\"text-align: right;\">     6.62816</td><td style=\"text-align: right;\">     7.40718</td><td style=\"text-align: right;\">  31.9686 </td><td style=\"text-align: right;\">     1</td><td style=\"text-align: right;\">        63.7524 </td><td style=\"text-align: right;\">  0.263396   </td><td style=\"text-align: right;\">     0.16553   </td></tr>\n",
       "<tr><td>train_de_b8017a68</td><td>TERMINATED</td><td>10.2.219.10:3627183</td><td style=\"text-align: right;\">     4.18502</td><td style=\"text-align: right;\">    121.104  </td><td style=\"text-align: right;\">0.0637591  </td><td style=\"text-align: right;\">     2      </td><td style=\"text-align: right;\">    10      </td><td style=\"text-align: right;\">  15.2557 </td><td style=\"text-align: right;\">     1</td><td style=\"text-align: right;\">        35.2937 </td><td style=\"text-align: right;\">nan          </td><td style=\"text-align: right;\">   inf         </td></tr>\n",
       "<tr><td>train_de_1c29c3d1</td><td>TERMINATED</td><td>10.2.219.10:3627693</td><td style=\"text-align: right;\">     4.18506</td><td style=\"text-align: right;\">    121.104  </td><td style=\"text-align: right;\">0.0637623  </td><td style=\"text-align: right;\">     2      </td><td style=\"text-align: right;\">    10      </td><td style=\"text-align: right;\">  15.2557 </td><td style=\"text-align: right;\">     1</td><td style=\"text-align: right;\">       107.349  </td><td style=\"text-align: right;\">  0.42633    </td><td style=\"text-align: right;\">     0.171874  </td></tr>\n",
       "<tr><td>train_de_332abee6</td><td>TERMINATED</td><td>10.2.219.10:3626795</td><td style=\"text-align: right;\">     4.18493</td><td style=\"text-align: right;\">    121.104  </td><td style=\"text-align: right;\">0.0637664  </td><td style=\"text-align: right;\">     2      </td><td style=\"text-align: right;\">    10      </td><td style=\"text-align: right;\">  15.2557 </td><td style=\"text-align: right;\">     1</td><td style=\"text-align: right;\">       103.618  </td><td style=\"text-align: right;\">  0.282614   </td><td style=\"text-align: right;\">     0.159858  </td></tr>\n",
       "<tr><td>train_de_fd617429</td><td>TERMINATED</td><td>10.2.219.10:3626920</td><td style=\"text-align: right;\">     4.2346 </td><td style=\"text-align: right;\">    121.32   </td><td style=\"text-align: right;\">0.0635252  </td><td style=\"text-align: right;\">     2      </td><td style=\"text-align: right;\">    10      </td><td style=\"text-align: right;\">  15.2053 </td><td style=\"text-align: right;\">     1</td><td style=\"text-align: right;\">        35.1951 </td><td style=\"text-align: right;\">nan          </td><td style=\"text-align: right;\">   inf         </td></tr>\n",
       "<tr><td>train_de_7867561d</td><td>TERMINATED</td><td>10.2.219.10:3628001</td><td style=\"text-align: right;\">     4.26986</td><td style=\"text-align: right;\">    121.466  </td><td style=\"text-align: right;\">0.063366   </td><td style=\"text-align: right;\">     2      </td><td style=\"text-align: right;\">    10      </td><td style=\"text-align: right;\">  15.1695 </td><td style=\"text-align: right;\">     1</td><td style=\"text-align: right;\">        65.4171 </td><td style=\"text-align: right;\">  0.0229534  </td><td style=\"text-align: right;\">     0.171844  </td></tr>\n",
       "<tr><td>train_de_6e09a4a7</td><td>TERMINATED</td><td>10.2.219.10:3626583</td><td style=\"text-align: right;\">     4.26986</td><td style=\"text-align: right;\">    121.466  </td><td style=\"text-align: right;\">0.0633777  </td><td style=\"text-align: right;\">     2      </td><td style=\"text-align: right;\">    10      </td><td style=\"text-align: right;\">  15.1695 </td><td style=\"text-align: right;\">     1</td><td style=\"text-align: right;\">        59.8288 </td><td style=\"text-align: right;\">  0.366828   </td><td style=\"text-align: right;\">     0.161913  </td></tr>\n",
       "<tr><td>train_de_160c630d</td><td>TERMINATED</td><td>10.2.219.10:3628196</td><td style=\"text-align: right;\">     4.21942</td><td style=\"text-align: right;\">    121.161  </td><td style=\"text-align: right;\">0.0635947  </td><td style=\"text-align: right;\">     2      </td><td style=\"text-align: right;\">    10      </td><td style=\"text-align: right;\">  15.2208 </td><td style=\"text-align: right;\">     1</td><td style=\"text-align: right;\">        76.2071 </td><td style=\"text-align: right;\"> -0.274395   </td><td style=\"text-align: right;\">     0.167974  </td></tr>\n",
       "<tr><td>train_de_6492a0b9</td><td>TERMINATED</td><td>10.2.219.10:3626519</td><td style=\"text-align: right;\">     4.21952</td><td style=\"text-align: right;\">    121.16   </td><td style=\"text-align: right;\">0.0635845  </td><td style=\"text-align: right;\">     2      </td><td style=\"text-align: right;\">    10      </td><td style=\"text-align: right;\">  15.2207 </td><td style=\"text-align: right;\">     1</td><td style=\"text-align: right;\">       201.463  </td><td style=\"text-align: right;\"> -0.157176   </td><td style=\"text-align: right;\">     0.17532   </td></tr>\n",
       "<tr><td>train_de_44da3bae</td><td>TERMINATED</td><td>10.2.219.10:3626657</td><td style=\"text-align: right;\">     4.19025</td><td style=\"text-align: right;\">    120.955  </td><td style=\"text-align: right;\">0.063691   </td><td style=\"text-align: right;\">     2      </td><td style=\"text-align: right;\">    10      </td><td style=\"text-align: right;\">  15.2503 </td><td style=\"text-align: right;\">     1</td><td style=\"text-align: right;\">        99.4411 </td><td style=\"text-align: right;\"> -0.0801144  </td><td style=\"text-align: right;\">     0.186459  </td></tr>\n",
       "<tr><td>train_de_ea668b84</td><td>TERMINATED</td><td>10.2.219.10:3627392</td><td style=\"text-align: right;\">     4.19016</td><td style=\"text-align: right;\">    120.955  </td><td style=\"text-align: right;\">0.0636931  </td><td style=\"text-align: right;\">     2      </td><td style=\"text-align: right;\">    10      </td><td style=\"text-align: right;\">  15.2503 </td><td style=\"text-align: right;\">     1</td><td style=\"text-align: right;\">        41.5278 </td><td style=\"text-align: right;\">nan          </td><td style=\"text-align: right;\">     1.63645   </td></tr>\n",
       "<tr><td>train_de_b914b723</td><td>TERMINATED</td><td>10.2.219.10:3628419</td><td style=\"text-align: right;\">     4.19008</td><td style=\"text-align: right;\">    120.955  </td><td style=\"text-align: right;\">0.0637187  </td><td style=\"text-align: right;\">     2      </td><td style=\"text-align: right;\">    10      </td><td style=\"text-align: right;\">  15.2503 </td><td style=\"text-align: right;\">     1</td><td style=\"text-align: right;\">       109.04   </td><td style=\"text-align: right;\"> -0.10811    </td><td style=\"text-align: right;\">     0.169532  </td></tr>\n",
       "<tr><td>train_de_12b68faa</td><td>TERMINATED</td><td>10.2.219.10:3627048</td><td style=\"text-align: right;\">     4.19016</td><td style=\"text-align: right;\">    120.955  </td><td style=\"text-align: right;\">0.063738   </td><td style=\"text-align: right;\">     2      </td><td style=\"text-align: right;\">    10      </td><td style=\"text-align: right;\">  15.2503 </td><td style=\"text-align: right;\">     1</td><td style=\"text-align: right;\">        98.0522 </td><td style=\"text-align: right;\">  0.13994    </td><td style=\"text-align: right;\">     0.164033  </td></tr>\n",
       "<tr><td>train_de_41085ca8</td><td>TERMINATED</td><td>10.2.219.10:3628561</td><td style=\"text-align: right;\">     4.22043</td><td style=\"text-align: right;\">    121.096  </td><td style=\"text-align: right;\">0.0636655  </td><td style=\"text-align: right;\">     2      </td><td style=\"text-align: right;\">    10      </td><td style=\"text-align: right;\">  15.2197 </td><td style=\"text-align: right;\">     1</td><td style=\"text-align: right;\">       107.198  </td><td style=\"text-align: right;\">  0.0698052  </td><td style=\"text-align: right;\">     0.169203  </td></tr>\n",
       "<tr><td>train_de_68f0a5de</td><td>TERMINATED</td><td>10.2.219.10:3627183</td><td style=\"text-align: right;\">     4.22036</td><td style=\"text-align: right;\">    121.097  </td><td style=\"text-align: right;\">0.0635569  </td><td style=\"text-align: right;\">     2      </td><td style=\"text-align: right;\">    10      </td><td style=\"text-align: right;\">  15.2197 </td><td style=\"text-align: right;\">     1</td><td style=\"text-align: right;\">       109.749  </td><td style=\"text-align: right;\">  0.111947   </td><td style=\"text-align: right;\">     0.151761  </td></tr>\n",
       "<tr><td>train_de_e49377ea</td><td>TERMINATED</td><td>10.2.219.10:3626920</td><td style=\"text-align: right;\">     4.2204 </td><td style=\"text-align: right;\">    121.096  </td><td style=\"text-align: right;\">0.0636428  </td><td style=\"text-align: right;\">     2      </td><td style=\"text-align: right;\">    10      </td><td style=\"text-align: right;\">  15.2196 </td><td style=\"text-align: right;\">     1</td><td style=\"text-align: right;\">        37.7836 </td><td style=\"text-align: right;\">nan          </td><td style=\"text-align: right;\">   inf         </td></tr>\n",
       "<tr><td>train_de_8435d3f0</td><td>TERMINATED</td><td>10.2.219.10:3628737</td><td style=\"text-align: right;\">     4.22048</td><td style=\"text-align: right;\">    121.096  </td><td style=\"text-align: right;\">0.0635909  </td><td style=\"text-align: right;\">     2      </td><td style=\"text-align: right;\">    10      </td><td style=\"text-align: right;\">  15.2196 </td><td style=\"text-align: right;\">     1</td><td style=\"text-align: right;\">       160.811  </td><td style=\"text-align: right;\">  0.325207   </td><td style=\"text-align: right;\">     0.175275  </td></tr>\n",
       "<tr><td>train_de_f5a936c6</td><td>TERMINATED</td><td>10.2.219.10:3628826</td><td style=\"text-align: right;\">     4.22044</td><td style=\"text-align: right;\">    121.096  </td><td style=\"text-align: right;\">0.0636041  </td><td style=\"text-align: right;\">     2      </td><td style=\"text-align: right;\">    10      </td><td style=\"text-align: right;\">  15.2196 </td><td style=\"text-align: right;\">     1</td><td style=\"text-align: right;\">        48.3397 </td><td style=\"text-align: right;\">nan          </td><td style=\"text-align: right;\">     2.2948    </td></tr>\n",
       "<tr><td>train_de_bbdb7ff4</td><td>TERMINATED</td><td>10.2.219.10:3627323</td><td style=\"text-align: right;\">     4.22049</td><td style=\"text-align: right;\">    121.097  </td><td style=\"text-align: right;\">0.0636022  </td><td style=\"text-align: right;\">     2      </td><td style=\"text-align: right;\">    10      </td><td style=\"text-align: right;\">  15.2197 </td><td style=\"text-align: right;\">     1</td><td style=\"text-align: right;\">       122.525  </td><td style=\"text-align: right;\">  0.338749   </td><td style=\"text-align: right;\">     0.18189   </td></tr>\n",
       "<tr><td>train_de_a4a9bd7a</td><td>TERMINATED</td><td>10.2.219.10:3623099</td><td style=\"text-align: right;\">     4.2345 </td><td style=\"text-align: right;\">    121.143  </td><td style=\"text-align: right;\">0.0635349  </td><td style=\"text-align: right;\">     2      </td><td style=\"text-align: right;\">    10      </td><td style=\"text-align: right;\">  15.2052 </td><td style=\"text-align: right;\">     1</td><td style=\"text-align: right;\">        82.1999 </td><td style=\"text-align: right;\">  0.394873   </td><td style=\"text-align: right;\">     0.165764  </td></tr>\n",
       "<tr><td>train_de_faa9bde8</td><td>TERMINATED</td><td>10.2.219.10:3626469</td><td style=\"text-align: right;\">     4.26201</td><td style=\"text-align: right;\">    121.267  </td><td style=\"text-align: right;\">0.0634653  </td><td style=\"text-align: right;\">     2      </td><td style=\"text-align: right;\">    10      </td><td style=\"text-align: right;\">  15.1774 </td><td style=\"text-align: right;\">     1</td><td style=\"text-align: right;\">       207.717  </td><td style=\"text-align: right;\">  0.25127    </td><td style=\"text-align: right;\">     0.191251  </td></tr>\n",
       "<tr><td>train_de_5d32fa86</td><td>TERMINATED</td><td>10.2.219.10:3627392</td><td style=\"text-align: right;\">     4.26915</td><td style=\"text-align: right;\">    121.54   </td><td style=\"text-align: right;\">0.0634842  </td><td style=\"text-align: right;\">     2      </td><td style=\"text-align: right;\">    10      </td><td style=\"text-align: right;\">  15.0819 </td><td style=\"text-align: right;\">     1</td><td style=\"text-align: right;\">        38.9832 </td><td style=\"text-align: right;\">nan          </td><td style=\"text-align: right;\">   inf         </td></tr>\n",
       "<tr><td>train_de_950c87f3</td><td>TERMINATED</td><td>10.2.219.10:3626583</td><td style=\"text-align: right;\">     5.5932 </td><td style=\"text-align: right;\">    127.397  </td><td style=\"text-align: right;\">0.0576084  </td><td style=\"text-align: right;\">     2      </td><td style=\"text-align: right;\">     9.39671</td><td style=\"text-align: right;\">  13.8305 </td><td style=\"text-align: right;\">     1</td><td style=\"text-align: right;\">        71.5511 </td><td style=\"text-align: right;\">  0.3002     </td><td style=\"text-align: right;\">     0.178159  </td></tr>\n",
       "<tr><td>train_de_857f185c</td><td>TERMINATED</td><td>10.2.219.10:3628001</td><td style=\"text-align: right;\">     7.45941</td><td style=\"text-align: right;\">     54.4895 </td><td style=\"text-align: right;\">0.00530751 </td><td style=\"text-align: right;\">     9.70971</td><td style=\"text-align: right;\">     8.44226</td><td style=\"text-align: right;\">   4.70813</td><td style=\"text-align: right;\">     1</td><td style=\"text-align: right;\">        14.6374 </td><td style=\"text-align: right;\">  0.555685   </td><td style=\"text-align: right;\">     0.191795  </td></tr>\n",
       "<tr><td>train_de_e5b4a090</td><td>TERMINATED</td><td>10.2.219.10:3626920</td><td style=\"text-align: right;\">     4.02377</td><td style=\"text-align: right;\">    180.859  </td><td style=\"text-align: right;\">0.0809525  </td><td style=\"text-align: right;\">     2.23079</td><td style=\"text-align: right;\">     9.85311</td><td style=\"text-align: right;\">   7.07318</td><td style=\"text-align: right;\">     1</td><td style=\"text-align: right;\">        20.952  </td><td style=\"text-align: right;\">nan          </td><td style=\"text-align: right;\">     2.61287   </td></tr>\n",
       "<tr><td>train_de_430736c8</td><td>TERMINATED</td><td>10.2.219.10:3629371</td><td style=\"text-align: right;\">    10.0661 </td><td style=\"text-align: right;\">    121.395  </td><td style=\"text-align: right;\">0.0929765  </td><td style=\"text-align: right;\">     9.27245</td><td style=\"text-align: right;\">     8.15786</td><td style=\"text-align: right;\">  12.1553 </td><td style=\"text-align: right;\">     1</td><td style=\"text-align: right;\">        30.2571 </td><td style=\"text-align: right;\">nan          </td><td style=\"text-align: right;\">   inf         </td></tr>\n",
       "<tr><td>train_de_d8cc7473</td><td>TERMINATED</td><td>10.2.219.10:3628001</td><td style=\"text-align: right;\">     9.74956</td><td style=\"text-align: right;\">    122.231  </td><td style=\"text-align: right;\">0.0639455  </td><td style=\"text-align: right;\">     9.89709</td><td style=\"text-align: right;\">     9.71955</td><td style=\"text-align: right;\">  36.6189 </td><td style=\"text-align: right;\">     1</td><td style=\"text-align: right;\">       133.962  </td><td style=\"text-align: right;\">nan          </td><td style=\"text-align: right;\">   inf         </td></tr>\n",
       "<tr><td>train_de_224beecd</td><td>TERMINATED</td><td>10.2.219.10:3628196</td><td style=\"text-align: right;\">     2.30763</td><td style=\"text-align: right;\">    188.338  </td><td style=\"text-align: right;\">0.0451939  </td><td style=\"text-align: right;\">     2.68366</td><td style=\"text-align: right;\">     6.87859</td><td style=\"text-align: right;\">  39.7084 </td><td style=\"text-align: right;\">     1</td><td style=\"text-align: right;\">       201.51   </td><td style=\"text-align: right;\">nan          </td><td style=\"text-align: right;\">   inf         </td></tr>\n",
       "<tr><td>train_de_3ddc13c1</td><td>TERMINATED</td><td>10.2.219.10:3629615</td><td style=\"text-align: right;\">     5.67436</td><td style=\"text-align: right;\">    163.102  </td><td style=\"text-align: right;\">0.0278681  </td><td style=\"text-align: right;\">     7.94324</td><td style=\"text-align: right;\">     4.52769</td><td style=\"text-align: right;\">  12.7975 </td><td style=\"text-align: right;\">     1</td><td style=\"text-align: right;\">        77.8894 </td><td style=\"text-align: right;\">  0.0350524  </td><td style=\"text-align: right;\">     0.190994  </td></tr>\n",
       "<tr><td>train_de_c219102f</td><td>TERMINATED</td><td>10.2.219.10:3626920</td><td style=\"text-align: right;\">     5.19135</td><td style=\"text-align: right;\">    132.43   </td><td style=\"text-align: right;\">0.0465382  </td><td style=\"text-align: right;\">     7.21168</td><td style=\"text-align: right;\">     9.2968 </td><td style=\"text-align: right;\">  47.8903 </td><td style=\"text-align: right;\">     1</td><td style=\"text-align: right;\">       397.246  </td><td style=\"text-align: right;\">nan          </td><td style=\"text-align: right;\">     0.240024  </td></tr>\n",
       "<tr><td>train_de_c2ecfc97</td><td>TERMINATED</td><td>10.2.219.10:3628826</td><td style=\"text-align: right;\">     9.86038</td><td style=\"text-align: right;\">     64.5043 </td><td style=\"text-align: right;\">0.032725   </td><td style=\"text-align: right;\">     4.47191</td><td style=\"text-align: right;\">     6.44298</td><td style=\"text-align: right;\">   3.35044</td><td style=\"text-align: right;\">     1</td><td style=\"text-align: right;\">         3.36057</td><td style=\"text-align: right;\">  0.0858027  </td><td style=\"text-align: right;\">     0.188899  </td></tr>\n",
       "<tr><td>train_de_5bccb602</td><td>TERMINATED</td><td>10.2.219.10:3628826</td><td style=\"text-align: right;\">    16.3026 </td><td style=\"text-align: right;\">    145.995  </td><td style=\"text-align: right;\">0.0365436  </td><td style=\"text-align: right;\">     5.13755</td><td style=\"text-align: right;\">     6.15642</td><td style=\"text-align: right;\">  33.3388 </td><td style=\"text-align: right;\">     1</td><td style=\"text-align: right;\">        73.3682 </td><td style=\"text-align: right;\">  0.0518507  </td><td style=\"text-align: right;\">     0.18624   </td></tr>\n",
       "<tr><td>train_de_524e9445</td><td>TERMINATED</td><td>10.2.219.10:3627392</td><td style=\"text-align: right;\">     8.55333</td><td style=\"text-align: right;\">    115.503  </td><td style=\"text-align: right;\">0.0794345  </td><td style=\"text-align: right;\">     3.97056</td><td style=\"text-align: right;\">     5.76261</td><td style=\"text-align: right;\">  33.528  </td><td style=\"text-align: right;\">     1</td><td style=\"text-align: right;\">        74.0545 </td><td style=\"text-align: right;\"> -0.0531251  </td><td style=\"text-align: right;\">     0.190359  </td></tr>\n",
       "<tr><td>train_de_8dbc3718</td><td>TERMINATED</td><td>10.2.219.10:3626795</td><td style=\"text-align: right;\">     7.83818</td><td style=\"text-align: right;\">     73.6267 </td><td style=\"text-align: right;\">0.0644225  </td><td style=\"text-align: right;\">     3.25831</td><td style=\"text-align: right;\">     7.68816</td><td style=\"text-align: right;\">  36.4743 </td><td style=\"text-align: right;\">     1</td><td style=\"text-align: right;\">       130.76   </td><td style=\"text-align: right;\"> -0.216887   </td><td style=\"text-align: right;\">     0.189422  </td></tr>\n",
       "<tr><td>train_de_3f474b05</td><td>TERMINATED</td><td>10.2.219.10:3627693</td><td style=\"text-align: right;\">    11.0804 </td><td style=\"text-align: right;\">     38.5815 </td><td style=\"text-align: right;\">0.00806757 </td><td style=\"text-align: right;\">     6.66973</td><td style=\"text-align: right;\">     9.62966</td><td style=\"text-align: right;\">  26.9731 </td><td style=\"text-align: right;\">     1</td><td style=\"text-align: right;\">        48.3804 </td><td style=\"text-align: right;\">  0.153304   </td><td style=\"text-align: right;\">     0.177613  </td></tr>\n",
       "<tr><td>train_de_8979f917</td><td>TERMINATED</td><td>10.2.219.10:3629371</td><td style=\"text-align: right;\">    13.0063 </td><td style=\"text-align: right;\">    150.239  </td><td style=\"text-align: right;\">0.0812932  </td><td style=\"text-align: right;\">     6.58555</td><td style=\"text-align: right;\">     8.73021</td><td style=\"text-align: right;\">  47.447  </td><td style=\"text-align: right;\">     1</td><td style=\"text-align: right;\">        83.8877 </td><td style=\"text-align: right;\">nan          </td><td style=\"text-align: right;\">   inf         </td></tr>\n",
       "<tr><td>train_de_1a4d9164</td><td>TERMINATED</td><td>10.2.219.10:3630145</td><td style=\"text-align: right;\">     4.27078</td><td style=\"text-align: right;\">    128.488  </td><td style=\"text-align: right;\">0.0636019  </td><td style=\"text-align: right;\">     8.66438</td><td style=\"text-align: right;\">     8.42661</td><td style=\"text-align: right;\">  38.4221 </td><td style=\"text-align: right;\">     1</td><td style=\"text-align: right;\">       266.956  </td><td style=\"text-align: right;\">nan          </td><td style=\"text-align: right;\">   inf         </td></tr>\n",
       "<tr><td>train_de_38ea8195</td><td>TERMINATED</td><td>10.2.219.10:3626657</td><td style=\"text-align: right;\">     7.3124 </td><td style=\"text-align: right;\">    116.235  </td><td style=\"text-align: right;\">0.00556503 </td><td style=\"text-align: right;\">     3.25847</td><td style=\"text-align: right;\">     7.1858 </td><td style=\"text-align: right;\">   2.61182</td><td style=\"text-align: right;\">     1</td><td style=\"text-align: right;\">         9.17153</td><td style=\"text-align: right;\"> -0.041175   </td><td style=\"text-align: right;\">     0.18651   </td></tr>\n",
       "<tr><td>train_de_4c78074a</td><td>TERMINATED</td><td>10.2.219.10:3627048</td><td style=\"text-align: right;\">     3.95358</td><td style=\"text-align: right;\">    162.876  </td><td style=\"text-align: right;\">0.0938117  </td><td style=\"text-align: right;\">     6.58998</td><td style=\"text-align: right;\">     8.40951</td><td style=\"text-align: right;\">  28.4672 </td><td style=\"text-align: right;\">     1</td><td style=\"text-align: right;\">       230.131  </td><td style=\"text-align: right;\">nan          </td><td style=\"text-align: right;\">   inf         </td></tr>\n",
       "<tr><td>train_de_6437c467</td><td>TERMINATED</td><td>10.2.219.10:3626657</td><td style=\"text-align: right;\">    15.6085 </td><td style=\"text-align: right;\">     74.5099 </td><td style=\"text-align: right;\">0.0739529  </td><td style=\"text-align: right;\">     7.23186</td><td style=\"text-align: right;\">     6.15416</td><td style=\"text-align: right;\">  49.1525 </td><td style=\"text-align: right;\">     1</td><td style=\"text-align: right;\">       162.249  </td><td style=\"text-align: right;\">  0.0527516  </td><td style=\"text-align: right;\">     0.18008   </td></tr>\n",
       "<tr><td>train_de_af207cc5</td><td>TERMINATED</td><td>10.2.219.10:3627776</td><td style=\"text-align: right;\">    13.1613 </td><td style=\"text-align: right;\">    118.649  </td><td style=\"text-align: right;\">0.0821212  </td><td style=\"text-align: right;\">     3.35685</td><td style=\"text-align: right;\">     9.2075 </td><td style=\"text-align: right;\">  47.2129 </td><td style=\"text-align: right;\">     1</td><td style=\"text-align: right;\">       167.572  </td><td style=\"text-align: right;\">  0.0279845  </td><td style=\"text-align: right;\">     0.18332   </td></tr>\n",
       "<tr><td>train_de_f92f2daf</td><td>TERMINATED</td><td>10.2.219.10:3628419</td><td style=\"text-align: right;\">    15.0345 </td><td style=\"text-align: right;\">    142.304  </td><td style=\"text-align: right;\">0.0236824  </td><td style=\"text-align: right;\">     6.47544</td><td style=\"text-align: right;\">     5.0603 </td><td style=\"text-align: right;\">   6.95379</td><td style=\"text-align: right;\">     1</td><td style=\"text-align: right;\">        12.9691 </td><td style=\"text-align: right;\">  0.152211   </td><td style=\"text-align: right;\">     0.189305  </td></tr>\n",
       "<tr><td>train_de_668fe3d1</td><td>TERMINATED</td><td>10.2.219.10:3623099</td><td style=\"text-align: right;\">     1.96955</td><td style=\"text-align: right;\">    160.903  </td><td style=\"text-align: right;\">0.0954562  </td><td style=\"text-align: right;\">     8.38914</td><td style=\"text-align: right;\">     9.21296</td><td style=\"text-align: right;\">   7.01633</td><td style=\"text-align: right;\">     1</td><td style=\"text-align: right;\">       226.007  </td><td style=\"text-align: right;\">nan          </td><td style=\"text-align: right;\">   inf         </td></tr>\n",
       "<tr><td>train_de_87f76966</td><td>TERMINATED</td><td>10.2.219.10:3626583</td><td style=\"text-align: right;\">     3.78955</td><td style=\"text-align: right;\">    116.662  </td><td style=\"text-align: right;\">0.00562324 </td><td style=\"text-align: right;\">     2.43902</td><td style=\"text-align: right;\">     6.89701</td><td style=\"text-align: right;\">  44.7211 </td><td style=\"text-align: right;\">     1</td><td style=\"text-align: right;\">       197.8    </td><td style=\"text-align: right;\"> -0.0182463  </td><td style=\"text-align: right;\">     0.0940223 </td></tr>\n",
       "<tr><td>train_de_3d6817ae</td><td>TERMINATED</td><td>10.2.219.10:3628561</td><td style=\"text-align: right;\">    16.0437 </td><td style=\"text-align: right;\">     25.7702 </td><td style=\"text-align: right;\">0.0272737  </td><td style=\"text-align: right;\">     6.32195</td><td style=\"text-align: right;\">     7.8522 </td><td style=\"text-align: right;\">  41.7863 </td><td style=\"text-align: right;\">     1</td><td style=\"text-align: right;\">        79.0188 </td><td style=\"text-align: right;\">  0.136216   </td><td style=\"text-align: right;\">     0.181051  </td></tr>\n",
       "<tr><td>train_de_c6fc4511</td><td>TERMINATED</td><td>10.2.219.10:3627183</td><td style=\"text-align: right;\">     8.25154</td><td style=\"text-align: right;\">     49.7523 </td><td style=\"text-align: right;\">0.0476752  </td><td style=\"text-align: right;\">     6.96206</td><td style=\"text-align: right;\">     9.71919</td><td style=\"text-align: right;\">  46.4463 </td><td style=\"text-align: right;\">     1</td><td style=\"text-align: right;\">       273.1    </td><td style=\"text-align: right;\">  0.320714   </td><td style=\"text-align: right;\">     0.191358  </td></tr>\n",
       "<tr><td>train_de_fef87d17</td><td>TERMINATED</td><td>10.2.219.10:3628419</td><td style=\"text-align: right;\">     7.95408</td><td style=\"text-align: right;\">    175.42   </td><td style=\"text-align: right;\">0.0833896  </td><td style=\"text-align: right;\">     8.06227</td><td style=\"text-align: right;\">     9.12109</td><td style=\"text-align: right;\">  35.7329 </td><td style=\"text-align: right;\">     1</td><td style=\"text-align: right;\">       186.702  </td><td style=\"text-align: right;\">nan          </td><td style=\"text-align: right;\">   inf         </td></tr>\n",
       "<tr><td>train_de_ea771e29</td><td>TERMINATED</td><td>10.2.219.10:3630810</td><td style=\"text-align: right;\">    13.4803 </td><td style=\"text-align: right;\">    123.79   </td><td style=\"text-align: right;\">0.0682209  </td><td style=\"text-align: right;\">     3.22168</td><td style=\"text-align: right;\">     3.22445</td><td style=\"text-align: right;\">  43.6925 </td><td style=\"text-align: right;\">     1</td><td style=\"text-align: right;\">        78.2811 </td><td style=\"text-align: right;\">  0.0897127  </td><td style=\"text-align: right;\">     0.182967  </td></tr>\n",
       "<tr><td>train_de_48659442</td><td>TERMINATED</td><td>10.2.219.10:3627693</td><td style=\"text-align: right;\">     9.69102</td><td style=\"text-align: right;\">     40.5134 </td><td style=\"text-align: right;\">0.0839339  </td><td style=\"text-align: right;\">     9.39465</td><td style=\"text-align: right;\">     5.942  </td><td style=\"text-align: right;\">  13.0964 </td><td style=\"text-align: right;\">     1</td><td style=\"text-align: right;\">        93.9543 </td><td style=\"text-align: right;\"> -0.113113   </td><td style=\"text-align: right;\">     0.183042  </td></tr>\n",
       "<tr><td>train_de_16984cb3</td><td>TERMINATED</td><td>10.2.219.10:3630935</td><td style=\"text-align: right;\">    11.7765 </td><td style=\"text-align: right;\">    148.358  </td><td style=\"text-align: right;\">0.0596055  </td><td style=\"text-align: right;\">     6.35203</td><td style=\"text-align: right;\">     6.10357</td><td style=\"text-align: right;\">   5.56606</td><td style=\"text-align: right;\">     1</td><td style=\"text-align: right;\">         7.98758</td><td style=\"text-align: right;\">nan          </td><td style=\"text-align: right;\">   inf         </td></tr>\n",
       "<tr><td>train_de_d08d6b59</td><td>TERMINATED</td><td>10.2.219.10:3631024</td><td style=\"text-align: right;\">     6.28612</td><td style=\"text-align: right;\">    195.479  </td><td style=\"text-align: right;\">0.0978767  </td><td style=\"text-align: right;\">     5.45145</td><td style=\"text-align: right;\">     9.09018</td><td style=\"text-align: right;\">  17.0388 </td><td style=\"text-align: right;\">     1</td><td style=\"text-align: right;\">        80.8143 </td><td style=\"text-align: right;\">nan          </td><td style=\"text-align: right;\">   inf         </td></tr>\n",
       "<tr><td>train_de_d271bfe1</td><td>TERMINATED</td><td>10.2.219.10:3630935</td><td style=\"text-align: right;\">    14.314  </td><td style=\"text-align: right;\">      7.84237</td><td style=\"text-align: right;\">0.0813104  </td><td style=\"text-align: right;\">     2.25953</td><td style=\"text-align: right;\">     8.86715</td><td style=\"text-align: right;\">  45.7349 </td><td style=\"text-align: right;\">     1</td><td style=\"text-align: right;\">        51.4452 </td><td style=\"text-align: right;\">  0.262019   </td><td style=\"text-align: right;\">     0.176392  </td></tr>\n",
       "<tr><td>train_de_36a976fd</td><td>TERMINATED</td><td>10.2.219.10:3629615</td><td style=\"text-align: right;\">    17.8236 </td><td style=\"text-align: right;\">    135.154  </td><td style=\"text-align: right;\">0.0520466  </td><td style=\"text-align: right;\">     7.0301 </td><td style=\"text-align: right;\">     4.43303</td><td style=\"text-align: right;\">  48.8935 </td><td style=\"text-align: right;\">     1</td><td style=\"text-align: right;\">        61.382  </td><td style=\"text-align: right;\">nan          </td><td style=\"text-align: right;\">     0.191307  </td></tr>\n",
       "<tr><td>train_de_d36e43a8</td><td>TERMINATED</td><td>10.2.219.10:3628826</td><td style=\"text-align: right;\">    11.0444 </td><td style=\"text-align: right;\">    145.875  </td><td style=\"text-align: right;\">0.061447   </td><td style=\"text-align: right;\">     9.63565</td><td style=\"text-align: right;\">     6.6255 </td><td style=\"text-align: right;\">   3.92142</td><td style=\"text-align: right;\">     1</td><td style=\"text-align: right;\">         7.18827</td><td style=\"text-align: right;\">nan          </td><td style=\"text-align: right;\">   inf         </td></tr>\n",
       "<tr><td>train_de_491dc528</td><td>TERMINATED</td><td>10.2.219.10:3627323</td><td style=\"text-align: right;\">    17.0996 </td><td style=\"text-align: right;\">    116.685  </td><td style=\"text-align: right;\">0.0376132  </td><td style=\"text-align: right;\">     2.09784</td><td style=\"text-align: right;\">     5.8604 </td><td style=\"text-align: right;\">  15.2976 </td><td style=\"text-align: right;\">     1</td><td style=\"text-align: right;\">        28.2465 </td><td style=\"text-align: right;\">  0.287965   </td><td style=\"text-align: right;\">     0.1934    </td></tr>\n",
       "<tr><td>train_de_4ec09254</td><td>TERMINATED</td><td>10.2.219.10:3627392</td><td style=\"text-align: right;\">    12.4655 </td><td style=\"text-align: right;\">     93.6862 </td><td style=\"text-align: right;\">0.0305454  </td><td style=\"text-align: right;\">     5.75578</td><td style=\"text-align: right;\">     3.28235</td><td style=\"text-align: right;\">  39.1771 </td><td style=\"text-align: right;\">     1</td><td style=\"text-align: right;\">        57.5047 </td><td style=\"text-align: right;\"> -0.158943   </td><td style=\"text-align: right;\">     0.186356  </td></tr>\n",
       "<tr><td>train_de_d93018dd</td><td>TERMINATED</td><td>10.2.219.10:3628826</td><td style=\"text-align: right;\">     7.95749</td><td style=\"text-align: right;\">    105.195  </td><td style=\"text-align: right;\">0.0888429  </td><td style=\"text-align: right;\">     6.76718</td><td style=\"text-align: right;\">     8.6099 </td><td style=\"text-align: right;\">  19.8528 </td><td style=\"text-align: right;\">     1</td><td style=\"text-align: right;\">        57.107  </td><td style=\"text-align: right;\">nan          </td><td style=\"text-align: right;\">   inf         </td></tr>\n",
       "<tr><td>train_de_ee5d5f7a</td><td>TERMINATED</td><td>10.2.219.10:3631392</td><td style=\"text-align: right;\">    17.2609 </td><td style=\"text-align: right;\">     52.8695 </td><td style=\"text-align: right;\">0.0495003  </td><td style=\"text-align: right;\">     8.81297</td><td style=\"text-align: right;\">     6.7312 </td><td style=\"text-align: right;\">  36.3945 </td><td style=\"text-align: right;\">     1</td><td style=\"text-align: right;\">       117.607  </td><td style=\"text-align: right;\"> -0.0136843  </td><td style=\"text-align: right;\">     0.187041  </td></tr>\n",
       "<tr><td>train_de_9519384a</td><td>TERMINATED</td><td>10.2.219.10:3629371</td><td style=\"text-align: right;\">     8.05132</td><td style=\"text-align: right;\">     21.023  </td><td style=\"text-align: right;\">0.0669997  </td><td style=\"text-align: right;\">     5.21818</td><td style=\"text-align: right;\">     8.32161</td><td style=\"text-align: right;\">  31.811  </td><td style=\"text-align: right;\">     1</td><td style=\"text-align: right;\">       153.585  </td><td style=\"text-align: right;\">  0.424981   </td><td style=\"text-align: right;\">     0.191098  </td></tr>\n",
       "<tr><td>train_de_efb346ee</td><td>TERMINATED</td><td>10.2.219.10:3631571</td><td style=\"text-align: right;\">     2.87965</td><td style=\"text-align: right;\">     62.7851 </td><td style=\"text-align: right;\">0.0840443  </td><td style=\"text-align: right;\">     6.06895</td><td style=\"text-align: right;\">     8.81122</td><td style=\"text-align: right;\">   3.15023</td><td style=\"text-align: right;\">     1</td><td style=\"text-align: right;\">       159.823  </td><td style=\"text-align: right;\">  0.38758    </td><td style=\"text-align: right;\">     0.193222  </td></tr>\n",
       "<tr><td>train_de_94ba50d9</td><td>TERMINATED</td><td>10.2.219.10:3628737</td><td style=\"text-align: right;\">     6.2167 </td><td style=\"text-align: right;\">     23.3076 </td><td style=\"text-align: right;\">0.097045   </td><td style=\"text-align: right;\">     7.47455</td><td style=\"text-align: right;\">     5.8724 </td><td style=\"text-align: right;\">  39.2297 </td><td style=\"text-align: right;\">     1</td><td style=\"text-align: right;\">        92.4179 </td><td style=\"text-align: right;\"> -0.146959   </td><td style=\"text-align: right;\">     0.185775  </td></tr>\n",
       "<tr><td>train_de_ba623450</td><td>TERMINATED</td><td>10.2.219.10:3627323</td><td style=\"text-align: right;\">     9.97277</td><td style=\"text-align: right;\">     34.4381 </td><td style=\"text-align: right;\">0.0272031  </td><td style=\"text-align: right;\">     5.02434</td><td style=\"text-align: right;\">     6.22034</td><td style=\"text-align: right;\">  31.9071 </td><td style=\"text-align: right;\">     1</td><td style=\"text-align: right;\">        53.7113 </td><td style=\"text-align: right;\">  0.113724   </td><td style=\"text-align: right;\">     0.18257   </td></tr>\n",
       "<tr><td>train_de_f4d41135</td><td>TERMINATED</td><td>10.2.219.10:3631729</td><td style=\"text-align: right;\">     7.09665</td><td style=\"text-align: right;\">    186.289  </td><td style=\"text-align: right;\">0.00375507 </td><td style=\"text-align: right;\">     3.53917</td><td style=\"text-align: right;\">     8.51061</td><td style=\"text-align: right;\">  10.4201 </td><td style=\"text-align: right;\">     1</td><td style=\"text-align: right;\">        50.8752 </td><td style=\"text-align: right;\">  0.0235868  </td><td style=\"text-align: right;\">     0.174172  </td></tr>\n",
       "<tr><td>train_de_5bb57c01</td><td>TERMINATED</td><td>10.2.219.10:3631818</td><td style=\"text-align: right;\">     1.00364</td><td style=\"text-align: right;\">    118.043  </td><td style=\"text-align: right;\">0.027935   </td><td style=\"text-align: right;\">     5.56781</td><td style=\"text-align: right;\">     5.11426</td><td style=\"text-align: right;\">  37.4278 </td><td style=\"text-align: right;\">     1</td><td style=\"text-align: right;\">       703.944  </td><td style=\"text-align: right;\">  0.015837   </td><td style=\"text-align: right;\">     0.160253  </td></tr>\n",
       "<tr><td>train_de_faace4d0</td><td>TERMINATED</td><td>10.2.219.10:3626519</td><td style=\"text-align: right;\">    13.9007 </td><td style=\"text-align: right;\">     80.27   </td><td style=\"text-align: right;\">0.0909787  </td><td style=\"text-align: right;\">     9.2891 </td><td style=\"text-align: right;\">     6.92884</td><td style=\"text-align: right;\">  12.5911 </td><td style=\"text-align: right;\">     1</td><td style=\"text-align: right;\">        19.1982 </td><td style=\"text-align: right;\">nan          </td><td style=\"text-align: right;\">   inf         </td></tr>\n",
       "<tr><td>train_de_247e5d75</td><td>TERMINATED</td><td>10.2.219.10:3628001</td><td style=\"text-align: right;\">    10.86   </td><td style=\"text-align: right;\">     76.0598 </td><td style=\"text-align: right;\">0.002166   </td><td style=\"text-align: right;\">     7.67594</td><td style=\"text-align: right;\">     9.81281</td><td style=\"text-align: right;\">  48.9625 </td><td style=\"text-align: right;\">     1</td><td style=\"text-align: right;\">       280.453  </td><td style=\"text-align: right;\">  0.129188   </td><td style=\"text-align: right;\">     0.185131  </td></tr>\n",
       "<tr><td>train_de_2bc24e80</td><td>TERMINATED</td><td>10.2.219.10:3628561</td><td style=\"text-align: right;\">     4.83283</td><td style=\"text-align: right;\">     66.3603 </td><td style=\"text-align: right;\">0.0150219  </td><td style=\"text-align: right;\">     7.90656</td><td style=\"text-align: right;\">     4.19952</td><td style=\"text-align: right;\">  12.066  </td><td style=\"text-align: right;\">     1</td><td style=\"text-align: right;\">        45.6298 </td><td style=\"text-align: right;\">  0.14137    </td><td style=\"text-align: right;\">     0.189069  </td></tr>\n",
       "<tr><td>train_de_94aa4214</td><td>TERMINATED</td><td>10.2.219.10:3630935</td><td style=\"text-align: right;\">     8.5183 </td><td style=\"text-align: right;\">    120.678  </td><td style=\"text-align: right;\">0.0868765  </td><td style=\"text-align: right;\">     9.31221</td><td style=\"text-align: right;\">     6.42352</td><td style=\"text-align: right;\">   9.833  </td><td style=\"text-align: right;\">     1</td><td style=\"text-align: right;\">        26.7702 </td><td style=\"text-align: right;\">nan          </td><td style=\"text-align: right;\">   inf         </td></tr>\n",
       "<tr><td>train_de_401bd6c9</td><td>TERMINATED</td><td>10.2.219.10:3632074</td><td style=\"text-align: right;\">     3.17619</td><td style=\"text-align: right;\">    197.124  </td><td style=\"text-align: right;\">0.0957576  </td><td style=\"text-align: right;\">     7.33022</td><td style=\"text-align: right;\">     4.22443</td><td style=\"text-align: right;\">  28.4057 </td><td style=\"text-align: right;\">     1</td><td style=\"text-align: right;\">       159.831  </td><td style=\"text-align: right;\">nan          </td><td style=\"text-align: right;\">   inf         </td></tr>\n",
       "<tr><td>train_de_2f109a83</td><td>TERMINATED</td><td>10.2.219.10:3630810</td><td style=\"text-align: right;\">    18.4421 </td><td style=\"text-align: right;\">     52.2328 </td><td style=\"text-align: right;\">0.0811521  </td><td style=\"text-align: right;\">     8.33693</td><td style=\"text-align: right;\">     6.40652</td><td style=\"text-align: right;\">  14.6432 </td><td style=\"text-align: right;\">     1</td><td style=\"text-align: right;\">        32.4238 </td><td style=\"text-align: right;\">  0.11034    </td><td style=\"text-align: right;\">     0.175763  </td></tr>\n",
       "<tr><td>train_de_0e952e92</td><td>TERMINATED</td><td>10.2.219.10:3629615</td><td style=\"text-align: right;\">     5.13059</td><td style=\"text-align: right;\">    189.124  </td><td style=\"text-align: right;\">0.0436907  </td><td style=\"text-align: right;\">     5.8558 </td><td style=\"text-align: right;\">     7.66436</td><td style=\"text-align: right;\">  39.9014 </td><td style=\"text-align: right;\">     1</td><td style=\"text-align: right;\">       436.786  </td><td style=\"text-align: right;\">  0.375589   </td><td style=\"text-align: right;\">     0.197002  </td></tr>\n",
       "<tr><td>train_de_bdaafb18</td><td>TERMINATED</td><td>10.2.219.10:3627392</td><td style=\"text-align: right;\">     6.83857</td><td style=\"text-align: right;\">    119.882  </td><td style=\"text-align: right;\">0.0752191  </td><td style=\"text-align: right;\">     5.2892 </td><td style=\"text-align: right;\">     3.98637</td><td style=\"text-align: right;\">   1.43676</td><td style=\"text-align: right;\">     1</td><td style=\"text-align: right;\">         8.28857</td><td style=\"text-align: right;\">  0.132261   </td><td style=\"text-align: right;\">     0.204734  </td></tr>\n",
       "<tr><td>train_de_20d4239c</td><td>TERMINATED</td><td>10.2.219.10:3626795</td><td style=\"text-align: right;\">    16.848  </td><td style=\"text-align: right;\">    114.533  </td><td style=\"text-align: right;\">0.0361935  </td><td style=\"text-align: right;\">     3.1704 </td><td style=\"text-align: right;\">     6.82053</td><td style=\"text-align: right;\">  20.8406 </td><td style=\"text-align: right;\">     1</td><td style=\"text-align: right;\">        47.5062 </td><td style=\"text-align: right;\"> -0.060692   </td><td style=\"text-align: right;\">     0.183525  </td></tr>\n",
       "<tr><td>train_de_0643c0dd</td><td>TERMINATED</td><td>10.2.219.10:3626519</td><td style=\"text-align: right;\">    19.2865 </td><td style=\"text-align: right;\">     16.035  </td><td style=\"text-align: right;\">0.050903   </td><td style=\"text-align: right;\">     3.4559 </td><td style=\"text-align: right;\">     3.70618</td><td style=\"text-align: right;\">  25.3455 </td><td style=\"text-align: right;\">     1</td><td style=\"text-align: right;\">        13.9156 </td><td style=\"text-align: right;\">  0.163861   </td><td style=\"text-align: right;\">     0.183299  </td></tr>\n",
       "<tr><td>train_de_1294f26f</td><td>TERMINATED</td><td>10.2.219.10:3628826</td><td style=\"text-align: right;\">    11.6848 </td><td style=\"text-align: right;\">    123.359  </td><td style=\"text-align: right;\">0.0371681  </td><td style=\"text-align: right;\">     7.52759</td><td style=\"text-align: right;\">     5.8192 </td><td style=\"text-align: right;\">  34.4114 </td><td style=\"text-align: right;\">     1</td><td style=\"text-align: right;\">       290.314  </td><td style=\"text-align: right;\">  0.109222   </td><td style=\"text-align: right;\">     0.173952  </td></tr>\n",
       "<tr><td>train_de_d7e7966f</td><td>TERMINATED</td><td>10.2.219.10:3627392</td><td style=\"text-align: right;\">     4.05885</td><td style=\"text-align: right;\">    180.27   </td><td style=\"text-align: right;\">0.0308275  </td><td style=\"text-align: right;\">     7.99234</td><td style=\"text-align: right;\">     6.02816</td><td style=\"text-align: right;\">   4.10491</td><td style=\"text-align: right;\">     1</td><td style=\"text-align: right;\">        28.0853 </td><td style=\"text-align: right;\">nan          </td><td style=\"text-align: right;\">   inf         </td></tr>\n",
       "<tr><td>train_de_a6f83cb5</td><td>TERMINATED</td><td>10.2.219.10:3630935</td><td style=\"text-align: right;\">    19.9352 </td><td style=\"text-align: right;\">     91.0928 </td><td style=\"text-align: right;\">0.0130936  </td><td style=\"text-align: right;\">     4.50882</td><td style=\"text-align: right;\">     9.47195</td><td style=\"text-align: right;\">  23.8478 </td><td style=\"text-align: right;\">     1</td><td style=\"text-align: right;\">        59.1059 </td><td style=\"text-align: right;\">  0.122885   </td><td style=\"text-align: right;\">     0.181141  </td></tr>\n",
       "<tr><td>train_de_c3099a3c</td><td>TERMINATED</td><td>10.2.219.10:3631024</td><td style=\"text-align: right;\">    17.0744 </td><td style=\"text-align: right;\">     34.7527 </td><td style=\"text-align: right;\">0.0471163  </td><td style=\"text-align: right;\">     2.781  </td><td style=\"text-align: right;\">     3.64614</td><td style=\"text-align: right;\">  40.3343 </td><td style=\"text-align: right;\">     1</td><td style=\"text-align: right;\">        26.2144 </td><td style=\"text-align: right;\">  0.0811931  </td><td style=\"text-align: right;\">     0.188642  </td></tr>\n",
       "<tr><td>train_de_ce89177b</td><td>TERMINATED</td><td>10.2.219.10:3626519</td><td style=\"text-align: right;\">    10.732  </td><td style=\"text-align: right;\">     56.5861 </td><td style=\"text-align: right;\">0.0874908  </td><td style=\"text-align: right;\">     9.58702</td><td style=\"text-align: right;\">     6.89969</td><td style=\"text-align: right;\">  35.6268 </td><td style=\"text-align: right;\">     1</td><td style=\"text-align: right;\">        76.6921 </td><td style=\"text-align: right;\">nan          </td><td style=\"text-align: right;\">   inf         </td></tr>\n",
       "<tr><td>train_de_a4669e42</td><td>TERMINATED</td><td>10.2.219.10:3627693</td><td style=\"text-align: right;\">    18.1371 </td><td style=\"text-align: right;\">     81.1667 </td><td style=\"text-align: right;\">0.067141   </td><td style=\"text-align: right;\">     2.14181</td><td style=\"text-align: right;\">     7.98785</td><td style=\"text-align: right;\">  41.784  </td><td style=\"text-align: right;\">     1</td><td style=\"text-align: right;\">        78.1896 </td><td style=\"text-align: right;\">  0.0661615  </td><td style=\"text-align: right;\">     0.161293  </td></tr>\n",
       "<tr><td>train_de_c5164987</td><td>TERMINATED</td><td>10.2.219.10:3632708</td><td style=\"text-align: right;\">     5.39969</td><td style=\"text-align: right;\">     69.4936 </td><td style=\"text-align: right;\">0.0334292  </td><td style=\"text-align: right;\">     9.63065</td><td style=\"text-align: right;\">     6.44751</td><td style=\"text-align: right;\">  34.645  </td><td style=\"text-align: right;\">     1</td><td style=\"text-align: right;\">       202.55   </td><td style=\"text-align: right;\"> -0.160537   </td><td style=\"text-align: right;\">     0.191951  </td></tr>\n",
       "<tr><td>train_de_ba358839</td><td>TERMINATED</td><td>10.2.219.10:3627323</td><td style=\"text-align: right;\">     3.0026 </td><td style=\"text-align: right;\">     30.2764 </td><td style=\"text-align: right;\">0.00522222 </td><td style=\"text-align: right;\">     5.703  </td><td style=\"text-align: right;\">     3.97079</td><td style=\"text-align: right;\">  14.7131 </td><td style=\"text-align: right;\">     1</td><td style=\"text-align: right;\">        81.3552 </td><td style=\"text-align: right;\">  0.320537   </td><td style=\"text-align: right;\">     0.0924573 </td></tr>\n",
       "<tr><td>train_de_9f74311d</td><td>TERMINATED</td><td>10.2.219.10:3631729</td><td style=\"text-align: right;\">     1.47116</td><td style=\"text-align: right;\">    128.765  </td><td style=\"text-align: right;\">0.0925754  </td><td style=\"text-align: right;\">     8.24033</td><td style=\"text-align: right;\">     9.62787</td><td style=\"text-align: right;\">  10.2651 </td><td style=\"text-align: right;\">     1</td><td style=\"text-align: right;\">       344.002  </td><td style=\"text-align: right;\">nan          </td><td style=\"text-align: right;\">   inf         </td></tr>\n",
       "<tr><td>train_de_c2c161fa</td><td>TERMINATED</td><td>10.2.219.10:3630810</td><td style=\"text-align: right;\">    15.8905 </td><td style=\"text-align: right;\">     75.4863 </td><td style=\"text-align: right;\">0.0801542  </td><td style=\"text-align: right;\">     6.41453</td><td style=\"text-align: right;\">     4.78548</td><td style=\"text-align: right;\">  17.3649 </td><td style=\"text-align: right;\">     1</td><td style=\"text-align: right;\">        82.1819 </td><td style=\"text-align: right;\"> -0.0546174  </td><td style=\"text-align: right;\">     0.176488  </td></tr>\n",
       "<tr><td>train_de_b21d87c8</td><td>TERMINATED</td><td>10.2.219.10:3628561</td><td style=\"text-align: right;\">     9.42682</td><td style=\"text-align: right;\">    149.643  </td><td style=\"text-align: right;\">0.0803125  </td><td style=\"text-align: right;\">     9.84426</td><td style=\"text-align: right;\">     8.3342 </td><td style=\"text-align: right;\">  34.973  </td><td style=\"text-align: right;\">     1</td><td style=\"text-align: right;\">       137.939  </td><td style=\"text-align: right;\">nan          </td><td style=\"text-align: right;\">   inf         </td></tr>\n",
       "<tr><td>train_de_9469c7f2</td><td>TERMINATED</td><td>10.2.219.10:3626469</td><td style=\"text-align: right;\">    18.0747 </td><td style=\"text-align: right;\">     66.731  </td><td style=\"text-align: right;\">0.000694277</td><td style=\"text-align: right;\">     9.36572</td><td style=\"text-align: right;\">     3.2867 </td><td style=\"text-align: right;\">  10.1638 </td><td style=\"text-align: right;\">     1</td><td style=\"text-align: right;\">        11.2115 </td><td style=\"text-align: right;\"> -0.10697    </td><td style=\"text-align: right;\">     0.157689  </td></tr>\n",
       "<tr><td>train_de_9e5bafe1</td><td>TERMINATED</td><td>10.2.219.10:3627392</td><td style=\"text-align: right;\">    18.2581 </td><td style=\"text-align: right;\">    136.086  </td><td style=\"text-align: right;\">0.0415503  </td><td style=\"text-align: right;\">     4.81096</td><td style=\"text-align: right;\">     9.98172</td><td style=\"text-align: right;\">  49.4275 </td><td style=\"text-align: right;\">     1</td><td style=\"text-align: right;\">       206.657  </td><td style=\"text-align: right;\">  0.140677   </td><td style=\"text-align: right;\">     0.156516  </td></tr>\n",
       "<tr><td>train_de_7f0f41b4</td><td>TERMINATED</td><td>10.2.219.10:3631024</td><td style=\"text-align: right;\">     2.08108</td><td style=\"text-align: right;\">     83.7678 </td><td style=\"text-align: right;\">0.0431027  </td><td style=\"text-align: right;\">     3.47615</td><td style=\"text-align: right;\">     8.15514</td><td style=\"text-align: right;\">  13.5738 </td><td style=\"text-align: right;\">     1</td><td style=\"text-align: right;\">       185.132  </td><td style=\"text-align: right;\">  0.103551   </td><td style=\"text-align: right;\">     0.158241  </td></tr>\n",
       "<tr><td>train_de_ee0ab8dd</td><td>TERMINATED</td><td>10.2.219.10:3626469</td><td style=\"text-align: right;\">    11.8091 </td><td style=\"text-align: right;\">     68.8312 </td><td style=\"text-align: right;\">0.088036   </td><td style=\"text-align: right;\">     8.27568</td><td style=\"text-align: right;\">     3.59964</td><td style=\"text-align: right;\">   3.62884</td><td style=\"text-align: right;\">     1</td><td style=\"text-align: right;\">        25.5761 </td><td style=\"text-align: right;\">  0.724403   </td><td style=\"text-align: right;\">     0.284295  </td></tr>\n",
       "<tr><td>train_de_77c911fc</td><td>TERMINATED</td><td>10.2.219.10:3626795</td><td style=\"text-align: right;\">    14.137  </td><td style=\"text-align: right;\">     80.8848 </td><td style=\"text-align: right;\">0.0408204  </td><td style=\"text-align: right;\">     2.65353</td><td style=\"text-align: right;\">     5.03707</td><td style=\"text-align: right;\">  25.7385 </td><td style=\"text-align: right;\">     1</td><td style=\"text-align: right;\">        35.7079 </td><td style=\"text-align: right;\">  0.238901   </td><td style=\"text-align: right;\">     0.176305  </td></tr>\n",
       "<tr><td>train_de_7932216b</td><td>TERMINATED</td><td>10.2.219.10:3633324</td><td style=\"text-align: right;\">     6.99548</td><td style=\"text-align: right;\">    137.331  </td><td style=\"text-align: right;\">0.0144701  </td><td style=\"text-align: right;\">     4.51553</td><td style=\"text-align: right;\">     7.22061</td><td style=\"text-align: right;\">  37.3148 </td><td style=\"text-align: right;\">     1</td><td style=\"text-align: right;\">       240.044  </td><td style=\"text-align: right;\">  0.737109   </td><td style=\"text-align: right;\">     0.186335  </td></tr>\n",
       "<tr><td>train_de_10822aa1</td><td>TERMINATED</td><td>10.2.219.10:3628196</td><td style=\"text-align: right;\">    13.935  </td><td style=\"text-align: right;\">     12.3019 </td><td style=\"text-align: right;\">0.0827532  </td><td style=\"text-align: right;\">     5.0665 </td><td style=\"text-align: right;\">     9.84237</td><td style=\"text-align: right;\">  22.9419 </td><td style=\"text-align: right;\">     1</td><td style=\"text-align: right;\">       115.517  </td><td style=\"text-align: right;\">  0.306092   </td><td style=\"text-align: right;\">     0.183162  </td></tr>\n",
       "<tr><td>train_de_427826db</td><td>TERMINATED</td><td>10.2.219.10:3626657</td><td style=\"text-align: right;\">     4.08199</td><td style=\"text-align: right;\">    152.064  </td><td style=\"text-align: right;\">0.0308922  </td><td style=\"text-align: right;\">     8.42568</td><td style=\"text-align: right;\">     8.1697 </td><td style=\"text-align: right;\">  37.8568 </td><td style=\"text-align: right;\">     1</td><td style=\"text-align: right;\">       472.511  </td><td style=\"text-align: right;\">nan          </td><td style=\"text-align: right;\">   inf         </td></tr>\n",
       "<tr><td>train_de_3da74ba3</td><td>TERMINATED</td><td>10.2.219.10:3628737</td><td style=\"text-align: right;\">     3.79143</td><td style=\"text-align: right;\">    177.953  </td><td style=\"text-align: right;\">0.00675294 </td><td style=\"text-align: right;\">     3.92761</td><td style=\"text-align: right;\">     5.68521</td><td style=\"text-align: right;\">  38.2966 </td><td style=\"text-align: right;\">     1</td><td style=\"text-align: right;\">       566.742  </td><td style=\"text-align: right;\">  0.68125    </td><td style=\"text-align: right;\">     0.116747  </td></tr>\n",
       "<tr><td>train_de_97505729</td><td>TERMINATED</td><td>10.2.219.10:3627776</td><td style=\"text-align: right;\">     7.19781</td><td style=\"text-align: right;\">    141.349  </td><td style=\"text-align: right;\">0.0326281  </td><td style=\"text-align: right;\">     6.22015</td><td style=\"text-align: right;\">     7.06774</td><td style=\"text-align: right;\">   1.66138</td><td style=\"text-align: right;\">     1</td><td style=\"text-align: right;\">        13.0319 </td><td style=\"text-align: right;\">  0.220302   </td><td style=\"text-align: right;\">     0.210394  </td></tr>\n",
       "<tr><td>train_de_020ee1db</td><td>TERMINATED</td><td>10.2.219.10:3626469</td><td style=\"text-align: right;\">    16.7074 </td><td style=\"text-align: right;\">    147.628  </td><td style=\"text-align: right;\">0.0528012  </td><td style=\"text-align: right;\">     7.06616</td><td style=\"text-align: right;\">     5.31509</td><td style=\"text-align: right;\">  22.5127 </td><td style=\"text-align: right;\">     1</td><td style=\"text-align: right;\">        34.1448 </td><td style=\"text-align: right;\">nan          </td><td style=\"text-align: right;\">   inf         </td></tr>\n",
       "<tr><td>train_de_82a94404</td><td>TERMINATED</td><td>10.2.219.10:3631392</td><td style=\"text-align: right;\">     6.24385</td><td style=\"text-align: right;\">     73.9104 </td><td style=\"text-align: right;\">0.057729   </td><td style=\"text-align: right;\">     6.44047</td><td style=\"text-align: right;\">     4.70819</td><td style=\"text-align: right;\">  25.9449 </td><td style=\"text-align: right;\">     1</td><td style=\"text-align: right;\">       120.58   </td><td style=\"text-align: right;\">  0.0935507  </td><td style=\"text-align: right;\">     0.187728  </td></tr>\n",
       "<tr><td>train_de_63d3bfef</td><td>TERMINATED</td><td>10.2.219.10:3630935</td><td style=\"text-align: right;\">     1.2987 </td><td style=\"text-align: right;\">     58.243  </td><td style=\"text-align: right;\">0.0128405  </td><td style=\"text-align: right;\">     2.10344</td><td style=\"text-align: right;\">     8.11807</td><td style=\"text-align: right;\">   6.6583 </td><td style=\"text-align: right;\">     1</td><td style=\"text-align: right;\">       215.993  </td><td style=\"text-align: right;\"> -2.26243    </td><td style=\"text-align: right;\">    -2.06745   </td></tr>\n",
       "<tr><td>train_de_203afab1</td><td>TERMINATED</td><td>10.2.219.10:3627776</td><td style=\"text-align: right;\">     1.11994</td><td style=\"text-align: right;\">     26.8607 </td><td style=\"text-align: right;\">0.0763122  </td><td style=\"text-align: right;\">     8.71056</td><td style=\"text-align: right;\">     7.06582</td><td style=\"text-align: right;\">  31.8459 </td><td style=\"text-align: right;\">     1</td><td style=\"text-align: right;\">      1275.9    </td><td style=\"text-align: right;\">  0.76333    </td><td style=\"text-align: right;\">     0.191302  </td></tr>\n",
       "<tr><td>train_de_017ef564</td><td>TERMINATED</td><td>10.2.219.10:3626795</td><td style=\"text-align: right;\">    18.8027 </td><td style=\"text-align: right;\">     99.0314 </td><td style=\"text-align: right;\">0.0223485  </td><td style=\"text-align: right;\">     4.63801</td><td style=\"text-align: right;\">     8.63808</td><td style=\"text-align: right;\">  36.1196 </td><td style=\"text-align: right;\">     1</td><td style=\"text-align: right;\">        51.2488 </td><td style=\"text-align: right;\">  0.220031   </td><td style=\"text-align: right;\">     0.156542  </td></tr>\n",
       "<tr><td>train_de_33df5e6f</td><td>TERMINATED</td><td>10.2.219.10:3633993</td><td style=\"text-align: right;\">     2.53586</td><td style=\"text-align: right;\">     68.528  </td><td style=\"text-align: right;\">0.0332429  </td><td style=\"text-align: right;\">     7.87357</td><td style=\"text-align: right;\">     9.95928</td><td style=\"text-align: right;\">  36.7817 </td><td style=\"text-align: right;\">     1</td><td style=\"text-align: right;\">       607.728  </td><td style=\"text-align: right;\"> -0.301038   </td><td style=\"text-align: right;\">     0.185707  </td></tr>\n",
       "<tr><td>train_de_1d37f71e</td><td>TERMINATED</td><td>10.2.219.10:3626519</td><td style=\"text-align: right;\">    10.778  </td><td style=\"text-align: right;\">     72.6541 </td><td style=\"text-align: right;\">0.0700883  </td><td style=\"text-align: right;\">     3.15225</td><td style=\"text-align: right;\">     4.85721</td><td style=\"text-align: right;\">  40.1707 </td><td style=\"text-align: right;\">     1</td><td style=\"text-align: right;\">        69.2044 </td><td style=\"text-align: right;\">  0.250707   </td><td style=\"text-align: right;\">     0.191763  </td></tr>\n",
       "<tr><td>train_de_93621275</td><td>TERMINATED</td><td>10.2.219.10:3627693</td><td style=\"text-align: right;\">     3.90463</td><td style=\"text-align: right;\">    140.185  </td><td style=\"text-align: right;\">0.0628557  </td><td style=\"text-align: right;\">     5.32513</td><td style=\"text-align: right;\">     5.6057 </td><td style=\"text-align: right;\">   4.97819</td><td style=\"text-align: right;\">     1</td><td style=\"text-align: right;\">        20.9917 </td><td style=\"text-align: right;\">nan          </td><td style=\"text-align: right;\">   inf         </td></tr>\n",
       "<tr><td>train_de_84ca5252</td><td>TERMINATED</td><td>10.2.219.10:3628419</td><td style=\"text-align: right;\">    12.7427 </td><td style=\"text-align: right;\">    149.587  </td><td style=\"text-align: right;\">0.0616856  </td><td style=\"text-align: right;\">     8.53572</td><td style=\"text-align: right;\">     6.34793</td><td style=\"text-align: right;\">  42.5374 </td><td style=\"text-align: right;\">     1</td><td style=\"text-align: right;\">       106.408  </td><td style=\"text-align: right;\">nan          </td><td style=\"text-align: right;\">   inf         </td></tr>\n",
       "<tr><td>train_de_a0de3180</td><td>TERMINATED</td><td>10.2.219.10:3626583</td><td style=\"text-align: right;\">    12.5388 </td><td style=\"text-align: right;\">    190.605  </td><td style=\"text-align: right;\">0.0301584  </td><td style=\"text-align: right;\">     7.18348</td><td style=\"text-align: right;\">     6.43573</td><td style=\"text-align: right;\">  44.5921 </td><td style=\"text-align: right;\">     1</td><td style=\"text-align: right;\">       161.251  </td><td style=\"text-align: right;\">nan          </td><td style=\"text-align: right;\">     0.201793  </td></tr>\n",
       "<tr><td>train_de_433a5965</td><td>TERMINATED</td><td>10.2.219.10:3626469</td><td style=\"text-align: right;\">     4.36814</td><td style=\"text-align: right;\">     28.6367 </td><td style=\"text-align: right;\">0.0329571  </td><td style=\"text-align: right;\">     9.43679</td><td style=\"text-align: right;\">     3.9463 </td><td style=\"text-align: right;\">  15.0449 </td><td style=\"text-align: right;\">     1</td><td style=\"text-align: right;\">        52.6623 </td><td style=\"text-align: right;\">  0.261459   </td><td style=\"text-align: right;\">     0.19172   </td></tr>\n",
       "<tr><td>train_de_691306f4</td><td>TERMINATED</td><td>10.2.219.10:3627323</td><td style=\"text-align: right;\">     9.7585 </td><td style=\"text-align: right;\">     25.5715 </td><td style=\"text-align: right;\">0.034282   </td><td style=\"text-align: right;\">     7.03505</td><td style=\"text-align: right;\">     6.01872</td><td style=\"text-align: right;\">   1.84578</td><td style=\"text-align: right;\">     1</td><td style=\"text-align: right;\">         3.60801</td><td style=\"text-align: right;\">  0.110624   </td><td style=\"text-align: right;\">     0.201946  </td></tr>\n",
       "<tr><td>train_de_674142e5</td><td>TERMINATED</td><td>10.2.219.10:3627323</td><td style=\"text-align: right;\">     4.88263</td><td style=\"text-align: right;\">     66.7465 </td><td style=\"text-align: right;\">0.0185532  </td><td style=\"text-align: right;\">     5.44468</td><td style=\"text-align: right;\">     3.63292</td><td style=\"text-align: right;\">  21.538  </td><td style=\"text-align: right;\">     1</td><td style=\"text-align: right;\">        93.4653 </td><td style=\"text-align: right;\">  0.524028   </td><td style=\"text-align: right;\">     0.191013  </td></tr>\n",
       "<tr><td>train_de_4e5a57a4</td><td>TERMINATED</td><td>10.2.219.10:3630810</td><td style=\"text-align: right;\">    12.6748 </td><td style=\"text-align: right;\">     49.6215 </td><td style=\"text-align: right;\">0.00476573 </td><td style=\"text-align: right;\">     8.16074</td><td style=\"text-align: right;\">     6.36527</td><td style=\"text-align: right;\">  45.1979 </td><td style=\"text-align: right;\">     1</td><td style=\"text-align: right;\">       170.362  </td><td style=\"text-align: right;\">  0.238771   </td><td style=\"text-align: right;\">     0.184378  </td></tr>\n",
       "<tr><td>train_de_143ea5a3</td><td>TERMINATED</td><td>10.2.219.10:3629371</td><td style=\"text-align: right;\">    11.8252 </td><td style=\"text-align: right;\">    181.023  </td><td style=\"text-align: right;\">0.0770562  </td><td style=\"text-align: right;\">     6.44662</td><td style=\"text-align: right;\">     9.0197 </td><td style=\"text-align: right;\">  21.2023 </td><td style=\"text-align: right;\">     1</td><td style=\"text-align: right;\">        66.0506 </td><td style=\"text-align: right;\">nan          </td><td style=\"text-align: right;\">   inf         </td></tr>\n",
       "<tr><td>train_de_50406aa5</td><td>TERMINATED</td><td>10.2.219.10:3627693</td><td style=\"text-align: right;\">    15.6404 </td><td style=\"text-align: right;\">    178.675  </td><td style=\"text-align: right;\">0.0486223  </td><td style=\"text-align: right;\">     6.66646</td><td style=\"text-align: right;\">     6.8608 </td><td style=\"text-align: right;\">  29.1013 </td><td style=\"text-align: right;\">     1</td><td style=\"text-align: right;\">        95.423  </td><td style=\"text-align: right;\">nan          </td><td style=\"text-align: right;\">     0.184478  </td></tr>\n",
       "<tr><td>train_de_483e0e24</td><td>TERMINATED</td><td>10.2.219.10:3627048</td><td style=\"text-align: right;\">     5.73255</td><td style=\"text-align: right;\">     51.0042 </td><td style=\"text-align: right;\">0.0810609  </td><td style=\"text-align: right;\">     3.49246</td><td style=\"text-align: right;\">     6.20088</td><td style=\"text-align: right;\">   1.32092</td><td style=\"text-align: right;\">     1</td><td style=\"text-align: right;\">         5.62037</td><td style=\"text-align: right;\">  0.433849   </td><td style=\"text-align: right;\">     0.227011  </td></tr>\n",
       "<tr><td>train_de_726b1851</td><td>TERMINATED</td><td>10.2.219.10:3631571</td><td style=\"text-align: right;\">    14.8103 </td><td style=\"text-align: right;\">     62.4857 </td><td style=\"text-align: right;\">0.0385318  </td><td style=\"text-align: right;\">     8.12397</td><td style=\"text-align: right;\">     3.10235</td><td style=\"text-align: right;\">   5.19012</td><td style=\"text-align: right;\">     1</td><td style=\"text-align: right;\">        12.1985 </td><td style=\"text-align: right;\">  4.34601e-05</td><td style=\"text-align: right;\">     0.176219  </td></tr>\n",
       "<tr><td>train_de_33d8eea4</td><td>TERMINATED</td><td>10.2.219.10:3627048</td><td style=\"text-align: right;\">     9.09952</td><td style=\"text-align: right;\">    168.086  </td><td style=\"text-align: right;\">0.0617361  </td><td style=\"text-align: right;\">     3.05521</td><td style=\"text-align: right;\">     8.8567 </td><td style=\"text-align: right;\">   2.28545</td><td style=\"text-align: right;\">     1</td><td style=\"text-align: right;\">         4.73794</td><td style=\"text-align: right;\">nan          </td><td style=\"text-align: right;\">   inf         </td></tr>\n",
       "<tr><td>train_de_9c1cdaeb</td><td>TERMINATED</td><td>10.2.219.10:3623099</td><td style=\"text-align: right;\">    16.479  </td><td style=\"text-align: right;\">    175.968  </td><td style=\"text-align: right;\">0.0845036  </td><td style=\"text-align: right;\">     5.22169</td><td style=\"text-align: right;\">     5.95711</td><td style=\"text-align: right;\">  35.2875 </td><td style=\"text-align: right;\">     1</td><td style=\"text-align: right;\">        42.5865 </td><td style=\"text-align: right;\">nan          </td><td style=\"text-align: right;\">   inf         </td></tr>\n",
       "<tr><td>train_de_670d9d8f</td><td>TERMINATED</td><td>10.2.219.10:3627048</td><td style=\"text-align: right;\">    17.161  </td><td style=\"text-align: right;\">     91.5405 </td><td style=\"text-align: right;\">0.0414636  </td><td style=\"text-align: right;\">     6.0447 </td><td style=\"text-align: right;\">     3.41182</td><td style=\"text-align: right;\">   4.77798</td><td style=\"text-align: right;\">     1</td><td style=\"text-align: right;\">         4.50576</td><td style=\"text-align: right;\">  0.12834    </td><td style=\"text-align: right;\">     0.188013  </td></tr>\n",
       "<tr><td>train_de_fa25b06a</td><td>TERMINATED</td><td>10.2.219.10:3626795</td><td style=\"text-align: right;\">     3.25646</td><td style=\"text-align: right;\">     35.1884 </td><td style=\"text-align: right;\">0.0729615  </td><td style=\"text-align: right;\">     3.13735</td><td style=\"text-align: right;\">     4.95355</td><td style=\"text-align: right;\">  33.1229 </td><td style=\"text-align: right;\">     1</td><td style=\"text-align: right;\">       126.311  </td><td style=\"text-align: right;\">  0.138812   </td><td style=\"text-align: right;\">     0.177166  </td></tr>\n",
       "<tr><td>train_de_fbb33ca9</td><td>TERMINATED</td><td>10.2.219.10:3627048</td><td style=\"text-align: right;\">     2.06016</td><td style=\"text-align: right;\">     93.0826 </td><td style=\"text-align: right;\">0.0423457  </td><td style=\"text-align: right;\">     2.46737</td><td style=\"text-align: right;\">     4.90857</td><td style=\"text-align: right;\">  18.1845 </td><td style=\"text-align: right;\">     1</td><td style=\"text-align: right;\">        96.2406 </td><td style=\"text-align: right;\">  0.320043   </td><td style=\"text-align: right;\">     0.0449859 </td></tr>\n",
       "<tr><td>train_de_5326986e</td><td>TERMINATED</td><td>10.2.219.10:3631571</td><td style=\"text-align: right;\">     1.70123</td><td style=\"text-align: right;\">     77.6209 </td><td style=\"text-align: right;\">0.0969537  </td><td style=\"text-align: right;\">     5.17282</td><td style=\"text-align: right;\">     3.01933</td><td style=\"text-align: right;\">   6.74325</td><td style=\"text-align: right;\">     1</td><td style=\"text-align: right;\">        98.1645 </td><td style=\"text-align: right;\">  0.108239   </td><td style=\"text-align: right;\">     0.202974  </td></tr>\n",
       "<tr><td>train_de_03721124</td><td>TERMINATED</td><td>10.2.219.10:3635151</td><td style=\"text-align: right;\">     3.75763</td><td style=\"text-align: right;\">     49.9395 </td><td style=\"text-align: right;\">0.0746102  </td><td style=\"text-align: right;\">     8.91813</td><td style=\"text-align: right;\">     6.50436</td><td style=\"text-align: right;\">  18.7214 </td><td style=\"text-align: right;\">     1</td><td style=\"text-align: right;\">       301.085  </td><td style=\"text-align: right;\">  0.580934   </td><td style=\"text-align: right;\">     0.191323  </td></tr>\n",
       "<tr><td>train_de_8ef96a7c</td><td>TERMINATED</td><td>10.2.219.10:3630145</td><td style=\"text-align: right;\">    19.0777 </td><td style=\"text-align: right;\">     49.3155 </td><td style=\"text-align: right;\">0.0401706  </td><td style=\"text-align: right;\">     5.93532</td><td style=\"text-align: right;\">     9.49431</td><td style=\"text-align: right;\">   6.47932</td><td style=\"text-align: right;\">     1</td><td style=\"text-align: right;\">        14.2308 </td><td style=\"text-align: right;\">  0.232154   </td><td style=\"text-align: right;\">     0.180994  </td></tr>\n",
       "<tr><td>train_de_49f9b845</td><td>TERMINATED</td><td>10.2.219.10:3632074</td><td style=\"text-align: right;\">    15.6721 </td><td style=\"text-align: right;\">    121.553  </td><td style=\"text-align: right;\">0.0342674  </td><td style=\"text-align: right;\">     2.20168</td><td style=\"text-align: right;\">     9.68648</td><td style=\"text-align: right;\">   2.31787</td><td style=\"text-align: right;\">     1</td><td style=\"text-align: right;\">         4.55843</td><td style=\"text-align: right;\">  0.248554   </td><td style=\"text-align: right;\">     0.207174  </td></tr>\n",
       "<tr><td>train_de_29d6206e</td><td>TERMINATED</td><td>10.2.219.10:3626469</td><td style=\"text-align: right;\">     7.04264</td><td style=\"text-align: right;\">     20.8232 </td><td style=\"text-align: right;\">0.0336433  </td><td style=\"text-align: right;\">     9.0593 </td><td style=\"text-align: right;\">     5.70955</td><td style=\"text-align: right;\">   8.49019</td><td style=\"text-align: right;\">     1</td><td style=\"text-align: right;\">        53.9088 </td><td style=\"text-align: right;\">  0.370426   </td><td style=\"text-align: right;\">     0.186803  </td></tr>\n",
       "<tr><td>train_de_ae20415f</td><td>TERMINATED</td><td>10.2.219.10:3632074</td><td style=\"text-align: right;\">     3.84998</td><td style=\"text-align: right;\">     11.6291 </td><td style=\"text-align: right;\">0.0477818  </td><td style=\"text-align: right;\">     9.31002</td><td style=\"text-align: right;\">     9.81146</td><td style=\"text-align: right;\">  34.2552 </td><td style=\"text-align: right;\">     1</td><td style=\"text-align: right;\">       542.311  </td><td style=\"text-align: right;\"> -0.0604555  </td><td style=\"text-align: right;\">     0.190313  </td></tr>\n",
       "<tr><td>train_de_207f9210</td><td>TERMINATED</td><td>10.2.219.10:3626519</td><td style=\"text-align: right;\">     9.10894</td><td style=\"text-align: right;\">     48.0516 </td><td style=\"text-align: right;\">0.0674553  </td><td style=\"text-align: right;\">     6.55413</td><td style=\"text-align: right;\">     5.24354</td><td style=\"text-align: right;\">  11.8869 </td><td style=\"text-align: right;\">     1</td><td style=\"text-align: right;\">        21.6661 </td><td style=\"text-align: right;\"> -0.0105624  </td><td style=\"text-align: right;\">     0.189509  </td></tr>\n",
       "<tr><td>train_de_c52b7802</td><td>TERMINATED</td><td>10.2.219.10:3630145</td><td style=\"text-align: right;\">    14.9779 </td><td style=\"text-align: right;\">    188.146  </td><td style=\"text-align: right;\">0.0981644  </td><td style=\"text-align: right;\">     6.20695</td><td style=\"text-align: right;\">     5.63427</td><td style=\"text-align: right;\">  49.6256 </td><td style=\"text-align: right;\">     1</td><td style=\"text-align: right;\">        66.5605 </td><td style=\"text-align: right;\">nan          </td><td style=\"text-align: right;\">   inf         </td></tr>\n",
       "<tr><td>train_de_bbf5ba6a</td><td>TERMINATED</td><td>10.2.219.10:3628561</td><td style=\"text-align: right;\">    18.7407 </td><td style=\"text-align: right;\">     39.6336 </td><td style=\"text-align: right;\">0.0507436  </td><td style=\"text-align: right;\">     5.58659</td><td style=\"text-align: right;\">     6.26675</td><td style=\"text-align: right;\">  11.4345 </td><td style=\"text-align: right;\">     1</td><td style=\"text-align: right;\">        12.2257 </td><td style=\"text-align: right;\">  0.253255   </td><td style=\"text-align: right;\">     0.166143  </td></tr>\n",
       "<tr><td>train_de_b78c5ea7</td><td>TERMINATED</td><td>10.2.219.10:3623099</td><td style=\"text-align: right;\">    17.4139 </td><td style=\"text-align: right;\">     16.6651 </td><td style=\"text-align: right;\">0.0228248  </td><td style=\"text-align: right;\">     5.51139</td><td style=\"text-align: right;\">     8.0138 </td><td style=\"text-align: right;\">  25.3724 </td><td style=\"text-align: right;\">     1</td><td style=\"text-align: right;\">        32.6678 </td><td style=\"text-align: right;\">  0.220164   </td><td style=\"text-align: right;\">     0.187887  </td></tr>\n",
       "<tr><td>train_de_dfeab029</td><td>TERMINATED</td><td>10.2.219.10:3628196</td><td style=\"text-align: right;\">     2.81831</td><td style=\"text-align: right;\">     27.1604 </td><td style=\"text-align: right;\">0.0861783  </td><td style=\"text-align: right;\">     5.39305</td><td style=\"text-align: right;\">     4.60177</td><td style=\"text-align: right;\">  24.9893 </td><td style=\"text-align: right;\">     1</td><td style=\"text-align: right;\">       203.403  </td><td style=\"text-align: right;\"> -0.16152    </td><td style=\"text-align: right;\">     0.191153  </td></tr>\n",
       "<tr><td>train_de_7f3bf46f</td><td>TERMINATED</td><td>10.2.219.10:3629371</td><td style=\"text-align: right;\">     6.70984</td><td style=\"text-align: right;\">     87.2782 </td><td style=\"text-align: right;\">0.0198512  </td><td style=\"text-align: right;\">     5.79555</td><td style=\"text-align: right;\">     4.7401 </td><td style=\"text-align: right;\">  35.8359 </td><td style=\"text-align: right;\">     1</td><td style=\"text-align: right;\">       184.161  </td><td style=\"text-align: right;\"> -0.0467313  </td><td style=\"text-align: right;\">     0.186916  </td></tr>\n",
       "<tr><td>train_de_15e5071f</td><td>TERMINATED</td><td>10.2.219.10:3628561</td><td style=\"text-align: right;\">    11.181  </td><td style=\"text-align: right;\">     70.3827 </td><td style=\"text-align: right;\">0.0844988  </td><td style=\"text-align: right;\">     8.9517 </td><td style=\"text-align: right;\">     8.67243</td><td style=\"text-align: right;\">   1.72788</td><td style=\"text-align: right;\">     1</td><td style=\"text-align: right;\">        16.1307 </td><td style=\"text-align: right;\">  0.330786   </td><td style=\"text-align: right;\">     0.197879  </td></tr>\n",
       "<tr><td>train_de_8cbf3fef</td><td>TERMINATED</td><td>10.2.219.10:3627183</td><td style=\"text-align: right;\">    13.0222 </td><td style=\"text-align: right;\">      2.70705</td><td style=\"text-align: right;\">0.058982   </td><td style=\"text-align: right;\">     5.48763</td><td style=\"text-align: right;\">     6.56866</td><td style=\"text-align: right;\">  36.1861 </td><td style=\"text-align: right;\">     1</td><td style=\"text-align: right;\">        47.3924 </td><td style=\"text-align: right;\">  0.251333   </td><td style=\"text-align: right;\">     0.182567  </td></tr>\n",
       "<tr><td>train_de_25888409</td><td>TERMINATED</td><td>10.2.219.10:3626519</td><td style=\"text-align: right;\">     2.73383</td><td style=\"text-align: right;\">    137.686  </td><td style=\"text-align: right;\">0.0121281  </td><td style=\"text-align: right;\">     9.45157</td><td style=\"text-align: right;\">     3.70829</td><td style=\"text-align: right;\">  35.133  </td><td style=\"text-align: right;\">     1</td><td style=\"text-align: right;\">       411.391  </td><td style=\"text-align: right;\"> -0.219252   </td><td style=\"text-align: right;\">     0.190896  </td></tr>\n",
       "<tr><td>train_de_27a3342c</td><td>TERMINATED</td><td>10.2.219.10:3631392</td><td style=\"text-align: right;\">     6.28252</td><td style=\"text-align: right;\">     26.1747 </td><td style=\"text-align: right;\">0.00692252 </td><td style=\"text-align: right;\">     3.65615</td><td style=\"text-align: right;\">     9.20371</td><td style=\"text-align: right;\">  26.0579 </td><td style=\"text-align: right;\">     1</td><td style=\"text-align: right;\">       225.217  </td><td style=\"text-align: right;\"> -0.14991    </td><td style=\"text-align: right;\">     0.153165  </td></tr>\n",
       "<tr><td>train_de_7d843c1b</td><td>TERMINATED</td><td>10.2.219.10:3628561</td><td style=\"text-align: right;\">     4.52512</td><td style=\"text-align: right;\">    141.254  </td><td style=\"text-align: right;\">0.0052006  </td><td style=\"text-align: right;\">     7.57405</td><td style=\"text-align: right;\">     8.99381</td><td style=\"text-align: right;\">  44.284  </td><td style=\"text-align: right;\">     1</td><td style=\"text-align: right;\">       765.314  </td><td style=\"text-align: right;\">  0.0618643  </td><td style=\"text-align: right;\">     0.168384  </td></tr>\n",
       "<tr><td>train_de_c7f52bbf</td><td>TERMINATED</td><td>10.2.219.10:3627323</td><td style=\"text-align: right;\">     8.89832</td><td style=\"text-align: right;\">    149.389  </td><td style=\"text-align: right;\">0.0654879  </td><td style=\"text-align: right;\">     6.93581</td><td style=\"text-align: right;\">     5.24379</td><td style=\"text-align: right;\">  47.3335 </td><td style=\"text-align: right;\">     1</td><td style=\"text-align: right;\">       126.783  </td><td style=\"text-align: right;\">nan          </td><td style=\"text-align: right;\">   inf         </td></tr>\n",
       "<tr><td>train_de_90df8a93</td><td>TERMINATED</td><td>10.2.219.10:3623099</td><td style=\"text-align: right;\">    19.2146 </td><td style=\"text-align: right;\">    182.497  </td><td style=\"text-align: right;\">0.0754176  </td><td style=\"text-align: right;\">     9.70667</td><td style=\"text-align: right;\">     6.12281</td><td style=\"text-align: right;\">  15.947  </td><td style=\"text-align: right;\">     1</td><td style=\"text-align: right;\">        26.9017 </td><td style=\"text-align: right;\">nan          </td><td style=\"text-align: right;\">   inf         </td></tr>\n",
       "<tr><td>train_de_cd2b9260</td><td>TERMINATED</td><td>10.2.219.10:3628419</td><td style=\"text-align: right;\">    15.358  </td><td style=\"text-align: right;\">    185.362  </td><td style=\"text-align: right;\">0.0638979  </td><td style=\"text-align: right;\">     3.85295</td><td style=\"text-align: right;\">     8.42306</td><td style=\"text-align: right;\">  30.3182 </td><td style=\"text-align: right;\">     1</td><td style=\"text-align: right;\">       183.123  </td><td style=\"text-align: right;\">  0.332791   </td><td style=\"text-align: right;\">     0.182237  </td></tr>\n",
       "<tr><td>train_de_62734935</td><td>TERMINATED</td><td>10.2.219.10:3626469</td><td style=\"text-align: right;\">     5.01484</td><td style=\"text-align: right;\">    159.37   </td><td style=\"text-align: right;\">0.0153023  </td><td style=\"text-align: right;\">     3.87609</td><td style=\"text-align: right;\">     9.0503 </td><td style=\"text-align: right;\">  49.4065 </td><td style=\"text-align: right;\">     1</td><td style=\"text-align: right;\">       340.243  </td><td style=\"text-align: right;\">  0.486895   </td><td style=\"text-align: right;\">     0.183101  </td></tr>\n",
       "<tr><td>train_de_bf2688f3</td><td>TERMINATED</td><td>10.2.219.10:3627693</td><td style=\"text-align: right;\">     2.5692 </td><td style=\"text-align: right;\">    102.333  </td><td style=\"text-align: right;\">0.014149   </td><td style=\"text-align: right;\">     2.10078</td><td style=\"text-align: right;\">     5.34215</td><td style=\"text-align: right;\">   7.72825</td><td style=\"text-align: right;\">     1</td><td style=\"text-align: right;\">       105.437  </td><td style=\"text-align: right;\"> -0.0493669  </td><td style=\"text-align: right;\">     0.00980279</td></tr>\n",
       "<tr><td>train_de_a075e9c9</td><td>TERMINATED</td><td>10.2.219.10:3636609</td><td style=\"text-align: right;\">    16.6963 </td><td style=\"text-align: right;\">    157.976  </td><td style=\"text-align: right;\">0.0842133  </td><td style=\"text-align: right;\">     9.41917</td><td style=\"text-align: right;\">     5.62382</td><td style=\"text-align: right;\">  29.8586 </td><td style=\"text-align: right;\">     1</td><td style=\"text-align: right;\">        50.0906 </td><td style=\"text-align: right;\">nan          </td><td style=\"text-align: right;\">   inf         </td></tr>\n",
       "<tr><td>train_de_f1564ee7</td><td>TERMINATED</td><td>10.2.219.10:3632708</td><td style=\"text-align: right;\">    11.7225 </td><td style=\"text-align: right;\">    127.673  </td><td style=\"text-align: right;\">0.06639    </td><td style=\"text-align: right;\">     7.6229 </td><td style=\"text-align: right;\">     4.02536</td><td style=\"text-align: right;\">  45.2187 </td><td style=\"text-align: right;\">     1</td><td style=\"text-align: right;\">        72.9838 </td><td style=\"text-align: right;\">nan          </td><td style=\"text-align: right;\">   inf         </td></tr>\n",
       "<tr><td>train_de_8ef9da6d</td><td>TERMINATED</td><td>10.2.219.10:3631024</td><td style=\"text-align: right;\">    15.0702 </td><td style=\"text-align: right;\">    133.766  </td><td style=\"text-align: right;\">0.0682095  </td><td style=\"text-align: right;\">     6.12445</td><td style=\"text-align: right;\">     3.97676</td><td style=\"text-align: right;\">  49.1196 </td><td style=\"text-align: right;\">     1</td><td style=\"text-align: right;\">        65.4741 </td><td style=\"text-align: right;\">  0.242062   </td><td style=\"text-align: right;\">     0.186605  </td></tr>\n",
       "<tr><td>train_de_ea826a8f</td><td>TERMINATED</td><td>10.2.219.10:3630145</td><td style=\"text-align: right;\">    18.2634 </td><td style=\"text-align: right;\">     67.455  </td><td style=\"text-align: right;\">0.0887022  </td><td style=\"text-align: right;\">     3.75795</td><td style=\"text-align: right;\">     7.64398</td><td style=\"text-align: right;\">  14.3674 </td><td style=\"text-align: right;\">     1</td><td style=\"text-align: right;\">        17.187  </td><td style=\"text-align: right;\">  0.219253   </td><td style=\"text-align: right;\">     0.184951  </td></tr>\n",
       "<tr><td>train_de_c8d21158</td><td>TERMINATED</td><td>10.2.219.10:3623099</td><td style=\"text-align: right;\">    19.2743 </td><td style=\"text-align: right;\">    110.394  </td><td style=\"text-align: right;\">0.0317074  </td><td style=\"text-align: right;\">     9.21077</td><td style=\"text-align: right;\">     4.64038</td><td style=\"text-align: right;\">  26.9594 </td><td style=\"text-align: right;\">     1</td><td style=\"text-align: right;\">        91.3799 </td><td style=\"text-align: right;\">  0.288575   </td><td style=\"text-align: right;\">     0.188405  </td></tr>\n",
       "<tr><td>train_de_73babc85</td><td>TERMINATED</td><td>10.2.219.10:3627183</td><td style=\"text-align: right;\">    12.6764 </td><td style=\"text-align: right;\">     93.1831 </td><td style=\"text-align: right;\">0.0101808  </td><td style=\"text-align: right;\">     9.02207</td><td style=\"text-align: right;\">     8.11945</td><td style=\"text-align: right;\">  37.8774 </td><td style=\"text-align: right;\">     1</td><td style=\"text-align: right;\">       151.721  </td><td style=\"text-align: right;\">  0.15635    </td><td style=\"text-align: right;\">     0.187585  </td></tr>\n",
       "<tr><td>train_de_49455f8f</td><td>TERMINATED</td><td>10.2.219.10:3627048</td><td style=\"text-align: right;\">     1.80749</td><td style=\"text-align: right;\">    185.116  </td><td style=\"text-align: right;\">0.0685434  </td><td style=\"text-align: right;\">     9.4928 </td><td style=\"text-align: right;\">     7.2192 </td><td style=\"text-align: right;\">  31.4586 </td><td style=\"text-align: right;\">     1</td><td style=\"text-align: right;\">      1100.01   </td><td style=\"text-align: right;\">nan          </td><td style=\"text-align: right;\">   inf         </td></tr>\n",
       "<tr><td>train_de_e73b073e</td><td>TERMINATED</td><td>10.2.219.10:3631571</td><td style=\"text-align: right;\">     8.57677</td><td style=\"text-align: right;\">    166.076  </td><td style=\"text-align: right;\">0.0949805  </td><td style=\"text-align: right;\">     7.84475</td><td style=\"text-align: right;\">     4.2848 </td><td style=\"text-align: right;\">  13.4273 </td><td style=\"text-align: right;\">     1</td><td style=\"text-align: right;\">        28.0939 </td><td style=\"text-align: right;\">nan          </td><td style=\"text-align: right;\">   inf         </td></tr>\n",
       "<tr><td>train_de_3f0ceeda</td><td>TERMINATED</td><td>10.2.219.10:3627392</td><td style=\"text-align: right;\">    13.0472 </td><td style=\"text-align: right;\">    110.356  </td><td style=\"text-align: right;\">0.0941945  </td><td style=\"text-align: right;\">     5.69616</td><td style=\"text-align: right;\">     3.90276</td><td style=\"text-align: right;\">  30.0784 </td><td style=\"text-align: right;\">     1</td><td style=\"text-align: right;\">        46.2543 </td><td style=\"text-align: right;\">nan          </td><td style=\"text-align: right;\">     0.293401  </td></tr>\n",
       "<tr><td>train_de_ad54ce86</td><td>TERMINATED</td><td>10.2.219.10:3630145</td><td style=\"text-align: right;\">    16.7004 </td><td style=\"text-align: right;\">     70.5222 </td><td style=\"text-align: right;\">0.0720421  </td><td style=\"text-align: right;\">     5.22988</td><td style=\"text-align: right;\">     7.0248 </td><td style=\"text-align: right;\">  36.258  </td><td style=\"text-align: right;\">     1</td><td style=\"text-align: right;\">        55.3638 </td><td style=\"text-align: right;\"> -0.191944   </td><td style=\"text-align: right;\">     0.194319  </td></tr>\n",
       "<tr><td>train_de_99063514</td><td>TERMINATED</td><td>10.2.219.10:3637147</td><td style=\"text-align: right;\">    18.6669 </td><td style=\"text-align: right;\">     26.9663 </td><td style=\"text-align: right;\">0.0902138  </td><td style=\"text-align: right;\">     9.57178</td><td style=\"text-align: right;\">     5.16105</td><td style=\"text-align: right;\">  21.1434 </td><td style=\"text-align: right;\">     1</td><td style=\"text-align: right;\">        54.8966 </td><td style=\"text-align: right;\">  0.232205   </td><td style=\"text-align: right;\">     0.161829  </td></tr>\n",
       "<tr><td>train_de_0963ea74</td><td>TERMINATED</td><td>10.2.219.10:3626920</td><td style=\"text-align: right;\">     7.3822 </td><td style=\"text-align: right;\">     77.9446 </td><td style=\"text-align: right;\">0.0152106  </td><td style=\"text-align: right;\">     5.05698</td><td style=\"text-align: right;\">     9.21302</td><td style=\"text-align: right;\">  40.7831 </td><td style=\"text-align: right;\">     1</td><td style=\"text-align: right;\">       286.496  </td><td style=\"text-align: right;\">  0.145992   </td><td style=\"text-align: right;\">     0.187411  </td></tr>\n",
       "<tr><td>train_de_3241af5a</td><td>TERMINATED</td><td>10.2.219.10:3626795</td><td style=\"text-align: right;\">    17.4441 </td><td style=\"text-align: right;\">     37.3865 </td><td style=\"text-align: right;\">0.097553   </td><td style=\"text-align: right;\">     3.38013</td><td style=\"text-align: right;\">     5.34534</td><td style=\"text-align: right;\">  11.6402 </td><td style=\"text-align: right;\">     1</td><td style=\"text-align: right;\">        15.1551 </td><td style=\"text-align: right;\">  0.230933   </td><td style=\"text-align: right;\">     0.194365  </td></tr>\n",
       "<tr><td>train_de_8a3ea531</td><td>TERMINATED</td><td>10.2.219.10:3626583</td><td style=\"text-align: right;\">     6.56209</td><td style=\"text-align: right;\">    143.621  </td><td style=\"text-align: right;\">0.0423683  </td><td style=\"text-align: right;\">     6.50387</td><td style=\"text-align: right;\">     7.27206</td><td style=\"text-align: right;\">   4.05156</td><td style=\"text-align: right;\">     1</td><td style=\"text-align: right;\">        19.9845 </td><td style=\"text-align: right;\">nan          </td><td style=\"text-align: right;\">   inf         </td></tr>\n",
       "<tr><td>train_de_528961d9</td><td>TERMINATED</td><td>10.2.219.10:3631571</td><td style=\"text-align: right;\">     2.1958 </td><td style=\"text-align: right;\">    156.442  </td><td style=\"text-align: right;\">0.0796054  </td><td style=\"text-align: right;\">     3.55931</td><td style=\"text-align: right;\">     8.25202</td><td style=\"text-align: right;\">   3.85224</td><td style=\"text-align: right;\">     1</td><td style=\"text-align: right;\">        31.1838 </td><td style=\"text-align: right;\">nan          </td><td style=\"text-align: right;\">   inf         </td></tr>\n",
       "<tr><td>train_de_bce74617</td><td>TERMINATED</td><td>10.2.219.10:3628001</td><td style=\"text-align: right;\">     2.2659 </td><td style=\"text-align: right;\">     39.1038 </td><td style=\"text-align: right;\">0.0821693  </td><td style=\"text-align: right;\">     8.12477</td><td style=\"text-align: right;\">     6.64713</td><td style=\"text-align: right;\">   5.93053</td><td style=\"text-align: right;\">     1</td><td style=\"text-align: right;\">        95.3055 </td><td style=\"text-align: right;\"> -0.114773   </td><td style=\"text-align: right;\">     0.193874  </td></tr>\n",
       "<tr><td>train_de_3981a2e4</td><td>TERMINATED</td><td>10.2.219.10:3636609</td><td style=\"text-align: right;\">    17.2552 </td><td style=\"text-align: right;\">    176.745  </td><td style=\"text-align: right;\">0.0702022  </td><td style=\"text-align: right;\">     9.52115</td><td style=\"text-align: right;\">     6.27507</td><td style=\"text-align: right;\">  35.9993 </td><td style=\"text-align: right;\">     1</td><td style=\"text-align: right;\">        68.0099 </td><td style=\"text-align: right;\">nan          </td><td style=\"text-align: right;\">   inf         </td></tr>\n",
       "<tr><td>train_de_dc1e3aeb</td><td>TERMINATED</td><td>10.2.219.10:3626795</td><td style=\"text-align: right;\">     5.28121</td><td style=\"text-align: right;\">    154.443  </td><td style=\"text-align: right;\">0.0554154  </td><td style=\"text-align: right;\">     6.66989</td><td style=\"text-align: right;\">     5.48093</td><td style=\"text-align: right;\">  49.6562 </td><td style=\"text-align: right;\">     1</td><td style=\"text-align: right;\">       247.699  </td><td style=\"text-align: right;\">nan          </td><td style=\"text-align: right;\">   inf         </td></tr>\n",
       "<tr><td>train_de_3110d8a9</td><td>TERMINATED</td><td>10.2.219.10:3630810</td><td style=\"text-align: right;\">     7.99455</td><td style=\"text-align: right;\">     11.6144 </td><td style=\"text-align: right;\">0.0630647  </td><td style=\"text-align: right;\">     9.3092 </td><td style=\"text-align: right;\">     8.21629</td><td style=\"text-align: right;\">  35.4252 </td><td style=\"text-align: right;\">     1</td><td style=\"text-align: right;\">       263.5    </td><td style=\"text-align: right;\">  0.291974   </td><td style=\"text-align: right;\">     0.189379  </td></tr>\n",
       "<tr><td>train_de_d3fcd51b</td><td>TERMINATED</td><td>10.2.219.10:3626583</td><td style=\"text-align: right;\">    10.5542 </td><td style=\"text-align: right;\">    159.778  </td><td style=\"text-align: right;\">0.0489091  </td><td style=\"text-align: right;\">     2.86513</td><td style=\"text-align: right;\">     7.89748</td><td style=\"text-align: right;\">  41.3961 </td><td style=\"text-align: right;\">     1</td><td style=\"text-align: right;\">       129.599  </td><td style=\"text-align: right;\">  0.187707   </td><td style=\"text-align: right;\">     0.189187  </td></tr>\n",
       "<tr><td>train_de_e86c214b</td><td>TERMINATED</td><td>10.2.219.10:3630935</td><td style=\"text-align: right;\">    11.4821 </td><td style=\"text-align: right;\">     44.1888 </td><td style=\"text-align: right;\">0.0736013  </td><td style=\"text-align: right;\">     3.07119</td><td style=\"text-align: right;\">     4.46241</td><td style=\"text-align: right;\">   3.36124</td><td style=\"text-align: right;\">     1</td><td style=\"text-align: right;\">        10.4995 </td><td style=\"text-align: right;\">  0.226963   </td><td style=\"text-align: right;\">     0.178297  </td></tr>\n",
       "<tr><td>train_de_5b029ea1</td><td>TERMINATED</td><td>10.2.219.10:3627392</td><td style=\"text-align: right;\">     2.70307</td><td style=\"text-align: right;\">    129.8    </td><td style=\"text-align: right;\">0.0279518  </td><td style=\"text-align: right;\">     3.3963 </td><td style=\"text-align: right;\">     5.2293 </td><td style=\"text-align: right;\">  23.4098 </td><td style=\"text-align: right;\">     1</td><td style=\"text-align: right;\">       208.145  </td><td style=\"text-align: right;\">  0.415968   </td><td style=\"text-align: right;\">     0.097801  </td></tr>\n",
       "<tr><td>train_de_cb867632</td><td>TERMINATED</td><td>10.2.219.10:3631024</td><td style=\"text-align: right;\">     1.81401</td><td style=\"text-align: right;\">     38.4497 </td><td style=\"text-align: right;\">0.0101726  </td><td style=\"text-align: right;\">     2.94925</td><td style=\"text-align: right;\">     4.90189</td><td style=\"text-align: right;\">  20.0455 </td><td style=\"text-align: right;\">     1</td><td style=\"text-align: right;\">       447.933  </td><td style=\"text-align: right;\"> -2.19797    </td><td style=\"text-align: right;\">    -2.14819   </td></tr>\n",
       "<tr><td>train_de_25b6477c</td><td>TERMINATED</td><td>10.2.219.10:3628826</td><td style=\"text-align: right;\">    17.158  </td><td style=\"text-align: right;\">     81.623  </td><td style=\"text-align: right;\">0.0279446  </td><td style=\"text-align: right;\">     2.72055</td><td style=\"text-align: right;\">     3.74173</td><td style=\"text-align: right;\">   7.80851</td><td style=\"text-align: right;\">     1</td><td style=\"text-align: right;\">         8.38251</td><td style=\"text-align: right;\">  0.0896544  </td><td style=\"text-align: right;\">     0.193854  </td></tr>\n",
       "<tr><td>train_de_ed5c2e13</td><td>TERMINATED</td><td>10.2.219.10:3633324</td><td style=\"text-align: right;\">     6.65202</td><td style=\"text-align: right;\">     89.5367 </td><td style=\"text-align: right;\">0.0161358  </td><td style=\"text-align: right;\">     8.37276</td><td style=\"text-align: right;\">     4.73994</td><td style=\"text-align: right;\">   5.97919</td><td style=\"text-align: right;\">     1</td><td style=\"text-align: right;\">        40.2824 </td><td style=\"text-align: right;\"> -0.00120076 </td><td style=\"text-align: right;\">     0.185719  </td></tr>\n",
       "<tr><td>train_de_968382f6</td><td>TERMINATED</td><td>10.2.219.10:3631571</td><td style=\"text-align: right;\">     9.62599</td><td style=\"text-align: right;\">    174.07   </td><td style=\"text-align: right;\">0.0429684  </td><td style=\"text-align: right;\">     7.29962</td><td style=\"text-align: right;\">     7.95658</td><td style=\"text-align: right;\">  42.8406 </td><td style=\"text-align: right;\">     1</td><td style=\"text-align: right;\">       208.223  </td><td style=\"text-align: right;\">nan          </td><td style=\"text-align: right;\">   inf         </td></tr>\n",
       "<tr><td>train_de_7550fff0</td><td>TERMINATED</td><td>10.2.219.10:3632708</td><td style=\"text-align: right;\">    11.8163 </td><td style=\"text-align: right;\">     49.1571 </td><td style=\"text-align: right;\">0.0324173  </td><td style=\"text-align: right;\">     6.65903</td><td style=\"text-align: right;\">     9.39332</td><td style=\"text-align: right;\">  33.1562 </td><td style=\"text-align: right;\">     1</td><td style=\"text-align: right;\">       157.426  </td><td style=\"text-align: right;\">  0.105671   </td><td style=\"text-align: right;\">     0.177454  </td></tr>\n",
       "<tr><td>train_de_38f53d79</td><td>TERMINATED</td><td>10.2.219.10:3630935</td><td style=\"text-align: right;\">     6.75021</td><td style=\"text-align: right;\">    184.422  </td><td style=\"text-align: right;\">0.0533004  </td><td style=\"text-align: right;\">     9.51985</td><td style=\"text-align: right;\">     9.20868</td><td style=\"text-align: right;\">  46.6135 </td><td style=\"text-align: right;\">     1</td><td style=\"text-align: right;\">       390.613  </td><td style=\"text-align: right;\">nan          </td><td style=\"text-align: right;\">   inf         </td></tr>\n",
       "<tr><td>train_de_67878578</td><td>TERMINATED</td><td>10.2.219.10:3630145</td><td style=\"text-align: right;\">    18.5792 </td><td style=\"text-align: right;\">    167.763  </td><td style=\"text-align: right;\">0.0831539  </td><td style=\"text-align: right;\">     7.67013</td><td style=\"text-align: right;\">     5.56227</td><td style=\"text-align: right;\">   4.07021</td><td style=\"text-align: right;\">     1</td><td style=\"text-align: right;\">         6.34259</td><td style=\"text-align: right;\">nan          </td><td style=\"text-align: right;\">   inf         </td></tr>\n",
       "<tr><td>train_de_9a50eefe</td><td>TERMINATED</td><td>10.2.219.10:3628826</td><td style=\"text-align: right;\">    12.6972 </td><td style=\"text-align: right;\">     38.766  </td><td style=\"text-align: right;\">0.0274435  </td><td style=\"text-align: right;\">     3.99875</td><td style=\"text-align: right;\">     6.70435</td><td style=\"text-align: right;\">  12.2903 </td><td style=\"text-align: right;\">     1</td><td style=\"text-align: right;\">        17.8924 </td><td style=\"text-align: right;\">  0.303005   </td><td style=\"text-align: right;\">     0.189193  </td></tr>\n",
       "<tr><td>train_de_736924e1</td><td>TERMINATED</td><td>10.2.219.10:3630145</td><td style=\"text-align: right;\">     8.69703</td><td style=\"text-align: right;\">    180.938  </td><td style=\"text-align: right;\">0.0922311  </td><td style=\"text-align: right;\">     7.69911</td><td style=\"text-align: right;\">     8.33679</td><td style=\"text-align: right;\">  15.8887 </td><td style=\"text-align: right;\">     1</td><td style=\"text-align: right;\">        64.8596 </td><td style=\"text-align: right;\">nan          </td><td style=\"text-align: right;\">   inf         </td></tr>\n",
       "<tr><td>train_de_23b936c5</td><td>TERMINATED</td><td>10.2.219.10:3637147</td><td style=\"text-align: right;\">    16.0122 </td><td style=\"text-align: right;\">     43.6205 </td><td style=\"text-align: right;\">0.0523182  </td><td style=\"text-align: right;\">     8.06757</td><td style=\"text-align: right;\">     7.72736</td><td style=\"text-align: right;\">  46.9986 </td><td style=\"text-align: right;\">     1</td><td style=\"text-align: right;\">       175.197  </td><td style=\"text-align: right;\">  0.0216134  </td><td style=\"text-align: right;\">     0.182292  </td></tr>\n",
       "<tr><td>train_de_44b7542c</td><td>TERMINATED</td><td>10.2.219.10:3627693</td><td style=\"text-align: right;\">    18.6828 </td><td style=\"text-align: right;\">     30.3639 </td><td style=\"text-align: right;\">0.0469272  </td><td style=\"text-align: right;\">     6.38132</td><td style=\"text-align: right;\">     7.44438</td><td style=\"text-align: right;\">  32.5652 </td><td style=\"text-align: right;\">     1</td><td style=\"text-align: right;\">        39.3845 </td><td style=\"text-align: right;\">  0.116019   </td><td style=\"text-align: right;\">     0.168964  </td></tr>\n",
       "<tr><td>train_de_47231779</td><td>TERMINATED</td><td>10.2.219.10:3628826</td><td style=\"text-align: right;\">     5.59125</td><td style=\"text-align: right;\">    146.905  </td><td style=\"text-align: right;\">0.0962753  </td><td style=\"text-align: right;\">     3.03499</td><td style=\"text-align: right;\">     5.27188</td><td style=\"text-align: right;\">  27.7489 </td><td style=\"text-align: right;\">     1</td><td style=\"text-align: right;\">        75.8533 </td><td style=\"text-align: right;\">nan          </td><td style=\"text-align: right;\">   inf         </td></tr>\n",
       "<tr><td>train_de_03cbb2cd</td><td>TERMINATED</td><td>10.2.219.10:3623099</td><td style=\"text-align: right;\">    17.2089 </td><td style=\"text-align: right;\">    115.971  </td><td style=\"text-align: right;\">0.0882793  </td><td style=\"text-align: right;\">     7.09519</td><td style=\"text-align: right;\">     8.20267</td><td style=\"text-align: right;\">  43.5259 </td><td style=\"text-align: right;\">     1</td><td style=\"text-align: right;\">        78.7644 </td><td style=\"text-align: right;\">nan          </td><td style=\"text-align: right;\">   inf         </td></tr>\n",
       "<tr><td>train_de_055387b0</td><td>TERMINATED</td><td>10.2.219.10:3627323</td><td style=\"text-align: right;\">    17.4925 </td><td style=\"text-align: right;\">     67.3205 </td><td style=\"text-align: right;\">0.0260153  </td><td style=\"text-align: right;\">     7.73774</td><td style=\"text-align: right;\">     3.98214</td><td style=\"text-align: right;\">  38.9959 </td><td style=\"text-align: right;\">     1</td><td style=\"text-align: right;\">        41.203  </td><td style=\"text-align: right;\">  0.114952   </td><td style=\"text-align: right;\">     0.189057  </td></tr>\n",
       "<tr><td>train_de_1d6362f5</td><td>TERMINATED</td><td>10.2.219.10:3633324</td><td style=\"text-align: right;\">    16.218  </td><td style=\"text-align: right;\">     93.9937 </td><td style=\"text-align: right;\">0.026029   </td><td style=\"text-align: right;\">     3.63786</td><td style=\"text-align: right;\">     9.28363</td><td style=\"text-align: right;\">  40.1632 </td><td style=\"text-align: right;\">     1</td><td style=\"text-align: right;\">        59.8119 </td><td style=\"text-align: right;\">  0.018002   </td><td style=\"text-align: right;\">     0.1838    </td></tr>\n",
       "<tr><td>train_de_793db469</td><td>TERMINATED</td><td>10.2.219.10:3636609</td><td style=\"text-align: right;\">    15.2419 </td><td style=\"text-align: right;\">     14.8289 </td><td style=\"text-align: right;\">0.0340501  </td><td style=\"text-align: right;\">     9.12656</td><td style=\"text-align: right;\">     7.33199</td><td style=\"text-align: right;\">   8.35073</td><td style=\"text-align: right;\">     1</td><td style=\"text-align: right;\">        18.1812 </td><td style=\"text-align: right;\">  0.0512932  </td><td style=\"text-align: right;\">     0.182107  </td></tr>\n",
       "<tr><td>train_de_0ca2d119</td><td>TERMINATED</td><td>10.2.219.10:3627693</td><td style=\"text-align: right;\">    19.2245 </td><td style=\"text-align: right;\">     17.2614 </td><td style=\"text-align: right;\">0.0273801  </td><td style=\"text-align: right;\">     9.18243</td><td style=\"text-align: right;\">     8.37114</td><td style=\"text-align: right;\">  32.9666 </td><td style=\"text-align: right;\">     1</td><td style=\"text-align: right;\">       105.911  </td><td style=\"text-align: right;\">  0.206508   </td><td style=\"text-align: right;\">     0.185744  </td></tr>\n",
       "<tr><td>train_de_65defd75</td><td>TERMINATED</td><td>10.2.219.10:3636609</td><td style=\"text-align: right;\">    11.8139 </td><td style=\"text-align: right;\">    154.521  </td><td style=\"text-align: right;\">0.00159248 </td><td style=\"text-align: right;\">     8.85405</td><td style=\"text-align: right;\">     5.26567</td><td style=\"text-align: right;\">  20.1915 </td><td style=\"text-align: right;\">     1</td><td style=\"text-align: right;\">       112.538  </td><td style=\"text-align: right;\">  0.238096   </td><td style=\"text-align: right;\">     0.173002  </td></tr>\n",
       "<tr><td>train_de_60843fdd</td><td>TERMINATED</td><td>10.2.219.10:3628001</td><td style=\"text-align: right;\">     1.34146</td><td style=\"text-align: right;\">    164.058  </td><td style=\"text-align: right;\">0.0999673  </td><td style=\"text-align: right;\">     2.39206</td><td style=\"text-align: right;\">     3.09813</td><td style=\"text-align: right;\">   5.87557</td><td style=\"text-align: right;\">     1</td><td style=\"text-align: right;\">        29.9327 </td><td style=\"text-align: right;\">nan          </td><td style=\"text-align: right;\">   inf         </td></tr>\n",
       "<tr><td>train_de_b73cb637</td><td>TERMINATED</td><td>10.2.219.10:3629371</td><td style=\"text-align: right;\">    19.8954 </td><td style=\"text-align: right;\">    176.833  </td><td style=\"text-align: right;\">0.0307397  </td><td style=\"text-align: right;\">     7.34089</td><td style=\"text-align: right;\">     3.10851</td><td style=\"text-align: right;\">  26.2259 </td><td style=\"text-align: right;\">     1</td><td style=\"text-align: right;\">        34.7004 </td><td style=\"text-align: right;\">  0.213908   </td><td style=\"text-align: right;\">     0.184679  </td></tr>\n",
       "<tr><td>train_de_aff4355c</td><td>TERMINATED</td><td>10.2.219.10:3627323</td><td style=\"text-align: right;\">    16.0532 </td><td style=\"text-align: right;\">    157.047  </td><td style=\"text-align: right;\">0.0885129  </td><td style=\"text-align: right;\">     8.19858</td><td style=\"text-align: right;\">     7.74656</td><td style=\"text-align: right;\">   7.38787</td><td style=\"text-align: right;\">     1</td><td style=\"text-align: right;\">        15.9574 </td><td style=\"text-align: right;\">nan          </td><td style=\"text-align: right;\">   inf         </td></tr>\n",
       "<tr><td>train_de_290f2c14</td><td>TERMINATED</td><td>10.2.219.10:3631729</td><td style=\"text-align: right;\">    18.9851 </td><td style=\"text-align: right;\">     59.4739 </td><td style=\"text-align: right;\">0.0755296  </td><td style=\"text-align: right;\">     5.71001</td><td style=\"text-align: right;\">     8.23574</td><td style=\"text-align: right;\">  47.5752 </td><td style=\"text-align: right;\">     1</td><td style=\"text-align: right;\">       180.548  </td><td style=\"text-align: right;\">  0.201952   </td><td style=\"text-align: right;\">     0.160391  </td></tr>\n",
       "<tr><td>train_de_c365689d</td><td>TERMINATED</td><td>10.2.219.10:3630145</td><td style=\"text-align: right;\">    18.5408 </td><td style=\"text-align: right;\">     83.113  </td><td style=\"text-align: right;\">0.0451524  </td><td style=\"text-align: right;\">     3.89236</td><td style=\"text-align: right;\">     7.49353</td><td style=\"text-align: right;\">  48.7267 </td><td style=\"text-align: right;\">     1</td><td style=\"text-align: right;\">        55.0401 </td><td style=\"text-align: right;\">  0.191252   </td><td style=\"text-align: right;\">     0.155502  </td></tr>\n",
       "<tr><td>train_de_c5bd6e3a</td><td>TERMINATED</td><td>10.2.219.10:3628196</td><td style=\"text-align: right;\">    12.8653 </td><td style=\"text-align: right;\">     58.6512 </td><td style=\"text-align: right;\">0.051389   </td><td style=\"text-align: right;\">     8.82199</td><td style=\"text-align: right;\">     5.72883</td><td style=\"text-align: right;\">  23.8243 </td><td style=\"text-align: right;\">     1</td><td style=\"text-align: right;\">        50.5368 </td><td style=\"text-align: right;\">  0.524666   </td><td style=\"text-align: right;\">     0.187713  </td></tr>\n",
       "<tr><td>train_de_5c0e4fdb</td><td>TERMINATED</td><td>10.2.219.10:3627183</td><td style=\"text-align: right;\">    12.9451 </td><td style=\"text-align: right;\">    136.637  </td><td style=\"text-align: right;\">0.0499704  </td><td style=\"text-align: right;\">     9.71927</td><td style=\"text-align: right;\">     7.22791</td><td style=\"text-align: right;\">  24.3883 </td><td style=\"text-align: right;\">     1</td><td style=\"text-align: right;\">        83.7775 </td><td style=\"text-align: right;\">nan          </td><td style=\"text-align: right;\">   inf         </td></tr>\n",
       "<tr><td>train_de_a9e04ee6</td><td>TERMINATED</td><td>10.2.219.10:3627323</td><td style=\"text-align: right;\">    14.4087 </td><td style=\"text-align: right;\">      1.64797</td><td style=\"text-align: right;\">0.0726673  </td><td style=\"text-align: right;\">     7.40138</td><td style=\"text-align: right;\">     3.96701</td><td style=\"text-align: right;\">  30.8526 </td><td style=\"text-align: right;\">     1</td><td style=\"text-align: right;\">        28.1999 </td><td style=\"text-align: right;\">  0.268729   </td><td style=\"text-align: right;\">     0.175524  </td></tr>\n",
       "<tr><td>train_de_b84f3c7a</td><td>TERMINATED</td><td>10.2.219.10:3628419</td><td style=\"text-align: right;\">     5.63537</td><td style=\"text-align: right;\">     52.7528 </td><td style=\"text-align: right;\">0.0973385  </td><td style=\"text-align: right;\">     4.33378</td><td style=\"text-align: right;\">     4.36416</td><td style=\"text-align: right;\">  49.143  </td><td style=\"text-align: right;\">     1</td><td style=\"text-align: right;\">       106.272  </td><td style=\"text-align: right;\">  0.0371643  </td><td style=\"text-align: right;\">     0.192072  </td></tr>\n",
       "<tr><td>train_de_3522587a</td><td>TERMINATED</td><td>10.2.219.10:3628001</td><td style=\"text-align: right;\">    12.1432 </td><td style=\"text-align: right;\">     35.8474 </td><td style=\"text-align: right;\">0.0530121  </td><td style=\"text-align: right;\">     3.66297</td><td style=\"text-align: right;\">     4.62243</td><td style=\"text-align: right;\">  34.7333 </td><td style=\"text-align: right;\">     1</td><td style=\"text-align: right;\">        32.912  </td><td style=\"text-align: right;\">  0.101647   </td><td style=\"text-align: right;\">     0.188847  </td></tr>\n",
       "<tr><td>train_de_7357b5e0</td><td>TERMINATED</td><td>10.2.219.10:3633324</td><td style=\"text-align: right;\">     5.76255</td><td style=\"text-align: right;\">     33.2983 </td><td style=\"text-align: right;\">0.0894289  </td><td style=\"text-align: right;\">     2.15108</td><td style=\"text-align: right;\">     8.28442</td><td style=\"text-align: right;\">   8.69484</td><td style=\"text-align: right;\">     1</td><td style=\"text-align: right;\">        32.3896 </td><td style=\"text-align: right;\">  0.232242   </td><td style=\"text-align: right;\">     0.190612  </td></tr>\n",
       "<tr><td>train_de_d9d97188</td><td>TERMINATED</td><td>10.2.219.10:3628826</td><td style=\"text-align: right;\">    16.6398 </td><td style=\"text-align: right;\">    132.094  </td><td style=\"text-align: right;\">0.00280017 </td><td style=\"text-align: right;\">     8.82865</td><td style=\"text-align: right;\">     6.39003</td><td style=\"text-align: right;\">  41.3617 </td><td style=\"text-align: right;\">     1</td><td style=\"text-align: right;\">       225.412  </td><td style=\"text-align: right;\">  0.223351   </td><td style=\"text-align: right;\">     0.186301  </td></tr>\n",
       "<tr><td>train_de_06e8fada</td><td>TERMINATED</td><td>10.2.219.10:3629371</td><td style=\"text-align: right;\">    15.6643 </td><td style=\"text-align: right;\">     10.5553 </td><td style=\"text-align: right;\">0.0868511  </td><td style=\"text-align: right;\">     4.63949</td><td style=\"text-align: right;\">     7.76771</td><td style=\"text-align: right;\">  16.7451 </td><td style=\"text-align: right;\">     1</td><td style=\"text-align: right;\">        20.7523 </td><td style=\"text-align: right;\"> -0.177581   </td><td style=\"text-align: right;\">     0.177713  </td></tr>\n",
       "<tr><td>train_de_d7105ca5</td><td>TERMINATED</td><td>10.2.219.10:3623099</td><td style=\"text-align: right;\">     5.41957</td><td style=\"text-align: right;\">     56.2532 </td><td style=\"text-align: right;\">0.0860524  </td><td style=\"text-align: right;\">     3.64499</td><td style=\"text-align: right;\">     5.71504</td><td style=\"text-align: right;\">  11.7795 </td><td style=\"text-align: right;\">     1</td><td style=\"text-align: right;\">        60.3734 </td><td style=\"text-align: right;\">  0.292302   </td><td style=\"text-align: right;\">     0.193296  </td></tr>\n",
       "<tr><td>train_de_c80ee9f7</td><td>TERMINATED</td><td>10.2.219.10:3626583</td><td style=\"text-align: right;\">    11.5399 </td><td style=\"text-align: right;\">    127.787  </td><td style=\"text-align: right;\">0.0348376  </td><td style=\"text-align: right;\">     5.87405</td><td style=\"text-align: right;\">     6.07081</td><td style=\"text-align: right;\">  27.0024 </td><td style=\"text-align: right;\">     1</td><td style=\"text-align: right;\">       107.031  </td><td style=\"text-align: right;\">  0.120757   </td><td style=\"text-align: right;\">     0.180378  </td></tr>\n",
       "<tr><td>train_de_4b4f4f12</td><td>TERMINATED</td><td>10.2.219.10:3627323</td><td style=\"text-align: right;\">    11.6799 </td><td style=\"text-align: right;\">     69.058  </td><td style=\"text-align: right;\">0.0948489  </td><td style=\"text-align: right;\">     8.84072</td><td style=\"text-align: right;\">     9.31685</td><td style=\"text-align: right;\">  45.412  </td><td style=\"text-align: right;\">     1</td><td style=\"text-align: right;\">       146.817  </td><td style=\"text-align: right;\">nan          </td><td style=\"text-align: right;\">   inf         </td></tr>\n",
       "<tr><td>train_de_0596463a</td><td>TERMINATED</td><td>10.2.219.10:3631392</td><td style=\"text-align: right;\">    13.5858 </td><td style=\"text-align: right;\">     83.6168 </td><td style=\"text-align: right;\">0.0874279  </td><td style=\"text-align: right;\">     8.94817</td><td style=\"text-align: right;\">     4.74453</td><td style=\"text-align: right;\">   5.82216</td><td style=\"text-align: right;\">     1</td><td style=\"text-align: right;\">        24.1119 </td><td style=\"text-align: right;\">  0.456442   </td><td style=\"text-align: right;\">     0.275259  </td></tr>\n",
       "<tr><td>train_de_c1975ea8</td><td>TERMINATED</td><td>10.2.219.10:3629371</td><td style=\"text-align: right;\">     7.37728</td><td style=\"text-align: right;\">    189.015  </td><td style=\"text-align: right;\">0.0136363  </td><td style=\"text-align: right;\">     3.21991</td><td style=\"text-align: right;\">     4.25775</td><td style=\"text-align: right;\">  42.8932 </td><td style=\"text-align: right;\">     1</td><td style=\"text-align: right;\">       155.158  </td><td style=\"text-align: right;\">  0.148683   </td><td style=\"text-align: right;\">     0.18688   </td></tr>\n",
       "<tr><td>train_de_7eafdb44</td><td>TERMINATED</td><td>10.2.219.10:3628001</td><td style=\"text-align: right;\">     5.38078</td><td style=\"text-align: right;\">     65.0317 </td><td style=\"text-align: right;\">0.0605987  </td><td style=\"text-align: right;\">     8.77982</td><td style=\"text-align: right;\">     5.63942</td><td style=\"text-align: right;\">  23.201  </td><td style=\"text-align: right;\">     1</td><td style=\"text-align: right;\">       224.781  </td><td style=\"text-align: right;\">  0.096627   </td><td style=\"text-align: right;\">     0.193607  </td></tr>\n",
       "<tr><td>train_de_b131c32f</td><td>TERMINATED</td><td>10.2.219.10:3628196</td><td style=\"text-align: right;\">    10.4937 </td><td style=\"text-align: right;\">     74.0287 </td><td style=\"text-align: right;\">0.0540755  </td><td style=\"text-align: right;\">     6.68079</td><td style=\"text-align: right;\">     5.59564</td><td style=\"text-align: right;\">  28.6731 </td><td style=\"text-align: right;\">     1</td><td style=\"text-align: right;\">        88.1644 </td><td style=\"text-align: right;\">  0.243453   </td><td style=\"text-align: right;\">     0.191146  </td></tr>\n",
       "<tr><td>train_de_db2c39f4</td><td>TERMINATED</td><td>10.2.219.10:3633324</td><td style=\"text-align: right;\">    13.3026 </td><td style=\"text-align: right;\">     41.8421 </td><td style=\"text-align: right;\">0.0650424  </td><td style=\"text-align: right;\">     6.78208</td><td style=\"text-align: right;\">     8.86211</td><td style=\"text-align: right;\">  42.7453 </td><td style=\"text-align: right;\">     1</td><td style=\"text-align: right;\">       128.454  </td><td style=\"text-align: right;\">  0.22759    </td><td style=\"text-align: right;\">     0.179268  </td></tr>\n",
       "<tr><td>train_de_74a29ebb</td><td>TERMINATED</td><td>10.2.219.10:3630145</td><td style=\"text-align: right;\">     1.11995</td><td style=\"text-align: right;\">     92.1219 </td><td style=\"text-align: right;\">0.0468546  </td><td style=\"text-align: right;\">     8.3198 </td><td style=\"text-align: right;\">     7.0582 </td><td style=\"text-align: right;\">  16.507  </td><td style=\"text-align: right;\">     1</td><td style=\"text-align: right;\">       508.14   </td><td style=\"text-align: right;\">nan          </td><td style=\"text-align: right;\">   inf         </td></tr>\n",
       "<tr><td>train_de_2d166c34</td><td>TERMINATED</td><td>10.2.219.10:3629615</td><td style=\"text-align: right;\">    16.2465 </td><td style=\"text-align: right;\">    129.659  </td><td style=\"text-align: right;\">0.0565356  </td><td style=\"text-align: right;\">     8.80657</td><td style=\"text-align: right;\">     4.11318</td><td style=\"text-align: right;\">  21.9599 </td><td style=\"text-align: right;\">     1</td><td style=\"text-align: right;\">        22.3811 </td><td style=\"text-align: right;\">nan          </td><td style=\"text-align: right;\">   inf         </td></tr>\n",
       "<tr><td>train_de_9e4db523</td><td>TERMINATED</td><td>10.2.219.10:3631392</td><td style=\"text-align: right;\">     1.9569 </td><td style=\"text-align: right;\">    111.809  </td><td style=\"text-align: right;\">0.0109567  </td><td style=\"text-align: right;\">     6.24002</td><td style=\"text-align: right;\">     3.0376 </td><td style=\"text-align: right;\">  30.0675 </td><td style=\"text-align: right;\">     1</td><td style=\"text-align: right;\">       703.723  </td><td style=\"text-align: right;\"> -0.0677387  </td><td style=\"text-align: right;\">     0.191135  </td></tr>\n",
       "<tr><td>train_de_5be63c4e</td><td>TERMINATED</td><td>10.2.219.10:3635151</td><td style=\"text-align: right;\">    19.2947 </td><td style=\"text-align: right;\">      6.48937</td><td style=\"text-align: right;\">0.0873835  </td><td style=\"text-align: right;\">     8.50847</td><td style=\"text-align: right;\">     7.50175</td><td style=\"text-align: right;\">  49.4613 </td><td style=\"text-align: right;\">     1</td><td style=\"text-align: right;\">       209.321  </td><td style=\"text-align: right;\"> -0.107406   </td><td style=\"text-align: right;\">     0.178194  </td></tr>\n",
       "<tr><td>train_de_8c80979f</td><td>TERMINATED</td><td>10.2.219.10:3632708</td><td style=\"text-align: right;\">    15.0532 </td><td style=\"text-align: right;\">     12.564  </td><td style=\"text-align: right;\">0.0754025  </td><td style=\"text-align: right;\">     5.57932</td><td style=\"text-align: right;\">     9.8493 </td><td style=\"text-align: right;\">  28.4077 </td><td style=\"text-align: right;\">     1</td><td style=\"text-align: right;\">        53.774  </td><td style=\"text-align: right;\">  0.329038   </td><td style=\"text-align: right;\">     0.183132  </td></tr>\n",
       "<tr><td>train_de_8bedff10</td><td>TERMINATED</td><td>10.2.219.10:3629615</td><td style=\"text-align: right;\">    16.2577 </td><td style=\"text-align: right;\">    150.618  </td><td style=\"text-align: right;\">0.0547769  </td><td style=\"text-align: right;\">     5.83047</td><td style=\"text-align: right;\">     4.2285 </td><td style=\"text-align: right;\">   8.06411</td><td style=\"text-align: right;\">     1</td><td style=\"text-align: right;\">        11.0933 </td><td style=\"text-align: right;\">nan          </td><td style=\"text-align: right;\">     2.76339   </td></tr>\n",
       "<tr><td>train_de_83295579</td><td>TERMINATED</td><td>10.2.219.10:3623099</td><td style=\"text-align: right;\">    19.3358 </td><td style=\"text-align: right;\">     80.3313 </td><td style=\"text-align: right;\">0.0525907  </td><td style=\"text-align: right;\">     6.69262</td><td style=\"text-align: right;\">     3.45794</td><td style=\"text-align: right;\">  40.3951 </td><td style=\"text-align: right;\">     1</td><td style=\"text-align: right;\">       103.676  </td><td style=\"text-align: right;\">  0.148942   </td><td style=\"text-align: right;\">     0.181452  </td></tr>\n",
       "<tr><td>train_de_cd7a9b17</td><td>TERMINATED</td><td>10.2.219.10:3627693</td><td style=\"text-align: right;\">     6.08973</td><td style=\"text-align: right;\">     86.7696 </td><td style=\"text-align: right;\">0.0130775  </td><td style=\"text-align: right;\">     3.65141</td><td style=\"text-align: right;\">     5.34581</td><td style=\"text-align: right;\">   8.47321</td><td style=\"text-align: right;\">     1</td><td style=\"text-align: right;\">        21.1917 </td><td style=\"text-align: right;\">  0.0167091  </td><td style=\"text-align: right;\">     0.188756  </td></tr>\n",
       "<tr><td>train_de_74b9a3f0</td><td>TERMINATED</td><td>10.2.219.10:3627183</td><td style=\"text-align: right;\">     6.26037</td><td style=\"text-align: right;\">    124.554  </td><td style=\"text-align: right;\">0.0568875  </td><td style=\"text-align: right;\">     3.09877</td><td style=\"text-align: right;\">     9.16312</td><td style=\"text-align: right;\">  12.7459 </td><td style=\"text-align: right;\">     1</td><td style=\"text-align: right;\">       103.576  </td><td style=\"text-align: right;\">  0.239548   </td><td style=\"text-align: right;\">     0.189155  </td></tr>\n",
       "<tr><td>train_de_3bf79610</td><td>TERMINATED</td><td>10.2.219.10:3629615</td><td style=\"text-align: right;\">     8.48754</td><td style=\"text-align: right;\">    149.823  </td><td style=\"text-align: right;\">0.030566   </td><td style=\"text-align: right;\">     8.00602</td><td style=\"text-align: right;\">     4.3259 </td><td style=\"text-align: right;\">   3.31144</td><td style=\"text-align: right;\">     1</td><td style=\"text-align: right;\">        19.6191 </td><td style=\"text-align: right;\">  0.214214   </td><td style=\"text-align: right;\">     0.192896  </td></tr>\n",
       "<tr><td>train_de_984a5752</td><td>TERMINATED</td><td>10.2.219.10:3636609</td><td style=\"text-align: right;\">    16.4719 </td><td style=\"text-align: right;\">     60.5903 </td><td style=\"text-align: right;\">0.0660092  </td><td style=\"text-align: right;\">     8.80535</td><td style=\"text-align: right;\">     8.22554</td><td style=\"text-align: right;\">  45.2121 </td><td style=\"text-align: right;\">     1</td><td style=\"text-align: right;\">       218.403  </td><td style=\"text-align: right;\">  0.0340848  </td><td style=\"text-align: right;\">     0.185629  </td></tr>\n",
       "<tr><td>train_de_5d4e171f</td><td>TERMINATED</td><td>10.2.219.10:3627693</td><td style=\"text-align: right;\">    10.5987 </td><td style=\"text-align: right;\">    186.18   </td><td style=\"text-align: right;\">0.038852   </td><td style=\"text-align: right;\">     9.54687</td><td style=\"text-align: right;\">     6.09955</td><td style=\"text-align: right;\">  33.2392 </td><td style=\"text-align: right;\">     1</td><td style=\"text-align: right;\">       107.192  </td><td style=\"text-align: right;\">nan          </td><td style=\"text-align: right;\">   inf         </td></tr>\n",
       "<tr><td>train_de_096fba28</td><td>TERMINATED</td><td>10.2.219.10:3637147</td><td style=\"text-align: right;\">     2.16214</td><td style=\"text-align: right;\">     46.7259 </td><td style=\"text-align: right;\">0.0547963  </td><td style=\"text-align: right;\">     3.50252</td><td style=\"text-align: right;\">     6.21725</td><td style=\"text-align: right;\">  18.8249 </td><td style=\"text-align: right;\">     1</td><td style=\"text-align: right;\">       124.035  </td><td style=\"text-align: right;\">  0.535395   </td><td style=\"text-align: right;\">     0.158638  </td></tr>\n",
       "<tr><td>train_de_670b4901</td><td>TERMINATED</td><td>10.2.219.10:3629615</td><td style=\"text-align: right;\">     8.00922</td><td style=\"text-align: right;\">    137.543  </td><td style=\"text-align: right;\">0.0103625  </td><td style=\"text-align: right;\">     2.13647</td><td style=\"text-align: right;\">     7.17272</td><td style=\"text-align: right;\">  27.7165 </td><td style=\"text-align: right;\">     1</td><td style=\"text-align: right;\">       104.46   </td><td style=\"text-align: right;\">  0.556969   </td><td style=\"text-align: right;\">     0.181196  </td></tr>\n",
       "<tr><td>train_de_512aeefb</td><td>TERMINATED</td><td>10.2.219.10:3628419</td><td style=\"text-align: right;\">    12.2205 </td><td style=\"text-align: right;\">      8.06746</td><td style=\"text-align: right;\">0.0252176  </td><td style=\"text-align: right;\">     3.95384</td><td style=\"text-align: right;\">     6.55524</td><td style=\"text-align: right;\">  41.7219 </td><td style=\"text-align: right;\">     1</td><td style=\"text-align: right;\">        57.1141 </td><td style=\"text-align: right;\">  0.1557     </td><td style=\"text-align: right;\">     0.184099  </td></tr>\n",
       "<tr><td>train_de_9a26cf33</td><td>TERMINATED</td><td>10.2.219.10:3627392</td><td style=\"text-align: right;\">     6.53893</td><td style=\"text-align: right;\">    162.081  </td><td style=\"text-align: right;\">0.0610249  </td><td style=\"text-align: right;\">     7.59178</td><td style=\"text-align: right;\">     5.07284</td><td style=\"text-align: right;\">  27.339  </td><td style=\"text-align: right;\">     1</td><td style=\"text-align: right;\">       104.629  </td><td style=\"text-align: right;\">nan          </td><td style=\"text-align: right;\">   inf         </td></tr>\n",
       "<tr><td>train_de_cae59717</td><td>TERMINATED</td><td>10.2.219.10:3631571</td><td style=\"text-align: right;\">    13.4771 </td><td style=\"text-align: right;\">      8.71081</td><td style=\"text-align: right;\">0.00325119 </td><td style=\"text-align: right;\">     3.76547</td><td style=\"text-align: right;\">     8.92668</td><td style=\"text-align: right;\">  15.9191 </td><td style=\"text-align: right;\">     1</td><td style=\"text-align: right;\">        24.3081 </td><td style=\"text-align: right;\">  0.0265014  </td><td style=\"text-align: right;\">     0.184997  </td></tr>\n",
       "<tr><td>train_de_f33801ad</td><td>TERMINATED</td><td>10.2.219.10:3632708</td><td style=\"text-align: right;\">     3.52706</td><td style=\"text-align: right;\">     39.6738 </td><td style=\"text-align: right;\">0.0620634  </td><td style=\"text-align: right;\">     9.39031</td><td style=\"text-align: right;\">     5.72203</td><td style=\"text-align: right;\">  17.5118 </td><td style=\"text-align: right;\">     1</td><td style=\"text-align: right;\">       221.665  </td><td style=\"text-align: right;\">  0.505504   </td><td style=\"text-align: right;\">     0.190492  </td></tr>\n",
       "<tr><td>train_de_4311d93f</td><td>TERMINATED</td><td>10.2.219.10:3628196</td><td style=\"text-align: right;\">     4.33363</td><td style=\"text-align: right;\">    102.045  </td><td style=\"text-align: right;\">0.0353551  </td><td style=\"text-align: right;\">     2.50506</td><td style=\"text-align: right;\">     9.46442</td><td style=\"text-align: right;\">  22.0876 </td><td style=\"text-align: right;\">     1</td><td style=\"text-align: right;\">       152.424  </td><td style=\"text-align: right;\"> -0.0979249  </td><td style=\"text-align: right;\">     0.181506  </td></tr>\n",
       "<tr><td>train_de_ee33e711</td><td>TERMINATED</td><td>10.2.219.10:3626583</td><td style=\"text-align: right;\">    16.0344 </td><td style=\"text-align: right;\">     90.1057 </td><td style=\"text-align: right;\">0.0628692  </td><td style=\"text-align: right;\">     5.16852</td><td style=\"text-align: right;\">     7.91348</td><td style=\"text-align: right;\">  49.6365 </td><td style=\"text-align: right;\">     1</td><td style=\"text-align: right;\">       179.208  </td><td style=\"text-align: right;\">  0.620516   </td><td style=\"text-align: right;\">     0.18621   </td></tr>\n",
       "<tr><td>train_de_8b998c4e</td><td>TERMINATED</td><td>10.2.219.10:3626795</td><td style=\"text-align: right;\">     7.39016</td><td style=\"text-align: right;\">    172.1    </td><td style=\"text-align: right;\">0.00158701 </td><td style=\"text-align: right;\">     3.26692</td><td style=\"text-align: right;\">     6.52091</td><td style=\"text-align: right;\">  13.5982 </td><td style=\"text-align: right;\">     1</td><td style=\"text-align: right;\">       146.437  </td><td style=\"text-align: right;\">  0.568672   </td><td style=\"text-align: right;\">     0.173856  </td></tr>\n",
       "<tr><td>train_de_39e10b47</td><td>TERMINATED</td><td>10.2.219.10:3631571</td><td style=\"text-align: right;\">     1.15065</td><td style=\"text-align: right;\">    141.12   </td><td style=\"text-align: right;\">0.000899527</td><td style=\"text-align: right;\">     7.52537</td><td style=\"text-align: right;\">     7.87123</td><td style=\"text-align: right;\">  26.3906 </td><td style=\"text-align: right;\">     1</td><td style=\"text-align: right;\">      1498.77   </td><td style=\"text-align: right;\"> -2.27334    </td><td style=\"text-align: right;\">    -2.13982   </td></tr>\n",
       "<tr><td>train_de_d9179404</td><td>TERMINATED</td><td>10.2.219.10:3626657</td><td style=\"text-align: right;\">     9.88496</td><td style=\"text-align: right;\">     42.5364 </td><td style=\"text-align: right;\">0.0668165  </td><td style=\"text-align: right;\">     8.02782</td><td style=\"text-align: right;\">     3.59013</td><td style=\"text-align: right;\">  29.3096 </td><td style=\"text-align: right;\">     1</td><td style=\"text-align: right;\">        65.7411 </td><td style=\"text-align: right;\"> -0.114472   </td><td style=\"text-align: right;\">     0.18196   </td></tr>\n",
       "<tr><td>train_de_6d17ea9f</td><td>TERMINATED</td><td>10.2.219.10:3626920</td><td style=\"text-align: right;\">     7.62767</td><td style=\"text-align: right;\">    131.572  </td><td style=\"text-align: right;\">0.0155993  </td><td style=\"text-align: right;\">     5.81368</td><td style=\"text-align: right;\">     5.41982</td><td style=\"text-align: right;\">  33.4919 </td><td style=\"text-align: right;\">     1</td><td style=\"text-align: right;\">       215.384  </td><td style=\"text-align: right;\"> -0.0953096  </td><td style=\"text-align: right;\">     0.188302  </td></tr>\n",
       "<tr><td>train_de_8ededf10</td><td>TERMINATED</td><td>10.2.219.10:3630810</td><td style=\"text-align: right;\">     3.53699</td><td style=\"text-align: right;\">     28.5701 </td><td style=\"text-align: right;\">0.0133035  </td><td style=\"text-align: right;\">     9.63854</td><td style=\"text-align: right;\">     8.11544</td><td style=\"text-align: right;\">  40.2393 </td><td style=\"text-align: right;\">     1</td><td style=\"text-align: right;\">       384.977  </td><td style=\"text-align: right;\">  0.488358   </td><td style=\"text-align: right;\">     0.189875  </td></tr>\n",
       "<tr><td>train_de_af2810cb</td><td>TERMINATED</td><td>10.2.219.10:3626469</td><td style=\"text-align: right;\">     7.64885</td><td style=\"text-align: right;\">     23.2742 </td><td style=\"text-align: right;\">0.0158563  </td><td style=\"text-align: right;\">     7.31207</td><td style=\"text-align: right;\">     9.15843</td><td style=\"text-align: right;\">  16.9279 </td><td style=\"text-align: right;\">     1</td><td style=\"text-align: right;\">       111.664  </td><td style=\"text-align: right;\">  0.391936   </td><td style=\"text-align: right;\">     0.18783   </td></tr>\n",
       "<tr><td>train_de_e8f17c80</td><td>TERMINATED</td><td>10.2.219.10:3631729</td><td style=\"text-align: right;\">    15.9708 </td><td style=\"text-align: right;\">     72.0736 </td><td style=\"text-align: right;\">0.0939394  </td><td style=\"text-align: right;\">     9.37427</td><td style=\"text-align: right;\">     9.72653</td><td style=\"text-align: right;\">   6.81484</td><td style=\"text-align: right;\">     1</td><td style=\"text-align: right;\">        19.1669 </td><td style=\"text-align: right;\">nan          </td><td style=\"text-align: right;\">     4.22636   </td></tr>\n",
       "<tr><td>train_de_d7944a84</td><td>TERMINATED</td><td>10.2.219.10:3628419</td><td style=\"text-align: right;\">    11.3792 </td><td style=\"text-align: right;\">     49.062  </td><td style=\"text-align: right;\">0.0578086  </td><td style=\"text-align: right;\">     4.58007</td><td style=\"text-align: right;\">     3.42603</td><td style=\"text-align: right;\">  39.211  </td><td style=\"text-align: right;\">     1</td><td style=\"text-align: right;\">        28.4711 </td><td style=\"text-align: right;\">  0.280145   </td><td style=\"text-align: right;\">     0.180755  </td></tr>\n",
       "<tr><td>train_de_9e92afb0</td><td>TERMINATED</td><td>10.2.219.10:3633324</td><td style=\"text-align: right;\">     4.7835 </td><td style=\"text-align: right;\">     31.1564 </td><td style=\"text-align: right;\">0.0345471  </td><td style=\"text-align: right;\">     5.58884</td><td style=\"text-align: right;\">     5.16288</td><td style=\"text-align: right;\">  18.5369 </td><td style=\"text-align: right;\">     1</td><td style=\"text-align: right;\">        91.0196 </td><td style=\"text-align: right;\"> -0.0392053  </td><td style=\"text-align: right;\">     0.191557  </td></tr>\n",
       "<tr><td>train_de_6acc8837</td><td>TERMINATED</td><td>10.2.219.10:3627323</td><td style=\"text-align: right;\">    14.4851 </td><td style=\"text-align: right;\">     82.9483 </td><td style=\"text-align: right;\">0.0422375  </td><td style=\"text-align: right;\">     2.85419</td><td style=\"text-align: right;\">     9.75637</td><td style=\"text-align: right;\">  11.947  </td><td style=\"text-align: right;\">     1</td><td style=\"text-align: right;\">        59.0182 </td><td style=\"text-align: right;\">  0.300034   </td><td style=\"text-align: right;\">     0.177033  </td></tr>\n",
       "<tr><td>train_de_fe916510</td><td>TERMINATED</td><td>10.2.219.10:3623099</td><td style=\"text-align: right;\">    18.2925 </td><td style=\"text-align: right;\">    154.25   </td><td style=\"text-align: right;\">0.0713842  </td><td style=\"text-align: right;\">     6.98994</td><td style=\"text-align: right;\">     8.50006</td><td style=\"text-align: right;\">  31.3897 </td><td style=\"text-align: right;\">     1</td><td style=\"text-align: right;\">        60.0612 </td><td style=\"text-align: right;\">nan          </td><td style=\"text-align: right;\">   inf         </td></tr>\n",
       "<tr><td>train_de_920b63e2</td><td>TERMINATED</td><td>10.2.219.10:3627183</td><td style=\"text-align: right;\">     1.0357 </td><td style=\"text-align: right;\">     63.575  </td><td style=\"text-align: right;\">0.0566385  </td><td style=\"text-align: right;\">     3.85161</td><td style=\"text-align: right;\">     6.03823</td><td style=\"text-align: right;\">  38.7466 </td><td style=\"text-align: right;\">     1</td><td style=\"text-align: right;\">       950.328  </td><td style=\"text-align: right;\">  0.03856    </td><td style=\"text-align: right;\">     0.191479  </td></tr>\n",
       "<tr><td>train_de_79417e16</td><td>TERMINATED</td><td>10.2.219.10:3631729</td><td style=\"text-align: right;\">    12.1656 </td><td style=\"text-align: right;\">     29.1195 </td><td style=\"text-align: right;\">0.0514063  </td><td style=\"text-align: right;\">     4.51543</td><td style=\"text-align: right;\">     7.32868</td><td style=\"text-align: right;\">   9.82402</td><td style=\"text-align: right;\">     1</td><td style=\"text-align: right;\">        27.3851 </td><td style=\"text-align: right;\">  0.16733    </td><td style=\"text-align: right;\">     0.191108  </td></tr>\n",
       "<tr><td>train_de_e99cd703</td><td>TERMINATED</td><td>10.2.219.10:3629371</td><td style=\"text-align: right;\">    10.3114 </td><td style=\"text-align: right;\">      2.95474</td><td style=\"text-align: right;\">0.0677267  </td><td style=\"text-align: right;\">     2.37936</td><td style=\"text-align: right;\">     9.38544</td><td style=\"text-align: right;\">  17.7844 </td><td style=\"text-align: right;\">     1</td><td style=\"text-align: right;\">        59.5296 </td><td style=\"text-align: right;\">  0.105447   </td><td style=\"text-align: right;\">     0.19114   </td></tr>\n",
       "<tr><td>train_de_4163eb26</td><td>TERMINATED</td><td>10.2.219.10:3628419</td><td style=\"text-align: right;\">     1.68449</td><td style=\"text-align: right;\">    188.589  </td><td style=\"text-align: right;\">0.0923838  </td><td style=\"text-align: right;\">     3.21887</td><td style=\"text-align: right;\">     6.99226</td><td style=\"text-align: right;\">   5.84054</td><td style=\"text-align: right;\">     1</td><td style=\"text-align: right;\">        70.3257 </td><td style=\"text-align: right;\">nan          </td><td style=\"text-align: right;\">   inf         </td></tr>\n",
       "<tr><td>train_de_ba1bf52c</td><td>TERMINATED</td><td>10.2.219.10:3627693</td><td style=\"text-align: right;\">    13.2009 </td><td style=\"text-align: right;\">    173.925  </td><td style=\"text-align: right;\">0.0349526  </td><td style=\"text-align: right;\">     7.99165</td><td style=\"text-align: right;\">     9.23685</td><td style=\"text-align: right;\">   7.58487</td><td style=\"text-align: right;\">     1</td><td style=\"text-align: right;\">        25.3183 </td><td style=\"text-align: right;\">nan          </td><td style=\"text-align: right;\">   inf         </td></tr>\n",
       "<tr><td>train_de_694a7aae</td><td>TERMINATED</td><td>10.2.219.10:3629615</td><td style=\"text-align: right;\">     2.35366</td><td style=\"text-align: right;\">    102.471  </td><td style=\"text-align: right;\">0.0123106  </td><td style=\"text-align: right;\">     9.43358</td><td style=\"text-align: right;\">     5.37191</td><td style=\"text-align: right;\">  15.4193 </td><td style=\"text-align: right;\">     1</td><td style=\"text-align: right;\">       303.242  </td><td style=\"text-align: right;\"> -0.104136   </td><td style=\"text-align: right;\">     0.191112  </td></tr>\n",
       "<tr><td>train_de_74fc4cd2</td><td>TERMINATED</td><td>10.2.219.10:3626519</td><td style=\"text-align: right;\">    11.0728 </td><td style=\"text-align: right;\">     33.6318 </td><td style=\"text-align: right;\">0.000786931</td><td style=\"text-align: right;\">     8.74356</td><td style=\"text-align: right;\">     7.11254</td><td style=\"text-align: right;\">   6.1489 </td><td style=\"text-align: right;\">     1</td><td style=\"text-align: right;\">        31.8732 </td><td style=\"text-align: right;\">  0.083485   </td><td style=\"text-align: right;\">     0.172263  </td></tr>\n",
       "<tr><td>train_de_24452619</td><td>TERMINATED</td><td>10.2.219.10:3626657</td><td style=\"text-align: right;\">     4.25543</td><td style=\"text-align: right;\">    134.534  </td><td style=\"text-align: right;\">0.0390272  </td><td style=\"text-align: right;\">     5.2639 </td><td style=\"text-align: right;\">     7.03254</td><td style=\"text-align: right;\">  34.5227 </td><td style=\"text-align: right;\">     1</td><td style=\"text-align: right;\">       400.157  </td><td style=\"text-align: right;\">  0.648092   </td><td style=\"text-align: right;\">     0.193659  </td></tr>\n",
       "<tr><td>train_de_7d829c91</td><td>TERMINATED</td><td>10.2.219.10:3631729</td><td style=\"text-align: right;\">     9.91491</td><td style=\"text-align: right;\">      8.00591</td><td style=\"text-align: right;\">0.069673   </td><td style=\"text-align: right;\">     5.23164</td><td style=\"text-align: right;\">     3.25089</td><td style=\"text-align: right;\">  41.7698 </td><td style=\"text-align: right;\">     1</td><td style=\"text-align: right;\">        51.9945 </td><td style=\"text-align: right;\">  0.50765    </td><td style=\"text-align: right;\">     0.178518  </td></tr>\n",
       "<tr><td>train_de_01a68e07</td><td>TERMINATED</td><td>10.2.219.10:3627392</td><td style=\"text-align: right;\">    17.8721 </td><td style=\"text-align: right;\">    129.437  </td><td style=\"text-align: right;\">0.0264058  </td><td style=\"text-align: right;\">     6.33562</td><td style=\"text-align: right;\">     5.02045</td><td style=\"text-align: right;\">  47.7361 </td><td style=\"text-align: right;\">     1</td><td style=\"text-align: right;\">       123.263  </td><td style=\"text-align: right;\">  0.0322618  </td><td style=\"text-align: right;\">     0.189641  </td></tr>\n",
       "<tr><td>train_de_16f70839</td><td>TERMINATED</td><td>10.2.219.10:3637147</td><td style=\"text-align: right;\">     1.62721</td><td style=\"text-align: right;\">    150.133  </td><td style=\"text-align: right;\">0.069755   </td><td style=\"text-align: right;\">     9.53876</td><td style=\"text-align: right;\">     6.57508</td><td style=\"text-align: right;\">  44.2638 </td><td style=\"text-align: right;\">     1</td><td style=\"text-align: right;\">      1201.21   </td><td style=\"text-align: right;\">nan          </td><td style=\"text-align: right;\">   inf         </td></tr>\n",
       "<tr><td>train_de_fccf9b20</td><td>TERMINATED</td><td>10.2.219.10:3627693</td><td style=\"text-align: right;\">    18.6564 </td><td style=\"text-align: right;\">     75.7537 </td><td style=\"text-align: right;\">0.0049618  </td><td style=\"text-align: right;\">     6.23908</td><td style=\"text-align: right;\">     4.17633</td><td style=\"text-align: right;\">  30.3303 </td><td style=\"text-align: right;\">     1</td><td style=\"text-align: right;\">        35.7202 </td><td style=\"text-align: right;\">  0.343508   </td><td style=\"text-align: right;\">     0.154711  </td></tr>\n",
       "<tr><td>train_de_a15b5ee6</td><td>TERMINATED</td><td>10.2.219.10:3627323</td><td style=\"text-align: right;\">     4.85527</td><td style=\"text-align: right;\">     52.1503 </td><td style=\"text-align: right;\">0.0747142  </td><td style=\"text-align: right;\">     8.02806</td><td style=\"text-align: right;\">     8.80073</td><td style=\"text-align: right;\">  44.3719 </td><td style=\"text-align: right;\">     1</td><td style=\"text-align: right;\">      1317.93   </td><td style=\"text-align: right;\">  0.689063   </td><td style=\"text-align: right;\">     0.191024  </td></tr>\n",
       "<tr><td>train_de_b0a3569b</td><td>TERMINATED</td><td>10.2.219.10:3628826</td><td style=\"text-align: right;\">     2.58391</td><td style=\"text-align: right;\">    140.104  </td><td style=\"text-align: right;\">0.00807194 </td><td style=\"text-align: right;\">     4.10288</td><td style=\"text-align: right;\">     8.76524</td><td style=\"text-align: right;\">  28.448  </td><td style=\"text-align: right;\">     1</td><td style=\"text-align: right;\">      1227.07   </td><td style=\"text-align: right;\"> -0.000537097</td><td style=\"text-align: right;\">     0.0312676 </td></tr>\n",
       "<tr><td>train_de_ecf6dae7</td><td>TERMINATED</td><td>10.2.219.10:3623099</td><td style=\"text-align: right;\">     4.21675</td><td style=\"text-align: right;\">    121.892  </td><td style=\"text-align: right;\">0.0861755  </td><td style=\"text-align: right;\">     2.61924</td><td style=\"text-align: right;\">     6.39586</td><td style=\"text-align: right;\">  49.9712 </td><td style=\"text-align: right;\">     1</td><td style=\"text-align: right;\">       307.127  </td><td style=\"text-align: right;\"> -0.171912   </td><td style=\"text-align: right;\">     0.177995  </td></tr>\n",
       "<tr><td>train_de_5e131652</td><td>TERMINATED</td><td>10.2.219.10:3626519</td><td style=\"text-align: right;\">     2.77389</td><td style=\"text-align: right;\">     85.8841 </td><td style=\"text-align: right;\">0.0602268  </td><td style=\"text-align: right;\">     5.07843</td><td style=\"text-align: right;\">     8.69768</td><td style=\"text-align: right;\">  26.5426 </td><td style=\"text-align: right;\">     1</td><td style=\"text-align: right;\">       756.905  </td><td style=\"text-align: right;\">  0.350673   </td><td style=\"text-align: right;\">     0.191623  </td></tr>\n",
       "<tr><td>train_de_9dcad353</td><td>TERMINATED</td><td>10.2.219.10:3628737</td><td style=\"text-align: right;\">    14.5491 </td><td style=\"text-align: right;\">      5.80677</td><td style=\"text-align: right;\">0.087217   </td><td style=\"text-align: right;\">     4.50339</td><td style=\"text-align: right;\">     9.47395</td><td style=\"text-align: right;\">  38.3837 </td><td style=\"text-align: right;\">     1</td><td style=\"text-align: right;\">       196.891  </td><td style=\"text-align: right;\">  0.0557448  </td><td style=\"text-align: right;\">     0.177544  </td></tr>\n",
       "<tr><td>train_de_4c48f6f8</td><td>TERMINATED</td><td>10.2.219.10:3629371</td><td style=\"text-align: right;\">     3.96207</td><td style=\"text-align: right;\">      7.33199</td><td style=\"text-align: right;\">0.0157041  </td><td style=\"text-align: right;\">     6.16349</td><td style=\"text-align: right;\">     5.51419</td><td style=\"text-align: right;\">  18.4744 </td><td style=\"text-align: right;\">     1</td><td style=\"text-align: right;\">       127.531  </td><td style=\"text-align: right;\">  0.203707   </td><td style=\"text-align: right;\">     0.170396  </td></tr>\n",
       "<tr><td>train_de_93eaf335</td><td>TERMINATED</td><td>10.2.219.10:3633324</td><td style=\"text-align: right;\">    19.6889 </td><td style=\"text-align: right;\">    190.278  </td><td style=\"text-align: right;\">0.082257   </td><td style=\"text-align: right;\">     7.64004</td><td style=\"text-align: right;\">     5.47017</td><td style=\"text-align: right;\">  24.4285 </td><td style=\"text-align: right;\">     1</td><td style=\"text-align: right;\">        34.5837 </td><td style=\"text-align: right;\">nan          </td><td style=\"text-align: right;\">   inf         </td></tr>\n",
       "<tr><td>train_de_b64cc522</td><td>TERMINATED</td><td>10.2.219.10:3628001</td><td style=\"text-align: right;\">    18.0065 </td><td style=\"text-align: right;\">     85.1017 </td><td style=\"text-align: right;\">0.0436586  </td><td style=\"text-align: right;\">     3.16175</td><td style=\"text-align: right;\">     3.39657</td><td style=\"text-align: right;\">  18.0581 </td><td style=\"text-align: right;\">     1</td><td style=\"text-align: right;\">        12.4834 </td><td style=\"text-align: right;\">  0.430931   </td><td style=\"text-align: right;\">     0.167845  </td></tr>\n",
       "<tr><td>train_de_b616f92a</td><td>TERMINATED</td><td>10.2.219.10:3631729</td><td style=\"text-align: right;\">    10.537  </td><td style=\"text-align: right;\">     66.563  </td><td style=\"text-align: right;\">0.080957   </td><td style=\"text-align: right;\">     2.6302 </td><td style=\"text-align: right;\">     5.91039</td><td style=\"text-align: right;\">   4.11971</td><td style=\"text-align: right;\">     1</td><td style=\"text-align: right;\">         8.0652 </td><td style=\"text-align: right;\"> -0.00192073 </td><td style=\"text-align: right;\">     0.199449  </td></tr>\n",
       "<tr><td>train_de_44faadd0</td><td>TERMINATED</td><td>10.2.219.10:3628419</td><td style=\"text-align: right;\">    18.0718 </td><td style=\"text-align: right;\">     75.6609 </td><td style=\"text-align: right;\">0.0454112  </td><td style=\"text-align: right;\">     6.3153 </td><td style=\"text-align: right;\">     6.26691</td><td style=\"text-align: right;\">   8.46107</td><td style=\"text-align: right;\">     1</td><td style=\"text-align: right;\">        37.0514 </td><td style=\"text-align: right;\">  0.236993   </td><td style=\"text-align: right;\">     0.177735  </td></tr>\n",
       "<tr><td>train_de_d0d37e4b</td><td>TERMINATED</td><td>10.2.219.10:3627693</td><td style=\"text-align: right;\">     4.50365</td><td style=\"text-align: right;\">     15.3132 </td><td style=\"text-align: right;\">0.0931854  </td><td style=\"text-align: right;\">     5.8319 </td><td style=\"text-align: right;\">     8.10073</td><td style=\"text-align: right;\">  18.1913 </td><td style=\"text-align: right;\">     1</td><td style=\"text-align: right;\">       108.805  </td><td style=\"text-align: right;\">  0.145848   </td><td style=\"text-align: right;\">     0.192068  </td></tr>\n",
       "<tr><td>train_de_2495ed09</td><td>TERMINATED</td><td>10.2.219.10:3635151</td><td style=\"text-align: right;\">    13.7456 </td><td style=\"text-align: right;\">    116.846  </td><td style=\"text-align: right;\">0.0397926  </td><td style=\"text-align: right;\">     3.53489</td><td style=\"text-align: right;\">     9.38831</td><td style=\"text-align: right;\">   7.20503</td><td style=\"text-align: right;\">     1</td><td style=\"text-align: right;\">        27.4247 </td><td style=\"text-align: right;\">  0.0631382  </td><td style=\"text-align: right;\">     0.19157   </td></tr>\n",
       "<tr><td>train_de_17ad64bd</td><td>TERMINATED</td><td>10.2.219.10:3631729</td><td style=\"text-align: right;\">     3.7172 </td><td style=\"text-align: right;\">     23.4741 </td><td style=\"text-align: right;\">0.0821894  </td><td style=\"text-align: right;\">     8.80222</td><td style=\"text-align: right;\">     5.01264</td><td style=\"text-align: right;\">   1.88743</td><td style=\"text-align: right;\">     1</td><td style=\"text-align: right;\">        14.2991 </td><td style=\"text-align: right;\">  0.362594   </td><td style=\"text-align: right;\">     0.241182  </td></tr>\n",
       "<tr><td>train_de_4577a025</td><td>TERMINATED</td><td>10.2.219.10:3628001</td><td style=\"text-align: right;\">     3.08352</td><td style=\"text-align: right;\">     49.9695 </td><td style=\"text-align: right;\">0.0149048  </td><td style=\"text-align: right;\">     8.90945</td><td style=\"text-align: right;\">     9.97939</td><td style=\"text-align: right;\">   8.74136</td><td style=\"text-align: right;\">     1</td><td style=\"text-align: right;\">       162.439  </td><td style=\"text-align: right;\"> -0.0770059  </td><td style=\"text-align: right;\">     0.191154  </td></tr>\n",
       "<tr><td>train_de_b6c11784</td><td>TERMINATED</td><td>10.2.219.10:3626469</td><td style=\"text-align: right;\">     1.43004</td><td style=\"text-align: right;\">     42.5779 </td><td style=\"text-align: right;\">0.0109207  </td><td style=\"text-align: right;\">     5.48275</td><td style=\"text-align: right;\">     4.07004</td><td style=\"text-align: right;\">  30.8411 </td><td style=\"text-align: right;\">     1</td><td style=\"text-align: right;\">       497.037  </td><td style=\"text-align: right;\"> -0.647427   </td><td style=\"text-align: right;\">    -0.801474  </td></tr>\n",
       "<tr><td>train_de_56bdb2b1</td><td>TERMINATED</td><td>10.2.219.10:3628196</td><td style=\"text-align: right;\">     9.67559</td><td style=\"text-align: right;\">     64.5756 </td><td style=\"text-align: right;\">0.093595   </td><td style=\"text-align: right;\">     9.28469</td><td style=\"text-align: right;\">     7.99457</td><td style=\"text-align: right;\">  35.0849 </td><td style=\"text-align: right;\">     1</td><td style=\"text-align: right;\">       126.38   </td><td style=\"text-align: right;\">nan          </td><td style=\"text-align: right;\">     2.6467    </td></tr>\n",
       "<tr><td>train_de_84d4545d</td><td>TERMINATED</td><td>10.2.219.10:3626795</td><td style=\"text-align: right;\">    16.414  </td><td style=\"text-align: right;\">     57.5028 </td><td style=\"text-align: right;\">0.0376583  </td><td style=\"text-align: right;\">     2.06242</td><td style=\"text-align: right;\">     9.16052</td><td style=\"text-align: right;\">  48.2727 </td><td style=\"text-align: right;\">     1</td><td style=\"text-align: right;\">        87.9276 </td><td style=\"text-align: right;\">  0.347251   </td><td style=\"text-align: right;\">     0.181781  </td></tr>\n",
       "<tr><td>train_de_3b9ca7aa</td><td>TERMINATED</td><td>10.2.219.10:3631729</td><td style=\"text-align: right;\">     2.79586</td><td style=\"text-align: right;\">    146.003  </td><td style=\"text-align: right;\">0.0877738  </td><td style=\"text-align: right;\">     8.39263</td><td style=\"text-align: right;\">     9.44407</td><td style=\"text-align: right;\">  47.0327 </td><td style=\"text-align: right;\">     1</td><td style=\"text-align: right;\">       891.247  </td><td style=\"text-align: right;\">nan          </td><td style=\"text-align: right;\">   inf         </td></tr>\n",
       "<tr><td>train_de_f3131c38</td><td>TERMINATED</td><td>10.2.219.10:3633324</td><td style=\"text-align: right;\">    18.2578 </td><td style=\"text-align: right;\">    189.638  </td><td style=\"text-align: right;\">0.0579858  </td><td style=\"text-align: right;\">     9.49611</td><td style=\"text-align: right;\">     7.24971</td><td style=\"text-align: right;\">  27.3067 </td><td style=\"text-align: right;\">     1</td><td style=\"text-align: right;\">        65.8994 </td><td style=\"text-align: right;\">nan          </td><td style=\"text-align: right;\">   inf         </td></tr>\n",
       "<tr><td>train_de_181621cb</td><td>TERMINATED</td><td>10.2.219.10:3635151</td><td style=\"text-align: right;\">     1.59122</td><td style=\"text-align: right;\">    175.068  </td><td style=\"text-align: right;\">0.0911804  </td><td style=\"text-align: right;\">     6.21884</td><td style=\"text-align: right;\">     8.62846</td><td style=\"text-align: right;\">  16.029  </td><td style=\"text-align: right;\">     1</td><td style=\"text-align: right;\">       464.896  </td><td style=\"text-align: right;\">nan          </td><td style=\"text-align: right;\">   inf         </td></tr>\n",
       "<tr><td>train_de_46f20889</td><td>TERMINATED</td><td>10.2.219.10:3631818</td><td style=\"text-align: right;\">    18.701  </td><td style=\"text-align: right;\">     42.2981 </td><td style=\"text-align: right;\">0.0512226  </td><td style=\"text-align: right;\">     5.11742</td><td style=\"text-align: right;\">     5.03451</td><td style=\"text-align: right;\">  20.6346 </td><td style=\"text-align: right;\">     1</td><td style=\"text-align: right;\">        45.3947 </td><td style=\"text-align: right;\">  0.0688577  </td><td style=\"text-align: right;\">     0.167406  </td></tr>\n",
       "<tr><td>train_de_e03ba696</td><td>TERMINATED</td><td>10.2.219.10:3636609</td><td style=\"text-align: right;\">     1.8079 </td><td style=\"text-align: right;\">    173.022  </td><td style=\"text-align: right;\">0.0158207  </td><td style=\"text-align: right;\">     9.52873</td><td style=\"text-align: right;\">     7.35521</td><td style=\"text-align: right;\">  20.0085 </td><td style=\"text-align: right;\">     1</td><td style=\"text-align: right;\">      2090.03   </td><td style=\"text-align: right;\"> -0.274598   </td><td style=\"text-align: right;\">     0.191052  </td></tr>\n",
       "<tr><td>train_de_081cc764</td><td>TERMINATED</td><td>10.2.219.10:3628419</td><td style=\"text-align: right;\">     5.90008</td><td style=\"text-align: right;\">     21.3359 </td><td style=\"text-align: right;\">0.000979296</td><td style=\"text-align: right;\">     4.10436</td><td style=\"text-align: right;\">     3.92381</td><td style=\"text-align: right;\">  21.1676 </td><td style=\"text-align: right;\">     1</td><td style=\"text-align: right;\">        59.6637 </td><td style=\"text-align: right;\">  0.016549   </td><td style=\"text-align: right;\">     0.161691  </td></tr>\n",
       "<tr><td>train_de_5b834512</td><td>TERMINATED</td><td>10.2.219.10:3630935</td><td style=\"text-align: right;\">    19.0726 </td><td style=\"text-align: right;\">     12.2911 </td><td style=\"text-align: right;\">0.0563117  </td><td style=\"text-align: right;\">     6.07256</td><td style=\"text-align: right;\">     4.51516</td><td style=\"text-align: right;\">   6.24432</td><td style=\"text-align: right;\">     1</td><td style=\"text-align: right;\">         8.99799</td><td style=\"text-align: right;\">  0.0891517  </td><td style=\"text-align: right;\">     0.182889  </td></tr>\n",
       "<tr><td>train_de_8fd8d719</td><td>TERMINATED</td><td>10.2.219.10:3633993</td><td style=\"text-align: right;\">     4.83561</td><td style=\"text-align: right;\">    129.136  </td><td style=\"text-align: right;\">0.0705064  </td><td style=\"text-align: right;\">     2.64915</td><td style=\"text-align: right;\">     4.58446</td><td style=\"text-align: right;\">  33.6304 </td><td style=\"text-align: right;\">     1</td><td style=\"text-align: right;\">        73.1559 </td><td style=\"text-align: right;\">nan          </td><td style=\"text-align: right;\">   inf         </td></tr>\n",
       "<tr><td>train_de_7b5ef8ce</td><td>TERMINATED</td><td>10.2.219.10:3630935</td><td style=\"text-align: right;\">    19.0214 </td><td style=\"text-align: right;\">    180.073  </td><td style=\"text-align: right;\">0.0194551  </td><td style=\"text-align: right;\">     3.22278</td><td style=\"text-align: right;\">     8.32379</td><td style=\"text-align: right;\">  25.0807 </td><td style=\"text-align: right;\">     1</td><td style=\"text-align: right;\">       132.433  </td><td style=\"text-align: right;\">  0.209572   </td><td style=\"text-align: right;\">     0.184761  </td></tr>\n",
       "<tr><td>train_de_c09d71f2</td><td>TERMINATED</td><td>10.2.219.10:3626583</td><td style=\"text-align: right;\">    19.6301 </td><td style=\"text-align: right;\">    164.235  </td><td style=\"text-align: right;\">0.0639219  </td><td style=\"text-align: right;\">     3.92035</td><td style=\"text-align: right;\">     9.81829</td><td style=\"text-align: right;\">  12.8189 </td><td style=\"text-align: right;\">     1</td><td style=\"text-align: right;\">        13.4555 </td><td style=\"text-align: right;\">nan          </td><td style=\"text-align: right;\">   inf         </td></tr>\n",
       "<tr><td>train_de_8b21663c</td><td>TERMINATED</td><td>10.2.219.10:3632074</td><td style=\"text-align: right;\">    17.7183 </td><td style=\"text-align: right;\">    117.866  </td><td style=\"text-align: right;\">0.0935738  </td><td style=\"text-align: right;\">     4.02013</td><td style=\"text-align: right;\">     4.78221</td><td style=\"text-align: right;\">  40.8068 </td><td style=\"text-align: right;\">     1</td><td style=\"text-align: right;\">        50.1849 </td><td style=\"text-align: right;\">  0.376755   </td><td style=\"text-align: right;\">     0.192565  </td></tr>\n",
       "<tr><td>train_de_ef157663</td><td>TERMINATED</td><td>10.2.219.10:3626583</td><td style=\"text-align: right;\">    13.7818 </td><td style=\"text-align: right;\">     13.2227 </td><td style=\"text-align: right;\">0.0231218  </td><td style=\"text-align: right;\">     8.37744</td><td style=\"text-align: right;\">     3.08406</td><td style=\"text-align: right;\">  13.6255 </td><td style=\"text-align: right;\">     1</td><td style=\"text-align: right;\">        19.3168 </td><td style=\"text-align: right;\">  0.112662   </td><td style=\"text-align: right;\">     0.186691  </td></tr>\n",
       "<tr><td>train_de_efc63246</td><td>TERMINATED</td><td>10.2.219.10:3627392</td><td style=\"text-align: right;\">    14.0678 </td><td style=\"text-align: right;\">    120.132  </td><td style=\"text-align: right;\">0.055128   </td><td style=\"text-align: right;\">     3.83021</td><td style=\"text-align: right;\">     6.88023</td><td style=\"text-align: right;\">  25.9355 </td><td style=\"text-align: right;\">     1</td><td style=\"text-align: right;\">        77.1213 </td><td style=\"text-align: right;\">  0.120908   </td><td style=\"text-align: right;\">     0.177918  </td></tr>\n",
       "<tr><td>train_de_c9060847</td><td>TERMINATED</td><td>10.2.219.10:3631818</td><td style=\"text-align: right;\">    10.4055 </td><td style=\"text-align: right;\">    143.321  </td><td style=\"text-align: right;\">0.0377116  </td><td style=\"text-align: right;\">     9.21157</td><td style=\"text-align: right;\">     9.54125</td><td style=\"text-align: right;\">  11.6758 </td><td style=\"text-align: right;\">     1</td><td style=\"text-align: right;\">        53.4034 </td><td style=\"text-align: right;\">nan          </td><td style=\"text-align: right;\">   inf         </td></tr>\n",
       "<tr><td>train_de_8f5c31b3</td><td>TERMINATED</td><td>10.2.219.10:3632708</td><td style=\"text-align: right;\">     2.48325</td><td style=\"text-align: right;\">    121.24   </td><td style=\"text-align: right;\">0.00885539 </td><td style=\"text-align: right;\">     6.84445</td><td style=\"text-align: right;\">     6.75854</td><td style=\"text-align: right;\">  43.1308 </td><td style=\"text-align: right;\">     1</td><td style=\"text-align: right;\">       662.489  </td><td style=\"text-align: right;\">  0.473724   </td><td style=\"text-align: right;\">     0.0673091 </td></tr>\n",
       "<tr><td>train_de_cc418426</td><td>TERMINATED</td><td>10.2.219.10:3626583</td><td style=\"text-align: right;\">    14.1223 </td><td style=\"text-align: right;\">     23.5121 </td><td style=\"text-align: right;\">0.05212    </td><td style=\"text-align: right;\">     2.97533</td><td style=\"text-align: right;\">     7.29557</td><td style=\"text-align: right;\">  27.6786 </td><td style=\"text-align: right;\">     1</td><td style=\"text-align: right;\">        31.9836 </td><td style=\"text-align: right;\">  0.285959   </td><td style=\"text-align: right;\">     0.171451  </td></tr>\n",
       "<tr><td>train_de_643ec81c</td><td>TERMINATED</td><td>10.2.219.10:3631024</td><td style=\"text-align: right;\">    12.9036 </td><td style=\"text-align: right;\">    150.281  </td><td style=\"text-align: right;\">0.0788136  </td><td style=\"text-align: right;\">     3.89813</td><td style=\"text-align: right;\">     9.68721</td><td style=\"text-align: right;\">  21.325  </td><td style=\"text-align: right;\">     1</td><td style=\"text-align: right;\">        46.1097 </td><td style=\"text-align: right;\">nan          </td><td style=\"text-align: right;\">   inf         </td></tr>\n",
       "<tr><td>train_de_bee1bd9b</td><td>TERMINATED</td><td>10.2.219.10:3633324</td><td style=\"text-align: right;\">     9.14024</td><td style=\"text-align: right;\">    150.975  </td><td style=\"text-align: right;\">0.0694247  </td><td style=\"text-align: right;\">     8.46583</td><td style=\"text-align: right;\">     9.14047</td><td style=\"text-align: right;\">  38.523  </td><td style=\"text-align: right;\">     1</td><td style=\"text-align: right;\">       175.323  </td><td style=\"text-align: right;\">nan          </td><td style=\"text-align: right;\">   inf         </td></tr>\n",
       "<tr><td>train_de_6770c424</td><td>TERMINATED</td><td>10.2.219.10:3628419</td><td style=\"text-align: right;\">    15.0606 </td><td style=\"text-align: right;\">     81.0588 </td><td style=\"text-align: right;\">0.0849123  </td><td style=\"text-align: right;\">     9.75785</td><td style=\"text-align: right;\">     3.16042</td><td style=\"text-align: right;\">  10.3432 </td><td style=\"text-align: right;\">     1</td><td style=\"text-align: right;\">         8.379  </td><td style=\"text-align: right;\">nan          </td><td style=\"text-align: right;\">   inf         </td></tr>\n",
       "<tr><td>train_de_b5d5b003</td><td>TERMINATED</td><td>10.2.219.10:3632074</td><td style=\"text-align: right;\">     1.73634</td><td style=\"text-align: right;\">    199.492  </td><td style=\"text-align: right;\">0.0692727  </td><td style=\"text-align: right;\">     2.99805</td><td style=\"text-align: right;\">     8.33002</td><td style=\"text-align: right;\">  22.837  </td><td style=\"text-align: right;\">     1</td><td style=\"text-align: right;\">       348.082  </td><td style=\"text-align: right;\">nan          </td><td style=\"text-align: right;\">   inf         </td></tr>\n",
       "<tr><td>train_de_62c7af08</td><td>TERMINATED</td><td>10.2.219.10:3628419</td><td style=\"text-align: right;\">    10.4667 </td><td style=\"text-align: right;\">    143.132  </td><td style=\"text-align: right;\">0.0341462  </td><td style=\"text-align: right;\">     8.5424 </td><td style=\"text-align: right;\">     9.85857</td><td style=\"text-align: right;\">  36.8472 </td><td style=\"text-align: right;\">     1</td><td style=\"text-align: right;\">       470.778  </td><td style=\"text-align: right;\">  0.0323308  </td><td style=\"text-align: right;\">     0.19128   </td></tr>\n",
       "<tr><td>train_de_b3cb3f4a</td><td>TERMINATED</td><td>10.2.219.10:3626795</td><td style=\"text-align: right;\">    12.0542 </td><td style=\"text-align: right;\">     46.0257 </td><td style=\"text-align: right;\">0.0755193  </td><td style=\"text-align: right;\">     6.92452</td><td style=\"text-align: right;\">     6.27293</td><td style=\"text-align: right;\">  27.9254 </td><td style=\"text-align: right;\">     1</td><td style=\"text-align: right;\">        90.3801 </td><td style=\"text-align: right;\">  0.172497   </td><td style=\"text-align: right;\">     0.186893  </td></tr>\n",
       "<tr><td>train_de_75bd7585</td><td>TERMINATED</td><td>10.2.219.10:3626920</td><td style=\"text-align: right;\">     3.98825</td><td style=\"text-align: right;\">     72.8872 </td><td style=\"text-align: right;\">0.0108422  </td><td style=\"text-align: right;\">     6.44245</td><td style=\"text-align: right;\">     7.89912</td><td style=\"text-align: right;\">  43.5799 </td><td style=\"text-align: right;\">     1</td><td style=\"text-align: right;\">       834.966  </td><td style=\"text-align: right;\">  0.0689807  </td><td style=\"text-align: right;\">     0.169828  </td></tr>\n",
       "<tr><td>train_de_e4c4173c</td><td>TERMINATED</td><td>10.2.219.10:3629371</td><td style=\"text-align: right;\">    18.4798 </td><td style=\"text-align: right;\">     78.2459 </td><td style=\"text-align: right;\">0.0222811  </td><td style=\"text-align: right;\">     8.31163</td><td style=\"text-align: right;\">     8.40703</td><td style=\"text-align: right;\">  45.9259 </td><td style=\"text-align: right;\">     1</td><td style=\"text-align: right;\">       213.378  </td><td style=\"text-align: right;\">  0.106644   </td><td style=\"text-align: right;\">     0.156932  </td></tr>\n",
       "<tr><td>train_de_018155f0</td><td>TERMINATED</td><td>10.2.219.10:3627693</td><td style=\"text-align: right;\">    14.0365 </td><td style=\"text-align: right;\">     61.6421 </td><td style=\"text-align: right;\">0.0187993  </td><td style=\"text-align: right;\">     7.02144</td><td style=\"text-align: right;\">     3.4096 </td><td style=\"text-align: right;\">  33.5314 </td><td style=\"text-align: right;\">     1</td><td style=\"text-align: right;\">        26.8023 </td><td style=\"text-align: right;\">  0.0616801  </td><td style=\"text-align: right;\">     0.173418  </td></tr>\n",
       "<tr><td>train_de_83a63a55</td><td>TERMINATED</td><td>10.2.219.10:3626583</td><td style=\"text-align: right;\">    18.2329 </td><td style=\"text-align: right;\">    165.574  </td><td style=\"text-align: right;\">0.042966   </td><td style=\"text-align: right;\">     8.73396</td><td style=\"text-align: right;\">     3.63384</td><td style=\"text-align: right;\">  43.0723 </td><td style=\"text-align: right;\">     1</td><td style=\"text-align: right;\">        51.0493 </td><td style=\"text-align: right;\">nan          </td><td style=\"text-align: right;\">     0.260118  </td></tr>\n",
       "<tr><td>train_de_5bb11eae</td><td>TERMINATED</td><td>10.2.219.10:3633993</td><td style=\"text-align: right;\">     7.03014</td><td style=\"text-align: right;\">     28.9677 </td><td style=\"text-align: right;\">0.0265718  </td><td style=\"text-align: right;\">     3.00038</td><td style=\"text-align: right;\">     4.49906</td><td style=\"text-align: right;\">  27.8929 </td><td style=\"text-align: right;\">     1</td><td style=\"text-align: right;\">        93.6521 </td><td style=\"text-align: right;\">  0.0630711  </td><td style=\"text-align: right;\">     0.185294  </td></tr>\n",
       "<tr><td>train_de_78efd493</td><td>TERMINATED</td><td>10.2.219.10:3631818</td><td style=\"text-align: right;\">    11.4403 </td><td style=\"text-align: right;\">    172.331  </td><td style=\"text-align: right;\">0.0923755  </td><td style=\"text-align: right;\">     8.70851</td><td style=\"text-align: right;\">     9.05126</td><td style=\"text-align: right;\">  36.4816 </td><td style=\"text-align: right;\">     1</td><td style=\"text-align: right;\">       146.251  </td><td style=\"text-align: right;\">nan          </td><td style=\"text-align: right;\">   inf         </td></tr>\n",
       "<tr><td>train_de_dbfb6169</td><td>TERMINATED</td><td>10.2.219.10:3631024</td><td style=\"text-align: right;\">     5.02387</td><td style=\"text-align: right;\">     78.1311 </td><td style=\"text-align: right;\">0.00300613 </td><td style=\"text-align: right;\">     3.44129</td><td style=\"text-align: right;\">     8.63106</td><td style=\"text-align: right;\">  42.7656 </td><td style=\"text-align: right;\">     1</td><td style=\"text-align: right;\">       181.761  </td><td style=\"text-align: right;\">  0.307847   </td><td style=\"text-align: right;\">     0.160006  </td></tr>\n",
       "<tr><td>train_de_d6f50907</td><td>TERMINATED</td><td>10.2.219.10:3627693</td><td style=\"text-align: right;\">    13.2281 </td><td style=\"text-align: right;\">    134.453  </td><td style=\"text-align: right;\">0.0479455  </td><td style=\"text-align: right;\">     6.37584</td><td style=\"text-align: right;\">     6.3807 </td><td style=\"text-align: right;\">  45.0311 </td><td style=\"text-align: right;\">     1</td><td style=\"text-align: right;\">       111.357  </td><td style=\"text-align: right;\">  0.323457   </td><td style=\"text-align: right;\">     0.190135  </td></tr>\n",
       "<tr><td>train_de_854f823e</td><td>TERMINATED</td><td>10.2.219.10:3628196</td><td style=\"text-align: right;\">    18.2705 </td><td style=\"text-align: right;\">     70.457  </td><td style=\"text-align: right;\">0.0554557  </td><td style=\"text-align: right;\">     4.27457</td><td style=\"text-align: right;\">     4.761  </td><td style=\"text-align: right;\">  31.7276 </td><td style=\"text-align: right;\">     1</td><td style=\"text-align: right;\">        34.158  </td><td style=\"text-align: right;\">  0.20553    </td><td style=\"text-align: right;\">     0.160543  </td></tr>\n",
       "<tr><td>train_de_5c68c8d2</td><td>TERMINATED</td><td>10.2.219.10:3627392</td><td style=\"text-align: right;\">     1.35873</td><td style=\"text-align: right;\">    114.356  </td><td style=\"text-align: right;\">0.0884677  </td><td style=\"text-align: right;\">     6.19146</td><td style=\"text-align: right;\">     4.92261</td><td style=\"text-align: right;\">   6.41364</td><td style=\"text-align: right;\">     1</td><td style=\"text-align: right;\">        64.1504 </td><td style=\"text-align: right;\">nan          </td><td style=\"text-align: right;\">   inf         </td></tr>\n",
       "<tr><td>train_de_1a104a65</td><td>TERMINATED</td><td>10.2.219.10:3626583</td><td style=\"text-align: right;\">    13.7404 </td><td style=\"text-align: right;\">    118.961  </td><td style=\"text-align: right;\">0.0769914  </td><td style=\"text-align: right;\">     9.87872</td><td style=\"text-align: right;\">     8.95998</td><td style=\"text-align: right;\">  36.0404 </td><td style=\"text-align: right;\">     1</td><td style=\"text-align: right;\">       103.703  </td><td style=\"text-align: right;\">nan          </td><td style=\"text-align: right;\">   inf         </td></tr>\n",
       "<tr><td>train_de_c607869c</td><td>TERMINATED</td><td>10.2.219.10:3628001</td><td style=\"text-align: right;\">    14.1141 </td><td style=\"text-align: right;\">     33.4169 </td><td style=\"text-align: right;\">0.0846078  </td><td style=\"text-align: right;\">     9.12703</td><td style=\"text-align: right;\">     8.80786</td><td style=\"text-align: right;\">  49.3576 </td><td style=\"text-align: right;\">     1</td><td style=\"text-align: right;\">       119.827  </td><td style=\"text-align: right;\">  0.0458336  </td><td style=\"text-align: right;\">     0.176713  </td></tr>\n",
       "<tr><td>train_de_3726d31b</td><td>TERMINATED</td><td>10.2.219.10:3628737</td><td style=\"text-align: right;\">     1.98516</td><td style=\"text-align: right;\">    189.25   </td><td style=\"text-align: right;\">0.0790616  </td><td style=\"text-align: right;\">     4.1329 </td><td style=\"text-align: right;\">     3.98946</td><td style=\"text-align: right;\">  31.446  </td><td style=\"text-align: right;\">     1</td><td style=\"text-align: right;\">       323.3    </td><td style=\"text-align: right;\">nan          </td><td style=\"text-align: right;\">   inf         </td></tr>\n",
       "<tr><td>train_de_345a2f80</td><td>TERMINATED</td><td>10.2.219.10:3628196</td><td style=\"text-align: right;\">    13.438  </td><td style=\"text-align: right;\">     20.61   </td><td style=\"text-align: right;\">0.0859297  </td><td style=\"text-align: right;\">     2.40941</td><td style=\"text-align: right;\">     7.40809</td><td style=\"text-align: right;\">  29.628  </td><td style=\"text-align: right;\">     1</td><td style=\"text-align: right;\">        33.2936 </td><td style=\"text-align: right;\">  0.277296   </td><td style=\"text-align: right;\">     0.180361  </td></tr>\n",
       "<tr><td>train_de_ef55f8bc</td><td>TERMINATED</td><td>10.2.219.10:3630935</td><td style=\"text-align: right;\">    18.8015 </td><td style=\"text-align: right;\">     90.1665 </td><td style=\"text-align: right;\">0.0488839  </td><td style=\"text-align: right;\">     2.50953</td><td style=\"text-align: right;\">     5.16801</td><td style=\"text-align: right;\">  10.3993 </td><td style=\"text-align: right;\">     1</td><td style=\"text-align: right;\">        21.8805 </td><td style=\"text-align: right;\">  0.0459141  </td><td style=\"text-align: right;\">     0.157268  </td></tr>\n",
       "<tr><td>train_de_c34d9c65</td><td>TERMINATED</td><td>10.2.219.10:3626795</td><td style=\"text-align: right;\">     7.61746</td><td style=\"text-align: right;\">     89.2713 </td><td style=\"text-align: right;\">0.0895105  </td><td style=\"text-align: right;\">     5.66104</td><td style=\"text-align: right;\">     7.41728</td><td style=\"text-align: right;\">  44.2447 </td><td style=\"text-align: right;\">     1</td><td style=\"text-align: right;\">       525.504  </td><td style=\"text-align: right;\">  0.212797   </td><td style=\"text-align: right;\">     0.188245  </td></tr>\n",
       "<tr><td>train_de_3e8d9ad5</td><td>TERMINATED</td><td>10.2.219.10:3630935</td><td style=\"text-align: right;\">    12.2637 </td><td style=\"text-align: right;\">     71.2873 </td><td style=\"text-align: right;\">0.0462345  </td><td style=\"text-align: right;\">     3.46469</td><td style=\"text-align: right;\">     3.04891</td><td style=\"text-align: right;\">  43.0877 </td><td style=\"text-align: right;\">     1</td><td style=\"text-align: right;\">        31.2744 </td><td style=\"text-align: right;\">  0.0427824  </td><td style=\"text-align: right;\">     0.190711  </td></tr>\n",
       "<tr><td>train_de_e168207e</td><td>TERMINATED</td><td>10.2.219.10:3628196</td><td style=\"text-align: right;\">     1.98541</td><td style=\"text-align: right;\">     71.3425 </td><td style=\"text-align: right;\">0.0151003  </td><td style=\"text-align: right;\">     5.37679</td><td style=\"text-align: right;\">     5.7984 </td><td style=\"text-align: right;\">  38.3127 </td><td style=\"text-align: right;\">     1</td><td style=\"text-align: right;\">       983.46   </td><td style=\"text-align: right;\">  0.802505   </td><td style=\"text-align: right;\">     0.190907  </td></tr>\n",
       "<tr><td>train_de_0aad0c02</td><td>TERMINATED</td><td>10.2.219.10:3633993</td><td style=\"text-align: right;\">    17.0039 </td><td style=\"text-align: right;\">     54.9796 </td><td style=\"text-align: right;\">0.0687102  </td><td style=\"text-align: right;\">     7.29079</td><td style=\"text-align: right;\">     3.25585</td><td style=\"text-align: right;\">   3.73181</td><td style=\"text-align: right;\">     1</td><td style=\"text-align: right;\">         6.78356</td><td style=\"text-align: right;\">  0.0427633  </td><td style=\"text-align: right;\">     0.195268  </td></tr>\n",
       "<tr><td>train_de_8030d1b9</td><td>TERMINATED</td><td>10.2.219.10:3627392</td><td style=\"text-align: right;\">    13.4841 </td><td style=\"text-align: right;\">     38.0161 </td><td style=\"text-align: right;\">0.075813   </td><td style=\"text-align: right;\">     5.05962</td><td style=\"text-align: right;\">     4.2822 </td><td style=\"text-align: right;\">  14.1428 </td><td style=\"text-align: right;\">     1</td><td style=\"text-align: right;\">        38.4998 </td><td style=\"text-align: right;\">  0.359438   </td><td style=\"text-align: right;\">     0.189573  </td></tr>\n",
       "<tr><td>train_de_9e382198</td><td>TERMINATED</td><td>10.2.219.10:3633993</td><td style=\"text-align: right;\">     4.10701</td><td style=\"text-align: right;\">    142.221  </td><td style=\"text-align: right;\">0.0988596  </td><td style=\"text-align: right;\">     6.28427</td><td style=\"text-align: right;\">     8.64125</td><td style=\"text-align: right;\">  40.5524 </td><td style=\"text-align: right;\">     1</td><td style=\"text-align: right;\">       269.316  </td><td style=\"text-align: right;\">nan          </td><td style=\"text-align: right;\">   inf         </td></tr>\n",
       "<tr><td>train_de_5bf0a5b2</td><td>TERMINATED</td><td>10.2.219.10:3630935</td><td style=\"text-align: right;\">    10.1753 </td><td style=\"text-align: right;\">     93.2946 </td><td style=\"text-align: right;\">0.0156916  </td><td style=\"text-align: right;\">     8.20122</td><td style=\"text-align: right;\">     9.32076</td><td style=\"text-align: right;\">  46.6116 </td><td style=\"text-align: right;\">     1</td><td style=\"text-align: right;\">       313.427  </td><td style=\"text-align: right;\">  0.128291   </td><td style=\"text-align: right;\">     0.191551  </td></tr>\n",
       "<tr><td>train_de_b082a772</td><td>TERMINATED</td><td>10.2.219.10:3629615</td><td style=\"text-align: right;\">    11.2146 </td><td style=\"text-align: right;\">     72.368  </td><td style=\"text-align: right;\">0.055897   </td><td style=\"text-align: right;\">     8.07961</td><td style=\"text-align: right;\">     9.25158</td><td style=\"text-align: right;\">  24.6467 </td><td style=\"text-align: right;\">     1</td><td style=\"text-align: right;\">        79.5573 </td><td style=\"text-align: right;\">nan          </td><td style=\"text-align: right;\">     0.209869  </td></tr>\n",
       "<tr><td>train_de_a659f85a</td><td>TERMINATED</td><td>10.2.219.10:3627693</td><td style=\"text-align: right;\">    13.0215 </td><td style=\"text-align: right;\">     91.2064 </td><td style=\"text-align: right;\">0.0842342  </td><td style=\"text-align: right;\">     3.20972</td><td style=\"text-align: right;\">     8.84626</td><td style=\"text-align: right;\">  41.5241 </td><td style=\"text-align: right;\">     1</td><td style=\"text-align: right;\">       165.709  </td><td style=\"text-align: right;\">  0.056279   </td><td style=\"text-align: right;\">     0.183947  </td></tr>\n",
       "<tr><td>train_de_d3dda215</td><td>TERMINATED</td><td>10.2.219.10:3627392</td><td style=\"text-align: right;\">     8.4538 </td><td style=\"text-align: right;\">    183.725  </td><td style=\"text-align: right;\">0.0534984  </td><td style=\"text-align: right;\">     6.61236</td><td style=\"text-align: right;\">     6.78864</td><td style=\"text-align: right;\">  47.358  </td><td style=\"text-align: right;\">     1</td><td style=\"text-align: right;\">       187.661  </td><td style=\"text-align: right;\">nan          </td><td style=\"text-align: right;\">   inf         </td></tr>\n",
       "<tr><td>train_de_98ce2eaa</td><td>TERMINATED</td><td>10.2.219.10:3626583</td><td style=\"text-align: right;\">     8.07366</td><td style=\"text-align: right;\">     10.1828 </td><td style=\"text-align: right;\">0.0790901  </td><td style=\"text-align: right;\">     7.00417</td><td style=\"text-align: right;\">     9.79914</td><td style=\"text-align: right;\">  42.8109 </td><td style=\"text-align: right;\">     1</td><td style=\"text-align: right;\">       476.058  </td><td style=\"text-align: right;\">  0.255468   </td><td style=\"text-align: right;\">     0.190954  </td></tr>\n",
       "<tr><td>train_de_5a8ba227</td><td>TERMINATED</td><td>10.2.219.10:3633324</td><td style=\"text-align: right;\">    10.6435 </td><td style=\"text-align: right;\">     56.4614 </td><td style=\"text-align: right;\">0.0808155  </td><td style=\"text-align: right;\">     2.62532</td><td style=\"text-align: right;\">     9.9318 </td><td style=\"text-align: right;\">  49.1012 </td><td style=\"text-align: right;\">     1</td><td style=\"text-align: right;\">       209.791  </td><td style=\"text-align: right;\">  0.356107   </td><td style=\"text-align: right;\">     0.191371  </td></tr>\n",
       "<tr><td>train_de_b5f5659d</td><td>TERMINATED</td><td>10.2.219.10:3631818</td><td style=\"text-align: right;\">    19.5691 </td><td style=\"text-align: right;\">     47.1776 </td><td style=\"text-align: right;\">0.0900213  </td><td style=\"text-align: right;\">     5.2831 </td><td style=\"text-align: right;\">     7.6056 </td><td style=\"text-align: right;\">  30.9398 </td><td style=\"text-align: right;\">     1</td><td style=\"text-align: right;\">        89.7575 </td><td style=\"text-align: right;\">  0.137065   </td><td style=\"text-align: right;\">     0.185687  </td></tr>\n",
       "<tr><td>train_de_d4cdfa9e</td><td>TERMINATED</td><td>10.2.219.10:3630810</td><td style=\"text-align: right;\">     2.5321 </td><td style=\"text-align: right;\">     31.9372 </td><td style=\"text-align: right;\">0.0195771  </td><td style=\"text-align: right;\">     8.02368</td><td style=\"text-align: right;\">     4.13453</td><td style=\"text-align: right;\">   9.42648</td><td style=\"text-align: right;\">     1</td><td style=\"text-align: right;\">       123.173  </td><td style=\"text-align: right;\">  0.0927754  </td><td style=\"text-align: right;\">     0.191056  </td></tr>\n",
       "<tr><td>train_de_382495ee</td><td>TERMINATED</td><td>10.2.219.10:3623099</td><td style=\"text-align: right;\">    16.5817 </td><td style=\"text-align: right;\">    179.504  </td><td style=\"text-align: right;\">0.0228825  </td><td style=\"text-align: right;\">     8.07845</td><td style=\"text-align: right;\">     9.57443</td><td style=\"text-align: right;\">  35.6635 </td><td style=\"text-align: right;\">     1</td><td style=\"text-align: right;\">       202.949  </td><td style=\"text-align: right;\">  0.36192    </td><td style=\"text-align: right;\">     0.189861  </td></tr>\n",
       "<tr><td>train_de_52ab7054</td><td>TERMINATED</td><td>10.2.219.10:3630145</td><td style=\"text-align: right;\">    12.6264 </td><td style=\"text-align: right;\">     55.7984 </td><td style=\"text-align: right;\">0.0905345  </td><td style=\"text-align: right;\">     3.31675</td><td style=\"text-align: right;\">     5.22563</td><td style=\"text-align: right;\">  33.4903 </td><td style=\"text-align: right;\">     1</td><td style=\"text-align: right;\">        49.2604 </td><td style=\"text-align: right;\">  0.256428   </td><td style=\"text-align: right;\">     0.18897   </td></tr>\n",
       "<tr><td>train_de_d2970897</td><td>TERMINATED</td><td>10.2.219.10:3628001</td><td style=\"text-align: right;\">    15.7532 </td><td style=\"text-align: right;\">    199.716  </td><td style=\"text-align: right;\">0.0563784  </td><td style=\"text-align: right;\">     9.15011</td><td style=\"text-align: right;\">     3.45481</td><td style=\"text-align: right;\">  22.5788 </td><td style=\"text-align: right;\">     1</td><td style=\"text-align: right;\">        28.3031 </td><td style=\"text-align: right;\">nan          </td><td style=\"text-align: right;\">   inf         </td></tr>\n",
       "<tr><td>train_de_f17e2d3c</td><td>TERMINATED</td><td>10.2.219.10:3628561</td><td style=\"text-align: right;\">    16.983  </td><td style=\"text-align: right;\">     44.1378 </td><td style=\"text-align: right;\">0.0594324  </td><td style=\"text-align: right;\">     5.29557</td><td style=\"text-align: right;\">     4.54723</td><td style=\"text-align: right;\">  13.5979 </td><td style=\"text-align: right;\">     1</td><td style=\"text-align: right;\">        20.27   </td><td style=\"text-align: right;\">  0.0714571  </td><td style=\"text-align: right;\">     0.182869  </td></tr>\n",
       "<tr><td>train_de_ffc5e25e</td><td>TERMINATED</td><td>10.2.219.10:3631024</td><td style=\"text-align: right;\">    16.7153 </td><td style=\"text-align: right;\">     94.4314 </td><td style=\"text-align: right;\">0.0762985  </td><td style=\"text-align: right;\">     5.71882</td><td style=\"text-align: right;\">     4.87541</td><td style=\"text-align: right;\">  38.0557 </td><td style=\"text-align: right;\">     1</td><td style=\"text-align: right;\">        41.07   </td><td style=\"text-align: right;\">  0.69325    </td><td style=\"text-align: right;\">     0.231577  </td></tr>\n",
       "<tr><td>train_de_6ddbac94</td><td>TERMINATED</td><td>10.2.219.10:3628001</td><td style=\"text-align: right;\">    10.605  </td><td style=\"text-align: right;\">    180.336  </td><td style=\"text-align: right;\">0.0862008  </td><td style=\"text-align: right;\">     9.6908 </td><td style=\"text-align: right;\">     3.05395</td><td style=\"text-align: right;\">  28.0012 </td><td style=\"text-align: right;\">     1</td><td style=\"text-align: right;\">        48.6043 </td><td style=\"text-align: right;\">nan          </td><td style=\"text-align: right;\">   inf         </td></tr>\n",
       "<tr><td>train_de_bf4166dc</td><td>TERMINATED</td><td>10.2.219.10:3629371</td><td style=\"text-align: right;\">     5.78348</td><td style=\"text-align: right;\">    178.251  </td><td style=\"text-align: right;\">0.0883631  </td><td style=\"text-align: right;\">     6.44807</td><td style=\"text-align: right;\">     8.80302</td><td style=\"text-align: right;\">  21.8166 </td><td style=\"text-align: right;\">     1</td><td style=\"text-align: right;\">       131.159  </td><td style=\"text-align: right;\">nan          </td><td style=\"text-align: right;\">   inf         </td></tr>\n",
       "<tr><td>train_de_3598c655</td><td>TERMINATED</td><td>10.2.219.10:3629615</td><td style=\"text-align: right;\">     8.62382</td><td style=\"text-align: right;\">    104.606  </td><td style=\"text-align: right;\">0.0485287  </td><td style=\"text-align: right;\">     5.6456 </td><td style=\"text-align: right;\">     4.69139</td><td style=\"text-align: right;\">  25.7284 </td><td style=\"text-align: right;\">     1</td><td style=\"text-align: right;\">        66.0235 </td><td style=\"text-align: right;\"> -0.0995863  </td><td style=\"text-align: right;\">     0.190905  </td></tr>\n",
       "<tr><td>train_de_19ec79b6</td><td>TERMINATED</td><td>10.2.219.10:3628561</td><td style=\"text-align: right;\">    19.3381 </td><td style=\"text-align: right;\">    128.795  </td><td style=\"text-align: right;\">0.0217745  </td><td style=\"text-align: right;\">     4.39722</td><td style=\"text-align: right;\">     5.52582</td><td style=\"text-align: right;\">  11.4464 </td><td style=\"text-align: right;\">     1</td><td style=\"text-align: right;\">        21.3749 </td><td style=\"text-align: right;\">  0.0524802  </td><td style=\"text-align: right;\">     0.182097  </td></tr>\n",
       "<tr><td>train_de_ab1cbd87</td><td>TERMINATED</td><td>10.2.219.10:3630145</td><td style=\"text-align: right;\">     7.38093</td><td style=\"text-align: right;\">    143.734  </td><td style=\"text-align: right;\">0.0736025  </td><td style=\"text-align: right;\">     5.37478</td><td style=\"text-align: right;\">     6.78745</td><td style=\"text-align: right;\">  49.4624 </td><td style=\"text-align: right;\">     1</td><td style=\"text-align: right;\">       174.923  </td><td style=\"text-align: right;\">nan          </td><td style=\"text-align: right;\">   inf         </td></tr>\n",
       "<tr><td>train_de_ba1cc9ba</td><td>TERMINATED</td><td>10.2.219.10:3626657</td><td style=\"text-align: right;\">     1.84267</td><td style=\"text-align: right;\">     72.2938 </td><td style=\"text-align: right;\">0.03026    </td><td style=\"text-align: right;\">     4.10153</td><td style=\"text-align: right;\">     3.45651</td><td style=\"text-align: right;\">  36.5413 </td><td style=\"text-align: right;\">     1</td><td style=\"text-align: right;\">       289.556  </td><td style=\"text-align: right;\">  0.296391   </td><td style=\"text-align: right;\">    -0.0562648 </td></tr>\n",
       "<tr><td>train_de_144ade15</td><td>TERMINATED</td><td>10.2.219.10:3628561</td><td style=\"text-align: right;\">    18.2873 </td><td style=\"text-align: right;\">     25.5623 </td><td style=\"text-align: right;\">0.0217509  </td><td style=\"text-align: right;\">     4.19679</td><td style=\"text-align: right;\">     8.13013</td><td style=\"text-align: right;\">  25.0657 </td><td style=\"text-align: right;\">     1</td><td style=\"text-align: right;\">        43.6324 </td><td style=\"text-align: right;\">  0.235383   </td><td style=\"text-align: right;\">     0.163825  </td></tr>\n",
       "<tr><td>train_de_55775ba2</td><td>TERMINATED</td><td>10.2.219.10:3631024</td><td style=\"text-align: right;\">     5.98652</td><td style=\"text-align: right;\">    188.468  </td><td style=\"text-align: right;\">0.0638084  </td><td style=\"text-align: right;\">     7.1332 </td><td style=\"text-align: right;\">     7.22051</td><td style=\"text-align: right;\">  18.174  </td><td style=\"text-align: right;\">     1</td><td style=\"text-align: right;\">       127.814  </td><td style=\"text-align: right;\">nan          </td><td style=\"text-align: right;\">   inf         </td></tr>\n",
       "<tr><td>train_de_e303cd69</td><td>TERMINATED</td><td>10.2.219.10:3631818</td><td style=\"text-align: right;\">    16.6286 </td><td style=\"text-align: right;\">     89.8347 </td><td style=\"text-align: right;\">0.02615    </td><td style=\"text-align: right;\">     4.6024 </td><td style=\"text-align: right;\">     9.09701</td><td style=\"text-align: right;\">  22.599  </td><td style=\"text-align: right;\">     1</td><td style=\"text-align: right;\">        70.6584 </td><td style=\"text-align: right;\"> -0.122174   </td><td style=\"text-align: right;\">     0.182367  </td></tr>\n",
       "<tr><td>train_de_c296338f</td><td>TERMINATED</td><td>10.2.219.10:3628001</td><td style=\"text-align: right;\">     6.45393</td><td style=\"text-align: right;\">    132.154  </td><td style=\"text-align: right;\">0.0173583  </td><td style=\"text-align: right;\">     4.30549</td><td style=\"text-align: right;\">     7.54293</td><td style=\"text-align: right;\">  11.6016 </td><td style=\"text-align: right;\">     1</td><td style=\"text-align: right;\">        91.1698 </td><td style=\"text-align: right;\">  0.0890824  </td><td style=\"text-align: right;\">     0.185457  </td></tr>\n",
       "<tr><td>train_de_fa200be4</td><td>TERMINATED</td><td>10.2.219.10:3629615</td><td style=\"text-align: right;\">    13.0223 </td><td style=\"text-align: right;\">     77.2464 </td><td style=\"text-align: right;\">0.0717943  </td><td style=\"text-align: right;\">     7.66537</td><td style=\"text-align: right;\">     4.02992</td><td style=\"text-align: right;\">  34.272  </td><td style=\"text-align: right;\">     1</td><td style=\"text-align: right;\">        78.8958 </td><td style=\"text-align: right;\">  0.321392   </td><td style=\"text-align: right;\">     0.187146  </td></tr>\n",
       "<tr><td>train_de_c7908165</td><td>TERMINATED</td><td>10.2.219.10:3628561</td><td style=\"text-align: right;\">     6.09448</td><td style=\"text-align: right;\">     64.8131 </td><td style=\"text-align: right;\">0.0351403  </td><td style=\"text-align: right;\">     5.37478</td><td style=\"text-align: right;\">     5.8256 </td><td style=\"text-align: right;\">  36.4248 </td><td style=\"text-align: right;\">     1</td><td style=\"text-align: right;\">       279.627  </td><td style=\"text-align: right;\">  0.237035   </td><td style=\"text-align: right;\">     0.184504  </td></tr>\n",
       "<tr><td>train_de_299c71b9</td><td>TERMINATED</td><td>10.2.219.10:3630810</td><td style=\"text-align: right;\">     4.4413 </td><td style=\"text-align: right;\">     86.3216 </td><td style=\"text-align: right;\">0.05611    </td><td style=\"text-align: right;\">     5.22486</td><td style=\"text-align: right;\">     6.22972</td><td style=\"text-align: right;\">  12.2717 </td><td style=\"text-align: right;\">     1</td><td style=\"text-align: right;\">        76.8206 </td><td style=\"text-align: right;\">  0.127772   </td><td style=\"text-align: right;\">     0.185313  </td></tr>\n",
       "<tr><td>train_de_ae94231c</td><td>TERMINATED</td><td>10.2.219.10:3627693</td><td style=\"text-align: right;\">     9.3827 </td><td style=\"text-align: right;\">     57.8782 </td><td style=\"text-align: right;\">0.0224499  </td><td style=\"text-align: right;\">     8.59742</td><td style=\"text-align: right;\">     3.89197</td><td style=\"text-align: right;\">  45.1189 </td><td style=\"text-align: right;\">     1</td><td style=\"text-align: right;\">       121.623  </td><td style=\"text-align: right;\">  0.19874    </td><td style=\"text-align: right;\">     0.176792  </td></tr>\n",
       "<tr><td>train_de_dd9aba63</td><td>TERMINATED</td><td>10.2.219.10:3631818</td><td style=\"text-align: right;\">     4.49821</td><td style=\"text-align: right;\">    151.442  </td><td style=\"text-align: right;\">0.0264098  </td><td style=\"text-align: right;\">     5.00968</td><td style=\"text-align: right;\">     9.19767</td><td style=\"text-align: right;\">  33.1137 </td><td style=\"text-align: right;\">     1</td><td style=\"text-align: right;\">       694.334  </td><td style=\"text-align: right;\">  0.323029   </td><td style=\"text-align: right;\">     0.187528  </td></tr>\n",
       "<tr><td>train_de_79f3f97a</td><td>TERMINATED</td><td>10.2.219.10:3627392</td><td style=\"text-align: right;\">    17.1095 </td><td style=\"text-align: right;\">    149.675  </td><td style=\"text-align: right;\">0.00856812 </td><td style=\"text-align: right;\">     4.86936</td><td style=\"text-align: right;\">     7.35686</td><td style=\"text-align: right;\">  25.0269 </td><td style=\"text-align: right;\">     1</td><td style=\"text-align: right;\">        84.9099 </td><td style=\"text-align: right;\"> -0.142899   </td><td style=\"text-align: right;\">     0.188957  </td></tr>\n",
       "<tr><td>train_de_a8736f2d</td><td>TERMINATED</td><td>10.2.219.10:3632074</td><td style=\"text-align: right;\">    18.4986 </td><td style=\"text-align: right;\">    115.573  </td><td style=\"text-align: right;\">0.0179847  </td><td style=\"text-align: right;\">     3.12751</td><td style=\"text-align: right;\">     5.7537 </td><td style=\"text-align: right;\">  29.877  </td><td style=\"text-align: right;\">     1</td><td style=\"text-align: right;\">        32.8496 </td><td style=\"text-align: right;\">  0.0234763  </td><td style=\"text-align: right;\">     0.158433  </td></tr>\n",
       "<tr><td>train_de_997d17eb</td><td>TERMINATED</td><td>10.2.219.10:3629371</td><td style=\"text-align: right;\">    15.9672 </td><td style=\"text-align: right;\">     77.1915 </td><td style=\"text-align: right;\">0.0963127  </td><td style=\"text-align: right;\">     8.24005</td><td style=\"text-align: right;\">     8.38775</td><td style=\"text-align: right;\">  41.4655 </td><td style=\"text-align: right;\">     1</td><td style=\"text-align: right;\">       103.285  </td><td style=\"text-align: right;\">nan          </td><td style=\"text-align: right;\">   inf         </td></tr>\n",
       "<tr><td>train_de_26d7864f</td><td>TERMINATED</td><td>10.2.219.10:3628001</td><td style=\"text-align: right;\">    13.4718 </td><td style=\"text-align: right;\">     81.4781 </td><td style=\"text-align: right;\">0.0950645  </td><td style=\"text-align: right;\">     8.31652</td><td style=\"text-align: right;\">     7.33843</td><td style=\"text-align: right;\">   8.81967</td><td style=\"text-align: right;\">     1</td><td style=\"text-align: right;\">        16.1122 </td><td style=\"text-align: right;\">nan          </td><td style=\"text-align: right;\">   inf         </td></tr>\n",
       "<tr><td>train_de_21653bf6</td><td>TERMINATED</td><td>10.2.219.10:3629615</td><td style=\"text-align: right;\">     5.76748</td><td style=\"text-align: right;\">     94.8042 </td><td style=\"text-align: right;\">0.0272249  </td><td style=\"text-align: right;\">     6.3375 </td><td style=\"text-align: right;\">     5.81097</td><td style=\"text-align: right;\">  25.4234 </td><td style=\"text-align: right;\">     1</td><td style=\"text-align: right;\">       155.147  </td><td style=\"text-align: right;\">  0.167882   </td><td style=\"text-align: right;\">     0.191468  </td></tr>\n",
       "<tr><td>train_de_818608b3</td><td>TERMINATED</td><td>10.2.219.10:3628001</td><td style=\"text-align: right;\">    14.1576 </td><td style=\"text-align: right;\">     69.6369 </td><td style=\"text-align: right;\">0.000428416</td><td style=\"text-align: right;\">     5.27853</td><td style=\"text-align: right;\">     7.31587</td><td style=\"text-align: right;\">  11.6581 </td><td style=\"text-align: right;\">     1</td><td style=\"text-align: right;\">        43.0311 </td><td style=\"text-align: right;\">  0.326764   </td><td style=\"text-align: right;\">     0.179002  </td></tr>\n",
       "<tr><td>train_de_c9d9e3b8</td><td>TERMINATED</td><td>10.2.219.10:3630810</td><td style=\"text-align: right;\">    15.2245 </td><td style=\"text-align: right;\">    186.901  </td><td style=\"text-align: right;\">0.0351779  </td><td style=\"text-align: right;\">     4.11831</td><td style=\"text-align: right;\">     5.63584</td><td style=\"text-align: right;\">  14.6311 </td><td style=\"text-align: right;\">     1</td><td style=\"text-align: right;\">        44.0059 </td><td style=\"text-align: right;\">  0.42315    </td><td style=\"text-align: right;\">     0.185671  </td></tr>\n",
       "<tr><td>train_de_200b2bac</td><td>TERMINATED</td><td>10.2.219.10:3633324</td><td style=\"text-align: right;\">     6.91965</td><td style=\"text-align: right;\">     12.5866 </td><td style=\"text-align: right;\">0.00762386 </td><td style=\"text-align: right;\">     9.63149</td><td style=\"text-align: right;\">     8.39997</td><td style=\"text-align: right;\">  18.1304 </td><td style=\"text-align: right;\">     1</td><td style=\"text-align: right;\">       180.256  </td><td style=\"text-align: right;\">  0.231376   </td><td style=\"text-align: right;\">     0.179393  </td></tr>\n",
       "<tr><td>train_de_a811c604</td><td>TERMINATED</td><td>10.2.219.10:3632074</td><td style=\"text-align: right;\">    19.034  </td><td style=\"text-align: right;\">      3.33657</td><td style=\"text-align: right;\">0.0709366  </td><td style=\"text-align: right;\">     7.76154</td><td style=\"text-align: right;\">     7.30126</td><td style=\"text-align: right;\">  21.654  </td><td style=\"text-align: right;\">     1</td><td style=\"text-align: right;\">        33.9077 </td><td style=\"text-align: right;\">  0.204121   </td><td style=\"text-align: right;\">     0.186062  </td></tr>\n",
       "<tr><td>train_de_0ee8735f</td><td>TERMINATED</td><td>10.2.219.10:3623099</td><td style=\"text-align: right;\">     7.26787</td><td style=\"text-align: right;\">    133.367  </td><td style=\"text-align: right;\">0.0742385  </td><td style=\"text-align: right;\">     7.41124</td><td style=\"text-align: right;\">     3.90644</td><td style=\"text-align: right;\">  45.6255 </td><td style=\"text-align: right;\">     1</td><td style=\"text-align: right;\">        87.0733 </td><td style=\"text-align: right;\">nan          </td><td style=\"text-align: right;\">   inf         </td></tr>\n",
       "<tr><td>train_de_edb68a02</td><td>TERMINATED</td><td>10.2.219.10:3631024</td><td style=\"text-align: right;\">    13.0526 </td><td style=\"text-align: right;\">    102.145  </td><td style=\"text-align: right;\">0.0134648  </td><td style=\"text-align: right;\">     7.42338</td><td style=\"text-align: right;\">     6.49458</td><td style=\"text-align: right;\">  44.3706 </td><td style=\"text-align: right;\">     1</td><td style=\"text-align: right;\">       120.034  </td><td style=\"text-align: right;\">  0.17511    </td><td style=\"text-align: right;\">     0.180519  </td></tr>\n",
       "<tr><td>train_de_1aa0ad89</td><td>TERMINATED</td><td>10.2.219.10:3633993</td><td style=\"text-align: right;\">     8.22304</td><td style=\"text-align: right;\">     18.4929 </td><td style=\"text-align: right;\">0.0457983  </td><td style=\"text-align: right;\">     9.57833</td><td style=\"text-align: right;\">     8.72004</td><td style=\"text-align: right;\">  10.0525 </td><td style=\"text-align: right;\">     1</td><td style=\"text-align: right;\">        83.0227 </td><td style=\"text-align: right;\">  0.264245   </td><td style=\"text-align: right;\">     0.191564  </td></tr>\n",
       "<tr><td>train_de_6eab8026</td><td>TERMINATED</td><td>10.2.219.10:3631392</td><td style=\"text-align: right;\">     6.59895</td><td style=\"text-align: right;\">     86.4776 </td><td style=\"text-align: right;\">0.0748491  </td><td style=\"text-align: right;\">     3.38218</td><td style=\"text-align: right;\">     5.55694</td><td style=\"text-align: right;\">  34.2542 </td><td style=\"text-align: right;\">     1</td><td style=\"text-align: right;\">       181.253  </td><td style=\"text-align: right;\">  0.0263071  </td><td style=\"text-align: right;\">     0.18513   </td></tr>\n",
       "<tr><td>train_de_c07e1f73</td><td>TERMINATED</td><td>10.2.219.10:3635151</td><td style=\"text-align: right;\">    17.1937 </td><td style=\"text-align: right;\">     77.1338 </td><td style=\"text-align: right;\">0.0963743  </td><td style=\"text-align: right;\">     4.66515</td><td style=\"text-align: right;\">     6.58582</td><td style=\"text-align: right;\">  37.1495 </td><td style=\"text-align: right;\">     1</td><td style=\"text-align: right;\">        44.3852 </td><td style=\"text-align: right;\">  0.278125   </td><td style=\"text-align: right;\">     0.193259  </td></tr>\n",
       "<tr><td>train_de_c3834213</td><td>TERMINATED</td><td>10.2.219.10:3628737</td><td style=\"text-align: right;\">     6.80291</td><td style=\"text-align: right;\">    168.733  </td><td style=\"text-align: right;\">0.0461202  </td><td style=\"text-align: right;\">     4.18617</td><td style=\"text-align: right;\">     9.31339</td><td style=\"text-align: right;\">  16.5557 </td><td style=\"text-align: right;\">     1</td><td style=\"text-align: right;\">       176.231  </td><td style=\"text-align: right;\"> -0.224945   </td><td style=\"text-align: right;\">     0.195239  </td></tr>\n",
       "<tr><td>train_de_9fb541a7</td><td>TERMINATED</td><td>10.2.219.10:3626469</td><td style=\"text-align: right;\">     7.99402</td><td style=\"text-align: right;\">     17.5255 </td><td style=\"text-align: right;\">0.0183393  </td><td style=\"text-align: right;\">     2.58615</td><td style=\"text-align: right;\">     4.5554 </td><td style=\"text-align: right;\">  33.2217 </td><td style=\"text-align: right;\">     1</td><td style=\"text-align: right;\">        52.6791 </td><td style=\"text-align: right;\"> -0.191065   </td><td style=\"text-align: right;\">     0.171426  </td></tr>\n",
       "<tr><td>train_de_20b95a14</td><td>TERMINATED</td><td>10.2.219.10:3630145</td><td style=\"text-align: right;\">    15.2727 </td><td style=\"text-align: right;\">     35.0788 </td><td style=\"text-align: right;\">0.0587441  </td><td style=\"text-align: right;\">     2.61637</td><td style=\"text-align: right;\">     9.33861</td><td style=\"text-align: right;\">  38.6703 </td><td style=\"text-align: right;\">     1</td><td style=\"text-align: right;\">       118.004  </td><td style=\"text-align: right;\">  0.0478335  </td><td style=\"text-align: right;\">     0.177595  </td></tr>\n",
       "<tr><td>train_de_6e751079</td><td>TERMINATED</td><td>10.2.219.10:3632074</td><td style=\"text-align: right;\">     1.29575</td><td style=\"text-align: right;\">      6.17789</td><td style=\"text-align: right;\">0.0898153  </td><td style=\"text-align: right;\">     7.92455</td><td style=\"text-align: right;\">     9.83577</td><td style=\"text-align: right;\">  40.713  </td><td style=\"text-align: right;\">     1</td><td style=\"text-align: right;\">       833.444  </td><td style=\"text-align: right;\">  0.300962   </td><td style=\"text-align: right;\">     0.19102   </td></tr>\n",
       "<tr><td>train_de_90e66f3d</td><td>TERMINATED</td><td>10.2.219.10:3628001</td><td style=\"text-align: right;\">     1.84355</td><td style=\"text-align: right;\">     84.2029 </td><td style=\"text-align: right;\">0.0849681  </td><td style=\"text-align: right;\">     3.74529</td><td style=\"text-align: right;\">     9.85764</td><td style=\"text-align: right;\">  31.2785 </td><td style=\"text-align: right;\">     1</td><td style=\"text-align: right;\">       890.567  </td><td style=\"text-align: right;\"> -0.208052   </td><td style=\"text-align: right;\">     0.191035  </td></tr>\n",
       "<tr><td>train_de_839e3c46</td><td>TERMINATED</td><td>10.2.219.10:3630810</td><td style=\"text-align: right;\">    11.7655 </td><td style=\"text-align: right;\">    192.855  </td><td style=\"text-align: right;\">0.0331134  </td><td style=\"text-align: right;\">     6.97753</td><td style=\"text-align: right;\">     6.02375</td><td style=\"text-align: right;\">  48.5332 </td><td style=\"text-align: right;\">     1</td><td style=\"text-align: right;\">       531.631  </td><td style=\"text-align: right;\"> -0.141548   </td><td style=\"text-align: right;\">     0.175681  </td></tr>\n",
       "<tr><td>train_de_f84e2fcb</td><td>TERMINATED</td><td>10.2.219.10:3627392</td><td style=\"text-align: right;\">    10.8374 </td><td style=\"text-align: right;\">     35.6817 </td><td style=\"text-align: right;\">0.0167816  </td><td style=\"text-align: right;\">     3.86947</td><td style=\"text-align: right;\">     7.23239</td><td style=\"text-align: right;\">  41.3919 </td><td style=\"text-align: right;\">     1</td><td style=\"text-align: right;\">       125.117  </td><td style=\"text-align: right;\">  0.264841   </td><td style=\"text-align: right;\">     0.18932   </td></tr>\n",
       "<tr><td>train_de_b56787b0</td><td>TERMINATED</td><td>10.2.219.10:3627693</td><td style=\"text-align: right;\">     7.602  </td><td style=\"text-align: right;\">    168.614  </td><td style=\"text-align: right;\">0.0878571  </td><td style=\"text-align: right;\">     7.02586</td><td style=\"text-align: right;\">     8.60982</td><td style=\"text-align: right;\">  19.0881 </td><td style=\"text-align: right;\">     1</td><td style=\"text-align: right;\">        94.5678 </td><td style=\"text-align: right;\">nan          </td><td style=\"text-align: right;\">   inf         </td></tr>\n",
       "<tr><td>train_de_0a232f1e</td><td>TERMINATED</td><td>10.2.219.10:3635151</td><td style=\"text-align: right;\">     2.73299</td><td style=\"text-align: right;\">     54.9197 </td><td style=\"text-align: right;\">0.0531182  </td><td style=\"text-align: right;\">     5.92782</td><td style=\"text-align: right;\">     8.11358</td><td style=\"text-align: right;\">  23.2836 </td><td style=\"text-align: right;\">     1</td><td style=\"text-align: right;\">       575.289  </td><td style=\"text-align: right;\">  0.215331   </td><td style=\"text-align: right;\">     0.192062  </td></tr>\n",
       "<tr><td>train_de_bffd0447</td><td>TERMINATED</td><td>10.2.219.10:3630935</td><td style=\"text-align: right;\">     6.77416</td><td style=\"text-align: right;\">    177.143  </td><td style=\"text-align: right;\">0.066554   </td><td style=\"text-align: right;\">     4.43823</td><td style=\"text-align: right;\">     9.41481</td><td style=\"text-align: right;\">  42.3244 </td><td style=\"text-align: right;\">     1</td><td style=\"text-align: right;\">       267.462  </td><td style=\"text-align: right;\">nan          </td><td style=\"text-align: right;\">   inf         </td></tr>\n",
       "<tr><td>train_de_401aec8d</td><td>TERMINATED</td><td>10.2.219.10:3629371</td><td style=\"text-align: right;\">     3.136  </td><td style=\"text-align: right;\">     22.713  </td><td style=\"text-align: right;\">0.0404468  </td><td style=\"text-align: right;\">     5.32083</td><td style=\"text-align: right;\">     4.86473</td><td style=\"text-align: right;\">  33.5763 </td><td style=\"text-align: right;\">     1</td><td style=\"text-align: right;\">       136.695  </td><td style=\"text-align: right;\">  0.57926    </td><td style=\"text-align: right;\">     0.169678  </td></tr>\n",
       "<tr><td>train_de_58113d31</td><td>TERMINATED</td><td>10.2.219.10:3626469</td><td style=\"text-align: right;\">     7.68357</td><td style=\"text-align: right;\">    158.545  </td><td style=\"text-align: right;\">0.0869554  </td><td style=\"text-align: right;\">     8.77271</td><td style=\"text-align: right;\">     9.1903 </td><td style=\"text-align: right;\">  30.7137 </td><td style=\"text-align: right;\">     1</td><td style=\"text-align: right;\">       174.474  </td><td style=\"text-align: right;\">nan          </td><td style=\"text-align: right;\">   inf         </td></tr>\n",
       "<tr><td>train_de_3290a9d9</td><td>TERMINATED</td><td>10.2.219.10:3623099</td><td style=\"text-align: right;\">     8.54967</td><td style=\"text-align: right;\">    193.143  </td><td style=\"text-align: right;\">0.0369759  </td><td style=\"text-align: right;\">     4.21004</td><td style=\"text-align: right;\">     6.04848</td><td style=\"text-align: right;\">  47.785  </td><td style=\"text-align: right;\">     1</td><td style=\"text-align: right;\">       351.261  </td><td style=\"text-align: right;\">  0.0113203  </td><td style=\"text-align: right;\">     0.191413  </td></tr>\n",
       "<tr><td>train_de_ea44a7b2</td><td>TERMINATED</td><td>10.2.219.10:3633993</td><td style=\"text-align: right;\">    13.4891 </td><td style=\"text-align: right;\">     66.3844 </td><td style=\"text-align: right;\">0.0208549  </td><td style=\"text-align: right;\">     5.23152</td><td style=\"text-align: right;\">     4.58864</td><td style=\"text-align: right;\">  48.8712 </td><td style=\"text-align: right;\">     1</td><td style=\"text-align: right;\">        74.6899 </td><td style=\"text-align: right;\">  0.291762   </td><td style=\"text-align: right;\">     0.184351  </td></tr>\n",
       "<tr><td>train_de_719cdb74</td><td>TERMINATED</td><td>10.2.219.10:3628419</td><td style=\"text-align: right;\">     8.29648</td><td style=\"text-align: right;\">     14.834  </td><td style=\"text-align: right;\">0.0824557  </td><td style=\"text-align: right;\">     2.50005</td><td style=\"text-align: right;\">     6.65986</td><td style=\"text-align: right;\">  10.0562 </td><td style=\"text-align: right;\">     1</td><td style=\"text-align: right;\">        13.3068 </td><td style=\"text-align: right;\">  0.623598   </td><td style=\"text-align: right;\">     0.194013  </td></tr>\n",
       "<tr><td>train_de_070fefce</td><td>TERMINATED</td><td>10.2.219.10:3628419</td><td style=\"text-align: right;\">     3.23386</td><td style=\"text-align: right;\">    184.435  </td><td style=\"text-align: right;\">0.0493761  </td><td style=\"text-align: right;\">     5.09767</td><td style=\"text-align: right;\">     8.02716</td><td style=\"text-align: right;\">   8.18623</td><td style=\"text-align: right;\">     1</td><td style=\"text-align: right;\">        91.2742 </td><td style=\"text-align: right;\">nan          </td><td style=\"text-align: right;\">   inf         </td></tr>\n",
       "<tr><td>train_de_41fdf644</td><td>TERMINATED</td><td>10.2.219.10:3631024</td><td style=\"text-align: right;\">     4.55803</td><td style=\"text-align: right;\">    150.085  </td><td style=\"text-align: right;\">0.0544307  </td><td style=\"text-align: right;\">     8.97892</td><td style=\"text-align: right;\">     8.94121</td><td style=\"text-align: right;\">  26.9587 </td><td style=\"text-align: right;\">     1</td><td style=\"text-align: right;\">       246.102  </td><td style=\"text-align: right;\">nan          </td><td style=\"text-align: right;\">   inf         </td></tr>\n",
       "<tr><td>train_de_27f08266</td><td>TERMINATED</td><td>10.2.219.10:3629615</td><td style=\"text-align: right;\">    14.4013 </td><td style=\"text-align: right;\">     76.9569 </td><td style=\"text-align: right;\">0.0315998  </td><td style=\"text-align: right;\">     5.97292</td><td style=\"text-align: right;\">     4.48173</td><td style=\"text-align: right;\">  28.4445 </td><td style=\"text-align: right;\">     1</td><td style=\"text-align: right;\">        38.8281 </td><td style=\"text-align: right;\">  0.152135   </td><td style=\"text-align: right;\">     0.180201  </td></tr>\n",
       "<tr><td>train_de_9d0f1530</td><td>TERMINATED</td><td>10.2.219.10:3630145</td><td style=\"text-align: right;\">     8.91524</td><td style=\"text-align: right;\">    108.119  </td><td style=\"text-align: right;\">0.0608453  </td><td style=\"text-align: right;\">     4.56709</td><td style=\"text-align: right;\">     5.50368</td><td style=\"text-align: right;\">  33.5353 </td><td style=\"text-align: right;\">     1</td><td style=\"text-align: right;\">        82.389  </td><td style=\"text-align: right;\">  0.0268     </td><td style=\"text-align: right;\">     0.192153  </td></tr>\n",
       "<tr><td>train_de_3521142d</td><td>TERMINATED</td><td>10.2.219.10:3627693</td><td style=\"text-align: right;\">     2.1629 </td><td style=\"text-align: right;\">     97.1085 </td><td style=\"text-align: right;\">0.0676849  </td><td style=\"text-align: right;\">     5.01121</td><td style=\"text-align: right;\">     9.96986</td><td style=\"text-align: right;\">  16.7427 </td><td style=\"text-align: right;\">     1</td><td style=\"text-align: right;\">       308.111  </td><td style=\"text-align: right;\"> -0.0507489  </td><td style=\"text-align: right;\">     0.192124  </td></tr>\n",
       "<tr><td>train_de_b388fd95</td><td>TERMINATED</td><td>10.2.219.10:3626657</td><td style=\"text-align: right;\">    16.0335 </td><td style=\"text-align: right;\">     11.6452 </td><td style=\"text-align: right;\">0.0790037  </td><td style=\"text-align: right;\">     5.93186</td><td style=\"text-align: right;\">     6.85049</td><td style=\"text-align: right;\">   4.34112</td><td style=\"text-align: right;\">     1</td><td style=\"text-align: right;\">         9.9098 </td><td style=\"text-align: right;\">  0.167585   </td><td style=\"text-align: right;\">     0.180013  </td></tr>\n",
       "<tr><td>train_de_46918ff0</td><td>TERMINATED</td><td>10.2.219.10:3626657</td><td style=\"text-align: right;\">     5.38847</td><td style=\"text-align: right;\">     42.6069 </td><td style=\"text-align: right;\">0.0519503  </td><td style=\"text-align: right;\">     5.90639</td><td style=\"text-align: right;\">     8.02597</td><td style=\"text-align: right;\">  22.7713 </td><td style=\"text-align: right;\">     1</td><td style=\"text-align: right;\">       168.628  </td><td style=\"text-align: right;\"> -0.0717258  </td><td style=\"text-align: right;\">     0.191114  </td></tr>\n",
       "<tr><td>train_de_2f7ec1f3</td><td>TERMINATED</td><td>10.2.219.10:3633993</td><td style=\"text-align: right;\">    19.5544 </td><td style=\"text-align: right;\">    190.89   </td><td style=\"text-align: right;\">0.0215331  </td><td style=\"text-align: right;\">     3.35738</td><td style=\"text-align: right;\">     5.8539 </td><td style=\"text-align: right;\">  17.7673 </td><td style=\"text-align: right;\">     1</td><td style=\"text-align: right;\">        45.0402 </td><td style=\"text-align: right;\">  0.227386   </td><td style=\"text-align: right;\">     0.180042  </td></tr>\n",
       "<tr><td>train_de_18dd2164</td><td>TERMINATED</td><td>10.2.219.10:3627392</td><td style=\"text-align: right;\">    18.7953 </td><td style=\"text-align: right;\">    199.911  </td><td style=\"text-align: right;\">0.0543589  </td><td style=\"text-align: right;\">     4.96516</td><td style=\"text-align: right;\">     4.01078</td><td style=\"text-align: right;\">  13.6358 </td><td style=\"text-align: right;\">     1</td><td style=\"text-align: right;\">        12.7995 </td><td style=\"text-align: right;\">nan          </td><td style=\"text-align: right;\">     4.3601    </td></tr>\n",
       "<tr><td>train_de_d19052b2</td><td>TERMINATED</td><td>10.2.219.10:3633324</td><td style=\"text-align: right;\">     2.11774</td><td style=\"text-align: right;\">    147.406  </td><td style=\"text-align: right;\">0.0187566  </td><td style=\"text-align: right;\">     5.95122</td><td style=\"text-align: right;\">     5.45108</td><td style=\"text-align: right;\">  43.0812 </td><td style=\"text-align: right;\">     1</td><td style=\"text-align: right;\">       548.313  </td><td style=\"text-align: right;\"> -0.260823   </td><td style=\"text-align: right;\">     0.176722  </td></tr>\n",
       "<tr><td>train_de_84f131f3</td><td>TERMINATED</td><td>10.2.219.10:3629615</td><td style=\"text-align: right;\">     4.06554</td><td style=\"text-align: right;\">    104.651  </td><td style=\"text-align: right;\">0.0289756  </td><td style=\"text-align: right;\">     3.24552</td><td style=\"text-align: right;\">     5.09976</td><td style=\"text-align: right;\">  28.9046 </td><td style=\"text-align: right;\">     1</td><td style=\"text-align: right;\">       370.105  </td><td style=\"text-align: right;\"> -0.0283051  </td><td style=\"text-align: right;\">     0.191019  </td></tr>\n",
       "<tr><td>train_de_3c9bed97</td><td>TERMINATED</td><td>10.2.219.10:3627392</td><td style=\"text-align: right;\">    16.8996 </td><td style=\"text-align: right;\">    101.825  </td><td style=\"text-align: right;\">0.05568    </td><td style=\"text-align: right;\">     9.75509</td><td style=\"text-align: right;\">     7.30784</td><td style=\"text-align: right;\">  45.7017 </td><td style=\"text-align: right;\">     1</td><td style=\"text-align: right;\">       108.037  </td><td style=\"text-align: right;\">nan          </td><td style=\"text-align: right;\">   inf         </td></tr>\n",
       "<tr><td>train_de_04648e91</td><td>TERMINATED</td><td>10.2.219.10:3628737</td><td style=\"text-align: right;\">    19.3704 </td><td style=\"text-align: right;\">    160.901  </td><td style=\"text-align: right;\">0.033732   </td><td style=\"text-align: right;\">     3.4422 </td><td style=\"text-align: right;\">     6.77927</td><td style=\"text-align: right;\">  49.26   </td><td style=\"text-align: right;\">     1</td><td style=\"text-align: right;\">        99.7479 </td><td style=\"text-align: right;\">  0.0592827  </td><td style=\"text-align: right;\">     0.183294  </td></tr>\n",
       "<tr><td>train_de_bf2aec3d</td><td>TERMINATED</td><td>10.2.219.10:3631392</td><td style=\"text-align: right;\">    13.0184 </td><td style=\"text-align: right;\">    185.055  </td><td style=\"text-align: right;\">0.0495326  </td><td style=\"text-align: right;\">     5.32553</td><td style=\"text-align: right;\">     5.75401</td><td style=\"text-align: right;\">  18.1068 </td><td style=\"text-align: right;\">     1</td><td style=\"text-align: right;\">        72.8826 </td><td style=\"text-align: right;\">  0.288526   </td><td style=\"text-align: right;\">     0.184841  </td></tr>\n",
       "<tr><td>train_de_4d144836</td><td>TERMINATED</td><td>10.2.219.10:3628561</td><td style=\"text-align: right;\">    16.4321 </td><td style=\"text-align: right;\">     23.3201 </td><td style=\"text-align: right;\">0.0416282  </td><td style=\"text-align: right;\">     5.52275</td><td style=\"text-align: right;\">     6.54414</td><td style=\"text-align: right;\">  49.9289 </td><td style=\"text-align: right;\">     1</td><td style=\"text-align: right;\">        74.4525 </td><td style=\"text-align: right;\">  0.0962532  </td><td style=\"text-align: right;\">     0.180986  </td></tr>\n",
       "<tr><td>train_de_895f1f74</td><td>TERMINATED</td><td>10.2.219.10:3628419</td><td style=\"text-align: right;\">     4.20886</td><td style=\"text-align: right;\">     49.7976 </td><td style=\"text-align: right;\">0.0566732  </td><td style=\"text-align: right;\">     2.27851</td><td style=\"text-align: right;\">     7.87325</td><td style=\"text-align: right;\">  24.7422 </td><td style=\"text-align: right;\">     1</td><td style=\"text-align: right;\">       101.203  </td><td style=\"text-align: right;\">  0.0317449  </td><td style=\"text-align: right;\">     0.172005  </td></tr>\n",
       "<tr><td>train_de_5431d940</td><td>TERMINATED</td><td>10.2.219.10:3627048</td><td style=\"text-align: right;\">    15.316  </td><td style=\"text-align: right;\">     46.0627 </td><td style=\"text-align: right;\">0.0251129  </td><td style=\"text-align: right;\">     8.97572</td><td style=\"text-align: right;\">     9.46729</td><td style=\"text-align: right;\">  45.5024 </td><td style=\"text-align: right;\">     1</td><td style=\"text-align: right;\">       246.172  </td><td style=\"text-align: right;\">  0.319615   </td><td style=\"text-align: right;\">     0.177774  </td></tr>\n",
       "<tr><td>train_de_27e8d8b6</td><td>TERMINATED</td><td>10.2.219.10:3633993</td><td style=\"text-align: right;\">     6.57236</td><td style=\"text-align: right;\">    111.032  </td><td style=\"text-align: right;\">0.0401242  </td><td style=\"text-align: right;\">     5.14486</td><td style=\"text-align: right;\">     7.47778</td><td style=\"text-align: right;\">  27.5968 </td><td style=\"text-align: right;\">     1</td><td style=\"text-align: right;\">       185.755  </td><td style=\"text-align: right;\"> -0.20003    </td><td style=\"text-align: right;\">     0.178301  </td></tr>\n",
       "<tr><td>train_de_58cb94dc</td><td>TERMINATED</td><td>10.2.219.10:3629371</td><td style=\"text-align: right;\">    11.4934 </td><td style=\"text-align: right;\">    132.366  </td><td style=\"text-align: right;\">0.0253025  </td><td style=\"text-align: right;\">     6.11487</td><td style=\"text-align: right;\">     7.87007</td><td style=\"text-align: right;\">   1.07052</td><td style=\"text-align: right;\">     1</td><td style=\"text-align: right;\">        10.8667 </td><td style=\"text-align: right;\">  0.246689   </td><td style=\"text-align: right;\">     0.178938  </td></tr>\n",
       "<tr><td>train_de_a8a67bc9</td><td>TERMINATED</td><td>10.2.219.10:3627776</td><td style=\"text-align: right;\">     9.4648 </td><td style=\"text-align: right;\">     33.3238 </td><td style=\"text-align: right;\">0.0787243  </td><td style=\"text-align: right;\">     8.34217</td><td style=\"text-align: right;\">     6.82465</td><td style=\"text-align: right;\">  38.0596 </td><td style=\"text-align: right;\">     1</td><td style=\"text-align: right;\">       187.018  </td><td style=\"text-align: right;\">  0.0835728  </td><td style=\"text-align: right;\">     0.176864  </td></tr>\n",
       "<tr><td>train_de_eb4a4caf</td><td>TERMINATED</td><td>10.2.219.10:3629371</td><td style=\"text-align: right;\">     9.08774</td><td style=\"text-align: right;\">     76.1809 </td><td style=\"text-align: right;\">0.0741236  </td><td style=\"text-align: right;\">     2.07826</td><td style=\"text-align: right;\">     9.37936</td><td style=\"text-align: right;\">  42.7349 </td><td style=\"text-align: right;\">     1</td><td style=\"text-align: right;\">       266.35   </td><td style=\"text-align: right;\">  0.4233     </td><td style=\"text-align: right;\">     0.173707  </td></tr>\n",
       "<tr><td>train_de_e106d6f0</td><td>TERMINATED</td><td>10.2.219.10:3630145</td><td style=\"text-align: right;\">     9.53222</td><td style=\"text-align: right;\">    175.832  </td><td style=\"text-align: right;\">0.0839986  </td><td style=\"text-align: right;\">     8.22298</td><td style=\"text-align: right;\">     8.21787</td><td style=\"text-align: right;\">  30.1514 </td><td style=\"text-align: right;\">     1</td><td style=\"text-align: right;\">       131.238  </td><td style=\"text-align: right;\">nan          </td><td style=\"text-align: right;\">   inf         </td></tr>\n",
       "<tr><td>train_de_0a26f0be</td><td>TERMINATED</td><td>10.2.219.10:3626795</td><td style=\"text-align: right;\">     6.32102</td><td style=\"text-align: right;\">    191.567  </td><td style=\"text-align: right;\">0.0228137  </td><td style=\"text-align: right;\">     3.85725</td><td style=\"text-align: right;\">     9.04423</td><td style=\"text-align: right;\">  32.2199 </td><td style=\"text-align: right;\">     1</td><td style=\"text-align: right;\">       471.798  </td><td style=\"text-align: right;\">  0.0628182  </td><td style=\"text-align: right;\">     0.182328  </td></tr>\n",
       "<tr><td>train_de_42b1b13d</td><td>TERMINATED</td><td>10.2.219.10:3626519</td><td style=\"text-align: right;\">     4.03144</td><td style=\"text-align: right;\">    151.777  </td><td style=\"text-align: right;\">0.0663416  </td><td style=\"text-align: right;\">     4.19235</td><td style=\"text-align: right;\">     3.53183</td><td style=\"text-align: right;\">   6.95342</td><td style=\"text-align: right;\">     1</td><td style=\"text-align: right;\">        15.2742 </td><td style=\"text-align: right;\">nan          </td><td style=\"text-align: right;\">   inf         </td></tr>\n",
       "<tr><td>train_de_d73e48af</td><td>TERMINATED</td><td>10.2.219.10:3626469</td><td style=\"text-align: right;\">     2.36929</td><td style=\"text-align: right;\">    114.992  </td><td style=\"text-align: right;\">0.0576156  </td><td style=\"text-align: right;\">     4.52731</td><td style=\"text-align: right;\">     9.07022</td><td style=\"text-align: right;\">  18.7985 </td><td style=\"text-align: right;\">     1</td><td style=\"text-align: right;\">       275.947  </td><td style=\"text-align: right;\">nan          </td><td style=\"text-align: right;\">   inf         </td></tr>\n",
       "<tr><td>train_de_59466e62</td><td>TERMINATED</td><td>10.2.219.10:3632708</td><td style=\"text-align: right;\">     2.7793 </td><td style=\"text-align: right;\">     16.6288 </td><td style=\"text-align: right;\">0.042302   </td><td style=\"text-align: right;\">     4.18956</td><td style=\"text-align: right;\">     6.89026</td><td style=\"text-align: right;\">  31.2852 </td><td style=\"text-align: right;\">     1</td><td style=\"text-align: right;\">       227.249  </td><td style=\"text-align: right;\">  0.378547   </td><td style=\"text-align: right;\">     0.189336  </td></tr>\n",
       "<tr><td>train_de_77986244</td><td>TERMINATED</td><td>10.2.219.10:3626583</td><td style=\"text-align: right;\">    12.9081 </td><td style=\"text-align: right;\">    155.072  </td><td style=\"text-align: right;\">0.0651169  </td><td style=\"text-align: right;\">     3.48529</td><td style=\"text-align: right;\">     8.95597</td><td style=\"text-align: right;\">  24.6713 </td><td style=\"text-align: right;\">     1</td><td style=\"text-align: right;\">        47.021  </td><td style=\"text-align: right;\">nan          </td><td style=\"text-align: right;\">   inf         </td></tr>\n",
       "<tr><td>train_de_26a8ff78</td><td>TERMINATED</td><td>10.2.219.10:3631392</td><td style=\"text-align: right;\">     3.99827</td><td style=\"text-align: right;\">     94.9441 </td><td style=\"text-align: right;\">0.01847    </td><td style=\"text-align: right;\">     5.94416</td><td style=\"text-align: right;\">     4.24623</td><td style=\"text-align: right;\">  14.7019 </td><td style=\"text-align: right;\">     1</td><td style=\"text-align: right;\">       114.829  </td><td style=\"text-align: right;\">  0.196566   </td><td style=\"text-align: right;\">     0.19135   </td></tr>\n",
       "<tr><td>train_de_ff78a34a</td><td>TERMINATED</td><td>10.2.219.10:3626519</td><td style=\"text-align: right;\">    11.681  </td><td style=\"text-align: right;\">    174.386  </td><td style=\"text-align: right;\">0.0300178  </td><td style=\"text-align: right;\">     5.64128</td><td style=\"text-align: right;\">     7.9961 </td><td style=\"text-align: right;\">   6.30077</td><td style=\"text-align: right;\">     1</td><td style=\"text-align: right;\">        26.968  </td><td style=\"text-align: right;\">  0.243309   </td><td style=\"text-align: right;\">     0.182586  </td></tr>\n",
       "<tr><td>train_de_1310cce2</td><td>TERMINATED</td><td>10.2.219.10:3628561</td><td style=\"text-align: right;\">     4.8831 </td><td style=\"text-align: right;\">     58.2031 </td><td style=\"text-align: right;\">0.00645266 </td><td style=\"text-align: right;\">     2.01467</td><td style=\"text-align: right;\">     6.23199</td><td style=\"text-align: right;\">  17.8157 </td><td style=\"text-align: right;\">     1</td><td style=\"text-align: right;\">        59.6425 </td><td style=\"text-align: right;\">  0.383166   </td><td style=\"text-align: right;\">     0.143783  </td></tr>\n",
       "<tr><td>train_de_08c64bca</td><td>TERMINATED</td><td>10.2.219.10:3628737</td><td style=\"text-align: right;\">    16.8173 </td><td style=\"text-align: right;\">     62.9313 </td><td style=\"text-align: right;\">0.0952629  </td><td style=\"text-align: right;\">     8.3817 </td><td style=\"text-align: right;\">     6.77343</td><td style=\"text-align: right;\">  24.4161 </td><td style=\"text-align: right;\">     1</td><td style=\"text-align: right;\">       134.563  </td><td style=\"text-align: right;\">  0.212212   </td><td style=\"text-align: right;\">     0.194914  </td></tr>\n",
       "<tr><td>train_de_5a7811a3</td><td>TERMINATED</td><td>10.2.219.10:3627392</td><td style=\"text-align: right;\">    17.3679 </td><td style=\"text-align: right;\">    136.823  </td><td style=\"text-align: right;\">0.0869979  </td><td style=\"text-align: right;\">     2.1893 </td><td style=\"text-align: right;\">     8.50338</td><td style=\"text-align: right;\">  39.506  </td><td style=\"text-align: right;\">     1</td><td style=\"text-align: right;\">        41.0207 </td><td style=\"text-align: right;\">nan          </td><td style=\"text-align: right;\">     0.669875  </td></tr>\n",
       "<tr><td>train_de_c03b9742</td><td>TERMINATED</td><td>10.2.219.10:3626519</td><td style=\"text-align: right;\">     9.84987</td><td style=\"text-align: right;\">    141.979  </td><td style=\"text-align: right;\">0.035009   </td><td style=\"text-align: right;\">     5.9858 </td><td style=\"text-align: right;\">     7.88444</td><td style=\"text-align: right;\">  48.0681 </td><td style=\"text-align: right;\">     1</td><td style=\"text-align: right;\">       330.815  </td><td style=\"text-align: right;\"> -0.213573   </td><td style=\"text-align: right;\">     0.177334  </td></tr>\n",
       "<tr><td>train_de_2986565a</td><td>TERMINATED</td><td>10.2.219.10:3628419</td><td style=\"text-align: right;\">    14.2228 </td><td style=\"text-align: right;\">     33.8048 </td><td style=\"text-align: right;\">0.00431697 </td><td style=\"text-align: right;\">     5.55559</td><td style=\"text-align: right;\">     4.21814</td><td style=\"text-align: right;\">  37.2997 </td><td style=\"text-align: right;\">     1</td><td style=\"text-align: right;\">        39.8809 </td><td style=\"text-align: right;\">  0.242529   </td><td style=\"text-align: right;\">     0.172976  </td></tr>\n",
       "<tr><td>train_de_95b9f8d5</td><td>TERMINATED</td><td>10.2.219.10:3626583</td><td style=\"text-align: right;\">     3.20764</td><td style=\"text-align: right;\">     95.9849 </td><td style=\"text-align: right;\">0.0438328  </td><td style=\"text-align: right;\">     7.54037</td><td style=\"text-align: right;\">     3.09802</td><td style=\"text-align: right;\">  10.7776 </td><td style=\"text-align: right;\">     1</td><td style=\"text-align: right;\">        53.3066 </td><td style=\"text-align: right;\">  0.422717   </td><td style=\"text-align: right;\">     0.193682  </td></tr>\n",
       "<tr><td>train_de_a6444769</td><td>TERMINATED</td><td>10.2.219.10:3628561</td><td style=\"text-align: right;\">     2.69832</td><td style=\"text-align: right;\">    125      </td><td style=\"text-align: right;\">0.098816   </td><td style=\"text-align: right;\">     5.21929</td><td style=\"text-align: right;\">     3.5432 </td><td style=\"text-align: right;\">  34.9686 </td><td style=\"text-align: right;\">     1</td><td style=\"text-align: right;\">       156.811  </td><td style=\"text-align: right;\">nan          </td><td style=\"text-align: right;\">   inf         </td></tr>\n",
       "<tr><td>train_de_263a532a</td><td>TERMINATED</td><td>10.2.219.10:3626657</td><td style=\"text-align: right;\">    12.9165 </td><td style=\"text-align: right;\">    197.898  </td><td style=\"text-align: right;\">0.0301379  </td><td style=\"text-align: right;\">     6.5407 </td><td style=\"text-align: right;\">     8.70871</td><td style=\"text-align: right;\">  47.0217 </td><td style=\"text-align: right;\">     1</td><td style=\"text-align: right;\">       258.357  </td><td style=\"text-align: right;\"> -0.00521464 </td><td style=\"text-align: right;\">     0.188609  </td></tr>\n",
       "<tr><td>train_de_31e09efb</td><td>TERMINATED</td><td>10.2.219.10:3630935</td><td style=\"text-align: right;\">     5.66252</td><td style=\"text-align: right;\">      9.82406</td><td style=\"text-align: right;\">0.0679404  </td><td style=\"text-align: right;\">     8.37544</td><td style=\"text-align: right;\">     3.14144</td><td style=\"text-align: right;\">  12.0646 </td><td style=\"text-align: right;\">     1</td><td style=\"text-align: right;\">        31.5465 </td><td style=\"text-align: right;\"> -0.0913257  </td><td style=\"text-align: right;\">     0.191009  </td></tr>\n",
       "<tr><td>train_de_1dfbf6d1</td><td>TERMINATED</td><td>10.2.219.10:3627392</td><td style=\"text-align: right;\">    10.0389 </td><td style=\"text-align: right;\">    107.166  </td><td style=\"text-align: right;\">0.0741261  </td><td style=\"text-align: right;\">     9.4693 </td><td style=\"text-align: right;\">     6.48278</td><td style=\"text-align: right;\">  19.5084 </td><td style=\"text-align: right;\">     1</td><td style=\"text-align: right;\">        52.5325 </td><td style=\"text-align: right;\">nan          </td><td style=\"text-align: right;\">   inf         </td></tr>\n",
       "<tr><td>train_de_97610ff6</td><td>TERMINATED</td><td>10.2.219.10:3628419</td><td style=\"text-align: right;\">    10.1704 </td><td style=\"text-align: right;\">     78.1936 </td><td style=\"text-align: right;\">0.0187383  </td><td style=\"text-align: right;\">     5.56804</td><td style=\"text-align: right;\">     9.08225</td><td style=\"text-align: right;\">  30.2258 </td><td style=\"text-align: right;\">     1</td><td style=\"text-align: right;\">       191.603  </td><td style=\"text-align: right;\">  0.139995   </td><td style=\"text-align: right;\">     0.191865  </td></tr>\n",
       "<tr><td>train_de_070f6592</td><td>TERMINATED</td><td>10.2.219.10:3630145</td><td style=\"text-align: right;\">    13.1565 </td><td style=\"text-align: right;\">    111.435  </td><td style=\"text-align: right;\">0.0739101  </td><td style=\"text-align: right;\">     8.64363</td><td style=\"text-align: right;\">     6.21352</td><td style=\"text-align: right;\">  44.4219 </td><td style=\"text-align: right;\">     1</td><td style=\"text-align: right;\">        93.4397 </td><td style=\"text-align: right;\">nan          </td><td style=\"text-align: right;\">   inf         </td></tr>\n",
       "<tr><td>train_de_2e9456a3</td><td>TERMINATED</td><td>10.2.219.10:3626583</td><td style=\"text-align: right;\">    14.4363 </td><td style=\"text-align: right;\">     15.5385 </td><td style=\"text-align: right;\">0.0828178  </td><td style=\"text-align: right;\">     5.67432</td><td style=\"text-align: right;\">     4.38049</td><td style=\"text-align: right;\">  22.4227 </td><td style=\"text-align: right;\">     1</td><td style=\"text-align: right;\">        29.3926 </td><td style=\"text-align: right;\">  0.279055   </td><td style=\"text-align: right;\">     0.179132  </td></tr>\n",
       "<tr><td>train_de_92206c2d</td><td>TERMINATED</td><td>10.2.219.10:3630935</td><td style=\"text-align: right;\">     8.98335</td><td style=\"text-align: right;\">    196.838  </td><td style=\"text-align: right;\">0.0439344  </td><td style=\"text-align: right;\">     2.20674</td><td style=\"text-align: right;\">     3.90063</td><td style=\"text-align: right;\">  13.0446 </td><td style=\"text-align: right;\">     1</td><td style=\"text-align: right;\">        21.2707 </td><td style=\"text-align: right;\">nan          </td><td style=\"text-align: right;\">     0.884364  </td></tr>\n",
       "<tr><td>train_de_103858b2</td><td>TERMINATED</td><td>10.2.219.10:3631024</td><td style=\"text-align: right;\">    11.374  </td><td style=\"text-align: right;\">      2.45467</td><td style=\"text-align: right;\">0.0279781  </td><td style=\"text-align: right;\">     6.61515</td><td style=\"text-align: right;\">     6.03944</td><td style=\"text-align: right;\">   8.77223</td><td style=\"text-align: right;\">     1</td><td style=\"text-align: right;\">        29.9596 </td><td style=\"text-align: right;\">  0.281114   </td><td style=\"text-align: right;\">     0.177496  </td></tr>\n",
       "<tr><td>train_de_5dd18124</td><td>TERMINATED</td><td>10.2.219.10:3631392</td><td style=\"text-align: right;\">    15.6011 </td><td style=\"text-align: right;\">      5.59773</td><td style=\"text-align: right;\">0.085096   </td><td style=\"text-align: right;\">     5.92359</td><td style=\"text-align: right;\">     4.54832</td><td style=\"text-align: right;\">  41.7963 </td><td style=\"text-align: right;\">     1</td><td style=\"text-align: right;\">        41.4173 </td><td style=\"text-align: right;\">  0.202759   </td><td style=\"text-align: right;\">     0.17697   </td></tr>\n",
       "<tr><td>train_de_12be26cd</td><td>TERMINATED</td><td>10.2.219.10:3630935</td><td style=\"text-align: right;\">    19.8974 </td><td style=\"text-align: right;\">    194.955  </td><td style=\"text-align: right;\">0.0109707  </td><td style=\"text-align: right;\">     7.99606</td><td style=\"text-align: right;\">     4.88503</td><td style=\"text-align: right;\">  21.8651 </td><td style=\"text-align: right;\">     1</td><td style=\"text-align: right;\">        65.1843 </td><td style=\"text-align: right;\">  0.0617785  </td><td style=\"text-align: right;\">     0.185501  </td></tr>\n",
       "<tr><td>train_de_bf187d4e</td><td>TERMINATED</td><td>10.2.219.10:3627392</td><td style=\"text-align: right;\">    11.0846 </td><td style=\"text-align: right;\">    186.728  </td><td style=\"text-align: right;\">0.0789312  </td><td style=\"text-align: right;\">     4.14229</td><td style=\"text-align: right;\">     6.61768</td><td style=\"text-align: right;\">  47.5301 </td><td style=\"text-align: right;\">     1</td><td style=\"text-align: right;\">       112.406  </td><td style=\"text-align: right;\">nan          </td><td style=\"text-align: right;\">   inf         </td></tr>\n",
       "<tr><td>train_de_bc0c72ea</td><td>TERMINATED</td><td>10.2.219.10:3627183</td><td style=\"text-align: right;\">    11.6152 </td><td style=\"text-align: right;\">     19.0166 </td><td style=\"text-align: right;\">0.0500841  </td><td style=\"text-align: right;\">     7.50387</td><td style=\"text-align: right;\">     8.06822</td><td style=\"text-align: right;\">  14.5688 </td><td style=\"text-align: right;\">     1</td><td style=\"text-align: right;\">       130.109  </td><td style=\"text-align: right;\">  0.122395   </td><td style=\"text-align: right;\">     0.170769  </td></tr>\n",
       "<tr><td>train_de_6ead7f4f</td><td>TERMINATED</td><td>10.2.219.10:3626583</td><td style=\"text-align: right;\">    14.1044 </td><td style=\"text-align: right;\">    159.338  </td><td style=\"text-align: right;\">0.0563556  </td><td style=\"text-align: right;\">     4.96281</td><td style=\"text-align: right;\">     9.02717</td><td style=\"text-align: right;\">  18.1381 </td><td style=\"text-align: right;\">     1</td><td style=\"text-align: right;\">       212.86   </td><td style=\"text-align: right;\">  0.110681   </td><td style=\"text-align: right;\">     0.191343  </td></tr>\n",
       "<tr><td>train_de_322f35a6</td><td>TERMINATED</td><td>10.2.219.10:3633993</td><td style=\"text-align: right;\">     9.89389</td><td style=\"text-align: right;\">     42.6581 </td><td style=\"text-align: right;\">0.0644519  </td><td style=\"text-align: right;\">     2.31313</td><td style=\"text-align: right;\">     4.7801 </td><td style=\"text-align: right;\">  29.8463 </td><td style=\"text-align: right;\">     1</td><td style=\"text-align: right;\">        51.8257 </td><td style=\"text-align: right;\">  0.0298604  </td><td style=\"text-align: right;\">     0.180139  </td></tr>\n",
       "<tr><td>train_de_02d41194</td><td>TERMINATED</td><td>10.2.219.10:3631024</td><td style=\"text-align: right;\">     8.4275 </td><td style=\"text-align: right;\">     32.7237 </td><td style=\"text-align: right;\">0.0497632  </td><td style=\"text-align: right;\">     4.16571</td><td style=\"text-align: right;\">     6.17827</td><td style=\"text-align: right;\">  47.1239 </td><td style=\"text-align: right;\">     1</td><td style=\"text-align: right;\">       149.089  </td><td style=\"text-align: right;\">  0.290188   </td><td style=\"text-align: right;\">     0.191095  </td></tr>\n",
       "<tr><td>train_de_a2e8b3c9</td><td>TERMINATED</td><td>10.2.219.10:3627776</td><td style=\"text-align: right;\">    19.0411 </td><td style=\"text-align: right;\">     95.9649 </td><td style=\"text-align: right;\">0.0725885  </td><td style=\"text-align: right;\">     3.64265</td><td style=\"text-align: right;\">     8.1588 </td><td style=\"text-align: right;\">  19.7594 </td><td style=\"text-align: right;\">     1</td><td style=\"text-align: right;\">        43.3005 </td><td style=\"text-align: right;\">  0.0129892  </td><td style=\"text-align: right;\">     0.19046   </td></tr>\n",
       "<tr><td>train_de_9829da2f</td><td>TERMINATED</td><td>10.2.219.10:3631392</td><td style=\"text-align: right;\">     6.23904</td><td style=\"text-align: right;\">     26.6149 </td><td style=\"text-align: right;\">0.0371377  </td><td style=\"text-align: right;\">     2.62655</td><td style=\"text-align: right;\">     6.65129</td><td style=\"text-align: right;\">  18.7498 </td><td style=\"text-align: right;\">     1</td><td style=\"text-align: right;\">        91.7246 </td><td style=\"text-align: right;\"> -0.103611   </td><td style=\"text-align: right;\">     0.177922  </td></tr>\n",
       "<tr><td>train_de_51e7b249</td><td>TERMINATED</td><td>10.2.219.10:3628737</td><td style=\"text-align: right;\">    15.0757 </td><td style=\"text-align: right;\">     34.845  </td><td style=\"text-align: right;\">0.0576516  </td><td style=\"text-align: right;\">     6.6779 </td><td style=\"text-align: right;\">     7.85042</td><td style=\"text-align: right;\">  12.5485 </td><td style=\"text-align: right;\">     1</td><td style=\"text-align: right;\">        47.5638 </td><td style=\"text-align: right;\"> -0.0436176  </td><td style=\"text-align: right;\">     0.17431   </td></tr>\n",
       "<tr><td>train_de_a37ce3cb</td><td>TERMINATED</td><td>10.2.219.10:3631729</td><td style=\"text-align: right;\">     6.09593</td><td style=\"text-align: right;\">    133.456  </td><td style=\"text-align: right;\">0.0759016  </td><td style=\"text-align: right;\">     3.73255</td><td style=\"text-align: right;\">     8.22551</td><td style=\"text-align: right;\">  23.5718 </td><td style=\"text-align: right;\">     1</td><td style=\"text-align: right;\">       107.819  </td><td style=\"text-align: right;\">nan          </td><td style=\"text-align: right;\">   inf         </td></tr>\n",
       "<tr><td>train_de_a9ac0fe6</td><td>TERMINATED</td><td>10.2.219.10:3623099</td><td style=\"text-align: right;\">    13.2353 </td><td style=\"text-align: right;\">    155.422  </td><td style=\"text-align: right;\">0.0744997  </td><td style=\"text-align: right;\">     2.04081</td><td style=\"text-align: right;\">     5.31804</td><td style=\"text-align: right;\">   1.42704</td><td style=\"text-align: right;\">     1</td><td style=\"text-align: right;\">         3.04895</td><td style=\"text-align: right;\">  1.14272    </td><td style=\"text-align: right;\">     0.327617  </td></tr>\n",
       "<tr><td>train_de_dd8fe123</td><td>TERMINATED</td><td>10.2.219.10:3623099</td><td style=\"text-align: right;\">    11.4104 </td><td style=\"text-align: right;\">     56.3574 </td><td style=\"text-align: right;\">0.0810871  </td><td style=\"text-align: right;\">     6.6468 </td><td style=\"text-align: right;\">     6.5555 </td><td style=\"text-align: right;\">   5.89796</td><td style=\"text-align: right;\">     1</td><td style=\"text-align: right;\">        46.5908 </td><td style=\"text-align: right;\">  0.368747   </td><td style=\"text-align: right;\">     0.194975  </td></tr>\n",
       "<tr><td>train_de_84c14d09</td><td>TERMINATED</td><td>10.2.219.10:3627048</td><td style=\"text-align: right;\">    12.6734 </td><td style=\"text-align: right;\">      6.50281</td><td style=\"text-align: right;\">0.0138562  </td><td style=\"text-align: right;\">     8.76087</td><td style=\"text-align: right;\">     8.35316</td><td style=\"text-align: right;\">   2.28138</td><td style=\"text-align: right;\">     1</td><td style=\"text-align: right;\">        16.4258 </td><td style=\"text-align: right;\">  0.177541   </td><td style=\"text-align: right;\">     0.192492  </td></tr>\n",
       "<tr><td>train_de_50c478fa</td><td>TERMINATED</td><td>10.2.219.10:3633993</td><td style=\"text-align: right;\">     6.76571</td><td style=\"text-align: right;\">     21.9835 </td><td style=\"text-align: right;\">0.0386068  </td><td style=\"text-align: right;\">     5.7734 </td><td style=\"text-align: right;\">     8.31364</td><td style=\"text-align: right;\">  44.2377 </td><td style=\"text-align: right;\">     1</td><td style=\"text-align: right;\">       194.01   </td><td style=\"text-align: right;\">  0.441226   </td><td style=\"text-align: right;\">     0.187683  </td></tr>\n",
       "<tr><td>train_de_2d53808f</td><td>TERMINATED</td><td>10.2.219.10:3627776</td><td style=\"text-align: right;\">     8.81146</td><td style=\"text-align: right;\">    167.9    </td><td style=\"text-align: right;\">0.0902307  </td><td style=\"text-align: right;\">     7.77934</td><td style=\"text-align: right;\">     3.7518 </td><td style=\"text-align: right;\">  13.1746 </td><td style=\"text-align: right;\">     1</td><td style=\"text-align: right;\">        27.9912 </td><td style=\"text-align: right;\">nan          </td><td style=\"text-align: right;\">   inf         </td></tr>\n",
       "<tr><td>train_de_1ebc21dc</td><td>TERMINATED</td><td>10.2.219.10:3630935</td><td style=\"text-align: right;\">     3.06218</td><td style=\"text-align: right;\">     11.8295 </td><td style=\"text-align: right;\">0.0297375  </td><td style=\"text-align: right;\">     2.24048</td><td style=\"text-align: right;\">     8.40309</td><td style=\"text-align: right;\">  17.318  </td><td style=\"text-align: right;\">     1</td><td style=\"text-align: right;\">       176.505  </td><td style=\"text-align: right;\">  0.165117   </td><td style=\"text-align: right;\">     0.116754  </td></tr>\n",
       "<tr><td>train_de_20782ffc</td><td>TERMINATED</td><td>10.2.219.10:3630145</td><td style=\"text-align: right;\">     5.16889</td><td style=\"text-align: right;\">    140.074  </td><td style=\"text-align: right;\">0.00848278 </td><td style=\"text-align: right;\">     7.15232</td><td style=\"text-align: right;\">     8.56954</td><td style=\"text-align: right;\">  15.5235 </td><td style=\"text-align: right;\">     1</td><td style=\"text-align: right;\">       264.419  </td><td style=\"text-align: right;\">  0.265883   </td><td style=\"text-align: right;\">     0.187068  </td></tr>\n",
       "<tr><td>train_de_b37a0f83</td><td>TERMINATED</td><td>10.2.219.10:3627693</td><td style=\"text-align: right;\">    12.7312 </td><td style=\"text-align: right;\">      5.00165</td><td style=\"text-align: right;\">0.0744115  </td><td style=\"text-align: right;\">     7.57413</td><td style=\"text-align: right;\">     5.52826</td><td style=\"text-align: right;\">  44.3758 </td><td style=\"text-align: right;\">     1</td><td style=\"text-align: right;\">        75.2472 </td><td style=\"text-align: right;\">  0.270767   </td><td style=\"text-align: right;\">     0.189629  </td></tr>\n",
       "<tr><td>train_de_25ab1ca4</td><td>TERMINATED</td><td>10.2.219.10:3626920</td><td style=\"text-align: right;\">    18.6249 </td><td style=\"text-align: right;\">      6.46072</td><td style=\"text-align: right;\">0.0868519  </td><td style=\"text-align: right;\">     3.90571</td><td style=\"text-align: right;\">     5.36487</td><td style=\"text-align: right;\">   3.58248</td><td style=\"text-align: right;\">     1</td><td style=\"text-align: right;\">         4.23158</td><td style=\"text-align: right;\">  0.195105   </td><td style=\"text-align: right;\">     0.194938  </td></tr>\n",
       "<tr><td>train_de_73455b65</td><td>TERMINATED</td><td>10.2.219.10:3627048</td><td style=\"text-align: right;\">     7.44723</td><td style=\"text-align: right;\">     46.2253 </td><td style=\"text-align: right;\">0.0792142  </td><td style=\"text-align: right;\">     7.73052</td><td style=\"text-align: right;\">     9.84136</td><td style=\"text-align: right;\">   1.10474</td><td style=\"text-align: right;\">     1</td><td style=\"text-align: right;\">        21.0133 </td><td style=\"text-align: right;\">  0.27732    </td><td style=\"text-align: right;\">     0.20756   </td></tr>\n",
       "<tr><td>train_de_8eb7dae6</td><td>TERMINATED</td><td>10.2.219.10:3626920</td><td style=\"text-align: right;\">     9.67918</td><td style=\"text-align: right;\">    149.75   </td><td style=\"text-align: right;\">0.0123012  </td><td style=\"text-align: right;\">     3.46777</td><td style=\"text-align: right;\">     4.04467</td><td style=\"text-align: right;\">  22.8984 </td><td style=\"text-align: right;\">     1</td><td style=\"text-align: right;\">        91.1062 </td><td style=\"text-align: right;\">  0.517115   </td><td style=\"text-align: right;\">     0.178598  </td></tr>\n",
       "<tr><td>train_de_f466436f</td><td>TERMINATED</td><td>10.2.219.10:3628737</td><td style=\"text-align: right;\">    11.0807 </td><td style=\"text-align: right;\">     61.5159 </td><td style=\"text-align: right;\">0.0958926  </td><td style=\"text-align: right;\">     8.55829</td><td style=\"text-align: right;\">     4.78939</td><td style=\"text-align: right;\">   8.74663</td><td style=\"text-align: right;\">     1</td><td style=\"text-align: right;\">        21.5235 </td><td style=\"text-align: right;\">nan          </td><td style=\"text-align: right;\">     0.216969  </td></tr>\n",
       "<tr><td>train_de_bd69aa4d</td><td>TERMINATED</td><td>10.2.219.10:3627776</td><td style=\"text-align: right;\">    17.7889 </td><td style=\"text-align: right;\">    176.149  </td><td style=\"text-align: right;\">0.0595254  </td><td style=\"text-align: right;\">     6.87946</td><td style=\"text-align: right;\">     8.58548</td><td style=\"text-align: right;\">   7.35932</td><td style=\"text-align: right;\">     1</td><td style=\"text-align: right;\">        19.0509 </td><td style=\"text-align: right;\">nan          </td><td style=\"text-align: right;\">   inf         </td></tr>\n",
       "<tr><td>train_de_4ff8997b</td><td>TERMINATED</td><td>10.2.219.10:3627048</td><td style=\"text-align: right;\">    13.6637 </td><td style=\"text-align: right;\">    157.146  </td><td style=\"text-align: right;\">0.0130037  </td><td style=\"text-align: right;\">     6.76337</td><td style=\"text-align: right;\">     7.24556</td><td style=\"text-align: right;\">  38.5577 </td><td style=\"text-align: right;\">     1</td><td style=\"text-align: right;\">       212.27   </td><td style=\"text-align: right;\">  0.209418   </td><td style=\"text-align: right;\">     0.184406  </td></tr>\n",
       "<tr><td>train_de_8beb3cd2</td><td>TERMINATED</td><td>10.2.219.10:3628561</td><td style=\"text-align: right;\">    13.8097 </td><td style=\"text-align: right;\">    151.394  </td><td style=\"text-align: right;\">0.0379046  </td><td style=\"text-align: right;\">     3.80178</td><td style=\"text-align: right;\">     8.61282</td><td style=\"text-align: right;\">   9.74553</td><td style=\"text-align: right;\">     1</td><td style=\"text-align: right;\">        29.6673 </td><td style=\"text-align: right;\">  0.402933   </td><td style=\"text-align: right;\">     0.185528  </td></tr>\n",
       "<tr><td>train_de_5634b31b</td><td>TERMINATED</td><td>10.2.219.10:3632708</td><td style=\"text-align: right;\">     1.0372 </td><td style=\"text-align: right;\">    114.924  </td><td style=\"text-align: right;\">0.0829012  </td><td style=\"text-align: right;\">     3.67196</td><td style=\"text-align: right;\">     4.5748 </td><td style=\"text-align: right;\">  20.796  </td><td style=\"text-align: right;\">     1</td><td style=\"text-align: right;\">       186.957  </td><td style=\"text-align: right;\">nan          </td><td style=\"text-align: right;\">   inf         </td></tr>\n",
       "<tr><td>train_de_ec631b4e</td><td>TERMINATED</td><td>10.2.219.10:3623099</td><td style=\"text-align: right;\">    18.2785 </td><td style=\"text-align: right;\">     27.0055 </td><td style=\"text-align: right;\">0.0409903  </td><td style=\"text-align: right;\">     9.72445</td><td style=\"text-align: right;\">     7.81736</td><td style=\"text-align: right;\">  17.0451 </td><td style=\"text-align: right;\">     1</td><td style=\"text-align: right;\">        36.5804 </td><td style=\"text-align: right;\">  0.124215   </td><td style=\"text-align: right;\">     0.170429  </td></tr>\n",
       "<tr><td>train_de_f9d31316</td><td>TERMINATED</td><td>10.2.219.10:3629371</td><td style=\"text-align: right;\">     4.24073</td><td style=\"text-align: right;\">      1.88655</td><td style=\"text-align: right;\">0.0181878  </td><td style=\"text-align: right;\">     5.37921</td><td style=\"text-align: right;\">     6.45696</td><td style=\"text-align: right;\">  21.9693 </td><td style=\"text-align: right;\">     1</td><td style=\"text-align: right;\">       142.814  </td><td style=\"text-align: right;\">  0.340265   </td><td style=\"text-align: right;\">     0.190998  </td></tr>\n",
       "<tr><td>train_de_fc8824a2</td><td>TERMINATED</td><td>10.2.219.10:3628737</td><td style=\"text-align: right;\">     8.81859</td><td style=\"text-align: right;\">    153.205  </td><td style=\"text-align: right;\">0.0203208  </td><td style=\"text-align: right;\">     9.41714</td><td style=\"text-align: right;\">     7.67212</td><td style=\"text-align: right;\">  47.4073 </td><td style=\"text-align: right;\">     1</td><td style=\"text-align: right;\">       369.627  </td><td style=\"text-align: right;\">  0.0700783  </td><td style=\"text-align: right;\">     0.191317  </td></tr>\n",
       "<tr><td>train_de_1d040245</td><td>TERMINATED</td><td>10.2.219.10:3627776</td><td style=\"text-align: right;\">     7.51548</td><td style=\"text-align: right;\">      5.39211</td><td style=\"text-align: right;\">0.0630284  </td><td style=\"text-align: right;\">     4.337  </td><td style=\"text-align: right;\">     8.23237</td><td style=\"text-align: right;\">  10.2658 </td><td style=\"text-align: right;\">     1</td><td style=\"text-align: right;\">        33.7422 </td><td style=\"text-align: right;\">  0.356593   </td><td style=\"text-align: right;\">     0.187933  </td></tr>\n",
       "<tr><td>train_de_d20a55ef</td><td>TERMINATED</td><td>10.2.219.10:3627392</td><td style=\"text-align: right;\">     2.70238</td><td style=\"text-align: right;\">    116.634  </td><td style=\"text-align: right;\">0.0943288  </td><td style=\"text-align: right;\">     9.07435</td><td style=\"text-align: right;\">     8.31717</td><td style=\"text-align: right;\">  15.8729 </td><td style=\"text-align: right;\">     1</td><td style=\"text-align: right;\">       216.904  </td><td style=\"text-align: right;\">nan          </td><td style=\"text-align: right;\">   inf         </td></tr>\n",
       "<tr><td>train_de_0d30a79c</td><td>TERMINATED</td><td>10.2.219.10:3631392</td><td style=\"text-align: right;\">    18.5135 </td><td style=\"text-align: right;\">     47.8199 </td><td style=\"text-align: right;\">0.00184539 </td><td style=\"text-align: right;\">     9.47131</td><td style=\"text-align: right;\">     6.44411</td><td style=\"text-align: right;\">  20.6854 </td><td style=\"text-align: right;\">     1</td><td style=\"text-align: right;\">        38.1312 </td><td style=\"text-align: right;\">  0.243182   </td><td style=\"text-align: right;\">     0.160987  </td></tr>\n",
       "<tr><td>train_de_541cb03c</td><td>TERMINATED</td><td>10.2.219.10:3628561</td><td style=\"text-align: right;\">     4.62096</td><td style=\"text-align: right;\">    183.539  </td><td style=\"text-align: right;\">0.00763115 </td><td style=\"text-align: right;\">     4.27854</td><td style=\"text-align: right;\">     8.34729</td><td style=\"text-align: right;\">  37.5059 </td><td style=\"text-align: right;\">     1</td><td style=\"text-align: right;\">       368.937  </td><td style=\"text-align: right;\">  0.497271   </td><td style=\"text-align: right;\">     0.154034  </td></tr>\n",
       "<tr><td>train_de_77e42663</td><td>TERMINATED</td><td>10.2.219.10:3627183</td><td style=\"text-align: right;\">     4.12936</td><td style=\"text-align: right;\">     56.6539 </td><td style=\"text-align: right;\">0.0763364  </td><td style=\"text-align: right;\">     5.04608</td><td style=\"text-align: right;\">     3.9905 </td><td style=\"text-align: right;\">   3.13885</td><td style=\"text-align: right;\">     1</td><td style=\"text-align: right;\">        11.9539 </td><td style=\"text-align: right;\">  0.307959   </td><td style=\"text-align: right;\">     0.199175  </td></tr>\n",
       "<tr><td>train_de_20af224f</td><td>TERMINATED</td><td>10.2.219.10:3623099</td><td style=\"text-align: right;\">    19.2577 </td><td style=\"text-align: right;\">     56.3081 </td><td style=\"text-align: right;\">0.0302727  </td><td style=\"text-align: right;\">     5.90995</td><td style=\"text-align: right;\">     6.94997</td><td style=\"text-align: right;\">  33.4211 </td><td style=\"text-align: right;\">     1</td><td style=\"text-align: right;\">        42.9778 </td><td style=\"text-align: right;\">  0.173514   </td><td style=\"text-align: right;\">     0.182883  </td></tr>\n",
       "<tr><td>train_de_9c69dd4b</td><td>TERMINATED</td><td>10.2.219.10:3626469</td><td style=\"text-align: right;\">     5.80983</td><td style=\"text-align: right;\">     12.502  </td><td style=\"text-align: right;\">0.0491001  </td><td style=\"text-align: right;\">     3.85046</td><td style=\"text-align: right;\">     5.04059</td><td style=\"text-align: right;\">  38.0736 </td><td style=\"text-align: right;\">     1</td><td style=\"text-align: right;\">        86.9243 </td><td style=\"text-align: right;\">  0.366061   </td><td style=\"text-align: right;\">     0.19102   </td></tr>\n",
       "<tr><td>train_de_559794d8</td><td>TERMINATED</td><td>10.2.219.10:3627183</td><td style=\"text-align: right;\">    18.5365 </td><td style=\"text-align: right;\">    142.633  </td><td style=\"text-align: right;\">0.0807487  </td><td style=\"text-align: right;\">     8.55816</td><td style=\"text-align: right;\">     8.28423</td><td style=\"text-align: right;\">  41.0577 </td><td style=\"text-align: right;\">     1</td><td style=\"text-align: right;\">        89.8411 </td><td style=\"text-align: right;\">nan          </td><td style=\"text-align: right;\">   inf         </td></tr>\n",
       "<tr><td>train_de_69e24b60</td><td>TERMINATED</td><td>10.2.219.10:3627776</td><td style=\"text-align: right;\">     3.76526</td><td style=\"text-align: right;\">     20.0126 </td><td style=\"text-align: right;\">0.0154002  </td><td style=\"text-align: right;\">     2.93144</td><td style=\"text-align: right;\">     8.0209 </td><td style=\"text-align: right;\">  38.9045 </td><td style=\"text-align: right;\">     1</td><td style=\"text-align: right;\">       187.782  </td><td style=\"text-align: right;\"> -0.283156   </td><td style=\"text-align: right;\">     0.104089  </td></tr>\n",
       "<tr><td>train_de_da575a68</td><td>TERMINATED</td><td>10.2.219.10:3628419</td><td style=\"text-align: right;\">     9.20699</td><td style=\"text-align: right;\">    127.676  </td><td style=\"text-align: right;\">0.0204703  </td><td style=\"text-align: right;\">     8.36826</td><td style=\"text-align: right;\">     8.98341</td><td style=\"text-align: right;\">   4.90473</td><td style=\"text-align: right;\">     1</td><td style=\"text-align: right;\">        48.4668 </td><td style=\"text-align: right;\">  0.183154   </td><td style=\"text-align: right;\">     0.19217   </td></tr>\n",
       "<tr><td>train_de_23ba131e</td><td>TERMINATED</td><td>10.2.219.10:3627693</td><td style=\"text-align: right;\">    14.4667 </td><td style=\"text-align: right;\">    170.339  </td><td style=\"text-align: right;\">0.060229   </td><td style=\"text-align: right;\">     3.23743</td><td style=\"text-align: right;\">     9.9606 </td><td style=\"text-align: right;\">  14.4905 </td><td style=\"text-align: right;\">     1</td><td style=\"text-align: right;\">        38.7052 </td><td style=\"text-align: right;\">  0.142018   </td><td style=\"text-align: right;\">     0.205741  </td></tr>\n",
       "<tr><td>train_de_f3a6e868</td><td>TERMINATED</td><td>10.2.219.10:3631729</td><td style=\"text-align: right;\">    12.232  </td><td style=\"text-align: right;\">    109.242  </td><td style=\"text-align: right;\">0.0271097  </td><td style=\"text-align: right;\">     6.51602</td><td style=\"text-align: right;\">     6.69245</td><td style=\"text-align: right;\">  46.0688 </td><td style=\"text-align: right;\">     1</td><td style=\"text-align: right;\">       205.381  </td><td style=\"text-align: right;\">  0.00511391 </td><td style=\"text-align: right;\">     0.187908  </td></tr>\n",
       "<tr><td>train_de_0807e162</td><td>TERMINATED</td><td>10.2.219.10:3631024</td><td style=\"text-align: right;\">    18.5515 </td><td style=\"text-align: right;\">    128.225  </td><td style=\"text-align: right;\">0.0217733  </td><td style=\"text-align: right;\">     5.43412</td><td style=\"text-align: right;\">     5.94375</td><td style=\"text-align: right;\">  45.3567 </td><td style=\"text-align: right;\">     1</td><td style=\"text-align: right;\">       132.006  </td><td style=\"text-align: right;\">  0.234316   </td><td style=\"text-align: right;\">     0.158105  </td></tr>\n",
       "<tr><td>train_de_fdb635c7</td><td>TERMINATED</td><td>10.2.219.10:3629615</td><td style=\"text-align: right;\">    10.6364 </td><td style=\"text-align: right;\">    130.577  </td><td style=\"text-align: right;\">0.0675533  </td><td style=\"text-align: right;\">     9.24464</td><td style=\"text-align: right;\">     8.42003</td><td style=\"text-align: right;\">   6.55825</td><td style=\"text-align: right;\">     1</td><td style=\"text-align: right;\">        26.292  </td><td style=\"text-align: right;\">nan          </td><td style=\"text-align: right;\">   inf         </td></tr>\n",
       "<tr><td>train_de_c877517a</td><td>TERMINATED</td><td>10.2.219.10:3631392</td><td style=\"text-align: right;\">     9.62808</td><td style=\"text-align: right;\">     70.1824 </td><td style=\"text-align: right;\">0.00176567 </td><td style=\"text-align: right;\">     6.6576 </td><td style=\"text-align: right;\">     3.67614</td><td style=\"text-align: right;\">  46.8625 </td><td style=\"text-align: right;\">     1</td><td style=\"text-align: right;\">        96.8065 </td><td style=\"text-align: right;\">  0.0334106  </td><td style=\"text-align: right;\">     0.165991  </td></tr>\n",
       "<tr><td>train_de_347a3a63</td><td>TERMINATED</td><td>10.2.219.10:3626920</td><td style=\"text-align: right;\">     1.28445</td><td style=\"text-align: right;\">     14.957  </td><td style=\"text-align: right;\">0.0125428  </td><td style=\"text-align: right;\">     2.80469</td><td style=\"text-align: right;\">     4.81039</td><td style=\"text-align: right;\">  22.2937 </td><td style=\"text-align: right;\">     1</td><td style=\"text-align: right;\">       272.103  </td><td style=\"text-align: right;\"> -2.23785    </td><td style=\"text-align: right;\">    -2.14217   </td></tr>\n",
       "<tr><td>train_de_fdad74bb</td><td>TERMINATED</td><td>10.2.219.10:3623099</td><td style=\"text-align: right;\">     9.04667</td><td style=\"text-align: right;\">    151.882  </td><td style=\"text-align: right;\">0.0445299  </td><td style=\"text-align: right;\">     8.25103</td><td style=\"text-align: right;\">     6.90556</td><td style=\"text-align: right;\">  42.528  </td><td style=\"text-align: right;\">     1</td><td style=\"text-align: right;\">       129.007  </td><td style=\"text-align: right;\">nan          </td><td style=\"text-align: right;\">   inf         </td></tr>\n",
       "<tr><td>train_de_40c94e18</td><td>TERMINATED</td><td>10.2.219.10:3630810</td><td style=\"text-align: right;\">    15.0588 </td><td style=\"text-align: right;\">     54.0008 </td><td style=\"text-align: right;\">0.070323   </td><td style=\"text-align: right;\">     7.35681</td><td style=\"text-align: right;\">     3.46266</td><td style=\"text-align: right;\">  14.3034 </td><td style=\"text-align: right;\">     1</td><td style=\"text-align: right;\">        31.0239 </td><td style=\"text-align: right;\">  0.279579   </td><td style=\"text-align: right;\">     0.178441  </td></tr>\n",
       "<tr><td>train_de_eba94f02</td><td>TERMINATED</td><td>10.2.219.10:3627693</td><td style=\"text-align: right;\">    10.4572 </td><td style=\"text-align: right;\">     78.7582 </td><td style=\"text-align: right;\">0.042869   </td><td style=\"text-align: right;\">     7.32708</td><td style=\"text-align: right;\">     5.03565</td><td style=\"text-align: right;\">  37.3076 </td><td style=\"text-align: right;\">     1</td><td style=\"text-align: right;\">       140.453  </td><td style=\"text-align: right;\">  0.252682   </td><td style=\"text-align: right;\">     0.191443  </td></tr>\n",
       "<tr><td>train_de_07844033</td><td>TERMINATED</td><td>10.2.219.10:3629615</td><td style=\"text-align: right;\">    13.7717 </td><td style=\"text-align: right;\">    115.077  </td><td style=\"text-align: right;\">0.080936   </td><td style=\"text-align: right;\">     8.49506</td><td style=\"text-align: right;\">     5.2949 </td><td style=\"text-align: right;\">  10.5788 </td><td style=\"text-align: right;\">     1</td><td style=\"text-align: right;\">        18.8347 </td><td style=\"text-align: right;\">nan          </td><td style=\"text-align: right;\">   inf         </td></tr>\n",
       "<tr><td>train_de_1a8ac01d</td><td>TERMINATED</td><td>10.2.219.10:3628419</td><td style=\"text-align: right;\">    12.4621 </td><td style=\"text-align: right;\">    132.309  </td><td style=\"text-align: right;\">0.0606813  </td><td style=\"text-align: right;\">     3.99593</td><td style=\"text-align: right;\">     4.36263</td><td style=\"text-align: right;\">  45.2559 </td><td style=\"text-align: right;\">     1</td><td style=\"text-align: right;\">        41.2399 </td><td style=\"text-align: right;\">nan          </td><td style=\"text-align: right;\">   inf         </td></tr>\n",
       "<tr><td>train_de_baf86aaa</td><td>TERMINATED</td><td>10.2.219.10:3626657</td><td style=\"text-align: right;\">     6.53526</td><td style=\"text-align: right;\">    145.784  </td><td style=\"text-align: right;\">0.0115669  </td><td style=\"text-align: right;\">     6.86974</td><td style=\"text-align: right;\">     8.04603</td><td style=\"text-align: right;\">  43.7656 </td><td style=\"text-align: right;\">     1</td><td style=\"text-align: right;\">       192.94   </td><td style=\"text-align: right;\">  0.228199   </td><td style=\"text-align: right;\">     0.183238  </td></tr>\n",
       "<tr><td>train_de_6a288a94</td><td>TERMINATED</td><td>10.2.219.10:3629615</td><td style=\"text-align: right;\">    18.4485 </td><td style=\"text-align: right;\">     64.9791 </td><td style=\"text-align: right;\">0.0516786  </td><td style=\"text-align: right;\">     9.36887</td><td style=\"text-align: right;\">     3.457  </td><td style=\"text-align: right;\">  10.6552 </td><td style=\"text-align: right;\">     1</td><td style=\"text-align: right;\">        15.0083 </td><td style=\"text-align: right;\">  0.22613    </td><td style=\"text-align: right;\">     0.158203  </td></tr>\n",
       "<tr><td>train_de_a261cf2a</td><td>TERMINATED</td><td>10.2.219.10:3630810</td><td style=\"text-align: right;\">    16.2581 </td><td style=\"text-align: right;\">    134.994  </td><td style=\"text-align: right;\">0.0554906  </td><td style=\"text-align: right;\">     8.04382</td><td style=\"text-align: right;\">     3.19886</td><td style=\"text-align: right;\">  30.961  </td><td style=\"text-align: right;\">     1</td><td style=\"text-align: right;\">        28.6399 </td><td style=\"text-align: right;\">nan          </td><td style=\"text-align: right;\">   inf         </td></tr>\n",
       "<tr><td>train_de_2860d8e8</td><td>TERMINATED</td><td>10.2.219.10:3626583</td><td style=\"text-align: right;\">     3.69608</td><td style=\"text-align: right;\">     14.8848 </td><td style=\"text-align: right;\">0.0595987  </td><td style=\"text-align: right;\">     4.42601</td><td style=\"text-align: right;\">     4.65188</td><td style=\"text-align: right;\">  16.0455 </td><td style=\"text-align: right;\">     1</td><td style=\"text-align: right;\">        59.5433 </td><td style=\"text-align: right;\">  0.0902584  </td><td style=\"text-align: right;\">     0.189822  </td></tr>\n",
       "<tr><td>train_de_78f5e4d5</td><td>TERMINATED</td><td>10.2.219.10:3629615</td><td style=\"text-align: right;\">     2.72165</td><td style=\"text-align: right;\">     85.3299 </td><td style=\"text-align: right;\">0.0787131  </td><td style=\"text-align: right;\">     7.19369</td><td style=\"text-align: right;\">     8.30269</td><td style=\"text-align: right;\">  15.4899 </td><td style=\"text-align: right;\">     1</td><td style=\"text-align: right;\">       126.261  </td><td style=\"text-align: right;\">nan          </td><td style=\"text-align: right;\">   inf         </td></tr>\n",
       "<tr><td>train_de_9c308cd0</td><td>TERMINATED</td><td>10.2.219.10:3626469</td><td style=\"text-align: right;\">    14.0376 </td><td style=\"text-align: right;\">    101.544  </td><td style=\"text-align: right;\">0.0300385  </td><td style=\"text-align: right;\">     2.96562</td><td style=\"text-align: right;\">     8.15201</td><td style=\"text-align: right;\">   5.00123</td><td style=\"text-align: right;\">     1</td><td style=\"text-align: right;\">        10.4386 </td><td style=\"text-align: right;\">  0.328427   </td><td style=\"text-align: right;\">     0.202208  </td></tr>\n",
       "<tr><td>train_de_c2a7502d</td><td>TERMINATED</td><td>10.2.219.10:3627183</td><td style=\"text-align: right;\">    18.1258 </td><td style=\"text-align: right;\">    133.609  </td><td style=\"text-align: right;\">0.04544    </td><td style=\"text-align: right;\">     4.22425</td><td style=\"text-align: right;\">     5.2709 </td><td style=\"text-align: right;\">   1.44631</td><td style=\"text-align: right;\">     1</td><td style=\"text-align: right;\">         5.68422</td><td style=\"text-align: right;\">  0.330422   </td><td style=\"text-align: right;\">     0.198903  </td></tr>\n",
       "<tr><td>train_de_9ff3fa46</td><td>TERMINATED</td><td>10.2.219.10:3628419</td><td style=\"text-align: right;\">     7.88882</td><td style=\"text-align: right;\">    129.424  </td><td style=\"text-align: right;\">0.0176252  </td><td style=\"text-align: right;\">     2.72399</td><td style=\"text-align: right;\">     7.52385</td><td style=\"text-align: right;\">  15.922  </td><td style=\"text-align: right;\">     1</td><td style=\"text-align: right;\">        34.7356 </td><td style=\"text-align: right;\"> -0.275776   </td><td style=\"text-align: right;\">     0.182554  </td></tr>\n",
       "<tr><td>train_de_716d7f9e</td><td>TERMINATED</td><td>10.2.219.10:3626519</td><td style=\"text-align: right;\">     1.93599</td><td style=\"text-align: right;\">    138.679  </td><td style=\"text-align: right;\">0.0168053  </td><td style=\"text-align: right;\">     6.96477</td><td style=\"text-align: right;\">     4.55645</td><td style=\"text-align: right;\">  14.7827 </td><td style=\"text-align: right;\">     1</td><td style=\"text-align: right;\">       223.42   </td><td style=\"text-align: right;\"> -0.217382   </td><td style=\"text-align: right;\">     0.191985  </td></tr>\n",
       "<tr><td>train_de_212ab586</td><td>TERMINATED</td><td>10.2.219.10:3626469</td><td style=\"text-align: right;\">    18.8399 </td><td style=\"text-align: right;\">      1.71683</td><td style=\"text-align: right;\">0.0452605  </td><td style=\"text-align: right;\">     6.6578 </td><td style=\"text-align: right;\">     7.38189</td><td style=\"text-align: right;\">   2.15128</td><td style=\"text-align: right;\">     1</td><td style=\"text-align: right;\">         2.28596</td><td style=\"text-align: right;\">  0.0570211  </td><td style=\"text-align: right;\">     0.181878  </td></tr>\n",
       "</tbody>\n",
       "</table>\n",
       "  </div>\n",
       "</div>\n",
       "<style>\n",
       ".tuneStatus {\n",
       "  color: var(--jp-ui-font-color1);\n",
       "}\n",
       ".tuneStatus .systemInfo {\n",
       "  display: flex;\n",
       "  flex-direction: column;\n",
       "}\n",
       ".tuneStatus td {\n",
       "  white-space: nowrap;\n",
       "}\n",
       ".tuneStatus .trialStatus {\n",
       "  display: flex;\n",
       "  flex-direction: column;\n",
       "}\n",
       ".tuneStatus h3 {\n",
       "  font-weight: bold;\n",
       "}\n",
       ".tuneStatus .hDivider {\n",
       "  border-bottom-width: var(--jp-border-width);\n",
       "  border-bottom-color: var(--jp-border-color0);\n",
       "  border-bottom-style: solid;\n",
       "}\n",
       ".tuneStatus .vDivider {\n",
       "  border-left-width: var(--jp-border-width);\n",
       "  border-left-color: var(--jp-border-color0);\n",
       "  border-left-style: solid;\n",
       "  margin: 0.5em 1em 0.5em 1em;\n",
       "}\n",
       "</style>\n"
      ],
      "text/plain": [
       "<IPython.core.display.HTML object>"
      ]
     },
     "metadata": {},
     "output_type": "display_data"
    },
    {
     "name": "stdout",
     "output_type": "stream",
     "text": [
      "\u001b[2m\u001b[36m(train_de pid=3622506)\u001b[0m Epoch: 0|Train Loss: nan|Val Loss: nan\n",
      "\u001b[2m\u001b[36m(train_de pid=3622506)\u001b[0m Epoch: 1|Train Loss: nan|Val Loss: nan\n",
      "\u001b[2m\u001b[36m(train_de pid=3622506)\u001b[0m Epoch: 2|Train Loss: nan|Val Loss: nan\n",
      "\u001b[2m\u001b[36m(train_de pid=3622506)\u001b[0m Epoch: 3|Train Loss: nan|Val Loss: nan\n",
      "\u001b[2m\u001b[36m(train_de pid=3622506)\u001b[0m Epoch: 4|Train Loss: nan|Val Loss: nan\n",
      "\u001b[2m\u001b[36m(train_de pid=3622506)\u001b[0m Epoch: 5|Train Loss: nan|Val Loss: nan\n"
     ]
    },
    {
     "data": {
      "text/html": [
       "<div class=\"trialProgress\">\n",
       "  <h3>Trial Progress</h3>\n",
       "  <table>\n",
       "<thead>\n",
       "<tr><th>Trial name       </th><th style=\"text-align: right;\">  best_val_loss</th><th style=\"text-align: right;\">   train_loss</th></tr>\n",
       "</thead>\n",
       "<tbody>\n",
       "<tr><td>train_de_017ef564</td><td style=\"text-align: right;\">     0.156542  </td><td style=\"text-align: right;\">  0.220031   </td></tr>\n",
       "<tr><td>train_de_018155f0</td><td style=\"text-align: right;\">     0.173418  </td><td style=\"text-align: right;\">  0.0616801  </td></tr>\n",
       "<tr><td>train_de_01a68e07</td><td style=\"text-align: right;\">     0.189641  </td><td style=\"text-align: right;\">  0.0322618  </td></tr>\n",
       "<tr><td>train_de_020ee1db</td><td style=\"text-align: right;\">   inf         </td><td style=\"text-align: right;\">nan          </td></tr>\n",
       "<tr><td>train_de_02d41194</td><td style=\"text-align: right;\">     0.191095  </td><td style=\"text-align: right;\">  0.290188   </td></tr>\n",
       "<tr><td>train_de_03721124</td><td style=\"text-align: right;\">     0.191323  </td><td style=\"text-align: right;\">  0.580934   </td></tr>\n",
       "<tr><td>train_de_03cbb2cd</td><td style=\"text-align: right;\">   inf         </td><td style=\"text-align: right;\">nan          </td></tr>\n",
       "<tr><td>train_de_04648e91</td><td style=\"text-align: right;\">     0.183294  </td><td style=\"text-align: right;\">  0.0592827  </td></tr>\n",
       "<tr><td>train_de_055387b0</td><td style=\"text-align: right;\">     0.189057  </td><td style=\"text-align: right;\">  0.114952   </td></tr>\n",
       "<tr><td>train_de_0596463a</td><td style=\"text-align: right;\">     0.275259  </td><td style=\"text-align: right;\">  0.456442   </td></tr>\n",
       "<tr><td>train_de_0643c0dd</td><td style=\"text-align: right;\">     0.183299  </td><td style=\"text-align: right;\">  0.163861   </td></tr>\n",
       "<tr><td>train_de_06d07525</td><td style=\"text-align: right;\">     0.288157  </td><td style=\"text-align: right;\">nan          </td></tr>\n",
       "<tr><td>train_de_06e8fada</td><td style=\"text-align: right;\">     0.177713  </td><td style=\"text-align: right;\"> -0.177581   </td></tr>\n",
       "<tr><td>train_de_070f6592</td><td style=\"text-align: right;\">   inf         </td><td style=\"text-align: right;\">nan          </td></tr>\n",
       "<tr><td>train_de_070fefce</td><td style=\"text-align: right;\">   inf         </td><td style=\"text-align: right;\">nan          </td></tr>\n",
       "<tr><td>train_de_07844033</td><td style=\"text-align: right;\">   inf         </td><td style=\"text-align: right;\">nan          </td></tr>\n",
       "<tr><td>train_de_0807e162</td><td style=\"text-align: right;\">     0.158105  </td><td style=\"text-align: right;\">  0.234316   </td></tr>\n",
       "<tr><td>train_de_081cc764</td><td style=\"text-align: right;\">     0.161691  </td><td style=\"text-align: right;\">  0.016549   </td></tr>\n",
       "<tr><td>train_de_08935e9e</td><td style=\"text-align: right;\">   inf         </td><td style=\"text-align: right;\">nan          </td></tr>\n",
       "<tr><td>train_de_08c64bca</td><td style=\"text-align: right;\">     0.194914  </td><td style=\"text-align: right;\">  0.212212   </td></tr>\n",
       "<tr><td>train_de_0963ea74</td><td style=\"text-align: right;\">     0.187411  </td><td style=\"text-align: right;\">  0.145992   </td></tr>\n",
       "<tr><td>train_de_096fba28</td><td style=\"text-align: right;\">     0.158638  </td><td style=\"text-align: right;\">  0.535395   </td></tr>\n",
       "<tr><td>train_de_0a232f1e</td><td style=\"text-align: right;\">     0.192062  </td><td style=\"text-align: right;\">  0.215331   </td></tr>\n",
       "<tr><td>train_de_0a26f0be</td><td style=\"text-align: right;\">     0.182328  </td><td style=\"text-align: right;\">  0.0628182  </td></tr>\n",
       "<tr><td>train_de_0aad0c02</td><td style=\"text-align: right;\">     0.195268  </td><td style=\"text-align: right;\">  0.0427633  </td></tr>\n",
       "<tr><td>train_de_0adc45c4</td><td style=\"text-align: right;\">     0.18192   </td><td style=\"text-align: right;\">  0.357136   </td></tr>\n",
       "<tr><td>train_de_0afa3c6b</td><td style=\"text-align: right;\">     0.183864  </td><td style=\"text-align: right;\"> -0.126498   </td></tr>\n",
       "<tr><td>train_de_0ca2d119</td><td style=\"text-align: right;\">     0.185744  </td><td style=\"text-align: right;\">  0.206508   </td></tr>\n",
       "<tr><td>train_de_0d30a79c</td><td style=\"text-align: right;\">     0.160987  </td><td style=\"text-align: right;\">  0.243182   </td></tr>\n",
       "<tr><td>train_de_0e952e92</td><td style=\"text-align: right;\">     0.197002  </td><td style=\"text-align: right;\">  0.375589   </td></tr>\n",
       "<tr><td>train_de_0ee8735f</td><td style=\"text-align: right;\">   inf         </td><td style=\"text-align: right;\">nan          </td></tr>\n",
       "<tr><td>train_de_101a4478</td><td style=\"text-align: right;\">   inf         </td><td style=\"text-align: right;\">nan          </td></tr>\n",
       "<tr><td>train_de_103858b2</td><td style=\"text-align: right;\">     0.177496  </td><td style=\"text-align: right;\">  0.281114   </td></tr>\n",
       "<tr><td>train_de_10822aa1</td><td style=\"text-align: right;\">     0.183162  </td><td style=\"text-align: right;\">  0.306092   </td></tr>\n",
       "<tr><td>train_de_1294f26f</td><td style=\"text-align: right;\">     0.173952  </td><td style=\"text-align: right;\">  0.109222   </td></tr>\n",
       "<tr><td>train_de_12b68faa</td><td style=\"text-align: right;\">     0.164033  </td><td style=\"text-align: right;\">  0.13994    </td></tr>\n",
       "<tr><td>train_de_12be26cd</td><td style=\"text-align: right;\">     0.185501  </td><td style=\"text-align: right;\">  0.0617785  </td></tr>\n",
       "<tr><td>train_de_1310cce2</td><td style=\"text-align: right;\">     0.143783  </td><td style=\"text-align: right;\">  0.383166   </td></tr>\n",
       "<tr><td>train_de_143ea5a3</td><td style=\"text-align: right;\">   inf         </td><td style=\"text-align: right;\">nan          </td></tr>\n",
       "<tr><td>train_de_144ade15</td><td style=\"text-align: right;\">     0.163825  </td><td style=\"text-align: right;\">  0.235383   </td></tr>\n",
       "<tr><td>train_de_15e5071f</td><td style=\"text-align: right;\">     0.197879  </td><td style=\"text-align: right;\">  0.330786   </td></tr>\n",
       "<tr><td>train_de_160c630d</td><td style=\"text-align: right;\">     0.167974  </td><td style=\"text-align: right;\"> -0.274395   </td></tr>\n",
       "<tr><td>train_de_16984cb3</td><td style=\"text-align: right;\">   inf         </td><td style=\"text-align: right;\">nan          </td></tr>\n",
       "<tr><td>train_de_16f70839</td><td style=\"text-align: right;\">   inf         </td><td style=\"text-align: right;\">nan          </td></tr>\n",
       "<tr><td>train_de_17ad64bd</td><td style=\"text-align: right;\">     0.241182  </td><td style=\"text-align: right;\">  0.362594   </td></tr>\n",
       "<tr><td>train_de_181621cb</td><td style=\"text-align: right;\">   inf         </td><td style=\"text-align: right;\">nan          </td></tr>\n",
       "<tr><td>train_de_18dd2164</td><td style=\"text-align: right;\">     4.3601    </td><td style=\"text-align: right;\">nan          </td></tr>\n",
       "<tr><td>train_de_19ec79b6</td><td style=\"text-align: right;\">     0.182097  </td><td style=\"text-align: right;\">  0.0524802  </td></tr>\n",
       "<tr><td>train_de_1a104a65</td><td style=\"text-align: right;\">   inf         </td><td style=\"text-align: right;\">nan          </td></tr>\n",
       "<tr><td>train_de_1a4d9164</td><td style=\"text-align: right;\">   inf         </td><td style=\"text-align: right;\">nan          </td></tr>\n",
       "<tr><td>train_de_1a8ac01d</td><td style=\"text-align: right;\">   inf         </td><td style=\"text-align: right;\">nan          </td></tr>\n",
       "<tr><td>train_de_1aa0ad89</td><td style=\"text-align: right;\">     0.191564  </td><td style=\"text-align: right;\">  0.264245   </td></tr>\n",
       "<tr><td>train_de_1c29c3d1</td><td style=\"text-align: right;\">     0.171874  </td><td style=\"text-align: right;\">  0.42633    </td></tr>\n",
       "<tr><td>train_de_1c7106a3</td><td style=\"text-align: right;\">     0.186724  </td><td style=\"text-align: right;\">  0.139956   </td></tr>\n",
       "<tr><td>train_de_1c8877a9</td><td style=\"text-align: right;\">     0.182269  </td><td style=\"text-align: right;\">  0.0972924  </td></tr>\n",
       "<tr><td>train_de_1d040245</td><td style=\"text-align: right;\">     0.187933  </td><td style=\"text-align: right;\">  0.356593   </td></tr>\n",
       "<tr><td>train_de_1d37f71e</td><td style=\"text-align: right;\">     0.191763  </td><td style=\"text-align: right;\">  0.250707   </td></tr>\n",
       "<tr><td>train_de_1d6362f5</td><td style=\"text-align: right;\">     0.1838    </td><td style=\"text-align: right;\">  0.018002   </td></tr>\n",
       "<tr><td>train_de_1dfbf6d1</td><td style=\"text-align: right;\">   inf         </td><td style=\"text-align: right;\">nan          </td></tr>\n",
       "<tr><td>train_de_1ebc21dc</td><td style=\"text-align: right;\">     0.116754  </td><td style=\"text-align: right;\">  0.165117   </td></tr>\n",
       "<tr><td>train_de_200b2bac</td><td style=\"text-align: right;\">     0.179393  </td><td style=\"text-align: right;\">  0.231376   </td></tr>\n",
       "<tr><td>train_de_203afab1</td><td style=\"text-align: right;\">     0.191302  </td><td style=\"text-align: right;\">  0.76333    </td></tr>\n",
       "<tr><td>train_de_20782ffc</td><td style=\"text-align: right;\">     0.187068  </td><td style=\"text-align: right;\">  0.265883   </td></tr>\n",
       "<tr><td>train_de_207f9210</td><td style=\"text-align: right;\">     0.189509  </td><td style=\"text-align: right;\"> -0.0105624  </td></tr>\n",
       "<tr><td>train_de_20af224f</td><td style=\"text-align: right;\">     0.182883  </td><td style=\"text-align: right;\">  0.173514   </td></tr>\n",
       "<tr><td>train_de_20b95a14</td><td style=\"text-align: right;\">     0.177595  </td><td style=\"text-align: right;\">  0.0478335  </td></tr>\n",
       "<tr><td>train_de_20d4239c</td><td style=\"text-align: right;\">     0.183525  </td><td style=\"text-align: right;\"> -0.060692   </td></tr>\n",
       "<tr><td>train_de_212ab586</td><td style=\"text-align: right;\">     0.181878  </td><td style=\"text-align: right;\">  0.0570211  </td></tr>\n",
       "<tr><td>train_de_21653bf6</td><td style=\"text-align: right;\">     0.191468  </td><td style=\"text-align: right;\">  0.167882   </td></tr>\n",
       "<tr><td>train_de_224beecd</td><td style=\"text-align: right;\">   inf         </td><td style=\"text-align: right;\">nan          </td></tr>\n",
       "<tr><td>train_de_23b936c5</td><td style=\"text-align: right;\">     0.182292  </td><td style=\"text-align: right;\">  0.0216134  </td></tr>\n",
       "<tr><td>train_de_23ba131e</td><td style=\"text-align: right;\">     0.205741  </td><td style=\"text-align: right;\">  0.142018   </td></tr>\n",
       "<tr><td>train_de_24452619</td><td style=\"text-align: right;\">     0.193659  </td><td style=\"text-align: right;\">  0.648092   </td></tr>\n",
       "<tr><td>train_de_247e5d75</td><td style=\"text-align: right;\">     0.185131  </td><td style=\"text-align: right;\">  0.129188   </td></tr>\n",
       "<tr><td>train_de_2495ed09</td><td style=\"text-align: right;\">     0.19157   </td><td style=\"text-align: right;\">  0.0631382  </td></tr>\n",
       "<tr><td>train_de_25888409</td><td style=\"text-align: right;\">     0.190896  </td><td style=\"text-align: right;\"> -0.219252   </td></tr>\n",
       "<tr><td>train_de_25ab1ca4</td><td style=\"text-align: right;\">     0.194938  </td><td style=\"text-align: right;\">  0.195105   </td></tr>\n",
       "<tr><td>train_de_25b6477c</td><td style=\"text-align: right;\">     0.193854  </td><td style=\"text-align: right;\">  0.0896544  </td></tr>\n",
       "<tr><td>train_de_263a532a</td><td style=\"text-align: right;\">     0.188609  </td><td style=\"text-align: right;\"> -0.00521464 </td></tr>\n",
       "<tr><td>train_de_26a8ff78</td><td style=\"text-align: right;\">     0.19135   </td><td style=\"text-align: right;\">  0.196566   </td></tr>\n",
       "<tr><td>train_de_26d7864f</td><td style=\"text-align: right;\">   inf         </td><td style=\"text-align: right;\">nan          </td></tr>\n",
       "<tr><td>train_de_27a3342c</td><td style=\"text-align: right;\">     0.153165  </td><td style=\"text-align: right;\"> -0.14991    </td></tr>\n",
       "<tr><td>train_de_27e8d8b6</td><td style=\"text-align: right;\">     0.178301  </td><td style=\"text-align: right;\"> -0.20003    </td></tr>\n",
       "<tr><td>train_de_27f08266</td><td style=\"text-align: right;\">     0.180201  </td><td style=\"text-align: right;\">  0.152135   </td></tr>\n",
       "<tr><td>train_de_2860d8e8</td><td style=\"text-align: right;\">     0.189822  </td><td style=\"text-align: right;\">  0.0902584  </td></tr>\n",
       "<tr><td>train_de_290f2c14</td><td style=\"text-align: right;\">     0.160391  </td><td style=\"text-align: right;\">  0.201952   </td></tr>\n",
       "<tr><td>train_de_2986565a</td><td style=\"text-align: right;\">     0.172976  </td><td style=\"text-align: right;\">  0.242529   </td></tr>\n",
       "<tr><td>train_de_299c71b9</td><td style=\"text-align: right;\">     0.185313  </td><td style=\"text-align: right;\">  0.127772   </td></tr>\n",
       "<tr><td>train_de_29d6206e</td><td style=\"text-align: right;\">     0.186803  </td><td style=\"text-align: right;\">  0.370426   </td></tr>\n",
       "<tr><td>train_de_2bc24e80</td><td style=\"text-align: right;\">     0.189069  </td><td style=\"text-align: right;\">  0.14137    </td></tr>\n",
       "<tr><td>train_de_2d166c34</td><td style=\"text-align: right;\">   inf         </td><td style=\"text-align: right;\">nan          </td></tr>\n",
       "<tr><td>train_de_2d53808f</td><td style=\"text-align: right;\">   inf         </td><td style=\"text-align: right;\">nan          </td></tr>\n",
       "<tr><td>train_de_2e9456a3</td><td style=\"text-align: right;\">     0.179132  </td><td style=\"text-align: right;\">  0.279055   </td></tr>\n",
       "<tr><td>train_de_2eae20f1</td><td style=\"text-align: right;\">   inf         </td><td style=\"text-align: right;\">nan          </td></tr>\n",
       "<tr><td>train_de_2f109a83</td><td style=\"text-align: right;\">     0.175763  </td><td style=\"text-align: right;\">  0.11034    </td></tr>\n",
       "<tr><td>train_de_2f7ec1f3</td><td style=\"text-align: right;\">     0.180042  </td><td style=\"text-align: right;\">  0.227386   </td></tr>\n",
       "<tr><td>train_de_3110d8a9</td><td style=\"text-align: right;\">     0.189379  </td><td style=\"text-align: right;\">  0.291974   </td></tr>\n",
       "<tr><td>train_de_31e09efb</td><td style=\"text-align: right;\">     0.191009  </td><td style=\"text-align: right;\"> -0.0913257  </td></tr>\n",
       "<tr><td>train_de_322f35a6</td><td style=\"text-align: right;\">     0.180139  </td><td style=\"text-align: right;\">  0.0298604  </td></tr>\n",
       "<tr><td>train_de_3241af5a</td><td style=\"text-align: right;\">     0.194365  </td><td style=\"text-align: right;\">  0.230933   </td></tr>\n",
       "<tr><td>train_de_3290a9d9</td><td style=\"text-align: right;\">     0.191413  </td><td style=\"text-align: right;\">  0.0113203  </td></tr>\n",
       "<tr><td>train_de_332abee6</td><td style=\"text-align: right;\">     0.159858  </td><td style=\"text-align: right;\">  0.282614   </td></tr>\n",
       "<tr><td>train_de_33d8eea4</td><td style=\"text-align: right;\">   inf         </td><td style=\"text-align: right;\">nan          </td></tr>\n",
       "<tr><td>train_de_33df5e6f</td><td style=\"text-align: right;\">     0.185707  </td><td style=\"text-align: right;\"> -0.301038   </td></tr>\n",
       "<tr><td>train_de_345a2f80</td><td style=\"text-align: right;\">     0.180361  </td><td style=\"text-align: right;\">  0.277296   </td></tr>\n",
       "<tr><td>train_de_347a3a63</td><td style=\"text-align: right;\">    -2.14217   </td><td style=\"text-align: right;\"> -2.23785    </td></tr>\n",
       "<tr><td>train_de_34a18c0f</td><td style=\"text-align: right;\">     0.190618  </td><td style=\"text-align: right;\">  0.203867   </td></tr>\n",
       "<tr><td>train_de_3521142d</td><td style=\"text-align: right;\">     0.192124  </td><td style=\"text-align: right;\"> -0.0507489  </td></tr>\n",
       "<tr><td>train_de_3522587a</td><td style=\"text-align: right;\">     0.188847  </td><td style=\"text-align: right;\">  0.101647   </td></tr>\n",
       "<tr><td>train_de_3598c655</td><td style=\"text-align: right;\">     0.190905  </td><td style=\"text-align: right;\"> -0.0995863  </td></tr>\n",
       "<tr><td>train_de_36a976fd</td><td style=\"text-align: right;\">     0.191307  </td><td style=\"text-align: right;\">nan          </td></tr>\n",
       "<tr><td>train_de_36da212d</td><td style=\"text-align: right;\">     0.190985  </td><td style=\"text-align: right;\">  0.291567   </td></tr>\n",
       "<tr><td>train_de_3726d31b</td><td style=\"text-align: right;\">   inf         </td><td style=\"text-align: right;\">nan          </td></tr>\n",
       "<tr><td>train_de_382495ee</td><td style=\"text-align: right;\">     0.189861  </td><td style=\"text-align: right;\">  0.36192    </td></tr>\n",
       "<tr><td>train_de_38ea8195</td><td style=\"text-align: right;\">     0.18651   </td><td style=\"text-align: right;\"> -0.041175   </td></tr>\n",
       "<tr><td>train_de_38f53d79</td><td style=\"text-align: right;\">   inf         </td><td style=\"text-align: right;\">nan          </td></tr>\n",
       "<tr><td>train_de_3981a2e4</td><td style=\"text-align: right;\">   inf         </td><td style=\"text-align: right;\">nan          </td></tr>\n",
       "<tr><td>train_de_39e10b47</td><td style=\"text-align: right;\">    -2.13982   </td><td style=\"text-align: right;\"> -2.27334    </td></tr>\n",
       "<tr><td>train_de_3b9ca7aa</td><td style=\"text-align: right;\">   inf         </td><td style=\"text-align: right;\">nan          </td></tr>\n",
       "<tr><td>train_de_3bf79610</td><td style=\"text-align: right;\">     0.192896  </td><td style=\"text-align: right;\">  0.214214   </td></tr>\n",
       "<tr><td>train_de_3c9bed97</td><td style=\"text-align: right;\">   inf         </td><td style=\"text-align: right;\">nan          </td></tr>\n",
       "<tr><td>train_de_3d6817ae</td><td style=\"text-align: right;\">     0.181051  </td><td style=\"text-align: right;\">  0.136216   </td></tr>\n",
       "<tr><td>train_de_3da74ba3</td><td style=\"text-align: right;\">     0.116747  </td><td style=\"text-align: right;\">  0.68125    </td></tr>\n",
       "<tr><td>train_de_3ddc13c1</td><td style=\"text-align: right;\">     0.190994  </td><td style=\"text-align: right;\">  0.0350524  </td></tr>\n",
       "<tr><td>train_de_3e8d9ad5</td><td style=\"text-align: right;\">     0.190711  </td><td style=\"text-align: right;\">  0.0427824  </td></tr>\n",
       "<tr><td>train_de_3ee8d5f5</td><td style=\"text-align: right;\">     0.17957   </td><td style=\"text-align: right;\">  0.324224   </td></tr>\n",
       "<tr><td>train_de_3f0ceeda</td><td style=\"text-align: right;\">     0.293401  </td><td style=\"text-align: right;\">nan          </td></tr>\n",
       "<tr><td>train_de_3f474b05</td><td style=\"text-align: right;\">     0.177613  </td><td style=\"text-align: right;\">  0.153304   </td></tr>\n",
       "<tr><td>train_de_401aec8d</td><td style=\"text-align: right;\">     0.169678  </td><td style=\"text-align: right;\">  0.57926    </td></tr>\n",
       "<tr><td>train_de_401bd6c9</td><td style=\"text-align: right;\">   inf         </td><td style=\"text-align: right;\">nan          </td></tr>\n",
       "<tr><td>train_de_40c94e18</td><td style=\"text-align: right;\">     0.178441  </td><td style=\"text-align: right;\">  0.279579   </td></tr>\n",
       "<tr><td>train_de_41085ca8</td><td style=\"text-align: right;\">     0.169203  </td><td style=\"text-align: right;\">  0.0698052  </td></tr>\n",
       "<tr><td>train_de_4163eb26</td><td style=\"text-align: right;\">   inf         </td><td style=\"text-align: right;\">nan          </td></tr>\n",
       "<tr><td>train_de_41fdf644</td><td style=\"text-align: right;\">   inf         </td><td style=\"text-align: right;\">nan          </td></tr>\n",
       "<tr><td>train_de_427826db</td><td style=\"text-align: right;\">   inf         </td><td style=\"text-align: right;\">nan          </td></tr>\n",
       "<tr><td>train_de_42b1b13d</td><td style=\"text-align: right;\">   inf         </td><td style=\"text-align: right;\">nan          </td></tr>\n",
       "<tr><td>train_de_430736c8</td><td style=\"text-align: right;\">   inf         </td><td style=\"text-align: right;\">nan          </td></tr>\n",
       "<tr><td>train_de_4311d93f</td><td style=\"text-align: right;\">     0.181506  </td><td style=\"text-align: right;\"> -0.0979249  </td></tr>\n",
       "<tr><td>train_de_433a5965</td><td style=\"text-align: right;\">     0.19172   </td><td style=\"text-align: right;\">  0.261459   </td></tr>\n",
       "<tr><td>train_de_44b7542c</td><td style=\"text-align: right;\">     0.168964  </td><td style=\"text-align: right;\">  0.116019   </td></tr>\n",
       "<tr><td>train_de_44da3bae</td><td style=\"text-align: right;\">     0.186459  </td><td style=\"text-align: right;\"> -0.0801144  </td></tr>\n",
       "<tr><td>train_de_44faadd0</td><td style=\"text-align: right;\">     0.177735  </td><td style=\"text-align: right;\">  0.236993   </td></tr>\n",
       "<tr><td>train_de_4577a025</td><td style=\"text-align: right;\">     0.191154  </td><td style=\"text-align: right;\"> -0.0770059  </td></tr>\n",
       "<tr><td>train_de_46918ff0</td><td style=\"text-align: right;\">     0.191114  </td><td style=\"text-align: right;\"> -0.0717258  </td></tr>\n",
       "<tr><td>train_de_46f20889</td><td style=\"text-align: right;\">     0.167406  </td><td style=\"text-align: right;\">  0.0688577  </td></tr>\n",
       "<tr><td>train_de_47231779</td><td style=\"text-align: right;\">   inf         </td><td style=\"text-align: right;\">nan          </td></tr>\n",
       "<tr><td>train_de_4826320b</td><td style=\"text-align: right;\">     0.181686  </td><td style=\"text-align: right;\">  0.156269   </td></tr>\n",
       "<tr><td>train_de_4827adba</td><td style=\"text-align: right;\">   inf         </td><td style=\"text-align: right;\">nan          </td></tr>\n",
       "<tr><td>train_de_483e0e24</td><td style=\"text-align: right;\">     0.227011  </td><td style=\"text-align: right;\">  0.433849   </td></tr>\n",
       "<tr><td>train_de_485d1d5e</td><td style=\"text-align: right;\">     0.189902  </td><td style=\"text-align: right;\">  0.322948   </td></tr>\n",
       "<tr><td>train_de_48659442</td><td style=\"text-align: right;\">     0.183042  </td><td style=\"text-align: right;\"> -0.113113   </td></tr>\n",
       "<tr><td>train_de_491dc528</td><td style=\"text-align: right;\">     0.1934    </td><td style=\"text-align: right;\">  0.287965   </td></tr>\n",
       "<tr><td>train_de_49455f8f</td><td style=\"text-align: right;\">   inf         </td><td style=\"text-align: right;\">nan          </td></tr>\n",
       "<tr><td>train_de_49f9b845</td><td style=\"text-align: right;\">     0.207174  </td><td style=\"text-align: right;\">  0.248554   </td></tr>\n",
       "<tr><td>train_de_4b4f4f12</td><td style=\"text-align: right;\">   inf         </td><td style=\"text-align: right;\">nan          </td></tr>\n",
       "<tr><td>train_de_4c48f6f8</td><td style=\"text-align: right;\">     0.170396  </td><td style=\"text-align: right;\">  0.203707   </td></tr>\n",
       "<tr><td>train_de_4c78074a</td><td style=\"text-align: right;\">   inf         </td><td style=\"text-align: right;\">nan          </td></tr>\n",
       "<tr><td>train_de_4d144836</td><td style=\"text-align: right;\">     0.180986  </td><td style=\"text-align: right;\">  0.0962532  </td></tr>\n",
       "<tr><td>train_de_4d8e175e</td><td style=\"text-align: right;\">     0.175273  </td><td style=\"text-align: right;\">  0.0650693  </td></tr>\n",
       "<tr><td>train_de_4e5a57a4</td><td style=\"text-align: right;\">     0.184378  </td><td style=\"text-align: right;\">  0.238771   </td></tr>\n",
       "<tr><td>train_de_4ec09254</td><td style=\"text-align: right;\">     0.186356  </td><td style=\"text-align: right;\"> -0.158943   </td></tr>\n",
       "<tr><td>train_de_4ff8997b</td><td style=\"text-align: right;\">     0.184406  </td><td style=\"text-align: right;\">  0.209418   </td></tr>\n",
       "<tr><td>train_de_50406aa5</td><td style=\"text-align: right;\">     0.184478  </td><td style=\"text-align: right;\">nan          </td></tr>\n",
       "<tr><td>train_de_50c478fa</td><td style=\"text-align: right;\">     0.187683  </td><td style=\"text-align: right;\">  0.441226   </td></tr>\n",
       "<tr><td>train_de_512aeefb</td><td style=\"text-align: right;\">     0.184099  </td><td style=\"text-align: right;\">  0.1557     </td></tr>\n",
       "<tr><td>train_de_51e7b249</td><td style=\"text-align: right;\">     0.17431   </td><td style=\"text-align: right;\"> -0.0436176  </td></tr>\n",
       "<tr><td>train_de_524e9445</td><td style=\"text-align: right;\">     0.190359  </td><td style=\"text-align: right;\"> -0.0531251  </td></tr>\n",
       "<tr><td>train_de_528961d9</td><td style=\"text-align: right;\">   inf         </td><td style=\"text-align: right;\">nan          </td></tr>\n",
       "<tr><td>train_de_52ab7054</td><td style=\"text-align: right;\">     0.18897   </td><td style=\"text-align: right;\">  0.256428   </td></tr>\n",
       "<tr><td>train_de_5326986e</td><td style=\"text-align: right;\">     0.202974  </td><td style=\"text-align: right;\">  0.108239   </td></tr>\n",
       "<tr><td>train_de_541cb03c</td><td style=\"text-align: right;\">     0.154034  </td><td style=\"text-align: right;\">  0.497271   </td></tr>\n",
       "<tr><td>train_de_5431d940</td><td style=\"text-align: right;\">     0.177774  </td><td style=\"text-align: right;\">  0.319615   </td></tr>\n",
       "<tr><td>train_de_55775ba2</td><td style=\"text-align: right;\">   inf         </td><td style=\"text-align: right;\">nan          </td></tr>\n",
       "<tr><td>train_de_559794d8</td><td style=\"text-align: right;\">   inf         </td><td style=\"text-align: right;\">nan          </td></tr>\n",
       "<tr><td>train_de_5634b31b</td><td style=\"text-align: right;\">   inf         </td><td style=\"text-align: right;\">nan          </td></tr>\n",
       "<tr><td>train_de_56bdb2b1</td><td style=\"text-align: right;\">     2.6467    </td><td style=\"text-align: right;\">nan          </td></tr>\n",
       "<tr><td>train_de_57716f4c</td><td style=\"text-align: right;\">     0.188891  </td><td style=\"text-align: right;\"> -0.224089   </td></tr>\n",
       "<tr><td>train_de_58113d31</td><td style=\"text-align: right;\">   inf         </td><td style=\"text-align: right;\">nan          </td></tr>\n",
       "<tr><td>train_de_58cb94dc</td><td style=\"text-align: right;\">     0.178938  </td><td style=\"text-align: right;\">  0.246689   </td></tr>\n",
       "<tr><td>train_de_59466e62</td><td style=\"text-align: right;\">     0.189336  </td><td style=\"text-align: right;\">  0.378547   </td></tr>\n",
       "<tr><td>train_de_59835036</td><td style=\"text-align: right;\">     0.16553   </td><td style=\"text-align: right;\">  0.263396   </td></tr>\n",
       "<tr><td>train_de_5a7811a3</td><td style=\"text-align: right;\">     0.669875  </td><td style=\"text-align: right;\">nan          </td></tr>\n",
       "<tr><td>train_de_5a8ba227</td><td style=\"text-align: right;\">     0.191371  </td><td style=\"text-align: right;\">  0.356107   </td></tr>\n",
       "<tr><td>train_de_5b029ea1</td><td style=\"text-align: right;\">     0.097801  </td><td style=\"text-align: right;\">  0.415968   </td></tr>\n",
       "<tr><td>train_de_5b834512</td><td style=\"text-align: right;\">     0.182889  </td><td style=\"text-align: right;\">  0.0891517  </td></tr>\n",
       "<tr><td>train_de_5bb11eae</td><td style=\"text-align: right;\">     0.185294  </td><td style=\"text-align: right;\">  0.0630711  </td></tr>\n",
       "<tr><td>train_de_5bb57c01</td><td style=\"text-align: right;\">     0.160253  </td><td style=\"text-align: right;\">  0.015837   </td></tr>\n",
       "<tr><td>train_de_5bccb602</td><td style=\"text-align: right;\">     0.18624   </td><td style=\"text-align: right;\">  0.0518507  </td></tr>\n",
       "<tr><td>train_de_5be63c4e</td><td style=\"text-align: right;\">     0.178194  </td><td style=\"text-align: right;\"> -0.107406   </td></tr>\n",
       "<tr><td>train_de_5bf0a5b2</td><td style=\"text-align: right;\">     0.191551  </td><td style=\"text-align: right;\">  0.128291   </td></tr>\n",
       "<tr><td>train_de_5c0e4fdb</td><td style=\"text-align: right;\">   inf         </td><td style=\"text-align: right;\">nan          </td></tr>\n",
       "<tr><td>train_de_5c68c8d2</td><td style=\"text-align: right;\">   inf         </td><td style=\"text-align: right;\">nan          </td></tr>\n",
       "<tr><td>train_de_5d32fa86</td><td style=\"text-align: right;\">   inf         </td><td style=\"text-align: right;\">nan          </td></tr>\n",
       "<tr><td>train_de_5d4e171f</td><td style=\"text-align: right;\">   inf         </td><td style=\"text-align: right;\">nan          </td></tr>\n",
       "<tr><td>train_de_5dd18124</td><td style=\"text-align: right;\">     0.17697   </td><td style=\"text-align: right;\">  0.202759   </td></tr>\n",
       "<tr><td>train_de_5e131652</td><td style=\"text-align: right;\">     0.191623  </td><td style=\"text-align: right;\">  0.350673   </td></tr>\n",
       "<tr><td>train_de_5f97398a</td><td style=\"text-align: right;\">   inf         </td><td style=\"text-align: right;\">nan          </td></tr>\n",
       "<tr><td>train_de_60843fdd</td><td style=\"text-align: right;\">   inf         </td><td style=\"text-align: right;\">nan          </td></tr>\n",
       "<tr><td>train_de_62734935</td><td style=\"text-align: right;\">     0.183101  </td><td style=\"text-align: right;\">  0.486895   </td></tr>\n",
       "<tr><td>train_de_62c7af08</td><td style=\"text-align: right;\">     0.19128   </td><td style=\"text-align: right;\">  0.0323308  </td></tr>\n",
       "<tr><td>train_de_63d3bfef</td><td style=\"text-align: right;\">    -2.06745   </td><td style=\"text-align: right;\"> -2.26243    </td></tr>\n",
       "<tr><td>train_de_6437c467</td><td style=\"text-align: right;\">     0.18008   </td><td style=\"text-align: right;\">  0.0527516  </td></tr>\n",
       "<tr><td>train_de_643ec81c</td><td style=\"text-align: right;\">   inf         </td><td style=\"text-align: right;\">nan          </td></tr>\n",
       "<tr><td>train_de_6492a0b9</td><td style=\"text-align: right;\">     0.17532   </td><td style=\"text-align: right;\"> -0.157176   </td></tr>\n",
       "<tr><td>train_de_64c17cd8</td><td style=\"text-align: right;\">   inf         </td><td style=\"text-align: right;\">nan          </td></tr>\n",
       "<tr><td>train_de_65823bc2</td><td style=\"text-align: right;\">     0.176214  </td><td style=\"text-align: right;\">  0.148997   </td></tr>\n",
       "<tr><td>train_de_65defd75</td><td style=\"text-align: right;\">     0.173002  </td><td style=\"text-align: right;\">  0.238096   </td></tr>\n",
       "<tr><td>train_de_668fe3d1</td><td style=\"text-align: right;\">   inf         </td><td style=\"text-align: right;\">nan          </td></tr>\n",
       "<tr><td>train_de_670b4901</td><td style=\"text-align: right;\">     0.181196  </td><td style=\"text-align: right;\">  0.556969   </td></tr>\n",
       "<tr><td>train_de_670d9d8f</td><td style=\"text-align: right;\">     0.188013  </td><td style=\"text-align: right;\">  0.12834    </td></tr>\n",
       "<tr><td>train_de_674142e5</td><td style=\"text-align: right;\">     0.191013  </td><td style=\"text-align: right;\">  0.524028   </td></tr>\n",
       "<tr><td>train_de_6770c424</td><td style=\"text-align: right;\">   inf         </td><td style=\"text-align: right;\">nan          </td></tr>\n",
       "<tr><td>train_de_67878578</td><td style=\"text-align: right;\">   inf         </td><td style=\"text-align: right;\">nan          </td></tr>\n",
       "<tr><td>train_de_68f0a5de</td><td style=\"text-align: right;\">     0.151761  </td><td style=\"text-align: right;\">  0.111947   </td></tr>\n",
       "<tr><td>train_de_691306f4</td><td style=\"text-align: right;\">     0.201946  </td><td style=\"text-align: right;\">  0.110624   </td></tr>\n",
       "<tr><td>train_de_694a7aae</td><td style=\"text-align: right;\">     0.191112  </td><td style=\"text-align: right;\"> -0.104136   </td></tr>\n",
       "<tr><td>train_de_69986faa</td><td style=\"text-align: right;\">     0.184442  </td><td style=\"text-align: right;\">  0.255053   </td></tr>\n",
       "<tr><td>train_de_69e24b60</td><td style=\"text-align: right;\">     0.104089  </td><td style=\"text-align: right;\"> -0.283156   </td></tr>\n",
       "<tr><td>train_de_6a288a94</td><td style=\"text-align: right;\">     0.158203  </td><td style=\"text-align: right;\">  0.22613    </td></tr>\n",
       "<tr><td>train_de_6acc8837</td><td style=\"text-align: right;\">     0.177033  </td><td style=\"text-align: right;\">  0.300034   </td></tr>\n",
       "<tr><td>train_de_6d17ea9f</td><td style=\"text-align: right;\">     0.188302  </td><td style=\"text-align: right;\"> -0.0953096  </td></tr>\n",
       "<tr><td>train_de_6ddbac94</td><td style=\"text-align: right;\">   inf         </td><td style=\"text-align: right;\">nan          </td></tr>\n",
       "<tr><td>train_de_6e09a4a7</td><td style=\"text-align: right;\">     0.161913  </td><td style=\"text-align: right;\">  0.366828   </td></tr>\n",
       "<tr><td>train_de_6e751079</td><td style=\"text-align: right;\">     0.19102   </td><td style=\"text-align: right;\">  0.300962   </td></tr>\n",
       "<tr><td>train_de_6eab8026</td><td style=\"text-align: right;\">     0.18513   </td><td style=\"text-align: right;\">  0.0263071  </td></tr>\n",
       "<tr><td>train_de_6ead7f4f</td><td style=\"text-align: right;\">     0.191343  </td><td style=\"text-align: right;\">  0.110681   </td></tr>\n",
       "<tr><td>train_de_716d7f9e</td><td style=\"text-align: right;\">     0.191985  </td><td style=\"text-align: right;\"> -0.217382   </td></tr>\n",
       "<tr><td>train_de_719cdb74</td><td style=\"text-align: right;\">     0.194013  </td><td style=\"text-align: right;\">  0.623598   </td></tr>\n",
       "<tr><td>train_de_726b1851</td><td style=\"text-align: right;\">     0.176219  </td><td style=\"text-align: right;\">  4.34601e-05</td></tr>\n",
       "<tr><td>train_de_73455b65</td><td style=\"text-align: right;\">     0.20756   </td><td style=\"text-align: right;\">  0.27732    </td></tr>\n",
       "<tr><td>train_de_7357b5e0</td><td style=\"text-align: right;\">     0.190612  </td><td style=\"text-align: right;\">  0.232242   </td></tr>\n",
       "<tr><td>train_de_736924e1</td><td style=\"text-align: right;\">   inf         </td><td style=\"text-align: right;\">nan          </td></tr>\n",
       "<tr><td>train_de_73babc85</td><td style=\"text-align: right;\">     0.187585  </td><td style=\"text-align: right;\">  0.15635    </td></tr>\n",
       "<tr><td>train_de_74a29ebb</td><td style=\"text-align: right;\">   inf         </td><td style=\"text-align: right;\">nan          </td></tr>\n",
       "<tr><td>train_de_74b2a20a</td><td style=\"text-align: right;\">     0.188657  </td><td style=\"text-align: right;\">  0.222488   </td></tr>\n",
       "<tr><td>train_de_74b9a3f0</td><td style=\"text-align: right;\">     0.189155  </td><td style=\"text-align: right;\">  0.239548   </td></tr>\n",
       "<tr><td>train_de_74fc4cd2</td><td style=\"text-align: right;\">     0.172263  </td><td style=\"text-align: right;\">  0.083485   </td></tr>\n",
       "<tr><td>train_de_7550fff0</td><td style=\"text-align: right;\">     0.177454  </td><td style=\"text-align: right;\">  0.105671   </td></tr>\n",
       "<tr><td>train_de_75bd7585</td><td style=\"text-align: right;\">     0.169828  </td><td style=\"text-align: right;\">  0.0689807  </td></tr>\n",
       "<tr><td>train_de_77986244</td><td style=\"text-align: right;\">   inf         </td><td style=\"text-align: right;\">nan          </td></tr>\n",
       "<tr><td>train_de_77c911fc</td><td style=\"text-align: right;\">     0.176305  </td><td style=\"text-align: right;\">  0.238901   </td></tr>\n",
       "<tr><td>train_de_77e42663</td><td style=\"text-align: right;\">     0.199175  </td><td style=\"text-align: right;\">  0.307959   </td></tr>\n",
       "<tr><td>train_de_7867561d</td><td style=\"text-align: right;\">     0.171844  </td><td style=\"text-align: right;\">  0.0229534  </td></tr>\n",
       "<tr><td>train_de_78efd493</td><td style=\"text-align: right;\">   inf         </td><td style=\"text-align: right;\">nan          </td></tr>\n",
       "<tr><td>train_de_78f5e4d5</td><td style=\"text-align: right;\">   inf         </td><td style=\"text-align: right;\">nan          </td></tr>\n",
       "<tr><td>train_de_7932216b</td><td style=\"text-align: right;\">     0.186335  </td><td style=\"text-align: right;\">  0.737109   </td></tr>\n",
       "<tr><td>train_de_793db469</td><td style=\"text-align: right;\">     0.182107  </td><td style=\"text-align: right;\">  0.0512932  </td></tr>\n",
       "<tr><td>train_de_79417e16</td><td style=\"text-align: right;\">     0.191108  </td><td style=\"text-align: right;\">  0.16733    </td></tr>\n",
       "<tr><td>train_de_79f3f97a</td><td style=\"text-align: right;\">     0.188957  </td><td style=\"text-align: right;\"> -0.142899   </td></tr>\n",
       "<tr><td>train_de_7b5ef8ce</td><td style=\"text-align: right;\">     0.184761  </td><td style=\"text-align: right;\">  0.209572   </td></tr>\n",
       "<tr><td>train_de_7d829c91</td><td style=\"text-align: right;\">     0.178518  </td><td style=\"text-align: right;\">  0.50765    </td></tr>\n",
       "<tr><td>train_de_7d843c1b</td><td style=\"text-align: right;\">     0.168384  </td><td style=\"text-align: right;\">  0.0618643  </td></tr>\n",
       "<tr><td>train_de_7eafdb44</td><td style=\"text-align: right;\">     0.193607  </td><td style=\"text-align: right;\">  0.096627   </td></tr>\n",
       "<tr><td>train_de_7f0f41b4</td><td style=\"text-align: right;\">     0.158241  </td><td style=\"text-align: right;\">  0.103551   </td></tr>\n",
       "<tr><td>train_de_7f3bf46f</td><td style=\"text-align: right;\">     0.186916  </td><td style=\"text-align: right;\"> -0.0467313  </td></tr>\n",
       "<tr><td>train_de_8030d1b9</td><td style=\"text-align: right;\">     0.189573  </td><td style=\"text-align: right;\">  0.359438   </td></tr>\n",
       "<tr><td>train_de_818608b3</td><td style=\"text-align: right;\">     0.179002  </td><td style=\"text-align: right;\">  0.326764   </td></tr>\n",
       "<tr><td>train_de_82a94404</td><td style=\"text-align: right;\">     0.187728  </td><td style=\"text-align: right;\">  0.0935507  </td></tr>\n",
       "<tr><td>train_de_83295579</td><td style=\"text-align: right;\">     0.181452  </td><td style=\"text-align: right;\">  0.148942   </td></tr>\n",
       "<tr><td>train_de_839e3c46</td><td style=\"text-align: right;\">     0.175681  </td><td style=\"text-align: right;\"> -0.141548   </td></tr>\n",
       "<tr><td>train_de_83a63a55</td><td style=\"text-align: right;\">     0.260118  </td><td style=\"text-align: right;\">nan          </td></tr>\n",
       "<tr><td>train_de_8435d3f0</td><td style=\"text-align: right;\">     0.175275  </td><td style=\"text-align: right;\">  0.325207   </td></tr>\n",
       "<tr><td>train_de_84c14d09</td><td style=\"text-align: right;\">     0.192492  </td><td style=\"text-align: right;\">  0.177541   </td></tr>\n",
       "<tr><td>train_de_84ca5252</td><td style=\"text-align: right;\">   inf         </td><td style=\"text-align: right;\">nan          </td></tr>\n",
       "<tr><td>train_de_84d4545d</td><td style=\"text-align: right;\">     0.181781  </td><td style=\"text-align: right;\">  0.347251   </td></tr>\n",
       "<tr><td>train_de_84f131f3</td><td style=\"text-align: right;\">     0.191019  </td><td style=\"text-align: right;\"> -0.0283051  </td></tr>\n",
       "<tr><td>train_de_854f823e</td><td style=\"text-align: right;\">     0.160543  </td><td style=\"text-align: right;\">  0.20553    </td></tr>\n",
       "<tr><td>train_de_857f185c</td><td style=\"text-align: right;\">     0.191795  </td><td style=\"text-align: right;\">  0.555685   </td></tr>\n",
       "<tr><td>train_de_85934767</td><td style=\"text-align: right;\">   inf         </td><td style=\"text-align: right;\">nan          </td></tr>\n",
       "<tr><td>train_de_87f76966</td><td style=\"text-align: right;\">     0.0940223 </td><td style=\"text-align: right;\"> -0.0182463  </td></tr>\n",
       "<tr><td>train_de_895f1f74</td><td style=\"text-align: right;\">     0.172005  </td><td style=\"text-align: right;\">  0.0317449  </td></tr>\n",
       "<tr><td>train_de_89610e8a</td><td style=\"text-align: right;\">   inf         </td><td style=\"text-align: right;\">nan          </td></tr>\n",
       "<tr><td>train_de_8979f917</td><td style=\"text-align: right;\">   inf         </td><td style=\"text-align: right;\">nan          </td></tr>\n",
       "<tr><td>train_de_8a3ea531</td><td style=\"text-align: right;\">   inf         </td><td style=\"text-align: right;\">nan          </td></tr>\n",
       "<tr><td>train_de_8ae7bf30</td><td style=\"text-align: right;\">     0.191155  </td><td style=\"text-align: right;\">  0.385245   </td></tr>\n",
       "<tr><td>train_de_8b21663c</td><td style=\"text-align: right;\">     0.192565  </td><td style=\"text-align: right;\">  0.376755   </td></tr>\n",
       "<tr><td>train_de_8b998c4e</td><td style=\"text-align: right;\">     0.173856  </td><td style=\"text-align: right;\">  0.568672   </td></tr>\n",
       "<tr><td>train_de_8beb3cd2</td><td style=\"text-align: right;\">     0.185528  </td><td style=\"text-align: right;\">  0.402933   </td></tr>\n",
       "<tr><td>train_de_8bedff10</td><td style=\"text-align: right;\">     2.76339   </td><td style=\"text-align: right;\">nan          </td></tr>\n",
       "<tr><td>train_de_8c80979f</td><td style=\"text-align: right;\">     0.183132  </td><td style=\"text-align: right;\">  0.329038   </td></tr>\n",
       "<tr><td>train_de_8cbf3fef</td><td style=\"text-align: right;\">     0.182567  </td><td style=\"text-align: right;\">  0.251333   </td></tr>\n",
       "<tr><td>train_de_8dbc3718</td><td style=\"text-align: right;\">     0.189422  </td><td style=\"text-align: right;\"> -0.216887   </td></tr>\n",
       "<tr><td>train_de_8eb7dae6</td><td style=\"text-align: right;\">     0.178598  </td><td style=\"text-align: right;\">  0.517115   </td></tr>\n",
       "<tr><td>train_de_8ededf10</td><td style=\"text-align: right;\">     0.189875  </td><td style=\"text-align: right;\">  0.488358   </td></tr>\n",
       "<tr><td>train_de_8ef96a7c</td><td style=\"text-align: right;\">     0.180994  </td><td style=\"text-align: right;\">  0.232154   </td></tr>\n",
       "<tr><td>train_de_8ef9da6d</td><td style=\"text-align: right;\">     0.186605  </td><td style=\"text-align: right;\">  0.242062   </td></tr>\n",
       "<tr><td>train_de_8f5c31b3</td><td style=\"text-align: right;\">     0.0673091 </td><td style=\"text-align: right;\">  0.473724   </td></tr>\n",
       "<tr><td>train_de_8fd8d719</td><td style=\"text-align: right;\">   inf         </td><td style=\"text-align: right;\">nan          </td></tr>\n",
       "<tr><td>train_de_90df8a93</td><td style=\"text-align: right;\">   inf         </td><td style=\"text-align: right;\">nan          </td></tr>\n",
       "<tr><td>train_de_90e66f3d</td><td style=\"text-align: right;\">     0.191035  </td><td style=\"text-align: right;\"> -0.208052   </td></tr>\n",
       "<tr><td>train_de_920b63e2</td><td style=\"text-align: right;\">     0.191479  </td><td style=\"text-align: right;\">  0.03856    </td></tr>\n",
       "<tr><td>train_de_92206c2d</td><td style=\"text-align: right;\">     0.884364  </td><td style=\"text-align: right;\">nan          </td></tr>\n",
       "<tr><td>train_de_93621275</td><td style=\"text-align: right;\">   inf         </td><td style=\"text-align: right;\">nan          </td></tr>\n",
       "<tr><td>train_de_93a95290</td><td style=\"text-align: right;\">   inf         </td><td style=\"text-align: right;\">nan          </td></tr>\n",
       "<tr><td>train_de_93eaf335</td><td style=\"text-align: right;\">   inf         </td><td style=\"text-align: right;\">nan          </td></tr>\n",
       "<tr><td>train_de_9469c7f2</td><td style=\"text-align: right;\">     0.157689  </td><td style=\"text-align: right;\"> -0.10697    </td></tr>\n",
       "<tr><td>train_de_94aa4214</td><td style=\"text-align: right;\">   inf         </td><td style=\"text-align: right;\">nan          </td></tr>\n",
       "<tr><td>train_de_94ba50d9</td><td style=\"text-align: right;\">     0.185775  </td><td style=\"text-align: right;\"> -0.146959   </td></tr>\n",
       "<tr><td>train_de_950c87f3</td><td style=\"text-align: right;\">     0.178159  </td><td style=\"text-align: right;\">  0.3002     </td></tr>\n",
       "<tr><td>train_de_9519384a</td><td style=\"text-align: right;\">     0.191098  </td><td style=\"text-align: right;\">  0.424981   </td></tr>\n",
       "<tr><td>train_de_957655d0</td><td style=\"text-align: right;\">     0.17902   </td><td style=\"text-align: right;\">  0.203584   </td></tr>\n",
       "<tr><td>train_de_95b9f8d5</td><td style=\"text-align: right;\">     0.193682  </td><td style=\"text-align: right;\">  0.422717   </td></tr>\n",
       "<tr><td>train_de_968382f6</td><td style=\"text-align: right;\">   inf         </td><td style=\"text-align: right;\">nan          </td></tr>\n",
       "<tr><td>train_de_97505729</td><td style=\"text-align: right;\">     0.210394  </td><td style=\"text-align: right;\">  0.220302   </td></tr>\n",
       "<tr><td>train_de_97610ff6</td><td style=\"text-align: right;\">     0.191865  </td><td style=\"text-align: right;\">  0.139995   </td></tr>\n",
       "<tr><td>train_de_9829da2f</td><td style=\"text-align: right;\">     0.177922  </td><td style=\"text-align: right;\"> -0.103611   </td></tr>\n",
       "<tr><td>train_de_984a5752</td><td style=\"text-align: right;\">     0.185629  </td><td style=\"text-align: right;\">  0.0340848  </td></tr>\n",
       "<tr><td>train_de_98ce2eaa</td><td style=\"text-align: right;\">     0.190954  </td><td style=\"text-align: right;\">  0.255468   </td></tr>\n",
       "<tr><td>train_de_99063514</td><td style=\"text-align: right;\">     0.161829  </td><td style=\"text-align: right;\">  0.232205   </td></tr>\n",
       "<tr><td>train_de_997d17eb</td><td style=\"text-align: right;\">   inf         </td><td style=\"text-align: right;\">nan          </td></tr>\n",
       "<tr><td>train_de_9a26cf33</td><td style=\"text-align: right;\">   inf         </td><td style=\"text-align: right;\">nan          </td></tr>\n",
       "<tr><td>train_de_9a50eefe</td><td style=\"text-align: right;\">     0.189193  </td><td style=\"text-align: right;\">  0.303005   </td></tr>\n",
       "<tr><td>train_de_9c1cdaeb</td><td style=\"text-align: right;\">   inf         </td><td style=\"text-align: right;\">nan          </td></tr>\n",
       "<tr><td>train_de_9c308cd0</td><td style=\"text-align: right;\">     0.202208  </td><td style=\"text-align: right;\">  0.328427   </td></tr>\n",
       "<tr><td>train_de_9c69dd4b</td><td style=\"text-align: right;\">     0.19102   </td><td style=\"text-align: right;\">  0.366061   </td></tr>\n",
       "<tr><td>train_de_9d0f1530</td><td style=\"text-align: right;\">     0.192153  </td><td style=\"text-align: right;\">  0.0268     </td></tr>\n",
       "<tr><td>train_de_9dcad353</td><td style=\"text-align: right;\">     0.177544  </td><td style=\"text-align: right;\">  0.0557448  </td></tr>\n",
       "<tr><td>train_de_9e382198</td><td style=\"text-align: right;\">   inf         </td><td style=\"text-align: right;\">nan          </td></tr>\n",
       "<tr><td>train_de_9e4db523</td><td style=\"text-align: right;\">     0.191135  </td><td style=\"text-align: right;\"> -0.0677387  </td></tr>\n",
       "<tr><td>train_de_9e5bafe1</td><td style=\"text-align: right;\">     0.156516  </td><td style=\"text-align: right;\">  0.140677   </td></tr>\n",
       "<tr><td>train_de_9e92afb0</td><td style=\"text-align: right;\">     0.191557  </td><td style=\"text-align: right;\"> -0.0392053  </td></tr>\n",
       "<tr><td>train_de_9f74311d</td><td style=\"text-align: right;\">   inf         </td><td style=\"text-align: right;\">nan          </td></tr>\n",
       "<tr><td>train_de_9fb541a7</td><td style=\"text-align: right;\">     0.171426  </td><td style=\"text-align: right;\"> -0.191065   </td></tr>\n",
       "<tr><td>train_de_9ff3fa46</td><td style=\"text-align: right;\">     0.182554  </td><td style=\"text-align: right;\"> -0.275776   </td></tr>\n",
       "<tr><td>train_de_a075e9c9</td><td style=\"text-align: right;\">   inf         </td><td style=\"text-align: right;\">nan          </td></tr>\n",
       "<tr><td>train_de_a0baec28</td><td style=\"text-align: right;\">   inf         </td><td style=\"text-align: right;\">nan          </td></tr>\n",
       "<tr><td>train_de_a0de3180</td><td style=\"text-align: right;\">     0.201793  </td><td style=\"text-align: right;\">nan          </td></tr>\n",
       "<tr><td>train_de_a15b5ee6</td><td style=\"text-align: right;\">     0.191024  </td><td style=\"text-align: right;\">  0.689063   </td></tr>\n",
       "<tr><td>train_de_a261cf2a</td><td style=\"text-align: right;\">   inf         </td><td style=\"text-align: right;\">nan          </td></tr>\n",
       "<tr><td>train_de_a2e8b3c9</td><td style=\"text-align: right;\">     0.19046   </td><td style=\"text-align: right;\">  0.0129892  </td></tr>\n",
       "<tr><td>train_de_a37ce3cb</td><td style=\"text-align: right;\">   inf         </td><td style=\"text-align: right;\">nan          </td></tr>\n",
       "<tr><td>train_de_a4669e42</td><td style=\"text-align: right;\">     0.161293  </td><td style=\"text-align: right;\">  0.0661615  </td></tr>\n",
       "<tr><td>train_de_a4a9bd7a</td><td style=\"text-align: right;\">     0.165764  </td><td style=\"text-align: right;\">  0.394873   </td></tr>\n",
       "<tr><td>train_de_a6444769</td><td style=\"text-align: right;\">   inf         </td><td style=\"text-align: right;\">nan          </td></tr>\n",
       "<tr><td>train_de_a659f85a</td><td style=\"text-align: right;\">     0.183947  </td><td style=\"text-align: right;\">  0.056279   </td></tr>\n",
       "<tr><td>train_de_a6f83cb5</td><td style=\"text-align: right;\">     0.181141  </td><td style=\"text-align: right;\">  0.122885   </td></tr>\n",
       "<tr><td>train_de_a811c604</td><td style=\"text-align: right;\">     0.186062  </td><td style=\"text-align: right;\">  0.204121   </td></tr>\n",
       "<tr><td>train_de_a8736f2d</td><td style=\"text-align: right;\">     0.158433  </td><td style=\"text-align: right;\">  0.0234763  </td></tr>\n",
       "<tr><td>train_de_a8a67bc9</td><td style=\"text-align: right;\">     0.176864  </td><td style=\"text-align: right;\">  0.0835728  </td></tr>\n",
       "<tr><td>train_de_a9ac0fe6</td><td style=\"text-align: right;\">     0.327617  </td><td style=\"text-align: right;\">  1.14272    </td></tr>\n",
       "<tr><td>train_de_a9e04ee6</td><td style=\"text-align: right;\">     0.175524  </td><td style=\"text-align: right;\">  0.268729   </td></tr>\n",
       "<tr><td>train_de_aad798e8</td><td style=\"text-align: right;\">     0.189073  </td><td style=\"text-align: right;\"> -0.0603344  </td></tr>\n",
       "<tr><td>train_de_ab1cbd87</td><td style=\"text-align: right;\">   inf         </td><td style=\"text-align: right;\">nan          </td></tr>\n",
       "<tr><td>train_de_ad54ce86</td><td style=\"text-align: right;\">     0.194319  </td><td style=\"text-align: right;\"> -0.191944   </td></tr>\n",
       "<tr><td>train_de_ae20415f</td><td style=\"text-align: right;\">     0.190313  </td><td style=\"text-align: right;\"> -0.0604555  </td></tr>\n",
       "<tr><td>train_de_ae94231c</td><td style=\"text-align: right;\">     0.176792  </td><td style=\"text-align: right;\">  0.19874    </td></tr>\n",
       "<tr><td>train_de_af207cc5</td><td style=\"text-align: right;\">     0.18332   </td><td style=\"text-align: right;\">  0.0279845  </td></tr>\n",
       "<tr><td>train_de_af2810cb</td><td style=\"text-align: right;\">     0.18783   </td><td style=\"text-align: right;\">  0.391936   </td></tr>\n",
       "<tr><td>train_de_aff4355c</td><td style=\"text-align: right;\">   inf         </td><td style=\"text-align: right;\">nan          </td></tr>\n",
       "<tr><td>train_de_b082a772</td><td style=\"text-align: right;\">     0.209869  </td><td style=\"text-align: right;\">nan          </td></tr>\n",
       "<tr><td>train_de_b0a3569b</td><td style=\"text-align: right;\">     0.0312676 </td><td style=\"text-align: right;\"> -0.000537097</td></tr>\n",
       "<tr><td>train_de_b131c32f</td><td style=\"text-align: right;\">     0.191146  </td><td style=\"text-align: right;\">  0.243453   </td></tr>\n",
       "<tr><td>train_de_b21d87c8</td><td style=\"text-align: right;\">   inf         </td><td style=\"text-align: right;\">nan          </td></tr>\n",
       "<tr><td>train_de_b37a0f83</td><td style=\"text-align: right;\">     0.189629  </td><td style=\"text-align: right;\">  0.270767   </td></tr>\n",
       "<tr><td>train_de_b388fd95</td><td style=\"text-align: right;\">     0.180013  </td><td style=\"text-align: right;\">  0.167585   </td></tr>\n",
       "<tr><td>train_de_b3cb3f4a</td><td style=\"text-align: right;\">     0.186893  </td><td style=\"text-align: right;\">  0.172497   </td></tr>\n",
       "<tr><td>train_de_b56787b0</td><td style=\"text-align: right;\">   inf         </td><td style=\"text-align: right;\">nan          </td></tr>\n",
       "<tr><td>train_de_b5d5b003</td><td style=\"text-align: right;\">   inf         </td><td style=\"text-align: right;\">nan          </td></tr>\n",
       "<tr><td>train_de_b5f5659d</td><td style=\"text-align: right;\">     0.185687  </td><td style=\"text-align: right;\">  0.137065   </td></tr>\n",
       "<tr><td>train_de_b616f92a</td><td style=\"text-align: right;\">     0.199449  </td><td style=\"text-align: right;\"> -0.00192073 </td></tr>\n",
       "<tr><td>train_de_b64cc522</td><td style=\"text-align: right;\">     0.167845  </td><td style=\"text-align: right;\">  0.430931   </td></tr>\n",
       "<tr><td>train_de_b6c11784</td><td style=\"text-align: right;\">    -0.801474  </td><td style=\"text-align: right;\"> -0.647427   </td></tr>\n",
       "<tr><td>train_de_b73cb637</td><td style=\"text-align: right;\">     0.184679  </td><td style=\"text-align: right;\">  0.213908   </td></tr>\n",
       "<tr><td>train_de_b78c5ea7</td><td style=\"text-align: right;\">     0.187887  </td><td style=\"text-align: right;\">  0.220164   </td></tr>\n",
       "<tr><td>train_de_b8017a68</td><td style=\"text-align: right;\">   inf         </td><td style=\"text-align: right;\">nan          </td></tr>\n",
       "<tr><td>train_de_b84f3c7a</td><td style=\"text-align: right;\">     0.192072  </td><td style=\"text-align: right;\">  0.0371643  </td></tr>\n",
       "<tr><td>train_de_b914b723</td><td style=\"text-align: right;\">     0.169532  </td><td style=\"text-align: right;\"> -0.10811    </td></tr>\n",
       "<tr><td>train_de_ba1bf52c</td><td style=\"text-align: right;\">   inf         </td><td style=\"text-align: right;\">nan          </td></tr>\n",
       "<tr><td>train_de_ba1cc9ba</td><td style=\"text-align: right;\">    -0.0562648 </td><td style=\"text-align: right;\">  0.296391   </td></tr>\n",
       "<tr><td>train_de_ba358839</td><td style=\"text-align: right;\">     0.0924573 </td><td style=\"text-align: right;\">  0.320537   </td></tr>\n",
       "<tr><td>train_de_ba623450</td><td style=\"text-align: right;\">     0.18257   </td><td style=\"text-align: right;\">  0.113724   </td></tr>\n",
       "<tr><td>train_de_baf86aaa</td><td style=\"text-align: right;\">     0.183238  </td><td style=\"text-align: right;\">  0.228199   </td></tr>\n",
       "<tr><td>train_de_bbdb7ff4</td><td style=\"text-align: right;\">     0.18189   </td><td style=\"text-align: right;\">  0.338749   </td></tr>\n",
       "<tr><td>train_de_bbf5ba6a</td><td style=\"text-align: right;\">     0.166143  </td><td style=\"text-align: right;\">  0.253255   </td></tr>\n",
       "<tr><td>train_de_bc0c72ea</td><td style=\"text-align: right;\">     0.170769  </td><td style=\"text-align: right;\">  0.122395   </td></tr>\n",
       "<tr><td>train_de_bce74617</td><td style=\"text-align: right;\">     0.193874  </td><td style=\"text-align: right;\"> -0.114773   </td></tr>\n",
       "<tr><td>train_de_bd69aa4d</td><td style=\"text-align: right;\">   inf         </td><td style=\"text-align: right;\">nan          </td></tr>\n",
       "<tr><td>train_de_bdaafb18</td><td style=\"text-align: right;\">     0.204734  </td><td style=\"text-align: right;\">  0.132261   </td></tr>\n",
       "<tr><td>train_de_bee1bd9b</td><td style=\"text-align: right;\">   inf         </td><td style=\"text-align: right;\">nan          </td></tr>\n",
       "<tr><td>train_de_bf187d4e</td><td style=\"text-align: right;\">   inf         </td><td style=\"text-align: right;\">nan          </td></tr>\n",
       "<tr><td>train_de_bf2688f3</td><td style=\"text-align: right;\">     0.00980279</td><td style=\"text-align: right;\"> -0.0493669  </td></tr>\n",
       "<tr><td>train_de_bf2aec3d</td><td style=\"text-align: right;\">     0.184841  </td><td style=\"text-align: right;\">  0.288526   </td></tr>\n",
       "<tr><td>train_de_bf4166dc</td><td style=\"text-align: right;\">   inf         </td><td style=\"text-align: right;\">nan          </td></tr>\n",
       "<tr><td>train_de_bffd0447</td><td style=\"text-align: right;\">   inf         </td><td style=\"text-align: right;\">nan          </td></tr>\n",
       "<tr><td>train_de_c03b9742</td><td style=\"text-align: right;\">     0.177334  </td><td style=\"text-align: right;\"> -0.213573   </td></tr>\n",
       "<tr><td>train_de_c07e1f73</td><td style=\"text-align: right;\">     0.193259  </td><td style=\"text-align: right;\">  0.278125   </td></tr>\n",
       "<tr><td>train_de_c09d71f2</td><td style=\"text-align: right;\">   inf         </td><td style=\"text-align: right;\">nan          </td></tr>\n",
       "<tr><td>train_de_c0e462d8</td><td style=\"text-align: right;\">     0.172441  </td><td style=\"text-align: right;\">  0.185157   </td></tr>\n",
       "<tr><td>train_de_c1975ea8</td><td style=\"text-align: right;\">     0.18688   </td><td style=\"text-align: right;\">  0.148683   </td></tr>\n",
       "<tr><td>train_de_c219102f</td><td style=\"text-align: right;\">     0.240024  </td><td style=\"text-align: right;\">nan          </td></tr>\n",
       "<tr><td>train_de_c296338f</td><td style=\"text-align: right;\">     0.185457  </td><td style=\"text-align: right;\">  0.0890824  </td></tr>\n",
       "<tr><td>train_de_c2a7502d</td><td style=\"text-align: right;\">     0.198903  </td><td style=\"text-align: right;\">  0.330422   </td></tr>\n",
       "<tr><td>train_de_c2c161fa</td><td style=\"text-align: right;\">     0.176488  </td><td style=\"text-align: right;\"> -0.0546174  </td></tr>\n",
       "<tr><td>train_de_c2ecfc97</td><td style=\"text-align: right;\">     0.188899  </td><td style=\"text-align: right;\">  0.0858027  </td></tr>\n",
       "<tr><td>train_de_c3099a3c</td><td style=\"text-align: right;\">     0.188642  </td><td style=\"text-align: right;\">  0.0811931  </td></tr>\n",
       "<tr><td>train_de_c34d9c65</td><td style=\"text-align: right;\">     0.188245  </td><td style=\"text-align: right;\">  0.212797   </td></tr>\n",
       "<tr><td>train_de_c365689d</td><td style=\"text-align: right;\">     0.155502  </td><td style=\"text-align: right;\">  0.191252   </td></tr>\n",
       "<tr><td>train_de_c3834213</td><td style=\"text-align: right;\">     0.195239  </td><td style=\"text-align: right;\"> -0.224945   </td></tr>\n",
       "<tr><td>train_de_c5164987</td><td style=\"text-align: right;\">     0.191951  </td><td style=\"text-align: right;\"> -0.160537   </td></tr>\n",
       "<tr><td>train_de_c52b7802</td><td style=\"text-align: right;\">   inf         </td><td style=\"text-align: right;\">nan          </td></tr>\n",
       "<tr><td>train_de_c5bd6e3a</td><td style=\"text-align: right;\">     0.187713  </td><td style=\"text-align: right;\">  0.524666   </td></tr>\n",
       "<tr><td>train_de_c607869c</td><td style=\"text-align: right;\">     0.176713  </td><td style=\"text-align: right;\">  0.0458336  </td></tr>\n",
       "<tr><td>train_de_c6fc4511</td><td style=\"text-align: right;\">     0.191358  </td><td style=\"text-align: right;\">  0.320714   </td></tr>\n",
       "<tr><td>train_de_c7908165</td><td style=\"text-align: right;\">     0.184504  </td><td style=\"text-align: right;\">  0.237035   </td></tr>\n",
       "<tr><td>train_de_c7f52bbf</td><td style=\"text-align: right;\">   inf         </td><td style=\"text-align: right;\">nan          </td></tr>\n",
       "<tr><td>train_de_c80ee9f7</td><td style=\"text-align: right;\">     0.180378  </td><td style=\"text-align: right;\">  0.120757   </td></tr>\n",
       "<tr><td>train_de_c877517a</td><td style=\"text-align: right;\">     0.165991  </td><td style=\"text-align: right;\">  0.0334106  </td></tr>\n",
       "<tr><td>train_de_c8d21158</td><td style=\"text-align: right;\">     0.188405  </td><td style=\"text-align: right;\">  0.288575   </td></tr>\n",
       "<tr><td>train_de_c9060847</td><td style=\"text-align: right;\">   inf         </td><td style=\"text-align: right;\">nan          </td></tr>\n",
       "<tr><td>train_de_c9d9e3b8</td><td style=\"text-align: right;\">     0.185671  </td><td style=\"text-align: right;\">  0.42315    </td></tr>\n",
       "<tr><td>train_de_cae59717</td><td style=\"text-align: right;\">     0.184997  </td><td style=\"text-align: right;\">  0.0265014  </td></tr>\n",
       "<tr><td>train_de_cb867632</td><td style=\"text-align: right;\">    -2.14819   </td><td style=\"text-align: right;\"> -2.19797    </td></tr>\n",
       "<tr><td>train_de_cc418426</td><td style=\"text-align: right;\">     0.171451  </td><td style=\"text-align: right;\">  0.285959   </td></tr>\n",
       "<tr><td>train_de_cd2b9260</td><td style=\"text-align: right;\">     0.182237  </td><td style=\"text-align: right;\">  0.332791   </td></tr>\n",
       "<tr><td>train_de_cd7a9b17</td><td style=\"text-align: right;\">     0.188756  </td><td style=\"text-align: right;\">  0.0167091  </td></tr>\n",
       "<tr><td>train_de_ce89177b</td><td style=\"text-align: right;\">   inf         </td><td style=\"text-align: right;\">nan          </td></tr>\n",
       "<tr><td>train_de_d08d6b59</td><td style=\"text-align: right;\">   inf         </td><td style=\"text-align: right;\">nan          </td></tr>\n",
       "<tr><td>train_de_d0d37e4b</td><td style=\"text-align: right;\">     0.192068  </td><td style=\"text-align: right;\">  0.145848   </td></tr>\n",
       "<tr><td>train_de_d19052b2</td><td style=\"text-align: right;\">     0.176722  </td><td style=\"text-align: right;\"> -0.260823   </td></tr>\n",
       "<tr><td>train_de_d20a55ef</td><td style=\"text-align: right;\">   inf         </td><td style=\"text-align: right;\">nan          </td></tr>\n",
       "<tr><td>train_de_d271bfe1</td><td style=\"text-align: right;\">     0.176392  </td><td style=\"text-align: right;\">  0.262019   </td></tr>\n",
       "<tr><td>train_de_d2970897</td><td style=\"text-align: right;\">   inf         </td><td style=\"text-align: right;\">nan          </td></tr>\n",
       "<tr><td>train_de_d36e43a8</td><td style=\"text-align: right;\">   inf         </td><td style=\"text-align: right;\">nan          </td></tr>\n",
       "<tr><td>train_de_d3dda215</td><td style=\"text-align: right;\">   inf         </td><td style=\"text-align: right;\">nan          </td></tr>\n",
       "<tr><td>train_de_d3fcd51b</td><td style=\"text-align: right;\">     0.189187  </td><td style=\"text-align: right;\">  0.187707   </td></tr>\n",
       "<tr><td>train_de_d42bc068</td><td style=\"text-align: right;\">     0.189837  </td><td style=\"text-align: right;\"> -0.100723   </td></tr>\n",
       "<tr><td>train_de_d4cdfa9e</td><td style=\"text-align: right;\">     0.191056  </td><td style=\"text-align: right;\">  0.0927754  </td></tr>\n",
       "<tr><td>train_de_d6f50907</td><td style=\"text-align: right;\">     0.190135  </td><td style=\"text-align: right;\">  0.323457   </td></tr>\n",
       "<tr><td>train_de_d7105ca5</td><td style=\"text-align: right;\">     0.193296  </td><td style=\"text-align: right;\">  0.292302   </td></tr>\n",
       "<tr><td>train_de_d73e48af</td><td style=\"text-align: right;\">   inf         </td><td style=\"text-align: right;\">nan          </td></tr>\n",
       "<tr><td>train_de_d7944a84</td><td style=\"text-align: right;\">     0.180755  </td><td style=\"text-align: right;\">  0.280145   </td></tr>\n",
       "<tr><td>train_de_d7e7966f</td><td style=\"text-align: right;\">   inf         </td><td style=\"text-align: right;\">nan          </td></tr>\n",
       "<tr><td>train_de_d8cc7473</td><td style=\"text-align: right;\">   inf         </td><td style=\"text-align: right;\">nan          </td></tr>\n",
       "<tr><td>train_de_d9179404</td><td style=\"text-align: right;\">     0.18196   </td><td style=\"text-align: right;\"> -0.114472   </td></tr>\n",
       "<tr><td>train_de_d93018dd</td><td style=\"text-align: right;\">   inf         </td><td style=\"text-align: right;\">nan          </td></tr>\n",
       "<tr><td>train_de_d9d97188</td><td style=\"text-align: right;\">     0.186301  </td><td style=\"text-align: right;\">  0.223351   </td></tr>\n",
       "<tr><td>train_de_da575a68</td><td style=\"text-align: right;\">     0.19217   </td><td style=\"text-align: right;\">  0.183154   </td></tr>\n",
       "<tr><td>train_de_db2c39f4</td><td style=\"text-align: right;\">     0.179268  </td><td style=\"text-align: right;\">  0.22759    </td></tr>\n",
       "<tr><td>train_de_dbfb6169</td><td style=\"text-align: right;\">     0.160006  </td><td style=\"text-align: right;\">  0.307847   </td></tr>\n",
       "<tr><td>train_de_dc1e3aeb</td><td style=\"text-align: right;\">   inf         </td><td style=\"text-align: right;\">nan          </td></tr>\n",
       "<tr><td>train_de_dd8fe123</td><td style=\"text-align: right;\">     0.194975  </td><td style=\"text-align: right;\">  0.368747   </td></tr>\n",
       "<tr><td>train_de_dd9aba63</td><td style=\"text-align: right;\">     0.187528  </td><td style=\"text-align: right;\">  0.323029   </td></tr>\n",
       "<tr><td>train_de_dfeab029</td><td style=\"text-align: right;\">     0.191153  </td><td style=\"text-align: right;\"> -0.16152    </td></tr>\n",
       "<tr><td>train_de_e03ba696</td><td style=\"text-align: right;\">     0.191052  </td><td style=\"text-align: right;\"> -0.274598   </td></tr>\n",
       "<tr><td>train_de_e0993e46</td><td style=\"text-align: right;\">     0.171854  </td><td style=\"text-align: right;\">  0.0313013  </td></tr>\n",
       "<tr><td>train_de_e106d6f0</td><td style=\"text-align: right;\">   inf         </td><td style=\"text-align: right;\">nan          </td></tr>\n",
       "<tr><td>train_de_e168207e</td><td style=\"text-align: right;\">     0.190907  </td><td style=\"text-align: right;\">  0.802505   </td></tr>\n",
       "<tr><td>train_de_e303cd69</td><td style=\"text-align: right;\">     0.182367  </td><td style=\"text-align: right;\"> -0.122174   </td></tr>\n",
       "<tr><td>train_de_e49377ea</td><td style=\"text-align: right;\">   inf         </td><td style=\"text-align: right;\">nan          </td></tr>\n",
       "<tr><td>train_de_e4c4173c</td><td style=\"text-align: right;\">     0.156932  </td><td style=\"text-align: right;\">  0.106644   </td></tr>\n",
       "<tr><td>train_de_e5b4a090</td><td style=\"text-align: right;\">     2.61287   </td><td style=\"text-align: right;\">nan          </td></tr>\n",
       "<tr><td>train_de_e73b073e</td><td style=\"text-align: right;\">   inf         </td><td style=\"text-align: right;\">nan          </td></tr>\n",
       "<tr><td>train_de_e86c214b</td><td style=\"text-align: right;\">     0.178297  </td><td style=\"text-align: right;\">  0.226963   </td></tr>\n",
       "<tr><td>train_de_e8f17c80</td><td style=\"text-align: right;\">     4.22636   </td><td style=\"text-align: right;\">nan          </td></tr>\n",
       "<tr><td>train_de_e99cd703</td><td style=\"text-align: right;\">     0.19114   </td><td style=\"text-align: right;\">  0.105447   </td></tr>\n",
       "<tr><td>train_de_ea44a7b2</td><td style=\"text-align: right;\">     0.184351  </td><td style=\"text-align: right;\">  0.291762   </td></tr>\n",
       "<tr><td>train_de_ea668b84</td><td style=\"text-align: right;\">     1.63645   </td><td style=\"text-align: right;\">nan          </td></tr>\n",
       "<tr><td>train_de_ea771e29</td><td style=\"text-align: right;\">     0.182967  </td><td style=\"text-align: right;\">  0.0897127  </td></tr>\n",
       "<tr><td>train_de_ea826a8f</td><td style=\"text-align: right;\">     0.184951  </td><td style=\"text-align: right;\">  0.219253   </td></tr>\n",
       "<tr><td>train_de_eb4a4caf</td><td style=\"text-align: right;\">     0.173707  </td><td style=\"text-align: right;\">  0.4233     </td></tr>\n",
       "<tr><td>train_de_eba94f02</td><td style=\"text-align: right;\">     0.191443  </td><td style=\"text-align: right;\">  0.252682   </td></tr>\n",
       "<tr><td>train_de_ec631b4e</td><td style=\"text-align: right;\">     0.170429  </td><td style=\"text-align: right;\">  0.124215   </td></tr>\n",
       "<tr><td>train_de_ecf6dae7</td><td style=\"text-align: right;\">     0.177995  </td><td style=\"text-align: right;\"> -0.171912   </td></tr>\n",
       "<tr><td>train_de_ed5c2e13</td><td style=\"text-align: right;\">     0.185719  </td><td style=\"text-align: right;\"> -0.00120076 </td></tr>\n",
       "<tr><td>train_de_ed7b214b</td><td style=\"text-align: right;\">     0.181073  </td><td style=\"text-align: right;\">  0.150302   </td></tr>\n",
       "<tr><td>train_de_edb68a02</td><td style=\"text-align: right;\">     0.180519  </td><td style=\"text-align: right;\">  0.17511    </td></tr>\n",
       "<tr><td>train_de_ee0ab8dd</td><td style=\"text-align: right;\">     0.284295  </td><td style=\"text-align: right;\">  0.724403   </td></tr>\n",
       "<tr><td>train_de_ee33e711</td><td style=\"text-align: right;\">     0.18621   </td><td style=\"text-align: right;\">  0.620516   </td></tr>\n",
       "<tr><td>train_de_ee5d5f7a</td><td style=\"text-align: right;\">     0.187041  </td><td style=\"text-align: right;\"> -0.0136843  </td></tr>\n",
       "<tr><td>train_de_ef157663</td><td style=\"text-align: right;\">     0.186691  </td><td style=\"text-align: right;\">  0.112662   </td></tr>\n",
       "<tr><td>train_de_ef55f8bc</td><td style=\"text-align: right;\">     0.157268  </td><td style=\"text-align: right;\">  0.0459141  </td></tr>\n",
       "<tr><td>train_de_ef996992</td><td style=\"text-align: right;\">     4.64897   </td><td style=\"text-align: right;\">nan          </td></tr>\n",
       "<tr><td>train_de_efb346ee</td><td style=\"text-align: right;\">     0.193222  </td><td style=\"text-align: right;\">  0.38758    </td></tr>\n",
       "<tr><td>train_de_efc63246</td><td style=\"text-align: right;\">     0.177918  </td><td style=\"text-align: right;\">  0.120908   </td></tr>\n",
       "<tr><td>train_de_f1564ee7</td><td style=\"text-align: right;\">   inf         </td><td style=\"text-align: right;\">nan          </td></tr>\n",
       "<tr><td>train_de_f17e2d3c</td><td style=\"text-align: right;\">     0.182869  </td><td style=\"text-align: right;\">  0.0714571  </td></tr>\n",
       "<tr><td>train_de_f3131c38</td><td style=\"text-align: right;\">   inf         </td><td style=\"text-align: right;\">nan          </td></tr>\n",
       "<tr><td>train_de_f33801ad</td><td style=\"text-align: right;\">     0.190492  </td><td style=\"text-align: right;\">  0.505504   </td></tr>\n",
       "<tr><td>train_de_f3a6e868</td><td style=\"text-align: right;\">     0.187908  </td><td style=\"text-align: right;\">  0.00511391 </td></tr>\n",
       "<tr><td>train_de_f466436f</td><td style=\"text-align: right;\">     0.216969  </td><td style=\"text-align: right;\">nan          </td></tr>\n",
       "<tr><td>train_de_f4d41135</td><td style=\"text-align: right;\">     0.174172  </td><td style=\"text-align: right;\">  0.0235868  </td></tr>\n",
       "<tr><td>train_de_f5a936c6</td><td style=\"text-align: right;\">     2.2948    </td><td style=\"text-align: right;\">nan          </td></tr>\n",
       "<tr><td>train_de_f6fe5d68</td><td style=\"text-align: right;\">     0.179816  </td><td style=\"text-align: right;\">  0.603456   </td></tr>\n",
       "<tr><td>train_de_f84e2fcb</td><td style=\"text-align: right;\">     0.18932   </td><td style=\"text-align: right;\">  0.264841   </td></tr>\n",
       "<tr><td>train_de_f92f2daf</td><td style=\"text-align: right;\">     0.189305  </td><td style=\"text-align: right;\">  0.152211   </td></tr>\n",
       "<tr><td>train_de_f9d31316</td><td style=\"text-align: right;\">     0.190998  </td><td style=\"text-align: right;\">  0.340265   </td></tr>\n",
       "<tr><td>train_de_fa200be4</td><td style=\"text-align: right;\">     0.187146  </td><td style=\"text-align: right;\">  0.321392   </td></tr>\n",
       "<tr><td>train_de_fa25b06a</td><td style=\"text-align: right;\">     0.177166  </td><td style=\"text-align: right;\">  0.138812   </td></tr>\n",
       "<tr><td>train_de_faa9bde8</td><td style=\"text-align: right;\">     0.191251  </td><td style=\"text-align: right;\">  0.25127    </td></tr>\n",
       "<tr><td>train_de_faace4d0</td><td style=\"text-align: right;\">   inf         </td><td style=\"text-align: right;\">nan          </td></tr>\n",
       "<tr><td>train_de_fbb33ca9</td><td style=\"text-align: right;\">     0.0449859 </td><td style=\"text-align: right;\">  0.320043   </td></tr>\n",
       "<tr><td>train_de_fc8824a2</td><td style=\"text-align: right;\">     0.191317  </td><td style=\"text-align: right;\">  0.0700783  </td></tr>\n",
       "<tr><td>train_de_fccf9b20</td><td style=\"text-align: right;\">     0.154711  </td><td style=\"text-align: right;\">  0.343508   </td></tr>\n",
       "<tr><td>train_de_fd617429</td><td style=\"text-align: right;\">   inf         </td><td style=\"text-align: right;\">nan          </td></tr>\n",
       "<tr><td>train_de_fdad74bb</td><td style=\"text-align: right;\">   inf         </td><td style=\"text-align: right;\">nan          </td></tr>\n",
       "<tr><td>train_de_fdb635c7</td><td style=\"text-align: right;\">   inf         </td><td style=\"text-align: right;\">nan          </td></tr>\n",
       "<tr><td>train_de_fe916510</td><td style=\"text-align: right;\">   inf         </td><td style=\"text-align: right;\">nan          </td></tr>\n",
       "<tr><td>train_de_fef87d17</td><td style=\"text-align: right;\">   inf         </td><td style=\"text-align: right;\">nan          </td></tr>\n",
       "<tr><td>train_de_ff78a34a</td><td style=\"text-align: right;\">     0.182586  </td><td style=\"text-align: right;\">  0.243309   </td></tr>\n",
       "<tr><td>train_de_ffc5e25e</td><td style=\"text-align: right;\">     0.231577  </td><td style=\"text-align: right;\">  0.69325    </td></tr>\n",
       "</tbody>\n",
       "</table>\n",
       "</div>\n",
       "<style>\n",
       ".trialProgress {\n",
       "  display: flex;\n",
       "  flex-direction: column;\n",
       "  color: var(--jp-ui-font-color1);\n",
       "}\n",
       ".trialProgress h3 {\n",
       "  font-weight: bold;\n",
       "}\n",
       ".trialProgress td {\n",
       "  white-space: nowrap;\n",
       "}\n",
       "</style>\n"
      ],
      "text/plain": [
       "<IPython.core.display.HTML object>"
      ]
     },
     "metadata": {},
     "output_type": "display_data"
    },
    {
     "name": "stderr",
     "output_type": "stream",
     "text": [
      "NaN or Inf found in input tensor.\n"
     ]
    },
    {
     "name": "stdout",
     "output_type": "stream",
     "text": [
      "\u001b[2m\u001b[36m(train_de pid=3622506)\u001b[0m Early stopping triggered at epoch 7\n",
      "\u001b[2m\u001b[36m(train_de pid=3622506)\u001b[0m Epoch: 6|Train Loss: nan|Val Loss: nan\u001b[32m [repeated 2x across cluster] (Ray deduplicates logs by default. Set RAY_DEDUP_LOGS=0 to disable log deduplication, or see https://docs.ray.io/en/master/ray-observability/ray-logging.html#log-deduplication for more options.)\u001b[0m\n",
      "\u001b[2m\u001b[36m(train_de pid=3622506)\u001b[0m Epoch: 0|Train Loss: -0.006479149684309959|Val Loss: 0.20723233990944348\n",
      "\u001b[2m\u001b[36m(train_de pid=3622506)\u001b[0m Epoch: 1|Train Loss: 0.7983434557914734|Val Loss: 0.2010678650668034\n",
      "\u001b[2m\u001b[36m(train_de pid=3622506)\u001b[0m Epoch: 2|Train Loss: 0.033543243631720544|Val Loss: 0.18985645793951475\n",
      "\u001b[2m\u001b[36m(train_de pid=3622506)\u001b[0m Epoch: 3|Train Loss: -0.018592395633459092|Val Loss: 0.2082338288426399\n",
      "\u001b[2m\u001b[36m(train_de pid=3622506)\u001b[0m Epoch: 4|Train Loss: -0.1430385708808899|Val Loss: 0.19200145974755287\n",
      "\u001b[2m\u001b[36m(train_de pid=3622506)\u001b[0m Epoch: 5|Train Loss: -0.0017942704260349273|Val Loss: 0.1951419609097334\n",
      "\u001b[2m\u001b[36m(train_de pid=3622506)\u001b[0m Epoch: 6|Train Loss: 0.3987118065357208|Val Loss: 0.20350802231293458\n",
      "\u001b[2m\u001b[36m(train_de pid=3622506)\u001b[0m Epoch: 7|Train Loss: 0.012475167214870454|Val Loss: 0.20660779556402795\n",
      "\u001b[2m\u001b[36m(train_de pid=3622506)\u001b[0m Epoch: 8|Train Loss: 0.3335738658905029|Val Loss: 0.18386430410811536\n",
      "\u001b[2m\u001b[36m(train_de pid=3622506)\u001b[0m Epoch: 9|Train Loss: -0.19439583718776704|Val Loss: 0.19758048748167661\n",
      "\u001b[2m\u001b[36m(train_de pid=3622506)\u001b[0m Epoch: 10|Train Loss: 0.351185017824173|Val Loss: 0.1960170976101206\n",
      "\u001b[2m\u001b[36m(train_de pid=3622506)\u001b[0m Epoch: 11|Train Loss: 0.06725406423211097|Val Loss: 0.20003349408507348\n",
      "\u001b[2m\u001b[36m(train_de pid=3622506)\u001b[0m Epoch: 12|Train Loss: 0.3539666473865509|Val Loss: 0.19713552513947855\n",
      "\u001b[2m\u001b[36m(train_de pid=3622506)\u001b[0m Epoch: 13|Train Loss: 0.011044996231794358|Val Loss: 0.20091812782562696\n",
      "\u001b[2m\u001b[36m(train_de pid=3622506)\u001b[0m Epoch: 14|Train Loss: 0.4031724870204926|Val Loss: 0.19155771382726156\n",
      "\u001b[2m\u001b[36m(train_de pid=3622506)\u001b[0m Epoch: 15|Train Loss: 0.21392713487148285|Val Loss: 0.21316379291506915\n",
      "\u001b[2m\u001b[36m(train_de pid=3622578)\u001b[0m Epoch: 2|Train Loss: nan|Val Loss: nan\u001b[32m [repeated 2x across cluster]\u001b[0m\n",
      "\u001b[2m\u001b[36m(train_de pid=3622506)\u001b[0m Epoch: 21|Train Loss: 0.26692753434181216|Val Loss: 0.19512378229544713\u001b[32m [repeated 9x across cluster]\u001b[0m\n",
      "\u001b[2m\u001b[36m(train_de pid=3622506)\u001b[0m Early stopping triggered at epoch 34\n",
      "\u001b[2m\u001b[36m(train_de pid=3622578)\u001b[0m Epoch: 5|Train Loss: nan|Val Loss: nan\u001b[32m [repeated 3x across cluster]\u001b[0m\n",
      "\u001b[2m\u001b[36m(train_de pid=3623037)\u001b[0m Epoch: 14|Train Loss: 0.09174203872680664|Val Loss: 0.20010238899646893\u001b[32m [repeated 26x across cluster]\u001b[0m\n",
      "\u001b[2m\u001b[36m(train_de pid=3622578)\u001b[0m Epoch: 7|Train Loss: nan|Val Loss: nan\u001b[32m [repeated 2x across cluster]\u001b[0m\n",
      "\u001b[2m\u001b[36m(train_de pid=3623037)\u001b[0m Early stopping triggered at epoch 25\n",
      "\u001b[2m\u001b[36m(train_de pid=3623191)\u001b[0m Epoch: 4|Train Loss: -0.002891493340333303|Val Loss: 0.22579911471728017\u001b[32m [repeated 24x across cluster]\u001b[0m\n",
      "\u001b[2m\u001b[36m(train_de pid=3623037)\u001b[0m Epoch: 0|Train Loss: 0.5694354457987679|Val Loss: inf\n",
      "\u001b[2m\u001b[36m(train_de pid=3623037)\u001b[0m Epoch: 3|Train Loss: nan|Val Loss: nan\u001b[32m [repeated 5x across cluster]\u001b[0m\n",
      "\u001b[2m\u001b[36m(train_de pid=3623099)\u001b[0m Early stopping triggered at epoch 6\n",
      "\u001b[2m\u001b[36m(train_de pid=3622506)\u001b[0m Epoch: 11|Train Loss: -0.04141735616657469|Val Loss: 0.19217775977563625\u001b[32m [repeated 26x across cluster]\u001b[0m\n",
      "\u001b[2m\u001b[36m(train_de pid=3623099)\u001b[0m Early stopping triggered at epoch 18\n",
      "\u001b[2m\u001b[36m(train_de pid=3622578)\u001b[0m Epoch: 12|Train Loss: nan|Val Loss: nan\u001b[32m [repeated 7x across cluster]\u001b[0m\n",
      "\u001b[2m\u001b[36m(train_de pid=3623191)\u001b[0m Epoch: 25|Train Loss: 0.29045791427294415|Val Loss: 0.1853564298442364\u001b[32m [repeated 24x across cluster]\u001b[0m\n",
      "\u001b[2m\u001b[36m(train_de pid=3623037)\u001b[0m Epoch: 11|Train Loss: nan|Val Loss: nan\u001b[32m [repeated 7x across cluster]\u001b[0m\n",
      "\u001b[2m\u001b[36m(train_de pid=3623191)\u001b[0m Epoch: 37|Train Loss: 0.6701777776082357|Val Loss: 0.23258591662748834\u001b[32m [repeated 16x across cluster]\u001b[0m\n",
      "\u001b[2m\u001b[36m(train_de pid=3623037)\u001b[0m Epoch: 16|Train Loss: nan|Val Loss: nan\u001b[32m [repeated 7x across cluster]\u001b[0m\n",
      "\u001b[2m\u001b[36m(train_de pid=3623191)\u001b[0m Epoch: 49|Train Loss: 0.11883143832286198|Val Loss: 0.1991468279499232\u001b[32m [repeated 17x across cluster]\u001b[0m\n",
      "\u001b[2m\u001b[36m(train_de pid=3623037)\u001b[0m Epoch: 21|Train Loss: nan|Val Loss: nan\u001b[32m [repeated 9x across cluster]\u001b[0m\n",
      "\u001b[2m\u001b[36m(train_de pid=3623191)\u001b[0m Epoch: 60|Train Loss: -0.26533613602320355|Val Loss: 0.20732081714360154\u001b[32m [repeated 16x across cluster]\u001b[0m\n",
      "\u001b[2m\u001b[36m(train_de pid=3623037)\u001b[0m Epoch: 26|Train Loss: nan|Val Loss: nan\u001b[32m [repeated 7x across cluster]\u001b[0m\n",
      "\u001b[2m\u001b[36m(train_de pid=3623191)\u001b[0m Epoch: 72|Train Loss: 0.5795959631601969|Val Loss: 0.18444614116029412\u001b[32m [repeated 17x across cluster]\u001b[0m\n",
      "\u001b[2m\u001b[36m(train_de pid=3623191)\u001b[0m Early stopping triggered at epoch 75\n",
      "\u001b[2m\u001b[36m(train_de pid=3623037)\u001b[0m Epoch: 31|Train Loss: nan|Val Loss: nan\u001b[32m [repeated 8x across cluster]\u001b[0m\n",
      "\u001b[2m\u001b[36m(train_de pid=3622506)\u001b[0m Epoch: 39|Train Loss: 0.3401257230175866|Val Loss: 0.19485910665365605\u001b[32m [repeated 7x across cluster]\u001b[0m\n",
      "\u001b[2m\u001b[36m(train_de pid=3622506)\u001b[0m Early stopping triggered at epoch 41\n",
      "\u001b[2m\u001b[36m(train_de pid=3623037)\u001b[0m Epoch: 36|Train Loss: nan|Val Loss: nan\u001b[32m [repeated 8x across cluster]\u001b[0m\n",
      "\u001b[2m\u001b[36m(train_de pid=3622506)\u001b[0m Epoch: 40|Train Loss: 0.12459360559781392|Val Loss: 0.20135619092026566\n",
      "\u001b[2m\u001b[36m(train_de pid=3623037)\u001b[0m Epoch: 41|Train Loss: nan|Val Loss: nan\u001b[32m [repeated 8x across cluster]\u001b[0m\n"
     ]
    },
    {
     "name": "stderr",
     "output_type": "stream",
     "text": [
      "NaN or Inf found in input tensor.\n"
     ]
    },
    {
     "name": "stdout",
     "output_type": "stream",
     "text": [
      "\u001b[2m\u001b[36m(train_de pid=3623037)\u001b[0m Early stopping triggered at epoch 43\n",
      "\u001b[2m\u001b[36m(train_de pid=3622578)\u001b[0m Epoch: 32|Train Loss: nan|Val Loss: nan\u001b[32m [repeated 5x across cluster]\u001b[0m\n",
      "\u001b[2m\u001b[36m(train_de pid=3622578)\u001b[0m Epoch: 35|Train Loss: nan|Val Loss: nan\u001b[32m [repeated 3x across cluster]\u001b[0m\n",
      "\u001b[2m\u001b[36m(train_de pid=3622578)\u001b[0m Epoch: 38|Train Loss: nan|Val Loss: nan\u001b[32m [repeated 4x across cluster]\u001b[0m\n",
      "\u001b[2m\u001b[36m(train_de pid=3622578)\u001b[0m Epoch: 41|Train Loss: nan|Val Loss: nan\u001b[32m [repeated 3x across cluster]\u001b[0m\n",
      "\u001b[2m\u001b[36m(train_de pid=3622578)\u001b[0m Epoch: 44|Train Loss: nan|Val Loss: nan\u001b[32m [repeated 4x across cluster]\u001b[0m\n"
     ]
    },
    {
     "name": "stderr",
     "output_type": "stream",
     "text": [
      "NaN or Inf found in input tensor.\n"
     ]
    },
    {
     "name": "stdout",
     "output_type": "stream",
     "text": [
      "\u001b[2m\u001b[36m(train_de pid=3622578)\u001b[0m Early stopping triggered at epoch 47\n",
      "\u001b[2m\u001b[36m(train_de pid=3622578)\u001b[0m Epoch: 46|Train Loss: nan|Val Loss: nan\u001b[32m [repeated 2x across cluster]\u001b[0m\n",
      "\u001b[2m\u001b[36m(train_de pid=3623262)\u001b[0m Epoch: 7|Train Loss: nan|Val Loss: nan\u001b[32m [repeated 2x across cluster]\u001b[0m\n",
      "\u001b[2m\u001b[36m(train_de pid=3623262)\u001b[0m Epoch: 8|Train Loss: nan|Val Loss: nan\n",
      "\u001b[2m\u001b[36m(train_de pid=3623262)\u001b[0m Epoch: 9|Train Loss: nan|Val Loss: nan\n",
      "\u001b[2m\u001b[36m(train_de pid=3623262)\u001b[0m Epoch: 10|Train Loss: nan|Val Loss: nan\n",
      "\u001b[2m\u001b[36m(train_de pid=3623262)\u001b[0m Epoch: 11|Train Loss: nan|Val Loss: nan\n",
      "\u001b[2m\u001b[36m(train_de pid=3623262)\u001b[0m Epoch: 12|Train Loss: nan|Val Loss: nan\n",
      "\u001b[2m\u001b[36m(train_de pid=3623262)\u001b[0m Epoch: 13|Train Loss: nan|Val Loss: nan\n",
      "\u001b[2m\u001b[36m(train_de pid=3623262)\u001b[0m Epoch: 14|Train Loss: nan|Val Loss: nan\n",
      "\u001b[2m\u001b[36m(train_de pid=3623262)\u001b[0m Epoch: 15|Train Loss: nan|Val Loss: nan\n",
      "\u001b[2m\u001b[36m(train_de pid=3623262)\u001b[0m Epoch: 16|Train Loss: nan|Val Loss: nan\n",
      "\u001b[2m\u001b[36m(train_de pid=3623262)\u001b[0m Epoch: 17|Train Loss: nan|Val Loss: nan\n",
      "\u001b[2m\u001b[36m(train_de pid=3623262)\u001b[0m Epoch: 18|Train Loss: nan|Val Loss: nan\n",
      "\u001b[2m\u001b[36m(train_de pid=3623262)\u001b[0m Epoch: 19|Train Loss: nan|Val Loss: nan\n",
      "\u001b[2m\u001b[36m(train_de pid=3623262)\u001b[0m Epoch: 20|Train Loss: nan|Val Loss: nan\n",
      "\u001b[2m\u001b[36m(train_de pid=3623262)\u001b[0m Epoch: 21|Train Loss: nan|Val Loss: nan\n",
      "\u001b[2m\u001b[36m(train_de pid=3623262)\u001b[0m Epoch: 22|Train Loss: nan|Val Loss: nan\n",
      "\u001b[2m\u001b[36m(train_de pid=3623262)\u001b[0m Epoch: 23|Train Loss: nan|Val Loss: nan\n",
      "\u001b[2m\u001b[36m(train_de pid=3623262)\u001b[0m Epoch: 24|Train Loss: nan|Val Loss: nan\n"
     ]
    },
    {
     "name": "stderr",
     "output_type": "stream",
     "text": [
      "NaN or Inf found in input tensor.\n"
     ]
    },
    {
     "name": "stdout",
     "output_type": "stream",
     "text": [
      "\u001b[2m\u001b[36m(train_de pid=3623262)\u001b[0m Early stopping triggered at epoch 25\n",
      "\u001b[2m\u001b[36m(train_de pid=3623099)\u001b[0m Epoch: 0|Train Loss: 0.2563266307115555|Val Loss: 0.1969454818519584\n",
      "\u001b[2m\u001b[36m(train_de pid=3623099)\u001b[0m Epoch: 1|Train Loss: 0.004967620285848777|Val Loss: 0.1888890570977278\n",
      "\u001b[2m\u001b[36m(train_de pid=3623099)\u001b[0m Epoch: 2|Train Loss: 0.21323317289352417|Val Loss: 0.2068193928387604\n",
      "\u001b[2m\u001b[36m(train_de pid=3623099)\u001b[0m Epoch: 3|Train Loss: -0.0444008062283198|Val Loss: 0.1985648751030104\n",
      "\u001b[2m\u001b[36m(train_de pid=3623099)\u001b[0m Epoch: 4|Train Loss: -0.050580655535062156|Val Loss: 0.20779756012192943\n",
      "\u001b[2m\u001b[36m(train_de pid=3623099)\u001b[0m Epoch: 5|Train Loss: 0.36286377906799316|Val Loss: 0.2186009397296482\n",
      "\u001b[2m\u001b[36m(train_de pid=3623099)\u001b[0m Epoch: 6|Train Loss: -0.16005495190620422|Val Loss: 0.2015735177617324\n",
      "\u001b[2m\u001b[36m(train_de pid=3623099)\u001b[0m Epoch: 7|Train Loss: 0.2673358917236328|Val Loss: 0.19657300995139962\n",
      "\u001b[2m\u001b[36m(train_de pid=3623099)\u001b[0m Epoch: 8|Train Loss: 0.12548142671585083|Val Loss: 0.19511698270951838\n",
      "\u001b[2m\u001b[36m(train_de pid=3623099)\u001b[0m Epoch: 9|Train Loss: 0.07511936873197556|Val Loss: 0.22750497805444816\n",
      "\u001b[2m\u001b[36m(train_de pid=3626469)\u001b[0m Epoch: 5|Train Loss: 0.11648655496537685|Val Loss: 0.2158083491713593\u001b[32m [repeated 11x across cluster]\u001b[0m\n",
      "\u001b[2m\u001b[36m(train_de pid=3626583)\u001b[0m Epoch: 0|Train Loss: nan|Val Loss: nan\n",
      "\u001b[2m\u001b[36m(train_de pid=3626583)\u001b[0m Epoch: 1|Train Loss: nan|Val Loss: nan\n",
      "\u001b[2m\u001b[36m(train_de pid=3626583)\u001b[0m Epoch: 2|Train Loss: nan|Val Loss: nan\n",
      "\u001b[2m\u001b[36m(train_de pid=3626469)\u001b[0m Epoch: 16|Train Loss: 0.18339548632502556|Val Loss: 0.19575389969701829\u001b[32m [repeated 25x across cluster]\u001b[0m\n",
      "\u001b[2m\u001b[36m(train_de pid=3626583)\u001b[0m Epoch: 3|Train Loss: nan|Val Loss: nan\n",
      "\u001b[2m\u001b[36m(train_de pid=3626583)\u001b[0m Epoch: 4|Train Loss: nan|Val Loss: nan\n",
      "\u001b[2m\u001b[36m(train_de pid=3626583)\u001b[0m Epoch: 5|Train Loss: nan|Val Loss: nan\n",
      "\u001b[2m\u001b[36m(train_de pid=3626583)\u001b[0m Epoch: 6|Train Loss: nan|Val Loss: nan\n",
      "\u001b[2m\u001b[36m(train_de pid=3626583)\u001b[0m Epoch: 7|Train Loss: nan|Val Loss: nan\n",
      "\u001b[2m\u001b[36m(train_de pid=3626583)\u001b[0m Epoch: 8|Train Loss: nan|Val Loss: nan\n",
      "\u001b[2m\u001b[36m(train_de pid=3626583)\u001b[0m Epoch: 9|Train Loss: nan|Val Loss: nan\n",
      "\u001b[2m\u001b[36m(train_de pid=3626583)\u001b[0m Epoch: 10|Train Loss: nan|Val Loss: nan\n",
      "\u001b[2m\u001b[36m(train_de pid=3626583)\u001b[0m Epoch: 11|Train Loss: nan|Val Loss: nan\n",
      "\u001b[2m\u001b[36m(train_de pid=3626583)\u001b[0m Epoch: 12|Train Loss: nan|Val Loss: nan\n",
      "\u001b[2m\u001b[36m(train_de pid=3626583)\u001b[0m Epoch: 13|Train Loss: nan|Val Loss: nan\n",
      "\u001b[2m\u001b[36m(train_de pid=3626583)\u001b[0m Epoch: 14|Train Loss: nan|Val Loss: nan\n",
      "\u001b[2m\u001b[36m(train_de pid=3626583)\u001b[0m Epoch: 15|Train Loss: nan|Val Loss: nan\n"
     ]
    },
    {
     "name": "stderr",
     "output_type": "stream",
     "text": [
      "NaN or Inf found in input tensor.\n"
     ]
    },
    {
     "name": "stdout",
     "output_type": "stream",
     "text": [
      "\u001b[2m\u001b[36m(train_de pid=3626583)\u001b[0m Early stopping triggered at epoch 16\n",
      "\u001b[2m\u001b[36m(train_de pid=3623099)\u001b[0m Epoch: 0|Train Loss: 0.2577662368615468|Val Loss: 0.19907761142467675\u001b[32m [repeated 31x across cluster]\u001b[0m\n",
      "\u001b[2m\u001b[36m(train_de pid=3623099)\u001b[0m Early stopping triggered at epoch 33\n",
      "\u001b[2m\u001b[36m(train_de pid=3626795)\u001b[0m Epoch: 0|Train Loss: nan|Val Loss: nan\n",
      "\u001b[2m\u001b[36m(train_de pid=3626795)\u001b[0m Epoch: 1|Train Loss: nan|Val Loss: nan\n",
      "\u001b[2m\u001b[36m(train_de pid=3626519)\u001b[0m Epoch: 14|Train Loss: 0.38085848424169755|Val Loss: 0.2151567188468309\u001b[32m [repeated 47x across cluster]\u001b[0m\n",
      "\u001b[2m\u001b[36m(train_de pid=3626795)\u001b[0m Epoch: 2|Train Loss: nan|Val Loss: nan\n"
     ]
    },
    {
     "name": "stderr",
     "output_type": "stream",
     "text": [
      "NaN or Inf found in input tensor.\n"
     ]
    },
    {
     "name": "stdout",
     "output_type": "stream",
     "text": [
      "\u001b[2m\u001b[36m(train_de pid=3626795)\u001b[0m Early stopping triggered at epoch 3\n",
      "\u001b[2m\u001b[36m(train_de pid=3626795)\u001b[0m Epoch: 6|Train Loss: 0.2401013161454882|Val Loss: 0.18724043580392996\u001b[32m [repeated 52x across cluster]\u001b[0m\n",
      "\u001b[2m\u001b[36m(train_de pid=3623099)\u001b[0m Early stopping triggered at epoch 28\n",
      "\u001b[2m\u001b[36m(train_de pid=3626469)\u001b[0m Epoch: 53|Train Loss: -0.0805965717881918|Val Loss: 0.2236835024760742\u001b[32m [repeated 59x across cluster]\u001b[0m\n",
      "\u001b[2m\u001b[36m(train_de pid=3626469)\u001b[0m Early stopping triggered at epoch 57\n",
      "\u001b[2m\u001b[36m(train_de pid=3626657)\u001b[0m Epoch: 62|Train Loss: 0.5441393256187439|Val Loss: 0.20434127982298378\u001b[32m [repeated 55x across cluster]\u001b[0m\n",
      "\u001b[2m\u001b[36m(train_de pid=3627183)\u001b[0m Epoch: 0|Train Loss: nan|Val Loss: nan\n",
      "\u001b[2m\u001b[36m(train_de pid=3627183)\u001b[0m Epoch: 1|Train Loss: nan|Val Loss: nan\n",
      "\u001b[2m\u001b[36m(train_de pid=3626920)\u001b[0m Early stopping triggered at epoch 23\n",
      "\u001b[2m\u001b[36m(train_de pid=3627183)\u001b[0m Epoch: 2|Train Loss: nan|Val Loss: nan\n",
      "\u001b[2m\u001b[36m(train_de pid=3626657)\u001b[0m Epoch: 75|Train Loss: 0.054630354046821594|Val Loss: 0.18404636873553196\u001b[32m [repeated 52x across cluster]\u001b[0m\n",
      "\u001b[2m\u001b[36m(train_de pid=3627183)\u001b[0m Epoch: 3|Train Loss: nan|Val Loss: nan\n",
      "\u001b[2m\u001b[36m(train_de pid=3627183)\u001b[0m Epoch: 4|Train Loss: nan|Val Loss: nan\n",
      "\u001b[2m\u001b[36m(train_de pid=3627048)\u001b[0m Epoch: 3|Train Loss: nan|Val Loss: nan\n",
      "\u001b[2m\u001b[36m(train_de pid=3627183)\u001b[0m Epoch: 5|Train Loss: nan|Val Loss: nan\n",
      "\u001b[2m\u001b[36m(train_de pid=3627183)\u001b[0m Epoch: 6|Train Loss: nan|Val Loss: nan\n",
      "\u001b[2m\u001b[36m(train_de pid=3626469)\u001b[0m Early stopping triggered at epoch 27\n",
      "\u001b[2m\u001b[36m(train_de pid=3627183)\u001b[0m Epoch: 7|Train Loss: nan|Val Loss: nan\n",
      "\u001b[2m\u001b[36m(train_de pid=3626657)\u001b[0m Epoch: 88|Train Loss: 0.5505393743515015|Val Loss: 0.21768978193479901\u001b[32m [repeated 58x across cluster]\u001b[0m\n",
      "\u001b[2m\u001b[36m(train_de pid=3627183)\u001b[0m Epoch: 10|Train Loss: nan|Val Loss: nan\u001b[32m [repeated 5x across cluster]\u001b[0m\n",
      "\u001b[2m\u001b[36m(train_de pid=3623099)\u001b[0m Epoch: 17|Train Loss: 0.15078476071357727|Val Loss: 0.21610161409491568\u001b[32m [repeated 52x across cluster]\u001b[0m\n",
      "\u001b[2m\u001b[36m(train_de pid=3626657)\u001b[0m Early stopping triggered at epoch 100\n",
      "\u001b[2m\u001b[36m(train_de pid=3627048)\u001b[0m Epoch: 6|Train Loss: nan|Val Loss: nan\u001b[32m [repeated 11x across cluster]\u001b[0m\n",
      "\u001b[2m\u001b[36m(train_de pid=3626920)\u001b[0m Epoch: 6|Train Loss: 0.28975435346364975|Val Loss: 0.19322726382490465\u001b[32m [repeated 48x across cluster]\u001b[0m\n",
      "\u001b[2m\u001b[36m(train_de pid=3626657)\u001b[0m Early stopping triggered at epoch 5\u001b[32m [repeated 2x across cluster]\u001b[0m\n",
      "\u001b[2m\u001b[36m(train_de pid=3626469)\u001b[0m Epoch: 9|Train Loss: nan|Val Loss: nan\u001b[32m [repeated 12x across cluster]\u001b[0m\n",
      "\u001b[2m\u001b[36m(train_de pid=3626519)\u001b[0m Epoch: 50|Train Loss: -0.09961365825600094|Val Loss: 0.19882732536643744\u001b[32m [repeated 41x across cluster]\u001b[0m\n",
      "\u001b[2m\u001b[36m(train_de pid=3626657)\u001b[0m Early stopping triggered at epoch 7\n",
      "\u001b[2m\u001b[36m(train_de pid=3626657)\u001b[0m Epoch: 5|Train Loss: nan|Val Loss: nan\u001b[32m [repeated 15x across cluster]\u001b[0m\n",
      "\u001b[2m\u001b[36m(train_de pid=3626920)\u001b[0m Epoch: 39|Train Loss: 0.30301694571971893|Val Loss: 0.1939525803352487\u001b[32m [repeated 38x across cluster]\u001b[0m\n",
      "\u001b[2m\u001b[36m(train_de pid=3626469)\u001b[0m Early stopping triggered at epoch 14\n",
      "\u001b[2m\u001b[36m(train_de pid=3626657)\u001b[0m Epoch: 10|Train Loss: nan|Val Loss: nan\u001b[32m [repeated 20x across cluster]\u001b[0m\n"
     ]
    },
    {
     "name": "stderr",
     "output_type": "stream",
     "text": [
      "NaN or Inf found in input tensor.\n"
     ]
    },
    {
     "name": "stdout",
     "output_type": "stream",
     "text": [
      "\u001b[2m\u001b[36m(train_de pid=3626920)\u001b[0m Epoch: 54|Train Loss: 0.18400176987051964|Val Loss: 0.2015463741057936\u001b[32m [repeated 43x across cluster]\u001b[0m\n"
     ]
    },
    {
     "name": "stderr",
     "output_type": "stream",
     "text": [
      "NaN or Inf found in input tensor.\n"
     ]
    },
    {
     "name": "stdout",
     "output_type": "stream",
     "text": [
      "\u001b[2m\u001b[36m(train_de pid=3627693)\u001b[0m Early stopping triggered at epoch 14\u001b[32m [repeated 2x across cluster]\u001b[0m\n",
      "\u001b[2m\u001b[36m(train_de pid=3627183)\u001b[0m Epoch: 0|Train Loss: nan|Val Loss: nan\u001b[32m [repeated 12x across cluster]\u001b[0m\n",
      "\u001b[2m\u001b[36m(train_de pid=3626583)\u001b[0m Epoch: 66|Train Loss: -0.0375684667378664|Val Loss: 0.19186059548519552\u001b[32m [repeated 27x across cluster]\u001b[0m\n",
      "\u001b[2m\u001b[36m(train_de pid=3626920)\u001b[0m Early stopping triggered at epoch 58\u001b[32m [repeated 2x across cluster]\u001b[0m\n",
      "\u001b[2m\u001b[36m(train_de pid=3627693)\u001b[0m Epoch: 2|Train Loss: 2.6203608334064485|Val Loss: inf\n",
      "\u001b[2m\u001b[36m(train_de pid=3627183)\u001b[0m Epoch: 2|Train Loss: nan|Val Loss: nan\u001b[32m [repeated 12x across cluster]\u001b[0m\n",
      "\u001b[2m\u001b[36m(train_de pid=3626519)\u001b[0m Epoch: 67|Train Loss: 0.13632167213492924|Val Loss: 0.191679093753919\u001b[32m [repeated 25x across cluster]\u001b[0m\n",
      "\u001b[2m\u001b[36m(train_de pid=3626583)\u001b[0m Early stopping triggered at epoch 69\n",
      "\u001b[2m\u001b[36m(train_de pid=3626920)\u001b[0m Epoch: 4|Train Loss: nan|Val Loss: nan\u001b[32m [repeated 14x across cluster]\u001b[0m\n",
      "\u001b[2m\u001b[36m(train_de pid=3623099)\u001b[0m Epoch: 40|Train Loss: 0.3504362180829048|Val Loss: 0.208310311154017\u001b[32m [repeated 26x across cluster]\u001b[0m\n",
      "\u001b[2m\u001b[36m(train_de pid=3626519)\u001b[0m Early stopping triggered at epoch 71\n",
      "\u001b[2m\u001b[36m(train_de pid=3626657)\u001b[0m Epoch: 31|Train Loss: nan|Val Loss: nan\u001b[32m [repeated 13x across cluster]\u001b[0m\n",
      "\u001b[2m\u001b[36m(train_de pid=3626519)\u001b[0m Epoch: 1|Train Loss: 0.7467118635773659|Val Loss: 0.6143699425254017\u001b[32m [repeated 23x across cluster]\u001b[0m\n"
     ]
    },
    {
     "name": "stderr",
     "output_type": "stream",
     "text": [
      "NaN or Inf found in input tensor.\n"
     ]
    },
    {
     "name": "stdout",
     "output_type": "stream",
     "text": [
      "\u001b[2m\u001b[36m(train_de pid=3626657)\u001b[0m Early stopping triggered at epoch 34\n"
     ]
    },
    {
     "name": "stderr",
     "output_type": "stream",
     "text": [
      "NaN or Inf found in input tensor.\n"
     ]
    },
    {
     "name": "stdout",
     "output_type": "stream",
     "text": [
      "\u001b[2m\u001b[36m(train_de pid=3627392)\u001b[0m Early stopping triggered at epoch 9\n",
      "\u001b[2m\u001b[36m(train_de pid=3626920)\u001b[0m Epoch: 8|Train Loss: nan|Val Loss: nan\u001b[32m [repeated 7x across cluster]\u001b[0m\n",
      "\u001b[2m\u001b[36m(train_de pid=3628196)\u001b[0m Epoch: 4|Train Loss: 0.3896019756793976|Val Loss: 0.21858933791331947\u001b[32m [repeated 27x across cluster]\u001b[0m\n",
      "\u001b[2m\u001b[36m(train_de pid=3627183)\u001b[0m Epoch: 11|Train Loss: nan|Val Loss: nan\u001b[32m [repeated 6x across cluster]\u001b[0m\n",
      "\u001b[2m\u001b[36m(train_de pid=3627048)\u001b[0m Early stopping triggered at epoch 19\n",
      "\u001b[2m\u001b[36m(train_de pid=3628196)\u001b[0m Epoch: 6|Train Loss: -0.022531816363334657|Val Loss: 0.20591056641563774\u001b[32m [repeated 28x across cluster]\u001b[0m\n",
      "\u001b[2m\u001b[36m(train_de pid=3627392)\u001b[0m Epoch: 4|Train Loss: nan|Val Loss: nan\u001b[32m [repeated 7x across cluster]\u001b[0m\n"
     ]
    },
    {
     "name": "stderr",
     "output_type": "stream",
     "text": [
      "NaN or Inf found in input tensor.\n"
     ]
    },
    {
     "name": "stdout",
     "output_type": "stream",
     "text": [
      "\u001b[2m\u001b[36m(train_de pid=3627183)\u001b[0m Early stopping triggered at epoch 14\n",
      "\u001b[2m\u001b[36m(train_de pid=3627323)\u001b[0m Epoch: 31|Train Loss: 0.05508414376527071|Val Loss: 0.19099070684569597\u001b[32m [repeated 30x across cluster]\u001b[0m\n"
     ]
    },
    {
     "name": "stderr",
     "output_type": "stream",
     "text": [
      "NaN or Inf found in input tensor.\n"
     ]
    },
    {
     "name": "stdout",
     "output_type": "stream",
     "text": [
      "\u001b[2m\u001b[36m(train_de pid=3627392)\u001b[0m Epoch: 6|Train Loss: nan|Val Loss: nan\u001b[32m [repeated 3x across cluster]\u001b[0m\n",
      "\u001b[2m\u001b[36m(train_de pid=3626920)\u001b[0m Early stopping triggered at epoch 14\n",
      "\u001b[2m\u001b[36m(train_de pid=3626519)\u001b[0m Epoch: 9|Train Loss: -0.05405357349663973|Val Loss: 0.19622107304632663\u001b[32m [repeated 31x across cluster]\u001b[0m\n",
      "\u001b[2m\u001b[36m(train_de pid=3626920)\u001b[0m Epoch: 2|Train Loss: nan|Val Loss: nan\u001b[32m [repeated 5x across cluster]\u001b[0m\n",
      "\u001b[2m\u001b[36m(train_de pid=3627776)\u001b[0m Epoch: 16|Train Loss: -0.3168376088142395|Val Loss: 0.22408887480696044\u001b[32m [repeated 33x across cluster]\u001b[0m\n",
      "\u001b[2m\u001b[36m(train_de pid=3626920)\u001b[0m Epoch: 4|Train Loss: nan|Val Loss: nan\u001b[32m [repeated 4x across cluster]\u001b[0m\n",
      "\u001b[2m\u001b[36m(train_de pid=3626519)\u001b[0m Epoch: 12|Train Loss: 0.4304899454116821|Val Loss: 0.19742245853878557\u001b[32m [repeated 34x across cluster]\u001b[0m\n",
      "\u001b[2m\u001b[36m(train_de pid=3627323)\u001b[0m Early stopping triggered at epoch 40\n",
      "\u001b[2m\u001b[36m(train_de pid=3628826)\u001b[0m Epoch: 1|Train Loss: nan|Val Loss: nan\u001b[32m [repeated 5x across cluster]\u001b[0m\n",
      "\u001b[2m\u001b[36m(train_de pid=3627693)\u001b[0m Epoch: 21|Train Loss: 0.41802823543548584|Val Loss: 0.1820033448189497\u001b[32m [repeated 31x across cluster]\u001b[0m\n",
      "\u001b[2m\u001b[36m(train_de pid=3623099)\u001b[0m Early stopping triggered at epoch 64\n",
      "\u001b[2m\u001b[36m(train_de pid=3626469)\u001b[0m Early stopping triggered at epoch 49\n",
      "\u001b[2m\u001b[36m(train_de pid=3628826)\u001b[0m Epoch: 3|Train Loss: nan|Val Loss: nan\u001b[32m [repeated 5x across cluster]\u001b[0m\n",
      "\u001b[2m\u001b[36m(train_de pid=3626795)\u001b[0m Epoch: 23|Train Loss: 0.2808876186609268|Val Loss: 0.159857982814312\u001b[32m [repeated 32x across cluster]\u001b[0m\n",
      "\u001b[2m\u001b[36m(train_de pid=3627392)\u001b[0m Early stopping triggered at epoch 16\n",
      "\u001b[2m\u001b[36m(train_de pid=3628826)\u001b[0m Epoch: 5|Train Loss: nan|Val Loss: nan\u001b[32m [repeated 5x across cluster]\u001b[0m\n",
      "\u001b[2m\u001b[36m(train_de pid=3626657)\u001b[0m Epoch: 17|Train Loss: 0.1350055903196335|Val Loss: 0.1865385238006711\u001b[32m [repeated 34x across cluster]\u001b[0m\n",
      "\u001b[2m\u001b[36m(train_de pid=3626583)\u001b[0m Early stopping triggered at epoch 23\n",
      "\u001b[2m\u001b[36m(train_de pid=3628826)\u001b[0m Epoch: 7|Train Loss: nan|Val Loss: nan\u001b[32m [repeated 7x across cluster]\u001b[0m\n",
      "\u001b[2m\u001b[36m(train_de pid=3628196)\u001b[0m Epoch: 21|Train Loss: 0.28220631182193756|Val Loss: 0.17506293383054436\u001b[32m [repeated 28x across cluster]\u001b[0m\n",
      "\u001b[2m\u001b[36m(train_de pid=3628001)\u001b[0m Early stopping triggered at epoch 25\n"
     ]
    },
    {
     "name": "stderr",
     "output_type": "stream",
     "text": [
      "NaN or Inf found in input tensor.\n"
     ]
    },
    {
     "name": "stdout",
     "output_type": "stream",
     "text": [
      "\u001b[2m\u001b[36m(train_de pid=3626920)\u001b[0m Early stopping triggered at epoch 14\n",
      "\u001b[2m\u001b[36m(train_de pid=3627392)\u001b[0m Epoch: 3|Train Loss: nan|Val Loss: nan\u001b[32m [repeated 4x across cluster]\u001b[0m\n",
      "\u001b[2m\u001b[36m(train_de pid=3626920)\u001b[0m Epoch: 0|Train Loss: 2.571050258146392|Val Loss: 2.6128653860340516\u001b[32m [repeated 31x across cluster]\u001b[0m\n",
      "\u001b[2m\u001b[36m(train_de pid=3627392)\u001b[0m Epoch: 6|Train Loss: nan|Val Loss: nan\u001b[32m [repeated 5x across cluster]\u001b[0m\n",
      "\u001b[2m\u001b[36m(train_de pid=3628561)\u001b[0m Epoch: 19|Train Loss: 0.029143166914582252|Val Loss: 0.19454925863444805\u001b[32m [repeated 36x across cluster]\u001b[0m\n",
      "\u001b[2m\u001b[36m(train_de pid=3626920)\u001b[0m Epoch: 2|Train Loss: nan|Val Loss: nan\u001b[32m [repeated 5x across cluster]\u001b[0m\n",
      "\u001b[2m\u001b[36m(train_de pid=3628001)\u001b[0m Early stopping triggered at epoch 6\n",
      "\u001b[2m\u001b[36m(train_de pid=3628561)\u001b[0m Epoch: 21|Train Loss: -0.06208882601931691|Val Loss: 0.17774234719574453\u001b[32m [repeated 27x across cluster]\u001b[0m\n",
      "\u001b[2m\u001b[36m(train_de pid=3626920)\u001b[0m Epoch: 5|Train Loss: nan|Val Loss: nan\u001b[32m [repeated 11x across cluster]\u001b[0m\n",
      "\u001b[2m\u001b[36m(train_de pid=3628196)\u001b[0m Early stopping triggered at epoch 27\n",
      "\u001b[2m\u001b[36m(train_de pid=3627183)\u001b[0m Epoch: 18|Train Loss: 0.1068502463400364|Val Loss: 0.15176075390167534\u001b[32m [repeated 25x across cluster]\u001b[0m\n",
      "\u001b[2m\u001b[36m(train_de pid=3627392)\u001b[0m Epoch: 12|Train Loss: nan|Val Loss: nan\u001b[32m [repeated 11x across cluster]\u001b[0m\n",
      "\u001b[2m\u001b[36m(train_de pid=3626920)\u001b[0m Early stopping triggered at epoch 7\n",
      "\u001b[2m\u001b[36m(train_de pid=3626657)\u001b[0m Epoch: 28|Train Loss: 0.10710585713386536|Val Loss: 0.207078066278249\u001b[32m [repeated 22x across cluster]\u001b[0m\n",
      "\u001b[2m\u001b[36m(train_de pid=3629371)\u001b[0m Epoch: 7|Train Loss: nan|Val Loss: nan\u001b[32m [repeated 5x across cluster]\u001b[0m\n",
      "\u001b[2m\u001b[36m(train_de pid=3628826)\u001b[0m Early stopping triggered at epoch 3\u001b[32m [repeated 2x across cluster]\u001b[0m\n"
     ]
    },
    {
     "name": "stderr",
     "output_type": "stream",
     "text": [
      "NaN or Inf found in input tensor.\n"
     ]
    },
    {
     "name": "stdout",
     "output_type": "stream",
     "text": [
      "\u001b[2m\u001b[36m(train_de pid=3627323)\u001b[0m Epoch: 16|Train Loss: 0.1402910572476685|Val Loss: 0.19776829551905395\u001b[32m [repeated 26x across cluster]\u001b[0m\n",
      "\u001b[2m\u001b[36m(train_de pid=3629371)\u001b[0m Epoch: 8|Train Loss: nan|Val Loss: nan\u001b[32m [repeated 3x across cluster]\u001b[0m\n",
      "\u001b[2m\u001b[36m(train_de pid=3626795)\u001b[0m Early stopping triggered at epoch 38\u001b[32m [repeated 2x across cluster]\u001b[0m\n",
      "\u001b[2m\u001b[36m(train_de pid=3628737)\u001b[0m Epoch: 23|Train Loss: 0.39623055756092074|Val Loss: 0.18447324559278785\u001b[32m [repeated 33x across cluster]\u001b[0m\n"
     ]
    },
    {
     "name": "stderr",
     "output_type": "stream",
     "text": [
      "NaN or Inf found in input tensor.\n"
     ]
    },
    {
     "name": "stdout",
     "output_type": "stream",
     "text": [
      "\u001b[2m\u001b[36m(train_de pid=3628001)\u001b[0m Epoch: 7|Train Loss: nan|Val Loss: nan\u001b[32m [repeated 6x across cluster]\u001b[0m\n",
      "\u001b[2m\u001b[36m(train_de pid=3629371)\u001b[0m Early stopping triggered at epoch 11\u001b[32m [repeated 2x across cluster]\u001b[0m\n",
      "\u001b[2m\u001b[36m(train_de pid=3626657)\u001b[0m Epoch: 32|Train Loss: 0.14023077972233294|Val Loss: 0.19345417186804115\u001b[32m [repeated 36x across cluster]\u001b[0m\n",
      "\u001b[2m\u001b[36m(train_de pid=3629371)\u001b[0m Epoch: 3|Train Loss: nan|Val Loss: nan\u001b[32m [repeated 9x across cluster]\u001b[0m\n",
      "\u001b[2m\u001b[36m(train_de pid=3628737)\u001b[0m Epoch: 26|Train Loss: -0.024290932714939116|Val Loss: 0.1983598784804344\u001b[32m [repeated 38x across cluster]\u001b[0m\n",
      "\u001b[2m\u001b[36m(train_de pid=3626657)\u001b[0m Early stopping triggered at epoch 34\n",
      "\u001b[2m\u001b[36m(train_de pid=3629371)\u001b[0m Epoch: 5|Train Loss: nan|Val Loss: nan\u001b[32m [repeated 5x across cluster]\u001b[0m\n",
      "\u001b[2m\u001b[36m(train_de pid=3626583)\u001b[0m Epoch: 24|Train Loss: 0.002636583625442452|Val Loss: 0.2078920541237393\u001b[32m [repeated 33x across cluster]\u001b[0m\n",
      "\u001b[2m\u001b[36m(train_de pid=3629371)\u001b[0m Epoch: 9|Train Loss: nan|Val Loss: nan\u001b[32m [repeated 9x across cluster]\u001b[0m\n",
      "\u001b[2m\u001b[36m(train_de pid=3627048)\u001b[0m Early stopping triggered at epoch 34\n",
      "\u001b[2m\u001b[36m(train_de pid=3629615)\u001b[0m Epoch: 9|Train Loss: -0.14953262358903885|Val Loss: 0.19182898544313504\u001b[32m [repeated 39x across cluster]\u001b[0m\n",
      "\u001b[2m\u001b[36m(train_de pid=3629371)\u001b[0m Epoch: 12|Train Loss: nan|Val Loss: nan\u001b[32m [repeated 7x across cluster]\u001b[0m\n",
      "\u001b[2m\u001b[36m(train_de pid=3627776)\u001b[0m Early stopping triggered at epoch 39\u001b[32m [repeated 2x across cluster]\u001b[0m\n",
      "\u001b[2m\u001b[36m(train_de pid=3626519)\u001b[0m Epoch: 37|Train Loss: 0.5343453258275985|Val Loss: 0.1864700230844319\u001b[32m [repeated 30x across cluster]\u001b[0m\n",
      "\u001b[2m\u001b[36m(train_de pid=3629371)\u001b[0m Epoch: 14|Train Loss: nan|Val Loss: nan\u001b[32m [repeated 7x across cluster]\u001b[0m\n",
      "\u001b[2m\u001b[36m(train_de pid=3628419)\u001b[0m Early stopping triggered at epoch 36\n",
      "\u001b[2m\u001b[36m(train_de pid=3623099)\u001b[0m Early stopping triggered at epoch 28\n",
      "\u001b[2m\u001b[36m(train_de pid=3628419)\u001b[0m Epoch: 2|Train Loss: 0.24346633851528168|Val Loss: 0.20550538672666466\u001b[32m [repeated 37x across cluster]\u001b[0m\n",
      "\u001b[2m\u001b[36m(train_de pid=3630145)\u001b[0m Epoch: 3|Train Loss: nan|Val Loss: nan\u001b[32m [repeated 7x across cluster]\u001b[0m\n",
      "\u001b[2m\u001b[36m(train_de pid=3628561)\u001b[0m Early stopping triggered at epoch 37\u001b[32m [repeated 2x across cluster]\u001b[0m\n",
      "\u001b[2m\u001b[36m(train_de pid=3628419)\u001b[0m Epoch: 6|Train Loss: 0.41712210774421693|Val Loss: 0.1919415454247168\u001b[32m [repeated 35x across cluster]\u001b[0m\n",
      "\u001b[2m\u001b[36m(train_de pid=3628001)\u001b[0m Epoch: 17|Train Loss: nan|Val Loss: nan\u001b[32m [repeated 6x across cluster]\u001b[0m\n",
      "\u001b[2m\u001b[36m(train_de pid=3627183)\u001b[0m Early stopping triggered at epoch 33\n",
      "\u001b[2m\u001b[36m(train_de pid=3628419)\u001b[0m Early stopping triggered at epoch 9\n",
      "\u001b[2m\u001b[36m(train_de pid=3627392)\u001b[0m Epoch: 39|Train Loss: -0.24614274501800537|Val Loss: 0.23052257198467851\u001b[32m [repeated 35x across cluster]\u001b[0m\n",
      "\u001b[2m\u001b[36m(train_de pid=3628196)\u001b[0m Epoch: 13|Train Loss: nan|Val Loss: nan\u001b[32m [repeated 9x across cluster]\u001b[0m\n",
      "\u001b[2m\u001b[36m(train_de pid=3626583)\u001b[0m Epoch: 4|Train Loss: 0.041396201898654304|Val Loss: 0.14172895143268427\u001b[32m [repeated 48x across cluster]\u001b[0m\n",
      "\u001b[2m\u001b[36m(train_de pid=3627693)\u001b[0m Early stopping triggered at epoch 30\n",
      "\u001b[2m\u001b[36m(train_de pid=3629371)\u001b[0m Epoch: 25|Train Loss: nan|Val Loss: nan\u001b[32m [repeated 8x across cluster]\u001b[0m\n",
      "\u001b[2m\u001b[36m(train_de pid=3627183)\u001b[0m Epoch: 5|Train Loss: 0.09723094685210122|Val Loss: 0.20582269590761926\u001b[32m [repeated 48x across cluster]\u001b[0m\n",
      "\u001b[2m\u001b[36m(train_de pid=3627048)\u001b[0m Epoch: 4|Train Loss: nan|Val Loss: nan\u001b[32m [repeated 11x across cluster]\u001b[0m\n",
      "\u001b[2m\u001b[36m(train_de pid=3626795)\u001b[0m Epoch: 37|Train Loss: 0.5316527741295951|Val Loss: 0.20338100359174124\u001b[32m [repeated 57x across cluster]\u001b[0m\n",
      "\u001b[2m\u001b[36m(train_de pid=3630935)\u001b[0m Epoch: 2|Train Loss: nan|Val Loss: nan\u001b[32m [repeated 12x across cluster]\u001b[0m\n",
      "\u001b[2m\u001b[36m(train_de pid=3626657)\u001b[0m Epoch: 34|Train Loss: -0.06546824922164281|Val Loss: 0.23097162119977707\u001b[32m [repeated 46x across cluster]\u001b[0m\n"
     ]
    },
    {
     "name": "stderr",
     "output_type": "stream",
     "text": [
      "NaN or Inf found in input tensor.\n"
     ]
    },
    {
     "name": "stdout",
     "output_type": "stream",
     "text": [
      "\u001b[2m\u001b[36m(train_de pid=3630935)\u001b[0m Early stopping triggered at epoch 4\n",
      "\u001b[2m\u001b[36m(train_de pid=3629371)\u001b[0m Epoch: 34|Train Loss: nan|Val Loss: nan\u001b[32m [repeated 8x across cluster]\u001b[0m\n",
      "\u001b[2m\u001b[36m(train_de pid=3626657)\u001b[0m Epoch: 38|Train Loss: 0.2715204606453578|Val Loss: 0.2318117507689056\u001b[32m [repeated 38x across cluster]\u001b[0m\n",
      "\u001b[2m\u001b[36m(train_de pid=3628826)\u001b[0m Early stopping triggered at epoch 54\u001b[32m [repeated 2x across cluster]\u001b[0m\n",
      "\u001b[2m\u001b[36m(train_de pid=3628419)\u001b[0m Epoch: 5|Train Loss: nan|Val Loss: nan\u001b[32m [repeated 9x across cluster]\u001b[0m\n",
      "\u001b[2m\u001b[36m(train_de pid=3629615)\u001b[0m Epoch: 6|Train Loss: -0.1494966819882393|Val Loss: 0.20742477388800276\u001b[32m [repeated 49x across cluster]\u001b[0m\n",
      "\u001b[2m\u001b[36m(train_de pid=3627392)\u001b[0m Early stopping triggered at epoch 62\u001b[32m [repeated 2x across cluster]\u001b[0m\n"
     ]
    },
    {
     "name": "stderr",
     "output_type": "stream",
     "text": [
      "NaN or Inf found in input tensor.\n"
     ]
    },
    {
     "name": "stdout",
     "output_type": "stream",
     "text": [
      "\u001b[2m\u001b[36m(train_de pid=3631024)\u001b[0m Epoch: 1|Train Loss: nan|Val Loss: nan\u001b[32m [repeated 9x across cluster]\u001b[0m\n",
      "\u001b[2m\u001b[36m(train_de pid=3627323)\u001b[0m Epoch: 15|Train Loss: 0.33171199560165404|Val Loss: 0.2111624849339326\u001b[32m [repeated 61x across cluster]\u001b[0m\n",
      "\u001b[2m\u001b[36m(train_de pid=3628826)\u001b[0m Early stopping triggered at epoch 2\n",
      "\u001b[2m\u001b[36m(train_de pid=3630145)\u001b[0m Epoch: 10|Train Loss: nan|Val Loss: nan\u001b[32m [repeated 13x across cluster]\u001b[0m\n",
      "\u001b[2m\u001b[36m(train_de pid=3629615)\u001b[0m Epoch: 18|Train Loss: 0.26948512345552444|Val Loss: 0.1959509301620225\u001b[32m [repeated 70x across cluster]\u001b[0m\n",
      "\u001b[2m\u001b[36m(train_de pid=3628001)\u001b[0m Epoch: 28|Train Loss: nan|Val Loss: nan\u001b[32m [repeated 8x across cluster]\u001b[0m\n"
     ]
    },
    {
     "name": "stderr",
     "output_type": "stream",
     "text": [
      "NaN or Inf found in input tensor.\n"
     ]
    },
    {
     "name": "stdout",
     "output_type": "stream",
     "text": [
      "\u001b[2m\u001b[36m(train_de pid=3629371)\u001b[0m Early stopping triggered at epoch 46\n",
      "\u001b[2m\u001b[36m(train_de pid=3626795)\u001b[0m Epoch: 54|Train Loss: 0.24559568294457026|Val Loss: 0.19378016786851973\u001b[32m [repeated 76x across cluster]\u001b[0m\n",
      "\u001b[2m\u001b[36m(train_de pid=3628826)\u001b[0m Epoch: 4|Train Loss: nan|Val Loss: nan\u001b[32m [repeated 8x across cluster]\u001b[0m\n",
      "\u001b[2m\u001b[36m(train_de pid=3629615)\u001b[0m Epoch: 27|Train Loss: 0.24424166604876518|Val Loss: 0.25793760642409325\u001b[32m [repeated 75x across cluster]\u001b[0m\n",
      "\u001b[2m\u001b[36m(train_de pid=3627048)\u001b[0m Epoch: 9|Train Loss: nan|Val Loss: nan\u001b[32m [repeated 10x across cluster]\u001b[0m\n",
      "\u001b[2m\u001b[36m(train_de pid=3628737)\u001b[0m Early stopping triggered at epoch 48\n",
      "\u001b[2m\u001b[36m(train_de pid=3627776)\u001b[0m Epoch: 52|Train Loss: 0.3127570019827949|Val Loss: 0.20234757146277438\u001b[32m [repeated 62x across cluster]\u001b[0m\n",
      "\u001b[2m\u001b[36m(train_de pid=3631024)\u001b[0m Epoch: 7|Train Loss: nan|Val Loss: nan\u001b[32m [repeated 9x across cluster]\u001b[0m\n",
      "\u001b[2m\u001b[36m(train_de pid=3627323)\u001b[0m Early stopping triggered at epoch 57\n",
      "\u001b[2m\u001b[36m(train_de pid=3628561)\u001b[0m Epoch: 74|Train Loss: 0.4990167575223105|Val Loss: 0.1954551936833413\u001b[32m [repeated 75x across cluster]\u001b[0m\n",
      "\u001b[2m\u001b[36m(train_de pid=3628419)\u001b[0m Epoch: 12|Train Loss: nan|Val Loss: nan\u001b[32m [repeated 9x across cluster]\u001b[0m\n",
      "\u001b[2m\u001b[36m(train_de pid=3626795)\u001b[0m Epoch: 66|Train Loss: 0.11810009500810079|Val Loss: 0.2085313114292892\u001b[32m [repeated 73x across cluster]\u001b[0m\n",
      "\u001b[2m\u001b[36m(train_de pid=3626519)\u001b[0m Early stopping triggered at epoch 59\n",
      "\u001b[2m\u001b[36m(train_de pid=3628826)\u001b[0m Epoch: 12|Train Loss: nan|Val Loss: nan\u001b[32m [repeated 9x across cluster]\u001b[0m\n"
     ]
    },
    {
     "name": "stderr",
     "output_type": "stream",
     "text": [
      "NaN or Inf found in input tensor.\n"
     ]
    },
    {
     "name": "stdout",
     "output_type": "stream",
     "text": [
      "\u001b[2m\u001b[36m(train_de pid=3627392)\u001b[0m Epoch: 64|Train Loss: -0.1877404749393463|Val Loss: 0.21120751744099692\u001b[32m [repeated 58x across cluster]\u001b[0m\n",
      "\u001b[2m\u001b[36m(train_de pid=3630935)\u001b[0m Early stopping triggered at epoch 66\u001b[32m [repeated 3x across cluster]\u001b[0m\n",
      "\u001b[2m\u001b[36m(train_de pid=3626519)\u001b[0m Epoch: 2|Train Loss: nan|Val Loss: nan\u001b[32m [repeated 13x across cluster]\u001b[0m\n",
      "\u001b[2m\u001b[36m(train_de pid=3626657)\u001b[0m Epoch: 77|Train Loss: 0.2676485354701678|Val Loss: 0.18131576558308943\u001b[32m [repeated 48x across cluster]\u001b[0m\n",
      "\u001b[2m\u001b[36m(train_de pid=3626519)\u001b[0m Epoch: 5|Train Loss: nan|Val Loss: nan\u001b[32m [repeated 16x across cluster]\u001b[0m\n",
      "\u001b[2m\u001b[36m(train_de pid=3628737)\u001b[0m Epoch: 13|Train Loss: 0.47350003719329836|Val Loss: 0.21471173866542384\u001b[32m [repeated 55x across cluster]\u001b[0m\n",
      "\u001b[2m\u001b[36m(train_de pid=3630810)\u001b[0m Early stopping triggered at epoch 145\n",
      "\u001b[2m\u001b[36m(train_de pid=3629615)\u001b[0m Epoch: 55|Train Loss: nan|Val Loss: nan\u001b[32m [repeated 17x across cluster]\u001b[0m\n",
      "\u001b[2m\u001b[36m(train_de pid=3626469)\u001b[0m Epoch: 48|Train Loss: 0.2316223204135895|Val Loss: 0.2007490590251982\u001b[32m [repeated 44x across cluster]\u001b[0m\n"
     ]
    },
    {
     "name": "stderr",
     "output_type": "stream",
     "text": [
      "NaN or Inf found in input tensor.\n"
     ]
    },
    {
     "name": "stdout",
     "output_type": "stream",
     "text": [
      "\u001b[2m\u001b[36m(train_de pid=3626519)\u001b[0m Early stopping triggered at epoch 11\u001b[32m [repeated 4x across cluster]\u001b[0m\n",
      "\u001b[2m\u001b[36m(train_de pid=3628196)\u001b[0m Epoch: 29|Train Loss: nan|Val Loss: nan\u001b[32m [repeated 9x across cluster]\u001b[0m"
     ]
    },
    {
     "name": "stderr",
     "output_type": "stream",
     "text": [
      "NaN or Inf found in input tensor.\n"
     ]
    },
    {
     "name": "stdout",
     "output_type": "stream",
     "text": [
      "\n",
      "\u001b[2m\u001b[36m(train_de pid=3629615)\u001b[0m Epoch: 0|Train Loss: 0.18115848302841187|Val Loss: 0.28579245472168885\u001b[32m [repeated 54x across cluster]\u001b[0m\n",
      "\u001b[2m\u001b[36m(train_de pid=3628826)\u001b[0m Early stopping triggered at epoch 18\n",
      "\u001b[2m\u001b[36m(train_de pid=3627392)\u001b[0m Early stopping triggered at epoch 4\n",
      "\u001b[2m\u001b[36m(train_de pid=3632074)\u001b[0m Epoch: 1|Train Loss: nan|Val Loss: nan\u001b[32m [repeated 7x across cluster]\u001b[0m\n",
      "\u001b[2m\u001b[36m(train_de pid=3626519)\u001b[0m Epoch: 36|Train Loss: 0.09072654942671458|Val Loss: 0.19913968206806618\u001b[32m [repeated 71x across cluster]\u001b[0m\n",
      "\u001b[2m\u001b[36m(train_de pid=3627048)\u001b[0m Epoch: 15|Train Loss: nan|Val Loss: nan\u001b[32m [repeated 9x across cluster]\u001b[0m\n"
     ]
    },
    {
     "name": "stderr",
     "output_type": "stream",
     "text": [
      "NaN or Inf found in input tensor.\n"
     ]
    },
    {
     "name": "stdout",
     "output_type": "stream",
     "text": [
      "\u001b[2m\u001b[36m(train_de pid=3630935)\u001b[0m Early stopping triggered at epoch 8\n"
     ]
    },
    {
     "name": "stderr",
     "output_type": "stream",
     "text": [
      "NaN or Inf found in input tensor.\n"
     ]
    },
    {
     "name": "stdout",
     "output_type": "stream",
     "text": [
      "\u001b[2m\u001b[36m(train_de pid=3631024)\u001b[0m Epoch: 3|Train Loss: 0.3027879496415456|Val Loss: 0.1983751898838414\u001b[32m [repeated 68x across cluster]\u001b[0m\n",
      "\u001b[2m\u001b[36m(train_de pid=3632074)\u001b[0m Epoch: 3|Train Loss: nan|Val Loss: nan\u001b[32m [repeated 5x across cluster]\u001b[0m\n",
      "\u001b[2m\u001b[36m(train_de pid=3627693)\u001b[0m Early stopping triggered at epoch 53\u001b[32m [repeated 3x across cluster]\u001b[0m\n",
      "\u001b[2m\u001b[36m(train_de pid=3626795)\u001b[0m Epoch: 23|Train Loss: -0.03193271098037561|Val Loss: 0.20277717241492027\u001b[32m [repeated 72x across cluster]\u001b[0m\n",
      "\u001b[2m\u001b[36m(train_de pid=3632074)\u001b[0m Epoch: 4|Train Loss: nan|Val Loss: nan\u001b[32m [repeated 9x across cluster]\u001b[0m\n",
      "\u001b[2m\u001b[36m(train_de pid=3627323)\u001b[0m Early stopping triggered at epoch 37\n",
      "\u001b[2m\u001b[36m(train_de pid=3626583)\u001b[0m Epoch: 39|Train Loss: -0.01460861787199974|Val Loss: 0.1633761000671234\u001b[32m [repeated 66x across cluster]\u001b[0m\n",
      "\u001b[2m\u001b[36m(train_de pid=3631729)\u001b[0m Early stopping triggered at epoch 14\n",
      "\u001b[2m\u001b[36m(train_de pid=3627392)\u001b[0m Epoch: 2|Train Loss: nan|Val Loss: nan\u001b[32m [repeated 9x across cluster]\u001b[0m\n",
      "\u001b[2m\u001b[36m(train_de pid=3631024)\u001b[0m Epoch: 52|Train Loss: -0.05889087791244189|Val Loss: 0.20197982193591693\u001b[32m [repeated 68x across cluster]\u001b[0m\n",
      "\u001b[2m\u001b[36m(train_de pid=3628561)\u001b[0m Early stopping triggered at epoch 14\u001b[32m [repeated 2x across cluster]\u001b[0m\n",
      "\u001b[2m\u001b[36m(train_de pid=3628419)\u001b[0m Epoch: 22|Train Loss: nan|Val Loss: nan\u001b[32m [repeated 4x across cluster]\u001b[0m\n",
      "\u001b[2m\u001b[36m(train_de pid=3626469)\u001b[0m Epoch: 4|Train Loss: 0.15871726969877878|Val Loss: 0.19273778247750467\u001b[32m [repeated 63x across cluster]\u001b[0m\n"
     ]
    },
    {
     "name": "stderr",
     "output_type": "stream",
     "text": [
      "NaN or Inf found in input tensor.\n"
     ]
    },
    {
     "name": "stdout",
     "output_type": "stream",
     "text": [
      "\u001b[2m\u001b[36m(train_de pid=3627392)\u001b[0m Early stopping triggered at epoch 3\u001b[32m [repeated 2x across cluster]\u001b[0m\n",
      "\u001b[2m\u001b[36m(train_de pid=3626519)\u001b[0m Epoch: 9|Train Loss: nan|Val Loss: nan\u001b[32m [repeated 9x across cluster]\u001b[0m\n",
      "\u001b[2m\u001b[36m(train_de pid=3626657)\u001b[0m Epoch: 112|Train Loss: 0.2479767526189486|Val Loss: 0.2127248423085326\u001b[32m [repeated 71x across cluster]\u001b[0m\n",
      "\u001b[2m\u001b[36m(train_de pid=3631024)\u001b[0m Early stopping triggered at epoch 82\n",
      "\u001b[2m\u001b[36m(train_de pid=3628561)\u001b[0m Epoch: 2|Train Loss: nan|Val Loss: nan\u001b[32m [repeated 9x across cluster]\u001b[0m\n",
      "\u001b[2m\u001b[36m(train_de pid=3626469)\u001b[0m Early stopping triggered at epoch 15\n",
      "\u001b[2m\u001b[36m(train_de pid=3630935)\u001b[0m Epoch: 27|Train Loss: 0.1501394377814399|Val Loss: 0.1938460199444583\u001b[32m [repeated 62x across cluster]\u001b[0m\n",
      "\u001b[2m\u001b[36m(train_de pid=3628561)\u001b[0m Epoch: 3|Train Loss: nan|Val Loss: nan\u001b[32m [repeated 7x across cluster]\u001b[0m\n",
      "\u001b[2m\u001b[36m(train_de pid=3626795)\u001b[0m Early stopping triggered at epoch 49\n",
      "\u001b[2m\u001b[36m(train_de pid=3626795)\u001b[0m Epoch: 3|Train Loss: 0.09121516644954682|Val Loss: 0.2135790082377692\u001b[32m [repeated 60x across cluster]\u001b[0m\n",
      "\u001b[2m\u001b[36m(train_de pid=3626920)\u001b[0m Epoch: 25|Train Loss: nan|Val Loss: nan\u001b[32m [repeated 9x across cluster]\u001b[0m\n",
      "\u001b[2m\u001b[36m(train_de pid=3626469)\u001b[0m Epoch: 11|Train Loss: 0.3767727017402649|Val Loss: 0.36580175965240125\u001b[32m [repeated 64x across cluster]\u001b[0m\n"
     ]
    },
    {
     "name": "stderr",
     "output_type": "stream",
     "text": [
      "NaN or Inf found in input tensor.\n"
     ]
    },
    {
     "name": "stdout",
     "output_type": "stream",
     "text": [
      "\u001b[2m\u001b[36m(train_de pid=3628196)\u001b[0m Early stopping triggered at epoch 38\n",
      "\u001b[2m\u001b[36m(train_de pid=3631729)\u001b[0m Epoch: 0|Train Loss: nan|Val Loss: nan\u001b[32m [repeated 6x across cluster]\u001b[0m\n",
      "\u001b[2m\u001b[36m(train_de pid=3626795)\u001b[0m Epoch: 21|Train Loss: 0.21624097228050232|Val Loss: 0.19957969912638268\u001b[32m [repeated 54x across cluster]\u001b[0m\n",
      "\u001b[2m\u001b[36m(train_de pid=3628737)\u001b[0m Early stopping triggered at epoch 41\u001b[32m [repeated 2x across cluster]\u001b[0m\n",
      "\u001b[2m\u001b[36m(train_de pid=3626519)\u001b[0m Epoch: 20|Train Loss: nan|Val Loss: nan\u001b[32m [repeated 10x across cluster]\u001b[0m\n",
      "\u001b[2m\u001b[36m(train_de pid=3626469)\u001b[0m Epoch: 21|Train Loss: 0.15324790279070535|Val Loss: 0.2842946131631993\u001b[32m [repeated 55x across cluster]\u001b[0m\n",
      "\u001b[2m\u001b[36m(train_de pid=3627776)\u001b[0m Early stopping triggered at epoch 108\n",
      "\u001b[2m\u001b[36m(train_de pid=3626519)\u001b[0m Epoch: 22|Train Loss: nan|Val Loss: nan\u001b[32m [repeated 8x across cluster]\u001b[0m\n",
      "\u001b[2m\u001b[36m(train_de pid=3626469)\u001b[0m Early stopping triggered at epoch 24\n",
      "\u001b[2m\u001b[36m(train_de pid=3627392)\u001b[0m Epoch: 24|Train Loss: 0.11834773007366392|Val Loss: 0.23026433770751786\u001b[32m [repeated 55x across cluster]\u001b[0m\n",
      "\u001b[2m\u001b[36m(train_de pid=3626469)\u001b[0m Epoch: 1|Train Loss: nan|Val Loss: nan\u001b[32m [repeated 8x across cluster]\u001b[0m\n",
      "\u001b[2m\u001b[36m(train_de pid=3630935)\u001b[0m Early stopping triggered at epoch 44\u001b[32m [repeated 2x across cluster]\u001b[0m\n",
      "\u001b[2m\u001b[36m(train_de pid=3628196)\u001b[0m Epoch: 10|Train Loss: 0.07007507069243325|Val Loss: 0.2061336456746277\u001b[32m [repeated 42x across cluster]\u001b[0m\n",
      "\u001b[2m\u001b[36m(train_de pid=3626469)\u001b[0m Epoch: 4|Train Loss: nan|Val Loss: nan\u001b[32m [repeated 11x across cluster]\u001b[0m\n",
      "\u001b[2m\u001b[36m(train_de pid=3627776)\u001b[0m Early stopping triggered at epoch 2\n",
      "\u001b[2m\u001b[36m(train_de pid=3627693)\u001b[0m Epoch: 96|Train Loss: 0.232608756848744|Val Loss: 0.1722518920543648\u001b[32m [repeated 52x across cluster]\u001b[0m\n",
      "\u001b[2m\u001b[36m(train_de pid=3626795)\u001b[0m Early stopping triggered at epoch 53\n",
      "\u001b[2m\u001b[36m(train_de pid=3626657)\u001b[0m Epoch: 2|Train Loss: nan|Val Loss: nan\u001b[32m [repeated 13x across cluster]\u001b[0m\n",
      "\u001b[2m\u001b[36m(train_de pid=3630810)\u001b[0m Epoch: 65|Train Loss: 0.13951663672924042|Val Loss: 0.20452565370526696\u001b[32m [repeated 43x across cluster]\u001b[0m\n",
      "\u001b[2m\u001b[36m(train_de pid=3626920)\u001b[0m Epoch: 29|Train Loss: nan|Val Loss: nan\u001b[32m [repeated 13x across cluster]\u001b[0m\n",
      "\u001b[2m\u001b[36m(train_de pid=3626519)\u001b[0m Early stopping triggered at epoch 34\n",
      "\u001b[2m\u001b[36m(train_de pid=3628826)\u001b[0m Epoch: 41|Train Loss: 0.46608973741531373|Val Loss: 0.2112585997110919\u001b[32m [repeated 42x across cluster]\u001b[0m\n"
     ]
    },
    {
     "name": "stderr",
     "output_type": "stream",
     "text": [
      "NaN or Inf found in input tensor.\n"
     ]
    },
    {
     "name": "stdout",
     "output_type": "stream",
     "text": [
      "\u001b[2m\u001b[36m(train_de pid=3627048)\u001b[0m Epoch: 24|Train Loss: nan|Val Loss: nan\u001b[32m [repeated 12x across cluster]\u001b[0m\n",
      "\u001b[2m\u001b[36m(train_de pid=3627693)\u001b[0m Early stopping triggered at epoch 112\n",
      "\u001b[2m\u001b[36m(train_de pid=3627392)\u001b[0m Epoch: 38|Train Loss: 0.05881146258778042|Val Loss: 0.17125308789588786\u001b[32m [repeated 36x across cluster]\u001b[0m\n"
     ]
    },
    {
     "name": "stderr",
     "output_type": "stream",
     "text": [
      "NaN or Inf found in input tensor.\n"
     ]
    },
    {
     "name": "stdout",
     "output_type": "stream",
     "text": [
      "\u001b[2m\u001b[36m(train_de pid=3628419)\u001b[0m Early stopping triggered at epoch 34\n",
      "\u001b[2m\u001b[36m(train_de pid=3626469)\u001b[0m Epoch: 18|Train Loss: nan|Val Loss: nan\u001b[32m [repeated 9x across cluster]\u001b[0m\n",
      "\u001b[2m\u001b[36m(train_de pid=3627323)\u001b[0m Epoch: 34|Train Loss: -0.13101054231325784|Val Loss: 0.1539005185315265\u001b[32m [repeated 43x across cluster]\u001b[0m\n"
     ]
    },
    {
     "name": "stderr",
     "output_type": "stream",
     "text": [
      "NaN or Inf found in input tensor.\n"
     ]
    },
    {
     "name": "stdout",
     "output_type": "stream",
     "text": [
      "\u001b[2m\u001b[36m(train_de pid=3626469)\u001b[0m Early stopping triggered at epoch 21\u001b[32m [repeated 2x across cluster]\u001b[0m\n",
      "\u001b[2m\u001b[36m(train_de pid=3632074)\u001b[0m Epoch: 19|Train Loss: nan|Val Loss: nan\u001b[32m [repeated 8x across cluster]\u001b[0m\n",
      "\u001b[2m\u001b[36m(train_de pid=3626519)\u001b[0m Epoch: 15|Train Loss: 0.24563485383987427|Val Loss: 0.21337589386675973\u001b[32m [repeated 37x across cluster]\u001b[0m\n",
      "\u001b[2m\u001b[36m(train_de pid=3627323)\u001b[0m Early stopping triggered at epoch 1\u001b[32m [repeated 2x across cluster]\u001b[0m\n",
      "\u001b[2m\u001b[36m(train_de pid=3630145)\u001b[0m Epoch: 32|Train Loss: nan|Val Loss: nan\u001b[32m [repeated 6x across cluster]\u001b[0m\n",
      "\u001b[2m\u001b[36m(train_de pid=3628737)\u001b[0m Epoch: 9|Train Loss: 0.11287670359015464|Val Loss: 0.16487540723234692\u001b[32m [repeated 38x across cluster]\u001b[0m\n"
     ]
    },
    {
     "name": "stderr",
     "output_type": "stream",
     "text": [
      "NaN or Inf found in input tensor.\n"
     ]
    },
    {
     "name": "stdout",
     "output_type": "stream",
     "text": [
      "\u001b[2m\u001b[36m(train_de pid=3629371)\u001b[0m Early stopping triggered at epoch 63\u001b[32m [repeated 2x across cluster]\u001b[0m\n",
      "\u001b[2m\u001b[36m(train_de pid=3626657)\u001b[0m Epoch: 5|Train Loss: nan|Val Loss: nan\u001b[32m [repeated 7x across cluster]\u001b[0m\n",
      "\u001b[2m\u001b[36m(train_de pid=3627693)\u001b[0m Epoch: 0|Train Loss: 0.2973012539247672|Val Loss: 0.3638511881332046\u001b[32m [repeated 34x across cluster]\u001b[0m\n",
      "\u001b[2m\u001b[36m(train_de pid=3627693)\u001b[0m Early stopping triggered at epoch 3\n",
      "\u001b[2m\u001b[36m(train_de pid=3628561)\u001b[0m Epoch: 21|Train Loss: nan|Val Loss: nan\u001b[32m [repeated 11x across cluster]\u001b[0m\n"
     ]
    },
    {
     "name": "stderr",
     "output_type": "stream",
     "text": [
      "NaN or Inf found in input tensor.\n"
     ]
    },
    {
     "name": "stdout",
     "output_type": "stream",
     "text": [
      "\u001b[2m\u001b[36m(train_de pid=3627048)\u001b[0m Early stopping triggered at epoch 27\n",
      "\u001b[2m\u001b[36m(train_de pid=3626469)\u001b[0m Epoch: 6|Train Loss: 0.5197929541269938|Val Loss: 0.19778013062973818\u001b[32m [repeated 38x across cluster]\u001b[0m\n",
      "\u001b[2m\u001b[36m(train_de pid=3631729)\u001b[0m Epoch: 2|Train Loss: nan|Val Loss: nan\u001b[32m [repeated 11x across cluster]\u001b[0m\n",
      "\u001b[2m\u001b[36m(train_de pid=3631571)\u001b[0m Early stopping triggered at epoch 13\n",
      "\u001b[2m\u001b[36m(train_de pid=3627048)\u001b[0m Early stopping triggered at epoch 2\n",
      "\u001b[2m\u001b[36m(train_de pid=3626519)\u001b[0m Epoch: 37|Train Loss: 0.26449762284755707|Val Loss: 0.2041757479077205\u001b[32m [repeated 45x across cluster]\u001b[0m\n"
     ]
    },
    {
     "name": "stderr",
     "output_type": "stream",
     "text": [
      "NaN or Inf found in input tensor.\n"
     ]
    },
    {
     "name": "stdout",
     "output_type": "stream",
     "text": [
      "\u001b[2m\u001b[36m(train_de pid=3628561)\u001b[0m Epoch: 23|Train Loss: nan|Val Loss: nan\u001b[32m [repeated 8x across cluster]\u001b[0m\n"
     ]
    },
    {
     "name": "stderr",
     "output_type": "stream",
     "text": [
      "NaN or Inf found in input tensor.\n"
     ]
    },
    {
     "name": "stdout",
     "output_type": "stream",
     "text": [
      "\u001b[2m\u001b[36m(train_de pid=3627048)\u001b[0m Early stopping triggered at epoch 1\u001b[32m [repeated 2x across cluster]\u001b[0m\n",
      "\u001b[2m\u001b[36m(train_de pid=3628196)\u001b[0m Epoch: 43|Train Loss: 0.20129976007673475|Val Loss: 0.18316224282090035\u001b[32m [repeated 39x across cluster]\u001b[0m\n",
      "\u001b[2m\u001b[36m(train_de pid=3632074)\u001b[0m Epoch: 24|Train Loss: nan|Val Loss: nan\u001b[32m [repeated 16x across cluster]\u001b[0m\n",
      "\u001b[2m\u001b[36m(train_de pid=3631571)\u001b[0m Early stopping triggered at epoch 12\u001b[32m [repeated 3x across cluster]\u001b[0m\n",
      "\u001b[2m\u001b[36m(train_de pid=3628001)\u001b[0m Epoch: 47|Train Loss: 0.16936825546953413|Val Loss: 0.18787779286827166\u001b[32m [repeated 43x across cluster]\u001b[0m\n",
      "\u001b[2m\u001b[36m(train_de pid=3630145)\u001b[0m Epoch: 36|Train Loss: nan|Val Loss: nan\u001b[32m [repeated 8x across cluster]\u001b[0m\n",
      "\u001b[2m\u001b[36m(train_de pid=3627693)\u001b[0m Epoch: 13|Train Loss: 0.305070623755455|Val Loss: 0.2144601518243906\u001b[32m [repeated 40x across cluster]\u001b[0m\n",
      "\u001b[2m\u001b[36m(train_de pid=3623099)\u001b[0m Epoch: 13|Train Loss: nan|Val Loss: nan\u001b[32m [repeated 16x across cluster]\u001b[0m\n",
      "\u001b[2m\u001b[36m(train_de pid=3630810)\u001b[0m Epoch: 19|Train Loss: 0.1738045190771421|Val Loss: 0.19699628234786146\u001b[32m [repeated 37x across cluster]\u001b[0m\n"
     ]
    },
    {
     "name": "stderr",
     "output_type": "stream",
     "text": [
      "NaN or Inf found in input tensor.\n"
     ]
    },
    {
     "name": "stdout",
     "output_type": "stream",
     "text": [
      "\u001b[2m\u001b[36m(train_de pid=3630145)\u001b[0m Early stopping triggered at epoch 37\n",
      "\u001b[2m\u001b[36m(train_de pid=3629371)\u001b[0m Epoch: 11|Train Loss: nan|Val Loss: nan\u001b[32m [repeated 13x across cluster]\u001b[0m\n"
     ]
    },
    {
     "name": "stderr",
     "output_type": "stream",
     "text": [
      "NaN or Inf found in input tensor.\n"
     ]
    },
    {
     "name": "stdout",
     "output_type": "stream",
     "text": [
      "\u001b[2m\u001b[36m(train_de pid=3626469)\u001b[0m Epoch: 18|Train Loss: -0.05946041395266851|Val Loss: 0.19368688973287743\u001b[32m [repeated 39x across cluster]\u001b[0m\n",
      "\u001b[2m\u001b[36m(train_de pid=3632074)\u001b[0m Early stopping triggered at epoch 27\n",
      "\u001b[2m\u001b[36m(train_de pid=3623099)\u001b[0m Epoch: 23|Train Loss: nan|Val Loss: nan\u001b[32m [repeated 15x across cluster]\u001b[0m\n",
      "\u001b[2m\u001b[36m(train_de pid=3626469)\u001b[0m Early stopping triggered at epoch 19\n",
      "\u001b[2m\u001b[36m(train_de pid=3627048)\u001b[0m Epoch: 5|Train Loss: 0.2857263907790184|Val Loss: 0.1156671184906736\u001b[32m [repeated 36x across cluster]\u001b[0m\n",
      "\u001b[2m\u001b[36m(train_de pid=3623099)\u001b[0m Epoch: 26|Train Loss: nan|Val Loss: nan\u001b[32m [repeated 10x across cluster]\u001b[0m\n",
      "\u001b[2m\u001b[36m(train_de pid=3632074)\u001b[0m Early stopping triggered at epoch 3\n",
      "\u001b[2m\u001b[36m(train_de pid=3626519)\u001b[0m Early stopping triggered at epoch 71\n",
      "\u001b[2m\u001b[36m(train_de pid=3626519)\u001b[0m Epoch: 0|Train Loss: 0.3349039018154144|Val Loss: 0.20683240021336013\u001b[32m [repeated 37x across cluster]\u001b[0m\n",
      "\u001b[2m\u001b[36m(train_de pid=3626583)\u001b[0m Epoch: 18|Train Loss: nan|Val Loss: nan\u001b[32m [repeated 15x across cluster]\u001b[0m\n",
      "\u001b[2m\u001b[36m(train_de pid=3630145)\u001b[0m Early stopping triggered at epoch 11\n",
      "\u001b[2m\u001b[36m(train_de pid=3628196)\u001b[0m Epoch: 63|Train Loss: 0.22091368006335366|Val Loss: 0.1935509384299318\u001b[32m [repeated 36x across cluster]\u001b[0m\n"
     ]
    },
    {
     "name": "stderr",
     "output_type": "stream",
     "text": [
      "NaN or Inf found in input tensor.\n"
     ]
    },
    {
     "name": "stdout",
     "output_type": "stream",
     "text": [
      "\u001b[2m\u001b[36m(train_de pid=3628561)\u001b[0m Early stopping triggered at epoch 33\n"
     ]
    },
    {
     "name": "stderr",
     "output_type": "stream",
     "text": [
      "NaN or Inf found in input tensor.\n"
     ]
    },
    {
     "name": "stdout",
     "output_type": "stream",
     "text": [
      "\u001b[2m\u001b[36m(train_de pid=3627693)\u001b[0m Epoch: 24|Train Loss: nan|Val Loss: nan\u001b[32m [repeated 15x across cluster]\u001b[0m\n",
      "\u001b[2m\u001b[36m(train_de pid=3628826)\u001b[0m Epoch: 73|Train Loss: 0.33735796213150027|Val Loss: 0.20605979871593025\u001b[32m [repeated 37x across cluster]\u001b[0m\n",
      "\u001b[2m\u001b[36m(train_de pid=3628196)\u001b[0m Early stopping triggered at epoch 65\u001b[32m [repeated 2x across cluster]\u001b[0m\n",
      "\u001b[2m\u001b[36m(train_de pid=3627693)\u001b[0m Epoch: 26|Train Loss: nan|Val Loss: nan\u001b[32m [repeated 12x across cluster]\u001b[0m\n",
      "\u001b[2m\u001b[36m(train_de pid=3627392)\u001b[0m Epoch: 80|Train Loss: 0.32801466352409786|Val Loss: 0.2665885890385619\u001b[32m [repeated 44x across cluster]\u001b[0m\n",
      "\u001b[2m\u001b[36m(train_de pid=3629371)\u001b[0m Early stopping triggered at epoch 20\n"
     ]
    },
    {
     "name": "stderr",
     "output_type": "stream",
     "text": [
      "NaN or Inf found in input tensor.\n"
     ]
    },
    {
     "name": "stdout",
     "output_type": "stream",
     "text": [
      "\u001b[2m\u001b[36m(train_de pid=3630145)\u001b[0m Epoch: 13|Train Loss: nan|Val Loss: nan\u001b[32m [repeated 13x across cluster]\u001b[0m\n"
     ]
    },
    {
     "name": "stderr",
     "output_type": "stream",
     "text": [
      "\u001b[2m\u001b[36m(bundle_reservation_check_func pid=3635982)\u001b[0m 2023-11-28 15:51:58,297\tERROR worker.py:779 -- Worker exits with an exit code 1.\n",
      "\u001b[2m\u001b[36m(bundle_reservation_check_func pid=3635982)\u001b[0m Traceback (most recent call last):\n",
      "\u001b[2m\u001b[36m(bundle_reservation_check_func pid=3635982)\u001b[0m   File \"python/ray/_raylet.pyx\", line 1787, in ray._raylet.task_execution_handler\n",
      "\u001b[2m\u001b[36m(bundle_reservation_check_func pid=3635982)\u001b[0m   File \"python/ray/_raylet.pyx\", line 1684, in ray._raylet.execute_task_with_cancellation_handler\n",
      "\u001b[2m\u001b[36m(bundle_reservation_check_func pid=3635982)\u001b[0m   File \"python/ray/_raylet.pyx\", line 1366, in ray._raylet.execute_task\n",
      "\u001b[2m\u001b[36m(bundle_reservation_check_func pid=3635982)\u001b[0m   File \"python/ray/_raylet.pyx\", line 1367, in ray._raylet.execute_task\n",
      "\u001b[2m\u001b[36m(bundle_reservation_check_func pid=3635982)\u001b[0m   File \"python/ray/_raylet.pyx\", line 1370, in ray._raylet.execute_task\n",
      "\u001b[2m\u001b[36m(bundle_reservation_check_func pid=3635982)\u001b[0m   File \"python/ray/_raylet.pyx\", line 1398, in ray._raylet.execute_task\n",
      "\u001b[2m\u001b[36m(bundle_reservation_check_func pid=3635982)\u001b[0m   File \"python/ray/_raylet.pyx\", line 1400, in ray._raylet.execute_task\n",
      "\u001b[2m\u001b[36m(bundle_reservation_check_func pid=3635982)\u001b[0m   File \"/home/sgupta/anaconda3/envs/py39SAM/lib/python3.9/site-packages/ray/_private/worker.py\", line 724, in deserialize_objects\n",
      "\u001b[2m\u001b[36m(bundle_reservation_check_func pid=3635982)\u001b[0m     context = self.get_serialization_context()\n",
      "\u001b[2m\u001b[36m(bundle_reservation_check_func pid=3635982)\u001b[0m   File \"/home/sgupta/anaconda3/envs/py39SAM/lib/python3.9/site-packages/ray/_private/worker.py\", line 612, in get_serialization_context\n",
      "\u001b[2m\u001b[36m(bundle_reservation_check_func pid=3635982)\u001b[0m     context_map[job_id] = serialization.SerializationContext(self)\n",
      "\u001b[2m\u001b[36m(bundle_reservation_check_func pid=3635982)\u001b[0m   File \"/home/sgupta/anaconda3/envs/py39SAM/lib/python3.9/site-packages/ray/_private/serialization.py\", line 151, in __init__\n",
      "\u001b[2m\u001b[36m(bundle_reservation_check_func pid=3635982)\u001b[0m     serialization_addons.apply(self)\n",
      "\u001b[2m\u001b[36m(bundle_reservation_check_func pid=3635982)\u001b[0m   File \"/home/sgupta/anaconda3/envs/py39SAM/lib/python3.9/site-packages/ray/util/serialization_addons.py\", line 79, in apply\n",
      "\u001b[2m\u001b[36m(bundle_reservation_check_func pid=3635982)\u001b[0m     register_starlette_serializer(serialization_context)\n",
      "\u001b[2m\u001b[36m(bundle_reservation_check_func pid=3635982)\u001b[0m   File \"/home/sgupta/anaconda3/envs/py39SAM/lib/python3.9/site-packages/ray/util/serialization_addons.py\", line 63, in register_starlette_serializer\n",
      "\u001b[2m\u001b[36m(bundle_reservation_check_func pid=3635982)\u001b[0m     import starlette.datastructures\n",
      "\u001b[2m\u001b[36m(bundle_reservation_check_func pid=3635982)\u001b[0m   File \"/home/sgupta/anaconda3/envs/py39SAM/lib/python3.9/site-packages/starlette/datastructures.py\", line 7, in <module>\n",
      "\u001b[2m\u001b[36m(bundle_reservation_check_func pid=3635982)\u001b[0m     from starlette.types import Scope\n",
      "\u001b[2m\u001b[36m(bundle_reservation_check_func pid=3635982)\u001b[0m   File \"/home/sgupta/anaconda3/envs/py39SAM/lib/python3.9/site-packages/starlette/types.py\", line 8, in <module>\n",
      "\u001b[2m\u001b[36m(bundle_reservation_check_func pid=3635982)\u001b[0m     Receive = typing.Callable[[], typing.Awaitable[Message]]\n",
      "\u001b[2m\u001b[36m(bundle_reservation_check_func pid=3635982)\u001b[0m   File \"/home/sgupta/anaconda3/envs/py39SAM/lib/python3.9/typing.py\", line 274, in inner\n",
      "\u001b[2m\u001b[36m(bundle_reservation_check_func pid=3635982)\u001b[0m     return cached(*args, **kwds)\n",
      "\u001b[2m\u001b[36m(bundle_reservation_check_func pid=3635982)\u001b[0m   File \"/home/sgupta/anaconda3/envs/py39SAM/lib/python3.9/typing.py\", line 839, in __getitem__\n",
      "\u001b[2m\u001b[36m(bundle_reservation_check_func pid=3635982)\u001b[0m     return self.copy_with(params)\n",
      "\u001b[2m\u001b[36m(bundle_reservation_check_func pid=3635982)\u001b[0m   File \"/home/sgupta/anaconda3/envs/py39SAM/lib/python3.9/typing.py\", line 842, in copy_with\n",
      "\u001b[2m\u001b[36m(bundle_reservation_check_func pid=3635982)\u001b[0m     return _GenericAlias(self.__origin__, params,\n",
      "\u001b[2m\u001b[36m(bundle_reservation_check_func pid=3635982)\u001b[0m   File \"/home/sgupta/anaconda3/envs/py39SAM/lib/python3.9/typing.py\", line 746, in __init__\n",
      "\u001b[2m\u001b[36m(bundle_reservation_check_func pid=3635982)\u001b[0m     self.__parameters__ = _collect_type_vars(params)\n",
      "\u001b[2m\u001b[36m(bundle_reservation_check_func pid=3635982)\u001b[0m   File \"/home/sgupta/anaconda3/envs/py39SAM/lib/python3.9/site-packages/typing_extensions.py\", line 199, in _collect_type_vars\n",
      "\u001b[2m\u001b[36m(bundle_reservation_check_func pid=3635982)\u001b[0m     tvars.extend([t for t in t.__parameters__ if t not in tvars])\n",
      "\u001b[2m\u001b[36m(bundle_reservation_check_func pid=3635982)\u001b[0m   File \"/home/sgupta/anaconda3/envs/py39SAM/lib/python3.9/site-packages/ray/_private/worker.py\", line 776, in sigterm_handler\n",
      "\u001b[2m\u001b[36m(bundle_reservation_check_func pid=3635982)\u001b[0m     sys.exit(1)\n",
      "\u001b[2m\u001b[36m(bundle_reservation_check_func pid=3635982)\u001b[0m SystemExit: 1\n",
      "2023-11-28 15:51:58,558\tERROR worker.py:405 -- Unhandled error (suppress with 'RAY_IGNORE_UNHANDLED_ERRORS=1'): The worker died unexpectedly while executing this task. Check python-core-worker-*.log files for more information.\n"
     ]
    },
    {
     "name": "stdout",
     "output_type": "stream",
     "text": [
      "\u001b[2m\u001b[36m(train_de pid=3628737)\u001b[0m Epoch: 22|Train Loss: 0.11692163795232773|Val Loss: 0.1517009107048498\u001b[32m [repeated 32x across cluster]\u001b[0m\n",
      "\u001b[2m\u001b[36m(train_de pid=3626519)\u001b[0m Early stopping triggered at epoch 13\u001b[32m [repeated 3x across cluster]\u001b[0m\n",
      "\u001b[2m\u001b[36m(train_de pid=3630145)\u001b[0m Epoch: 16|Train Loss: nan|Val Loss: nan\u001b[32m [repeated 7x across cluster]\u001b[0m\n",
      "\u001b[2m\u001b[36m(train_de pid=3623099)\u001b[0m Epoch: 14|Train Loss: 0.298599686473608|Val Loss: 0.19349929008361264\u001b[32m [repeated 47x across cluster]\u001b[0m\n",
      "\u001b[2m\u001b[36m(train_de pid=3630145)\u001b[0m Epoch: 20|Train Loss: nan|Val Loss: nan\u001b[32m [repeated 12x across cluster]\u001b[0m\n",
      "\u001b[2m\u001b[36m(train_de pid=3631392)\u001b[0m Early stopping triggered at epoch 51\n",
      "\u001b[2m\u001b[36m(train_de pid=3628001)\u001b[0m Epoch: 64|Train Loss: 0.3858812418248918|Val Loss: 0.19002052300040506\u001b[32m [repeated 41x across cluster]\u001b[0m\n",
      "\u001b[2m\u001b[36m(train_de pid=3628419)\u001b[0m Epoch: 37|Train Loss: nan|Val Loss: nan\u001b[32m [repeated 11x across cluster]\u001b[0m\n",
      "\u001b[2m\u001b[36m(train_de pid=3628561)\u001b[0m Early stopping triggered at epoch 4\n",
      "\u001b[2m\u001b[36m(train_de pid=3628826)\u001b[0m Epoch: 83|Train Loss: 0.3884878158569336|Val Loss: 0.18541355887918096\u001b[32m [repeated 43x across cluster]\u001b[0m\n",
      "\u001b[2m\u001b[36m(train_de pid=3627693)\u001b[0m Epoch: 36|Train Loss: nan|Val Loss: nan\u001b[32m [repeated 11x across cluster]\u001b[0m\n",
      "\u001b[2m\u001b[36m(train_de pid=3627323)\u001b[0m Early stopping triggered at epoch 40\n",
      "\u001b[2m\u001b[36m(train_de pid=3623099)\u001b[0m Early stopping triggered at epoch 27\n"
     ]
    },
    {
     "name": "stderr",
     "output_type": "stream",
     "text": [
      "\u001b[2m\u001b[36m(bundle_reservation_check_func pid=3636363)\u001b[0m     _register_custom_datasets_serializers(serialization_context)\n",
      "\u001b[2m\u001b[36m(bundle_reservation_check_func pid=3636363)\u001b[0m   File \"/home/sgupta/anaconda3/envs/py39SAM/lib/python3.9/site-packages/ray/_private/arrow_serialization.py\", line 46, in _register_custom_datasets_serializers\n",
      "\u001b[2m\u001b[36m(bundle_reservation_check_func pid=3636363)\u001b[0m     import pyarrow as pa  # noqa: F401\n",
      "\u001b[2m\u001b[36m(bundle_reservation_check_func pid=3636363)\u001b[0m     import pyarrow.lib as _lib\n",
      "\u001b[2m\u001b[36m(bundle_reservation_check_func pid=3636363)\u001b[0m   File \"pyarrow/lib.pyx\", line 24, in init pyarrow.lib\n",
      "\u001b[2m\u001b[36m(bundle_reservation_check_func pid=3636363)\u001b[0m     from . import ctypeslib\n",
      "\u001b[2m\u001b[36m(bundle_reservation_check_func pid=3636363)\u001b[0m   File \"<frozen importlib._bootstrap>\", line 1004, in _find_and_load\n",
      "\u001b[2m\u001b[36m(bundle_reservation_check_func pid=3636363)\u001b[0m   File \"<frozen importlib._bootstrap>\", line 157, in __enter__\n",
      "\u001b[2m\u001b[36m(bundle_reservation_check_func pid=3636363)\u001b[0m   File \"<frozen importlib._bootstrap>\", line 183, in _get_module_lock\n",
      "\u001b[2m\u001b[36m(bundle_reservation_check_func pid=3636363)\u001b[0m   File \"<frozen importlib._bootstrap>\", line 62, in __init__\n",
      "\u001b[2m\u001b[36m(bundle_reservation_check_func pid=3636363)\u001b[0m During handling of the above exception, another exception occurred:\n",
      "\u001b[2m\u001b[36m(bundle_reservation_check_func pid=3636363)\u001b[0m   File \"/home/sgupta/anaconda3/envs/py39SAM/lib/python3.9/linecache.py\", line 93, in updatecache\n",
      "\u001b[2m\u001b[36m(bundle_reservation_check_func pid=3636363)\u001b[0m     stat = os.stat(fullname)\n",
      "\u001b[2m\u001b[36m(bundle_reservation_check_func pid=3636363)\u001b[0m FileNotFoundError: [Errno 2] No such file or directory: 'python/ray/_raylet.pyx'\n",
      "\u001b[2m\u001b[36m(bundle_reservation_check_func pid=3636363)\u001b[0m During handling of the above exception, another exception occurred:\n",
      "\u001b[2m\u001b[36m(bundle_reservation_check_func pid=3636363)\u001b[0m   File \"python/ray/includes/libcoreworker.pxi\", line 33, in ray._raylet.ProfileEvent.__exit__\n",
      "\u001b[2m\u001b[36m(bundle_reservation_check_func pid=3636363)\u001b[0m   File \"/home/sgupta/anaconda3/envs/py39SAM/lib/python3.9/traceback.py\", line 167, in format_exc\n",
      "\u001b[2m\u001b[36m(bundle_reservation_check_func pid=3636363)\u001b[0m     return \"\".join(format_exception(*sys.exc_info(), limit=limit, chain=chain))\n",
      "\u001b[2m\u001b[36m(bundle_reservation_check_func pid=3636363)\u001b[0m   File \"/home/sgupta/anaconda3/envs/py39SAM/lib/python3.9/traceback.py\", line 120, in format_exception\n",
      "\u001b[2m\u001b[36m(bundle_reservation_check_func pid=3636363)\u001b[0m     return list(TracebackException(\n",
      "\u001b[2m\u001b[36m(bundle_reservation_check_func pid=3636363)\u001b[0m     self.stack = StackSummary.extract(\n",
      "\u001b[2m\u001b[36m(bundle_reservation_check_func pid=3636363)\u001b[0m   File \"/home/sgupta/anaconda3/envs/py39SAM/lib/python3.9/traceback.py\", line 366, in extract\n",
      "\u001b[2m\u001b[36m(bundle_reservation_check_func pid=3636363)\u001b[0m     f.line\n",
      "\u001b[2m\u001b[36m(bundle_reservation_check_func pid=3636363)\u001b[0m   File \"/home/sgupta/anaconda3/envs/py39SAM/lib/python3.9/traceback.py\", line 288, in line\n",
      "\u001b[2m\u001b[36m(bundle_reservation_check_func pid=3636363)\u001b[0m     self._line = linecache.getline(self.filename, self.lineno).strip()\n",
      "\u001b[2m\u001b[36m(bundle_reservation_check_func pid=3636363)\u001b[0m   File \"/home/sgupta/anaconda3/envs/py39SAM/lib/python3.9/linecache.py\", line 30, in getline\n",
      "\u001b[2m\u001b[36m(bundle_reservation_check_func pid=3636363)\u001b[0m     lines = getlines(filename, module_globals)\n",
      "\u001b[2m\u001b[36m(bundle_reservation_check_func pid=3636363)\u001b[0m   File \"/home/sgupta/anaconda3/envs/py39SAM/lib/python3.9/linecache.py\", line 46, in getlines\n",
      "\u001b[2m\u001b[36m(bundle_reservation_check_func pid=3636363)\u001b[0m     return updatecache(filename, module_globals)\n",
      "\u001b[2m\u001b[36m(bundle_reservation_check_func pid=3636363)\u001b[0m   File \"/home/sgupta/anaconda3/envs/py39SAM/lib/python3.9/linecache.py\", line 93, in updatecache\n",
      "\u001b[2m\u001b[36m(bundle_reservation_check_func pid=3636363)\u001b[0m     stat = os.stat(fullname)\n",
      "\u001b[2m\u001b[36m(bundle_reservation_check_func pid=3636363)\u001b[0m KeyboardInterrupt\n",
      "\u001b[2m\u001b[36m(bundle_reservation_check_func pid=3636363)\u001b[0m During handling of the above exception, another exception occurred:\n",
      "\u001b[2m\u001b[36m(bundle_reservation_check_func pid=3636363)\u001b[0m   File \"python/ray/_raylet.pyx\", line 813, in ray._raylet.store_task_errors\n",
      "\u001b[2m\u001b[36m(bundle_reservation_check_func pid=3636363)\u001b[0m AttributeError: 'Worker' object has no attribute 'core_worker'\n",
      "\u001b[2m\u001b[36m(bundle_reservation_check_func pid=3636363)\u001b[0m During handling of the above exception, another exception occurred:\n",
      "\u001b[2m\u001b[36m(bundle_reservation_check_func pid=3636363)\u001b[0m   File \"/home/sgupta/anaconda3/envs/py39SAM/lib/python3.9/site-packages/ray/_private/utils.py\", line 174, in push_error_to_driver\n",
      "\u001b[2m\u001b[36m(bundle_reservation_check_func pid=3636363)\u001b[0m     worker.core_worker.push_error(job_id, error_type, message, time.time())\n",
      "\u001b[2m\u001b[36m(bundle_reservation_check_func pid=3636363)\u001b[0m AttributeError: 'Worker' object has no attribute 'core_worker'\n",
      "\u001b[2m\u001b[36m(bundle_reservation_check_func pid=3636363)\u001b[0m Exception ignored in: 'ray._raylet.task_execution_handler'\n",
      "\u001b[2m\u001b[36m(bundle_reservation_check_func pid=3636363)\u001b[0m   File \"/home/sgupta/anaconda3/envs/py39SAM/lib/python3.9/site-packages/ray/_private/utils.py\", line 174, in push_error_to_driver\n",
      "\u001b[2m\u001b[36m(bundle_reservation_check_func pid=3636363)\u001b[0m     worker.core_worker.push_error(job_id, error_type, message, time.time())\n",
      "\u001b[2m\u001b[36m(bundle_reservation_check_func pid=3636363)\u001b[0m AttributeError: 'Worker' object has no attribute 'core_worker'\n",
      "\u001b[2m\u001b[36m(bundle_reservation_check_func pid=3636363)\u001b[0m Traceback (most recent call last):\u001b[32m [repeated 6x across cluster]\u001b[0m\n",
      "\u001b[2m\u001b[36m(bundle_reservation_check_func pid=3636363)\u001b[0m   File \"python/ray/_raylet.pyx\", line 1824, in ray._raylet.task_execution_handler\u001b[32m [repeated 3x across cluster]\u001b[0m\n",
      "\u001b[2m\u001b[36m(bundle_reservation_check_func pid=3636363)\u001b[0m   File \"python/ray/_raylet.pyx\", line 1717, in ray._raylet.execute_task_with_cancellation_handler\u001b[32m [repeated 2x across cluster]\u001b[0m\n",
      "\u001b[2m\u001b[36m(bundle_reservation_check_func pid=3636363)\u001b[0m   File \"python/ray/_raylet.pyx\", line 1370, in ray._raylet.execute_task\u001b[32m [repeated 5x across cluster]\u001b[0m\n",
      "\u001b[2m\u001b[36m(bundle_reservation_check_func pid=3636363)\u001b[0m   File \"/home/sgupta/anaconda3/envs/py39SAM/lib/python3.9/site-packages/ray/_private/worker.py\", line 724, in deserialize_objects\n",
      "\u001b[2m\u001b[36m(bundle_reservation_check_func pid=3636363)\u001b[0m     context = self.get_serialization_context()\n",
      "\u001b[2m\u001b[36m(bundle_reservation_check_func pid=3636363)\u001b[0m   File \"/home/sgupta/anaconda3/envs/py39SAM/lib/python3.9/site-packages/ray/_private/worker.py\", line 612, in get_serialization_context\n",
      "\u001b[2m\u001b[36m(bundle_reservation_check_func pid=3636363)\u001b[0m     context_map[job_id] = serialization.SerializationContext(self)\n",
      "\u001b[2m\u001b[36m(bundle_reservation_check_func pid=3636363)\u001b[0m   File \"/home/sgupta/anaconda3/envs/py39SAM/lib/python3.9/traceback.py\", line 517, in __init__\u001b[32m [repeated 2x across cluster]\u001b[0m\n",
      "\u001b[2m\u001b[36m(bundle_reservation_check_func pid=3636363)\u001b[0m     serialization_addons.apply(self)\n",
      "\u001b[2m\u001b[36m(bundle_reservation_check_func pid=3636363)\u001b[0m   File \"/home/sgupta/anaconda3/envs/py39SAM/lib/python3.9/site-packages/ray/util/serialization_addons.py\", line 86, in apply\n",
      "\u001b[2m\u001b[36m(bundle_reservation_check_func pid=3636363)\u001b[0m   File \"/home/sgupta/anaconda3/envs/py39SAM/lib/python3.9/site-packages/numpy/__init__.py\", line 153, in <module>\u001b[32m [repeated 2x across cluster]\u001b[0m\n",
      "\u001b[2m\u001b[36m(bundle_reservation_check_func pid=3636363)\u001b[0m   File \"/home/sgupta/anaconda3/envs/py39SAM/lib/python3.9/site-packages/ray/_private/worker.py\", line 776, in sigterm_handler\n",
      "\u001b[2m\u001b[36m(bundle_reservation_check_func pid=3636363)\u001b[0m \u001b[32m [repeated 9x across cluster]\u001b[0m\n",
      "\u001b[2m\u001b[36m(bundle_reservation_check_func pid=3636363)\u001b[0m SystemExit: 1\n",
      "2023-11-28 15:52:18,557\tERROR worker.py:405 -- Unhandled error (suppress with 'RAY_IGNORE_UNHANDLED_ERRORS=1'): The worker died unexpectedly while executing this task. Check python-core-worker-*.log files for more information.\n"
     ]
    },
    {
     "name": "stdout",
     "output_type": "stream",
     "text": [
      "\u001b[2m\u001b[36m(train_de pid=3635151)\u001b[0m Epoch: 8|Train Loss: 0.2892950599392255|Val Loss: 0.22956732824150547\u001b[32m [repeated 38x across cluster]\u001b[0m\n"
     ]
    },
    {
     "name": "stderr",
     "output_type": "stream",
     "text": [
      "NaN or Inf found in input tensor.\n"
     ]
    },
    {
     "name": "stdout",
     "output_type": "stream",
     "text": [
      "\u001b[2m\u001b[36m(train_de pid=3627693)\u001b[0m Epoch: 38|Train Loss: nan|Val Loss: nan\u001b[32m [repeated 10x across cluster]\u001b[0m\n",
      "\u001b[2m\u001b[36m(train_de pid=3628419)\u001b[0m Early stopping triggered at epoch 41\n",
      "\u001b[2m\u001b[36m(train_de pid=3630810)\u001b[0m Epoch: 51|Train Loss: 0.04216643857459227|Val Loss: 0.1924891776825283\u001b[32m [repeated 36x across cluster]\u001b[0m\n",
      "\u001b[2m\u001b[36m(train_de pid=3626469)\u001b[0m Early stopping triggered at epoch 21\n",
      "\u001b[2m\u001b[36m(train_de pid=3623099)\u001b[0m Epoch: 3|Train Loss: nan|Val Loss: nan\u001b[32m [repeated 13x across cluster]\u001b[0m\n",
      "\u001b[2m\u001b[36m(train_de pid=3632708)\u001b[0m Epoch: 39|Train Loss: 0.26019737124443054|Val Loss: 0.19976971206682112\u001b[32m [repeated 32x across cluster]\u001b[0m\n",
      "\u001b[2m\u001b[36m(train_de pid=3627693)\u001b[0m Early stopping triggered at epoch 40\n",
      "\u001b[2m\u001b[36m(train_de pid=3627323)\u001b[0m Epoch: 5|Train Loss: nan|Val Loss: nan\u001b[32m [repeated 13x across cluster]\u001b[0m\n",
      "\u001b[2m\u001b[36m(train_de pid=3628419)\u001b[0m Epoch: 8|Train Loss: 0.7184338010847569|Val Loss: 0.26816149862549665\u001b[32m [repeated 39x across cluster]\u001b[0m\n",
      "\u001b[2m\u001b[36m(train_de pid=3630145)\u001b[0m Epoch: 42|Train Loss: nan|Val Loss: nan\u001b[32m [repeated 11x across cluster]\u001b[0m\n",
      "\u001b[2m\u001b[36m(train_de pid=3627693)\u001b[0m Epoch: 2|Train Loss: 0.28715490102767943|Val Loss: 0.15512895370833577\u001b[32m [repeated 36x across cluster]\u001b[0m\n",
      "\u001b[2m\u001b[36m(train_de pid=3632708)\u001b[0m Early stopping triggered at epoch 41\n",
      "\u001b[2m\u001b[36m(train_de pid=3627323)\u001b[0m Epoch: 9|Train Loss: nan|Val Loss: nan\u001b[32m [repeated 15x across cluster]\u001b[0m\n"
     ]
    },
    {
     "name": "stderr",
     "output_type": "stream",
     "text": [
      "NaN or Inf found in input tensor.\n"
     ]
    },
    {
     "name": "stdout",
     "output_type": "stream",
     "text": [
      "\u001b[2m\u001b[36m(train_de pid=3626795)\u001b[0m Epoch: 35|Train Loss: 0.613054558634758|Val Loss: 0.19412763456469959\u001b[32m [repeated 31x across cluster]\u001b[0m\n"
     ]
    },
    {
     "name": "stderr",
     "output_type": "stream",
     "text": [
      "NaN or Inf found in input tensor.\n"
     ]
    },
    {
     "name": "stdout",
     "output_type": "stream",
     "text": [
      "\u001b[2m\u001b[36m(train_de pid=3627183)\u001b[0m Early stopping triggered at epoch 44\u001b[32m [repeated 4x across cluster]\u001b[0m\n",
      "\u001b[2m\u001b[36m(train_de pid=3632708)\u001b[0m Epoch: 2|Train Loss: nan|Val Loss: nan\u001b[32m [repeated 11x across cluster]\u001b[0m\n",
      "\u001b[2m\u001b[36m(train_de pid=3627693)\u001b[0m Epoch: 4|Train Loss: -0.27105277180671694|Val Loss: 0.05850334453582764\u001b[32m [repeated 30x across cluster]\u001b[0m\n",
      "\u001b[2m\u001b[36m(train_de pid=3627048)\u001b[0m Early stopping triggered at epoch 24\n",
      "\u001b[2m\u001b[36m(train_de pid=3631571)\u001b[0m Early stopping triggered at epoch 10\n",
      "\u001b[2m\u001b[36m(train_de pid=3632708)\u001b[0m Epoch: 6|Train Loss: nan|Val Loss: nan\u001b[32m [repeated 12x across cluster]\u001b[0m\n",
      "\u001b[2m\u001b[36m(train_de pid=3629371)\u001b[0m Epoch: 26|Train Loss: -0.025097059085965157|Val Loss: 0.23028987550573862\u001b[32m [repeated 51x across cluster]\u001b[0m\n",
      "\u001b[2m\u001b[36m(train_de pid=3636609)\u001b[0m Epoch: 11|Train Loss: nan|Val Loss: nan\u001b[32m [repeated 14x across cluster]\u001b[0m\n",
      "\u001b[2m\u001b[36m(train_de pid=3627392)\u001b[0m Early stopping triggered at epoch 116\n",
      "\u001b[2m\u001b[36m(train_de pid=3628001)\u001b[0m Epoch: 78|Train Loss: 0.09936353067557017|Val Loss: 0.1920840855791337\u001b[32m [repeated 47x across cluster]\u001b[0m\n"
     ]
    },
    {
     "name": "stderr",
     "output_type": "stream",
     "text": [
      "2023-11-28 15:53:01,360\tERROR worker.py:405 -- Unhandled error (suppress with 'RAY_IGNORE_UNHANDLED_ERRORS=1'): The worker died unexpectedly while executing this task. Check python-core-worker-*.log files for more information.\n"
     ]
    },
    {
     "name": "stdout",
     "output_type": "stream",
     "text": [
      "\u001b[2m\u001b[36m(train_de pid=3627323)\u001b[0m Epoch: 16|Train Loss: nan|Val Loss: nan\u001b[32m [repeated 12x across cluster]\u001b[0m\n",
      "\u001b[2m\u001b[36m(train_de pid=3630145)\u001b[0m Early stopping triggered at epoch 18\n",
      "\u001b[2m\u001b[36m(train_de pid=3626519)\u001b[0m Epoch: 6|Train Loss: 0.08064733942349751|Val Loss: 0.20050083632270496\u001b[32m [repeated 46x across cluster]\u001b[0m\n",
      "\u001b[2m\u001b[36m(train_de pid=3636609)\u001b[0m Epoch: 17|Train Loss: nan|Val Loss: nan\u001b[32m [repeated 13x across cluster]\u001b[0m\n",
      "\u001b[2m\u001b[36m(train_de pid=3631024)\u001b[0m Epoch: 30|Train Loss: 0.004174725462992986|Val Loss: 0.22305750518682457\u001b[32m [repeated 46x across cluster]\u001b[0m\n",
      "\u001b[2m\u001b[36m(train_de pid=3626583)\u001b[0m Epoch: 44|Train Loss: nan|Val Loss: nan\u001b[32m [repeated 12x across cluster]\u001b[0m\n",
      "\u001b[2m\u001b[36m(train_de pid=3626920)\u001b[0m Early stopping triggered at epoch 47\n",
      "\u001b[2m\u001b[36m(train_de pid=3626469)\u001b[0m Epoch: 8|Train Loss: 0.18900444938076866|Val Loss: 0.1993536962839749\u001b[32m [repeated 46x across cluster]\u001b[0m\n",
      "\u001b[2m\u001b[36m(train_de pid=3631571)\u001b[0m Epoch: 11|Train Loss: nan|Val Loss: nan\u001b[32m [repeated 14x across cluster]\u001b[0m\n",
      "\u001b[2m\u001b[36m(train_de pid=3626795)\u001b[0m Early stopping triggered at epoch 47\n",
      "\u001b[2m\u001b[36m(train_de pid=3626583)\u001b[0m Early stopping triggered at epoch 46\n"
     ]
    },
    {
     "name": "stderr",
     "output_type": "stream",
     "text": [
      "NaN or Inf found in input tensor.\n"
     ]
    },
    {
     "name": "stdout",
     "output_type": "stream",
     "text": [
      "\u001b[2m\u001b[36m(train_de pid=3626795)\u001b[0m Epoch: 3|Train Loss: 0.06925066635012626|Val Loss: 0.19796886928379537\u001b[32m [repeated 41x across cluster]\u001b[0m\n",
      "\u001b[2m\u001b[36m(train_de pid=3627323)\u001b[0m Epoch: 23|Train Loss: nan|Val Loss: nan\u001b[32m [repeated 8x across cluster]\u001b[0m\n",
      "\u001b[2m\u001b[36m(train_de pid=3628001)\u001b[0m Early stopping triggered at epoch 83\u001b[32m [repeated 2x across cluster]\u001b[0m\n"
     ]
    },
    {
     "name": "stderr",
     "output_type": "stream",
     "text": [
      "NaN or Inf found in input tensor.\n"
     ]
    },
    {
     "name": "stdout",
     "output_type": "stream",
     "text": [
      "\u001b[2m\u001b[36m(train_de pid=3637147)\u001b[0m Epoch: 14|Train Loss: 0.20746124684810638|Val Loss: 0.18672146759927272\u001b[32m [repeated 55x across cluster]\u001b[0m\n",
      "\u001b[2m\u001b[36m(train_de pid=3632708)\u001b[0m Epoch: 29|Train Loss: nan|Val Loss: nan\u001b[32m [repeated 17x across cluster]\u001b[0m\n",
      "\u001b[2m\u001b[36m(train_de pid=3636609)\u001b[0m Early stopping triggered at epoch 28\n",
      "\u001b[2m\u001b[36m(train_de pid=3627183)\u001b[0m Epoch: 13|Train Loss: 0.5907373428344727|Val Loss: 0.1997724942972555\u001b[32m [repeated 51x across cluster]\u001b[0m\n",
      "\u001b[2m\u001b[36m(train_de pid=3626795)\u001b[0m Early stopping triggered at epoch 19\n",
      "\u001b[2m\u001b[36m(train_de pid=3627392)\u001b[0m Epoch: 40|Train Loss: nan|Val Loss: nan\u001b[32m [repeated 17x across cluster]\u001b[0m\n",
      "\u001b[2m\u001b[36m(train_de pid=3633324)\u001b[0m Epoch: 53|Train Loss: 0.08949347691876548|Val Loss: 0.1986382283630366\u001b[32m [repeated 42x across cluster]\u001b[0m\n",
      "\u001b[2m\u001b[36m(train_de pid=3630810)\u001b[0m Early stopping triggered at epoch 92\n",
      "\u001b[2m\u001b[36m(train_de pid=3627392)\u001b[0m Epoch: 47|Train Loss: nan|Val Loss: nan\u001b[32m [repeated 17x across cluster]\u001b[0m\n"
     ]
    },
    {
     "name": "stderr",
     "output_type": "stream",
     "text": [
      "NaN or Inf found in input tensor.\n"
     ]
    },
    {
     "name": "stdout",
     "output_type": "stream",
     "text": [
      "\u001b[2m\u001b[36m(train_de pid=3630145)\u001b[0m Epoch: 29|Train Loss: 0.0580128367458071|Val Loss: 0.23418087962564532\u001b[32m [repeated 38x across cluster]\u001b[0m\n",
      "\u001b[2m\u001b[36m(train_de pid=3626583)\u001b[0m Early stopping triggered at epoch 3\n",
      "\u001b[2m\u001b[36m(train_de pid=3627323)\u001b[0m Epoch: 31|Train Loss: nan|Val Loss: nan\u001b[32m [repeated 17x across cluster]\u001b[0m\n",
      "\u001b[2m\u001b[36m(train_de pid=3630935)\u001b[0m Early stopping triggered at epoch 15\n",
      "\u001b[2m\u001b[36m(train_de pid=3623099)\u001b[0m Epoch: 48|Train Loss: 0.12470011413097382|Val Loss: 0.19849664548581297\u001b[32m [repeated 44x across cluster]\u001b[0m\n",
      "\u001b[2m\u001b[36m(train_de pid=3632708)\u001b[0m Epoch: 40|Train Loss: nan|Val Loss: nan\u001b[32m [repeated 6x across cluster]\u001b[0m\n",
      "\u001b[2m\u001b[36m(train_de pid=3628826)\u001b[0m Early stopping triggered at epoch 121\u001b[32m [repeated 3x across cluster]\u001b[0m\n"
     ]
    },
    {
     "name": "stderr",
     "output_type": "stream",
     "text": [
      "NaN or Inf found in input tensor.\n"
     ]
    },
    {
     "name": "stdout",
     "output_type": "stream",
     "text": [
      "\u001b[2m\u001b[36m(train_de pid=3627183)\u001b[0m Epoch: 18|Train Loss: 0.09422730281949043|Val Loss: 0.19941065657664747\u001b[32m [repeated 33x across cluster]\u001b[0m\n",
      "\u001b[2m\u001b[36m(train_de pid=3631729)\u001b[0m Epoch: 7|Train Loss: nan|Val Loss: nan\u001b[32m [repeated 10x across cluster]\u001b[0m\n"
     ]
    },
    {
     "name": "stderr",
     "output_type": "stream",
     "text": [
      "NaN or Inf found in input tensor.\n"
     ]
    },
    {
     "name": "stdout",
     "output_type": "stream",
     "text": [
      "\u001b[2m\u001b[36m(train_de pid=3632708)\u001b[0m Early stopping triggered at epoch 44\u001b[32m [repeated 3x across cluster]\u001b[0m\n",
      "\u001b[2m\u001b[36m(train_de pid=3628826)\u001b[0m Epoch: 19|Train Loss: 0.20741869509220123|Val Loss: 0.20410579649938476\u001b[32m [repeated 56x across cluster]\u001b[0m\n",
      "\u001b[2m\u001b[36m(train_de pid=3626657)\u001b[0m Epoch: 19|Train Loss: nan|Val Loss: nan\u001b[32m [repeated 6x across cluster]\u001b[0m\n",
      "\u001b[2m\u001b[36m(train_de pid=3630145)\u001b[0m Early stopping triggered at epoch 39\u001b[32m [repeated 3x across cluster]\u001b[0m\n",
      "\u001b[2m\u001b[36m(train_de pid=3626519)\u001b[0m Epoch: 11|Train Loss: 0.39456596970558167|Val Loss: 0.19392863721897205\u001b[32m [repeated 33x across cluster]\u001b[0m\n"
     ]
    },
    {
     "name": "stderr",
     "output_type": "stream",
     "text": [
      "NaN or Inf found in input tensor.\n"
     ]
    },
    {
     "name": "stdout",
     "output_type": "stream",
     "text": [
      "\u001b[2m\u001b[36m(train_de pid=3630935)\u001b[0m Epoch: 0|Train Loss: nan|Val Loss: nan\u001b[32m [repeated 13x across cluster]\u001b[0m\n",
      "\u001b[2m\u001b[36m(train_de pid=3630145)\u001b[0m Early stopping triggered at epoch 3\n",
      "\u001b[2m\u001b[36m(train_de pid=3637147)\u001b[0m Early stopping triggered at epoch 51\n",
      "\u001b[2m\u001b[36m(train_de pid=3628826)\u001b[0m Epoch: 8|Train Loss: 0.19474096844593683|Val Loss: 0.19499602804289146\u001b[32m [repeated 40x across cluster]\u001b[0m\n",
      "\u001b[2m\u001b[36m(train_de pid=3636609)\u001b[0m Epoch: 20|Train Loss: nan|Val Loss: nan\u001b[32m [repeated 9x across cluster]\u001b[0m\n",
      "\u001b[2m\u001b[36m(train_de pid=3627693)\u001b[0m Early stopping triggered at epoch 19\n",
      "\u001b[2m\u001b[36m(train_de pid=3627693)\u001b[0m Epoch: 0|Train Loss: 0.33031325680868967|Val Loss: 0.20845129975073395\u001b[32m [repeated 40x across cluster]\u001b[0m\n",
      "\u001b[2m\u001b[36m(train_de pid=3631571)\u001b[0m Epoch: 4|Train Loss: nan|Val Loss: nan\u001b[32m [repeated 9x across cluster]\u001b[0m\n",
      "\u001b[2m\u001b[36m(train_de pid=3628826)\u001b[0m Early stopping triggered at epoch 17\n",
      "\u001b[2m\u001b[36m(train_de pid=3623099)\u001b[0m Early stopping triggered at epoch 69\n",
      "\u001b[2m\u001b[36m(train_de pid=3633324)\u001b[0m Epoch: 8|Train Loss: 0.5178306549787521|Val Loss: 0.1939113598288232\u001b[32m [repeated 42x across cluster]\u001b[0m\n",
      "\u001b[2m\u001b[36m(train_de pid=3636609)\u001b[0m Epoch: 25|Train Loss: nan|Val Loss: nan\u001b[32m [repeated 10x across cluster]\u001b[0m\n",
      "\u001b[2m\u001b[36m(train_de pid=3627693)\u001b[0m Epoch: 9|Train Loss: 0.015044521274311202|Val Loss: 0.185965974155503\u001b[32m [repeated 37x across cluster]\u001b[0m\n"
     ]
    },
    {
     "name": "stderr",
     "output_type": "stream",
     "text": [
      "NaN or Inf found in input tensor.\n"
     ]
    },
    {
     "name": "stdout",
     "output_type": "stream",
     "text": [
      "\u001b[2m\u001b[36m(train_de pid=3627323)\u001b[0m Early stopping triggered at epoch 46\n",
      "\u001b[2m\u001b[36m(train_de pid=3636609)\u001b[0m Epoch: 28|Train Loss: nan|Val Loss: nan\u001b[32m [repeated 14x across cluster]\u001b[0m\n",
      "\u001b[2m\u001b[36m(train_de pid=3632708)\u001b[0m Epoch: 14|Train Loss: 0.1694700519243876|Val Loss: 0.1971034077132306\u001b[32m [repeated 38x across cluster]\u001b[0m\n",
      "\u001b[2m\u001b[36m(train_de pid=3623099)\u001b[0m Epoch: 6|Train Loss: nan|Val Loss: nan\u001b[32m [repeated 14x across cluster]\u001b[0m\n",
      "\u001b[2m\u001b[36m(train_de pid=3633324)\u001b[0m Early stopping triggered at epoch 12\n",
      "\u001b[2m\u001b[36m(train_de pid=3627323)\u001b[0m Epoch: 14|Train Loss: 0.06792830924193065|Val Loss: 0.19699795150922406\u001b[32m [repeated 44x across cluster]\u001b[0m\n"
     ]
    },
    {
     "name": "stderr",
     "output_type": "stream",
     "text": [
      "NaN or Inf found in input tensor.\n"
     ]
    },
    {
     "name": "stdout",
     "output_type": "stream",
     "text": [
      "\u001b[2m\u001b[36m(train_de pid=3631571)\u001b[0m Epoch: 9|Train Loss: nan|Val Loss: nan\u001b[32m [repeated 11x across cluster]\u001b[0m\n",
      "\u001b[2m\u001b[36m(train_de pid=3636609)\u001b[0m Early stopping triggered at epoch 34\n",
      "\u001b[2m\u001b[36m(train_de pid=3627693)\u001b[0m Epoch: 23|Train Loss: 0.3004002145358494|Val Loss: 0.23524630468870913\u001b[32m [repeated 49x across cluster]\u001b[0m\n",
      "\u001b[2m\u001b[36m(train_de pid=3623099)\u001b[0m Epoch: 12|Train Loss: nan|Val Loss: nan\u001b[32m [repeated 11x across cluster]\u001b[0m\n",
      "\u001b[2m\u001b[36m(train_de pid=3627693)\u001b[0m Epoch: 29|Train Loss: 0.3351952518735613|Val Loss: 0.25194431798133465\u001b[32m [repeated 50x across cluster]\u001b[0m\n",
      "\u001b[2m\u001b[36m(train_de pid=3628826)\u001b[0m Epoch: 9|Train Loss: nan|Val Loss: nan\u001b[32m [repeated 9x across cluster]\u001b[0m\n",
      "\u001b[2m\u001b[36m(train_de pid=3627323)\u001b[0m Epoch: 39|Train Loss: -0.182457834482193|Val Loss: 0.19441763601369327\u001b[32m [repeated 52x across cluster]\u001b[0m\n",
      "\u001b[2m\u001b[36m(train_de pid=3628826)\u001b[0m Epoch: 11|Train Loss: nan|Val Loss: nan\u001b[32m [repeated 11x across cluster]\u001b[0m\n",
      "\u001b[2m\u001b[36m(train_de pid=3627693)\u001b[0m Early stopping triggered at epoch 37\n",
      "\u001b[2m\u001b[36m(train_de pid=3627323)\u001b[0m Epoch: 47|Train Loss: -0.08270202328761418|Val Loss: 0.20484355609450075\u001b[32m [repeated 41x across cluster]\u001b[0m\n",
      "\u001b[2m\u001b[36m(train_de pid=3626795)\u001b[0m Epoch: 16|Train Loss: nan|Val Loss: nan\u001b[32m [repeated 8x across cluster]\u001b[0m\n",
      "\u001b[2m\u001b[36m(train_de pid=3636609)\u001b[0m Early stopping triggered at epoch 10\n",
      "\u001b[2m\u001b[36m(train_de pid=3628001)\u001b[0m Early stopping triggered at epoch 8\n",
      "\u001b[2m\u001b[36m(train_de pid=3631392)\u001b[0m Epoch: 56|Train Loss: 0.4629535873730977|Val Loss: 0.1732511895231665\u001b[32m [repeated 48x across cluster]\u001b[0m\n",
      "\u001b[2m\u001b[36m(train_de pid=3623099)\u001b[0m Epoch: 24|Train Loss: nan|Val Loss: nan\u001b[32m [repeated 7x across cluster]\u001b[0m\n",
      "\u001b[2m\u001b[36m(train_de pid=3629371)\u001b[0m Early stopping triggered at epoch 81\n",
      "\u001b[2m\u001b[36m(train_de pid=3637147)\u001b[0m Epoch: 38|Train Loss: 0.4791672442640577|Val Loss: 0.20206118792622954\u001b[32m [repeated 43x across cluster]\u001b[0m\n",
      "\u001b[2m\u001b[36m(train_de pid=3627323)\u001b[0m Early stopping triggered at epoch 66\n",
      "\u001b[2m\u001b[36m(train_de pid=3630935)\u001b[0m Epoch: 8|Train Loss: nan|Val Loss: nan\u001b[32m [repeated 11x across cluster]\u001b[0m\n"
     ]
    },
    {
     "name": "stderr",
     "output_type": "stream",
     "text": [
      "NaN or Inf found in input tensor.\n",
      "NaN or Inf found in input tensor.\n"
     ]
    },
    {
     "name": "stdout",
     "output_type": "stream",
     "text": [
      "\u001b[2m\u001b[36m(train_de pid=3637147)\u001b[0m Epoch: 41|Train Loss: 0.5193894846098763|Val Loss: 0.2030086215217035\u001b[32m [repeated 43x across cluster]\u001b[0m\n",
      "\u001b[2m\u001b[36m(train_de pid=3630145)\u001b[0m Early stopping triggered at epoch 14\u001b[32m [repeated 2x across cluster]\u001b[0m\n",
      "\u001b[2m\u001b[36m(train_de pid=3623099)\u001b[0m Epoch: 29|Train Loss: nan|Val Loss: nan\u001b[32m [repeated 9x across cluster]\u001b[0m\n",
      "\u001b[2m\u001b[36m(train_de pid=3627693)\u001b[0m Epoch: 12|Train Loss: -0.0639480808749795|Val Loss: 0.19939788155765695\u001b[32m [repeated 43x across cluster]\u001b[0m\n",
      "\u001b[2m\u001b[36m(train_de pid=3628196)\u001b[0m Early stopping triggered at epoch 39\n",
      "\u001b[2m\u001b[36m(train_de pid=3626795)\u001b[0m Epoch: 20|Train Loss: nan|Val Loss: nan\u001b[32m [repeated 13x across cluster]\u001b[0m\n",
      "\u001b[2m\u001b[36m(train_de pid=3627183)\u001b[0m Early stopping triggered at epoch 41\n",
      "\u001b[2m\u001b[36m(train_de pid=3629371)\u001b[0m Epoch: 20|Train Loss: 0.10828990240891774|Val Loss: 0.20146071228593815\u001b[32m [repeated 59x across cluster]\u001b[0m\n"
     ]
    },
    {
     "name": "stderr",
     "output_type": "stream",
     "text": [
      "NaN or Inf found in input tensor.\n"
     ]
    },
    {
     "name": "stdout",
     "output_type": "stream",
     "text": [
      "\u001b[2m\u001b[36m(train_de pid=3627183)\u001b[0m Epoch: 0|Train Loss: nan|Val Loss: nan\u001b[32m [repeated 12x across cluster]\u001b[0m\n",
      "\u001b[2m\u001b[36m(train_de pid=3627323)\u001b[0m Early stopping triggered at epoch 6\n",
      "\u001b[2m\u001b[36m(train_de pid=3629371)\u001b[0m Epoch: 25|Train Loss: 0.26555179556210834|Val Loss: 0.2058828773372101\u001b[32m [repeated 50x across cluster]\u001b[0m\n",
      "\u001b[2m\u001b[36m(train_de pid=3628419)\u001b[0m Early stopping triggered at epoch 89\n"
     ]
    },
    {
     "name": "stderr",
     "output_type": "stream",
     "text": [
      "NaN or Inf found in input tensor.\n"
     ]
    },
    {
     "name": "stdout",
     "output_type": "stream",
     "text": [
      "\u001b[2m\u001b[36m(train_de pid=3623099)\u001b[0m Epoch: 37|Train Loss: nan|Val Loss: nan\u001b[32m [repeated 6x across cluster]\u001b[0m\n",
      "\u001b[2m\u001b[36m(train_de pid=3630145)\u001b[0m Epoch: 24|Train Loss: 0.1878106700522559|Val Loss: 0.22200750408782846\u001b[32m [repeated 56x across cluster]\u001b[0m\n",
      "\u001b[2m\u001b[36m(train_de pid=3628001)\u001b[0m Early stopping triggered at epoch 4\n",
      "\u001b[2m\u001b[36m(train_de pid=3633324)\u001b[0m Early stopping triggered at epoch 43\n"
     ]
    },
    {
     "name": "stderr",
     "output_type": "stream",
     "text": [
      "NaN or Inf found in input tensor.\n"
     ]
    },
    {
     "name": "stdout",
     "output_type": "stream",
     "text": [
      "\u001b[2m\u001b[36m(train_de pid=3627183)\u001b[0m Epoch: 3|Train Loss: nan|Val Loss: nan\u001b[32m [repeated 11x across cluster]\u001b[0m\n",
      "\u001b[2m\u001b[36m(train_de pid=3628419)\u001b[0m Epoch: 5|Train Loss: 0.37200309336185455|Val Loss: 0.3156009670929052\u001b[32m [repeated 57x across cluster]\u001b[0m\n",
      "\u001b[2m\u001b[36m(train_de pid=3629371)\u001b[0m Early stopping triggered at epoch 31\u001b[32m [repeated 2x across cluster]\u001b[0m\n"
     ]
    },
    {
     "name": "stderr",
     "output_type": "stream",
     "text": [
      "NaN or Inf found in input tensor.\n"
     ]
    },
    {
     "name": "stdout",
     "output_type": "stream",
     "text": [
      "\u001b[2m\u001b[36m(train_de pid=3627183)\u001b[0m Epoch: 4|Train Loss: nan|Val Loss: nan\u001b[32m [repeated 4x across cluster]\u001b[0m\n",
      "\u001b[2m\u001b[36m(train_de pid=3628001)\u001b[0m Epoch: 19|Train Loss: 0.2778974175453186|Val Loss: 0.200875152450274\u001b[32m [repeated 66x across cluster]\u001b[0m\n",
      "\u001b[2m\u001b[36m(train_de pid=3623099)\u001b[0m Early stopping triggered at epoch 42\n",
      "\u001b[2m\u001b[36m(train_de pid=3631571)\u001b[0m Epoch: 23|Train Loss: nan|Val Loss: nan\u001b[32m [repeated 6x across cluster]\u001b[0m\n",
      "\u001b[2m\u001b[36m(train_de pid=3630145)\u001b[0m Epoch: 40|Train Loss: 0.11916751095226832|Val Loss: 0.204643783119363\u001b[32m [repeated 72x across cluster]\u001b[0m\n",
      "\u001b[2m\u001b[36m(train_de pid=3630935)\u001b[0m Epoch: 13|Train Loss: nan|Val Loss: nan\u001b[32m [repeated 7x across cluster]\u001b[0m\n",
      "\u001b[2m\u001b[36m(train_de pid=3626583)\u001b[0m Early stopping triggered at epoch 78\n",
      "\u001b[2m\u001b[36m(train_de pid=3627693)\u001b[0m Epoch: 35|Train Loss: 0.21604319103062153|Val Loss: 0.19650533981621265\u001b[32m [repeated 64x across cluster]\u001b[0m\n",
      "\u001b[2m\u001b[36m(train_de pid=3631571)\u001b[0m Epoch: 25|Train Loss: nan|Val Loss: nan\u001b[32m [repeated 3x across cluster]\u001b[0m\n",
      "\u001b[2m\u001b[36m(train_de pid=3631392)\u001b[0m Early stopping triggered at epoch 74\u001b[32m [repeated 2x across cluster]\u001b[0m\n",
      "\u001b[2m\u001b[36m(train_de pid=3628737)\u001b[0m Epoch: 62|Train Loss: -0.09674366414546967|Val Loss: 0.17275350187816518\u001b[32m [repeated 51x across cluster]\u001b[0m\n",
      "\u001b[2m\u001b[36m(train_de pid=3631571)\u001b[0m Epoch: 26|Train Loss: nan|Val Loss: nan\u001b[32m [repeated 7x across cluster]\u001b[0m\n",
      "\u001b[2m\u001b[36m(train_de pid=3629371)\u001b[0m Early stopping triggered at epoch 18\n",
      "\u001b[2m\u001b[36m(train_de pid=3628001)\u001b[0m Early stopping triggered at epoch 41\n",
      "\u001b[2m\u001b[36m(train_de pid=3629371)\u001b[0m Epoch: 2|Train Loss: -0.18808959424495697|Val Loss: 0.4888231622392376\u001b[32m [repeated 52x across cluster]\u001b[0m\n",
      "\u001b[2m\u001b[36m(train_de pid=3627323)\u001b[0m Epoch: 3|Train Loss: nan|Val Loss: nan\u001b[32m [repeated 7x across cluster]\u001b[0m\n",
      "\u001b[2m\u001b[36m(train_de pid=3630145)\u001b[0m Early stopping triggered at epoch 58\u001b[32m [repeated 3x across cluster]\u001b[0m\n",
      "\u001b[2m\u001b[36m(train_de pid=3631392)\u001b[0m Epoch: 9|Train Loss: 0.09054762311279774|Val Loss: 0.2907557961298153\u001b[32m [repeated 38x across cluster]\u001b[0m\n",
      "\u001b[2m\u001b[36m(train_de pid=3627323)\u001b[0m Epoch: 4|Train Loss: nan|Val Loss: nan\u001b[32m [repeated 4x across cluster]\u001b[0m\n",
      "\u001b[2m\u001b[36m(train_de pid=3628001)\u001b[0m Epoch: 2|Train Loss: 0.4725970387458801|Val Loss: 0.27659964264021253\u001b[32m [repeated 55x across cluster]\u001b[0m\n",
      "\u001b[2m\u001b[36m(train_de pid=3629615)\u001b[0m Early stopping triggered at epoch 53\n",
      "\u001b[2m\u001b[36m(train_de pid=3630935)\u001b[0m Epoch: 16|Train Loss: nan|Val Loss: nan\u001b[32m [repeated 9x across cluster]\u001b[0m\n",
      "\u001b[2m\u001b[36m(train_de pid=3628196)\u001b[0m Epoch: 9|Train Loss: 0.092255137860775|Val Loss: 0.2111467020935379\u001b[32m [repeated 47x across cluster]\u001b[0m\n",
      "\u001b[2m\u001b[36m(train_de pid=3631392)\u001b[0m Early stopping triggered at epoch 18\n",
      "\u001b[2m\u001b[36m(train_de pid=3626795)\u001b[0m Epoch: 32|Train Loss: nan|Val Loss: nan\u001b[32m [repeated 10x across cluster]\u001b[0m\n",
      "\u001b[2m\u001b[36m(train_de pid=3627693)\u001b[0m Epoch: 54|Train Loss: 0.4012584052979946|Val Loss: 0.19750027731060982\u001b[32m [repeated 44x across cluster]\u001b[0m\n",
      "\u001b[2m\u001b[36m(train_de pid=3635151)\u001b[0m Early stopping triggered at epoch 40\n",
      "\u001b[2m\u001b[36m(train_de pid=3626795)\u001b[0m Epoch: 33|Train Loss: nan|Val Loss: nan\u001b[32m [repeated 11x across cluster]\u001b[0m\n",
      "\u001b[2m\u001b[36m(train_de pid=3629371)\u001b[0m Epoch: 14|Train Loss: 0.5038526654243469|Val Loss: 0.20590361934315798\u001b[32m [repeated 48x across cluster]\u001b[0m\n",
      "\u001b[2m\u001b[36m(train_de pid=3630935)\u001b[0m Epoch: 18|Train Loss: nan|Val Loss: nan\u001b[32m [repeated 13x across cluster]\u001b[0m\n",
      "\u001b[2m\u001b[36m(train_de pid=3626583)\u001b[0m Epoch: 17|Train Loss: -0.009131422887245813|Val Loss: 0.20604103522603973\u001b[32m [repeated 52x across cluster]\u001b[0m\n",
      "\u001b[2m\u001b[36m(train_de pid=3632708)\u001b[0m Early stopping triggered at epoch 64\n"
     ]
    },
    {
     "name": "stderr",
     "output_type": "stream",
     "text": [
      "NaN or Inf found in input tensor.\n"
     ]
    },
    {
     "name": "stdout",
     "output_type": "stream",
     "text": [
      "\u001b[2m\u001b[36m(train_de pid=3629615)\u001b[0m Epoch: 19|Train Loss: nan|Val Loss: nan\u001b[32m [repeated 8x across cluster]\u001b[0m\n",
      "\u001b[2m\u001b[36m(train_de pid=3627693)\u001b[0m Epoch: 65|Train Loss: 0.04270416032522917|Val Loss: 0.20806244371289556\u001b[32m [repeated 37x across cluster]\u001b[0m\n",
      "\u001b[2m\u001b[36m(train_de pid=3623099)\u001b[0m Early stopping triggered at epoch 27\u001b[32m [repeated 2x across cluster]\u001b[0m\n",
      "\u001b[2m\u001b[36m(train_de pid=3627323)\u001b[0m Epoch: 14|Train Loss: nan|Val Loss: nan\u001b[32m [repeated 9x across cluster]\u001b[0m\n",
      "\u001b[2m\u001b[36m(train_de pid=3623099)\u001b[0m Epoch: 3|Train Loss: 0.26555875937143963|Val Loss: 0.214846643986124\u001b[32m [repeated 43x across cluster]\u001b[0m\n",
      "\u001b[2m\u001b[36m(train_de pid=3627693)\u001b[0m Early stopping triggered at epoch 66\n"
     ]
    },
    {
     "name": "stderr",
     "output_type": "stream",
     "text": [
      "NaN or Inf found in input tensor.\n"
     ]
    },
    {
     "name": "stdout",
     "output_type": "stream",
     "text": [
      "\u001b[2m\u001b[36m(train_de pid=3627183)\u001b[0m Early stopping triggered at epoch 23\n",
      "\u001b[2m\u001b[36m(train_de pid=3629615)\u001b[0m Epoch: 7|Train Loss: nan|Val Loss: nan\u001b[32m [repeated 9x across cluster]\u001b[0m\n",
      "\u001b[2m\u001b[36m(train_de pid=3623099)\u001b[0m Epoch: 11|Train Loss: 0.1669724186261495|Val Loss: 0.19802544085365353\u001b[32m [repeated 39x across cluster]\u001b[0m\n",
      "\u001b[2m\u001b[36m(train_de pid=3636609)\u001b[0m Early stopping triggered at epoch 34\u001b[32m [repeated 2x across cluster]\u001b[0m\n",
      "\u001b[2m\u001b[36m(train_de pid=3631571)\u001b[0m Epoch: 35|Train Loss: nan|Val Loss: nan\u001b[32m [repeated 4x across cluster]\u001b[0m\n",
      "\u001b[2m\u001b[36m(train_de pid=3628419)\u001b[0m Epoch: 42|Train Loss: -0.031028506986331195|Val Loss: 0.19715022176023922\u001b[32m [repeated 66x across cluster]\u001b[0m\n",
      "\u001b[2m\u001b[36m(train_de pid=3626795)\u001b[0m Epoch: 39|Train Loss: nan|Val Loss: nan\u001b[32m [repeated 7x across cluster]\u001b[0m\n",
      "\u001b[2m\u001b[36m(train_de pid=3623099)\u001b[0m Epoch: 33|Train Loss: 0.1065453514456749|Val Loss: 0.19919997679464746\u001b[32m [repeated 61x across cluster]\u001b[0m\n",
      "\u001b[2m\u001b[36m(train_de pid=3627693)\u001b[0m Early stopping triggered at epoch 10\n",
      "\u001b[2m\u001b[36m(train_de pid=3626795)\u001b[0m Epoch: 40|Train Loss: nan|Val Loss: nan\u001b[32m [repeated 6x across cluster]\u001b[0m\n",
      "\u001b[2m\u001b[36m(train_de pid=3623099)\u001b[0m Epoch: 43|Train Loss: 0.23158594965934753|Val Loss: 0.207055439100121\u001b[32m [repeated 59x across cluster]\u001b[0m\n",
      "\u001b[2m\u001b[36m(train_de pid=3637147)\u001b[0m Early stopping triggered at epoch 110\n",
      "\u001b[2m\u001b[36m(train_de pid=3629615)\u001b[0m Early stopping triggered at epoch 7\n",
      "\u001b[2m\u001b[36m(train_de pid=3626657)\u001b[0m Epoch: 33|Train Loss: nan|Val Loss: nan\u001b[32m [repeated 6x across cluster]\u001b[0m\n",
      "\u001b[2m\u001b[36m(train_de pid=3623099)\u001b[0m Epoch: 50|Train Loss: 0.004181187599897385|Val Loss: 0.20104188618786406\u001b[32m [repeated 49x across cluster]\u001b[0m\n",
      "\u001b[2m\u001b[36m(train_de pid=3627693)\u001b[0m Epoch: 2|Train Loss: nan|Val Loss: nan\u001b[32m [repeated 6x across cluster]\u001b[0m\n",
      "\u001b[2m\u001b[36m(train_de pid=3628419)\u001b[0m Early stopping triggered at epoch 52\n",
      "\u001b[2m\u001b[36m(train_de pid=3623099)\u001b[0m Epoch: 62|Train Loss: 0.10021169235308965|Val Loss: 0.24289934856422019\u001b[32m [repeated 60x across cluster]\u001b[0m\n",
      "\u001b[2m\u001b[36m(train_de pid=3631571)\u001b[0m Epoch: 40|Train Loss: nan|Val Loss: nan\u001b[32m [repeated 5x across cluster]\u001b[0m\n",
      "\u001b[2m\u001b[36m(train_de pid=3627392)\u001b[0m Early stopping triggered at epoch 27\n",
      "\u001b[2m\u001b[36m(train_de pid=3628419)\u001b[0m Epoch: 2|Train Loss: 0.145085242887338|Val Loss: 0.19877974484481065\u001b[32m [repeated 44x across cluster]\u001b[0m\n",
      "\u001b[2m\u001b[36m(train_de pid=3631571)\u001b[0m Early stopping triggered at epoch 41\n"
     ]
    },
    {
     "name": "stderr",
     "output_type": "stream",
     "text": [
      "NaN or Inf found in input tensor.\n"
     ]
    },
    {
     "name": "stdout",
     "output_type": "stream",
     "text": [
      "\u001b[2m\u001b[36m(train_de pid=3627693)\u001b[0m Epoch: 5|Train Loss: nan|Val Loss: nan\u001b[32m [repeated 7x across cluster]\u001b[0m\n",
      "\u001b[2m\u001b[36m(train_de pid=3628826)\u001b[0m Epoch: 51|Train Loss: 0.2944635401169459|Val Loss: 0.20112520365569836\u001b[32m [repeated 49x across cluster]\u001b[0m\n",
      "\u001b[2m\u001b[36m(train_de pid=3630935)\u001b[0m Epoch: 25|Train Loss: nan|Val Loss: nan\u001b[32m [repeated 8x across cluster]\u001b[0m\n",
      "\u001b[2m\u001b[36m(train_de pid=3632708)\u001b[0m Early stopping triggered at epoch 35\n",
      "\u001b[2m\u001b[36m(train_de pid=3635151)\u001b[0m Epoch: 55|Train Loss: 0.48852295109203886|Val Loss: 0.19101557904830227\u001b[32m [repeated 59x across cluster]\u001b[0m\n",
      "\u001b[2m\u001b[36m(train_de pid=3627048)\u001b[0m Epoch: 7|Train Loss: nan|Val Loss: nan\u001b[32m [repeated 6x across cluster]\u001b[0m\n",
      "\u001b[2m\u001b[36m(train_de pid=3628196)\u001b[0m Early stopping triggered at epoch 48\n",
      "\u001b[2m\u001b[36m(train_de pid=3631729)\u001b[0m Epoch: 106|Train Loss: 0.18769107572734356|Val Loss: 0.17445199261419475\u001b[32m [repeated 54x across cluster]\u001b[0m\n",
      "\u001b[2m\u001b[36m(train_de pid=3627323)\u001b[0m Epoch: 32|Train Loss: nan|Val Loss: nan\u001b[32m [repeated 9x across cluster]\u001b[0m\n",
      "\u001b[2m\u001b[36m(train_de pid=3626583)\u001b[0m Early stopping triggered at epoch 45\n",
      "\u001b[2m\u001b[36m(train_de pid=3623099)\u001b[0m Epoch: 102|Train Loss: 0.2622182369232178|Val Loss: 0.18563412195869727\u001b[32m [repeated 57x across cluster]\u001b[0m\n"
     ]
    },
    {
     "name": "stderr",
     "output_type": "stream",
     "text": [
      "NaN or Inf found in input tensor.\n"
     ]
    },
    {
     "name": "stdout",
     "output_type": "stream",
     "text": [
      "\u001b[2m\u001b[36m(train_de pid=3627693)\u001b[0m Epoch: 12|Train Loss: nan|Val Loss: nan\u001b[32m [repeated 6x across cluster]\u001b[0m\n",
      "\u001b[2m\u001b[36m(train_de pid=3626795)\u001b[0m Early stopping triggered at epoch 48\n",
      "\u001b[2m\u001b[36m(train_de pid=3623099)\u001b[0m Epoch: 111|Train Loss: 0.28027382493019104|Val Loss: 0.19129457144123135\u001b[32m [repeated 54x across cluster]\u001b[0m\n",
      "\u001b[2m\u001b[36m(train_de pid=3631571)\u001b[0m Early stopping triggered at epoch 18\n"
     ]
    },
    {
     "name": "stderr",
     "output_type": "stream",
     "text": [
      "NaN or Inf found in input tensor.\n"
     ]
    },
    {
     "name": "stdout",
     "output_type": "stream",
     "text": [
      "\u001b[2m\u001b[36m(train_de pid=3627693)\u001b[0m Epoch: 13|Train Loss: nan|Val Loss: nan\u001b[32m [repeated 4x across cluster]\u001b[0m\n",
      "\u001b[2m\u001b[36m(train_de pid=3635151)\u001b[0m Epoch: 73|Train Loss: 0.09014822436230523|Val Loss: 0.20214905909129552\u001b[32m [repeated 55x across cluster]\u001b[0m\n",
      "\u001b[2m\u001b[36m(train_de pid=3626657)\u001b[0m Early stopping triggered at epoch 36\n",
      "\u001b[2m\u001b[36m(train_de pid=3630935)\u001b[0m Epoch: 28|Train Loss: nan|Val Loss: nan\u001b[32m [repeated 6x across cluster]\u001b[0m\n",
      "\u001b[2m\u001b[36m(train_de pid=3627776)\u001b[0m Epoch: 21|Train Loss: 0.46481784752437044|Val Loss: 0.21010889735605034\u001b[32m [repeated 66x across cluster]\u001b[0m\n",
      "\u001b[2m\u001b[36m(train_de pid=3627693)\u001b[0m Epoch: 16|Train Loss: nan|Val Loss: nan\u001b[32m [repeated 4x across cluster]\u001b[0m\n",
      "\u001b[2m\u001b[36m(train_de pid=3628826)\u001b[0m Epoch: 67|Train Loss: 0.017423658942182858|Val Loss: 0.20382828537661296\u001b[32m [repeated 64x across cluster]\u001b[0m\n",
      "\u001b[2m\u001b[36m(train_de pid=3626920)\u001b[0m Early stopping triggered at epoch 72\n",
      "\u001b[2m\u001b[36m(train_de pid=3627392)\u001b[0m Epoch: 12|Train Loss: nan|Val Loss: nan\u001b[32m [repeated 7x across cluster]\u001b[0m\n",
      "\u001b[2m\u001b[36m(train_de pid=3629615)\u001b[0m Epoch: 29|Train Loss: 0.1813784454550062|Val Loss: 0.20536999218165874\u001b[32m [repeated 45x across cluster]\u001b[0m\n",
      "\u001b[2m\u001b[36m(train_de pid=3630810)\u001b[0m Early stopping triggered at epoch 68\n",
      "\u001b[2m\u001b[36m(train_de pid=3626469)\u001b[0m Early stopping triggered at epoch 58\n",
      "\u001b[2m\u001b[36m(train_de pid=3627392)\u001b[0m Epoch: 13|Train Loss: nan|Val Loss: nan\u001b[32m [repeated 3x across cluster]\u001b[0m\n",
      "\u001b[2m\u001b[36m(train_de pid=3623099)\u001b[0m Epoch: 155|Train Loss: 0.07541219145059586|Val Loss: 0.19580416336204065\u001b[32m [repeated 50x across cluster]\u001b[0m\n",
      "\u001b[2m\u001b[36m(train_de pid=3628419)\u001b[0m Early stopping triggered at epoch 54\u001b[32m [repeated 2x across cluster]\u001b[0m\n",
      "\u001b[2m\u001b[36m(train_de pid=3627693)\u001b[0m Epoch: 20|Train Loss: nan|Val Loss: nan\u001b[32m [repeated 7x across cluster]\u001b[0m\n",
      "\u001b[2m\u001b[36m(train_de pid=3623099)\u001b[0m Epoch: 162|Train Loss: 0.11906574914852779|Val Loss: 0.18743002595323505\u001b[32m [repeated 48x across cluster]\u001b[0m\n",
      "\u001b[2m\u001b[36m(train_de pid=3633324)\u001b[0m Early stopping triggered at epoch 73\n",
      "\u001b[2m\u001b[36m(train_de pid=3630935)\u001b[0m Epoch: 31|Train Loss: nan|Val Loss: nan\u001b[32m [repeated 6x across cluster]\u001b[0m\n"
     ]
    },
    {
     "name": "stderr",
     "output_type": "stream",
     "text": [
      "NaN or Inf found in input tensor.\n"
     ]
    },
    {
     "name": "stdout",
     "output_type": "stream",
     "text": [
      "\u001b[2m\u001b[36m(train_de pid=3627323)\u001b[0m Early stopping triggered at epoch 44\n",
      "\u001b[2m\u001b[36m(train_de pid=3626519)\u001b[0m Epoch: 35|Train Loss: 0.9097790519396464|Val Loss: 0.1963819516946872\u001b[32m [repeated 50x across cluster]\u001b[0m\n",
      "\u001b[2m\u001b[36m(train_de pid=3631729)\u001b[0m Epoch: 4|Train Loss: nan|Val Loss: nan\u001b[32m [repeated 5x across cluster]\u001b[0m\n",
      "\u001b[2m\u001b[36m(train_de pid=3623099)\u001b[0m Early stopping triggered at epoch 177\n",
      "\u001b[2m\u001b[36m(train_de pid=3629371)\u001b[0m Epoch: 70|Train Loss: -0.03649748768657446|Val Loss: 0.18948521914667096\u001b[32m [repeated 59x across cluster]\u001b[0m\n",
      "\u001b[2m\u001b[36m(train_de pid=3627183)\u001b[0m Early stopping triggered at epoch 25\n",
      "\u001b[2m\u001b[36m(train_de pid=3627693)\u001b[0m Epoch: 25|Train Loss: nan|Val Loss: nan\u001b[32m [repeated 8x across cluster]\u001b[0m\n",
      "\u001b[2m\u001b[36m(train_de pid=3628419)\u001b[0m Epoch: 26|Train Loss: -0.12958394984404245|Val Loss: 0.19686777909335337\u001b[32m [repeated 41x across cluster]\u001b[0m\n",
      "\u001b[2m\u001b[36m(train_de pid=3629371)\u001b[0m Early stopping triggered at epoch 74\u001b[32m [repeated 2x across cluster]\u001b[0m\n",
      "\u001b[2m\u001b[36m(train_de pid=3623099)\u001b[0m Epoch: 3|Train Loss: nan|Val Loss: nan\u001b[32m [repeated 4x across cluster]\u001b[0m\n",
      "\u001b[2m\u001b[36m(train_de pid=3626920)\u001b[0m Epoch: 11|Train Loss: 0.18391394913196563|Val Loss: 0.21722618815697858\u001b[32m [repeated 53x across cluster]\u001b[0m\n",
      "\u001b[2m\u001b[36m(train_de pid=3627693)\u001b[0m Epoch: 29|Train Loss: nan|Val Loss: nan\u001b[32m [repeated 9x across cluster]\u001b[0m\n",
      "\u001b[2m\u001b[36m(train_de pid=3628419)\u001b[0m Early stopping triggered at epoch 40\n",
      "\u001b[2m\u001b[36m(train_de pid=3627776)\u001b[0m Epoch: 23|Train Loss: -0.17104345560073853|Val Loss: 0.1946917348248618\u001b[32m [repeated 53x across cluster]\u001b[0m\n",
      "\u001b[2m\u001b[36m(train_de pid=3623099)\u001b[0m Epoch: 8|Train Loss: nan|Val Loss: nan\u001b[32m [repeated 5x across cluster]\u001b[0m\n",
      "\u001b[2m\u001b[36m(train_de pid=3631392)\u001b[0m Epoch: 11|Train Loss: 0.43004099527994794|Val Loss: 0.20325302556157113\u001b[32m [repeated 49x across cluster]\u001b[0m\n"
     ]
    },
    {
     "name": "stderr",
     "output_type": "stream",
     "text": [
      "NaN or Inf found in input tensor.\n"
     ]
    },
    {
     "name": "stdout",
     "output_type": "stream",
     "text": [
      "\u001b[2m\u001b[36m(train_de pid=3627693)\u001b[0m Early stopping triggered at epoch 32\n",
      "\u001b[2m\u001b[36m(train_de pid=3623099)\u001b[0m Epoch: 10|Train Loss: nan|Val Loss: nan\u001b[32m [repeated 6x across cluster]\u001b[0m\n",
      "\u001b[2m\u001b[36m(train_de pid=3633324)\u001b[0m Epoch: 10|Train Loss: 0.016824956238269805|Val Loss: 0.2121472055017948\u001b[32m [repeated 45x across cluster]\u001b[0m\n",
      "\u001b[2m\u001b[36m(train_de pid=3626657)\u001b[0m Early stopping triggered at epoch 53\u001b[32m [repeated 3x across cluster]\u001b[0m\n",
      "\u001b[2m\u001b[36m(train_de pid=3628419)\u001b[0m Epoch: 0|Train Loss: nan|Val Loss: nan\u001b[32m [repeated 6x across cluster]\u001b[0m\n",
      "\u001b[2m\u001b[36m(train_de pid=3627183)\u001b[0m Epoch: 1|Train Loss: 0.49911586940288544|Val Loss: 0.2363438230038931\u001b[32m [repeated 24x across cluster]\u001b[0m\n",
      "\u001b[2m\u001b[36m(train_de pid=3631729)\u001b[0m Early stopping triggered at epoch 17\n",
      "\u001b[2m\u001b[36m(train_de pid=3627693)\u001b[0m Epoch: 1|Train Loss: nan|Val Loss: nan\u001b[32m [repeated 5x across cluster]\u001b[0m\n"
     ]
    },
    {
     "name": "stderr",
     "output_type": "stream",
     "text": [
      "NaN or Inf found in input tensor.\n"
     ]
    },
    {
     "name": "stdout",
     "output_type": "stream",
     "text": [
      "\u001b[2m\u001b[36m(train_de pid=3627392)\u001b[0m Early stopping triggered at epoch 26\n",
      "\u001b[2m\u001b[36m(train_de pid=3626795)\u001b[0m Epoch: 24|Train Loss: 0.10313113530476888|Val Loss: 0.18326985742742077\u001b[32m [repeated 38x across cluster]\u001b[0m\n",
      "\u001b[2m\u001b[36m(train_de pid=3630935)\u001b[0m Epoch: 36|Train Loss: nan|Val Loss: nan\u001b[32m [repeated 5x across cluster]\u001b[0m\n",
      "\u001b[2m\u001b[36m(train_de pid=3632708)\u001b[0m Epoch: 14|Train Loss: 0.6069629192352295|Val Loss: 0.1967587149215501\u001b[32m [repeated 56x across cluster]\u001b[0m\n",
      "\u001b[2m\u001b[36m(train_de pid=3637147)\u001b[0m Early stopping triggered at epoch 19\n",
      "\u001b[2m\u001b[36m(train_de pid=3623099)\u001b[0m Epoch: 22|Train Loss: nan|Val Loss: nan\u001b[32m [repeated 7x across cluster]\u001b[0m\n",
      "\u001b[2m\u001b[36m(train_de pid=3626795)\u001b[0m Epoch: 28|Train Loss: 0.1113576702773571|Val Loss: 0.18804995432541566\u001b[32m [repeated 48x across cluster]\u001b[0m\n"
     ]
    },
    {
     "name": "stderr",
     "output_type": "stream",
     "text": [
      "NaN or Inf found in input tensor.\n"
     ]
    },
    {
     "name": "stdout",
     "output_type": "stream",
     "text": [
      "\u001b[2m\u001b[36m(train_de pid=3627693)\u001b[0m Early stopping triggered at epoch 6\n",
      "\u001b[2m\u001b[36m(train_de pid=3623099)\u001b[0m Epoch: 25|Train Loss: nan|Val Loss: nan\u001b[32m [repeated 6x across cluster]\u001b[0m\n",
      "\u001b[2m\u001b[36m(train_de pid=3626519)\u001b[0m Epoch: 9|Train Loss: 0.2252184429339|Val Loss: 0.19015398299447575\u001b[32m [repeated 53x across cluster]\u001b[0m\n",
      "\u001b[2m\u001b[36m(train_de pid=3627323)\u001b[0m Early stopping triggered at epoch 45\n",
      "\u001b[2m\u001b[36m(train_de pid=3628826)\u001b[0m Early stopping triggered at epoch 97\n",
      "\u001b[2m\u001b[36m(train_de pid=3623099)\u001b[0m Epoch: 28|Train Loss: nan|Val Loss: nan\u001b[32m [repeated 3x across cluster]\u001b[0m\n",
      "\u001b[2m\u001b[36m(train_de pid=3627693)\u001b[0m Epoch: 8|Train Loss: 0.01546032470650971|Val Loss: 0.1829466801136732\u001b[32m [repeated 41x across cluster]\u001b[0m\n"
     ]
    },
    {
     "name": "stderr",
     "output_type": "stream",
     "text": [
      "NaN or Inf found in input tensor.\n"
     ]
    },
    {
     "name": "stdout",
     "output_type": "stream",
     "text": [
      "\u001b[2m\u001b[36m(train_de pid=3623099)\u001b[0m Early stopping triggered at epoch 30\n",
      "\u001b[2m\u001b[36m(train_de pid=3627048)\u001b[0m Epoch: 10|Train Loss: nan|Val Loss: nan\u001b[32m [repeated 4x across cluster]\u001b[0m\n",
      "\u001b[2m\u001b[36m(train_de pid=3626519)\u001b[0m Early stopping triggered at epoch 12\n",
      "\u001b[2m\u001b[36m(train_de pid=3626583)\u001b[0m Epoch: 67|Train Loss: 0.07538821761097227|Val Loss: 0.19412513591021627\u001b[32m [repeated 35x across cluster]\u001b[0m\n",
      "\u001b[2m\u001b[36m(train_de pid=3628737)\u001b[0m Early stopping triggered at epoch 96\n",
      "\u001b[2m\u001b[36m(train_de pid=3630935)\u001b[0m Epoch: 39|Train Loss: nan|Val Loss: nan\n",
      "\u001b[2m\u001b[36m(train_de pid=3629371)\u001b[0m Early stopping triggered at epoch 39\n",
      "\u001b[2m\u001b[36m(train_de pid=3627693)\u001b[0m Epoch: 21|Train Loss: 0.05166101362556219|Val Loss: 0.21398963577424487\u001b[32m [repeated 53x across cluster]\u001b[0m\n",
      "\u001b[2m\u001b[36m(train_de pid=3637147)\u001b[0m Epoch: 0|Train Loss: nan|Val Loss: nan\n",
      "\u001b[2m\u001b[36m(train_de pid=3628419)\u001b[0m Epoch: 3|Train Loss: nan|Val Loss: nan\n",
      "\u001b[2m\u001b[36m(train_de pid=3627693)\u001b[0m Epoch: 28|Train Loss: 0.09544602409005165|Val Loss: 0.23087143649657568\u001b[32m [repeated 54x across cluster]\u001b[0m\n",
      "\u001b[2m\u001b[36m(train_de pid=3630145)\u001b[0m Epoch: 6|Train Loss: nan|Val Loss: nan\u001b[32m [repeated 2x across cluster]\u001b[0m\n",
      "\u001b[2m\u001b[36m(train_de pid=3626583)\u001b[0m Epoch: 79|Train Loss: 0.04204848940883364|Val Loss: 0.21100839825121911\u001b[32m [repeated 53x across cluster]\u001b[0m\n",
      "\u001b[2m\u001b[36m(train_de pid=3633324)\u001b[0m Early stopping triggered at epoch 25\n",
      "\u001b[2m\u001b[36m(train_de pid=3633324)\u001b[0m Epoch: 0|Train Loss: nan|Val Loss: nan\n",
      "\u001b[2m\u001b[36m(train_de pid=3626583)\u001b[0m Epoch: 81|Train Loss: 0.38918277621269226|Val Loss: 0.20474666600617078\u001b[32m [repeated 42x across cluster]\u001b[0m\n",
      "\u001b[2m\u001b[36m(train_de pid=3627693)\u001b[0m Early stopping triggered at epoch 40\u001b[32m [repeated 3x across cluster]\u001b[0m\n"
     ]
    },
    {
     "name": "stderr",
     "output_type": "stream",
     "text": [
      "NaN or Inf found in input tensor.\n"
     ]
    },
    {
     "name": "stdout",
     "output_type": "stream",
     "text": [
      "\u001b[2m\u001b[36m(train_de pid=3633324)\u001b[0m Epoch: 2|Train Loss: nan|Val Loss: nan\u001b[32m [repeated 3x across cluster]\u001b[0m\n",
      "\u001b[2m\u001b[36m(train_de pid=3626583)\u001b[0m Epoch: 83|Train Loss: 0.2244443382535662|Val Loss: 0.2143318497135744\u001b[32m [repeated 28x across cluster]\u001b[0m\n",
      "\u001b[2m\u001b[36m(train_de pid=3635151)\u001b[0m Early stopping triggered at epoch 167\u001b[32m [repeated 2x across cluster]\u001b[0m\n",
      "\u001b[2m\u001b[36m(train_de pid=3633324)\u001b[0m Epoch: 5|Train Loss: nan|Val Loss: nan\u001b[32m [repeated 3x across cluster]\u001b[0m\n",
      "\u001b[2m\u001b[36m(train_de pid=3628196)\u001b[0m Epoch: 31|Train Loss: 0.19673544665177664|Val Loss: 0.18894793773483898\u001b[32m [repeated 51x across cluster]\u001b[0m\n",
      "\u001b[2m\u001b[36m(train_de pid=3628001)\u001b[0m Early stopping triggered at epoch 27\u001b[32m [repeated 2x across cluster]\u001b[0m\n",
      "\u001b[2m\u001b[36m(train_de pid=3633324)\u001b[0m Epoch: 9|Train Loss: nan|Val Loss: nan\u001b[32m [repeated 6x across cluster]\u001b[0m\n",
      "\u001b[2m\u001b[36m(train_de pid=3627392)\u001b[0m Epoch: 42|Train Loss: 0.28699725270271303|Val Loss: 0.19216746293629208\u001b[32m [repeated 32x across cluster]\u001b[0m\n",
      "\u001b[2m\u001b[36m(train_de pid=3628196)\u001b[0m Early stopping triggered at epoch 32\u001b[32m [repeated 2x across cluster]\u001b[0m\n",
      "\u001b[2m\u001b[36m(train_de pid=3633324)\u001b[0m Epoch: 13|Train Loss: nan|Val Loss: nan\u001b[32m [repeated 5x across cluster]\u001b[0m\n",
      "\u001b[2m\u001b[36m(train_de pid=3628737)\u001b[0m Epoch: 29|Train Loss: 0.4069863392247094|Val Loss: 0.2265561280703103\u001b[32m [repeated 38x across cluster]\u001b[0m\n",
      "\u001b[2m\u001b[36m(train_de pid=3626795)\u001b[0m Early stopping triggered at epoch 44\n",
      "\u001b[2m\u001b[36m(train_de pid=3631729)\u001b[0m Early stopping triggered at epoch 1\n",
      "\u001b[2m\u001b[36m(train_de pid=3633324)\u001b[0m Epoch: 17|Train Loss: nan|Val Loss: nan\u001b[32m [repeated 6x across cluster]\u001b[0m\n",
      "\u001b[2m\u001b[36m(train_de pid=3627323)\u001b[0m Epoch: 5|Train Loss: 0.2801084816455841|Val Loss: 0.2158277142723091\u001b[32m [repeated 29x across cluster]\u001b[0m\n",
      "\u001b[2m\u001b[36m(train_de pid=3633324)\u001b[0m Epoch: 21|Train Loss: nan|Val Loss: nan\u001b[32m [repeated 7x across cluster]\u001b[0m\n",
      "\u001b[2m\u001b[36m(train_de pid=3627392)\u001b[0m Epoch: 52|Train Loss: 0.05592940151691437|Val Loss: 0.1978486788769563\u001b[32m [repeated 45x across cluster]\u001b[0m\n"
     ]
    },
    {
     "name": "stderr",
     "output_type": "stream",
     "text": [
      "NaN or Inf found in input tensor.\n"
     ]
    },
    {
     "name": "stdout",
     "output_type": "stream",
     "text": [
      "\u001b[2m\u001b[36m(train_de pid=3633324)\u001b[0m Early stopping triggered at epoch 23\n",
      "\u001b[2m\u001b[36m(train_de pid=3633324)\u001b[0m Epoch: 0|Train Loss: nan|Val Loss: nan\u001b[32m [repeated 4x across cluster]\u001b[0m\n",
      "\u001b[2m\u001b[36m(train_de pid=3631024)\u001b[0m Epoch: 61|Train Loss: -2.218053877353668|Val Loss: -2.1018752220273016\u001b[32m [repeated 34x across cluster]\u001b[0m\n",
      "\u001b[2m\u001b[36m(train_de pid=3631818)\u001b[0m Early stopping triggered at epoch 37\u001b[32m [repeated 2x across cluster]\u001b[0m\n",
      "\u001b[2m\u001b[36m(train_de pid=3628196)\u001b[0m Epoch: 6|Train Loss: nan|Val Loss: nan\u001b[32m [repeated 3x across cluster]\u001b[0m\n"
     ]
    },
    {
     "name": "stderr",
     "output_type": "stream",
     "text": [
      "NaN or Inf found in input tensor.\n"
     ]
    },
    {
     "name": "stdout",
     "output_type": "stream",
     "text": [
      "\u001b[2m\u001b[36m(train_de pid=3628737)\u001b[0m Epoch: 43|Train Loss: 0.3753833472728729|Val Loss: 0.19047838612287132\u001b[32m [repeated 32x across cluster]\u001b[0m\n",
      "\u001b[2m\u001b[36m(train_de pid=3630935)\u001b[0m Early stopping triggered at epoch 45\u001b[32m [repeated 3x across cluster]\u001b[0m\n",
      "\u001b[2m\u001b[36m(train_de pid=3633324)\u001b[0m Epoch: 4|Train Loss: nan|Val Loss: nan\u001b[32m [repeated 6x across cluster]\u001b[0m\n",
      "\u001b[2m\u001b[36m(train_de pid=3628737)\u001b[0m Epoch: 48|Train Loss: 0.2669752836227417|Val Loss: 0.22801267923442303\u001b[32m [repeated 53x across cluster]\u001b[0m\n",
      "\u001b[2m\u001b[36m(train_de pid=3633993)\u001b[0m Early stopping triggered at epoch 36\n",
      "\u001b[2m\u001b[36m(train_de pid=3628196)\u001b[0m Epoch: 9|Train Loss: nan|Val Loss: nan\u001b[32m [repeated 4x across cluster]\u001b[0m\n",
      "\u001b[2m\u001b[36m(train_de pid=3627323)\u001b[0m Epoch: 8|Train Loss: 0.3190954402089119|Val Loss: 0.22542864904273302\u001b[32m [repeated 38x across cluster]\u001b[0m\n",
      "\u001b[2m\u001b[36m(train_de pid=3626583)\u001b[0m Epoch: 0|Train Loss: 3.47357571663128|Val Loss: inf\n",
      "\u001b[2m\u001b[36m(train_de pid=3632074)\u001b[0m Early stopping triggered at epoch 53\u001b[32m [repeated 3x across cluster]\u001b[0m\n",
      "\u001b[2m\u001b[36m(train_de pid=3633324)\u001b[0m Epoch: 8|Train Loss: nan|Val Loss: nan\u001b[32m [repeated 7x across cluster]\u001b[0m\n",
      "\u001b[2m\u001b[36m(train_de pid=3630935)\u001b[0m Epoch: 3|Train Loss: 0.10148384794592857|Val Loss: 0.20742795341224832\u001b[32m [repeated 48x across cluster]\u001b[0m\n",
      "\u001b[2m\u001b[36m(train_de pid=3626583)\u001b[0m Epoch: 7|Train Loss: nan|Val Loss: nan\u001b[32m [repeated 10x across cluster]\u001b[0m\n",
      "\u001b[2m\u001b[36m(train_de pid=3632074)\u001b[0m Epoch: 14|Train Loss: 0.11722305230796337|Val Loss: 0.21301300185829555\u001b[32m [repeated 50x across cluster]\u001b[0m\n",
      "\u001b[2m\u001b[36m(train_de pid=3626583)\u001b[0m Early stopping triggered at epoch 11\n"
     ]
    },
    {
     "name": "stderr",
     "output_type": "stream",
     "text": [
      "NaN or Inf found in input tensor.\n"
     ]
    },
    {
     "name": "stdout",
     "output_type": "stream",
     "text": [
      "\u001b[2m\u001b[36m(train_de pid=3631729)\u001b[0m Epoch: 1|Train Loss: nan|Val Loss: nan\u001b[32m [repeated 11x across cluster]\u001b[0m\n",
      "\u001b[2m\u001b[36m(train_de pid=3626657)\u001b[0m Epoch: 14|Train Loss: 0.42958581873348783|Val Loss: 0.2210387966728636\u001b[32m [repeated 41x across cluster]\u001b[0m\n",
      "\u001b[2m\u001b[36m(train_de pid=3633324)\u001b[0m Epoch: 14|Train Loss: nan|Val Loss: nan\u001b[32m [repeated 8x across cluster]\u001b[0m\n",
      "\u001b[2m\u001b[36m(train_de pid=3631392)\u001b[0m Epoch: 21|Train Loss: 0.0649322768052419|Val Loss: 0.19777977461616197\u001b[32m [repeated 57x across cluster]\u001b[0m\n",
      "\u001b[2m\u001b[36m(train_de pid=3633324)\u001b[0m Epoch: 16|Train Loss: nan|Val Loss: nan\u001b[32m [repeated 7x across cluster]\u001b[0m\n",
      "\u001b[2m\u001b[36m(train_de pid=3627392)\u001b[0m Early stopping triggered at epoch 84\n",
      "\u001b[2m\u001b[36m(train_de pid=3623099)\u001b[0m Epoch: 29|Train Loss: 0.09544166332731645|Val Loss: 0.19471705057347813\u001b[32m [repeated 51x across cluster]\u001b[0m\n",
      "\u001b[2m\u001b[36m(train_de pid=3628196)\u001b[0m Epoch: 17|Train Loss: nan|Val Loss: nan\u001b[32m [repeated 6x across cluster]\u001b[0m\n",
      "\u001b[2m\u001b[36m(train_de pid=3631818)\u001b[0m Early stopping triggered at epoch 52\n",
      "\u001b[2m\u001b[36m(train_de pid=3632708)\u001b[0m Early stopping triggered at epoch 32\n",
      "\u001b[2m\u001b[36m(train_de pid=3626583)\u001b[0m Epoch: 21|Train Loss: 0.36637068788210553|Val Loss: 0.19561305261837938\u001b[32m [repeated 48x across cluster]\u001b[0m\n",
      "\u001b[2m\u001b[36m(train_de pid=3627048)\u001b[0m Epoch: 13|Train Loss: nan|Val Loss: nan\u001b[32m [repeated 6x across cluster]\u001b[0m\n",
      "\u001b[2m\u001b[36m(train_de pid=3626583)\u001b[0m Early stopping triggered at epoch 22\n",
      "\u001b[2m\u001b[36m(train_de pid=3623099)\u001b[0m Epoch: 32|Train Loss: 0.18897452702124914|Val Loss: 0.19680282447176675\u001b[32m [repeated 39x across cluster]\u001b[0m\n",
      "\u001b[2m\u001b[36m(train_de pid=3631024)\u001b[0m Early stopping triggered at epoch 69\n",
      "\u001b[2m\u001b[36m(train_de pid=3635151)\u001b[0m Epoch: 1|Train Loss: nan|Val Loss: nan\u001b[32m [repeated 8x across cluster]\u001b[0m\n",
      "\u001b[2m\u001b[36m(train_de pid=3626583)\u001b[0m Epoch: 9|Train Loss: -0.013146546935396535|Val Loss: 0.19070925301029568\u001b[32m [repeated 42x across cluster]\u001b[0m\n",
      "\u001b[2m\u001b[36m(train_de pid=3633324)\u001b[0m Epoch: 25|Train Loss: nan|Val Loss: nan\u001b[32m [repeated 12x across cluster]\u001b[0m\n"
     ]
    },
    {
     "name": "stderr",
     "output_type": "stream",
     "text": [
      "NaN or Inf found in input tensor.\n"
     ]
    },
    {
     "name": "stdout",
     "output_type": "stream",
     "text": [
      "\u001b[2m\u001b[36m(train_de pid=3633324)\u001b[0m Early stopping triggered at epoch 26\n",
      "\u001b[2m\u001b[36m(train_de pid=3626583)\u001b[0m Epoch: 14|Train Loss: 0.03639325127005577|Val Loss: 0.20237237027003652\u001b[32m [repeated 43x across cluster]\u001b[0m\n",
      "\u001b[2m\u001b[36m(train_de pid=3628419)\u001b[0m Epoch: 0|Train Loss: nan|Val Loss: nan\u001b[32m [repeated 9x across cluster]\u001b[0m\n",
      "\u001b[2m\u001b[36m(train_de pid=3632074)\u001b[0m Early stopping triggered at epoch 61\u001b[32m [repeated 2x across cluster]\u001b[0m\n",
      "\u001b[2m\u001b[36m(train_de pid=3626583)\u001b[0m Epoch: 19|Train Loss: 0.20849492720195226|Val Loss: 0.18827662365067574\u001b[32m [repeated 29x across cluster]\u001b[0m\n",
      "\u001b[2m\u001b[36m(train_de pid=3631024)\u001b[0m Epoch: 7|Train Loss: nan|Val Loss: nan\u001b[32m [repeated 17x across cluster]\u001b[0m\n"
     ]
    },
    {
     "name": "stderr",
     "output_type": "stream",
     "text": [
      "NaN or Inf found in input tensor.\n"
     ]
    },
    {
     "name": "stdout",
     "output_type": "stream",
     "text": [
      "\u001b[2m\u001b[36m(train_de pid=3628419)\u001b[0m Early stopping triggered at epoch 9\n",
      "\u001b[2m\u001b[36m(train_de pid=3626583)\u001b[0m Epoch: 26|Train Loss: 0.1790885818856103|Val Loss: 0.18502185465324492\u001b[32m [repeated 35x across cluster]\u001b[0m\n",
      "\u001b[2m\u001b[36m(train_de pid=3626795)\u001b[0m Early stopping triggered at epoch 80\n",
      "\u001b[2m\u001b[36m(train_de pid=3633993)\u001b[0m Epoch: 27|Train Loss: nan|Val Loss: nan\u001b[32m [repeated 8x across cluster]\u001b[0m\n",
      "\u001b[2m\u001b[36m(train_de pid=3626583)\u001b[0m Epoch: 30|Train Loss: 0.09762724063226155|Val Loss: 0.19793858988033164\u001b[32m [repeated 14x across cluster]\u001b[0m\n",
      "\u001b[2m\u001b[36m(train_de pid=3627693)\u001b[0m Early stopping triggered at epoch 21\u001b[32m [repeated 3x across cluster]\u001b[0m\n",
      "\u001b[2m\u001b[36m(train_de pid=3633993)\u001b[0m Epoch: 29|Train Loss: nan|Val Loss: nan\u001b[32m [repeated 7x across cluster]\u001b[0m\n",
      "\u001b[2m\u001b[36m(train_de pid=3630935)\u001b[0m Epoch: 41|Train Loss: -0.10147292632609606|Val Loss: 0.21769713786091993\u001b[32m [repeated 43x across cluster]\u001b[0m\n",
      "\u001b[2m\u001b[36m(train_de pid=3626583)\u001b[0m Early stopping triggered at epoch 32\n",
      "\u001b[2m\u001b[36m(train_de pid=3632074)\u001b[0m Epoch: 0|Train Loss: nan|Val Loss: nan\u001b[32m [repeated 14x across cluster]\u001b[0m\n"
     ]
    },
    {
     "name": "stderr",
     "output_type": "stream",
     "text": [
      "NaN or Inf found in input tensor.\n"
     ]
    },
    {
     "name": "stdout",
     "output_type": "stream",
     "text": [
      "\u001b[2m\u001b[36m(train_de pid=3633993)\u001b[0m Early stopping triggered at epoch 32\n",
      "\u001b[2m\u001b[36m(train_de pid=3623099)\u001b[0m Epoch: 42|Train Loss: 0.1483425988505284|Val Loss: 0.17799473770583668\u001b[32m [repeated 29x across cluster]\u001b[0m\n",
      "\u001b[2m\u001b[36m(train_de pid=3631818)\u001b[0m Epoch: 8|Train Loss: nan|Val Loss: nan\u001b[32m [repeated 15x across cluster]\u001b[0m\n",
      "\u001b[2m\u001b[36m(train_de pid=3627693)\u001b[0m Epoch: 22|Train Loss: 0.25723960995674133|Val Loss: 0.18627134189009667\u001b[32m [repeated 47x across cluster]\u001b[0m\n",
      "\u001b[2m\u001b[36m(train_de pid=3631024)\u001b[0m Epoch: 18|Train Loss: nan|Val Loss: nan\u001b[32m [repeated 14x across cluster]\u001b[0m\n",
      "\u001b[2m\u001b[36m(train_de pid=3631818)\u001b[0m Early stopping triggered at epoch 10\n"
     ]
    },
    {
     "name": "stderr",
     "output_type": "stream",
     "text": [
      "NaN or Inf found in input tensor.\n"
     ]
    },
    {
     "name": "stdout",
     "output_type": "stream",
     "text": [
      "\u001b[2m\u001b[36m(train_de pid=3626795)\u001b[0m Epoch: 15|Train Loss: 0.11913959806164105|Val Loss: 0.20654753013970514\u001b[32m [repeated 43x across cluster]\u001b[0m\n"
     ]
    },
    {
     "name": "stderr",
     "output_type": "stream",
     "text": [
      "NaN or Inf found in input tensor.\n"
     ]
    },
    {
     "name": "stdout",
     "output_type": "stream",
     "text": [
      "\u001b[2m\u001b[36m(train_de pid=3633324)\u001b[0m Epoch: 7|Train Loss: nan|Val Loss: nan\u001b[32m [repeated 10x across cluster]\u001b[0m\n",
      "\u001b[2m\u001b[36m(train_de pid=3631024)\u001b[0m Early stopping triggered at epoch 20\n",
      "\u001b[2m\u001b[36m(train_de pid=3627693)\u001b[0m Early stopping triggered at epoch 34\n",
      "\u001b[2m\u001b[36m(train_de pid=3626795)\u001b[0m Epoch: 18|Train Loss: 0.42918816208839417|Val Loss: 0.20279469523651927\u001b[32m [repeated 32x across cluster]\u001b[0m\n",
      "\u001b[2m\u001b[36m(train_de pid=3626583)\u001b[0m Epoch: 24|Train Loss: nan|Val Loss: nan\u001b[32m [repeated 8x across cluster]\u001b[0m\n",
      "\u001b[2m\u001b[36m(train_de pid=3628196)\u001b[0m Early stopping triggered at epoch 35\n",
      "\u001b[2m\u001b[36m(train_de pid=3627323)\u001b[0m Epoch: 20|Train Loss: 0.2563169524073601|Val Loss: 0.21123554294463248\u001b[32m [repeated 33x across cluster]\u001b[0m\n",
      "\u001b[2m\u001b[36m(train_de pid=3626583)\u001b[0m Epoch: 28|Train Loss: nan|Val Loss: nan\u001b[32m [repeated 6x across cluster]\u001b[0m\n",
      "\u001b[2m\u001b[36m(train_de pid=3626795)\u001b[0m Epoch: 25|Train Loss: 0.3560422360897064|Val Loss: 0.23903324878683277\u001b[32m [repeated 48x across cluster]\u001b[0m\n",
      "\u001b[2m\u001b[36m(train_de pid=3631818)\u001b[0m Epoch: 3|Train Loss: nan|Val Loss: nan\u001b[32m [repeated 6x across cluster]\u001b[0m\n",
      "\u001b[2m\u001b[36m(train_de pid=3627392)\u001b[0m Early stopping triggered at epoch 60\n",
      "\u001b[2m\u001b[36m(train_de pid=3628196)\u001b[0m Epoch: 18|Train Loss: 0.19882414117455482|Val Loss: 0.2398319786104063\u001b[32m [repeated 42x across cluster]\u001b[0m\n",
      "\u001b[2m\u001b[36m(train_de pid=3626583)\u001b[0m Epoch: 35|Train Loss: nan|Val Loss: nan\u001b[32m [repeated 10x across cluster]\u001b[0m\n",
      "\u001b[2m\u001b[36m(train_de pid=3629371)\u001b[0m Epoch: 26|Train Loss: 0.16608590260148048|Val Loss: 0.20030375775725892\u001b[32m [repeated 42x across cluster]\u001b[0m\n",
      "\u001b[2m\u001b[36m(train_de pid=3626583)\u001b[0m Epoch: 39|Train Loss: nan|Val Loss: nan\u001b[32m [repeated 8x across cluster]\u001b[0m\n",
      "\u001b[2m\u001b[36m(train_de pid=3626920)\u001b[0m Epoch: 6|Train Loss: -0.11679541213171822|Val Loss: 0.17688040678805883\u001b[32m [repeated 42x across cluster]\u001b[0m\n",
      "\u001b[2m\u001b[36m(train_de pid=3626583)\u001b[0m Early stopping triggered at epoch 44\n",
      "\u001b[2m\u001b[36m(train_de pid=3631818)\u001b[0m Epoch: 7|Train Loss: nan|Val Loss: nan\u001b[32m [repeated 8x across cluster]\u001b[0m\n",
      "\u001b[2m\u001b[36m(train_de pid=3626469)\u001b[0m Epoch: 15|Train Loss: -0.825307160615921|Val Loss: -0.6143802995048463\u001b[32m [repeated 41x across cluster]\u001b[0m\n",
      "\u001b[2m\u001b[36m(train_de pid=3633324)\u001b[0m Epoch: 15|Train Loss: nan|Val Loss: nan\u001b[32m [repeated 5x across cluster]\u001b[0m\n",
      "\u001b[2m\u001b[36m(train_de pid=3628001)\u001b[0m Early stopping triggered at epoch 14\n",
      "\u001b[2m\u001b[36m(train_de pid=3627693)\u001b[0m Epoch: 19|Train Loss: 0.21435952434937158|Val Loss: 0.22517166271184882\u001b[32m [repeated 34x across cluster]\u001b[0m\n",
      "\u001b[2m\u001b[36m(train_de pid=3633324)\u001b[0m Epoch: 16|Train Loss: nan|Val Loss: nan\u001b[32m [repeated 5x across cluster]\u001b[0m\n",
      "\u001b[2m\u001b[36m(train_de pid=3628196)\u001b[0m Early stopping triggered at epoch 52\u001b[32m [repeated 2x across cluster]\u001b[0m\n",
      "\u001b[2m\u001b[36m(train_de pid=3626519)\u001b[0m Epoch: 15|Train Loss: 0.08573547378182411|Val Loss: 0.19622887382283807\u001b[32m [repeated 24x across cluster]\u001b[0m\n",
      "\u001b[2m\u001b[36m(train_de pid=3626583)\u001b[0m Epoch: 3|Train Loss: nan|Val Loss: nan\u001b[32m [repeated 5x across cluster]\u001b[0m\n",
      "\u001b[2m\u001b[36m(train_de pid=3630935)\u001b[0m Early stopping triggered at epoch 81\n",
      "\u001b[2m\u001b[36m(train_de pid=3628196)\u001b[0m Epoch: 8|Train Loss: 0.3670872960771833|Val Loss: 0.20664390671923424\u001b[32m [repeated 36x across cluster]\u001b[0m\n",
      "\u001b[2m\u001b[36m(train_de pid=3626583)\u001b[0m Epoch: 5|Train Loss: nan|Val Loss: nan\u001b[32m [repeated 9x across cluster]\u001b[0m\n",
      "\u001b[2m\u001b[36m(train_de pid=3627323)\u001b[0m Epoch: 26|Train Loss: 0.30219975486397743|Val Loss: 0.21374672678066417\u001b[32m [repeated 46x across cluster]\u001b[0m\n",
      "\u001b[2m\u001b[36m(train_de pid=3626583)\u001b[0m Epoch: 7|Train Loss: nan|Val Loss: nan\u001b[32m [repeated 7x across cluster]\u001b[0m\n",
      "\u001b[2m\u001b[36m(train_de pid=3630935)\u001b[0m Epoch: 26|Train Loss: 0.109397991001606|Val Loss: 0.20314111051460107\u001b[32m [repeated 47x across cluster]\u001b[0m\n",
      "\u001b[2m\u001b[36m(train_de pid=3633324)\u001b[0m Epoch: 21|Train Loss: nan|Val Loss: nan\u001b[32m [repeated 7x across cluster]\u001b[0m\n",
      "\u001b[2m\u001b[36m(train_de pid=3626795)\u001b[0m Early stopping triggered at epoch 57\n",
      "\u001b[2m\u001b[36m(train_de pid=3630935)\u001b[0m Epoch: 35|Train Loss: 0.32646161913871763|Val Loss: 0.20033412339786688\u001b[32m [repeated 34x across cluster]\u001b[0m\n",
      "\u001b[2m\u001b[36m(train_de pid=3632074)\u001b[0m Epoch: 5|Train Loss: nan|Val Loss: nan\u001b[32m [repeated 3x across cluster]\u001b[0m\n",
      "\u001b[2m\u001b[36m(train_de pid=3630935)\u001b[0m Early stopping triggered at epoch 40\n",
      "\u001b[2m\u001b[36m(train_de pid=3630935)\u001b[0m Epoch: 4|Train Loss: 0.07770981887976329|Val Loss: 0.20928475289952522\u001b[32m [repeated 37x across cluster]\u001b[0m\n",
      "\u001b[2m\u001b[36m(train_de pid=3631818)\u001b[0m Epoch: 17|Train Loss: nan|Val Loss: nan\u001b[32m [repeated 8x across cluster]\u001b[0m\n",
      "\u001b[2m\u001b[36m(train_de pid=3628196)\u001b[0m Early stopping triggered at epoch 33\n",
      "\u001b[2m\u001b[36m(train_de pid=3628001)\u001b[0m Epoch: 18|Train Loss: 0.06313751358538866|Val Loss: 0.2294735414131234\u001b[32m [repeated 31x across cluster]\u001b[0m\n",
      "\u001b[2m\u001b[36m(train_de pid=3626583)\u001b[0m Epoch: 13|Train Loss: nan|Val Loss: nan\u001b[32m [repeated 3x across cluster]\u001b[0m\n",
      "\u001b[2m\u001b[36m(train_de pid=3633993)\u001b[0m Early stopping triggered at epoch 79\n",
      "\u001b[2m\u001b[36m(train_de pid=3633993)\u001b[0m Epoch: 1|Train Loss: 0.3180856506029765|Val Loss: 0.2157813443077935\u001b[32m [repeated 37x across cluster]\u001b[0m\n"
     ]
    },
    {
     "name": "stderr",
     "output_type": "stream",
     "text": [
      "NaN or Inf found in input tensor.\n"
     ]
    },
    {
     "name": "stdout",
     "output_type": "stream",
     "text": [
      "\u001b[2m\u001b[36m(train_de pid=3627392)\u001b[0m Early stopping triggered at epoch 5\n",
      "\u001b[2m\u001b[36m(train_de pid=3632074)\u001b[0m Epoch: 6|Train Loss: nan|Val Loss: nan\u001b[32m [repeated 7x across cluster]\u001b[0m\n",
      "\u001b[2m\u001b[36m(train_de pid=3626469)\u001b[0m Epoch: 20|Train Loss: 0.24762830138206482|Val Loss: -0.3662371074780822\u001b[32m [repeated 44x across cluster]\u001b[0m\n",
      "\u001b[2m\u001b[36m(train_de pid=3633993)\u001b[0m Early stopping triggered at epoch 10\n",
      "\u001b[2m\u001b[36m(train_de pid=3630145)\u001b[0m Epoch: 13|Train Loss: nan|Val Loss: nan\u001b[32m [repeated 8x across cluster]\u001b[0m\n",
      "\u001b[2m\u001b[36m(train_de pid=3627693)\u001b[0m Epoch: 39|Train Loss: 0.11734584843118985|Val Loss: 0.19731716687480608\u001b[32m [repeated 29x across cluster]\u001b[0m\n",
      "\u001b[2m\u001b[36m(train_de pid=3631729)\u001b[0m Epoch: 10|Train Loss: nan|Val Loss: nan\u001b[32m [repeated 6x across cluster]\u001b[0m\n",
      "\u001b[2m\u001b[36m(train_de pid=3630935)\u001b[0m Epoch: 52|Train Loss: 0.18930245439211527|Val Loss: 0.19361869143504723\u001b[32m [repeated 43x across cluster]\u001b[0m\n",
      "\u001b[2m\u001b[36m(train_de pid=3632074)\u001b[0m Epoch: 7|Train Loss: nan|Val Loss: nan\u001b[32m [repeated 6x across cluster]\u001b[0m\n",
      "\u001b[2m\u001b[36m(train_de pid=3630935)\u001b[0m Early stopping triggered at epoch 57\n",
      "\u001b[2m\u001b[36m(train_de pid=3627323)\u001b[0m Epoch: 32|Train Loss: 0.42391929775476456|Val Loss: 0.1939506097091362\u001b[32m [repeated 29x across cluster]\u001b[0m\n",
      "\u001b[2m\u001b[36m(train_de pid=3633324)\u001b[0m Epoch: 29|Train Loss: nan|Val Loss: nan\u001b[32m [repeated 8x across cluster]\u001b[0m\n",
      "\u001b[2m\u001b[36m(train_de pid=3623099)\u001b[0m Epoch: 78|Train Loss: -0.019750436147054035|Val Loss: 0.22293426962569357\u001b[32m [repeated 28x across cluster]\u001b[0m\n",
      "\u001b[2m\u001b[36m(train_de pid=3626583)\u001b[0m Epoch: 25|Train Loss: nan|Val Loss: nan\u001b[32m [repeated 6x across cluster]\u001b[0m\n",
      "\u001b[2m\u001b[36m(train_de pid=3629615)\u001b[0m Early stopping triggered at epoch 20\n",
      "\u001b[2m\u001b[36m(train_de pid=3626469)\u001b[0m Epoch: 23|Train Loss: -0.5761745944619179|Val Loss: -0.37216194996610286\u001b[32m [repeated 27x across cluster]\u001b[0m\n",
      "\u001b[2m\u001b[36m(train_de pid=3626583)\u001b[0m Epoch: 27|Train Loss: nan|Val Loss: nan\u001b[32m [repeated 8x across cluster]\u001b[0m\n",
      "\u001b[2m\u001b[36m(train_de pid=3627693)\u001b[0m Early stopping triggered at epoch 50\n",
      "\u001b[2m\u001b[36m(train_de pid=3627776)\u001b[0m Epoch: 38|Train Loss: 0.20269992096083506|Val Loss: 0.22822325547891004\u001b[32m [repeated 28x across cluster]\u001b[0m\n",
      "\u001b[2m\u001b[36m(train_de pid=3633993)\u001b[0m Epoch: 4|Train Loss: nan|Val Loss: nan\u001b[32m [repeated 9x across cluster]\u001b[0m\n",
      "\u001b[2m\u001b[36m(train_de pid=3627392)\u001b[0m Early stopping triggered at epoch 48\n",
      "\u001b[2m\u001b[36m(train_de pid=3626795)\u001b[0m Epoch: 18|Train Loss: 0.12769896780706144|Val Loss: 0.2969684912433178\u001b[32m [repeated 25x across cluster]\u001b[0m\n",
      "\u001b[2m\u001b[36m(train_de pid=3626583)\u001b[0m Epoch: 31|Train Loss: nan|Val Loss: nan\u001b[32m [repeated 7x across cluster]\u001b[0m\n",
      "\u001b[2m\u001b[36m(train_de pid=3628001)\u001b[0m Epoch: 43|Train Loss: 0.13162020407617092|Val Loss: 0.19989969759869078\u001b[32m [repeated 21x across cluster]\u001b[0m\n",
      "\u001b[2m\u001b[36m(train_de pid=3633324)\u001b[0m Epoch: 35|Train Loss: nan|Val Loss: nan\u001b[32m [repeated 13x across cluster]\u001b[0m\n",
      "\u001b[2m\u001b[36m(train_de pid=3626657)\u001b[0m Epoch: 40|Train Loss: 0.2430796559367861|Val Loss: 0.19524952170039928\u001b[32m [repeated 23x across cluster]\u001b[0m\n"
     ]
    },
    {
     "name": "stderr",
     "output_type": "stream",
     "text": [
      "NaN or Inf found in input tensor.\n"
     ]
    },
    {
     "name": "stdout",
     "output_type": "stream",
     "text": [
      "\u001b[2m\u001b[36m(train_de pid=3626583)\u001b[0m Early stopping triggered at epoch 35\n",
      "\u001b[2m\u001b[36m(train_de pid=3627392)\u001b[0m Epoch: 3|Train Loss: nan|Val Loss: nan\u001b[32m [repeated 11x across cluster]\u001b[0m\n"
     ]
    },
    {
     "name": "stderr",
     "output_type": "stream",
     "text": [
      "NaN or Inf found in input tensor.\n"
     ]
    },
    {
     "name": "stdout",
     "output_type": "stream",
     "text": [
      "\u001b[2m\u001b[36m(train_de pid=3632708)\u001b[0m Epoch: 13|Train Loss: -0.30208764721949893|Val Loss: 0.1448071601924797\u001b[32m [repeated 22x across cluster]\u001b[0m\n",
      "\u001b[2m\u001b[36m(train_de pid=3633324)\u001b[0m Early stopping triggered at epoch 37\n",
      "\u001b[2m\u001b[36m(train_de pid=3627392)\u001b[0m Epoch: 4|Train Loss: nan|Val Loss: nan\u001b[32m [repeated 4x across cluster]\u001b[0m\n",
      "\u001b[2m\u001b[36m(train_de pid=3630935)\u001b[0m Epoch: 10|Train Loss: 0.04707119572493765|Val Loss: 0.1918701728185018\u001b[32m [repeated 23x across cluster]\u001b[0m\n"
     ]
    },
    {
     "name": "stderr",
     "output_type": "stream",
     "text": [
      "NaN or Inf found in input tensor.\n"
     ]
    },
    {
     "name": "stdout",
     "output_type": "stream",
     "text": [
      "\u001b[2m\u001b[36m(train_de pid=3631818)\u001b[0m Early stopping triggered at epoch 35\n",
      "\u001b[2m\u001b[36m(train_de pid=3627392)\u001b[0m Epoch: 6|Train Loss: nan|Val Loss: nan\u001b[32m [repeated 7x across cluster]\u001b[0m\n",
      "\u001b[2m\u001b[36m(train_de pid=3628419)\u001b[0m Epoch: 30|Train Loss: 0.32478132016128963|Val Loss: 0.1996165070320583\u001b[32m [repeated 20x across cluster]\u001b[0m\n",
      "\u001b[2m\u001b[36m(train_de pid=3623099)\u001b[0m Early stopping triggered at epoch 91\u001b[32m [repeated 2x across cluster]\u001b[0m\n"
     ]
    },
    {
     "name": "stderr",
     "output_type": "stream",
     "text": [
      "NaN or Inf found in input tensor.\n"
     ]
    },
    {
     "name": "stdout",
     "output_type": "stream",
     "text": [
      "\u001b[2m\u001b[36m(train_de pid=3631729)\u001b[0m Epoch: 13|Train Loss: nan|Val Loss: nan\u001b[32m [repeated 4x across cluster]\u001b[0m\n",
      "\u001b[2m\u001b[36m(train_de pid=3626469)\u001b[0m Epoch: 27|Train Loss: -0.7630906105041504|Val Loss: -0.36436878042295573\u001b[32m [repeated 29x across cluster]\u001b[0m\n",
      "\u001b[2m\u001b[36m(train_de pid=3630145)\u001b[0m Early stopping triggered at epoch 15\n",
      "\u001b[2m\u001b[36m(train_de pid=3627392)\u001b[0m Epoch: 9|Train Loss: nan|Val Loss: nan\u001b[32m [repeated 7x across cluster]\u001b[0m\n",
      "\u001b[2m\u001b[36m(train_de pid=3626583)\u001b[0m Epoch: 5|Train Loss: 0.04394728069504102|Val Loss: 0.3121987352271875\u001b[32m [repeated 39x across cluster]\u001b[0m\n",
      "\u001b[2m\u001b[36m(train_de pid=3628001)\u001b[0m Early stopping triggered at epoch 56\n",
      "\u001b[2m\u001b[36m(train_de pid=3628001)\u001b[0m Epoch: 2|Train Loss: nan|Val Loss: nan\u001b[32m [repeated 8x across cluster]\u001b[0m\n",
      "\u001b[2m\u001b[36m(train_de pid=3630935)\u001b[0m Epoch: 15|Train Loss: 0.19985014696915945|Val Loss: 0.1930836419057515\u001b[32m [repeated 34x across cluster]\u001b[0m\n",
      "\u001b[2m\u001b[36m(train_de pid=3628001)\u001b[0m Epoch: 6|Train Loss: nan|Val Loss: nan\u001b[32m [repeated 10x across cluster]\u001b[0m\n",
      "\u001b[2m\u001b[36m(train_de pid=3631818)\u001b[0m Epoch: 23|Train Loss: 0.2815389186143875|Val Loss: 0.27027731030792385\u001b[32m [repeated 38x across cluster]\u001b[0m\n",
      "\u001b[2m\u001b[36m(train_de pid=3633993)\u001b[0m Epoch: 12|Train Loss: nan|Val Loss: nan\u001b[32m [repeated 10x across cluster]\u001b[0m\n",
      "\u001b[2m\u001b[36m(train_de pid=3623099)\u001b[0m Epoch: 6|Train Loss: 0.4411758581797282|Val Loss: 0.21127664692636228\u001b[32m [repeated 41x across cluster]\u001b[0m\n",
      "\u001b[2m\u001b[36m(train_de pid=3628001)\u001b[0m Epoch: 14|Train Loss: nan|Val Loss: nan\u001b[32m [repeated 8x across cluster]\u001b[0m\n",
      "\u001b[2m\u001b[36m(train_de pid=3628561)\u001b[0m Early stopping triggered at epoch 62\n",
      "\u001b[2m\u001b[36m(train_de pid=3630935)\u001b[0m Epoch: 19|Train Loss: 0.2975139617919922|Val Loss: 0.20235887582465592\u001b[32m [repeated 29x across cluster]\u001b[0m\n",
      "\u001b[2m\u001b[36m(train_de pid=3628001)\u001b[0m Epoch: 17|Train Loss: nan|Val Loss: nan\u001b[32m [repeated 7x across cluster]\u001b[0m\n",
      "\u001b[2m\u001b[36m(train_de pid=3631024)\u001b[0m Early stopping triggered at epoch 47\n",
      "\u001b[2m\u001b[36m(train_de pid=3631024)\u001b[0m Epoch: 1|Train Loss: 0.7025503665208817|Val Loss: 0.6951025688590912\u001b[32m [repeated 44x across cluster]\u001b[0m\n"
     ]
    },
    {
     "name": "stderr",
     "output_type": "stream",
     "text": [
      "NaN or Inf found in input tensor.\n"
     ]
    },
    {
     "name": "stdout",
     "output_type": "stream",
     "text": [
      "\u001b[2m\u001b[36m(train_de pid=3628001)\u001b[0m Early stopping triggered at epoch 21\n",
      "\u001b[2m\u001b[36m(train_de pid=3631729)\u001b[0m Epoch: 15|Train Loss: nan|Val Loss: nan\u001b[32m [repeated 8x across cluster]\u001b[0m\n",
      "\u001b[2m\u001b[36m(train_de pid=3626795)\u001b[0m Epoch: 39|Train Loss: 0.2423101386853627|Val Loss: 0.21136285426104304\u001b[32m [repeated 42x across cluster]\u001b[0m\n",
      "\u001b[2m\u001b[36m(train_de pid=3629615)\u001b[0m Early stopping triggered at epoch 24\u001b[32m [repeated 2x across cluster]\u001b[0m\n",
      "\u001b[2m\u001b[36m(train_de pid=3628001)\u001b[0m Epoch: 1|Train Loss: nan|Val Loss: nan\u001b[32m [repeated 7x across cluster]\u001b[0m\n",
      "\u001b[2m\u001b[36m(train_de pid=3631024)\u001b[0m Epoch: 11|Train Loss: 0.20582378283143044|Val Loss: 0.28928448299232584\u001b[32m [repeated 35x across cluster]\u001b[0m\n",
      "\u001b[2m\u001b[36m(train_de pid=3628561)\u001b[0m Early stopping triggered at epoch 24\n",
      "\u001b[2m\u001b[36m(train_de pid=3628001)\u001b[0m Epoch: 5|Train Loss: nan|Val Loss: nan\u001b[32m [repeated 10x across cluster]\u001b[0m\n",
      "\u001b[2m\u001b[36m(train_de pid=3630145)\u001b[0m Epoch: 50|Train Loss: 0.10979964137077332|Val Loss: 0.19210432180586984\u001b[32m [repeated 36x across cluster]\u001b[0m\n",
      "\u001b[2m\u001b[36m(train_de pid=3630145)\u001b[0m Early stopping triggered at epoch 51\n",
      "\u001b[2m\u001b[36m(train_de pid=3628001)\u001b[0m Epoch: 8|Train Loss: nan|Val Loss: nan\u001b[32m [repeated 5x across cluster]\u001b[0m\n",
      "\u001b[2m\u001b[36m(train_de pid=3628561)\u001b[0m Epoch: 6|Train Loss: -0.025315166264772416|Val Loss: 0.2008499175310135\u001b[32m [repeated 40x across cluster]\u001b[0m\n",
      "\u001b[2m\u001b[36m(train_de pid=3628001)\u001b[0m Epoch: 11|Train Loss: nan|Val Loss: nan\u001b[32m [repeated 10x across cluster]\u001b[0m\n",
      "\u001b[2m\u001b[36m(train_de pid=3626795)\u001b[0m Epoch: 45|Train Loss: 0.21548049790518625|Val Loss: 0.20051232609998784\u001b[32m [repeated 45x across cluster]\u001b[0m\n",
      "\u001b[2m\u001b[36m(train_de pid=3626657)\u001b[0m Early stopping triggered at epoch 50\n",
      "\u001b[2m\u001b[36m(train_de pid=3628001)\u001b[0m Epoch: 14|Train Loss: nan|Val Loss: nan\u001b[32m [repeated 7x across cluster]\u001b[0m\n",
      "\u001b[2m\u001b[36m(train_de pid=3631024)\u001b[0m Epoch: 33|Train Loss: 0.4567467048764229|Val Loss: 0.4754643173745045\u001b[32m [repeated 36x across cluster]\u001b[0m\n",
      "\u001b[2m\u001b[36m(train_de pid=3630145)\u001b[0m Epoch: 5|Train Loss: nan|Val Loss: nan\u001b[32m [repeated 12x across cluster]\u001b[0m\n",
      "\u001b[2m\u001b[36m(train_de pid=3628561)\u001b[0m Early stopping triggered at epoch 25\n",
      "\u001b[2m\u001b[36m(train_de pid=3626795)\u001b[0m Epoch: 48|Train Loss: 0.3216547497681209|Val Loss: 0.2320555673600771\u001b[32m [repeated 37x across cluster]\u001b[0m\n",
      "\u001b[2m\u001b[36m(train_de pid=3628001)\u001b[0m Epoch: 19|Train Loss: nan|Val Loss: nan\u001b[32m [repeated 6x across cluster]\u001b[0m\n",
      "\u001b[2m\u001b[36m(train_de pid=3631024)\u001b[0m Early stopping triggered at epoch 43\n",
      "\u001b[2m\u001b[36m(train_de pid=3631818)\u001b[0m Epoch: 78|Train Loss: 0.4008896265711103|Val Loss: 0.18650599142730043\u001b[32m [repeated 35x across cluster]\u001b[0m\n",
      "\u001b[2m\u001b[36m(train_de pid=3628001)\u001b[0m Epoch: 22|Train Loss: nan|Val Loss: nan\u001b[32m [repeated 9x across cluster]\u001b[0m\n",
      "\u001b[2m\u001b[36m(train_de pid=3627693)\u001b[0m Epoch: 73|Train Loss: 0.13147170934826136|Val Loss: 0.19008481445052894\u001b[32m [repeated 33x across cluster]\u001b[0m\n",
      "\u001b[2m\u001b[36m(train_de pid=3628001)\u001b[0m Epoch: 26|Train Loss: nan|Val Loss: nan\u001b[32m [repeated 11x across cluster]\u001b[0m\n",
      "\u001b[2m\u001b[36m(train_de pid=3631818)\u001b[0m Early stopping triggered at epoch 88\n"
     ]
    },
    {
     "name": "stderr",
     "output_type": "stream",
     "text": [
      "NaN or Inf found in input tensor.\n"
     ]
    },
    {
     "name": "stdout",
     "output_type": "stream",
     "text": [
      "\u001b[2m\u001b[36m(train_de pid=3628561)\u001b[0m Epoch: 13|Train Loss: 0.13252597767859697|Val Loss: 0.1862277501883606\u001b[32m [repeated 29x across cluster]\u001b[0m\n",
      "\u001b[2m\u001b[36m(train_de pid=3632074)\u001b[0m Epoch: 16|Train Loss: nan|Val Loss: nan\u001b[32m [repeated 4x across cluster]\u001b[0m\n",
      "\u001b[2m\u001b[36m(train_de pid=3628001)\u001b[0m Early stopping triggered at epoch 27\n",
      "\u001b[2m\u001b[36m(train_de pid=3626795)\u001b[0m Epoch: 54|Train Loss: -0.014697277120181493|Val Loss: 0.25610647906819956\u001b[32m [repeated 27x across cluster]\u001b[0m\n",
      "\u001b[2m\u001b[36m(train_de pid=3630145)\u001b[0m Epoch: 12|Train Loss: nan|Val Loss: nan\u001b[32m [repeated 9x across cluster]\u001b[0m\n",
      "\u001b[2m\u001b[36m(train_de pid=3626920)\u001b[0m Epoch: 33|Train Loss: -0.18898647172110422|Val Loss: 0.17544656546651397\u001b[32m [repeated 32x across cluster]\u001b[0m\n",
      "\u001b[2m\u001b[36m(train_de pid=3627392)\u001b[0m Epoch: 31|Train Loss: nan|Val Loss: nan\u001b[32m [repeated 9x across cluster]\u001b[0m\n",
      "\u001b[2m\u001b[36m(train_de pid=3631818)\u001b[0m Epoch: 10|Train Loss: 0.06068882097800573|Val Loss: 0.1935601335687515\u001b[32m [repeated 38x across cluster]\u001b[0m\n",
      "\u001b[2m\u001b[36m(train_de pid=3630145)\u001b[0m Epoch: 16|Train Loss: nan|Val Loss: nan\u001b[32m [repeated 7x across cluster]\u001b[0m\n",
      "\u001b[2m\u001b[36m(train_de pid=3628561)\u001b[0m Epoch: 31|Train Loss: 0.15178442932665348|Val Loss: 0.19742822460830212\u001b[32m [repeated 28x across cluster]\u001b[0m\n",
      "\u001b[2m\u001b[36m(train_de pid=3629615)\u001b[0m Early stopping triggered at epoch 35\n",
      "\u001b[2m\u001b[36m(train_de pid=3630145)\u001b[0m Epoch: 17|Train Loss: nan|Val Loss: nan\u001b[32m [repeated 4x across cluster]\u001b[0m\n",
      "\u001b[2m\u001b[36m(train_de pid=3628561)\u001b[0m Epoch: 37|Train Loss: 0.34390752390027046|Val Loss: 0.21388685307465494\u001b[32m [repeated 31x across cluster]\u001b[0m\n",
      "\u001b[2m\u001b[36m(train_de pid=3628561)\u001b[0m Early stopping triggered at epoch 39\n",
      "\u001b[2m\u001b[36m(train_de pid=3627048)\u001b[0m Epoch: 22|Train Loss: nan|Val Loss: nan\u001b[32m [repeated 8x across cluster]\u001b[0m\n",
      "\u001b[2m\u001b[36m(train_de pid=3627693)\u001b[0m Epoch: 98|Train Loss: 0.21881069242954254|Val Loss: 0.2044033168349415\u001b[32m [repeated 28x across cluster]\u001b[0m\n",
      "\u001b[2m\u001b[36m(train_de pid=3630810)\u001b[0m Early stopping triggered at epoch 17\n",
      "\u001b[2m\u001b[36m(train_de pid=3635151)\u001b[0m Epoch: 12|Train Loss: nan|Val Loss: nan\u001b[32m [repeated 8x across cluster]\u001b[0m\n",
      "\u001b[2m\u001b[36m(train_de pid=3629615)\u001b[0m Epoch: 12|Train Loss: -0.05597700923681259|Val Loss: 0.22718211731989868\u001b[32m [repeated 28x across cluster]\u001b[0m\n",
      "\u001b[2m\u001b[36m(train_de pid=3630145)\u001b[0m Epoch: 21|Train Loss: nan|Val Loss: nan\u001b[32m [repeated 6x across cluster]\u001b[0m\n",
      "\u001b[2m\u001b[36m(train_de pid=3623099)\u001b[0m Epoch: 28|Train Loss: 0.5755985975265503|Val Loss: 0.191961015550754\u001b[32m [repeated 33x across cluster]\u001b[0m\n",
      "\u001b[2m\u001b[36m(train_de pid=3627392)\u001b[0m Epoch: 39|Train Loss: nan|Val Loss: nan\u001b[32m [repeated 7x across cluster]\u001b[0m\n",
      "\u001b[2m\u001b[36m(train_de pid=3627693)\u001b[0m Early stopping triggered at epoch 108\n",
      "\u001b[2m\u001b[36m(train_de pid=3633324)\u001b[0m Epoch: 82|Train Loss: 0.11520732608106402|Val Loss: 0.1938767545493546\u001b[32m [repeated 30x across cluster]\u001b[0m\n",
      "\u001b[2m\u001b[36m(train_de pid=3627392)\u001b[0m Epoch: 40|Train Loss: nan|Val Loss: nan\u001b[32m [repeated 5x across cluster]\u001b[0m\n",
      "\u001b[2m\u001b[36m(train_de pid=3630810)\u001b[0m Epoch: 3|Train Loss: 0.5122737536827723|Val Loss: 0.18531288915624222\u001b[32m [repeated 36x across cluster]\u001b[0m\n",
      "\u001b[2m\u001b[36m(train_de pid=3627392)\u001b[0m Epoch: 41|Train Loss: nan|Val Loss: nan\u001b[32m [repeated 8x across cluster]\u001b[0m\n",
      "\u001b[2m\u001b[36m(train_de pid=3626469)\u001b[0m Epoch: 41|Train Loss: -0.4998716935515404|Val Loss: -0.3668101445026696\u001b[32m [repeated 32x across cluster]\u001b[0m\n",
      "\u001b[2m\u001b[36m(train_de pid=3633993)\u001b[0m Epoch: 30|Train Loss: nan|Val Loss: nan\u001b[32m [repeated 5x across cluster]\u001b[0m\n",
      "\u001b[2m\u001b[36m(train_de pid=3626583)\u001b[0m Epoch: 50|Train Loss: 0.32778036925527787|Val Loss: 0.19108462274074556\u001b[32m [repeated 34x across cluster]\u001b[0m\n",
      "\u001b[2m\u001b[36m(train_de pid=3627392)\u001b[0m Epoch: 44|Train Loss: nan|Val Loss: nan\u001b[32m [repeated 12x across cluster]\u001b[0m\n",
      "\u001b[2m\u001b[36m(train_de pid=3629615)\u001b[0m Epoch: 38|Train Loss: 0.6257606223225594|Val Loss: 0.5450658576737624\u001b[32m [repeated 33x across cluster]\u001b[0m\n",
      "\u001b[2m\u001b[36m(train_de pid=3631818)\u001b[0m Early stopping triggered at epoch 44\n",
      "\u001b[2m\u001b[36m(train_de pid=3633993)\u001b[0m Epoch: 32|Train Loss: nan|Val Loss: nan\u001b[32m [repeated 6x across cluster]\u001b[0m\n",
      "\u001b[2m\u001b[36m(train_de pid=3627693)\u001b[0m Epoch: 21|Train Loss: 0.3639038900534312|Val Loss: 0.1949210946002732\u001b[32m [repeated 26x across cluster]\u001b[0m\n"
     ]
    },
    {
     "name": "stderr",
     "output_type": "stream",
     "text": [
      "NaN or Inf found in input tensor.\n"
     ]
    },
    {
     "name": "stdout",
     "output_type": "stream",
     "text": [
      "\u001b[2m\u001b[36m(train_de pid=3627392)\u001b[0m Early stopping triggered at epoch 46\n",
      "\u001b[2m\u001b[36m(train_de pid=3628737)\u001b[0m Epoch: 25|Train Loss: nan|Val Loss: nan\u001b[32m [repeated 3x across cluster]\u001b[0m\n",
      "\u001b[2m\u001b[36m(train_de pid=3631818)\u001b[0m Epoch: 0|Train Loss: -0.08016034753786193|Val Loss: 0.24013201785170368\u001b[32m [repeated 28x across cluster]\u001b[0m\n"
     ]
    },
    {
     "name": "stderr",
     "output_type": "stream",
     "text": [
      "NaN or Inf found in input tensor.\n"
     ]
    },
    {
     "name": "stdout",
     "output_type": "stream",
     "text": [
      "\u001b[2m\u001b[36m(train_de pid=3632074)\u001b[0m Early stopping triggered at epoch 21\n",
      "\u001b[2m\u001b[36m(train_de pid=3629371)\u001b[0m Epoch: 19|Train Loss: nan|Val Loss: nan\u001b[32m [repeated 5x across cluster]\u001b[0m\n",
      "\u001b[2m\u001b[36m(train_de pid=3627392)\u001b[0m Epoch: 4|Train Loss: -0.00679914333990642|Val Loss: 0.20496316127745168\u001b[32m [repeated 28x across cluster]\u001b[0m\n"
     ]
    },
    {
     "name": "stderr",
     "output_type": "stream",
     "text": [
      "NaN or Inf found in input tensor.\n"
     ]
    },
    {
     "name": "stdout",
     "output_type": "stream",
     "text": [
      "\u001b[2m\u001b[36m(train_de pid=3629371)\u001b[0m Early stopping triggered at epoch 20\n",
      "\u001b[2m\u001b[36m(train_de pid=3630145)\u001b[0m Epoch: 34|Train Loss: nan|Val Loss: nan\u001b[32m [repeated 5x across cluster]\u001b[0m\n",
      "\u001b[2m\u001b[36m(train_de pid=3626583)\u001b[0m Epoch: 58|Train Loss: 0.34546414017677307|Val Loss: 0.19242840328150326\u001b[32m [repeated 40x across cluster]\u001b[0m\n",
      "\u001b[2m\u001b[36m(train_de pid=3629371)\u001b[0m Epoch: 1|Train Loss: nan|Val Loss: nan\u001b[32m [repeated 5x across cluster]\u001b[0m\n",
      "\u001b[2m\u001b[36m(train_de pid=3628001)\u001b[0m Early stopping triggered at epoch 22\n",
      "\u001b[2m\u001b[36m(train_de pid=3623099)\u001b[0m Epoch: 38|Train Loss: -0.09119035551945369|Val Loss: 0.19750884105252403\u001b[32m [repeated 30x across cluster]\u001b[0m\n",
      "\u001b[2m\u001b[36m(train_de pid=3627048)\u001b[0m Epoch: 24|Train Loss: nan|Val Loss: nan\u001b[32m [repeated 9x across cluster]\u001b[0m\n",
      "\u001b[2m\u001b[36m(train_de pid=3627183)\u001b[0m Epoch: 42|Train Loss: 0.5772029161453247|Val Loss: 0.19472616982956728\u001b[32m [repeated 52x across cluster]\u001b[0m\n",
      "\u001b[2m\u001b[36m(train_de pid=3629615)\u001b[0m Early stopping triggered at epoch 66\n",
      "\u001b[2m\u001b[36m(train_de pid=3629371)\u001b[0m Epoch: 5|Train Loss: nan|Val Loss: nan\u001b[32m [repeated 7x across cluster]\u001b[0m\n",
      "\u001b[2m\u001b[36m(train_de pid=3628561)\u001b[0m Epoch: 33|Train Loss: -0.11657602190971375|Val Loss: 0.20865767561447093\u001b[32m [repeated 32x across cluster]\u001b[0m\n",
      "\u001b[2m\u001b[36m(train_de pid=3629371)\u001b[0m Epoch: 8|Train Loss: nan|Val Loss: nan\u001b[32m [repeated 13x across cluster]\u001b[0m\n"
     ]
    },
    {
     "name": "stderr",
     "output_type": "stream",
     "text": [
      "NaN or Inf found in input tensor.\n"
     ]
    },
    {
     "name": "stdout",
     "output_type": "stream",
     "text": [
      "\u001b[2m\u001b[36m(train_de pid=3628001)\u001b[0m Early stopping triggered at epoch 7\n",
      "\u001b[2m\u001b[36m(train_de pid=3626920)\u001b[0m Epoch: 45|Train Loss: 0.638290252004351|Val Loss: 0.17463945476328338\u001b[32m [repeated 34x across cluster]\u001b[0m\n",
      "\u001b[2m\u001b[36m(train_de pid=3630145)\u001b[0m Epoch: 41|Train Loss: nan|Val Loss: nan\u001b[32m [repeated 3x across cluster]\u001b[0m\n",
      "\u001b[2m\u001b[36m(train_de pid=3632074)\u001b[0m Early stopping triggered at epoch 40\u001b[32m [repeated 3x across cluster]\u001b[0m\n",
      "\u001b[2m\u001b[36m(train_de pid=3628561)\u001b[0m Epoch: 36|Train Loss: 0.7894949316978455|Val Loss: 0.18638070024933448\u001b[32m [repeated 24x across cluster]\u001b[0m\n"
     ]
    },
    {
     "name": "stderr",
     "output_type": "stream",
     "text": [
      "NaN or Inf found in input tensor.\n"
     ]
    },
    {
     "name": "stdout",
     "output_type": "stream",
     "text": [
      "\u001b[2m\u001b[36m(train_de pid=3629371)\u001b[0m Epoch: 11|Train Loss: nan|Val Loss: nan\u001b[32m [repeated 4x across cluster]\u001b[0m\n",
      "\u001b[2m\u001b[36m(train_de pid=3631024)\u001b[0m Early stopping triggered at epoch 17\u001b[32m [repeated 2x across cluster]\u001b[0m\n",
      "\u001b[2m\u001b[36m(train_de pid=3627693)\u001b[0m Epoch: 55|Train Loss: 0.23570708433787027|Val Loss: 0.1951414048941671\u001b[32m [repeated 30x across cluster]\u001b[0m\n"
     ]
    },
    {
     "name": "stderr",
     "output_type": "stream",
     "text": [
      "NaN or Inf found in input tensor.\n"
     ]
    },
    {
     "name": "stdout",
     "output_type": "stream",
     "text": [
      "\u001b[2m\u001b[36m(train_de pid=3630145)\u001b[0m Epoch: 43|Train Loss: nan|Val Loss: nan\u001b[32m [repeated 6x across cluster]\u001b[0m\n",
      "\u001b[2m\u001b[36m(train_de pid=3633993)\u001b[0m Early stopping triggered at epoch 39\n",
      "\u001b[2m\u001b[36m(train_de pid=3628001)\u001b[0m Epoch: 7|Train Loss: 0.23232781248433249|Val Loss: 0.19822097477458772\u001b[32m [repeated 27x across cluster]\u001b[0m\n",
      "\u001b[2m\u001b[36m(train_de pid=3631392)\u001b[0m Early stopping triggered at epoch 55\n"
     ]
    },
    {
     "name": "stderr",
     "output_type": "stream",
     "text": [
      "NaN or Inf found in input tensor.\n",
      "NaN or Inf found in input tensor.\n"
     ]
    },
    {
     "name": "stdout",
     "output_type": "stream",
     "text": [
      "\u001b[2m\u001b[36m(train_de pid=3623099)\u001b[0m Epoch: 5|Train Loss: nan|Val Loss: nan\u001b[32m [repeated 7x across cluster]\u001b[0m\n",
      "\u001b[2m\u001b[36m(train_de pid=3630810)\u001b[0m Epoch: 9|Train Loss: 0.07205757685005665|Val Loss: 0.21112144621355192\u001b[32m [repeated 25x across cluster]\u001b[0m\n",
      "\u001b[2m\u001b[36m(train_de pid=3628737)\u001b[0m Early stopping triggered at epoch 30\u001b[32m [repeated 2x across cluster]\u001b[0m\n",
      "\u001b[2m\u001b[36m(train_de pid=3623099)\u001b[0m Epoch: 9|Train Loss: nan|Val Loss: nan\u001b[32m [repeated 9x across cluster]\u001b[0m\n",
      "\u001b[2m\u001b[36m(train_de pid=3632074)\u001b[0m Epoch: 15|Train Loss: 0.11275357220854078|Val Loss: 0.20070516264864377\u001b[32m [repeated 55x across cluster]\u001b[0m\n",
      "\u001b[2m\u001b[36m(train_de pid=3623099)\u001b[0m Epoch: 12|Train Loss: nan|Val Loss: nan\u001b[32m [repeated 9x across cluster]\u001b[0m\n",
      "\u001b[2m\u001b[36m(train_de pid=3626469)\u001b[0m Early stopping triggered at epoch 49\n",
      "\u001b[2m\u001b[36m(train_de pid=3632074)\u001b[0m Epoch: 20|Train Loss: 0.11564745860440391|Val Loss: 0.20222589949315245\u001b[32m [repeated 49x across cluster]\u001b[0m\n"
     ]
    },
    {
     "name": "stderr",
     "output_type": "stream",
     "text": [
      "NaN or Inf found in input tensor.\n"
     ]
    },
    {
     "name": "stdout",
     "output_type": "stream",
     "text": [
      "\u001b[2m\u001b[36m(train_de pid=3623099)\u001b[0m Epoch: 14|Train Loss: nan|Val Loss: nan\u001b[32m [repeated 3x across cluster]\u001b[0m\n",
      "\u001b[2m\u001b[36m(train_de pid=3630145)\u001b[0m Early stopping triggered at epoch 48\n",
      "\u001b[2m\u001b[36m(train_de pid=3630810)\u001b[0m Epoch: 20|Train Loss: 0.2925613343715668|Val Loss: 0.19952129459860382\u001b[32m [repeated 42x across cluster]\u001b[0m\n",
      "\u001b[2m\u001b[36m(train_de pid=3632074)\u001b[0m Early stopping triggered at epoch 28\n",
      "\u001b[2m\u001b[36m(train_de pid=3623099)\u001b[0m Epoch: 17|Train Loss: nan|Val Loss: nan\u001b[32m [repeated 6x across cluster]\u001b[0m\n",
      "\u001b[2m\u001b[36m(train_de pid=3627392)\u001b[0m Epoch: 44|Train Loss: 0.0014006671221328101|Val Loss: 0.1982721924959194\u001b[32m [repeated 55x across cluster]\u001b[0m\n",
      "\u001b[2m\u001b[36m(train_de pid=3628001)\u001b[0m Early stopping triggered at epoch 25\n",
      "\u001b[2m\u001b[36m(train_de pid=3623099)\u001b[0m Epoch: 19|Train Loss: nan|Val Loss: nan\u001b[32m [repeated 4x across cluster]\u001b[0m\n",
      "\u001b[2m\u001b[36m(train_de pid=3630810)\u001b[0m Early stopping triggered at epoch 26\n",
      "\u001b[2m\u001b[36m(train_de pid=3627693)\u001b[0m Epoch: 78|Train Loss: -0.04115741824110349|Val Loss: 0.1916274900237719\u001b[32m [repeated 39x across cluster]\u001b[0m\n",
      "\u001b[2m\u001b[36m(train_de pid=3623099)\u001b[0m Epoch: 21|Train Loss: nan|Val Loss: nan\u001b[32m [repeated 4x across cluster]\u001b[0m\n",
      "\u001b[2m\u001b[36m(train_de pid=3627392)\u001b[0m Early stopping triggered at epoch 48\n",
      "\u001b[2m\u001b[36m(train_de pid=3628737)\u001b[0m Epoch: 5|Train Loss: 0.5531316896279653|Val Loss: 0.23431352777650055\u001b[32m [repeated 34x across cluster]\u001b[0m\n",
      "\u001b[2m\u001b[36m(train_de pid=3623099)\u001b[0m Epoch: 25|Train Loss: nan|Val Loss: nan\u001b[32m [repeated 8x across cluster]\u001b[0m\n",
      "\u001b[2m\u001b[36m(train_de pid=3627392)\u001b[0m Epoch: 3|Train Loss: 0.07211774161883763|Val Loss: 0.19297857280554517\u001b[32m [repeated 57x across cluster]\u001b[0m\n",
      "\u001b[2m\u001b[36m(train_de pid=3627693)\u001b[0m Early stopping triggered at epoch 90\n",
      "\u001b[2m\u001b[36m(train_de pid=3629371)\u001b[0m Epoch: 31|Train Loss: nan|Val Loss: nan\u001b[32m [repeated 4x across cluster]\u001b[0m\n",
      "\u001b[2m\u001b[36m(train_de pid=3626469)\u001b[0m Epoch: 32|Train Loss: 0.25520629063248634|Val Loss: 0.18871880099498506\u001b[32m [repeated 43x across cluster]\u001b[0m\n",
      "\u001b[2m\u001b[36m(train_de pid=3635151)\u001b[0m Early stopping triggered at epoch 42\n",
      "\u001b[2m\u001b[36m(train_de pid=3623099)\u001b[0m Epoch: 30|Train Loss: nan|Val Loss: nan\u001b[32m [repeated 6x across cluster]\u001b[0m\n",
      "\u001b[2m\u001b[36m(train_de pid=3628419)\u001b[0m Epoch: 72|Train Loss: 0.022450932612021763|Val Loss: 0.1999633891507983\u001b[32m [repeated 33x across cluster]\u001b[0m\n",
      "\u001b[2m\u001b[36m(train_de pid=3630935)\u001b[0m Early stopping triggered at epoch 72\n",
      "\u001b[2m\u001b[36m(train_de pid=3623099)\u001b[0m Epoch: 33|Train Loss: nan|Val Loss: nan\u001b[32m [repeated 6x across cluster]\u001b[0m\n",
      "\u001b[2m\u001b[36m(train_de pid=3627323)\u001b[0m Epoch: 73|Train Loss: 0.2205621674656868|Val Loss: 0.22704338156152518\u001b[32m [repeated 27x across cluster]\u001b[0m\n",
      "\u001b[2m\u001b[36m(train_de pid=3630935)\u001b[0m Epoch: 0|Train Loss: nan|Val Loss: nan\u001b[32m [repeated 8x across cluster]\u001b[0m\n",
      "\u001b[2m\u001b[36m(train_de pid=3628561)\u001b[0m Epoch: 62|Train Loss: 0.17110242545604706|Val Loss: 0.2110745522686664\u001b[32m [repeated 42x across cluster]\u001b[0m\n"
     ]
    },
    {
     "name": "stderr",
     "output_type": "stream",
     "text": [
      "NaN or Inf found in input tensor.\n"
     ]
    },
    {
     "name": "stdout",
     "output_type": "stream",
     "text": [
      "\u001b[2m\u001b[36m(train_de pid=3629371)\u001b[0m Early stopping triggered at epoch 40\n",
      "\u001b[2m\u001b[36m(train_de pid=3627693)\u001b[0m Epoch: 3|Train Loss: nan|Val Loss: nan\u001b[32m [repeated 7x across cluster]\u001b[0m\n",
      "\u001b[2m\u001b[36m(train_de pid=3635151)\u001b[0m Epoch: 1|Train Loss: 0.044485886581242085|Val Loss: 0.24205472801302677\u001b[32m [repeated 36x across cluster]\u001b[0m\n",
      "\u001b[2m\u001b[36m(train_de pid=3626469)\u001b[0m Early stopping triggered at epoch 52\n",
      "\u001b[2m\u001b[36m(train_de pid=3630935)\u001b[0m Epoch: 2|Train Loss: nan|Val Loss: nan\u001b[32m [repeated 3x across cluster]\u001b[0m\n",
      "\u001b[2m\u001b[36m(train_de pid=3630145)\u001b[0m Epoch: 47|Train Loss: -0.010564252837664552|Val Loss: 0.19021664429751653\u001b[32m [repeated 28x across cluster]\u001b[0m\n",
      "\u001b[2m\u001b[36m(train_de pid=3631729)\u001b[0m Epoch: 28|Train Loss: nan|Val Loss: nan\u001b[32m [repeated 8x across cluster]\u001b[0m\n",
      "\u001b[2m\u001b[36m(train_de pid=3627323)\u001b[0m Epoch: 76|Train Loss: 0.5266879796981812|Val Loss: 0.23570646035484968\u001b[32m [repeated 29x across cluster]\u001b[0m\n"
     ]
    },
    {
     "name": "stderr",
     "output_type": "stream",
     "text": [
      "NaN or Inf found in input tensor.\n"
     ]
    },
    {
     "name": "stdout",
     "output_type": "stream",
     "text": [
      "\u001b[2m\u001b[36m(train_de pid=3623099)\u001b[0m Early stopping triggered at epoch 44\n",
      "\u001b[2m\u001b[36m(train_de pid=3626469)\u001b[0m Epoch: 1|Train Loss: nan|Val Loss: nan\u001b[32m [repeated 4x across cluster]\u001b[0m\n",
      "\u001b[2m\u001b[36m(train_de pid=3630145)\u001b[0m Epoch: 57|Train Loss: 0.10166466567251417|Val Loss: 0.1989424914225108\u001b[32m [repeated 29x across cluster]\u001b[0m\n",
      "\u001b[2m\u001b[36m(train_de pid=3633993)\u001b[0m Early stopping triggered at epoch 21\n",
      "\u001b[2m\u001b[36m(train_de pid=3628419)\u001b[0m Early stopping triggered at epoch 77\n",
      "\u001b[2m\u001b[36m(train_de pid=3627693)\u001b[0m Epoch: 7|Train Loss: nan|Val Loss: nan\u001b[32m [repeated 2x across cluster]\u001b[0m\n",
      "\u001b[2m\u001b[36m(train_de pid=3630145)\u001b[0m Epoch: 61|Train Loss: 0.05292179435491562|Val Loss: 0.1990971670500816\u001b[32m [repeated 33x across cluster]\u001b[0m\n",
      "\u001b[2m\u001b[36m(train_de pid=3627693)\u001b[0m Epoch: 8|Train Loss: nan|Val Loss: nan\u001b[32m [repeated 3x across cluster]\u001b[0m\n",
      "\u001b[2m\u001b[36m(train_de pid=3632708)\u001b[0m Epoch: 35|Train Loss: -0.24895625313123068|Val Loss: 0.1140158462524414\u001b[32m [repeated 44x across cluster]\u001b[0m\n",
      "\u001b[2m\u001b[36m(train_de pid=3637147)\u001b[0m Epoch: 22|Train Loss: nan|Val Loss: nan\u001b[32m [repeated 6x across cluster]\u001b[0m\n",
      "\u001b[2m\u001b[36m(train_de pid=3628419)\u001b[0m Early stopping triggered at epoch 10\n",
      "\u001b[2m\u001b[36m(train_de pid=3629371)\u001b[0m Epoch: 9|Train Loss: 0.3238924890756607|Val Loss: 0.20655130315202797\u001b[32m [repeated 51x across cluster]\u001b[0m\n",
      "\u001b[2m\u001b[36m(train_de pid=3627693)\u001b[0m Epoch: 10|Train Loss: nan|Val Loss: nan\u001b[32m [repeated 2x across cluster]\u001b[0m\n",
      "\u001b[2m\u001b[36m(train_de pid=3633993)\u001b[0m Epoch: 23|Train Loss: -0.05439940374344587|Val Loss: 0.1998563198139891\u001b[32m [repeated 38x across cluster]\u001b[0m\n",
      "\u001b[2m\u001b[36m(train_de pid=3630935)\u001b[0m Epoch: 9|Train Loss: nan|Val Loss: nan\u001b[32m [repeated 4x across cluster]\u001b[0m\n",
      "\u001b[2m\u001b[36m(train_de pid=3630145)\u001b[0m Epoch: 85|Train Loss: 0.10392001105679406|Val Loss: 0.1942164088702864\u001b[32m [repeated 46x across cluster]\u001b[0m\n",
      "\u001b[2m\u001b[36m(train_de pid=3627693)\u001b[0m Epoch: 12|Train Loss: nan|Val Loss: nan\u001b[32m [repeated 3x across cluster]\u001b[0m\n",
      "\u001b[2m\u001b[36m(train_de pid=3631024)\u001b[0m Early stopping triggered at epoch 52\n",
      "\u001b[2m\u001b[36m(train_de pid=3628561)\u001b[0m Epoch: 83|Train Loss: 0.0022674396634101866|Val Loss: 0.18767763181206057\u001b[32m [repeated 39x across cluster]\u001b[0m\n",
      "\u001b[2m\u001b[36m(train_de pid=3627693)\u001b[0m Epoch: 13|Train Loss: nan|Val Loss: nan\u001b[32m [repeated 5x across cluster]\u001b[0m\n",
      "\u001b[2m\u001b[36m(train_de pid=3627183)\u001b[0m Epoch: 53|Train Loss: -0.08615711331367493|Val Loss: 0.20638854066530862\u001b[32m [repeated 35x across cluster]\u001b[0m\n",
      "\u001b[2m\u001b[36m(train_de pid=3632708)\u001b[0m \n",
      "\u001b[2m\u001b[36m(train_de pid=3630935)\u001b[0m Epoch: 11|Train Loss: nan|Val Loss: nan\u001b[32m [repeated 5x across cluster]\u001b[0m\n",
      "\u001b[2m\u001b[36m(train_de pid=3626583)\u001b[0m Epoch: 106|Train Loss: 0.13153409461180368|Val Loss: 0.193640798545546\u001b[32m [repeated 41x across cluster]\u001b[0m\n",
      "\u001b[2m\u001b[36m(train_de pid=3626469)\u001b[0m Epoch: 9|Train Loss: nan|Val Loss: nan\u001b[32m [repeated 3x across cluster]\u001b[0m\n",
      "\u001b[2m\u001b[36m(train_de pid=3627183)\u001b[0m Epoch: 54|Train Loss: 1.2189891338348389|Val Loss: 0.25404489077627657\u001b[32m [repeated 39x across cluster]\u001b[0m\n",
      "\u001b[2m\u001b[36m(train_de pid=3629615)\u001b[0m Early stopping triggered at epoch 38\n",
      "\u001b[2m\u001b[36m(train_de pid=3631024)\u001b[0m Epoch: 1|Train Loss: nan|Val Loss: nan\u001b[32m [repeated 5x across cluster]\u001b[0m\n",
      "\u001b[2m\u001b[36m(train_de pid=3628561)\u001b[0m Epoch: 92|Train Loss: 0.3682867348194122|Val Loss: 0.20230155468315764\u001b[32m [repeated 35x across cluster]\u001b[0m\n",
      "\u001b[2m\u001b[36m(train_de pid=3630145)\u001b[0m Early stopping triggered at epoch 114\n",
      "\u001b[2m\u001b[36m(train_de pid=3626469)\u001b[0m Epoch: 11|Train Loss: nan|Val Loss: nan\u001b[32m [repeated 4x across cluster]\u001b[0m\n",
      "\u001b[2m\u001b[36m(train_de pid=3627776)\u001b[0m Epoch: 56|Train Loss: -0.37907159328460693|Val Loss: 0.2426823401451111\u001b[32m [repeated 35x across cluster]\u001b[0m\n"
     ]
    },
    {
     "name": "stderr",
     "output_type": "stream",
     "text": [
      "NaN or Inf found in input tensor.\n"
     ]
    },
    {
     "name": "stdout",
     "output_type": "stream",
     "text": [
      "\u001b[2m\u001b[36m(train_de pid=3627693)\u001b[0m Early stopping triggered at epoch 18\n",
      "\u001b[2m\u001b[36m(train_de pid=3631024)\u001b[0m Epoch: 2|Train Loss: nan|Val Loss: nan\u001b[32m [repeated 2x across cluster]\u001b[0m\n",
      "\u001b[2m\u001b[36m(train_de pid=3623099)\u001b[0m Epoch: 19|Train Loss: 0.2769838248689969|Val Loss: 0.20217752573390801\u001b[32m [repeated 33x across cluster]\u001b[0m\n",
      "\u001b[2m\u001b[36m(train_de pid=3626657)\u001b[0m Early stopping triggered at epoch 37\n",
      "\u001b[2m\u001b[36m(train_de pid=3627048)\u001b[0m Epoch: 29|Train Loss: nan|Val Loss: nan\u001b[32m [repeated 4x across cluster]\u001b[0m\n",
      "\u001b[2m\u001b[36m(train_de pid=3626657)\u001b[0m Epoch: 7|Train Loss: 0.08849061404665311|Val Loss: 0.1800129666733436\u001b[32m [repeated 50x across cluster]\u001b[0m\n",
      "\u001b[2m\u001b[36m(train_de pid=3626657)\u001b[0m Early stopping triggered at epoch 11\n",
      "\u001b[2m\u001b[36m(train_de pid=3631729)\u001b[0m Epoch: 32|Train Loss: nan|Val Loss: nan\u001b[32m [repeated 5x across cluster]\u001b[0m\n",
      "\u001b[2m\u001b[36m(train_de pid=3629371)\u001b[0m Epoch: 27|Train Loss: 0.009743249043822289|Val Loss: 0.23358696780285673\u001b[32m [repeated 40x across cluster]\u001b[0m\n",
      "\u001b[2m\u001b[36m(train_de pid=3633993)\u001b[0m Early stopping triggered at epoch 82\n",
      "\u001b[2m\u001b[36m(train_de pid=3631024)\u001b[0m Epoch: 4|Train Loss: nan|Val Loss: nan\u001b[32m [repeated 3x across cluster]\u001b[0m\n",
      "\u001b[2m\u001b[36m(train_de pid=3628561)\u001b[0m Epoch: 103|Train Loss: -0.26635525822639466|Val Loss: 0.22706032724338857\u001b[32m [repeated 37x across cluster]\u001b[0m\n",
      "\u001b[2m\u001b[36m(train_de pid=3627392)\u001b[0m Early stopping triggered at epoch 85\n",
      "\u001b[2m\u001b[36m(train_de pid=3628419)\u001b[0m Epoch: 5|Train Loss: nan|Val Loss: nan\u001b[32m [repeated 4x across cluster]\u001b[0m\n",
      "\u001b[2m\u001b[36m(train_de pid=3629615)\u001b[0m Epoch: 34|Train Loss: 0.24271558597683907|Val Loss: 0.207895103332703\u001b[32m [repeated 34x across cluster]\u001b[0m\n",
      "\u001b[2m\u001b[36m(train_de pid=3627392)\u001b[0m Epoch: 8|Train Loss: nan|Val Loss: nan\u001b[32m [repeated 9x across cluster]\u001b[0m\n",
      "\u001b[2m\u001b[36m(train_de pid=3633324)\u001b[0m Early stopping triggered at epoch 38\n",
      "\u001b[2m\u001b[36m(train_de pid=3626657)\u001b[0m Epoch: 3|Train Loss: -0.009519994113361463|Val Loss: 0.19446816411073087\u001b[32m [repeated 38x across cluster]\u001b[0m\n",
      "\u001b[2m\u001b[36m(train_de pid=3631729)\u001b[0m Epoch: 33|Train Loss: nan|Val Loss: nan\u001b[32m [repeated 7x across cluster]\u001b[0m\n",
      "\u001b[2m\u001b[36m(train_de pid=3627392)\u001b[0m Early stopping triggered at epoch 13\u001b[32m [repeated 2x across cluster]\u001b[0m\n",
      "\u001b[2m\u001b[36m(train_de pid=3631392)\u001b[0m Epoch: 83|Train Loss: 0.3389137327671051|Val Loss: 0.1970729218063164\u001b[32m [repeated 23x across cluster]\u001b[0m\n",
      "\u001b[2m\u001b[36m(train_de pid=3626469)\u001b[0m Epoch: 18|Train Loss: nan|Val Loss: nan\u001b[32m [repeated 7x across cluster]\u001b[0m\n",
      "\u001b[2m\u001b[36m(train_de pid=3630810)\u001b[0m Epoch: 39|Train Loss: 0.05569955582420031|Val Loss: 0.1917558338231685\u001b[32m [repeated 34x across cluster]\u001b[0m\n",
      "\u001b[2m\u001b[36m(train_de pid=3628737)\u001b[0m Early stopping triggered at epoch 27\n",
      "\u001b[2m\u001b[36m(train_de pid=3627392)\u001b[0m Epoch: 3|Train Loss: nan|Val Loss: nan\u001b[32m [repeated 2x across cluster]\u001b[0m\n",
      "\u001b[2m\u001b[36m(train_de pid=3626519)\u001b[0m Epoch: 53|Train Loss: 0.45484771206974983|Val Loss: 0.20058901672251522\u001b[32m [repeated 13x across cluster]\u001b[0m\n",
      "\u001b[2m\u001b[36m(train_de pid=3628561)\u001b[0m Early stopping triggered at epoch 111\u001b[32m [repeated 2x across cluster]\u001b[0m\n"
     ]
    },
    {
     "name": "stderr",
     "output_type": "stream",
     "text": [
      "NaN or Inf found in input tensor.\n"
     ]
    },
    {
     "name": "stdout",
     "output_type": "stream",
     "text": [
      "\u001b[2m\u001b[36m(train_de pid=3631024)\u001b[0m Epoch: 7|Train Loss: nan|Val Loss: nan\u001b[32m [repeated 6x across cluster]\u001b[0m\n"
     ]
    },
    {
     "name": "stderr",
     "output_type": "stream",
     "text": [
      "NaN or Inf found in input tensor.\n"
     ]
    },
    {
     "name": "stdout",
     "output_type": "stream",
     "text": [
      "\u001b[2m\u001b[36m(train_de pid=3629615)\u001b[0m Epoch: 5|Train Loss: 0.046368497610092166|Val Loss: 0.213992708414793\u001b[32m [repeated 27x across cluster]\u001b[0m\n",
      "\u001b[2m\u001b[36m(train_de pid=3627048)\u001b[0m Early stopping triggered at epoch 30\u001b[32m [repeated 2x across cluster]\u001b[0m\n",
      "\u001b[2m\u001b[36m(train_de pid=3627392)\u001b[0m Epoch: 8|Train Loss: nan|Val Loss: nan\u001b[32m [repeated 4x across cluster]\u001b[0m\n",
      "\u001b[2m\u001b[36m(train_de pid=3626583)\u001b[0m Epoch: 126|Train Loss: 0.1407364226049847|Val Loss: 0.19371770296659735\u001b[32m [repeated 39x across cluster]\u001b[0m\n",
      "\u001b[2m\u001b[36m(train_de pid=3627392)\u001b[0m Epoch: 11|Train Loss: nan|Val Loss: nan\u001b[32m [repeated 4x across cluster]\u001b[0m\n",
      "\u001b[2m\u001b[36m(train_de pid=3633993)\u001b[0m Early stopping triggered at epoch 40\n",
      "\u001b[2m\u001b[36m(train_de pid=3627048)\u001b[0m Epoch: 3|Train Loss: -0.042043402791023254|Val Loss: 0.19153516473514692\u001b[32m [repeated 37x across cluster]\u001b[0m\n",
      "\u001b[2m\u001b[36m(train_de pid=3627392)\u001b[0m Epoch: 13|Train Loss: nan|Val Loss: nan\u001b[32m [repeated 5x across cluster]\u001b[0m\n",
      "\u001b[2m\u001b[36m(train_de pid=3629371)\u001b[0m Early stopping triggered at epoch 40\n",
      "\u001b[2m\u001b[36m(train_de pid=3628561)\u001b[0m Epoch: 17|Train Loss: 0.4173181851704915|Val Loss: 0.18973807555933794\u001b[32m [repeated 25x across cluster]\u001b[0m\n",
      "\u001b[2m\u001b[36m(train_de pid=3637147)\u001b[0m Epoch: 26|Train Loss: nan|Val Loss: nan\u001b[32m [repeated 5x across cluster]\u001b[0m\n",
      "\u001b[2m\u001b[36m(train_de pid=3627776)\u001b[0m Early stopping triggered at epoch 59\n",
      "\u001b[2m\u001b[36m(train_de pid=3628737)\u001b[0m Epoch: 24|Train Loss: 0.28535205622514087|Val Loss: 0.1921591477637941\u001b[32m [repeated 25x across cluster]\u001b[0m\n",
      "\u001b[2m\u001b[36m(train_de pid=3627392)\u001b[0m Epoch: 17|Train Loss: nan|Val Loss: nan\u001b[32m [repeated 3x across cluster]\u001b[0m\n",
      "\u001b[2m\u001b[36m(train_de pid=3629371)\u001b[0m Early stopping triggered at epoch 3\n",
      "\u001b[2m\u001b[36m(train_de pid=3628737)\u001b[0m Epoch: 28|Train Loss: -0.08132481575012207|Val Loss: 0.26044156238662475\u001b[32m [repeated 38x across cluster]\u001b[0m\n",
      "\u001b[2m\u001b[36m(train_de pid=3630145)\u001b[0m Early stopping triggered at epoch 36\n",
      "\u001b[2m\u001b[36m(train_de pid=3626469)\u001b[0m Epoch: 24|Train Loss: nan|Val Loss: nan\u001b[32m [repeated 6x across cluster]\u001b[0m\n",
      "\u001b[2m\u001b[36m(train_de pid=3627776)\u001b[0m Epoch: 4|Train Loss: -0.08932785068949063|Val Loss: 0.19454292403922105\u001b[32m [repeated 35x across cluster]\u001b[0m\n",
      "\u001b[2m\u001b[36m(train_de pid=3627392)\u001b[0m Epoch: 22|Train Loss: nan|Val Loss: nan\u001b[32m [repeated 7x across cluster]\u001b[0m\n",
      "\u001b[2m\u001b[36m(train_de pid=3628561)\u001b[0m Epoch: 33|Train Loss: 0.3735351463158925|Val Loss: 0.1996912995401101\u001b[32m [repeated 40x across cluster]\u001b[0m\n",
      "\u001b[2m\u001b[36m(train_de pid=3631024)\u001b[0m Epoch: 11|Train Loss: nan|Val Loss: nan\u001b[32m [repeated 6x across cluster]\u001b[0m\n",
      "\u001b[2m\u001b[36m(train_de pid=3626795)\u001b[0m Early stopping triggered at epoch 149\n",
      "\u001b[2m\u001b[36m(train_de pid=3628561)\u001b[0m Epoch: 37|Train Loss: 0.4945489466190338|Val Loss: 0.1956841797591784\u001b[32m [repeated 38x across cluster]\u001b[0m\n",
      "\u001b[2m\u001b[36m(train_de pid=3630935)\u001b[0m Epoch: 27|Train Loss: nan|Val Loss: nan\u001b[32m [repeated 7x across cluster]\u001b[0m\n",
      "\u001b[2m\u001b[36m(train_de pid=3628561)\u001b[0m Epoch: 43|Train Loss: -0.11912168686588605|Val Loss: 0.20453411374145594\u001b[32m [repeated 38x across cluster]\u001b[0m\n",
      "\u001b[2m\u001b[36m(train_de pid=3626519)\u001b[0m Early stopping triggered at epoch 57\n",
      "\u001b[2m\u001b[36m(train_de pid=3630145)\u001b[0m Epoch: 4|Train Loss: nan|Val Loss: nan\u001b[32m [repeated 7x across cluster]\u001b[0m\n",
      "\u001b[2m\u001b[36m(train_de pid=3628737)\u001b[0m Epoch: 51|Train Loss: 0.076954477156202|Val Loss: 0.1908826669395873\u001b[32m [repeated 28x across cluster]\u001b[0m\n"
     ]
    },
    {
     "name": "stderr",
     "output_type": "stream",
     "text": [
      "NaN or Inf found in input tensor.\n"
     ]
    },
    {
     "name": "stdout",
     "output_type": "stream",
     "text": [
      "\u001b[2m\u001b[36m(train_de pid=3626469)\u001b[0m Early stopping triggered at epoch 29\n",
      "\u001b[2m\u001b[36m(train_de pid=3630145)\u001b[0m Epoch: 5|Train Loss: nan|Val Loss: nan\u001b[32m [repeated 5x across cluster]\u001b[0m\n",
      "\u001b[2m\u001b[36m(train_de pid=3627776)\u001b[0m Epoch: 15|Train Loss: 0.18200348069270453|Val Loss: 0.19760899278132812\u001b[32m [repeated 33x across cluster]\u001b[0m\n",
      "\u001b[2m\u001b[36m(train_de pid=3632708)\u001b[0m Early stopping triggered at epoch 46\n",
      "\u001b[2m\u001b[36m(train_de pid=3631729)\u001b[0m Epoch: 37|Train Loss: nan|Val Loss: nan\u001b[32m [repeated 8x across cluster]\u001b[0m\n",
      "\u001b[2m\u001b[36m(train_de pid=3631392)\u001b[0m Epoch: 30|Train Loss: 0.0444984070956707|Val Loss: 0.20975444968789816\u001b[32m [repeated 37x across cluster]\u001b[0m\n",
      "\u001b[2m\u001b[36m(train_de pid=3631392)\u001b[0m Early stopping triggered at epoch 31\u001b[32m [repeated 2x across cluster]\u001b[0m\n"
     ]
    },
    {
     "name": "stderr",
     "output_type": "stream",
     "text": [
      "NaN or Inf found in input tensor.\n"
     ]
    },
    {
     "name": "stdout",
     "output_type": "stream",
     "text": [
      "\u001b[2m\u001b[36m(train_de pid=3626583)\u001b[0m Epoch: 0|Train Loss: nan|Val Loss: nan\u001b[32m [repeated 5x across cluster]\u001b[0m\n",
      "\u001b[2m\u001b[36m(train_de pid=3632708)\u001b[0m Epoch: 0|Train Loss: 0.2946627239386241|Val Loss: 0.2013844241760671\u001b[32m [repeated 18x across cluster]\u001b[0m\n",
      "\u001b[2m\u001b[36m(train_de pid=3628561)\u001b[0m Early stopping triggered at epoch 59\u001b[32m [repeated 2x across cluster]\u001b[0m\n",
      "\u001b[2m\u001b[36m(train_de pid=3626469)\u001b[0m Epoch: 0|Train Loss: nan|Val Loss: nan\u001b[32m [repeated 8x across cluster]\u001b[0m\n",
      "\u001b[2m\u001b[36m(train_de pid=3631818)\u001b[0m Epoch: 28|Train Loss: 0.10880527976486418|Val Loss: 0.18752805076125595\u001b[32m [repeated 26x across cluster]\u001b[0m\n",
      "\u001b[2m\u001b[36m(train_de pid=3626583)\u001b[0m Epoch: 6|Train Loss: nan|Val Loss: nan\u001b[32m [repeated 8x across cluster]\u001b[0m\n",
      "\u001b[2m\u001b[36m(train_de pid=3628737)\u001b[0m Epoch: 74|Train Loss: 0.1507466584444046|Val Loss: 0.18910165368155998\u001b[32m [repeated 38x across cluster]\u001b[0m\n",
      "\u001b[2m\u001b[36m(train_de pid=3626583)\u001b[0m Epoch: 9|Train Loss: nan|Val Loss: nan\u001b[32m [repeated 12x across cluster]\u001b[0m\n",
      "\u001b[2m\u001b[36m(train_de pid=3628419)\u001b[0m Epoch: 23|Train Loss: 0.17441656972680772|Val Loss: 0.1995018444689257\u001b[32m [repeated 33x across cluster]\u001b[0m\n",
      "\u001b[2m\u001b[36m(train_de pid=3627392)\u001b[0m Epoch: 43|Train Loss: nan|Val Loss: nan\u001b[32m [repeated 7x across cluster]\u001b[0m\n",
      "\u001b[2m\u001b[36m(train_de pid=3623099)\u001b[0m Epoch: 52|Train Loss: 0.3387480179468791|Val Loss: 0.19382728345692157\u001b[32m [repeated 35x across cluster]\u001b[0m\n",
      "\u001b[2m\u001b[36m(train_de pid=3628737)\u001b[0m Early stopping triggered at epoch 87\n"
     ]
    },
    {
     "name": "stderr",
     "output_type": "stream",
     "text": [
      "NaN or Inf found in input tensor.\n"
     ]
    },
    {
     "name": "stdout",
     "output_type": "stream",
     "text": [
      "\u001b[2m\u001b[36m(train_de pid=3626583)\u001b[0m Epoch: 14|Train Loss: nan|Val Loss: nan\u001b[32m [repeated 6x across cluster]\u001b[0m\n",
      "\u001b[2m\u001b[36m(train_de pid=3627392)\u001b[0m Epoch: 0|Train Loss: 1.6036393865942955|Val Loss: 0.9257546737790108\u001b[32m [repeated 28x across cluster]\u001b[0m\n",
      "\u001b[2m\u001b[36m(train_de pid=3626519)\u001b[0m Early stopping triggered at epoch 10\u001b[32m [repeated 2x across cluster]\u001b[0m\n",
      "\u001b[2m\u001b[36m(train_de pid=3637147)\u001b[0m Epoch: 29|Train Loss: nan|Val Loss: nan\u001b[32m [repeated 6x across cluster]\u001b[0m\n",
      "\u001b[2m\u001b[36m(train_de pid=3627048)\u001b[0m Epoch: 41|Train Loss: 0.19323043690787423|Val Loss: 0.2044844916118087\u001b[32m [repeated 30x across cluster]\u001b[0m\n",
      "\u001b[2m\u001b[36m(train_de pid=3628419)\u001b[0m Early stopping triggered at epoch 29\n",
      "\u001b[2m\u001b[36m(train_de pid=3626583)\u001b[0m Epoch: 19|Train Loss: nan|Val Loss: nan\u001b[32m [repeated 6x across cluster]\u001b[0m\n",
      "\u001b[2m\u001b[36m(train_de pid=3627392)\u001b[0m Epoch: 9|Train Loss: 2.9537720512598753|Val Loss: 2.7274807824530094\u001b[32m [repeated 34x across cluster]\u001b[0m\n",
      "\u001b[2m\u001b[36m(train_de pid=3627392)\u001b[0m Epoch: 15|Train Loss: nan|Val Loss: nan\u001b[32m [repeated 12x across cluster]\u001b[0m\n",
      "\u001b[2m\u001b[36m(train_de pid=3628737)\u001b[0m Epoch: 10|Train Loss: 0.7836244901021322|Val Loss: 0.5663113101887015\u001b[32m [repeated 45x across cluster]\u001b[0m\n",
      "\u001b[2m\u001b[36m(train_de pid=3626583)\u001b[0m Early stopping triggered at epoch 23\n"
     ]
    },
    {
     "name": "stderr",
     "output_type": "stream",
     "text": [
      "NaN or Inf found in input tensor.\n"
     ]
    },
    {
     "name": "stdout",
     "output_type": "stream",
     "text": [
      "\u001b[2m\u001b[36m(train_de pid=3631024)\u001b[0m Epoch: 19|Train Loss: nan|Val Loss: nan\u001b[32m [repeated 9x across cluster]\u001b[0m\n",
      "\u001b[2m\u001b[36m(train_de pid=3630810)\u001b[0m Epoch: 68|Train Loss: 0.15014129877090454|Val Loss: 0.19491706050579077\u001b[32m [repeated 36x across cluster]\u001b[0m\n",
      "\u001b[2m\u001b[36m(train_de pid=3627392)\u001b[0m Epoch: 26|Train Loss: nan|Val Loss: nan\u001b[32m [repeated 9x across cluster]\u001b[0m\n",
      "\u001b[2m\u001b[36m(train_de pid=3628419)\u001b[0m Epoch: 27|Train Loss: 0.3311535343527794|Val Loss: 0.2040258761650572\u001b[32m [repeated 39x across cluster]\u001b[0m\n",
      "\u001b[2m\u001b[36m(train_de pid=3627392)\u001b[0m Epoch: 30|Train Loss: nan|Val Loss: nan\u001b[32m [repeated 10x across cluster]\u001b[0m\n",
      "\u001b[2m\u001b[36m(train_de pid=3626795)\u001b[0m Epoch: 14|Train Loss: -0.09978966083791521|Val Loss: 0.19232863556666702\u001b[32m [repeated 41x across cluster]\u001b[0m\n",
      "\u001b[2m\u001b[36m(train_de pid=3627392)\u001b[0m Epoch: 35|Train Loss: nan|Val Loss: nan\u001b[32m [repeated 8x across cluster]\u001b[0m\n",
      "\u001b[2m\u001b[36m(train_de pid=3628561)\u001b[0m Early stopping triggered at epoch 23\n",
      "\u001b[2m\u001b[36m(train_de pid=3628737)\u001b[0m Epoch: 24|Train Loss: 0.005725092565019925|Val Loss: 0.2424451038121986\u001b[32m [repeated 41x across cluster]\u001b[0m\n"
     ]
    },
    {
     "name": "stderr",
     "output_type": "stream",
     "text": [
      "NaN or Inf found in input tensor.\n"
     ]
    },
    {
     "name": "stdout",
     "output_type": "stream",
     "text": [
      "\u001b[2m\u001b[36m(train_de pid=3631024)\u001b[0m Epoch: 21|Train Loss: nan|Val Loss: nan\u001b[32m [repeated 5x across cluster]\u001b[0m\n",
      "\u001b[2m\u001b[36m(train_de pid=3627392)\u001b[0m Early stopping triggered at epoch 40\u001b[32m [repeated 3x across cluster]\u001b[0m\n",
      "\u001b[2m\u001b[36m(train_de pid=3628196)\u001b[0m Epoch: 41|Train Loss: -0.0903424471616745|Val Loss: 0.19556687265634537\u001b[32m [repeated 17x across cluster]\u001b[0m\n",
      "\u001b[2m\u001b[36m(train_de pid=3627392)\u001b[0m Epoch: 0|Train Loss: nan|Val Loss: nan\u001b[32m [repeated 5x across cluster]\u001b[0m\n",
      "\u001b[2m\u001b[36m(train_de pid=3627776)\u001b[0m Epoch: 47|Train Loss: 0.16694934914509454|Val Loss: 0.208355109281568\u001b[32m [repeated 38x across cluster]\u001b[0m\n",
      "\u001b[2m\u001b[36m(train_de pid=3628419)\u001b[0m Early stopping triggered at epoch 56\n",
      "\u001b[2m\u001b[36m(train_de pid=3627392)\u001b[0m Epoch: 2|Train Loss: nan|Val Loss: nan\u001b[32m [repeated 6x across cluster]\u001b[0m\n",
      "\u001b[2m\u001b[36m(train_de pid=3631392)\u001b[0m Epoch: 17|Train Loss: 0.21304691582918167|Val Loss: 0.1944659076972756\u001b[32m [repeated 30x across cluster]\u001b[0m\n",
      "\u001b[2m\u001b[36m(train_de pid=3630145)\u001b[0m Epoch: 26|Train Loss: nan|Val Loss: nan\u001b[32m [repeated 7x across cluster]\u001b[0m\n",
      "\u001b[2m\u001b[36m(train_de pid=3633993)\u001b[0m Epoch: 30|Train Loss: 0.5781037552016122|Val Loss: 0.19100515149433964\u001b[32m [repeated 39x across cluster]\u001b[0m\n",
      "\u001b[2m\u001b[36m(train_de pid=3628561)\u001b[0m Epoch: 5|Train Loss: nan|Val Loss: nan\u001b[32m [repeated 7x across cluster]\u001b[0m\n",
      "\u001b[2m\u001b[36m(train_de pid=3631818)\u001b[0m Epoch: 36|Train Loss: 0.3953176869286431|Val Loss: 0.20120080835289425\u001b[32m [repeated 37x across cluster]\u001b[0m\n"
     ]
    },
    {
     "name": "stderr",
     "output_type": "stream",
     "text": [
      "NaN or Inf found in input tensor.\n"
     ]
    },
    {
     "name": "stdout",
     "output_type": "stream",
     "text": [
      "\u001b[2m\u001b[36m(train_de pid=3630145)\u001b[0m Early stopping triggered at epoch 29\n",
      "\u001b[2m\u001b[36m(train_de pid=3631024)\u001b[0m Epoch: 24|Train Loss: nan|Val Loss: nan\u001b[32m [repeated 5x across cluster]\u001b[0m\n",
      "\u001b[2m\u001b[36m(train_de pid=3627776)\u001b[0m Epoch: 58|Train Loss: 0.05302143034835657|Val Loss: 0.18116211646533423\u001b[32m [repeated 32x across cluster]\u001b[0m\n",
      "\u001b[2m\u001b[36m(train_de pid=3626583)\u001b[0m Early stopping triggered at epoch 12\n",
      "\u001b[2m\u001b[36m(train_de pid=3630935)\u001b[0m Early stopping triggered at epoch 16\n",
      "\u001b[2m\u001b[36m(train_de pid=3627392)\u001b[0m Epoch: 10|Train Loss: nan|Val Loss: nan\u001b[32m [repeated 6x across cluster]\u001b[0m\n",
      "\u001b[2m\u001b[36m(train_de pid=3626795)\u001b[0m Epoch: 21|Train Loss: -0.2720380458566878|Val Loss: 0.1999557304121493\u001b[32m [repeated 29x across cluster]\u001b[0m\n"
     ]
    },
    {
     "name": "stderr",
     "output_type": "stream",
     "text": [
      "NaN or Inf found in input tensor.\n"
     ]
    },
    {
     "name": "stdout",
     "output_type": "stream",
     "text": [
      "\u001b[2m\u001b[36m(train_de pid=3631024)\u001b[0m Early stopping triggered at epoch 25\n",
      "\u001b[2m\u001b[36m(train_de pid=3637147)\u001b[0m Epoch: 32|Train Loss: nan|Val Loss: nan\u001b[32m [repeated 9x across cluster]\u001b[0m\n",
      "\u001b[2m\u001b[36m(train_de pid=3628419)\u001b[0m Epoch: 10|Train Loss: 0.2263532512717777|Val Loss: 0.19355537550873123\u001b[32m [repeated 37x across cluster]\u001b[0m\n",
      "\u001b[2m\u001b[36m(train_de pid=3630935)\u001b[0m Epoch: 11|Train Loss: nan|Val Loss: nan\u001b[32m [repeated 8x across cluster]\u001b[0m\n",
      "\u001b[2m\u001b[36m(train_de pid=3623099)\u001b[0m Epoch: 75|Train Loss: 0.1322010482350985|Val Loss: 0.20763036860773962\u001b[32m [repeated 44x across cluster]\u001b[0m\n",
      "\u001b[2m\u001b[36m(train_de pid=3631392)\u001b[0m Early stopping triggered at epoch 25\n",
      "\u001b[2m\u001b[36m(train_de pid=3630935)\u001b[0m Epoch: 15|Train Loss: nan|Val Loss: nan\u001b[32m [repeated 10x across cluster]\u001b[0m\n",
      "\u001b[2m\u001b[36m(train_de pid=3626583)\u001b[0m Epoch: 24|Train Loss: 0.31011176854372025|Val Loss: 0.2028334861000379\u001b[32m [repeated 44x across cluster]\u001b[0m\n",
      "\u001b[2m\u001b[36m(train_de pid=3630935)\u001b[0m Early stopping triggered at epoch 20\n",
      "\u001b[2m\u001b[36m(train_de pid=3630935)\u001b[0m Epoch: 19|Train Loss: nan|Val Loss: nan\u001b[32m [repeated 9x across cluster]\u001b[0m\n",
      "\u001b[2m\u001b[36m(train_de pid=3627048)\u001b[0m Epoch: 79|Train Loss: 0.379404303100374|Val Loss: 0.19910793432167598\u001b[32m [repeated 40x across cluster]\u001b[0m\n"
     ]
    },
    {
     "name": "stderr",
     "output_type": "stream",
     "text": [
      "NaN or Inf found in input tensor.\n"
     ]
    },
    {
     "name": "stdout",
     "output_type": "stream",
     "text": [
      "\u001b[2m\u001b[36m(train_de pid=3627183)\u001b[0m Early stopping triggered at epoch 74\u001b[32m [repeated 2x across cluster]\u001b[0m\n",
      "\u001b[2m\u001b[36m(train_de pid=3630145)\u001b[0m Epoch: 14|Train Loss: nan|Val Loss: nan\u001b[32m [repeated 4x across cluster]\u001b[0m\n",
      "\u001b[2m\u001b[36m(train_de pid=3628737)\u001b[0m Epoch: 61|Train Loss: 0.11912801613410313|Val Loss: 0.1949138703684394\u001b[32m [repeated 19x across cluster]\u001b[0m\n",
      "\u001b[2m\u001b[36m(train_de pid=3626583)\u001b[0m Early stopping triggered at epoch 39\n",
      "\u001b[2m\u001b[36m(train_de pid=3627392)\u001b[0m Epoch: 2|Train Loss: nan|Val Loss: nan\u001b[32m [repeated 7x across cluster]\u001b[0m\n",
      "\u001b[2m\u001b[36m(train_de pid=3629371)\u001b[0m Epoch: 87|Train Loss: 0.04824332013312313|Val Loss: 0.18623993804752556\u001b[32m [repeated 47x across cluster]\u001b[0m\n",
      "\u001b[2m\u001b[36m(train_de pid=3633993)\u001b[0m Early stopping triggered at epoch 40\n",
      "\u001b[2m\u001b[36m(train_de pid=3630145)\u001b[0m Epoch: 18|Train Loss: nan|Val Loss: nan\u001b[32m [repeated 5x across cluster]\u001b[0m\n",
      "\u001b[2m\u001b[36m(train_de pid=3627693)\u001b[0m Epoch: 15|Train Loss: -0.08093289244506094|Val Loss: 0.20443989276472066\u001b[32m [repeated 38x across cluster]\u001b[0m\n",
      "\u001b[2m\u001b[36m(train_de pid=3631024)\u001b[0m Early stopping triggered at epoch 16\n",
      "\u001b[2m\u001b[36m(train_de pid=3630145)\u001b[0m Epoch: 21|Train Loss: nan|Val Loss: nan\u001b[32m [repeated 8x across cluster]\u001b[0m\n",
      "\u001b[2m\u001b[36m(train_de pid=3630935)\u001b[0m Epoch: 11|Train Loss: 0.5140834748744965|Val Loss: 0.18812283160249618\u001b[32m [repeated 53x across cluster]\u001b[0m\n",
      "\u001b[2m\u001b[36m(train_de pid=3627776)\u001b[0m Early stopping triggered at epoch 75\n",
      "\u001b[2m\u001b[36m(train_de pid=3631729)\u001b[0m Epoch: 45|Train Loss: nan|Val Loss: nan\u001b[32m [repeated 9x across cluster]\u001b[0m\n",
      "\u001b[2m\u001b[36m(train_de pid=3628737)\u001b[0m Epoch: 75|Train Loss: -0.1176266297698021|Val Loss: 0.2250247293462356\u001b[32m [repeated 47x across cluster]\u001b[0m\n",
      "\u001b[2m\u001b[36m(train_de pid=3627392)\u001b[0m Epoch: 13|Train Loss: nan|Val Loss: nan\u001b[32m [repeated 6x across cluster]\u001b[0m\n",
      "\u001b[2m\u001b[36m(train_de pid=3626519)\u001b[0m Epoch: 33|Train Loss: -0.191238848226411|Val Loss: 0.1911604976692231\u001b[32m [repeated 58x across cluster]\u001b[0m\n",
      "\u001b[2m\u001b[36m(train_de pid=3630145)\u001b[0m Epoch: 30|Train Loss: nan|Val Loss: nan\u001b[32m [repeated 9x across cluster]\u001b[0m\n",
      "\u001b[2m\u001b[36m(train_de pid=3626657)\u001b[0m Epoch: 20|Train Loss: 0.18892245180904865|Val Loss: 0.19710908765795038\u001b[32m [repeated 57x across cluster]\u001b[0m\n",
      "\u001b[2m\u001b[36m(train_de pid=3631392)\u001b[0m Early stopping triggered at epoch 50\n",
      "\u001b[2m\u001b[36m(train_de pid=3630145)\u001b[0m Epoch: 32|Train Loss: nan|Val Loss: nan\u001b[32m [repeated 6x across cluster]\u001b[0m\n",
      "\u001b[2m\u001b[36m(train_de pid=3628419)\u001b[0m Epoch: 27|Train Loss: 0.11165120700995128|Val Loss: 0.19523151522088383\u001b[32m [repeated 36x across cluster]\u001b[0m\n",
      "\u001b[2m\u001b[36m(train_de pid=3628737)\u001b[0m Early stopping triggered at epoch 85\n"
     ]
    },
    {
     "name": "stderr",
     "output_type": "stream",
     "text": [
      "NaN or Inf found in input tensor.\n"
     ]
    },
    {
     "name": "stdout",
     "output_type": "stream",
     "text": [
      "\u001b[2m\u001b[36m(train_de pid=3631729)\u001b[0m Early stopping triggered at epoch 46\n",
      "\u001b[2m\u001b[36m(train_de pid=3630145)\u001b[0m Epoch: 34|Train Loss: nan|Val Loss: nan\u001b[32m [repeated 4x across cluster]\u001b[0m\n",
      "\u001b[2m\u001b[36m(train_de pid=3628737)\u001b[0m Epoch: 3|Train Loss: 0.12123978031533104|Val Loss: 0.23474458338008547\u001b[32m [repeated 53x across cluster]\u001b[0m\n",
      "\u001b[2m\u001b[36m(train_de pid=3630145)\u001b[0m Epoch: 37|Train Loss: nan|Val Loss: nan\u001b[32m [repeated 9x across cluster]\u001b[0m\n",
      "\u001b[2m\u001b[36m(train_de pid=3627183)\u001b[0m Epoch: 20|Train Loss: 0.21903591603040695|Val Loss: 0.20917855833019866\u001b[32m [repeated 52x across cluster]\u001b[0m\n",
      "\u001b[2m\u001b[36m(train_de pid=3623099)\u001b[0m Early stopping triggered at epoch 92\n",
      "\u001b[2m\u001b[36m(train_de pid=3630145)\u001b[0m Epoch: 40|Train Loss: nan|Val Loss: nan\u001b[32m [repeated 9x across cluster]\u001b[0m\n",
      "\u001b[2m\u001b[36m(train_de pid=3623099)\u001b[0m Epoch: 1|Train Loss: 0.2737374365329742|Val Loss: 0.3276167200994678\u001b[32m [repeated 41x across cluster]\u001b[0m\n",
      "\u001b[2m\u001b[36m(train_de pid=3623099)\u001b[0m Early stopping triggered at epoch 2\n",
      "\u001b[2m\u001b[36m(train_de pid=3627048)\u001b[0m Early stopping triggered at epoch 103\n",
      "\u001b[2m\u001b[36m(train_de pid=3631729)\u001b[0m Epoch: 3|Train Loss: nan|Val Loss: nan\u001b[32m [repeated 6x across cluster]\u001b[0m\n",
      "\u001b[2m\u001b[36m(train_de pid=3628737)\u001b[0m Epoch: 14|Train Loss: -0.08149701356887817|Val Loss: 0.21483363712928732\u001b[32m [repeated 33x across cluster]\u001b[0m\n",
      "\u001b[2m\u001b[36m(train_de pid=3630935)\u001b[0m Early stopping triggered at epoch 35\u001b[32m [repeated 3x across cluster]\u001b[0m\n"
     ]
    },
    {
     "name": "stderr",
     "output_type": "stream",
     "text": [
      "NaN or Inf found in input tensor.\n"
     ]
    },
    {
     "name": "stdout",
     "output_type": "stream",
     "text": [
      "\u001b[2m\u001b[36m(train_de pid=3627392)\u001b[0m Epoch: 27|Train Loss: nan|Val Loss: nan\u001b[32m [repeated 2x across cluster]\u001b[0m\n",
      "\u001b[2m\u001b[36m(train_de pid=3626519)\u001b[0m Epoch: 42|Train Loss: 0.13244930974074773|Val Loss: 0.20607147165660902\u001b[32m [repeated 23x across cluster]\u001b[0m\n",
      "\u001b[2m\u001b[36m(train_de pid=3630145)\u001b[0m Early stopping triggered at epoch 43\n",
      "\u001b[2m\u001b[36m(train_de pid=3627693)\u001b[0m Early stopping triggered at epoch 18\n",
      "\u001b[2m\u001b[36m(train_de pid=3627776)\u001b[0m Epoch: 3|Train Loss: nan|Val Loss: nan\u001b[32m [repeated 9x across cluster]\u001b[0m\n",
      "\u001b[2m\u001b[36m(train_de pid=3626657)\u001b[0m Epoch: 26|Train Loss: -0.027707713190466166|Val Loss: 0.1914420557783588\u001b[32m [repeated 32x across cluster]\u001b[0m\n",
      "\u001b[2m\u001b[36m(train_de pid=3626920)\u001b[0m Early stopping triggered at epoch 100\n",
      "\u001b[2m\u001b[36m(train_de pid=3627048)\u001b[0m Early stopping triggered at epoch 4\n",
      "\u001b[2m\u001b[36m(train_de pid=3631729)\u001b[0m Epoch: 7|Train Loss: nan|Val Loss: nan\u001b[32m [repeated 8x across cluster]\u001b[0m\n",
      "\u001b[2m\u001b[36m(train_de pid=3623099)\u001b[0m Epoch: 8|Train Loss: 0.6950708776712418|Val Loss: 0.2513948441442233\u001b[32m [repeated 32x across cluster]\u001b[0m\n",
      "\u001b[2m\u001b[36m(train_de pid=3626920)\u001b[0m Early stopping triggered at epoch 3\n",
      "\u001b[2m\u001b[36m(train_de pid=3627392)\u001b[0m Epoch: 33|Train Loss: nan|Val Loss: nan\u001b[32m [repeated 7x across cluster]\u001b[0m\n",
      "\u001b[2m\u001b[36m(train_de pid=3626920)\u001b[0m Epoch: 1|Train Loss: 0.3231850415468216|Val Loss: 0.24747342253913698\u001b[32m [repeated 35x across cluster]\u001b[0m\n",
      "\u001b[2m\u001b[36m(train_de pid=3628737)\u001b[0m Early stopping triggered at epoch 28\n",
      "\u001b[2m\u001b[36m(train_de pid=3631729)\u001b[0m Epoch: 9|Train Loss: nan|Val Loss: nan\u001b[32m [repeated 7x across cluster]\u001b[0m\n",
      "\u001b[2m\u001b[36m(train_de pid=3629371)\u001b[0m Epoch: 127|Train Loss: 0.0337704594195303|Val Loss: 0.20101867673428198\u001b[32m [repeated 42x across cluster]\u001b[0m\n"
     ]
    },
    {
     "name": "stderr",
     "output_type": "stream",
     "text": [
      "NaN or Inf found in input tensor.\n"
     ]
    },
    {
     "name": "stdout",
     "output_type": "stream",
     "text": [
      "\u001b[2m\u001b[36m(train_de pid=3627776)\u001b[0m Early stopping triggered at epoch 12\n",
      "\u001b[2m\u001b[36m(train_de pid=3627392)\u001b[0m Epoch: 38|Train Loss: nan|Val Loss: nan\u001b[32m [repeated 6x across cluster]\u001b[0m\n",
      "\u001b[2m\u001b[36m(train_de pid=3631024)\u001b[0m Epoch: 38|Train Loss: -0.11613025392095248|Val Loss: 0.19371005860467752\u001b[32m [repeated 30x across cluster]\u001b[0m\n",
      "\u001b[2m\u001b[36m(train_de pid=3627048)\u001b[0m Early stopping triggered at epoch 3\n",
      "\u001b[2m\u001b[36m(train_de pid=3627776)\u001b[0m Epoch: 2|Train Loss: nan|Val Loss: nan\u001b[32m [repeated 9x across cluster]\u001b[0m\n",
      "\u001b[2m\u001b[36m(train_de pid=3626583)\u001b[0m Epoch: 32|Train Loss: 0.30826907687717015|Val Loss: 0.20195394108477221\u001b[32m [repeated 49x across cluster]\u001b[0m\n"
     ]
    },
    {
     "name": "stderr",
     "output_type": "stream",
     "text": [
      "NaN or Inf found in input tensor.\n"
     ]
    },
    {
     "name": "stdout",
     "output_type": "stream",
     "text": [
      "\u001b[2m\u001b[36m(train_de pid=3632708)\u001b[0m Early stopping triggered at epoch 34\u001b[32m [repeated 2x across cluster]\u001b[0m\n",
      "\u001b[2m\u001b[36m(train_de pid=3627392)\u001b[0m Epoch: 42|Train Loss: nan|Val Loss: nan\u001b[32m [repeated 6x across cluster]\u001b[0m\n",
      "\u001b[2m\u001b[36m(train_de pid=3626920)\u001b[0m Epoch: 13|Train Loss: 0.16994794830679893|Val Loss: 0.2035433634326024\u001b[32m [repeated 18x across cluster]\u001b[0m\n",
      "\u001b[2m\u001b[36m(train_de pid=3629371)\u001b[0m Early stopping triggered at epoch 134\u001b[32m [repeated 2x across cluster]\u001b[0m\n",
      "\u001b[2m\u001b[36m(train_de pid=3627392)\u001b[0m Epoch: 44|Train Loss: nan|Val Loss: nan\u001b[32m [repeated 7x across cluster]\u001b[0m\n",
      "\u001b[2m\u001b[36m(train_de pid=3627693)\u001b[0m Epoch: 20|Train Loss: 0.14677731692790985|Val Loss: 0.19251114603351144\u001b[32m [repeated 36x across cluster]\u001b[0m\n"
     ]
    },
    {
     "name": "stderr",
     "output_type": "stream",
     "text": [
      "NaN or Inf found in input tensor.\n"
     ]
    },
    {
     "name": "stdout",
     "output_type": "stream",
     "text": [
      "\u001b[2m\u001b[36m(train_de pid=3627776)\u001b[0m Early stopping triggered at epoch 6\u001b[32m [repeated 2x across cluster]\u001b[0m\n",
      "\u001b[2m\u001b[36m(train_de pid=3626469)\u001b[0m Epoch: 15|Train Loss: nan|Val Loss: nan\u001b[32m [repeated 5x across cluster]\u001b[0m\n",
      "\u001b[2m\u001b[36m(train_de pid=3630935)\u001b[0m Epoch: 9|Train Loss: 0.2704997956752777|Val Loss: 0.16316700189553787\u001b[32m [repeated 28x across cluster]\u001b[0m\n"
     ]
    },
    {
     "name": "stderr",
     "output_type": "stream",
     "text": [
      "NaN or Inf found in input tensor.\n"
     ]
    },
    {
     "name": "stdout",
     "output_type": "stream",
     "text": [
      "\u001b[2m\u001b[36m(train_de pid=3627392)\u001b[0m Early stopping triggered at epoch 46\n",
      "\u001b[2m\u001b[36m(train_de pid=3631729)\u001b[0m Epoch: 14|Train Loss: nan|Val Loss: nan\n",
      "\u001b[2m\u001b[36m(train_de pid=3627048)\u001b[0m Epoch: 5|Train Loss: 0.021321221520858153|Val Loss: 0.2525353374133244\u001b[32m [repeated 46x across cluster]\u001b[0m\n",
      "\u001b[2m\u001b[36m(train_de pid=3631729)\u001b[0m Epoch: 15|Train Loss: nan|Val Loss: nan\n",
      "\u001b[2m\u001b[36m(train_de pid=3631729)\u001b[0m Epoch: 16|Train Loss: nan|Val Loss: nan\n",
      "\u001b[2m\u001b[36m(train_de pid=3627183)\u001b[0m Epoch: 47|Train Loss: 0.18718892708420753|Val Loss: 0.199967622805975\u001b[32m [repeated 53x across cluster]\u001b[0m\n",
      "\u001b[2m\u001b[36m(train_de pid=3632708)\u001b[0m Epoch: 1|Train Loss: nan|Val Loss: nan\n",
      "\u001b[2m\u001b[36m(train_de pid=3631729)\u001b[0m Epoch: 17|Train Loss: nan|Val Loss: nan\n",
      "\u001b[2m\u001b[36m(train_de pid=3631392)\u001b[0m Early stopping triggered at epoch 44\n",
      "\u001b[2m\u001b[36m(train_de pid=3626920)\u001b[0m Epoch: 29|Train Loss: -0.018016439396888018|Val Loss: 0.1785982163400268\u001b[32m [repeated 40x across cluster]\u001b[0m\n",
      "\u001b[2m\u001b[36m(train_de pid=3627392)\u001b[0m Epoch: 0|Train Loss: nan|Val Loss: nan\u001b[32m [repeated 2x across cluster]\u001b[0m\n",
      "\u001b[2m\u001b[36m(train_de pid=3628561)\u001b[0m Early stopping triggered at epoch 14\n",
      "\u001b[2m\u001b[36m(train_de pid=3627183)\u001b[0m Early stopping triggered at epoch 50\n",
      "\u001b[2m\u001b[36m(train_de pid=3629615)\u001b[0m Epoch: 97|Train Loss: 0.11254045367240906|Val Loss: 0.20470775593072177\u001b[32m [repeated 29x across cluster]\u001b[0m\n",
      "\u001b[2m\u001b[36m(train_de pid=3631729)\u001b[0m Epoch: 18|Train Loss: nan|Val Loss: nan\u001b[32m [repeated 2x across cluster]\u001b[0m\n",
      "\u001b[2m\u001b[36m(train_de pid=3623099)\u001b[0m Epoch: 24|Train Loss: 0.14762076948370254|Val Loss: 0.22750598520395302\u001b[32m [repeated 52x across cluster]\u001b[0m\n",
      "\u001b[2m\u001b[36m(train_de pid=3623099)\u001b[0m Early stopping triggered at epoch 25\n",
      "\u001b[2m\u001b[36m(train_de pid=3631729)\u001b[0m Epoch: 20|Train Loss: nan|Val Loss: nan\u001b[32m [repeated 3x across cluster]\u001b[0m\n"
     ]
    },
    {
     "name": "stderr",
     "output_type": "stream",
     "text": [
      "NaN or Inf found in input tensor.\n"
     ]
    },
    {
     "name": "stdout",
     "output_type": "stream",
     "text": [
      "\u001b[2m\u001b[36m(train_de pid=3626920)\u001b[0m Epoch: 38|Train Loss: 0.3900839164853096|Val Loss: 0.1834434644602563\u001b[32m [repeated 30x across cluster]\u001b[0m\n",
      "\u001b[2m\u001b[36m(train_de pid=3627776)\u001b[0m Early stopping triggered at epoch 13\u001b[32m [repeated 3x across cluster]\u001b[0m\n",
      "\u001b[2m\u001b[36m(train_de pid=3631729)\u001b[0m Epoch: 21|Train Loss: nan|Val Loss: nan\u001b[32m [repeated 2x across cluster]\u001b[0m\n",
      "\u001b[2m\u001b[36m(train_de pid=3635151)\u001b[0m Epoch: 39|Train Loss: -0.03115442581474781|Val Loss: 0.202326179635711\u001b[32m [repeated 15x across cluster]\u001b[0m\n",
      "\u001b[2m\u001b[36m(train_de pid=3627693)\u001b[0m Early stopping triggered at epoch 49\u001b[32m [repeated 2x across cluster]\u001b[0m\n",
      "\u001b[2m\u001b[36m(train_de pid=3627183)\u001b[0m Epoch: 0|Train Loss: nan|Val Loss: nan\n",
      "\u001b[2m\u001b[36m(train_de pid=3627392)\u001b[0m Epoch: 1|Train Loss: nan|Val Loss: nan\n"
     ]
    },
    {
     "name": "stderr",
     "output_type": "stream",
     "text": [
      "NaN or Inf found in input tensor.\n"
     ]
    },
    {
     "name": "stdout",
     "output_type": "stream",
     "text": [
      "\u001b[2m\u001b[36m(train_de pid=3623099)\u001b[0m Epoch: 9|Train Loss: 0.18396352728207907|Val Loss: 0.19648608215378993\u001b[32m [repeated 35x across cluster]\u001b[0m\n",
      "\u001b[2m\u001b[36m(train_de pid=3631729)\u001b[0m Early stopping triggered at epoch 22\n",
      "\u001b[2m\u001b[36m(train_de pid=3627183)\u001b[0m Epoch: 2|Train Loss: nan|Val Loss: nan\u001b[32m [repeated 2x across cluster]\u001b[0m\n",
      "\u001b[2m\u001b[36m(train_de pid=3631392)\u001b[0m Epoch: 18|Train Loss: 0.1266768823067347|Val Loss: 0.2295220455982619\u001b[32m [repeated 56x across cluster]\u001b[0m\n",
      "\u001b[2m\u001b[36m(train_de pid=3627183)\u001b[0m Epoch: 5|Train Loss: nan|Val Loss: nan\u001b[32m [repeated 4x across cluster]\u001b[0m\n",
      "\u001b[2m\u001b[36m(train_de pid=3631024)\u001b[0m Early stopping triggered at epoch 71\n",
      "\u001b[2m\u001b[36m(train_de pid=3626920)\u001b[0m Epoch: 49|Train Loss: 0.16103697195649147|Val Loss: 0.1974318247774373\u001b[32m [repeated 41x across cluster]\u001b[0m\n",
      "\u001b[2m\u001b[36m(train_de pid=3627183)\u001b[0m Epoch: 7|Train Loss: nan|Val Loss: nan\u001b[32m [repeated 2x across cluster]\u001b[0m\n",
      "\u001b[2m\u001b[36m(train_de pid=3631392)\u001b[0m Early stopping triggered at epoch 21\u001b[32m [repeated 2x across cluster]\u001b[0m\n",
      "\u001b[2m\u001b[36m(train_de pid=3627693)\u001b[0m Epoch: 10|Train Loss: 0.07360698060236043|Val Loss: 0.24314851639447388\u001b[32m [repeated 38x across cluster]\u001b[0m\n",
      "\u001b[2m\u001b[36m(train_de pid=3627183)\u001b[0m Epoch: 10|Train Loss: nan|Val Loss: nan\u001b[32m [repeated 6x across cluster]\u001b[0m\n",
      "\u001b[2m\u001b[36m(train_de pid=3626920)\u001b[0m Early stopping triggered at epoch 51\n",
      "\u001b[2m\u001b[36m(train_de pid=3628561)\u001b[0m Epoch: 4|Train Loss: 0.15771842934191227|Val Loss: 0.17760674003977328\u001b[32m [repeated 38x across cluster]\u001b[0m\n",
      "\u001b[2m\u001b[36m(train_de pid=3627183)\u001b[0m Epoch: 12|Train Loss: nan|Val Loss: nan\u001b[32m [repeated 5x across cluster]\u001b[0m\n",
      "\u001b[2m\u001b[36m(train_de pid=3626469)\u001b[0m Epoch: 15|Train Loss: 0.5937209010124207|Val Loss: 0.2562147489888594\u001b[32m [repeated 50x across cluster]\u001b[0m\n",
      "\u001b[2m\u001b[36m(train_de pid=3627183)\u001b[0m Epoch: 15|Train Loss: nan|Val Loss: nan\u001b[32m [repeated 5x across cluster]\u001b[0m\n",
      "\u001b[2m\u001b[36m(train_de pid=3623099)\u001b[0m Early stopping triggered at epoch 43\n",
      "\u001b[2m\u001b[36m(train_de pid=3626469)\u001b[0m Epoch: 18|Train Loss: 0.20983594059944152|Val Loss: 0.1911787306284532\u001b[32m [repeated 41x across cluster]\u001b[0m\n",
      "\u001b[2m\u001b[36m(train_de pid=3629615)\u001b[0m Epoch: 4|Train Loss: nan|Val Loss: nan\u001b[32m [repeated 4x across cluster]\u001b[0m\n",
      "\u001b[2m\u001b[36m(train_de pid=3627693)\u001b[0m Early stopping triggered at epoch 19\u001b[32m [repeated 2x across cluster]\u001b[0m\n",
      "\u001b[2m\u001b[36m(train_de pid=3626469)\u001b[0m Epoch: 21|Train Loss: 0.47323101162910464|Val Loss: 0.19200163631234318\u001b[32m [repeated 33x across cluster]\u001b[0m\n"
     ]
    },
    {
     "name": "stderr",
     "output_type": "stream",
     "text": [
      "NaN or Inf found in input tensor.\n"
     ]
    },
    {
     "name": "stdout",
     "output_type": "stream",
     "text": [
      "\u001b[2m\u001b[36m(train_de pid=3627183)\u001b[0m Epoch: 20|Train Loss: nan|Val Loss: nan\u001b[32m [repeated 6x across cluster]\u001b[0m\n",
      "\u001b[2m\u001b[36m(train_de pid=3629615)\u001b[0m Early stopping triggered at epoch 5\n",
      "\u001b[2m\u001b[36m(train_de pid=3626469)\u001b[0m Epoch: 23|Train Loss: 0.07579611986875534|Val Loss: 0.19455612463643773\u001b[32m [repeated 35x across cluster]\u001b[0m\n",
      "\u001b[2m\u001b[36m(train_de pid=3628419)\u001b[0m Early stopping triggered at epoch 8\n",
      "\u001b[2m\u001b[36m(train_de pid=3629615)\u001b[0m Epoch: 1|Train Loss: nan|Val Loss: nan\u001b[32m [repeated 4x across cluster]\u001b[0m\n",
      "\u001b[2m\u001b[36m(train_de pid=3629371)\u001b[0m Epoch: 25|Train Loss: 0.03867362563808759|Val Loss: 0.20238595676297944\u001b[32m [repeated 42x across cluster]\u001b[0m\n",
      "\u001b[2m\u001b[36m(train_de pid=3626657)\u001b[0m Early stopping triggered at epoch 49\n",
      "\u001b[2m\u001b[36m(train_de pid=3623099)\u001b[0m Epoch: 4|Train Loss: nan|Val Loss: nan\u001b[32m [repeated 16x across cluster]\u001b[0m\n",
      "\u001b[2m\u001b[36m(train_de pid=3627776)\u001b[0m Epoch: 11|Train Loss: -0.1999087631702423|Val Loss: 0.1466383473192248\u001b[32m [repeated 37x across cluster]\u001b[0m\n",
      "\u001b[2m\u001b[36m(train_de pid=3627183)\u001b[0m Epoch: 27|Train Loss: nan|Val Loss: nan\u001b[32m [repeated 14x across cluster]\u001b[0m\n",
      "\u001b[2m\u001b[36m(train_de pid=3633993)\u001b[0m Epoch: 36|Train Loss: 0.011939264833927155|Val Loss: 0.1943859986422467\u001b[32m [repeated 45x across cluster]\u001b[0m\n"
     ]
    },
    {
     "name": "stderr",
     "output_type": "stream",
     "text": [
      "NaN or Inf found in input tensor.\n"
     ]
    },
    {
     "name": "stdout",
     "output_type": "stream",
     "text": [
      "\u001b[2m\u001b[36m(train_de pid=3629615)\u001b[0m Early stopping triggered at epoch 9\n",
      "\u001b[2m\u001b[36m(train_de pid=3627183)\u001b[0m Epoch: 29|Train Loss: nan|Val Loss: nan\u001b[32m [repeated 11x across cluster]\u001b[0m\n",
      "\u001b[2m\u001b[36m(train_de pid=3626583)\u001b[0m Epoch: 67|Train Loss: 0.02386950080593427|Val Loss: 0.1965919770024441\u001b[32m [repeated 49x across cluster]\u001b[0m\n",
      "\u001b[2m\u001b[36m(train_de pid=3630810)\u001b[0m Early stopping triggered at epoch 39\n",
      "\u001b[2m\u001b[36m(train_de pid=3627183)\u001b[0m Epoch: 32|Train Loss: nan|Val Loss: nan\u001b[32m [repeated 11x across cluster]\u001b[0m\n",
      "\u001b[2m\u001b[36m(train_de pid=3626920)\u001b[0m Epoch: 7|Train Loss: -1.950230747461319|Val Loss: -1.4599256925284863\u001b[32m [repeated 34x across cluster]\u001b[0m\n",
      "\u001b[2m\u001b[36m(train_de pid=3626583)\u001b[0m Early stopping triggered at epoch 68\n",
      "\u001b[2m\u001b[36m(train_de pid=3627183)\u001b[0m Epoch: 34|Train Loss: nan|Val Loss: nan\u001b[32m [repeated 14x across cluster]\u001b[0m\n",
      "\u001b[2m\u001b[36m(train_de pid=3631729)\u001b[0m Epoch: 34|Train Loss: 0.25254371017217636|Val Loss: 0.20335166220206255\u001b[32m [repeated 42x across cluster]\u001b[0m\n",
      "\u001b[2m\u001b[36m(train_de pid=3629615)\u001b[0m Early stopping triggered at epoch 18\n",
      "\u001b[2m\u001b[36m(train_de pid=3627183)\u001b[0m Epoch: 37|Train Loss: nan|Val Loss: nan\u001b[32m [repeated 20x across cluster]\u001b[0m\n",
      "\u001b[2m\u001b[36m(train_de pid=3630145)\u001b[0m Epoch: 15|Train Loss: 0.2188331950455904|Val Loss: 0.19074168225415633\u001b[32m [repeated 28x across cluster]\u001b[0m\n",
      "\u001b[2m\u001b[36m(train_de pid=3626469)\u001b[0m Early stopping triggered at epoch 41\n",
      "\u001b[2m\u001b[36m(train_de pid=3630810)\u001b[0m Epoch: 18|Train Loss: nan|Val Loss: nan\u001b[32m [repeated 17x across cluster]\u001b[0m\n",
      "\u001b[2m\u001b[36m(train_de pid=3627183)\u001b[0m Early stopping triggered at epoch 40\n"
     ]
    },
    {
     "name": "stderr",
     "output_type": "stream",
     "text": [
      "NaN or Inf found in input tensor.\n"
     ]
    },
    {
     "name": "stdout",
     "output_type": "stream",
     "text": [
      "\u001b[2m\u001b[36m(train_de pid=3626920)\u001b[0m Epoch: 9|Train Loss: -1.841531753540039|Val Loss: -1.5533835303783416\u001b[32m [repeated 36x across cluster]\u001b[0m\n"
     ]
    },
    {
     "name": "stderr",
     "output_type": "stream",
     "text": [
      "NaN or Inf found in input tensor.\n"
     ]
    },
    {
     "name": "stdout",
     "output_type": "stream",
     "text": [
      "\u001b[2m\u001b[36m(train_de pid=3630810)\u001b[0m Epoch: 21|Train Loss: nan|Val Loss: nan\u001b[32m [repeated 7x across cluster]\u001b[0m\n",
      "\u001b[2m\u001b[36m(train_de pid=3626469)\u001b[0m Early stopping triggered at epoch 7\u001b[32m [repeated 3x across cluster]\u001b[0m\n",
      "\u001b[2m\u001b[36m(train_de pid=3628419)\u001b[0m Epoch: 0|Train Loss: 0.7524700803416116|Val Loss: 0.22582863489615507\u001b[32m [repeated 29x across cluster]\u001b[0m\n",
      "\u001b[2m\u001b[36m(train_de pid=3630810)\u001b[0m Epoch: 26|Train Loss: nan|Val Loss: nan\u001b[32m [repeated 8x across cluster]\u001b[0m\n",
      "\u001b[2m\u001b[36m(train_de pid=3626469)\u001b[0m Early stopping triggered at epoch 2\u001b[32m [repeated 3x across cluster]\u001b[0m\n",
      "\u001b[2m\u001b[36m(train_de pid=3631729)\u001b[0m Epoch: 43|Train Loss: 0.20018654316663742|Val Loss: 0.1911453983436028\u001b[32m [repeated 38x across cluster]\u001b[0m\n"
     ]
    },
    {
     "name": "stderr",
     "output_type": "stream",
     "text": [
      "NaN or Inf found in input tensor.\n"
     ]
    },
    {
     "name": "stdout",
     "output_type": "stream",
     "text": [
      "\u001b[2m\u001b[36m(train_de pid=3632708)\u001b[0m Epoch: 13|Train Loss: nan|Val Loss: nan\u001b[32m [repeated 5x across cluster]\u001b[0m\n",
      "\u001b[2m\u001b[36m(train_de pid=3629371)\u001b[0m Early stopping triggered at epoch 39\u001b[32m [repeated 3x across cluster]\u001b[0m\n",
      "\u001b[2m\u001b[36m(train_de pid=3627776)\u001b[0m Epoch: 22|Train Loss: 0.11846868135035038|Val Loss: 0.16349234327686074\u001b[32m [repeated 42x across cluster]\u001b[0m\n",
      "\u001b[2m\u001b[36m(train_de pid=3637147)\u001b[0m Epoch: 41|Train Loss: nan|Val Loss: nan\u001b[32m [repeated 4x across cluster]\u001b[0m\n",
      "\u001b[2m\u001b[36m(train_de pid=3630145)\u001b[0m Epoch: 18|Train Loss: 0.07737223990261555|Val Loss: 0.19127600458741653\u001b[32m [repeated 37x across cluster]\u001b[0m\n",
      "\u001b[2m\u001b[36m(train_de pid=3633993)\u001b[0m Early stopping triggered at epoch 50\n",
      "\u001b[2m\u001b[36m(train_de pid=3623099)\u001b[0m Epoch: 19|Train Loss: nan|Val Loss: nan\u001b[32m [repeated 3x across cluster]\u001b[0m\n",
      "\u001b[2m\u001b[36m(train_de pid=3626920)\u001b[0m Epoch: 14|Train Loss: -2.273074686527252|Val Loss: -1.4093219371140002\u001b[32m [repeated 38x across cluster]\u001b[0m\n",
      "\u001b[2m\u001b[36m(train_de pid=3631392)\u001b[0m Early stopping triggered at epoch 91\n",
      "\u001b[2m\u001b[36m(train_de pid=3623099)\u001b[0m Epoch: 21|Train Loss: nan|Val Loss: nan\u001b[32m [repeated 5x across cluster]\u001b[0m\n",
      "\u001b[2m\u001b[36m(train_de pid=3627776)\u001b[0m Epoch: 27|Train Loss: 0.1301604202017188|Val Loss: 0.1478677757993285\u001b[32m [repeated 36x across cluster]\u001b[0m\n",
      "\u001b[2m\u001b[36m(train_de pid=3631818)\u001b[0m Early stopping triggered at epoch 61\n",
      "\u001b[2m\u001b[36m(train_de pid=3629615)\u001b[0m Epoch: 3|Train Loss: nan|Val Loss: nan\u001b[32m [repeated 3x across cluster]\u001b[0m\n",
      "\u001b[2m\u001b[36m(train_de pid=3627693)\u001b[0m Epoch: 44|Train Loss: 0.25904181599617004|Val Loss: 0.19852804319933057\u001b[32m [repeated 35x across cluster]\u001b[0m\n",
      "\u001b[2m\u001b[36m(train_de pid=3628419)\u001b[0m Early stopping triggered at epoch 21\n",
      "\u001b[2m\u001b[36m(train_de pid=3623099)\u001b[0m Epoch: 25|Train Loss: nan|Val Loss: nan\u001b[32m [repeated 5x across cluster]\u001b[0m\n",
      "\u001b[2m\u001b[36m(train_de pid=3631729)\u001b[0m Epoch: 64|Train Loss: 0.07734015956521034|Val Loss: 0.1895407104097745\u001b[32m [repeated 33x across cluster]\u001b[0m\n",
      "\u001b[2m\u001b[36m(train_de pid=3626583)\u001b[0m Early stopping triggered at epoch 25\n",
      "\u001b[2m\u001b[36m(train_de pid=3623099)\u001b[0m Epoch: 27|Train Loss: nan|Val Loss: nan\u001b[32m [repeated 4x across cluster]\u001b[0m\n",
      "\u001b[2m\u001b[36m(train_de pid=3631024)\u001b[0m Epoch: 115|Train Loss: -0.021739346161484718|Val Loss: 0.16888704887824132\u001b[32m [repeated 34x across cluster]\u001b[0m\n",
      "\u001b[2m\u001b[36m(train_de pid=3623099)\u001b[0m Epoch: 29|Train Loss: nan|Val Loss: nan\u001b[32m [repeated 4x across cluster]\u001b[0m\n",
      "\u001b[2m\u001b[36m(train_de pid=3627693)\u001b[0m Epoch: 57|Train Loss: 0.23921488225460052|Val Loss: 0.2080182663127198\u001b[32m [repeated 32x across cluster]\u001b[0m\n",
      "\u001b[2m\u001b[36m(train_de pid=3632708)\u001b[0m Early stopping triggered at epoch 19\n"
     ]
    },
    {
     "name": "stderr",
     "output_type": "stream",
     "text": [
      "NaN or Inf found in input tensor.\n"
     ]
    },
    {
     "name": "stdout",
     "output_type": "stream",
     "text": [
      "\u001b[2m\u001b[36m(train_de pid=3623099)\u001b[0m Epoch: 31|Train Loss: nan|Val Loss: nan\u001b[32m [repeated 3x across cluster]\u001b[0m\n"
     ]
    },
    {
     "name": "stderr",
     "output_type": "stream",
     "text": [
      "NaN or Inf found in input tensor.\n"
     ]
    },
    {
     "name": "stdout",
     "output_type": "stream",
     "text": [
      "\u001b[2m\u001b[36m(train_de pid=3626920)\u001b[0m Epoch: 21|Train Loss: -1.89975506067276|Val Loss: -1.962532441020012\u001b[32m [repeated 32x across cluster]\u001b[0m\n",
      "\u001b[2m\u001b[36m(train_de pid=3637147)\u001b[0m Early stopping triggered at epoch 43\n",
      "\u001b[2m\u001b[36m(train_de pid=3631024)\u001b[0m Early stopping triggered at epoch 136\n",
      "\u001b[2m\u001b[36m(train_de pid=3629615)\u001b[0m Epoch: 6|Train Loss: nan|Val Loss: nan\u001b[32m [repeated 4x across cluster]\u001b[0m\n",
      "\u001b[2m\u001b[36m(train_de pid=3628737)\u001b[0m Epoch: 30|Train Loss: -0.13007461173193796|Val Loss: 0.20406769121331828\u001b[32m [repeated 30x across cluster]\u001b[0m\n",
      "\u001b[2m\u001b[36m(train_de pid=3623099)\u001b[0m Epoch: 36|Train Loss: nan|Val Loss: nan\u001b[32m [repeated 3x across cluster]\u001b[0m\n",
      "\u001b[2m\u001b[36m(train_de pid=3627693)\u001b[0m Epoch: 70|Train Loss: -0.0022836422082036733|Val Loss: 0.19178681033547038\u001b[32m [repeated 21x across cluster]\u001b[0m\n",
      "\u001b[2m\u001b[36m(train_de pid=3623099)\u001b[0m Epoch: 38|Train Loss: nan|Val Loss: nan\u001b[32m [repeated 4x across cluster]\u001b[0m\n",
      "\u001b[2m\u001b[36m(train_de pid=3631729)\u001b[0m Epoch: 88|Train Loss: 0.24482499808073044|Val Loss: 0.19601526132364774\u001b[32m [repeated 29x across cluster]\u001b[0m\n",
      "\u001b[2m\u001b[36m(train_de pid=3627048)\u001b[0m Early stopping triggered at epoch 75\n",
      "\u001b[2m\u001b[36m(train_de pid=3623099)\u001b[0m Epoch: 40|Train Loss: nan|Val Loss: nan\u001b[32m [repeated 3x across cluster]\u001b[0m\n",
      "\u001b[2m\u001b[36m(train_de pid=3627323)\u001b[0m Epoch: 158|Train Loss: 0.3662837781012058|Val Loss: 0.2118551706103608\u001b[32m [repeated 22x across cluster]\u001b[0m\n"
     ]
    },
    {
     "name": "stderr",
     "output_type": "stream",
     "text": [
      "NaN or Inf found in input tensor.\n"
     ]
    },
    {
     "name": "stdout",
     "output_type": "stream",
     "text": [
      "\u001b[2m\u001b[36m(train_de pid=3623099)\u001b[0m Early stopping triggered at epoch 41\n",
      "\u001b[2m\u001b[36m(train_de pid=3627392)\u001b[0m Epoch: 12|Train Loss: nan|Val Loss: nan\n",
      "\u001b[2m\u001b[36m(train_de pid=3628196)\u001b[0m Epoch: 67|Train Loss: 0.24694028496742249|Val Loss: 0.20274701587855815\u001b[32m [repeated 29x across cluster]\u001b[0m\n",
      "\u001b[2m\u001b[36m(train_de pid=3629615)\u001b[0m Epoch: 9|Train Loss: nan|Val Loss: nan\n",
      "\u001b[2m\u001b[36m(train_de pid=3627693)\u001b[0m Epoch: 92|Train Loss: 0.18058200776576996|Val Loss: 0.19536638904362916\u001b[32m [repeated 27x across cluster]\u001b[0m\n",
      "\u001b[2m\u001b[36m(train_de pid=3627392)\u001b[0m Epoch: 13|Train Loss: nan|Val Loss: nan\n",
      "\u001b[2m\u001b[36m(train_de pid=3628196)\u001b[0m Early stopping triggered at epoch 68\n",
      "\u001b[2m\u001b[36m(train_de pid=3629615)\u001b[0m Epoch: 10|Train Loss: nan|Val Loss: nan\n",
      "\u001b[2m\u001b[36m(train_de pid=3627693)\u001b[0m Epoch: 98|Train Loss: 0.30716617703437804|Val Loss: 0.2046101313084364\u001b[32m [repeated 25x across cluster]\u001b[0m\n",
      "\u001b[2m\u001b[36m(train_de pid=3628826)\u001b[0m Early stopping triggered at epoch 82\u001b[32m [repeated 3x across cluster]\u001b[0m\n"
     ]
    },
    {
     "name": "stderr",
     "output_type": "stream",
     "text": [
      "NaN or Inf found in input tensor.\n"
     ]
    },
    {
     "name": "stdout",
     "output_type": "stream",
     "text": [
      "\u001b[2m\u001b[36m(train_de pid=3629615)\u001b[0m Epoch: 11|Train Loss: nan|Val Loss: nan\n",
      "\u001b[2m\u001b[36m(train_de pid=3631729)\u001b[0m Epoch: 110|Train Loss: 0.17328405876954397|Val Loss: 0.20265050679810492\u001b[32m [repeated 19x across cluster]\u001b[0m\n",
      "\u001b[2m\u001b[36m(train_de pid=3630145)\u001b[0m Early stopping triggered at epoch 32\u001b[32m [repeated 2x across cluster]\u001b[0m\n",
      "\u001b[2m\u001b[36m(train_de pid=3629615)\u001b[0m Epoch: 12|Train Loss: nan|Val Loss: nan\n",
      "\u001b[2m\u001b[36m(train_de pid=3626657)\u001b[0m Epoch: 27|Train Loss: 0.15140687301754951|Val Loss: 0.20992065948324606\u001b[32m [repeated 16x across cluster]\u001b[0m\n",
      "\u001b[2m\u001b[36m(train_de pid=3627776)\u001b[0m Early stopping triggered at epoch 54\n",
      "\u001b[2m\u001b[36m(train_de pid=3633324)\u001b[0m Early stopping triggered at epoch 49\n",
      "\u001b[2m\u001b[36m(train_de pid=3628737)\u001b[0m Epoch: 43|Train Loss: 0.02521194357957159|Val Loss: 0.20359267347625323\u001b[32m [repeated 15x across cluster]\u001b[0m\n",
      "\u001b[2m\u001b[36m(train_de pid=3629615)\u001b[0m Epoch: 13|Train Loss: nan|Val Loss: nan\n",
      "\u001b[2m\u001b[36m(train_de pid=3631729)\u001b[0m Epoch: 127|Train Loss: 0.30850311120351154|Val Loss: 0.18837994990833834\u001b[32m [repeated 16x across cluster]\u001b[0m\n",
      "\u001b[2m\u001b[36m(train_de pid=3629615)\u001b[0m Early stopping triggered at epoch 14\n"
     ]
    },
    {
     "name": "stderr",
     "output_type": "stream",
     "text": [
      "NaN or Inf found in input tensor.\n"
     ]
    },
    {
     "name": "stdout",
     "output_type": "stream",
     "text": [
      "\u001b[2m\u001b[36m(train_de pid=3632074)\u001b[0m Epoch: 30|Train Loss: 0.5254493951797485|Val Loss: 0.21279542344725794\u001b[32m [repeated 19x across cluster]\u001b[0m\n",
      "\u001b[2m\u001b[36m(train_de pid=3631729)\u001b[0m Early stopping triggered at epoch 137\n",
      "\u001b[2m\u001b[36m(train_de pid=3626920)\u001b[0m Epoch: 43|Train Loss: -2.269048035144806|Val Loss: -1.8939063671231269\u001b[32m [repeated 14x across cluster]\u001b[0m\n",
      "\u001b[2m\u001b[36m(train_de pid=3626920)\u001b[0m Epoch: 45|Train Loss: -2.2662203311920166|Val Loss: -1.9955154870450498\u001b[32m [repeated 11x across cluster]\u001b[0m\n",
      "\u001b[2m\u001b[36m(train_de pid=3628561)\u001b[0m Epoch: 35|Train Loss: 0.20439490489661694|Val Loss: 0.15994181238813326\u001b[32m [repeated 14x across cluster]\u001b[0m\n",
      "\u001b[2m\u001b[36m(train_de pid=3626519)\u001b[0m Epoch: 12|Train Loss: -0.3008905202150345|Val Loss: 0.1950423282571137\u001b[32m [repeated 13x across cluster]\u001b[0m\n",
      "\u001b[2m\u001b[36m(train_de pid=3631571)\u001b[0m Epoch: 36|Train Loss: -2.2932206903185164|Val Loss: -1.8497094402994427\u001b[32m [repeated 11x across cluster]\u001b[0m\n",
      "\u001b[2m\u001b[36m(train_de pid=3628561)\u001b[0m Epoch: 39|Train Loss: -0.3611926957964897|Val Loss: 0.1815343400835991\u001b[32m [repeated 13x across cluster]\u001b[0m\n",
      "\u001b[2m\u001b[36m(train_de pid=3626920)\u001b[0m Epoch: 57|Train Loss: -2.2980878353118896|Val Loss: -2.088034349232912\u001b[32m [repeated 10x across cluster]\u001b[0m\n",
      "\u001b[2m\u001b[36m(train_de pid=3626657)\u001b[0m Early stopping triggered at epoch 47\n",
      "\u001b[2m\u001b[36m(train_de pid=3631571)\u001b[0m Epoch: 37|Train Loss: -1.7093702895300729|Val Loss: -2.087528288108962\u001b[32m [repeated 11x across cluster]\u001b[0m\n",
      "\u001b[2m\u001b[36m(train_de pid=3632074)\u001b[0m Epoch: 35|Train Loss: 0.5583651065826416|Val Loss: 0.2082937716692686\u001b[32m [repeated 11x across cluster]\u001b[0m\n",
      "\u001b[2m\u001b[36m(train_de pid=3626519)\u001b[0m Epoch: 16|Train Loss: -0.3405228704214096|Val Loss: 0.23267365852370858\u001b[32m [repeated 9x across cluster]\u001b[0m\n",
      "\u001b[2m\u001b[36m(train_de pid=3628561)\u001b[0m Epoch: 46|Train Loss: -0.08222385868430138|Val Loss: 0.17575409743236378\u001b[32m [repeated 9x across cluster]\u001b[0m\n",
      "\u001b[2m\u001b[36m(train_de pid=3627323)\u001b[0m Early stopping triggered at epoch 194\n",
      "\u001b[2m\u001b[36m(train_de pid=3626920)\u001b[0m Epoch: 68|Train Loss: -1.7947757542133331|Val Loss: -1.9991258768737317\u001b[32m [repeated 10x across cluster]\u001b[0m\n",
      "\u001b[2m\u001b[36m(train_de pid=3626519)\u001b[0m Epoch: 18|Train Loss: -0.2298133634030819|Val Loss: 0.19453911051154138\u001b[32m [repeated 8x across cluster]\u001b[0m\n",
      "\u001b[2m\u001b[36m(train_de pid=3632074)\u001b[0m Epoch: 38|Train Loss: -0.3133946657180786|Val Loss: 0.2803600797057152\u001b[32m [repeated 9x across cluster]\u001b[0m\n",
      "\u001b[2m\u001b[36m(train_de pid=3626920)\u001b[0m Epoch: 75|Train Loss: -2.249221980571747|Val Loss: -2.1326848255097866\u001b[32m [repeated 8x across cluster]\u001b[0m\n",
      "\u001b[2m\u001b[36m(train_de pid=3628737)\u001b[0m Epoch: 77|Train Loss: 0.4711447315556662|Val Loss: 0.19612390769379479\u001b[32m [repeated 8x across cluster]\u001b[0m\n",
      "\u001b[2m\u001b[36m(train_de pid=3626920)\u001b[0m Early stopping triggered at epoch 78\n",
      "\u001b[2m\u001b[36m(train_de pid=3628737)\u001b[0m Epoch: 79|Train Loss: 0.5865091255732945|Val Loss: 0.19769822583666868\u001b[32m [repeated 5x across cluster]\u001b[0m\n",
      "\u001b[2m\u001b[36m(train_de pid=3628737)\u001b[0m Epoch: 81|Train Loss: 0.0120107786996024|Val Loss: 0.19799403506730284\u001b[32m [repeated 6x across cluster]\u001b[0m\n",
      "\u001b[2m\u001b[36m(train_de pid=3632074)\u001b[0m Epoch: 41|Train Loss: -0.2086840122938156|Val Loss: 0.23103689692914486\u001b[32m [repeated 7x across cluster]\u001b[0m\n",
      "\u001b[2m\u001b[36m(train_de pid=3628737)\u001b[0m Epoch: 85|Train Loss: 0.1291255227157048|Val Loss: 0.1939868616525616\u001b[32m [repeated 5x across cluster]\u001b[0m\n",
      "\u001b[2m\u001b[36m(train_de pid=3626519)\u001b[0m Early stopping triggered at epoch 23\n",
      "\u001b[2m\u001b[36m(train_de pid=3628737)\u001b[0m Epoch: 87|Train Loss: 0.05633856462580817|Val Loss: 0.19733617700636386\u001b[32m [repeated 5x across cluster]\u001b[0m\n",
      "\u001b[2m\u001b[36m(train_de pid=3632074)\u001b[0m Epoch: 43|Train Loss: -0.15697889029979706|Val Loss: 0.4024441707134247\u001b[32m [repeated 5x across cluster]\u001b[0m\n",
      "\u001b[2m\u001b[36m(train_de pid=3628737)\u001b[0m Early stopping triggered at epoch 91\n",
      "\u001b[2m\u001b[36m(train_de pid=3631571)\u001b[0m Epoch: 42|Train Loss: -2.1180181673594882|Val Loss: -1.937766689828464\u001b[32m [repeated 5x across cluster]\u001b[0m\n",
      "\u001b[2m\u001b[36m(train_de pid=3632074)\u001b[0m Early stopping triggered at epoch 44\n",
      "\u001b[2m\u001b[36m(train_de pid=3628561)\u001b[0m Epoch: 64|Train Loss: 0.2258890811353922|Val Loss: 0.1767620345391333\u001b[32m [repeated 3x across cluster]\u001b[0m\n",
      "\u001b[2m\u001b[36m(train_de pid=3628561)\u001b[0m Epoch: 66|Train Loss: -0.0006297703366726637|Val Loss: 0.18420657824724912\u001b[32m [repeated 3x across cluster]\u001b[0m\n",
      "\u001b[2m\u001b[36m(train_de pid=3628561)\u001b[0m Early stopping triggered at epoch 68\n",
      "\u001b[2m\u001b[36m(train_de pid=3628561)\u001b[0m Epoch: 67|Train Loss: 0.5147521495819092|Val Loss: 0.18143799400422722\u001b[32m [repeated 3x across cluster]\u001b[0m\n",
      "\u001b[2m\u001b[36m(train_de pid=3628001)\u001b[0m Epoch: 57|Train Loss: -0.1676628010140525|Val Loss: 0.19970190844188135\u001b[32m [repeated 3x across cluster]\u001b[0m\n",
      "\u001b[2m\u001b[36m(train_de pid=3631571)\u001b[0m Early stopping triggered at epoch 44\n",
      "\u001b[2m\u001b[36m(train_de pid=3628001)\u001b[0m Epoch: 58|Train Loss: 0.3500191635555691|Val Loss: 0.2249223102380832\n",
      "\u001b[2m\u001b[36m(train_de pid=3628001)\u001b[0m Epoch: 59|Train Loss: -0.02697184681892395|Val Loss: 0.21835500246948666\n",
      "\u001b[2m\u001b[36m(train_de pid=3636609)\u001b[0m Epoch: 25|Train Loss: -0.1944200588124139|Val Loss: 0.20399383720542702\n",
      "\u001b[2m\u001b[36m(train_de pid=3628001)\u001b[0m Epoch: 60|Train Loss: -0.3320586118433211|Val Loss: 0.21444319871564707\n",
      "\u001b[2m\u001b[36m(train_de pid=3628001)\u001b[0m Epoch: 61|Train Loss: 0.1774347424507141|Val Loss: 0.2071966488659382\n",
      "\u001b[2m\u001b[36m(train_de pid=3628001)\u001b[0m Early stopping triggered at epoch 62\n",
      "\u001b[2m\u001b[36m(train_de pid=3636609)\u001b[0m Epoch: 26|Train Loss: -0.028871642691748484|Val Loss: 0.1959820100239345\n",
      "\u001b[2m\u001b[36m(train_de pid=3636609)\u001b[0m Epoch: 27|Train Loss: -0.01424286195210048|Val Loss: 0.20250796321247305\n",
      "\u001b[2m\u001b[36m(train_de pid=3636609)\u001b[0m Epoch: 28|Train Loss: 0.2413203035082136|Val Loss: 0.19767180874943732\n",
      "\u001b[2m\u001b[36m(train_de pid=3636609)\u001b[0m Epoch: 29|Train Loss: -0.08988635454859052|Val Loss: 0.2393281897476741\n",
      "\u001b[2m\u001b[36m(train_de pid=3636609)\u001b[0m Epoch: 30|Train Loss: 0.48438146710395813|Val Loss: 0.19111449613102846\n",
      "\u001b[2m\u001b[36m(train_de pid=3636609)\u001b[0m Epoch: 31|Train Loss: -0.21314313794885362|Val Loss: 0.19121501613940511\n",
      "\u001b[2m\u001b[36m(train_de pid=3636609)\u001b[0m Epoch: 32|Train Loss: -0.32127835495131357|Val Loss: 0.22594015472701617\n",
      "\u001b[2m\u001b[36m(train_de pid=3636609)\u001b[0m Epoch: 33|Train Loss: -0.1287857357944761|Val Loss: 0.19161490613860743\n",
      "\u001b[2m\u001b[36m(train_de pid=3636609)\u001b[0m Epoch: 34|Train Loss: 0.7037270069122314|Val Loss: 0.19223514963473592\n",
      "\u001b[2m\u001b[36m(train_de pid=3636609)\u001b[0m Epoch: 35|Train Loss: 0.28731074929237366|Val Loss: 0.19132738263479301\n",
      "\u001b[2m\u001b[36m(train_de pid=3636609)\u001b[0m Epoch: 36|Train Loss: 0.14313725914273942|Val Loss: 0.19105239368975163\n",
      "\u001b[2m\u001b[36m(train_de pid=3636609)\u001b[0m Epoch: 37|Train Loss: 0.2364689792905535|Val Loss: 0.1926867890357971\n",
      "\u001b[2m\u001b[36m(train_de pid=3636609)\u001b[0m Epoch: 38|Train Loss: -0.21812541144234793|Val Loss: 0.19418649166822433\n",
      "\u001b[2m\u001b[36m(train_de pid=3636609)\u001b[0m Epoch: 39|Train Loss: -0.3344735418047224|Val Loss: 0.19198093721909182\n",
      "\u001b[2m\u001b[36m(train_de pid=3636609)\u001b[0m Epoch: 40|Train Loss: -0.12062505313328334|Val Loss: 0.19693789349070617\n",
      "\u001b[2m\u001b[36m(train_de pid=3636609)\u001b[0m Epoch: 41|Train Loss: 0.7572969198226929|Val Loss: 0.1927922168906246\n",
      "\u001b[2m\u001b[36m(train_de pid=3636609)\u001b[0m Epoch: 42|Train Loss: -0.17091521620750427|Val Loss: 0.24033449860555786\n",
      "\u001b[2m\u001b[36m(train_de pid=3636609)\u001b[0m Epoch: 43|Train Loss: -0.18600019812583923|Val Loss: 0.20424284603978907\n",
      "\u001b[2m\u001b[36m(train_de pid=3636609)\u001b[0m Epoch: 44|Train Loss: 0.28924185037612915|Val Loss: 0.20550016276538371\n",
      "\u001b[2m\u001b[36m(train_de pid=3636609)\u001b[0m Epoch: 45|Train Loss: 0.5112499594688416|Val Loss: 0.19106203474104405\n",
      "\u001b[2m\u001b[36m(train_de pid=3636609)\u001b[0m Epoch: 46|Train Loss: -0.17305926978588104|Val Loss: 0.20703697726130485\n",
      "\u001b[2m\u001b[36m(train_de pid=3636609)\u001b[0m Epoch: 47|Train Loss: -0.2162482738494873|Val Loss: 0.19255528726748058\n",
      "\u001b[2m\u001b[36m(train_de pid=3636609)\u001b[0m Epoch: 48|Train Loss: -0.2684050670691899|Val Loss: 0.1911734263492482\n",
      "\u001b[2m\u001b[36m(train_de pid=3636609)\u001b[0m Epoch: 49|Train Loss: 0.4432045519351959|Val Loss: 0.23718184761703015\n",
      "\u001b[2m\u001b[36m(train_de pid=3636609)\u001b[0m Epoch: 50|Train Loss: 0.37346646189689636|Val Loss: 0.19561403762016977\n",
      "\u001b[2m\u001b[36m(train_de pid=3636609)\u001b[0m Epoch: 51|Train Loss: 0.22938436269760132|Val Loss: 0.19916942469775678\n",
      "\u001b[2m\u001b[36m(train_de pid=3636609)\u001b[0m Epoch: 52|Train Loss: 0.042850613594055176|Val Loss: 0.2100965917110443\n",
      "\u001b[2m\u001b[36m(train_de pid=3636609)\u001b[0m Epoch: 53|Train Loss: -0.30051812529563904|Val Loss: 0.19304541364312172\n",
      "\u001b[2m\u001b[36m(train_de pid=3636609)\u001b[0m Epoch: 54|Train Loss: 0.4080680012702942|Val Loss: 0.1921820653229952\n",
      "\u001b[2m\u001b[36m(train_de pid=3636609)\u001b[0m Epoch: 55|Train Loss: 0.18489393591880798|Val Loss: 0.2030962511152029\n",
      "\u001b[2m\u001b[36m(train_de pid=3636609)\u001b[0m Early stopping triggered at epoch 56\n"
     ]
    },
    {
     "name": "stderr",
     "output_type": "stream",
     "text": [
      "2023-11-28 16:35:13,092\tINFO tune.py:1148 -- Total run time: 3434.71 seconds (3434.48 seconds for the tuning loop).\n"
     ]
    }
   ],
   "source": [
    "import ray\n",
    "\n",
    "main(200,500)\n",
    "#  Stop Ray\n",
    "ray.shutdown()"
   ]
  }
 ],
 "metadata": {
  "kernelspec": {
   "display_name": "py39SAM",
   "language": "python",
   "name": "python3"
  },
  "language_info": {
   "codemirror_mode": {
    "name": "ipython",
    "version": 3
   },
   "file_extension": ".py",
   "mimetype": "text/x-python",
   "name": "python",
   "nbconvert_exporter": "python",
   "pygments_lexer": "ipython3",
   "version": "3.9.17"
  }
 },
 "nbformat": 4,
 "nbformat_minor": 2
}
