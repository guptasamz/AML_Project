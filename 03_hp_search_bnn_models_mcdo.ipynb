{
 "cells": [
  {
   "cell_type": "code",
   "execution_count": 1,
   "metadata": {},
   "outputs": [
    {
     "name": "stderr",
     "output_type": "stream",
     "text": [
      "2023-11-29 16:47:36.505999: I tensorflow/core/util/port.cc:110] oneDNN custom operations are on. You may see slightly different numerical results due to floating-point round-off errors from different computation orders. To turn them off, set the environment variable `TF_ENABLE_ONEDNN_OPTS=0`.\n",
      "2023-11-29 16:47:36.544801: I tensorflow/core/platform/cpu_feature_guard.cc:182] This TensorFlow binary is optimized to use available CPU instructions in performance-critical operations.\n",
      "To enable the following instructions: AVX2 AVX512F AVX512_VNNI FMA, in other operations, rebuild TensorFlow with the appropriate compiler flags.\n",
      "2023-11-29 16:47:37.194297: W tensorflow/compiler/tf2tensorrt/utils/py_utils.cc:38] TF-TRT Warning: Could not find TensorRT\n"
     ]
    }
   ],
   "source": [
    "import os\n",
    "import warnings\n",
    "warnings.filterwarnings('ignore')\n",
    "from sklearn.metrics import confusion_matrix, ConfusionMatrixDisplay\n",
    "import logging\n",
    "from tensorflow.keras.layers import *\n",
    "import tensorflow as tf\n",
    "import keras\n",
    "from keras import Model\n",
    "from keras import regularizers\n",
    "from keras.layers import Dense, Dropout\n",
    "from keras import layers\n",
    "import pandas as pd\n",
    "import numpy as np\n",
    "from sklearn.metrics import confusion_matrix\n",
    "import matplotlib.pyplot as plt\n",
    "from sklearn.metrics import precision_score, recall_score, f1_score\n",
    "from sklearn.model_selection import StratifiedKFold\n",
    "import pathlib\n",
    "import ast\n",
    "import json\n",
    "import coral_ordinal as coral\n",
    "from sklearn.metrics import precision_recall_fscore_support\n",
    "from tqdm import tqdm\n",
    "from imblearn.over_sampling import SMOTENC\n",
    "from numpy import loadtxt\n",
    "from sklearn.metrics import accuracy_score\n",
    "from sklearn.ensemble import RandomForestClassifier\n",
    "from xgboost import XGBClassifier\n",
    "from sklearn.svm import SVC\n",
    "import torch\n",
    "from torch.utils.data import TensorDataset, DataLoader\n",
    "from scipy import stats\n",
    "import matplotlib.pyplot as plt\n",
    "from matplotlib.pyplot import scatter, figure\n",
    "import math\n",
    "import numpy as np\n",
    "import math\n",
    "import numpy as np\n",
    "from scipy import stats\n",
    "import pandas as pd\n",
    "import seaborn as sns\n",
    "import torch\n",
    "import torch.nn as nn\n",
    "import torch.nn.functional as F\n",
    "import torch.optim as optim\n",
    "import matplotlib.pyplot as plt\n",
    "from matplotlib.pyplot import scatter, figure\n",
    "sns.set(rc={'figure.figsize':(9, 7)})\n",
    "from blitz.modules import BayesianLinear\n",
    "from blitz.utils import variational_estimator\n",
    "\n",
    "\n",
    "# os.environ[\"CUDA_VISIBLE_DEVICES\"] = \"-1\"\n",
    "# Coral Ordinal Function and Custom metric defining here\n",
    "os.environ[\"CUDA_VISIBLE_DEVICES\"] = \"-1\"\n",
    "MODEL_PATH = '../data/models/'\n",
    "DATA_DIR = '../data/'\n"
   ]
  },
  {
   "cell_type": "code",
   "execution_count": 2,
   "metadata": {},
   "outputs": [],
   "source": [
    "# Important functions for test accuracy and confusion matrix\n",
    "def predict_get_f1_accuracy(y_true, y_pred, num_classes):\n",
    "    # Resetting the index\n",
    "    y_true = y_true.reset_index(drop=True)\n",
    "\n",
    "    # Function for custom distance accuracy metric\n",
    "    def accuracy_metric(y_true, y_pred):\n",
    "        a = []\n",
    "\n",
    "        for i in range(len(y_true)):\n",
    "            yt = y_true[i]\n",
    "            yp = y_pred[i]\n",
    "\n",
    "            temp = 1 - (np.abs(yt - yp) / num_classes)\n",
    "            a.append(temp)\n",
    "        # print(a)\n",
    "        accuracy = sum(a) / len(y_true)\n",
    "\n",
    "        return accuracy\n",
    "\n",
    "    # Getting the f1 score using sklearn.metrics.precision_recall_fscore_support\n",
    "    f1_score_test = precision_recall_fscore_support(y_true, y_pred, average='weighted')\n",
    "\n",
    "    # Getting the custom distance accuracy metric\n",
    "    custom_accuracy_test = accuracy_metric(y_true, y_pred)\n",
    "\n",
    "    # Returing the values\n",
    "    return f1_score_test[2], custom_accuracy_test\n",
    "\n",
    "\n",
    "def save_confusion_matrix_func(y_test, yp, title, path, route_id):\n",
    "    cm = confusion_matrix(y_test, yp)\n",
    "    disp = ConfusionMatrixDisplay(confusion_matrix=cm)\n",
    "    # Plot the confusion matrix\n",
    "    fig, ax = plt.subplots(figsize=(8, 6))\n",
    "    _ = disp.plot(ax=ax)\n",
    "    # Add a title to the plot\n",
    "    ax.set_title(title + \" - Real Count\")\n",
    "    plt.savefig(f'{path}/CM_real_count_{route_id}.jpg')\n",
    "\n",
    "    # Getting the percentage CM\n",
    "    cm = ((cm * 100) / (cm.sum(axis=1)[:, np.newaxis]))\n",
    "    disp = ConfusionMatrixDisplay(confusion_matrix=cm)\n",
    "    # Plot the confusion matrix\n",
    "    fig, ax = plt.subplots(figsize=(8, 6))\n",
    "    _ = disp.plot(ax=ax)\n",
    "    # Add a title to the plot\n",
    "    ax.set_title(title + \" - Percentages\")\n",
    "    plt.savefig(f'{path}/CM_percentage_{route_id}.jpg')\n",
    "\n"
   ]
  },
  {
   "cell_type": "code",
   "execution_count": 3,
   "metadata": {},
   "outputs": [],
   "source": [
    "\n",
    "version = 'stl_1'\n",
    "log_version = 'stl_1'\n",
    "EPOCHS = 200\n",
    "\n",
    "DATA_DIR = '../data'\n",
    "\n",
    "pd.set_option('display.max_columns', None)"
   ]
  },
  {
   "cell_type": "code",
   "execution_count": 4,
   "metadata": {},
   "outputs": [],
   "source": [
    "path = '../data/new_data/data1/'\n",
    "\n",
    "train_df = pd.read_csv(f'{path}/Data1_Train.csv')\n",
    "val_df = pd.read_csv(f'{path}/Data1_Val.csv')\n",
    "test_df = pd.read_csv(f'{path}/Data1_Test.csv')"
   ]
  },
  {
   "cell_type": "code",
   "execution_count": 5,
   "metadata": {},
   "outputs": [],
   "source": [
    "tensor_train_data = torch.Tensor(train_df.Input1).unsqueeze(1)\n",
    "tensor_train_label = torch.Tensor(train_df.Output)\n",
    "\n",
    "tensor_val_data = torch.Tensor(val_df.Input1).unsqueeze(1)\n",
    "tensor_val_label = torch.Tensor(val_df.Output)\n",
    "\n",
    "tensor_test_data = torch.Tensor(test_df.Input1).unsqueeze(1)\n",
    "tensor_test_label = torch.Tensor(test_df.Output)\n",
    "\n",
    "train_dataset = TensorDataset(tensor_train_data, tensor_train_label)\n",
    "val_dataset = TensorDataset(tensor_val_data, tensor_val_label)\n"
   ]
  },
  {
   "cell_type": "code",
   "execution_count": 2,
   "metadata": {},
   "outputs": [],
   "source": [
    "import torch\n",
    "import torch.optim as optim\n",
    "from ray import tune\n",
    "from ray.tune.schedulers import ASHAScheduler\n",
    "\n",
    "class MCDO(nn.Module):\n",
    "    def __init__(self, num_features, hidden_size, n_layers, drop_out):\n",
    "        super(MCDO, self).__init__()\n",
    "\n",
    "        layers = []\n",
    "        input_size = num_features\n",
    "\n",
    "        # Create 'n' linear layers\n",
    "        for _ in range(n_layers - 1):  # n_layers - 1 because the last layer is the output layer\n",
    "            layers.append(nn.Linear(input_size, hidden_size))\n",
    "            input_size = hidden_size\n",
    "\n",
    "        # The last layer outputs a single value\n",
    "        self.out = nn.Linear(hidden_size, 1)\n",
    "        self.layers = nn.ModuleList(layers)\n",
    "        self.dropout = nn.Dropout(p=drop_out)\n",
    "\n",
    "    def forward(self, x):\n",
    "        for layer in self.layers:\n",
    "            x = self.dropout(torch.relu(layer(x)))\n",
    "        out = self.out(x)  # Apply the output layer\n",
    "        return out\n",
    "\n"
   ]
  },
  {
   "cell_type": "code",
   "execution_count": 7,
   "metadata": {},
   "outputs": [],
   "source": [
    "models = {}"
   ]
  },
  {
   "cell_type": "code",
   "execution_count": 8,
   "metadata": {},
   "outputs": [],
   "source": [
    "def train_mcdo(config):\n",
    "\n",
    "    hidden_size = int(config['hidden_size'])\n",
    "    num_layers = int(config['num_layers'])\n",
    "    patience = int(config['patience'])\n",
    "    batch_size = int(config['batch_size'])\n",
    "    \n",
    "    train_loader = DataLoader(train_dataset, batch_size=batch_size, shuffle=True)\n",
    "    val_loader = DataLoader(val_dataset, batch_size=batch_size, shuffle=True)\n",
    "\n",
    "    model_name = f'hs_{hidden_size}_nl_{num_layers}_do_{config[\"drop_out\"]}_ep_{config[\"epochs\"]}_p_{config[\"patience\"]}_lr_{config[\"lr\"]}_bs_{batch_size}.pt'\n",
    "\n",
    "    models[f'{model_name}']= MCDO(config[\"num_features\"], hidden_size, num_layers, config[\"drop_out\"])\n",
    "\n",
    "    criterion = torch.nn.MSELoss()\n",
    "    optimizer = optim.Adam(models[f'{model_name}'].parameters(), lr=config[\"lr\"])\n",
    "    device = 'cpu'\n",
    "    models[f'{model_name}'].to(device)\n",
    "    \n",
    "    best_model_dir = f'./models/'\n",
    "    pathlib.Path(best_model_dir).mkdir(parents=True, exist_ok=True) \n",
    "    best_model_path = f'{best_model_dir}/hs_{hidden_size}_nl_{num_layers}_do_{config[\"drop_out\"]}_ep_{config[\"epochs\"]}_p_{config[\"patience\"]}_lr_{config[\"lr\"]}_bs_{batch_size}'\n",
    "    best_val_loss = float('inf')\n",
    "    epochs_no_improve = 0\n",
    "\n",
    "    for epoch in range(config[\"epochs\"]):\n",
    "        models[f'{model_name}'].train()\n",
    "        # Train loop\n",
    "        for batch in train_loader:\n",
    "            x = batch[0].to(device)\n",
    "            y = batch[1].to(device)\n",
    "            optimizer.zero_grad()\n",
    "            out = models[f'{model_name}'](x)\n",
    "            loss = criterion(y, out)\n",
    "            loss.backward()\n",
    "            optimizer.step()\n",
    "\n",
    "        # Validation loop\n",
    "        models[f'{model_name}'].eval()\n",
    "        val_losses = []\n",
    "        with torch.no_grad():\n",
    "            for batch in val_loader:\n",
    "                x = batch[0].to(device)\n",
    "                y = batch[1].to(device)\n",
    "                out = models[f'{model_name}'](x)\n",
    "                val_loss = criterion(y, out)\n",
    "                val_losses.append(val_loss.item())\n",
    "        avg_val_loss = sum(val_losses) / len(val_losses)\n",
    "\n",
    "        # Early stopping and model saving logic\n",
    "        if avg_val_loss < best_val_loss:\n",
    "            best_val_loss = avg_val_loss\n",
    "            epochs_no_improve = 0\n",
    "            # Save the model state\n",
    "            torch.save(models[f'{model_name}'].state_dict(), best_model_path)\n",
    "        else:\n",
    "            epochs_no_improve += 1\n",
    "            if epochs_no_improve >= patience:\n",
    "                print(f'Early stopping triggered at epoch {epoch}')\n",
    "                break\n",
    "\n",
    "\n",
    "    tune.report(train_loss=loss,best_val_loss=best_val_loss)"
   ]
  },
  {
   "cell_type": "code",
   "execution_count": 10,
   "metadata": {},
   "outputs": [],
   "source": [
    "\n",
    "\n",
    "def main(num_samples=100, max_num_epochs=500):\n",
    "    \n",
    "\n",
    "    ray.init()\n",
    "\n",
    "    config = {\n",
    "        \"num_features\": 1,\n",
    "        \"hidden_size\": tune.quniform(1, 200, 1),\n",
    "        \"num_layers\": tune.quniform(2, 10, 1),\n",
    "        \"drop_out\": tune.uniform(0.1, 0.5),\n",
    "        \"lr\": tune.loguniform(1e-4, 1e-1),\n",
    "        \"epochs\": max_num_epochs,\n",
    "        \"patience\": tune.quniform(1, 50, 1),\n",
    "        \"batch_size\": tune.quniform(1, 20, 1)\n",
    "    }\n",
    "\n",
    "    from ray.tune.search import ConcurrencyLimiter\n",
    "    from ray.tune.search.bayesopt import BayesOptSearch\n",
    "    algo = BayesOptSearch(utility_kwargs={\"kind\": \"ucb\", \"kappa\": 2.5, \"xi\": 0.0})\n",
    "    algo = ConcurrencyLimiter(algo, max_concurrent=50)\n",
    "\n",
    "    result = tune.run(\n",
    "            tune.with_parameters(train_mcdo),\n",
    "            config=config,\n",
    "            resources_per_trial={\"cpu\": 1},\n",
    "            metric=\"best_val_loss\",\n",
    "            mode=\"min\",\n",
    "            search_alg=algo,\n",
    "            num_samples=num_samples,\n",
    "            # max_concurrent_trials=20,\n",
    "            local_dir= f'/home/sgupta/WORK/Triplevel_transformer_model/baselines/hyperparameter_search',\n",
    "            name=f\"experiment_mcdo\",\n",
    "            max_failures=7,\n",
    "            raise_on_failed_trial=False\n",
    "        )\n",
    "\n",
    "    temp = result.dataframe()   \n",
    "    hyperparams_path = f'./hyperparameter_search/'\n",
    "    temp.to_csv(f\"{hyperparams_path}/RAY_RESULTS_mcdo.csv\")\n"
   ]
  },
  {
   "cell_type": "code",
   "execution_count": 11,
   "metadata": {},
   "outputs": [
    {
     "name": "stderr",
     "output_type": "stream",
     "text": [
      "2023-11-28 14:13:40,814\tINFO worker.py:1612 -- Started a local Ray instance. View the dashboard at \u001b[1m\u001b[32m127.0.0.1:8265 \u001b[39m\u001b[22m\n",
      "2023-11-28 14:13:41,923\tINFO tune.py:657 -- [output] This uses the legacy output and progress reporter, as Jupyter notebooks are not supported by the new engine, yet. For more information, please see https://github.com/ray-project/ray/issues/36949\n",
      "2023-11-28 14:13:41,940\tWARNING bayesopt_search.py:421 -- BayesOpt search does not support quantization. Dropped quantization.\n",
      "2023-11-28 14:13:41,940\tWARNING bayesopt_search.py:431 -- BayesOpt does not support specific sampling methods. The Uniform sampler will be dropped.\n",
      "2023-11-28 14:13:41,941\tWARNING bayesopt_search.py:421 -- BayesOpt search does not support quantization. Dropped quantization.\n",
      "2023-11-28 14:13:41,941\tWARNING bayesopt_search.py:431 -- BayesOpt does not support specific sampling methods. The Uniform sampler will be dropped.\n",
      "2023-11-28 14:13:41,942\tWARNING bayesopt_search.py:431 -- BayesOpt does not support specific sampling methods. The LogUniform sampler will be dropped.\n",
      "2023-11-28 14:13:41,943\tWARNING bayesopt_search.py:421 -- BayesOpt search does not support quantization. Dropped quantization.\n",
      "2023-11-28 14:13:41,943\tWARNING bayesopt_search.py:431 -- BayesOpt does not support specific sampling methods. The Uniform sampler will be dropped.\n",
      "2023-11-28 14:13:41,943\tWARNING bayesopt_search.py:421 -- BayesOpt search does not support quantization. Dropped quantization.\n",
      "2023-11-28 14:13:41,944\tWARNING bayesopt_search.py:431 -- BayesOpt does not support specific sampling methods. The Uniform sampler will be dropped.\n"
     ]
    },
    {
     "data": {
      "text/html": [
       "<div class=\"tuneStatus\">\n",
       "  <div style=\"display: flex;flex-direction: row\">\n",
       "    <div style=\"display: flex;flex-direction: column;\">\n",
       "      <h3>Tune Status</h3>\n",
       "      <table>\n",
       "<tbody>\n",
       "<tr><td>Current time:</td><td>2023-11-28 14:30:18</td></tr>\n",
       "<tr><td>Running for: </td><td>00:16:36.74        </td></tr>\n",
       "<tr><td>Memory:      </td><td>15.4/125.5 GiB     </td></tr>\n",
       "</tbody>\n",
       "</table>\n",
       "    </div>\n",
       "    <div class=\"vDivider\"></div>\n",
       "    <div class=\"systemInfo\">\n",
       "      <h3>System Info</h3>\n",
       "      Using FIFO scheduling algorithm.<br>Logical resource usage: 1.0/36 CPUs, 0/1 GPUs (0.0/1.0 accelerator_type:G)\n",
       "    </div>\n",
       "    \n",
       "  </div>\n",
       "  <div class=\"hDivider\"></div>\n",
       "  <div class=\"trialStatus\">\n",
       "    <h3>Trial Status</h3>\n",
       "    <table>\n",
       "<thead>\n",
       "<tr><th>Trial name         </th><th>status    </th><th>loc                </th><th style=\"text-align: right;\">  batch_size</th><th style=\"text-align: right;\">  drop_out</th><th style=\"text-align: right;\">  hidden_size</th><th style=\"text-align: right;\">         lr</th><th style=\"text-align: right;\">  num_layers</th><th style=\"text-align: right;\">  patience</th><th style=\"text-align: right;\">  iter</th><th style=\"text-align: right;\">  total time (s)</th><th style=\"text-align: right;\">  best_val_loss</th></tr>\n",
       "</thead>\n",
       "<tbody>\n",
       "<tr><td>train_mcdo_7c74819b</td><td>TERMINATED</td><td>10.2.219.10:3489497</td><td style=\"text-align: right;\">     8.11626</td><td style=\"text-align: right;\">  0.480286</td><td style=\"text-align: right;\">    146.667  </td><td style=\"text-align: right;\">0.059906   </td><td style=\"text-align: right;\">     3.24815</td><td style=\"text-align: right;\">   8.64373</td><td style=\"text-align: right;\">     1</td><td style=\"text-align: right;\">        1.33194 </td><td style=\"text-align: right;\">     0.533149  </td></tr>\n",
       "<tr><td>train_mcdo_202b0411</td><td>TERMINATED</td><td>10.2.219.10:3489497</td><td style=\"text-align: right;\">     2.10359</td><td style=\"text-align: right;\">  0.44647 </td><td style=\"text-align: right;\">    120.622  </td><td style=\"text-align: right;\">0.0708365  </td><td style=\"text-align: right;\">     2.16468</td><td style=\"text-align: right;\">  48.5256 </td><td style=\"text-align: right;\">     1</td><td style=\"text-align: right;\">       11.129   </td><td style=\"text-align: right;\">     0.427368  </td></tr>\n",
       "<tr><td>train_mcdo_b8ec0464</td><td>TERMINATED</td><td>10.2.219.10:3489921</td><td style=\"text-align: right;\">    16.8164 </td><td style=\"text-align: right;\">  0.184936</td><td style=\"text-align: right;\">     37.1832 </td><td style=\"text-align: right;\">0.0184221  </td><td style=\"text-align: right;\">     4.43394</td><td style=\"text-align: right;\">  26.7131 </td><td style=\"text-align: right;\">     1</td><td style=\"text-align: right;\">        4.09456 </td><td style=\"text-align: right;\">     0.529194  </td></tr>\n",
       "<tr><td>train_mcdo_85a7747c</td><td>TERMINATED</td><td>10.2.219.10:3489981</td><td style=\"text-align: right;\">     9.20696</td><td style=\"text-align: right;\">  0.216492</td><td style=\"text-align: right;\">    122.759  </td><td style=\"text-align: right;\">0.0140354  </td><td style=\"text-align: right;\">     4.33716</td><td style=\"text-align: right;\">  18.9517 </td><td style=\"text-align: right;\">     1</td><td style=\"text-align: right;\">        3.38858 </td><td style=\"text-align: right;\">     0.516512  </td></tr>\n",
       "<tr><td>train_mcdo_656eb279</td><td>TERMINATED</td><td>10.2.219.10:3489921</td><td style=\"text-align: right;\">     9.66533</td><td style=\"text-align: right;\">  0.41407 </td><td style=\"text-align: right;\">     40.7351 </td><td style=\"text-align: right;\">0.051472   </td><td style=\"text-align: right;\">     6.73932</td><td style=\"text-align: right;\">   3.27607</td><td style=\"text-align: right;\">     1</td><td style=\"text-align: right;\">        0.512206</td><td style=\"text-align: right;\">     0.523712  </td></tr>\n",
       "<tr><td>train_mcdo_92ccbf83</td><td>TERMINATED</td><td>10.2.219.10:3489921</td><td style=\"text-align: right;\">    12.5434 </td><td style=\"text-align: right;\">  0.16821 </td><td style=\"text-align: right;\">     13.9453 </td><td style=\"text-align: right;\">0.0948937  </td><td style=\"text-align: right;\">     9.72506</td><td style=\"text-align: right;\">  40.6115 </td><td style=\"text-align: right;\">     1</td><td style=\"text-align: right;\">       12.5571  </td><td style=\"text-align: right;\">     0.535531  </td></tr>\n",
       "<tr><td>train_mcdo_e7f5e3d1</td><td>TERMINATED</td><td>10.2.219.10:3489981</td><td style=\"text-align: right;\">     6.78766</td><td style=\"text-align: right;\">  0.139069</td><td style=\"text-align: right;\">    137.162  </td><td style=\"text-align: right;\">0.0440712  </td><td style=\"text-align: right;\">     2.97631</td><td style=\"text-align: right;\">  25.2637 </td><td style=\"text-align: right;\">     1</td><td style=\"text-align: right;\">        3.81033 </td><td style=\"text-align: right;\">     0.516961  </td></tr>\n",
       "<tr><td>train_mcdo_624f6c33</td><td>TERMINATED</td><td>10.2.219.10:3489497</td><td style=\"text-align: right;\">     1.65338</td><td style=\"text-align: right;\">  0.463728</td><td style=\"text-align: right;\">     52.4972 </td><td style=\"text-align: right;\">0.066286   </td><td style=\"text-align: right;\">     4.49369</td><td style=\"text-align: right;\">  26.4833 </td><td style=\"text-align: right;\">     1</td><td style=\"text-align: right;\">       29.1252  </td><td style=\"text-align: right;\">     0.539037  </td></tr>\n",
       "<tr><td>train_mcdo_f92acfe9</td><td>TERMINATED</td><td>10.2.219.10:3489981</td><td style=\"text-align: right;\">    11.3875 </td><td style=\"text-align: right;\">  0.173942</td><td style=\"text-align: right;\">    193.947  </td><td style=\"text-align: right;\">0.0775358  </td><td style=\"text-align: right;\">     9.51599</td><td style=\"text-align: right;\">  44.8465 </td><td style=\"text-align: right;\">     1</td><td style=\"text-align: right;\">       15.9416  </td><td style=\"text-align: right;\">     0.596421  </td></tr>\n",
       "<tr><td>train_mcdo_49b05a97</td><td>TERMINATED</td><td>10.2.219.10:3490249</td><td style=\"text-align: right;\">    12.3601 </td><td style=\"text-align: right;\">  0.46875 </td><td style=\"text-align: right;\">     18.61   </td><td style=\"text-align: right;\">0.0196787  </td><td style=\"text-align: right;\">     2.36182</td><td style=\"text-align: right;\">  16.9412 </td><td style=\"text-align: right;\">     1</td><td style=\"text-align: right;\">        1.76486 </td><td style=\"text-align: right;\">     0.534528  </td></tr>\n",
       "<tr><td>train_mcdo_c274566b</td><td>TERMINATED</td><td>10.2.219.10:3490249</td><td style=\"text-align: right;\">    20      </td><td style=\"text-align: right;\">  0.1     </td><td style=\"text-align: right;\">    200      </td><td style=\"text-align: right;\">0.0427498  </td><td style=\"text-align: right;\">    10      </td><td style=\"text-align: right;\">  22.5064 </td><td style=\"text-align: right;\">     1</td><td style=\"text-align: right;\">        9.78112 </td><td style=\"text-align: right;\">     0.538911  </td></tr>\n",
       "<tr><td>train_mcdo_175ba570</td><td>TERMINATED</td><td>10.2.219.10:3490574</td><td style=\"text-align: right;\">     9.58478</td><td style=\"text-align: right;\">  0.375475</td><td style=\"text-align: right;\">    195.39   </td><td style=\"text-align: right;\">0.0521788  </td><td style=\"text-align: right;\">     7.8758 </td><td style=\"text-align: right;\">  44.9112 </td><td style=\"text-align: right;\">     1</td><td style=\"text-align: right;\">       16.9456  </td><td style=\"text-align: right;\">     0.52269   </td></tr>\n",
       "<tr><td>train_mcdo_1aa26374</td><td>TERMINATED</td><td>10.2.219.10:3490633</td><td style=\"text-align: right;\">     9.39653</td><td style=\"text-align: right;\">  0.226527</td><td style=\"text-align: right;\">    195.106  </td><td style=\"text-align: right;\">0.0209182  </td><td style=\"text-align: right;\">     9.48501</td><td style=\"text-align: right;\">  44.4201 </td><td style=\"text-align: right;\">     1</td><td style=\"text-align: right;\">       52.1731  </td><td style=\"text-align: right;\">     0.523292  </td></tr>\n",
       "<tr><td>train_mcdo_7425e603</td><td>TERMINATED</td><td>10.2.219.10:3490249</td><td style=\"text-align: right;\">    20      </td><td style=\"text-align: right;\">  0.1     </td><td style=\"text-align: right;\">    200      </td><td style=\"text-align: right;\">0.0001     </td><td style=\"text-align: right;\">    10      </td><td style=\"text-align: right;\">  22.6313 </td><td style=\"text-align: right;\">     1</td><td style=\"text-align: right;\">        2.88737 </td><td style=\"text-align: right;\">     0.538944  </td></tr>\n",
       "<tr><td>train_mcdo_782a8f9c</td><td>TERMINATED</td><td>10.2.219.10:3490249</td><td style=\"text-align: right;\">     1      </td><td style=\"text-align: right;\">  0.5     </td><td style=\"text-align: right;\">    183.67   </td><td style=\"text-align: right;\">0.0001     </td><td style=\"text-align: right;\">     2      </td><td style=\"text-align: right;\">  50      </td><td style=\"text-align: right;\">     1</td><td style=\"text-align: right;\">      255.411   </td><td style=\"text-align: right;\">     0.0106569 </td></tr>\n",
       "<tr><td>train_mcdo_c38d3689</td><td>TERMINATED</td><td>10.2.219.10:3490794</td><td style=\"text-align: right;\">     1      </td><td style=\"text-align: right;\">  0.1     </td><td style=\"text-align: right;\">    184.38   </td><td style=\"text-align: right;\">0.1        </td><td style=\"text-align: right;\">     2      </td><td style=\"text-align: right;\">  50      </td><td style=\"text-align: right;\">     1</td><td style=\"text-align: right;\">       22.8248  </td><td style=\"text-align: right;\">     0.0644309 </td></tr>\n",
       "<tr><td>train_mcdo_c394d391</td><td>TERMINATED</td><td>10.2.219.10:3490881</td><td style=\"text-align: right;\">     1      </td><td style=\"text-align: right;\">  0.5     </td><td style=\"text-align: right;\">    184.319  </td><td style=\"text-align: right;\">0.1        </td><td style=\"text-align: right;\">     2      </td><td style=\"text-align: right;\">  50      </td><td style=\"text-align: right;\">     1</td><td style=\"text-align: right;\">       23.2926  </td><td style=\"text-align: right;\">     0.0365804 </td></tr>\n",
       "<tr><td>train_mcdo_10c61dc4</td><td>TERMINATED</td><td>10.2.219.10:3490574</td><td style=\"text-align: right;\">     1      </td><td style=\"text-align: right;\">  0.1     </td><td style=\"text-align: right;\">    184.305  </td><td style=\"text-align: right;\">0.1        </td><td style=\"text-align: right;\">     2      </td><td style=\"text-align: right;\">  50      </td><td style=\"text-align: right;\">     1</td><td style=\"text-align: right;\">       25.024   </td><td style=\"text-align: right;\">     0.0406359 </td></tr>\n",
       "<tr><td>train_mcdo_04692492</td><td>TERMINATED</td><td>10.2.219.10:3490943</td><td style=\"text-align: right;\">    12.096  </td><td style=\"text-align: right;\">  0.390161</td><td style=\"text-align: right;\">    192.006  </td><td style=\"text-align: right;\">0.0271972  </td><td style=\"text-align: right;\">     9.00111</td><td style=\"text-align: right;\">  43.9057 </td><td style=\"text-align: right;\">     1</td><td style=\"text-align: right;\">       29.6748  </td><td style=\"text-align: right;\">     0.535047  </td></tr>\n",
       "<tr><td>train_mcdo_b45702e6</td><td>TERMINATED</td><td>10.2.219.10:3491040</td><td style=\"text-align: right;\">    12.6553 </td><td style=\"text-align: right;\">  0.1     </td><td style=\"text-align: right;\">    192.932  </td><td style=\"text-align: right;\">0.0954512  </td><td style=\"text-align: right;\">    10      </td><td style=\"text-align: right;\">  44.7996 </td><td style=\"text-align: right;\">     1</td><td style=\"text-align: right;\">       16.2228  </td><td style=\"text-align: right;\">     0.694042  </td></tr>\n",
       "<tr><td>train_mcdo_9f4f88d2</td><td>TERMINATED</td><td>10.2.219.10:3491082</td><td style=\"text-align: right;\">    11.6557 </td><td style=\"text-align: right;\">  0.158931</td><td style=\"text-align: right;\">    193.113  </td><td style=\"text-align: right;\">0.0618556  </td><td style=\"text-align: right;\">     9.68304</td><td style=\"text-align: right;\">  42.0552 </td><td style=\"text-align: right;\">     1</td><td style=\"text-align: right;\">       82.0113  </td><td style=\"text-align: right;\">     0.521473  </td></tr>\n",
       "<tr><td>train_mcdo_8f01c354</td><td>TERMINATED</td><td>10.2.219.10:3491140</td><td style=\"text-align: right;\">    12.653  </td><td style=\"text-align: right;\">  0.1     </td><td style=\"text-align: right;\">    192.928  </td><td style=\"text-align: right;\">0.0983176  </td><td style=\"text-align: right;\">    10      </td><td style=\"text-align: right;\">  44.7991 </td><td style=\"text-align: right;\">     1</td><td style=\"text-align: right;\">       19.9285  </td><td style=\"text-align: right;\">     0.536859  </td></tr>\n",
       "<tr><td>train_mcdo_65807b47</td><td>TERMINATED</td><td>10.2.219.10:3491208</td><td style=\"text-align: right;\">    13.0488 </td><td style=\"text-align: right;\">  0.136592</td><td style=\"text-align: right;\">    193.615  </td><td style=\"text-align: right;\">0.0263537  </td><td style=\"text-align: right;\">     9.73814</td><td style=\"text-align: right;\">  44.4546 </td><td style=\"text-align: right;\">     1</td><td style=\"text-align: right;\">       31.1946  </td><td style=\"text-align: right;\">     0.531915  </td></tr>\n",
       "<tr><td>train_mcdo_d7145192</td><td>TERMINATED</td><td>10.2.219.10:3490794</td><td style=\"text-align: right;\">    11.1492 </td><td style=\"text-align: right;\">  0.311187</td><td style=\"text-align: right;\">    195.176  </td><td style=\"text-align: right;\">0.0748225  </td><td style=\"text-align: right;\">     9.95447</td><td style=\"text-align: right;\">  45.717  </td><td style=\"text-align: right;\">     1</td><td style=\"text-align: right;\">       22.8956  </td><td style=\"text-align: right;\">     0.519753  </td></tr>\n",
       "<tr><td>train_mcdo_edcd5539</td><td>TERMINATED</td><td>10.2.219.10:3490881</td><td style=\"text-align: right;\">    19.1224 </td><td style=\"text-align: right;\">  0.215548</td><td style=\"text-align: right;\">    194.662  </td><td style=\"text-align: right;\">0.0607729  </td><td style=\"text-align: right;\">     9.90441</td><td style=\"text-align: right;\">  38.9517 </td><td style=\"text-align: right;\">     1</td><td style=\"text-align: right;\">       51.899   </td><td style=\"text-align: right;\">     0.534363  </td></tr>\n",
       "<tr><td>train_mcdo_7978aa26</td><td>TERMINATED</td><td>10.2.219.10:3491040</td><td style=\"text-align: right;\">    17.6253 </td><td style=\"text-align: right;\">  0.1     </td><td style=\"text-align: right;\">    193.437  </td><td style=\"text-align: right;\">0.1        </td><td style=\"text-align: right;\">    10      </td><td style=\"text-align: right;\">  42.3619 </td><td style=\"text-align: right;\">     1</td><td style=\"text-align: right;\">       17.7365  </td><td style=\"text-align: right;\">     0.541181  </td></tr>\n",
       "<tr><td>train_mcdo_c04a2fe3</td><td>TERMINATED</td><td>10.2.219.10:3490574</td><td style=\"text-align: right;\">    17.0658 </td><td style=\"text-align: right;\">  0.1     </td><td style=\"text-align: right;\">    190.418  </td><td style=\"text-align: right;\">0.1        </td><td style=\"text-align: right;\">    10      </td><td style=\"text-align: right;\">  44.3319 </td><td style=\"text-align: right;\">     1</td><td style=\"text-align: right;\">       21.4233  </td><td style=\"text-align: right;\">     0.534864  </td></tr>\n",
       "<tr><td>train_mcdo_f0ea0156</td><td>TERMINATED</td><td>10.2.219.10:3491432</td><td style=\"text-align: right;\">    11.8798 </td><td style=\"text-align: right;\">  0.322563</td><td style=\"text-align: right;\">    192.49   </td><td style=\"text-align: right;\">0.00640145 </td><td style=\"text-align: right;\">     8.93493</td><td style=\"text-align: right;\">  43.9263 </td><td style=\"text-align: right;\">     1</td><td style=\"text-align: right;\">       14.8781  </td><td style=\"text-align: right;\">     0.517803  </td></tr>\n",
       "<tr><td>train_mcdo_def0cab2</td><td>TERMINATED</td><td>10.2.219.10:3491539</td><td style=\"text-align: right;\">    11.4059 </td><td style=\"text-align: right;\">  0.390503</td><td style=\"text-align: right;\">    191.846  </td><td style=\"text-align: right;\">0.0916134  </td><td style=\"text-align: right;\">     8.92088</td><td style=\"text-align: right;\">  48.06   </td><td style=\"text-align: right;\">     1</td><td style=\"text-align: right;\">       40.2269  </td><td style=\"text-align: right;\">     0.523362  </td></tr>\n",
       "<tr><td>train_mcdo_520fe050</td><td>TERMINATED</td><td>10.2.219.10:3490943</td><td style=\"text-align: right;\">    12.0507 </td><td style=\"text-align: right;\">  0.432346</td><td style=\"text-align: right;\">    190.389  </td><td style=\"text-align: right;\">0.0835036  </td><td style=\"text-align: right;\">     9.65351</td><td style=\"text-align: right;\">  44.7452 </td><td style=\"text-align: right;\">     1</td><td style=\"text-align: right;\">       24.996   </td><td style=\"text-align: right;\">     0.575485  </td></tr>\n",
       "<tr><td>train_mcdo_1c28836c</td><td>TERMINATED</td><td>10.2.219.10:3491140</td><td style=\"text-align: right;\">    12.1197 </td><td style=\"text-align: right;\">  0.38321 </td><td style=\"text-align: right;\">    194.972  </td><td style=\"text-align: right;\">0.0491999  </td><td style=\"text-align: right;\">     9.47694</td><td style=\"text-align: right;\">  43.6921 </td><td style=\"text-align: right;\">     1</td><td style=\"text-align: right;\">       36.9756  </td><td style=\"text-align: right;\">     0.533235  </td></tr>\n",
       "<tr><td>train_mcdo_a7da9006</td><td>TERMINATED</td><td>10.2.219.10:3491615</td><td style=\"text-align: right;\">     6.42199</td><td style=\"text-align: right;\">  0.328161</td><td style=\"text-align: right;\">    148.639  </td><td style=\"text-align: right;\">0.0913275  </td><td style=\"text-align: right;\">     2.63454</td><td style=\"text-align: right;\">  35.6404 </td><td style=\"text-align: right;\">     1</td><td style=\"text-align: right;\">        3.50551 </td><td style=\"text-align: right;\">     0.523017  </td></tr>\n",
       "<tr><td>train_mcdo_e9111841</td><td>TERMINATED</td><td>10.2.219.10:3490633</td><td style=\"text-align: right;\">    11.1882 </td><td style=\"text-align: right;\">  0.495829</td><td style=\"text-align: right;\">    133.053  </td><td style=\"text-align: right;\">0.000460628</td><td style=\"text-align: right;\">     6.00086</td><td style=\"text-align: right;\">  15.4612 </td><td style=\"text-align: right;\">     1</td><td style=\"text-align: right;\">        3.28913 </td><td style=\"text-align: right;\">     0.519938  </td></tr>\n",
       "<tr><td>train_mcdo_7c651339</td><td>TERMINATED</td><td>10.2.219.10:3491615</td><td style=\"text-align: right;\">     2.24446</td><td style=\"text-align: right;\">  0.227257</td><td style=\"text-align: right;\">     87.1702 </td><td style=\"text-align: right;\">0.0998655  </td><td style=\"text-align: right;\">     2.51446</td><td style=\"text-align: right;\">  35.1136 </td><td style=\"text-align: right;\">     1</td><td style=\"text-align: right;\">       12.9399  </td><td style=\"text-align: right;\">     0.440307  </td></tr>\n",
       "<tr><td>train_mcdo_b9529a5e</td><td>TERMINATED</td><td>10.2.219.10:3491040</td><td style=\"text-align: right;\">    11.1466 </td><td style=\"text-align: right;\">  0.289163</td><td style=\"text-align: right;\">      5.18634</td><td style=\"text-align: right;\">0.0578942  </td><td style=\"text-align: right;\">     7.03678</td><td style=\"text-align: right;\">  31.9686 </td><td style=\"text-align: right;\">     1</td><td style=\"text-align: right;\">        6.95115 </td><td style=\"text-align: right;\">     0.517448  </td></tr>\n",
       "<tr><td>train_mcdo_a35e36a7</td><td>TERMINATED</td><td>10.2.219.10:3490633</td><td style=\"text-align: right;\">    11.7297 </td><td style=\"text-align: right;\">  0.330467</td><td style=\"text-align: right;\">    141.353  </td><td style=\"text-align: right;\">0.00815266 </td><td style=\"text-align: right;\">     3.15239</td><td style=\"text-align: right;\">   8.00483</td><td style=\"text-align: right;\">     1</td><td style=\"text-align: right;\">        3.12455 </td><td style=\"text-align: right;\">     0.525712  </td></tr>\n",
       "<tr><td>train_mcdo_1953c46a</td><td>TERMINATED</td><td>10.2.219.10:3490794</td><td style=\"text-align: right;\">    16.6731 </td><td style=\"text-align: right;\">  0.127092</td><td style=\"text-align: right;\">    191.489  </td><td style=\"text-align: right;\">0.0340468  </td><td style=\"text-align: right;\">     2.38384</td><td style=\"text-align: right;\">  34.7639 </td><td style=\"text-align: right;\">     1</td><td style=\"text-align: right;\">        2.07232 </td><td style=\"text-align: right;\">     0.529367  </td></tr>\n",
       "<tr><td>train_mcdo_a78d8cc2</td><td>TERMINATED</td><td>10.2.219.10:3491432</td><td style=\"text-align: right;\">    12.3105 </td><td style=\"text-align: right;\">  0.107918</td><td style=\"text-align: right;\">      7.64998</td><td style=\"text-align: right;\">0.0214356  </td><td style=\"text-align: right;\">     4.07109</td><td style=\"text-align: right;\">   9.98711</td><td style=\"text-align: right;\">     1</td><td style=\"text-align: right;\">        1.27212 </td><td style=\"text-align: right;\">     0.534916  </td></tr>\n",
       "<tr><td>train_mcdo_e0beb724</td><td>TERMINATED</td><td>10.2.219.10:3490794</td><td style=\"text-align: right;\">     1.61804</td><td style=\"text-align: right;\">  0.166853</td><td style=\"text-align: right;\">    180.27   </td><td style=\"text-align: right;\">0.0885821  </td><td style=\"text-align: right;\">     8.13631</td><td style=\"text-align: right;\">  12.1254 </td><td style=\"text-align: right;\">     1</td><td style=\"text-align: right;\">      133.127   </td><td style=\"text-align: right;\">     0.539155  </td></tr>\n",
       "<tr><td>train_mcdo_4e159928</td><td>TERMINATED</td><td>10.2.219.10:3490633</td><td style=\"text-align: right;\">     5.26565</td><td style=\"text-align: right;\">  0.404228</td><td style=\"text-align: right;\">     55.0281 </td><td style=\"text-align: right;\">0.00356716 </td><td style=\"text-align: right;\">     3.23463</td><td style=\"text-align: right;\">  48.7199 </td><td style=\"text-align: right;\">     1</td><td style=\"text-align: right;\">       12.6468  </td><td style=\"text-align: right;\">     0.501328  </td></tr>\n",
       "<tr><td>train_mcdo_663f6f13</td><td>TERMINATED</td><td>10.2.219.10:3491432</td><td style=\"text-align: right;\">     6.99044</td><td style=\"text-align: right;\">  0.226799</td><td style=\"text-align: right;\">     83.796  </td><td style=\"text-align: right;\">0.0644538  </td><td style=\"text-align: right;\">     3.51916</td><td style=\"text-align: right;\">  40.3145 </td><td style=\"text-align: right;\">     1</td><td style=\"text-align: right;\">        6.1193  </td><td style=\"text-align: right;\">     0.529684  </td></tr>\n",
       "<tr><td>train_mcdo_2469bc67</td><td>TERMINATED</td><td>10.2.219.10:3490574</td><td style=\"text-align: right;\">     1.36228</td><td style=\"text-align: right;\">  0.43474 </td><td style=\"text-align: right;\">    194.094  </td><td style=\"text-align: right;\">0.069387   </td><td style=\"text-align: right;\">     9.39167</td><td style=\"text-align: right;\">  48.3028 </td><td style=\"text-align: right;\">     1</td><td style=\"text-align: right;\">      350.139   </td><td style=\"text-align: right;\">     0.539457  </td></tr>\n",
       "<tr><td>train_mcdo_1d14e2c7</td><td>TERMINATED</td><td>10.2.219.10:3491208</td><td style=\"text-align: right;\">     1.17589</td><td style=\"text-align: right;\">  0.216927</td><td style=\"text-align: right;\">     92.5167 </td><td style=\"text-align: right;\">0.0368479  </td><td style=\"text-align: right;\">     6.89604</td><td style=\"text-align: right;\">  17.7068 </td><td style=\"text-align: right;\">     1</td><td style=\"text-align: right;\">       29.9807  </td><td style=\"text-align: right;\">     0.538958  </td></tr>\n",
       "<tr><td>train_mcdo_83f776ef</td><td>TERMINATED</td><td>10.2.219.10:3491040</td><td style=\"text-align: right;\">    16.7653 </td><td style=\"text-align: right;\">  0.125641</td><td style=\"text-align: right;\">    122.852  </td><td style=\"text-align: right;\">0.0270866  </td><td style=\"text-align: right;\">     6.4848 </td><td style=\"text-align: right;\">  20.0634 </td><td style=\"text-align: right;\">     1</td><td style=\"text-align: right;\">        2.33265 </td><td style=\"text-align: right;\">     0.532718  </td></tr>\n",
       "<tr><td>train_mcdo_70c98bbb</td><td>TERMINATED</td><td>10.2.219.10:3491040</td><td style=\"text-align: right;\">     4.45366</td><td style=\"text-align: right;\">  0.114196</td><td style=\"text-align: right;\">    121.899  </td><td style=\"text-align: right;\">0.0436525  </td><td style=\"text-align: right;\">     2.04553</td><td style=\"text-align: right;\">  14.5162 </td><td style=\"text-align: right;\">     1</td><td style=\"text-align: right;\">        5.36823 </td><td style=\"text-align: right;\">     0.492326  </td></tr>\n",
       "<tr><td>train_mcdo_79a6f498</td><td>TERMINATED</td><td>10.2.219.10:3491432</td><td style=\"text-align: right;\">     7.9832 </td><td style=\"text-align: right;\">  0.285696</td><td style=\"text-align: right;\">    158.164  </td><td style=\"text-align: right;\">0.056096   </td><td style=\"text-align: right;\">     3.18058</td><td style=\"text-align: right;\">   5.5011 </td><td style=\"text-align: right;\">     1</td><td style=\"text-align: right;\">        1.23286 </td><td style=\"text-align: right;\">     0.519871  </td></tr>\n",
       "<tr><td>train_mcdo_c4a5ca42</td><td>TERMINATED</td><td>10.2.219.10:3491432</td><td style=\"text-align: right;\">     4.28629</td><td style=\"text-align: right;\">  0.417709</td><td style=\"text-align: right;\">    109.485  </td><td style=\"text-align: right;\">0.0414614  </td><td style=\"text-align: right;\">     3.8612 </td><td style=\"text-align: right;\">  27.2018 </td><td style=\"text-align: right;\">     1</td><td style=\"text-align: right;\">        7.28401 </td><td style=\"text-align: right;\">     0.518321  </td></tr>\n",
       "<tr><td>train_mcdo_7a9237ac</td><td>TERMINATED</td><td>10.2.219.10:3491615</td><td style=\"text-align: right;\">    17.3798 </td><td style=\"text-align: right;\">  0.404082</td><td style=\"text-align: right;\">     50.702  </td><td style=\"text-align: right;\">0.0418863  </td><td style=\"text-align: right;\">     7.48698</td><td style=\"text-align: right;\">   4.38875</td><td style=\"text-align: right;\">     1</td><td style=\"text-align: right;\">        0.862178</td><td style=\"text-align: right;\">     0.537981  </td></tr>\n",
       "<tr><td>train_mcdo_cfb52439</td><td>TERMINATED</td><td>10.2.219.10:3491615</td><td style=\"text-align: right;\">     9.9403 </td><td style=\"text-align: right;\">  0.359268</td><td style=\"text-align: right;\">     63.9962 </td><td style=\"text-align: right;\">0.0132939  </td><td style=\"text-align: right;\">     7.09931</td><td style=\"text-align: right;\">  15.5931 </td><td style=\"text-align: right;\">     1</td><td style=\"text-align: right;\">        5.15661 </td><td style=\"text-align: right;\">     0.528815  </td></tr>\n",
       "<tr><td>train_mcdo_2e01ec83</td><td>TERMINATED</td><td>10.2.219.10:3491040</td><td style=\"text-align: right;\">    16.717  </td><td style=\"text-align: right;\">  0.188987</td><td style=\"text-align: right;\">    168.104  </td><td style=\"text-align: right;\">0.0386247  </td><td style=\"text-align: right;\">     2.38886</td><td style=\"text-align: right;\">  48.5996 </td><td style=\"text-align: right;\">     1</td><td style=\"text-align: right;\">        5.15748 </td><td style=\"text-align: right;\">     0.528224  </td></tr>\n",
       "<tr><td>train_mcdo_ed697216</td><td>TERMINATED</td><td>10.2.219.10:3490633</td><td style=\"text-align: right;\">     3.40022</td><td style=\"text-align: right;\">  0.193066</td><td style=\"text-align: right;\">     94.353  </td><td style=\"text-align: right;\">0.0530871  </td><td style=\"text-align: right;\">     4.65753</td><td style=\"text-align: right;\">  37.3659 </td><td style=\"text-align: right;\">     1</td><td style=\"text-align: right;\">       37.7662  </td><td style=\"text-align: right;\">     0.536591  </td></tr>\n",
       "<tr><td>train_mcdo_de1f6075</td><td>TERMINATED</td><td>10.2.219.10:3490943</td><td style=\"text-align: right;\">    14.7438 </td><td style=\"text-align: right;\">  0.113429</td><td style=\"text-align: right;\">     99.805  </td><td style=\"text-align: right;\">0.0988369  </td><td style=\"text-align: right;\">     4.13001</td><td style=\"text-align: right;\">   5.18965</td><td style=\"text-align: right;\">     1</td><td style=\"text-align: right;\">        0.761009</td><td style=\"text-align: right;\">     0.538631  </td></tr>\n",
       "<tr><td>train_mcdo_53992bb3</td><td>TERMINATED</td><td>10.2.219.10:3490943</td><td style=\"text-align: right;\">    16.2889 </td><td style=\"text-align: right;\">  0.41564 </td><td style=\"text-align: right;\">     19.0425 </td><td style=\"text-align: right;\">0.00461866 </td><td style=\"text-align: right;\">     9.26581</td><td style=\"text-align: right;\">  31.6678 </td><td style=\"text-align: right;\">     1</td><td style=\"text-align: right;\">        8.21444 </td><td style=\"text-align: right;\">     0.530845  </td></tr>\n",
       "<tr><td>train_mcdo_34efaac4</td><td>TERMINATED</td><td>10.2.219.10:3491432</td><td style=\"text-align: right;\">    19.6141 </td><td style=\"text-align: right;\">  0.210178</td><td style=\"text-align: right;\">     32.1811 </td><td style=\"text-align: right;\">0.071946   </td><td style=\"text-align: right;\">     4.52243</td><td style=\"text-align: right;\">  41.983  </td><td style=\"text-align: right;\">     1</td><td style=\"text-align: right;\">        5.40339 </td><td style=\"text-align: right;\">     0.530733  </td></tr>\n",
       "<tr><td>train_mcdo_d9af78ec</td><td>TERMINATED</td><td>10.2.219.10:3491615</td><td style=\"text-align: right;\">     2.95269</td><td style=\"text-align: right;\">  0.1898  </td><td style=\"text-align: right;\">    198.747  </td><td style=\"text-align: right;\">0.0892859  </td><td style=\"text-align: right;\">     6.49159</td><td style=\"text-align: right;\">  40.2283 </td><td style=\"text-align: right;\">     1</td><td style=\"text-align: right;\">       74.2054  </td><td style=\"text-align: right;\">     0.537801  </td></tr>\n",
       "<tr><td>train_mcdo_ac8c5c30</td><td>TERMINATED</td><td>10.2.219.10:3491040</td><td style=\"text-align: right;\">     4.09994</td><td style=\"text-align: right;\">  0.432304</td><td style=\"text-align: right;\">     13.5262 </td><td style=\"text-align: right;\">0.0476024  </td><td style=\"text-align: right;\">     9.2111 </td><td style=\"text-align: right;\">  32.8838 </td><td style=\"text-align: right;\">     1</td><td style=\"text-align: right;\">       44.0448  </td><td style=\"text-align: right;\">     0.538908  </td></tr>\n",
       "<tr><td>train_mcdo_9b969ce6</td><td>TERMINATED</td><td>10.2.219.10:3491432</td><td style=\"text-align: right;\">    14.2331 </td><td style=\"text-align: right;\">  0.379593</td><td style=\"text-align: right;\">    125.855  </td><td style=\"text-align: right;\">0.0219434  </td><td style=\"text-align: right;\">     4.21736</td><td style=\"text-align: right;\">   1.66615</td><td style=\"text-align: right;\">     1</td><td style=\"text-align: right;\">        0.586418</td><td style=\"text-align: right;\">     0.529157  </td></tr>\n",
       "<tr><td>train_mcdo_abfb3ba1</td><td>TERMINATED</td><td>10.2.219.10:3491432</td><td style=\"text-align: right;\">     7.45941</td><td style=\"text-align: right;\">  0.207517</td><td style=\"text-align: right;\">     11.3733 </td><td style=\"text-align: right;\">0.096375   </td><td style=\"text-align: right;\">     8.21972</td><td style=\"text-align: right;\">   4.70813</td><td style=\"text-align: right;\">     1</td><td style=\"text-align: right;\">        1.25134 </td><td style=\"text-align: right;\">     0.537744  </td></tr>\n",
       "<tr><td>train_mcdo_caefd1d2</td><td>TERMINATED</td><td>10.2.219.10:3491432</td><td style=\"text-align: right;\">     4.02377</td><td style=\"text-align: right;\">  0.461526</td><td style=\"text-align: right;\">    162.058  </td><td style=\"text-align: right;\">0.00298196 </td><td style=\"text-align: right;\">     9.83212</td><td style=\"text-align: right;\">   7.07318</td><td style=\"text-align: right;\">     1</td><td style=\"text-align: right;\">        6.66674 </td><td style=\"text-align: right;\">     0.494338  </td></tr>\n",
       "<tr><td>train_mcdo_d8789475</td><td>TERMINATED</td><td>10.2.219.10:3490943</td><td style=\"text-align: right;\">    10.0661 </td><td style=\"text-align: right;\">  0.342   </td><td style=\"text-align: right;\">    186.009  </td><td style=\"text-align: right;\">0.0909148  </td><td style=\"text-align: right;\">     7.8947 </td><td style=\"text-align: right;\">  12.1553 </td><td style=\"text-align: right;\">     1</td><td style=\"text-align: right;\">        8.8508  </td><td style=\"text-align: right;\">     0.539459  </td></tr>\n",
       "<tr><td>train_mcdo_bbb655e4</td><td>TERMINATED</td><td>10.2.219.10:3491140</td><td style=\"text-align: right;\">     9.74956</td><td style=\"text-align: right;\">  0.343681</td><td style=\"text-align: right;\">    128.18   </td><td style=\"text-align: right;\">0.098715   </td><td style=\"text-align: right;\">     9.67949</td><td style=\"text-align: right;\">  36.6189 </td><td style=\"text-align: right;\">     1</td><td style=\"text-align: right;\">       18.4108  </td><td style=\"text-align: right;\">     0.576469  </td></tr>\n",
       "<tr><td>train_mcdo_e303f0f2</td><td>TERMINATED</td><td>10.2.219.10:3491539</td><td style=\"text-align: right;\">     2.30763</td><td style=\"text-align: right;\">  0.47656 </td><td style=\"text-align: right;\">     90.8267 </td><td style=\"text-align: right;\">0.00863726 </td><td style=\"text-align: right;\">     6.43267</td><td style=\"text-align: right;\">  39.7084 </td><td style=\"text-align: right;\">     1</td><td style=\"text-align: right;\">       32.2677  </td><td style=\"text-align: right;\">     0.509762  </td></tr>\n",
       "<tr><td>train_mcdo_b8e947a7</td><td>TERMINATED</td><td>10.2.219.10:3491432</td><td style=\"text-align: right;\">     5.67436</td><td style=\"text-align: right;\">  0.425832</td><td style=\"text-align: right;\">     56.3138 </td><td style=\"text-align: right;\">0.0743162  </td><td style=\"text-align: right;\">     3.74593</td><td style=\"text-align: right;\">  12.7975 </td><td style=\"text-align: right;\">     1</td><td style=\"text-align: right;\">        6.84916 </td><td style=\"text-align: right;\">     0.538924  </td></tr>\n",
       "<tr><td>train_mcdo_6a141880</td><td>TERMINATED</td><td>10.2.219.10:3490881</td><td style=\"text-align: right;\">     5.19135</td><td style=\"text-align: right;\">  0.36418 </td><td style=\"text-align: right;\">     93.5046 </td><td style=\"text-align: right;\">0.0651808  </td><td style=\"text-align: right;\">     9.19634</td><td style=\"text-align: right;\">  47.8903 </td><td style=\"text-align: right;\">     1</td><td style=\"text-align: right;\">       39.3632  </td><td style=\"text-align: right;\">     0.538908  </td></tr>\n",
       "<tr><td>train_mcdo_d9b08b4e</td><td>TERMINATED</td><td>10.2.219.10:3490943</td><td style=\"text-align: right;\">     9.86038</td><td style=\"text-align: right;\">  0.227647</td><td style=\"text-align: right;\">     65.9887 </td><td style=\"text-align: right;\">0.030968   </td><td style=\"text-align: right;\">     5.93484</td><td style=\"text-align: right;\">   3.35044</td><td style=\"text-align: right;\">     1</td><td style=\"text-align: right;\">        1.03687 </td><td style=\"text-align: right;\">     0.535276  </td></tr>\n",
       "<tr><td>train_mcdo_921db4c5</td><td>TERMINATED</td><td>10.2.219.10:3490943</td><td style=\"text-align: right;\">    16.3026 </td><td style=\"text-align: right;\">  0.391447</td><td style=\"text-align: right;\">     73.5953 </td><td style=\"text-align: right;\">0.0392802  </td><td style=\"text-align: right;\">     5.60734</td><td style=\"text-align: right;\">  33.3388 </td><td style=\"text-align: right;\">     1</td><td style=\"text-align: right;\">        2.94373 </td><td style=\"text-align: right;\">     0.534352  </td></tr>\n",
       "<tr><td>train_mcdo_df77501d</td><td>TERMINATED</td><td>10.2.219.10:3491208</td><td style=\"text-align: right;\">     8.55333</td><td style=\"text-align: right;\">  0.330158</td><td style=\"text-align: right;\">    159.034  </td><td style=\"text-align: right;\">0.0247074  </td><td style=\"text-align: right;\">     5.15727</td><td style=\"text-align: right;\">  33.528  </td><td style=\"text-align: right;\">     1</td><td style=\"text-align: right;\">        9.3589  </td><td style=\"text-align: right;\">     0.538418  </td></tr>\n",
       "<tr><td>train_mcdo_0e6e65b9</td><td>TERMINATED</td><td>10.2.219.10:3490943</td><td style=\"text-align: right;\">     7.83818</td><td style=\"text-align: right;\">  0.245983</td><td style=\"text-align: right;\">    129.13   </td><td style=\"text-align: right;\">0.0158131  </td><td style=\"text-align: right;\">     7.3579 </td><td style=\"text-align: right;\">  36.4743 </td><td style=\"text-align: right;\">     1</td><td style=\"text-align: right;\">       14.9887  </td><td style=\"text-align: right;\">     0.536051  </td></tr>\n",
       "<tr><td>train_mcdo_67f1ff0b</td><td>TERMINATED</td><td>10.2.219.10:3491432</td><td style=\"text-align: right;\">    11.0804 </td><td style=\"text-align: right;\">  0.175541</td><td style=\"text-align: right;\">     16.8713 </td><td style=\"text-align: right;\">0.0584133  </td><td style=\"text-align: right;\">     9.57675</td><td style=\"text-align: right;\">  26.9731 </td><td style=\"text-align: right;\">     1</td><td style=\"text-align: right;\">        8.84775 </td><td style=\"text-align: right;\">     0.520305  </td></tr>\n",
       "<tr><td>train_mcdo_fdfbfa56</td><td>TERMINATED</td><td>10.2.219.10:3493238</td><td style=\"text-align: right;\">    13.0063 </td><td style=\"text-align: right;\">  0.399978</td><td style=\"text-align: right;\">    162.736  </td><td style=\"text-align: right;\">0.057362   </td><td style=\"text-align: right;\">     8.54882</td><td style=\"text-align: right;\">  47.447  </td><td style=\"text-align: right;\">     1</td><td style=\"text-align: right;\">       16.7319  </td><td style=\"text-align: right;\">     0.532416  </td></tr>\n",
       "<tr><td>train_mcdo_f3cf8c2a</td><td>TERMINATED</td><td>10.2.219.10:3491208</td><td style=\"text-align: right;\">     4.27078</td><td style=\"text-align: right;\">  0.356257</td><td style=\"text-align: right;\">    127.495  </td><td style=\"text-align: right;\">0.0833214  </td><td style=\"text-align: right;\">     8.20184</td><td style=\"text-align: right;\">  38.4221 </td><td style=\"text-align: right;\">     1</td><td style=\"text-align: right;\">       32.4823  </td><td style=\"text-align: right;\">     0.53891   </td></tr>\n",
       "<tr><td>train_mcdo_9894c2d4</td><td>TERMINATED</td><td>10.2.219.10:3491140</td><td style=\"text-align: right;\">     7.3124 </td><td style=\"text-align: right;\">  0.331628</td><td style=\"text-align: right;\">     11.8863 </td><td style=\"text-align: right;\">0.0158151  </td><td style=\"text-align: right;\">     6.78377</td><td style=\"text-align: right;\">   2.61182</td><td style=\"text-align: right;\">     1</td><td style=\"text-align: right;\">        1.21414 </td><td style=\"text-align: right;\">     0.548442  </td></tr>\n",
       "<tr><td>train_mcdo_fb25af8c</td><td>TERMINATED</td><td>10.2.219.10:3491432</td><td style=\"text-align: right;\">     3.95358</td><td style=\"text-align: right;\">  0.425378</td><td style=\"text-align: right;\">    187.673  </td><td style=\"text-align: right;\">0.0574173  </td><td style=\"text-align: right;\">     8.1823 </td><td style=\"text-align: right;\">  28.4672 </td><td style=\"text-align: right;\">     1</td><td style=\"text-align: right;\">       47.0856  </td><td style=\"text-align: right;\">     0.608514  </td></tr>\n",
       "<tr><td>train_mcdo_8927a38b</td><td>TERMINATED</td><td>10.2.219.10:3491140</td><td style=\"text-align: right;\">    15.6085 </td><td style=\"text-align: right;\">  0.247759</td><td style=\"text-align: right;\">    148.114  </td><td style=\"text-align: right;\">0.0654329  </td><td style=\"text-align: right;\">     5.60476</td><td style=\"text-align: right;\">  49.1525 </td><td style=\"text-align: right;\">     1</td><td style=\"text-align: right;\">       14.096   </td><td style=\"text-align: right;\">     0.531964  </td></tr>\n",
       "<tr><td>train_mcdo_96f043de</td><td>TERMINATED</td><td>10.2.219.10:3491082</td><td style=\"text-align: right;\">    13.1613 </td><td style=\"text-align: right;\">  0.33648 </td><td style=\"text-align: right;\">    164.386  </td><td style=\"text-align: right;\">0.0170437  </td><td style=\"text-align: right;\">     9.09428</td><td style=\"text-align: right;\">  47.2129 </td><td style=\"text-align: right;\">     1</td><td style=\"text-align: right;\">       24.8248  </td><td style=\"text-align: right;\">     0.528914  </td></tr>\n",
       "<tr><td>train_mcdo_190c3eb1</td><td>TERMINATED</td><td>10.2.219.10:3490633</td><td style=\"text-align: right;\">    15.0345 </td><td style=\"text-align: right;\">  0.384028</td><td style=\"text-align: right;\">     47.976  </td><td style=\"text-align: right;\">0.055987   </td><td style=\"text-align: right;\">     4.35463</td><td style=\"text-align: right;\">   6.95379</td><td style=\"text-align: right;\">     1</td><td style=\"text-align: right;\">        1.6617  </td><td style=\"text-align: right;\">     0.521938  </td></tr>\n",
       "<tr><td>train_mcdo_63fac83b</td><td>TERMINATED</td><td>10.2.219.10:3490943</td><td style=\"text-align: right;\">     1.96955</td><td style=\"text-align: right;\">  0.421413</td><td style=\"text-align: right;\">    190.949  </td><td style=\"text-align: right;\">0.0798843  </td><td style=\"text-align: right;\">     9.10053</td><td style=\"text-align: right;\">   7.01633</td><td style=\"text-align: right;\">     1</td><td style=\"text-align: right;\">      131.524   </td><td style=\"text-align: right;\">     2.06242   </td></tr>\n",
       "<tr><td>train_mcdo_18e3b1ca</td><td>TERMINATED</td><td>10.2.219.10:3490633</td><td style=\"text-align: right;\">     3.78955</td><td style=\"text-align: right;\">  0.332486</td><td style=\"text-align: right;\">     12.0022 </td><td style=\"text-align: right;\">0.00558225 </td><td style=\"text-align: right;\">     6.45372</td><td style=\"text-align: right;\">  44.7211 </td><td style=\"text-align: right;\">     1</td><td style=\"text-align: right;\">       31.2563  </td><td style=\"text-align: right;\">     0.467321  </td></tr>\n",
       "<tr><td>train_mcdo_78609f4f</td><td>TERMINATED</td><td>10.2.219.10:3493694</td><td style=\"text-align: right;\">    16.0437 </td><td style=\"text-align: right;\">  0.149789</td><td style=\"text-align: right;\">     55.1298 </td><td style=\"text-align: right;\">0.0540704  </td><td style=\"text-align: right;\">     7.54537</td><td style=\"text-align: right;\">  41.7863 </td><td style=\"text-align: right;\">     1</td><td style=\"text-align: right;\">        7.92663 </td><td style=\"text-align: right;\">     0.527482  </td></tr>\n",
       "<tr><td>train_mcdo_09b1a17c</td><td>TERMINATED</td><td>10.2.219.10:3493238</td><td style=\"text-align: right;\">     8.25154</td><td style=\"text-align: right;\">  0.197994</td><td style=\"text-align: right;\">     95.7694 </td><td style=\"text-align: right;\">0.0620637  </td><td style=\"text-align: right;\">     9.67907</td><td style=\"text-align: right;\">  46.4463 </td><td style=\"text-align: right;\">     1</td><td style=\"text-align: right;\">       18.3621  </td><td style=\"text-align: right;\">     0.539081  </td></tr>\n",
       "<tr><td>train_mcdo_12f02177</td><td>TERMINATED</td><td>10.2.219.10:3491140</td><td style=\"text-align: right;\">     7.95408</td><td style=\"text-align: right;\">  0.450593</td><td style=\"text-align: right;\">    166.912  </td><td style=\"text-align: right;\">0.0758025  </td><td style=\"text-align: right;\">     8.99553</td><td style=\"text-align: right;\">  35.7329 </td><td style=\"text-align: right;\">     1</td><td style=\"text-align: right;\">       23.2634  </td><td style=\"text-align: right;\">     0.561839  </td></tr>\n",
       "<tr><td>train_mcdo_13978a0c</td><td>TERMINATED</td><td>10.2.219.10:3491539</td><td style=\"text-align: right;\">    13.4803 </td><td style=\"text-align: right;\">  0.346813</td><td style=\"text-align: right;\">    136.696  </td><td style=\"text-align: right;\">0.0153558  </td><td style=\"text-align: right;\">     2.25651</td><td style=\"text-align: right;\">  43.6925 </td><td style=\"text-align: right;\">     1</td><td style=\"text-align: right;\">        4.56472 </td><td style=\"text-align: right;\">     0.52378   </td></tr>\n",
       "<tr><td>train_mcdo_332559f6</td><td>TERMINATED</td><td>10.2.219.10:3491040</td><td style=\"text-align: right;\">     9.69102</td><td style=\"text-align: right;\">  0.179424</td><td style=\"text-align: right;\">    167.996  </td><td style=\"text-align: right;\">0.0924406  </td><td style=\"text-align: right;\">     5.36228</td><td style=\"text-align: right;\">  13.0964 </td><td style=\"text-align: right;\">     1</td><td style=\"text-align: right;\">        7.21652 </td><td style=\"text-align: right;\">     0.52311   </td></tr>\n",
       "<tr><td>train_mcdo_452c3e20</td><td>TERMINATED</td><td>10.2.219.10:3491539</td><td style=\"text-align: right;\">    11.7765 </td><td style=\"text-align: right;\">  0.396197</td><td style=\"text-align: right;\">    119.534  </td><td style=\"text-align: right;\">0.054446   </td><td style=\"text-align: right;\">     5.54694</td><td style=\"text-align: right;\">   5.56606</td><td style=\"text-align: right;\">     1</td><td style=\"text-align: right;\">        1.63904 </td><td style=\"text-align: right;\">     0.520878  </td></tr>\n",
       "<tr><td>train_mcdo_f69a1581</td><td>TERMINATED</td><td>10.2.219.10:3493694</td><td style=\"text-align: right;\">     6.28612</td><td style=\"text-align: right;\">  0.490912</td><td style=\"text-align: right;\">    195.77   </td><td style=\"text-align: right;\">0.0432     </td><td style=\"text-align: right;\">     8.96021</td><td style=\"text-align: right;\">  17.0388 </td><td style=\"text-align: right;\">     1</td><td style=\"text-align: right;\">       16.0292  </td><td style=\"text-align: right;\">     0.538948  </td></tr>\n",
       "<tr><td>train_mcdo_fe8a2c68</td><td>TERMINATED</td><td>10.2.219.10:3491539</td><td style=\"text-align: right;\">    14.314  </td><td style=\"text-align: right;\">  0.113754</td><td style=\"text-align: right;\">    162.771  </td><td style=\"text-align: right;\">0.00334091 </td><td style=\"text-align: right;\">     8.70531</td><td style=\"text-align: right;\">  45.7349 </td><td style=\"text-align: right;\">     1</td><td style=\"text-align: right;\">       15.2408  </td><td style=\"text-align: right;\">     0.520362  </td></tr>\n",
       "<tr><td>train_mcdo_ce4bb368</td><td>TERMINATED</td><td>10.2.219.10:3491040</td><td style=\"text-align: right;\">    17.8236 </td><td style=\"text-align: right;\">  0.369656</td><td style=\"text-align: right;\">    104.477  </td><td style=\"text-align: right;\">0.0629134  </td><td style=\"text-align: right;\">     3.63774</td><td style=\"text-align: right;\">  48.8935 </td><td style=\"text-align: right;\">     1</td><td style=\"text-align: right;\">        3.66684 </td><td style=\"text-align: right;\">     0.536304  </td></tr>\n",
       "<tr><td>train_mcdo_ab708aad</td><td>TERMINATED</td><td>10.2.219.10:3490881</td><td style=\"text-align: right;\">    11.0444 </td><td style=\"text-align: right;\">  0.391205</td><td style=\"text-align: right;\">    123.203  </td><td style=\"text-align: right;\">0.0954502  </td><td style=\"text-align: right;\">     6.14342</td><td style=\"text-align: right;\">   3.92142</td><td style=\"text-align: right;\">     1</td><td style=\"text-align: right;\">        0.866963</td><td style=\"text-align: right;\">     0.710999  </td></tr>\n",
       "<tr><td>train_mcdo_7fe05413</td><td>TERMINATED</td><td>10.2.219.10:3490881</td><td style=\"text-align: right;\">    17.0996 </td><td style=\"text-align: right;\">  0.332532</td><td style=\"text-align: right;\">     75.7259 </td><td style=\"text-align: right;\">0.00132181 </td><td style=\"text-align: right;\">     5.26903</td><td style=\"text-align: right;\">  15.2976 </td><td style=\"text-align: right;\">     1</td><td style=\"text-align: right;\">        2.10239 </td><td style=\"text-align: right;\">     0.536255  </td></tr>\n",
       "<tr><td>train_mcdo_4905786b</td><td>TERMINATED</td><td>10.2.219.10:3491040</td><td style=\"text-align: right;\">    12.4655 </td><td style=\"text-align: right;\">  0.286304</td><td style=\"text-align: right;\">     61.647  </td><td style=\"text-align: right;\">0.0470003  </td><td style=\"text-align: right;\">     2.32268</td><td style=\"text-align: right;\">  39.1771 </td><td style=\"text-align: right;\">     1</td><td style=\"text-align: right;\">        3.48168 </td><td style=\"text-align: right;\">     0.535271  </td></tr>\n",
       "<tr><td>train_mcdo_546747fc</td><td>TERMINATED</td><td>10.2.219.10:3491082</td><td style=\"text-align: right;\">     7.95749</td><td style=\"text-align: right;\">  0.309437</td><td style=\"text-align: right;\">    177.775  </td><td style=\"text-align: right;\">0.0596302  </td><td style=\"text-align: right;\">     8.41132</td><td style=\"text-align: right;\">  19.8528 </td><td style=\"text-align: right;\">     1</td><td style=\"text-align: right;\">       20.7246  </td><td style=\"text-align: right;\">     0.545616  </td></tr>\n",
       "<tr><td>train_mcdo_a28435ab</td><td>TERMINATED</td><td>10.2.219.10:3490881</td><td style=\"text-align: right;\">    17.2609 </td><td style=\"text-align: right;\">  0.20426 </td><td style=\"text-align: right;\">     99.4051 </td><td style=\"text-align: right;\">0.085177   </td><td style=\"text-align: right;\">     6.26422</td><td style=\"text-align: right;\">  36.3945 </td><td style=\"text-align: right;\">     1</td><td style=\"text-align: right;\">        7.51933 </td><td style=\"text-align: right;\">     0.534732  </td></tr>\n",
       "<tr><td>train_mcdo_28645f1c</td><td>TERMINATED</td><td>10.2.219.10:3491040</td><td style=\"text-align: right;\">     8.05132</td><td style=\"text-align: right;\">  0.140247</td><td style=\"text-align: right;\">    134.264  </td><td style=\"text-align: right;\">0.040287   </td><td style=\"text-align: right;\">     8.08184</td><td style=\"text-align: right;\">  31.811  </td><td style=\"text-align: right;\">     1</td><td style=\"text-align: right;\">       42.3684  </td><td style=\"text-align: right;\">     0.538964  </td></tr>\n",
       "<tr><td>train_mcdo_bf88812f</td><td>TERMINATED</td><td>10.2.219.10:3491208</td><td style=\"text-align: right;\">     2.87965</td><td style=\"text-align: right;\">  0.224191</td><td style=\"text-align: right;\">    168.216  </td><td style=\"text-align: right;\">0.050911   </td><td style=\"text-align: right;\">     8.64139</td><td style=\"text-align: right;\">   3.15023</td><td style=\"text-align: right;\">     1</td><td style=\"text-align: right;\">        9.18821 </td><td style=\"text-align: right;\">     0.540393  </td></tr>\n",
       "<tr><td>train_mcdo_74808b61</td><td>TERMINATED</td><td>10.2.219.10:3493238</td><td style=\"text-align: right;\">     6.2167 </td><td style=\"text-align: right;\">  0.144839</td><td style=\"text-align: right;\">    194.114  </td><td style=\"text-align: right;\">0.0684634  </td><td style=\"text-align: right;\">     5.28274</td><td style=\"text-align: right;\">  39.2297 </td><td style=\"text-align: right;\">     1</td><td style=\"text-align: right;\">       42.3396  </td><td style=\"text-align: right;\">     0.51847   </td></tr>\n",
       "<tr><td>train_mcdo_97edf5ae</td><td>TERMINATED</td><td>10.2.219.10:3490881</td><td style=\"text-align: right;\">     9.97277</td><td style=\"text-align: right;\">  0.167212</td><td style=\"text-align: right;\">     54.9892 </td><td style=\"text-align: right;\">0.0378664  </td><td style=\"text-align: right;\">     5.68039</td><td style=\"text-align: right;\">  31.9071 </td><td style=\"text-align: right;\">     1</td><td style=\"text-align: right;\">       14.1699  </td><td style=\"text-align: right;\">     0.523461  </td></tr>\n",
       "<tr><td>train_mcdo_e1f9b4ed</td><td>TERMINATED</td><td>10.2.219.10:3493694</td><td style=\"text-align: right;\">     7.09665</td><td style=\"text-align: right;\">  0.472439</td><td style=\"text-align: right;\">      8.28087</td><td style=\"text-align: right;\">0.0193203  </td><td style=\"text-align: right;\">     8.29784</td><td style=\"text-align: right;\">  10.4201 </td><td style=\"text-align: right;\">     1</td><td style=\"text-align: right;\">        5.39305 </td><td style=\"text-align: right;\">     0.535644  </td></tr>\n",
       "<tr><td>train_mcdo_5cf5fe3d</td><td>TERMINATED</td><td>10.2.219.10:3491539</td><td style=\"text-align: right;\">     1.00364</td><td style=\"text-align: right;\">  0.335263</td><td style=\"text-align: right;\">     56.4472 </td><td style=\"text-align: right;\">0.044653   </td><td style=\"text-align: right;\">     4.41629</td><td style=\"text-align: right;\">  37.4278 </td><td style=\"text-align: right;\">     1</td><td style=\"text-align: right;\">       63.304   </td><td style=\"text-align: right;\">     0.538967  </td></tr>\n",
       "<tr><td>train_mcdo_63fdcc94</td><td>TERMINATED</td><td>10.2.219.10:3491140</td><td style=\"text-align: right;\">    13.9007 </td><td style=\"text-align: right;\">  0.259337</td><td style=\"text-align: right;\">    182.03   </td><td style=\"text-align: right;\">0.0911227  </td><td style=\"text-align: right;\">     6.4901 </td><td style=\"text-align: right;\">  12.5911 </td><td style=\"text-align: right;\">     1</td><td style=\"text-align: right;\">        5.72485 </td><td style=\"text-align: right;\">     0.533095  </td></tr>\n",
       "<tr><td>train_mcdo_b7ad534d</td><td>TERMINATED</td><td>10.2.219.10:3490633</td><td style=\"text-align: right;\">    10.86   </td><td style=\"text-align: right;\">  0.250874</td><td style=\"text-align: right;\">      5.11546</td><td style=\"text-align: right;\">0.0709783  </td><td style=\"text-align: right;\">     9.78607</td><td style=\"text-align: right;\">  48.9625 </td><td style=\"text-align: right;\">     1</td><td style=\"text-align: right;\">       14.3186  </td><td style=\"text-align: right;\">     0.538907  </td></tr>\n",
       "<tr><td>train_mcdo_ffb00953</td><td>TERMINATED</td><td>10.2.219.10:3491208</td><td style=\"text-align: right;\">     4.83283</td><td style=\"text-align: right;\">  0.231378</td><td style=\"text-align: right;\">     30.7242 </td><td style=\"text-align: right;\">0.0738581  </td><td style=\"text-align: right;\">     3.37088</td><td style=\"text-align: right;\">  12.066  </td><td style=\"text-align: right;\">     1</td><td style=\"text-align: right;\">        5.05106 </td><td style=\"text-align: right;\">     0.53893   </td></tr>\n",
       "<tr><td>train_mcdo_7191014c</td><td>TERMINATED</td><td>10.2.219.10:3493694</td><td style=\"text-align: right;\">     8.5183 </td><td style=\"text-align: right;\">  0.340559</td><td style=\"text-align: right;\">    173.858  </td><td style=\"text-align: right;\">0.0914112  </td><td style=\"text-align: right;\">     5.9126 </td><td style=\"text-align: right;\">   9.833  </td><td style=\"text-align: right;\">     1</td><td style=\"text-align: right;\">        8.38414 </td><td style=\"text-align: right;\">     0.538953  </td></tr>\n",
       "<tr><td>train_mcdo_496043c3</td><td>TERMINATED</td><td>10.2.219.10:3491140</td><td style=\"text-align: right;\">     3.17619</td><td style=\"text-align: right;\">  0.494219</td><td style=\"text-align: right;\">    191.549  </td><td style=\"text-align: right;\">0.0666612  </td><td style=\"text-align: right;\">     3.39935</td><td style=\"text-align: right;\">  28.4057 </td><td style=\"text-align: right;\">     1</td><td style=\"text-align: right;\">       19.1031  </td><td style=\"text-align: right;\">     0.491669  </td></tr>\n",
       "<tr><td>train_mcdo_27253268</td><td>TERMINATED</td><td>10.2.219.10:3491615</td><td style=\"text-align: right;\">    18.4421 </td><td style=\"text-align: right;\">  0.202981</td><td style=\"text-align: right;\">    162.455  </td><td style=\"text-align: right;\">0.0792324  </td><td style=\"text-align: right;\">     5.89317</td><td style=\"text-align: right;\">  14.6432 </td><td style=\"text-align: right;\">     1</td><td style=\"text-align: right;\">        3.47101 </td><td style=\"text-align: right;\">     0.507175  </td></tr>\n",
       "<tr><td>train_mcdo_18ce914a</td><td>TERMINATED</td><td>10.2.219.10:3491208</td><td style=\"text-align: right;\">     5.13059</td><td style=\"text-align: right;\">  0.478138</td><td style=\"text-align: right;\">     87.8324 </td><td style=\"text-align: right;\">0.0482493  </td><td style=\"text-align: right;\">     7.33069</td><td style=\"text-align: right;\">  39.9014 </td><td style=\"text-align: right;\">     1</td><td style=\"text-align: right;\">       32.0379  </td><td style=\"text-align: right;\">     0.538911  </td></tr>\n",
       "<tr><td>train_mcdo_aa9bedfe</td><td>TERMINATED</td><td>10.2.219.10:3491432</td><td style=\"text-align: right;\">     6.83857</td><td style=\"text-align: right;\">  0.338958</td><td style=\"text-align: right;\">    150.637  </td><td style=\"text-align: right;\">0.0411739  </td><td style=\"text-align: right;\">     3.12728</td><td style=\"text-align: right;\">   1.43676</td><td style=\"text-align: right;\">     1</td><td style=\"text-align: right;\">        1.39055 </td><td style=\"text-align: right;\">     0.533635  </td></tr>\n",
       "<tr><td>train_mcdo_34ba69e4</td><td>TERMINATED</td><td>10.2.219.10:3491615</td><td style=\"text-align: right;\">    16.848  </td><td style=\"text-align: right;\">  0.328207</td><td style=\"text-align: right;\">     72.898  </td><td style=\"text-align: right;\">0.0147154  </td><td style=\"text-align: right;\">     6.36632</td><td style=\"text-align: right;\">  20.8406 </td><td style=\"text-align: right;\">     1</td><td style=\"text-align: right;\">        4.11675 </td><td style=\"text-align: right;\">     0.534046  </td></tr>\n",
       "<tr><td>train_mcdo_602ae9b2</td><td>TERMINATED</td><td>10.2.219.10:3491082</td><td style=\"text-align: right;\">    19.2865 </td><td style=\"text-align: right;\">  0.130221</td><td style=\"text-align: right;\">    102.199  </td><td style=\"text-align: right;\">0.0182805  </td><td style=\"text-align: right;\">     2.80706</td><td style=\"text-align: right;\">  25.3455 </td><td style=\"text-align: right;\">     1</td><td style=\"text-align: right;\">        2.62158 </td><td style=\"text-align: right;\">     0.530596  </td></tr>\n",
       "<tr><td>train_mcdo_efe8c674</td><td>TERMINATED</td><td>10.2.219.10:3491432</td><td style=\"text-align: right;\">    11.6848 </td><td style=\"text-align: right;\">  0.345947</td><td style=\"text-align: right;\">     74.8394 </td><td style=\"text-align: right;\">0.0691258  </td><td style=\"text-align: right;\">     5.22195</td><td style=\"text-align: right;\">  34.4114 </td><td style=\"text-align: right;\">     1</td><td style=\"text-align: right;\">        8.4463  </td><td style=\"text-align: right;\">     0.517662  </td></tr>\n",
       "<tr><td>train_mcdo_cd2463df</td><td>TERMINATED</td><td>10.2.219.10:3490881</td><td style=\"text-align: right;\">     4.05885</td><td style=\"text-align: right;\">  0.460341</td><td style=\"text-align: right;\">     62.209  </td><td style=\"text-align: right;\">0.0749293  </td><td style=\"text-align: right;\">     5.46075</td><td style=\"text-align: right;\">   4.10491</td><td style=\"text-align: right;\">     1</td><td style=\"text-align: right;\">        3.80602 </td><td style=\"text-align: right;\">     0.539209  </td></tr>\n",
       "<tr><td>train_mcdo_148bdc7f</td><td>TERMINATED</td><td>10.2.219.10:3493694</td><td style=\"text-align: right;\">    19.9352 </td><td style=\"text-align: right;\">  0.281091</td><td style=\"text-align: right;\">     26.8831 </td><td style=\"text-align: right;\">0.0314289  </td><td style=\"text-align: right;\">     9.39651</td><td style=\"text-align: right;\">  23.8478 </td><td style=\"text-align: right;\">     1</td><td style=\"text-align: right;\">        5.32863 </td><td style=\"text-align: right;\">     0.530601  </td></tr>\n",
       "<tr><td>train_mcdo_0ee444a1</td><td>TERMINATED</td><td>10.2.219.10:3491082</td><td style=\"text-align: right;\">    17.0744 </td><td style=\"text-align: right;\">  0.167845</td><td style=\"text-align: right;\">     94.656  </td><td style=\"text-align: right;\">0.00985278 </td><td style=\"text-align: right;\">     2.73845</td><td style=\"text-align: right;\">  40.3343 </td><td style=\"text-align: right;\">     1</td><td style=\"text-align: right;\">        3.22595 </td><td style=\"text-align: right;\">     0.532504  </td></tr>\n",
       "<tr><td>train_mcdo_63973a60</td><td>TERMINATED</td><td>10.2.219.10:3491615</td><td style=\"text-align: right;\">    10.732  </td><td style=\"text-align: right;\">  0.211731</td><td style=\"text-align: right;\">    175.082  </td><td style=\"text-align: right;\">0.094843   </td><td style=\"text-align: right;\">     6.45678</td><td style=\"text-align: right;\">  35.6268 </td><td style=\"text-align: right;\">     1</td><td style=\"text-align: right;\">       22.0056  </td><td style=\"text-align: right;\">     0.538944  </td></tr>\n",
       "<tr><td>train_mcdo_4c018549</td><td>TERMINATED</td><td>10.2.219.10:3490633</td><td style=\"text-align: right;\">    18.1371 </td><td style=\"text-align: right;\">  0.261139</td><td style=\"text-align: right;\">    134.545  </td><td style=\"text-align: right;\">0.0018708  </td><td style=\"text-align: right;\">     7.7004 </td><td style=\"text-align: right;\">  41.784  </td><td style=\"text-align: right;\">     1</td><td style=\"text-align: right;\">       11.8878  </td><td style=\"text-align: right;\">     0.503327  </td></tr>\n",
       "<tr><td>train_mcdo_337a223e</td><td>TERMINATED</td><td>10.2.219.10:3490881</td><td style=\"text-align: right;\">     5.39969</td><td style=\"text-align: right;\">  0.237675</td><td style=\"text-align: right;\">     67.3915 </td><td style=\"text-align: right;\">0.0953878  </td><td style=\"text-align: right;\">     5.94001</td><td style=\"text-align: right;\">  34.645  </td><td style=\"text-align: right;\">     1</td><td style=\"text-align: right;\">       10.9382  </td><td style=\"text-align: right;\">     0.537614  </td></tr>\n",
       "<tr><td>train_mcdo_f59a314c</td><td>TERMINATED</td><td>10.2.219.10:3491082</td><td style=\"text-align: right;\">     3.0026 </td><td style=\"text-align: right;\">  0.158847</td><td style=\"text-align: right;\">     11.2034 </td><td style=\"text-align: right;\">0.0463413  </td><td style=\"text-align: right;\">     3.10948</td><td style=\"text-align: right;\">  14.7131 </td><td style=\"text-align: right;\">     1</td><td style=\"text-align: right;\">        4.9865  </td><td style=\"text-align: right;\">     0.502417  </td></tr>\n",
       "<tr><td>train_mcdo_144def41</td><td>TERMINATED</td><td>10.2.219.10:3493694</td><td style=\"text-align: right;\">     1.47116</td><td style=\"text-align: right;\">  0.356813</td><td style=\"text-align: right;\">    185.21   </td><td style=\"text-align: right;\">0.0780262  </td><td style=\"text-align: right;\">     9.57471</td><td style=\"text-align: right;\">  10.2651 </td><td style=\"text-align: right;\">     1</td><td style=\"text-align: right;\">       79.5847  </td><td style=\"text-align: right;\">     0.541272  </td></tr>\n",
       "<tr><td>train_mcdo_8fe6cf9e</td><td>TERMINATED</td><td>10.2.219.10:3491432</td><td style=\"text-align: right;\">    15.8905 </td><td style=\"text-align: right;\">  0.249721</td><td style=\"text-align: right;\">    160.467  </td><td style=\"text-align: right;\">0.0552264  </td><td style=\"text-align: right;\">     4.04055</td><td style=\"text-align: right;\">  17.3649 </td><td style=\"text-align: right;\">     1</td><td style=\"text-align: right;\">        3.51571 </td><td style=\"text-align: right;\">     0.522576  </td></tr>\n",
       "<tr><td>train_mcdo_7aa48ac8</td><td>TERMINATED</td><td>10.2.219.10:3491082</td><td style=\"text-align: right;\">     9.42682</td><td style=\"text-align: right;\">  0.39878 </td><td style=\"text-align: right;\">    160.783  </td><td style=\"text-align: right;\">0.0980552  </td><td style=\"text-align: right;\">     8.09622</td><td style=\"text-align: right;\">  34.973  </td><td style=\"text-align: right;\">     1</td><td style=\"text-align: right;\">       30.0971  </td><td style=\"text-align: right;\">     0.52326   </td></tr>\n",
       "<tr><td>train_mcdo_e99c0d39</td><td>TERMINATED</td><td>10.2.219.10:3491432</td><td style=\"text-align: right;\">    18.0747 </td><td style=\"text-align: right;\">  0.232123</td><td style=\"text-align: right;\">      2.1838 </td><td style=\"text-align: right;\">0.0920795  </td><td style=\"text-align: right;\">     2.32765</td><td style=\"text-align: right;\">  10.1638 </td><td style=\"text-align: right;\">     1</td><td style=\"text-align: right;\">        1.0999  </td><td style=\"text-align: right;\">     0.511014  </td></tr>\n",
       "<tr><td>train_mcdo_69a35707</td><td>TERMINATED</td><td>10.2.219.10:3491432</td><td style=\"text-align: right;\">    18.2581 </td><td style=\"text-align: right;\">  0.37153 </td><td style=\"text-align: right;\">     83.5688 </td><td style=\"text-align: right;\">0.0352018  </td><td style=\"text-align: right;\">     9.9791 </td><td style=\"text-align: right;\">  49.4275 </td><td style=\"text-align: right;\">     1</td><td style=\"text-align: right;\">       19.0706  </td><td style=\"text-align: right;\">     0.506283  </td></tr>\n",
       "<tr><td>train_mcdo_e0dabbc7</td><td>TERMINATED</td><td>10.2.219.10:3491140</td><td style=\"text-align: right;\">     2.08108</td><td style=\"text-align: right;\">  0.266367</td><td style=\"text-align: right;\">     86.6611 </td><td style=\"text-align: right;\">0.0185334  </td><td style=\"text-align: right;\">     7.89159</td><td style=\"text-align: right;\">  13.5738 </td><td style=\"text-align: right;\">     1</td><td style=\"text-align: right;\">       54.6909  </td><td style=\"text-align: right;\">     0.538942  </td></tr>\n",
       "<tr><td>train_mcdo_448dc198</td><td>TERMINATED</td><td>10.2.219.10:3490881</td><td style=\"text-align: right;\">    11.8091 </td><td style=\"text-align: right;\">  0.236344</td><td style=\"text-align: right;\">    176.168  </td><td style=\"text-align: right;\">0.0784675  </td><td style=\"text-align: right;\">     2.68531</td><td style=\"text-align: right;\">   3.62884</td><td style=\"text-align: right;\">     1</td><td style=\"text-align: right;\">        1.47384 </td><td style=\"text-align: right;\">     0.541208  </td></tr>\n",
       "<tr><td>train_mcdo_6753af08</td><td>TERMINATED</td><td>10.2.219.10:3490633</td><td style=\"text-align: right;\">    14.137  </td><td style=\"text-align: right;\">  0.260573</td><td style=\"text-align: right;\">     82.1147 </td><td style=\"text-align: right;\">0.00826092 </td><td style=\"text-align: right;\">     4.32808</td><td style=\"text-align: right;\">  25.7385 </td><td style=\"text-align: right;\">     1</td><td style=\"text-align: right;\">        4.72411 </td><td style=\"text-align: right;\">     0.511732  </td></tr>\n",
       "<tr><td>train_mcdo_a39857e6</td><td>TERMINATED</td><td>10.2.219.10:3490881</td><td style=\"text-align: right;\">     6.99548</td><td style=\"text-align: right;\">  0.374033</td><td style=\"text-align: right;\">     29.6252 </td><td style=\"text-align: right;\">0.0315127  </td><td style=\"text-align: right;\">     6.82356</td><td style=\"text-align: right;\">  37.3148 </td><td style=\"text-align: right;\">     1</td><td style=\"text-align: right;\">       25.5736  </td><td style=\"text-align: right;\">     0.530216  </td></tr>\n",
       "<tr><td>train_mcdo_d755e194</td><td>TERMINATED</td><td>10.2.219.10:3490633</td><td style=\"text-align: right;\">    13.935  </td><td style=\"text-align: right;\">  0.122717</td><td style=\"text-align: right;\">    165.644  </td><td style=\"text-align: right;\">0.0383929  </td><td style=\"text-align: right;\">     9.81986</td><td style=\"text-align: right;\">  22.9419 </td><td style=\"text-align: right;\">     1</td><td style=\"text-align: right;\">       15.1629  </td><td style=\"text-align: right;\">     0.526091  </td></tr>\n",
       "<tr><td>train_mcdo_2d3d5b19</td><td>TERMINATED</td><td>10.2.219.10:3491040</td><td style=\"text-align: right;\">     4.08199</td><td style=\"text-align: right;\">  0.403647</td><td style=\"text-align: right;\">     62.3377 </td><td style=\"text-align: right;\">0.0803406  </td><td style=\"text-align: right;\">     7.90823</td><td style=\"text-align: right;\">  37.8568 </td><td style=\"text-align: right;\">     1</td><td style=\"text-align: right;\">       20.2607  </td><td style=\"text-align: right;\">     0.538916  </td></tr>\n",
       "<tr><td>train_mcdo_fa7291ec</td><td>TERMINATED</td><td>10.2.219.10:3493238</td><td style=\"text-align: right;\">     3.79143</td><td style=\"text-align: right;\">  0.455684</td><td style=\"text-align: right;\">     14.2526 </td><td style=\"text-align: right;\">0.024171   </td><td style=\"text-align: right;\">     5.06881</td><td style=\"text-align: right;\">  38.2966 </td><td style=\"text-align: right;\">     1</td><td style=\"text-align: right;\">       14.6407  </td><td style=\"text-align: right;\">     0.52628   </td></tr>\n",
       "<tr><td>train_mcdo_a2d80f07</td><td>TERMINATED</td><td>10.2.219.10:3491615</td><td style=\"text-align: right;\">     7.19781</td><td style=\"text-align: right;\">  0.382109</td><td style=\"text-align: right;\">     65.7958 </td><td style=\"text-align: right;\">0.0527991  </td><td style=\"text-align: right;\">     6.64885</td><td style=\"text-align: right;\">   1.66138</td><td style=\"text-align: right;\">     1</td><td style=\"text-align: right;\">        0.770887</td><td style=\"text-align: right;\">     0.540638  </td></tr>\n",
       "<tr><td>train_mcdo_b221de87</td><td>TERMINATED</td><td>10.2.219.10:3491615</td><td style=\"text-align: right;\">    16.7074 </td><td style=\"text-align: right;\">  0.394729</td><td style=\"text-align: right;\">    105.98   </td><td style=\"text-align: right;\">0.0633636  </td><td style=\"text-align: right;\">     4.64581</td><td style=\"text-align: right;\">  22.5127 </td><td style=\"text-align: right;\">     1</td><td style=\"text-align: right;\">        2.60015 </td><td style=\"text-align: right;\">     0.533942  </td></tr>\n",
       "<tr><td>train_mcdo_a872aa94</td><td>TERMINATED</td><td>10.2.219.10:3491208</td><td style=\"text-align: right;\">     6.24385</td><td style=\"text-align: right;\">  0.246554</td><td style=\"text-align: right;\">    115.796  </td><td style=\"text-align: right;\">0.0555504  </td><td style=\"text-align: right;\">     3.95221</td><td style=\"text-align: right;\">  25.9449 </td><td style=\"text-align: right;\">     1</td><td style=\"text-align: right;\">       16.572   </td><td style=\"text-align: right;\">     0.532795  </td></tr>\n",
       "<tr><td>train_mcdo_c3aa454c</td><td>TERMINATED</td><td>10.2.219.10:3491615</td><td style=\"text-align: right;\">     1.2987 </td><td style=\"text-align: right;\">  0.215061</td><td style=\"text-align: right;\">     26.379  </td><td style=\"text-align: right;\">0.00139165 </td><td style=\"text-align: right;\">     7.84923</td><td style=\"text-align: right;\">   6.6583 </td><td style=\"text-align: right;\">     1</td><td style=\"text-align: right;\">       28.1529  </td><td style=\"text-align: right;\">     0.0112831 </td></tr>\n",
       "<tr><td>train_mcdo_1190a479</td><td>TERMINATED</td><td>10.2.219.10:3491432</td><td style=\"text-align: right;\">     1.11994</td><td style=\"text-align: right;\">  0.151981</td><td style=\"text-align: right;\">    152.814  </td><td style=\"text-align: right;\">0.0838981  </td><td style=\"text-align: right;\">     6.64665</td><td style=\"text-align: right;\">  31.8459 </td><td style=\"text-align: right;\">     1</td><td style=\"text-align: right;\">      219.357   </td><td style=\"text-align: right;\">     0.538915  </td></tr>\n",
       "<tr><td>train_mcdo_aa608d20</td><td>TERMINATED</td><td>10.2.219.10:3490633</td><td style=\"text-align: right;\">    18.8027 </td><td style=\"text-align: right;\">  0.297048</td><td style=\"text-align: right;\">     45.3188 </td><td style=\"text-align: right;\">0.0330421  </td><td style=\"text-align: right;\">     8.44352</td><td style=\"text-align: right;\">  36.1196 </td><td style=\"text-align: right;\">     1</td><td style=\"text-align: right;\">        4.31802 </td><td style=\"text-align: right;\">     0.505742  </td></tr>\n",
       "<tr><td>train_mcdo_5519e34c</td><td>TERMINATED</td><td>10.2.219.10:3490794</td><td style=\"text-align: right;\">     2.53586</td><td style=\"text-align: right;\">  0.235735</td><td style=\"text-align: right;\">     67.0203 </td><td style=\"text-align: right;\">0.0734462  </td><td style=\"text-align: right;\">     9.95346</td><td style=\"text-align: right;\">  36.7817 </td><td style=\"text-align: right;\">     1</td><td style=\"text-align: right;\">       72.4771  </td><td style=\"text-align: right;\">     0.53899   </td></tr>\n",
       "<tr><td>train_mcdo_d1db3f85</td><td>TERMINATED</td><td>10.2.219.10:3493238</td><td style=\"text-align: right;\">    10.778  </td><td style=\"text-align: right;\">  0.244028</td><td style=\"text-align: right;\">    140.416  </td><td style=\"text-align: right;\">0.0144887  </td><td style=\"text-align: right;\">     4.12252</td><td style=\"text-align: right;\">  40.1707 </td><td style=\"text-align: right;\">     1</td><td style=\"text-align: right;\">       13.2898  </td><td style=\"text-align: right;\">     0.536527  </td></tr>\n",
       "<tr><td>train_mcdo_6aecc7e8</td><td>TERMINATED</td><td>10.2.219.10:3490633</td><td style=\"text-align: right;\">     3.90463</td><td style=\"text-align: right;\">  0.37977 </td><td style=\"text-align: right;\">    126.009  </td><td style=\"text-align: right;\">0.0416225  </td><td style=\"text-align: right;\">     4.97794</td><td style=\"text-align: right;\">   4.97819</td><td style=\"text-align: right;\">     1</td><td style=\"text-align: right;\">        3.29468 </td><td style=\"text-align: right;\">     0.524378  </td></tr>\n",
       "<tr><td>train_mcdo_03bc6443</td><td>TERMINATED</td><td>10.2.219.10:3491082</td><td style=\"text-align: right;\">    12.7427 </td><td style=\"text-align: right;\">  0.398667</td><td style=\"text-align: right;\">    123.678  </td><td style=\"text-align: right;\">0.0817148  </td><td style=\"text-align: right;\">     5.8262 </td><td style=\"text-align: right;\">  42.5374 </td><td style=\"text-align: right;\">     1</td><td style=\"text-align: right;\">       18.6905  </td><td style=\"text-align: right;\">     0.532649  </td></tr>\n",
       "<tr><td>train_mcdo_2652c3ee</td><td>TERMINATED</td><td>10.2.219.10:3490881</td><td style=\"text-align: right;\">    12.5388 </td><td style=\"text-align: right;\">  0.481115</td><td style=\"text-align: right;\">     60.8761 </td><td style=\"text-align: right;\">0.0648287  </td><td style=\"text-align: right;\">     5.92655</td><td style=\"text-align: right;\">  44.5921 </td><td style=\"text-align: right;\">     1</td><td style=\"text-align: right;\">        5.11278 </td><td style=\"text-align: right;\">     0.536054  </td></tr>\n",
       "<tr><td>train_mcdo_8c4fcc37</td><td>TERMINATED</td><td>10.2.219.10:3490633</td><td style=\"text-align: right;\">     4.36814</td><td style=\"text-align: right;\">  0.155551</td><td style=\"text-align: right;\">     66.4511 </td><td style=\"text-align: right;\">0.0929669  </td><td style=\"text-align: right;\">     3.08148</td><td style=\"text-align: right;\">  15.0449 </td><td style=\"text-align: right;\">     1</td><td style=\"text-align: right;\">        8.04195 </td><td style=\"text-align: right;\">     0.516819  </td></tr>\n",
       "<tr><td>train_mcdo_83c92371</td><td>TERMINATED</td><td>10.2.219.10:3491040</td><td style=\"text-align: right;\">     9.7585 </td><td style=\"text-align: right;\">  0.14939 </td><td style=\"text-align: right;\">     69.0903 </td><td style=\"text-align: right;\">0.0629752  </td><td style=\"text-align: right;\">     5.44996</td><td style=\"text-align: right;\">   1.84578</td><td style=\"text-align: right;\">     1</td><td style=\"text-align: right;\">        0.562525</td><td style=\"text-align: right;\">     0.531377  </td></tr>\n",
       "<tr><td>train_mcdo_181ee6a5</td><td>TERMINATED</td><td>10.2.219.10:3491208</td><td style=\"text-align: right;\">     4.88263</td><td style=\"text-align: right;\">  0.232154</td><td style=\"text-align: right;\">     37.7586 </td><td style=\"text-align: right;\">0.0431155  </td><td style=\"text-align: right;\">     2.72333</td><td style=\"text-align: right;\">  21.538  </td><td style=\"text-align: right;\">     1</td><td style=\"text-align: right;\">        4.90744 </td><td style=\"text-align: right;\">     0.493055  </td></tr>\n",
       "<tr><td>train_mcdo_9f6a6801</td><td>TERMINATED</td><td>10.2.219.10:3491040</td><td style=\"text-align: right;\">    12.6748 </td><td style=\"text-align: right;\">  0.197732</td><td style=\"text-align: right;\">     10.2941 </td><td style=\"text-align: right;\">0.0770323  </td><td style=\"text-align: right;\">     5.84602</td><td style=\"text-align: right;\">  45.1979 </td><td style=\"text-align: right;\">     1</td><td style=\"text-align: right;\">       14.1624  </td><td style=\"text-align: right;\">     0.535042  </td></tr>\n",
       "<tr><td>train_mcdo_70bbac6f</td><td>TERMINATED</td><td>10.2.219.10:3490881</td><td style=\"text-align: right;\">    11.8252 </td><td style=\"text-align: right;\">  0.461854</td><td style=\"text-align: right;\">    154.296  </td><td style=\"text-align: right;\">0.0556271  </td><td style=\"text-align: right;\">     8.87966</td><td style=\"text-align: right;\">  21.2023 </td><td style=\"text-align: right;\">     1</td><td style=\"text-align: right;\">       10.2379  </td><td style=\"text-align: right;\">     0.541563  </td></tr>\n",
       "<tr><td>train_mcdo_3cf75520</td><td>TERMINATED</td><td>10.2.219.10:3491208</td><td style=\"text-align: right;\">    15.6404 </td><td style=\"text-align: right;\">  0.457137</td><td style=\"text-align: right;\">     97.656  </td><td style=\"text-align: right;\">0.0583725  </td><td style=\"text-align: right;\">     6.41234</td><td style=\"text-align: right;\">  29.1013 </td><td style=\"text-align: right;\">     1</td><td style=\"text-align: right;\">       15.8376  </td><td style=\"text-align: right;\">     0.528901  </td></tr>\n",
       "<tr><td>train_mcdo_5449a40e</td><td>TERMINATED</td><td>10.2.219.10:3491539</td><td style=\"text-align: right;\">     5.73255</td><td style=\"text-align: right;\">  0.200511</td><td style=\"text-align: right;\">    162.273  </td><td style=\"text-align: right;\">0.0187371  </td><td style=\"text-align: right;\">     5.65815</td><td style=\"text-align: right;\">   1.32092</td><td style=\"text-align: right;\">     1</td><td style=\"text-align: right;\">        1.73515 </td><td style=\"text-align: right;\">     0.539409  </td></tr>\n",
       "<tr><td>train_mcdo_773d0373</td><td>TERMINATED</td><td>10.2.219.10:3490633</td><td style=\"text-align: right;\">    14.8103 </td><td style=\"text-align: right;\">  0.223589</td><td style=\"text-align: right;\">     77.5559 </td><td style=\"text-align: right;\">0.0765731  </td><td style=\"text-align: right;\">     2.11697</td><td style=\"text-align: right;\">   5.19012</td><td style=\"text-align: right;\">     1</td><td style=\"text-align: right;\">        1.13353 </td><td style=\"text-align: right;\">     0.526509  </td></tr>\n",
       "<tr><td>train_mcdo_c69442d3</td><td>TERMINATED</td><td>10.2.219.10:3493238</td><td style=\"text-align: right;\">     9.09952</td><td style=\"text-align: right;\">  0.435851</td><td style=\"text-align: right;\">    123.779  </td><td style=\"text-align: right;\">0.0132769  </td><td style=\"text-align: right;\">     8.69337</td><td style=\"text-align: right;\">   2.28545</td><td style=\"text-align: right;\">     1</td><td style=\"text-align: right;\">        2.97991 </td><td style=\"text-align: right;\">     0.524636  </td></tr>\n",
       "<tr><td>train_mcdo_43354cd3</td><td>TERMINATED</td><td>10.2.219.10:3491539</td><td style=\"text-align: right;\">    16.479  </td><td style=\"text-align: right;\">  0.451694</td><td style=\"text-align: right;\">    169.131  </td><td style=\"text-align: right;\">0.0403309  </td><td style=\"text-align: right;\">     5.37955</td><td style=\"text-align: right;\">  35.2875 </td><td style=\"text-align: right;\">     1</td><td style=\"text-align: right;\">       17.8195  </td><td style=\"text-align: right;\">     0.531934  </td></tr>\n",
       "<tr><td>train_mcdo_ead9274a</td><td>TERMINATED</td><td>10.2.219.10:3490633</td><td style=\"text-align: right;\">    17.161  </td><td style=\"text-align: right;\">  0.281991</td><td style=\"text-align: right;\">     83.396  </td><td style=\"text-align: right;\">0.0506082  </td><td style=\"text-align: right;\">     2.47065</td><td style=\"text-align: right;\">   4.77798</td><td style=\"text-align: right;\">     1</td><td style=\"text-align: right;\">        0.634748</td><td style=\"text-align: right;\">     0.539989  </td></tr>\n",
       "<tr><td>train_mcdo_d0b8e7a7</td><td>TERMINATED</td><td>10.2.219.10:3490633</td><td style=\"text-align: right;\">     3.25646</td><td style=\"text-align: right;\">  0.16872 </td><td style=\"text-align: right;\">    146.14   </td><td style=\"text-align: right;\">0.0143026  </td><td style=\"text-align: right;\">     4.23263</td><td style=\"text-align: right;\">  33.1229 </td><td style=\"text-align: right;\">     1</td><td style=\"text-align: right;\">       21.4557  </td><td style=\"text-align: right;\">     0.51151   </td></tr>\n",
       "<tr><td>train_mcdo_74e25820</td><td>TERMINATED</td><td>10.2.219.10:3493238</td><td style=\"text-align: right;\">     2.06016</td><td style=\"text-align: right;\">  0.285091</td><td style=\"text-align: right;\">     85.153  </td><td style=\"text-align: right;\">0.00593634 </td><td style=\"text-align: right;\">     4.18122</td><td style=\"text-align: right;\">  18.1845 </td><td style=\"text-align: right;\">     1</td><td style=\"text-align: right;\">       20.3275  </td><td style=\"text-align: right;\">     0.366811  </td></tr>\n",
       "<tr><td>train_mcdo_5f9288eb</td><td>TERMINATED</td><td>10.2.219.10:3491615</td><td style=\"text-align: right;\">     1.70123</td><td style=\"text-align: right;\">  0.254012</td><td style=\"text-align: right;\">    193.932  </td><td style=\"text-align: right;\">0.0397206  </td><td style=\"text-align: right;\">     2.02209</td><td style=\"text-align: right;\">   6.74325</td><td style=\"text-align: right;\">     1</td><td style=\"text-align: right;\">        4.75538 </td><td style=\"text-align: right;\">     0.0346156 </td></tr>\n",
       "<tr><td>train_mcdo_543e484d</td><td>TERMINATED</td><td>10.2.219.10:3490881</td><td style=\"text-align: right;\">     3.75763</td><td style=\"text-align: right;\">  0.198371</td><td style=\"text-align: right;\">    149.424  </td><td style=\"text-align: right;\">0.0864902  </td><td style=\"text-align: right;\">     6.00498</td><td style=\"text-align: right;\">  18.7214 </td><td style=\"text-align: right;\">     1</td><td style=\"text-align: right;\">       28.9529  </td><td style=\"text-align: right;\">     0.539351  </td></tr>\n",
       "<tr><td>train_mcdo_0a974117</td><td>TERMINATED</td><td>10.2.219.10:3491082</td><td style=\"text-align: right;\">    19.0777 </td><td style=\"text-align: right;\">  0.197117</td><td style=\"text-align: right;\">     80.8202 </td><td style=\"text-align: right;\">0.0492423  </td><td style=\"text-align: right;\">     9.42207</td><td style=\"text-align: right;\">   6.47932</td><td style=\"text-align: right;\">     1</td><td style=\"text-align: right;\">        2.81935 </td><td style=\"text-align: right;\">     0.536764  </td></tr>\n",
       "<tr><td>train_mcdo_2954a0bb</td><td>TERMINATED</td><td>10.2.219.10:3491040</td><td style=\"text-align: right;\">    15.6721 </td><td style=\"text-align: right;\">  0.342318</td><td style=\"text-align: right;\">     69.0611 </td><td style=\"text-align: right;\">0.00261853 </td><td style=\"text-align: right;\">     9.6417 </td><td style=\"text-align: right;\">   2.31787</td><td style=\"text-align: right;\">     1</td><td style=\"text-align: right;\">        0.705734</td><td style=\"text-align: right;\">     0.535026  </td></tr>\n",
       "<tr><td>train_mcdo_521f368c</td><td>TERMINATED</td><td>10.2.219.10:3491040</td><td style=\"text-align: right;\">     7.04264</td><td style=\"text-align: right;\">  0.139846</td><td style=\"text-align: right;\">     67.818  </td><td style=\"text-align: right;\">0.088253   </td><td style=\"text-align: right;\">     5.09663</td><td style=\"text-align: right;\">   8.49019</td><td style=\"text-align: right;\">     1</td><td style=\"text-align: right;\">        2.74338 </td><td style=\"text-align: right;\">     0.53444   </td></tr>\n",
       "<tr><td>train_mcdo_684e5173</td><td>TERMINATED</td><td>10.2.219.10:3491615</td><td style=\"text-align: right;\">     3.84998</td><td style=\"text-align: right;\">  0.121365</td><td style=\"text-align: right;\">     95.9817 </td><td style=\"text-align: right;\">0.0913838  </td><td style=\"text-align: right;\">     9.78452</td><td style=\"text-align: right;\">  34.2552 </td><td style=\"text-align: right;\">     1</td><td style=\"text-align: right;\">       35.2438  </td><td style=\"text-align: right;\">     0.529242  </td></tr>\n",
       "<tr><td>train_mcdo_b718bcb8</td><td>TERMINATED</td><td>10.2.219.10:3491082</td><td style=\"text-align: right;\">     9.10894</td><td style=\"text-align: right;\">  0.194576</td><td style=\"text-align: right;\">    135.171  </td><td style=\"text-align: right;\">0.0569697  </td><td style=\"text-align: right;\">     4.56405</td><td style=\"text-align: right;\">  11.8869 </td><td style=\"text-align: right;\">     1</td><td style=\"text-align: right;\">        3.23461 </td><td style=\"text-align: right;\">     0.520555  </td></tr>\n",
       "<tr><td>train_mcdo_45d56833</td><td>TERMINATED</td><td>10.2.219.10:3491040</td><td style=\"text-align: right;\">    14.9779 </td><td style=\"text-align: right;\">  0.476173</td><td style=\"text-align: right;\">    196.344  </td><td style=\"text-align: right;\">0.0526342  </td><td style=\"text-align: right;\">     5.01059</td><td style=\"text-align: right;\">  49.6256 </td><td style=\"text-align: right;\">     1</td><td style=\"text-align: right;\">       29.768   </td><td style=\"text-align: right;\">     0.520033  </td></tr>\n",
       "<tr><td>train_mcdo_f90ee541</td><td>TERMINATED</td><td>10.2.219.10:3491208</td><td style=\"text-align: right;\">    18.7407 </td><td style=\"text-align: right;\">  0.177655</td><td style=\"text-align: right;\">    101.882  </td><td style=\"text-align: right;\">0.0448875  </td><td style=\"text-align: right;\">     5.73343</td><td style=\"text-align: right;\">  11.4345 </td><td style=\"text-align: right;\">     1</td><td style=\"text-align: right;\">        1.69861 </td><td style=\"text-align: right;\">     0.52786   </td></tr>\n",
       "<tr><td>train_mcdo_37a5cc34</td><td>TERMINATED</td><td>10.2.219.10:3491082</td><td style=\"text-align: right;\">    17.4139 </td><td style=\"text-align: right;\">  0.131488</td><td style=\"text-align: right;\">     46.2675 </td><td style=\"text-align: right;\">0.0439485  </td><td style=\"text-align: right;\">     7.73006</td><td style=\"text-align: right;\">  25.3724 </td><td style=\"text-align: right;\">     1</td><td style=\"text-align: right;\">        5.87238 </td><td style=\"text-align: right;\">     0.533636  </td></tr>\n",
       "<tr><td>train_mcdo_4201b0a2</td><td>TERMINATED</td><td>10.2.219.10:3491208</td><td style=\"text-align: right;\">     2.81831</td><td style=\"text-align: right;\">  0.152584</td><td style=\"text-align: right;\">    172.467  </td><td style=\"text-align: right;\">0.0424707  </td><td style=\"text-align: right;\">     3.8306 </td><td style=\"text-align: right;\">  24.9893 </td><td style=\"text-align: right;\">     1</td><td style=\"text-align: right;\">       34.2799  </td><td style=\"text-align: right;\">     0.379633  </td></tr>\n",
       "<tr><td>train_mcdo_987375de</td><td>TERMINATED</td><td>10.2.219.10:3491140</td><td style=\"text-align: right;\">     6.70984</td><td style=\"text-align: right;\">  0.273424</td><td style=\"text-align: right;\">     40.3443 </td><td style=\"text-align: right;\">0.047497   </td><td style=\"text-align: right;\">     3.98868</td><td style=\"text-align: right;\">  35.8359 </td><td style=\"text-align: right;\">     1</td><td style=\"text-align: right;\">       14.1838  </td><td style=\"text-align: right;\">     0.530709  </td></tr>\n",
       "<tr><td>train_mcdo_8b0ffa28</td><td>TERMINATED</td><td>10.2.219.10:3491539</td><td style=\"text-align: right;\">    11.181  </td><td style=\"text-align: right;\">  0.239463</td><td style=\"text-align: right;\">    169.122  </td><td style=\"text-align: right;\">0.0869093  </td><td style=\"text-align: right;\">     8.48278</td><td style=\"text-align: right;\">   1.72788</td><td style=\"text-align: right;\">     1</td><td style=\"text-align: right;\">        2.1434  </td><td style=\"text-align: right;\">     0.549214  </td></tr>\n",
       "<tr><td>train_mcdo_237e0772</td><td>TERMINATED</td><td>10.2.219.10:3491082</td><td style=\"text-align: right;\">    13.0222 </td><td style=\"text-align: right;\">  0.103431</td><td style=\"text-align: right;\">    118.293  </td><td style=\"text-align: right;\">0.0436518  </td><td style=\"text-align: right;\">     6.07847</td><td style=\"text-align: right;\">  36.1861 </td><td style=\"text-align: right;\">     1</td><td style=\"text-align: right;\">        8.86153 </td><td style=\"text-align: right;\">     0.532706  </td></tr>\n",
       "<tr><td>train_mcdo_34255f8e</td><td>TERMINATED</td><td>10.2.219.10:3491539</td><td style=\"text-align: right;\">     2.73383</td><td style=\"text-align: right;\">  0.374745</td><td style=\"text-align: right;\">     24.9598 </td><td style=\"text-align: right;\">0.0931515  </td><td style=\"text-align: right;\">     2.80947</td><td style=\"text-align: right;\">  35.133  </td><td style=\"text-align: right;\">     1</td><td style=\"text-align: right;\">       16.3288  </td><td style=\"text-align: right;\">     0.538959  </td></tr>\n",
       "<tr><td>train_mcdo_c9ce1fba</td><td>TERMINATED</td><td>10.2.219.10:3490633</td><td style=\"text-align: right;\">     6.28252</td><td style=\"text-align: right;\">  0.150602</td><td style=\"text-align: right;\">     14.5904 </td><td style=\"text-align: right;\">0.0207812  </td><td style=\"text-align: right;\">     9.08996</td><td style=\"text-align: right;\">  26.0579 </td><td style=\"text-align: right;\">     1</td><td style=\"text-align: right;\">       14.5308  </td><td style=\"text-align: right;\">     0.529345  </td></tr>\n",
       "<tr><td>train_mcdo_6ec0330c</td><td>TERMINATED</td><td>10.2.219.10:3493238</td><td style=\"text-align: right;\">     4.52512</td><td style=\"text-align: right;\">  0.381918</td><td style=\"text-align: right;\">     11.1604 </td><td style=\"text-align: right;\">0.069706   </td><td style=\"text-align: right;\">     8.85007</td><td style=\"text-align: right;\">  44.284  </td><td style=\"text-align: right;\">     1</td><td style=\"text-align: right;\">       50.2529  </td><td style=\"text-align: right;\">     0.538907  </td></tr>\n",
       "<tr><td>train_mcdo_c4a17ca4</td><td>TERMINATED</td><td>10.2.219.10:3491082</td><td style=\"text-align: right;\">     8.89832</td><td style=\"text-align: right;\">  0.39827 </td><td style=\"text-align: right;\">    131.252  </td><td style=\"text-align: right;\">0.0617359  </td><td style=\"text-align: right;\">     4.56433</td><td style=\"text-align: right;\">  47.3335 </td><td style=\"text-align: right;\">     1</td><td style=\"text-align: right;\">       19.9498  </td><td style=\"text-align: right;\">     0.538915  </td></tr>\n",
       "<tr><td>train_mcdo_32d4a43e</td><td>TERMINATED</td><td>10.2.219.10:3491140</td><td style=\"text-align: right;\">    19.2146 </td><td style=\"text-align: right;\">  0.464817</td><td style=\"text-align: right;\">    151.032  </td><td style=\"text-align: right;\">0.096337   </td><td style=\"text-align: right;\">     5.56893</td><td style=\"text-align: right;\">  15.947  </td><td style=\"text-align: right;\">     1</td><td style=\"text-align: right;\">        5.06531 </td><td style=\"text-align: right;\">     0.535702  </td></tr>\n",
       "<tr><td>train_mcdo_fd5e35d0</td><td>TERMINATED</td><td>10.2.219.10:3493694</td><td style=\"text-align: right;\">    15.358  </td><td style=\"text-align: right;\">  0.470577</td><td style=\"text-align: right;\">    128.085  </td><td style=\"text-align: right;\">0.0232387  </td><td style=\"text-align: right;\">     8.19779</td><td style=\"text-align: right;\">  30.3182 </td><td style=\"text-align: right;\">     1</td><td style=\"text-align: right;\">        9.54318 </td><td style=\"text-align: right;\">     0.526313  </td></tr>\n",
       "<tr><td>train_mcdo_7728fc8e</td><td>TERMINATED</td><td>10.2.219.10:3490881</td><td style=\"text-align: right;\">     5.01484</td><td style=\"text-align: right;\">  0.418332</td><td style=\"text-align: right;\">     31.2829 </td><td style=\"text-align: right;\">0.0235276  </td><td style=\"text-align: right;\">     8.91463</td><td style=\"text-align: right;\">  49.4065 </td><td style=\"text-align: right;\">     1</td><td style=\"text-align: right;\">       45.5284  </td><td style=\"text-align: right;\">     0.538907  </td></tr>\n",
       "<tr><td>train_mcdo_db826fde</td><td>TERMINATED</td><td>10.2.219.10:3491140</td><td style=\"text-align: right;\">     2.5692 </td><td style=\"text-align: right;\">  0.303684</td><td style=\"text-align: right;\">     28.9855 </td><td style=\"text-align: right;\">0.00135846 </td><td style=\"text-align: right;\">     4.67674</td><td style=\"text-align: right;\">   7.72825</td><td style=\"text-align: right;\">     1</td><td style=\"text-align: right;\">        9.88054 </td><td style=\"text-align: right;\">     0.376357  </td></tr>\n",
       "<tr><td>train_mcdo_0b2c7540</td><td>TERMINATED</td><td>10.2.219.10:3490943</td><td style=\"text-align: right;\">    16.6963 </td><td style=\"text-align: right;\">  0.41553 </td><td style=\"text-align: right;\">    168.553  </td><td style=\"text-align: right;\">0.0927469  </td><td style=\"text-align: right;\">     4.99865</td><td style=\"text-align: right;\">  29.8586 </td><td style=\"text-align: right;\">     1</td><td style=\"text-align: right;\">        7.37805 </td><td style=\"text-align: right;\">     0.531931  </td></tr>\n",
       "<tr><td>train_mcdo_b646a14c</td><td>TERMINATED</td><td>10.2.219.10:3491539</td><td style=\"text-align: right;\">    11.7225 </td><td style=\"text-align: right;\">  0.35462 </td><td style=\"text-align: right;\">    133.049  </td><td style=\"text-align: right;\">0.070316   </td><td style=\"text-align: right;\">     3.17184</td><td style=\"text-align: right;\">  45.2187 </td><td style=\"text-align: right;\">     1</td><td style=\"text-align: right;\">       10.312   </td><td style=\"text-align: right;\">     0.516107  </td></tr>\n",
       "<tr><td>train_mcdo_7e9fd95e</td><td>TERMINATED</td><td>10.2.219.10:3490633</td><td style=\"text-align: right;\">    15.0702 </td><td style=\"text-align: right;\">  0.366867</td><td style=\"text-align: right;\">    136.674  </td><td style=\"text-align: right;\">0.0516041  </td><td style=\"text-align: right;\">     3.11629</td><td style=\"text-align: right;\">  49.1196 </td><td style=\"text-align: right;\">     1</td><td style=\"text-align: right;\">        6.12931 </td><td style=\"text-align: right;\">     0.525821  </td></tr>\n",
       "<tr><td>train_mcdo_17050dae</td><td>TERMINATED</td><td>10.2.219.10:3491040</td><td style=\"text-align: right;\">    18.2634 </td><td style=\"text-align: right;\">  0.233578</td><td style=\"text-align: right;\">    177.495  </td><td style=\"text-align: right;\">0.0220524  </td><td style=\"text-align: right;\">     7.30741</td><td style=\"text-align: right;\">  14.3674 </td><td style=\"text-align: right;\">     1</td><td style=\"text-align: right;\">        7.2045  </td><td style=\"text-align: right;\">     0.504372  </td></tr>\n",
       "<tr><td>train_mcdo_f8cf72da</td><td>TERMINATED</td><td>10.2.219.10:3493694</td><td style=\"text-align: right;\">    19.2743 </td><td style=\"text-align: right;\">  0.319887</td><td style=\"text-align: right;\">     63.9616 </td><td style=\"text-align: right;\">0.0901445  </td><td style=\"text-align: right;\">     3.87472</td><td style=\"text-align: right;\">  26.9594 </td><td style=\"text-align: right;\">     1</td><td style=\"text-align: right;\">        6.32262 </td><td style=\"text-align: right;\">     0.531827  </td></tr>\n",
       "<tr><td>train_mcdo_ba23dd85</td><td>TERMINATED</td><td>10.2.219.10:3490943</td><td style=\"text-align: right;\">    12.6764 </td><td style=\"text-align: right;\">  0.285293</td><td style=\"text-align: right;\">     21.0809 </td><td style=\"text-align: right;\">0.0877881  </td><td style=\"text-align: right;\">     7.8508 </td><td style=\"text-align: right;\">  37.8774 </td><td style=\"text-align: right;\">     1</td><td style=\"text-align: right;\">       11.2948  </td><td style=\"text-align: right;\">     0.535371  </td></tr>\n",
       "<tr><td>train_mcdo_f65ca6e8</td><td>TERMINATED</td><td>10.2.219.10:3490633</td><td style=\"text-align: right;\">     1.80749</td><td style=\"text-align: right;\">  0.470083</td><td style=\"text-align: right;\">    137.339  </td><td style=\"text-align: right;\">0.0936663  </td><td style=\"text-align: right;\">     6.82194</td><td style=\"text-align: right;\">  31.4586 </td><td style=\"text-align: right;\">     1</td><td style=\"text-align: right;\">      101.854   </td><td style=\"text-align: right;\">     0.511883  </td></tr>\n",
       "<tr><td>train_mcdo_aef1edb9</td><td>TERMINATED</td><td>10.2.219.10:3491615</td><td style=\"text-align: right;\">     8.57677</td><td style=\"text-align: right;\">  0.431811</td><td style=\"text-align: right;\">    190.001  </td><td style=\"text-align: right;\">0.0730863  </td><td style=\"text-align: right;\">     3.46834</td><td style=\"text-align: right;\">  13.4273 </td><td style=\"text-align: right;\">     1</td><td style=\"text-align: right;\">        9.24929 </td><td style=\"text-align: right;\">     0.530779  </td></tr>\n",
       "<tr><td>train_mcdo_ea0da2da</td><td>TERMINATED</td><td>10.2.219.10:3491140</td><td style=\"text-align: right;\">    13.0472 </td><td style=\"text-align: right;\">  0.31981 </td><td style=\"text-align: right;\">    188.435  </td><td style=\"text-align: right;\">0.0462558  </td><td style=\"text-align: right;\">     3.03172</td><td style=\"text-align: right;\">  30.0784 </td><td style=\"text-align: right;\">     1</td><td style=\"text-align: right;\">        8.49612 </td><td style=\"text-align: right;\">     0.532191  </td></tr>\n",
       "<tr><td>train_mcdo_50173097</td><td>TERMINATED</td><td>10.2.219.10:3491539</td><td style=\"text-align: right;\">    16.7004 </td><td style=\"text-align: right;\">  0.239743</td><td style=\"text-align: right;\">    144.308  </td><td style=\"text-align: right;\">0.0404331  </td><td style=\"text-align: right;\">     6.59978</td><td style=\"text-align: right;\">  36.258  </td><td style=\"text-align: right;\">     1</td><td style=\"text-align: right;\">       11.7451  </td><td style=\"text-align: right;\">     0.533238  </td></tr>\n",
       "<tr><td>train_mcdo_af70ae01</td><td>TERMINATED</td><td>10.2.219.10:3491082</td><td style=\"text-align: right;\">    18.6669 </td><td style=\"text-align: right;\">  0.152194</td><td style=\"text-align: right;\">    180.506  </td><td style=\"text-align: right;\">0.0946526  </td><td style=\"text-align: right;\">     4.46978</td><td style=\"text-align: right;\">  21.1434 </td><td style=\"text-align: right;\">     1</td><td style=\"text-align: right;\">       10.4689  </td><td style=\"text-align: right;\">     0.501421  </td></tr>\n",
       "<tr><td>train_mcdo_48b8b982</td><td>TERMINATED</td><td>10.2.219.10:3491040</td><td style=\"text-align: right;\">     7.3822 </td><td style=\"text-align: right;\">  0.254662</td><td style=\"text-align: right;\">     31.1002 </td><td style=\"text-align: right;\">0.038274   </td><td style=\"text-align: right;\">     9.10059</td><td style=\"text-align: right;\">  40.7831 </td><td style=\"text-align: right;\">     1</td><td style=\"text-align: right;\">       34.8741  </td><td style=\"text-align: right;\">     0.532192  </td></tr>\n",
       "<tr><td>train_mcdo_7fb64f5d</td><td>TERMINATED</td><td>10.2.219.10:3491208</td><td style=\"text-align: right;\">    17.4441 </td><td style=\"text-align: right;\">  0.173139</td><td style=\"text-align: right;\">    195.126  </td><td style=\"text-align: right;\">0.0173344  </td><td style=\"text-align: right;\">     4.68039</td><td style=\"text-align: right;\">  11.6402 </td><td style=\"text-align: right;\">     1</td><td style=\"text-align: right;\">        2.38976 </td><td style=\"text-align: right;\">     0.536146  </td></tr>\n",
       "<tr><td>train_mcdo_3c07176a</td><td>TERMINATED</td><td>10.2.219.10:3493694</td><td style=\"text-align: right;\">     6.56209</td><td style=\"text-align: right;\">  0.386676</td><td style=\"text-align: right;\">     85.198  </td><td style=\"text-align: right;\">0.056342   </td><td style=\"text-align: right;\">     6.88236</td><td style=\"text-align: right;\">   4.05156</td><td style=\"text-align: right;\">     1</td><td style=\"text-align: right;\">        2.683   </td><td style=\"text-align: right;\">     0.536853  </td></tr>\n",
       "<tr><td>train_mcdo_ff538c20</td><td>TERMINATED</td><td>10.2.219.10:3491208</td><td style=\"text-align: right;\">     2.1958 </td><td style=\"text-align: right;\">  0.412446</td><td style=\"text-align: right;\">    159.374  </td><td style=\"text-align: right;\">0.0195719  </td><td style=\"text-align: right;\">     8.00231</td><td style=\"text-align: right;\">   3.85224</td><td style=\"text-align: right;\">     1</td><td style=\"text-align: right;\">       10.491   </td><td style=\"text-align: right;\">     0.54422   </td></tr>\n",
       "<tr><td>train_mcdo_72a90a8b</td><td>TERMINATED</td><td>10.2.219.10:3493694</td><td style=\"text-align: right;\">     2.2659 </td><td style=\"text-align: right;\">  0.176591</td><td style=\"text-align: right;\">    164.481  </td><td style=\"text-align: right;\">0.076583   </td><td style=\"text-align: right;\">     6.16815</td><td style=\"text-align: right;\">   5.93053</td><td style=\"text-align: right;\">     1</td><td style=\"text-align: right;\">       34.9962  </td><td style=\"text-align: right;\">     0.538908  </td></tr>\n",
       "<tr><td>train_mcdo_f8b17913</td><td>TERMINATED</td><td>10.2.219.10:3491615</td><td style=\"text-align: right;\">    17.2552 </td><td style=\"text-align: right;\">  0.453257</td><td style=\"text-align: right;\">    140.643  </td><td style=\"text-align: right;\">0.0940204  </td><td style=\"text-align: right;\">     5.74294</td><td style=\"text-align: right;\">  35.9993 </td><td style=\"text-align: right;\">     1</td><td style=\"text-align: right;\">       12.1536  </td><td style=\"text-align: right;\">     0.538112  </td></tr>\n",
       "<tr><td>train_mcdo_660f1f11</td><td>TERMINATED</td><td>10.2.219.10:3491140</td><td style=\"text-align: right;\">     5.28121</td><td style=\"text-align: right;\">  0.408427</td><td style=\"text-align: right;\">    111.188  </td><td style=\"text-align: right;\">0.0584152  </td><td style=\"text-align: right;\">     4.83535</td><td style=\"text-align: right;\">  49.6562 </td><td style=\"text-align: right;\">     1</td><td style=\"text-align: right;\">       26.7572  </td><td style=\"text-align: right;\">     0.538907  </td></tr>\n",
       "<tr><td>train_mcdo_e934cf9c</td><td>TERMINATED</td><td>10.2.219.10:3490943</td><td style=\"text-align: right;\">     7.99455</td><td style=\"text-align: right;\">  0.121335</td><td style=\"text-align: right;\">    126.425  </td><td style=\"text-align: right;\">0.0913736  </td><td style=\"text-align: right;\">     7.96147</td><td style=\"text-align: right;\">  35.4252 </td><td style=\"text-align: right;\">     1</td><td style=\"text-align: right;\">       28.0871  </td><td style=\"text-align: right;\">     0.525722  </td></tr>\n",
       "<tr><td>train_mcdo_dea89fae</td><td>TERMINATED</td><td>10.2.219.10:3490249</td><td style=\"text-align: right;\">    10.5542 </td><td style=\"text-align: right;\">  0.419152</td><td style=\"text-align: right;\">     98.2273 </td><td style=\"text-align: right;\">0.0109033  </td><td style=\"text-align: right;\">     7.59712</td><td style=\"text-align: right;\">  41.3961 </td><td style=\"text-align: right;\">     1</td><td style=\"text-align: right;\">       12.5841  </td><td style=\"text-align: right;\">     0.539534  </td></tr>\n",
       "<tr><td>train_mcdo_566f41fd</td><td>TERMINATED</td><td>10.2.219.10:3490794</td><td style=\"text-align: right;\">    11.4821 </td><td style=\"text-align: right;\">  0.186812</td><td style=\"text-align: right;\">    147.414  </td><td style=\"text-align: right;\">0.0134765  </td><td style=\"text-align: right;\">     3.67132</td><td style=\"text-align: right;\">   3.36124</td><td style=\"text-align: right;\">     1</td><td style=\"text-align: right;\">        0.957511</td><td style=\"text-align: right;\">     0.528588  </td></tr>\n",
       "<tr><td>train_mcdo_634ca0a8</td><td>TERMINATED</td><td>10.2.219.10:3490794</td><td style=\"text-align: right;\">     2.70307</td><td style=\"text-align: right;\">  0.358895</td><td style=\"text-align: right;\">     56.4805 </td><td style=\"text-align: right;\">0.0175363  </td><td style=\"text-align: right;\">     4.54777</td><td style=\"text-align: right;\">  23.4098 </td><td style=\"text-align: right;\">     1</td><td style=\"text-align: right;\">       29.0194  </td><td style=\"text-align: right;\">     0.393362  </td></tr>\n",
       "<tr><td>train_mcdo_ef919fd9</td><td>TERMINATED</td><td>10.2.219.10:3491539</td><td style=\"text-align: right;\">     1.81401</td><td style=\"text-align: right;\">  0.175276</td><td style=\"text-align: right;\">     21.0645 </td><td style=\"text-align: right;\">0.0119538  </td><td style=\"text-align: right;\">     4.17359</td><td style=\"text-align: right;\">  20.0455 </td><td style=\"text-align: right;\">     1</td><td style=\"text-align: right;\">       31.0144  </td><td style=\"text-align: right;\">     0.0124817 </td></tr>\n",
       "<tr><td>train_mcdo_531456ee</td><td>TERMINATED</td><td>10.2.219.10:3491082</td><td style=\"text-align: right;\">    17.158  </td><td style=\"text-align: right;\">  0.262056</td><td style=\"text-align: right;\">     56.4662 </td><td style=\"text-align: right;\">0.00909791 </td><td style=\"text-align: right;\">     2.84769</td><td style=\"text-align: right;\">   7.80851</td><td style=\"text-align: right;\">     1</td><td style=\"text-align: right;\">        0.985828</td><td style=\"text-align: right;\">     0.536436  </td></tr>\n",
       "<tr><td>train_mcdo_f51bb8c8</td><td>TERMINATED</td><td>10.2.219.10:3491082</td><td style=\"text-align: right;\">     6.65202</td><td style=\"text-align: right;\">  0.277963</td><td style=\"text-align: right;\">     32.9433 </td><td style=\"text-align: right;\">0.0796799  </td><td style=\"text-align: right;\">     3.9885 </td><td style=\"text-align: right;\">   5.97919</td><td style=\"text-align: right;\">     1</td><td style=\"text-align: right;\">        1.87651 </td><td style=\"text-align: right;\">     0.532138  </td></tr>\n",
       "<tr><td>train_mcdo_f2ab4233</td><td>TERMINATED</td><td>10.2.219.10:3491082</td><td style=\"text-align: right;\">     9.62599</td><td style=\"text-align: right;\">  0.447878</td><td style=\"text-align: right;\">     86.3935 </td><td style=\"text-align: right;\">0.066279   </td><td style=\"text-align: right;\">     7.66466</td><td style=\"text-align: right;\">  42.8406 </td><td style=\"text-align: right;\">     1</td><td style=\"text-align: right;\">       12.4124  </td><td style=\"text-align: right;\">     0.525201  </td></tr>\n",
       "<tr><td>train_mcdo_0dfb5675</td><td>TERMINATED</td><td>10.2.219.10:3491208</td><td style=\"text-align: right;\">    11.8163 </td><td style=\"text-align: right;\">  0.196798</td><td style=\"text-align: right;\">     65.3757 </td><td style=\"text-align: right;\">0.0582796  </td><td style=\"text-align: right;\">     9.30665</td><td style=\"text-align: right;\">  33.1562 </td><td style=\"text-align: right;\">     1</td><td style=\"text-align: right;\">       11.3105  </td><td style=\"text-align: right;\">     0.521822  </td></tr>\n",
       "<tr><td>train_mcdo_337335a9</td><td>TERMINATED</td><td>10.2.219.10:3491615</td><td style=\"text-align: right;\">     6.75021</td><td style=\"text-align: right;\">  0.468687</td><td style=\"text-align: right;\">    106.975  </td><td style=\"text-align: right;\">0.0940041  </td><td style=\"text-align: right;\">     9.09564</td><td style=\"text-align: right;\">  46.6135 </td><td style=\"text-align: right;\">     1</td><td style=\"text-align: right;\">       49.9889  </td><td style=\"text-align: right;\">     0.539489  </td></tr>\n",
       "<tr><td>train_mcdo_a03784ba</td><td>TERMINATED</td><td>10.2.219.10:3490249</td><td style=\"text-align: right;\">    18.5792 </td><td style=\"text-align: right;\">  0.435202</td><td style=\"text-align: right;\">    166.443  </td><td style=\"text-align: right;\">0.0709057  </td><td style=\"text-align: right;\">     4.92831</td><td style=\"text-align: right;\">   4.07021</td><td style=\"text-align: right;\">     1</td><td style=\"text-align: right;\">        1.08395 </td><td style=\"text-align: right;\">     0.529557  </td></tr>\n",
       "<tr><td>train_mcdo_1097ba69</td><td>TERMINATED</td><td>10.2.219.10:3490249</td><td style=\"text-align: right;\">    12.6972 </td><td style=\"text-align: right;\">  0.175912</td><td style=\"text-align: right;\">     55.468  </td><td style=\"text-align: right;\">0.0250594  </td><td style=\"text-align: right;\">     6.23354</td><td style=\"text-align: right;\">  12.2903 </td><td style=\"text-align: right;\">     1</td><td style=\"text-align: right;\">        5.73377 </td><td style=\"text-align: right;\">     0.532795  </td></tr>\n",
       "<tr><td>train_mcdo_b582cb0f</td><td>TERMINATED</td><td>10.2.219.10:3493238</td><td style=\"text-align: right;\">     8.69703</td><td style=\"text-align: right;\">  0.461684</td><td style=\"text-align: right;\">    184.524  </td><td style=\"text-align: right;\">0.0712676  </td><td style=\"text-align: right;\">     8.09919</td><td style=\"text-align: right;\">  15.8887 </td><td style=\"text-align: right;\">     1</td><td style=\"text-align: right;\">       10.413   </td><td style=\"text-align: right;\">     0.553467  </td></tr>\n",
       "<tr><td>train_mcdo_51915f50</td><td>TERMINATED</td><td>10.2.219.10:3491208</td><td style=\"text-align: right;\">    16.0122 </td><td style=\"text-align: right;\">  0.185669</td><td style=\"text-align: right;\">    105.018  </td><td style=\"text-align: right;\">0.0758687  </td><td style=\"text-align: right;\">     7.4027 </td><td style=\"text-align: right;\">  46.9986 </td><td style=\"text-align: right;\">     1</td><td style=\"text-align: right;\">        9.42822 </td><td style=\"text-align: right;\">     0.528303  </td></tr>\n",
       "<tr><td>train_mcdo_a55684cd</td><td>TERMINATED</td><td>10.2.219.10:3491082</td><td style=\"text-align: right;\">    18.6828 </td><td style=\"text-align: right;\">  0.159023</td><td style=\"text-align: right;\">     94.2795 </td><td style=\"text-align: right;\">0.0548118  </td><td style=\"text-align: right;\">     7.07929</td><td style=\"text-align: right;\">  32.5652 </td><td style=\"text-align: right;\">     1</td><td style=\"text-align: right;\">        4.01048 </td><td style=\"text-align: right;\">     0.500966  </td></tr>\n",
       "<tr><td>train_mcdo_c55e6752</td><td>TERMINATED</td><td>10.2.219.10:3490249</td><td style=\"text-align: right;\">     5.59125</td><td style=\"text-align: right;\">  0.393276</td><td style=\"text-align: right;\">    192.58   </td><td style=\"text-align: right;\">0.0130244  </td><td style=\"text-align: right;\">     4.59644</td><td style=\"text-align: right;\">  27.7489 </td><td style=\"text-align: right;\">     1</td><td style=\"text-align: right;\">       28.8542  </td><td style=\"text-align: right;\">     0.538907  </td></tr>\n",
       "<tr><td>train_mcdo_cc633c03</td><td>TERMINATED</td><td>10.2.219.10:3491082</td><td style=\"text-align: right;\">    17.2089 </td><td style=\"text-align: right;\">  0.331098</td><td style=\"text-align: right;\">    176.653  </td><td style=\"text-align: right;\">0.0637262  </td><td style=\"text-align: right;\">     7.94591</td><td style=\"text-align: right;\">  43.5259 </td><td style=\"text-align: right;\">     1</td><td style=\"text-align: right;\">       28.2667  </td><td style=\"text-align: right;\">     0.535002  </td></tr>\n",
       "<tr><td>train_mcdo_beece488</td><td>TERMINATED</td><td>10.2.219.10:3490881</td><td style=\"text-align: right;\">    17.4925 </td><td style=\"text-align: right;\">  0.233308</td><td style=\"text-align: right;\">     52.6231 </td><td style=\"text-align: right;\">0.0717501  </td><td style=\"text-align: right;\">     3.12245</td><td style=\"text-align: right;\">  38.9959 </td><td style=\"text-align: right;\">     1</td><td style=\"text-align: right;\">        3.34611 </td><td style=\"text-align: right;\">     0.536451  </td></tr>\n",
       "<tr><td>train_mcdo_d42dcd35</td><td>TERMINATED</td><td>10.2.219.10:3491140</td><td style=\"text-align: right;\">    16.218  </td><td style=\"text-align: right;\">  0.286922</td><td style=\"text-align: right;\">     52.6504 </td><td style=\"text-align: right;\">0.0205528  </td><td style=\"text-align: right;\">     9.18129</td><td style=\"text-align: right;\">  40.1632 </td><td style=\"text-align: right;\">     1</td><td style=\"text-align: right;\">        7.98044 </td><td style=\"text-align: right;\">     0.527061  </td></tr>\n",
       "<tr><td>train_mcdo_73c63676</td><td>TERMINATED</td><td>10.2.219.10:3490943</td><td style=\"text-align: right;\">    15.2419 </td><td style=\"text-align: right;\">  0.127797</td><td style=\"text-align: right;\">     68.6284 </td><td style=\"text-align: right;\">0.0890929  </td><td style=\"text-align: right;\">     6.95084</td><td style=\"text-align: right;\">   8.35073</td><td style=\"text-align: right;\">     1</td><td style=\"text-align: right;\">        3.3634  </td><td style=\"text-align: right;\">     0.531525  </td></tr>\n",
       "<tr><td>train_mcdo_943a0bc0</td><td>TERMINATED</td><td>10.2.219.10:3491040</td><td style=\"text-align: right;\">    19.2245 </td><td style=\"text-align: right;\">  0.132686</td><td style=\"text-align: right;\">     55.3418 </td><td style=\"text-align: right;\">0.0897906  </td><td style=\"text-align: right;\">     8.13845</td><td style=\"text-align: right;\">  32.9666 </td><td style=\"text-align: right;\">     1</td><td style=\"text-align: right;\">        6.95684 </td><td style=\"text-align: right;\">     0.53165   </td></tr>\n",
       "<tr><td>train_mcdo_178e2916</td><td>TERMINATED</td><td>10.2.219.10:3493238</td><td style=\"text-align: right;\">    11.8139 </td><td style=\"text-align: right;\">  0.408584</td><td style=\"text-align: right;\">      3.97301</td><td style=\"text-align: right;\">0.0856899  </td><td style=\"text-align: right;\">     4.58933</td><td style=\"text-align: right;\">  20.1915 </td><td style=\"text-align: right;\">     1</td><td style=\"text-align: right;\">        6.2944  </td><td style=\"text-align: right;\">     0.525519  </td></tr>\n",
       "<tr><td>train_mcdo_7a0e22a3</td><td>TERMINATED</td><td>10.2.219.10:3490943</td><td style=\"text-align: right;\">     1.34146</td><td style=\"text-align: right;\">  0.427755</td><td style=\"text-align: right;\">    199.935  </td><td style=\"text-align: right;\">0.00499588 </td><td style=\"text-align: right;\">     2.11215</td><td style=\"text-align: right;\">   5.87557</td><td style=\"text-align: right;\">     1</td><td style=\"text-align: right;\">        7.7047  </td><td style=\"text-align: right;\">     0.0282615 </td></tr>\n",
       "<tr><td>train_mcdo_f5c52f4f</td><td>TERMINATED</td><td>10.2.219.10:3490794</td><td style=\"text-align: right;\">    19.8954 </td><td style=\"text-align: right;\">  0.453434</td><td style=\"text-align: right;\">     62.0341 </td><td style=\"text-align: right;\">0.0667944  </td><td style=\"text-align: right;\">     2.12401</td><td style=\"text-align: right;\">  26.2259 </td><td style=\"text-align: right;\">     1</td><td style=\"text-align: right;\">        2.00779 </td><td style=\"text-align: right;\">     0.534216  </td></tr>\n",
       "<tr><td>train_mcdo_2dcdb40c</td><td>TERMINATED</td><td>10.2.219.10:3493694</td><td style=\"text-align: right;\">    16.0532 </td><td style=\"text-align: right;\">  0.413663</td><td style=\"text-align: right;\">    177.118  </td><td style=\"text-align: right;\">0.0775048  </td><td style=\"text-align: right;\">     7.42464</td><td style=\"text-align: right;\">   7.38787</td><td style=\"text-align: right;\">     1</td><td style=\"text-align: right;\">       27.1425  </td><td style=\"text-align: right;\">     0.542131  </td></tr>\n",
       "<tr><td>train_mcdo_9a57f3aa</td><td>TERMINATED</td><td>10.2.219.10:3491140</td><td style=\"text-align: right;\">    18.9851 </td><td style=\"text-align: right;\">  0.217535</td><td style=\"text-align: right;\">    151.255  </td><td style=\"text-align: right;\">0.0464288  </td><td style=\"text-align: right;\">     7.98371</td><td style=\"text-align: right;\">  47.5752 </td><td style=\"text-align: right;\">     1</td><td style=\"text-align: right;\">       27.875   </td><td style=\"text-align: right;\">     0.503612  </td></tr>\n",
       "<tr><td>train_mcdo_794ad7ed</td><td>TERMINATED</td><td>10.2.219.10:3491539</td><td style=\"text-align: right;\">    18.5408 </td><td style=\"text-align: right;\">  0.265051</td><td style=\"text-align: right;\">     90.7441 </td><td style=\"text-align: right;\">0.0237308  </td><td style=\"text-align: right;\">     7.13546</td><td style=\"text-align: right;\">  48.7267 </td><td style=\"text-align: right;\">     1</td><td style=\"text-align: right;\">       12.6701  </td><td style=\"text-align: right;\">     0.500575  </td></tr>\n",
       "<tr><td>train_mcdo_33b02e70</td><td>TERMINATED</td><td>10.2.219.10:3490794</td><td style=\"text-align: right;\">    12.8653 </td><td style=\"text-align: right;\">  0.215882</td><td style=\"text-align: right;\">    103.167  </td><td style=\"text-align: right;\">0.0852896  </td><td style=\"text-align: right;\">     5.11866</td><td style=\"text-align: right;\">  23.8243 </td><td style=\"text-align: right;\">     1</td><td style=\"text-align: right;\">        8.63708 </td><td style=\"text-align: right;\">     0.535238  </td></tr>\n",
       "<tr><td>train_mcdo_b5524a11</td><td>TERMINATED</td><td>10.2.219.10:3493238</td><td style=\"text-align: right;\">    12.9451 </td><td style=\"text-align: right;\">  0.372637</td><td style=\"text-align: right;\">    100.341  </td><td style=\"text-align: right;\">0.0964944  </td><td style=\"text-align: right;\">     6.8319 </td><td style=\"text-align: right;\">  24.3883 </td><td style=\"text-align: right;\">     1</td><td style=\"text-align: right;\">        7.48739 </td><td style=\"text-align: right;\">     0.538873  </td></tr>\n",
       "<tr><td>train_mcdo_bc54ea81</td><td>TERMINATED</td><td>10.2.219.10:3491040</td><td style=\"text-align: right;\">    14.4087 </td><td style=\"text-align: right;\">  0.101302</td><td style=\"text-align: right;\">    145.553  </td><td style=\"text-align: right;\">0.0675497  </td><td style=\"text-align: right;\">     3.10515</td><td style=\"text-align: right;\">  30.8526 </td><td style=\"text-align: right;\">     1</td><td style=\"text-align: right;\">        3.77501 </td><td style=\"text-align: right;\">     0.523202  </td></tr>\n",
       "<tr><td>train_mcdo_68b1404d</td><td>TERMINATED</td><td>10.2.219.10:3490943</td><td style=\"text-align: right;\">     5.63537</td><td style=\"text-align: right;\">  0.204026</td><td style=\"text-align: right;\">    194.698  </td><td style=\"text-align: right;\">0.0292431  </td><td style=\"text-align: right;\">     3.55904</td><td style=\"text-align: right;\">  49.143  </td><td style=\"text-align: right;\">     1</td><td style=\"text-align: right;\">       21.4754  </td><td style=\"text-align: right;\">     0.510029  </td></tr>\n",
       "<tr><td>train_mcdo_12404d96</td><td>TERMINATED</td><td>10.2.219.10:3491040</td><td style=\"text-align: right;\">    12.1432 </td><td style=\"text-align: right;\">  0.170045</td><td style=\"text-align: right;\">    106.401  </td><td style=\"text-align: right;\">0.0208663  </td><td style=\"text-align: right;\">     3.8542 </td><td style=\"text-align: right;\">  34.7333 </td><td style=\"text-align: right;\">     1</td><td style=\"text-align: right;\">        4.97963 </td><td style=\"text-align: right;\">     0.533448  </td></tr>\n",
       "<tr><td>train_mcdo_ab631cf3</td><td>TERMINATED</td><td>10.2.219.10:3493238</td><td style=\"text-align: right;\">     5.76255</td><td style=\"text-align: right;\">  0.164921</td><td style=\"text-align: right;\">    178.942  </td><td style=\"text-align: right;\">0.00198667 </td><td style=\"text-align: right;\">     8.03934</td><td style=\"text-align: right;\">   8.69484</td><td style=\"text-align: right;\">     1</td><td style=\"text-align: right;\">       17.5771  </td><td style=\"text-align: right;\">     0.513582  </td></tr>\n",
       "<tr><td>train_mcdo_d86988fb</td><td>TERMINATED</td><td>10.2.219.10:3490794</td><td style=\"text-align: right;\">    16.6398 </td><td style=\"text-align: right;\">  0.363505</td><td style=\"text-align: right;\">      6.37871</td><td style=\"text-align: right;\">0.0853728  </td><td style=\"text-align: right;\">     5.87432</td><td style=\"text-align: right;\">  41.3617 </td><td style=\"text-align: right;\">     1</td><td style=\"text-align: right;\">        7.72546 </td><td style=\"text-align: right;\">     0.53198   </td></tr>\n",
       "<tr><td>train_mcdo_a74ba890</td><td>TERMINATED</td><td>10.2.219.10:3491040</td><td style=\"text-align: right;\">    15.6643 </td><td style=\"text-align: right;\">  0.119207</td><td style=\"text-align: right;\">    173.807  </td><td style=\"text-align: right;\">0.0330606  </td><td style=\"text-align: right;\">     7.44881</td><td style=\"text-align: right;\">  16.7451 </td><td style=\"text-align: right;\">     1</td><td style=\"text-align: right;\">       17.8075  </td><td style=\"text-align: right;\">     0.528759  </td></tr>\n",
       "<tr><td>train_mcdo_89048f4c</td><td>TERMINATED</td><td>10.2.219.10:3491539</td><td style=\"text-align: right;\">     5.41957</td><td style=\"text-align: right;\">  0.211062</td><td style=\"text-align: right;\">    172.216  </td><td style=\"text-align: right;\">0.0206419  </td><td style=\"text-align: right;\">     5.10291</td><td style=\"text-align: right;\">  11.7795 </td><td style=\"text-align: right;\">     1</td><td style=\"text-align: right;\">        7.39288 </td><td style=\"text-align: right;\">     0.533258  </td></tr>\n",
       "<tr><td>train_mcdo_4b7e4866</td><td>TERMINATED</td><td>10.2.219.10:3490249</td><td style=\"text-align: right;\">    11.5399 </td><td style=\"text-align: right;\">  0.354849</td><td style=\"text-align: right;\">     70.197  </td><td style=\"text-align: right;\">0.0484773  </td><td style=\"text-align: right;\">     5.50949</td><td style=\"text-align: right;\">  27.0024 </td><td style=\"text-align: right;\">     1</td><td style=\"text-align: right;\">        8.48493 </td><td style=\"text-align: right;\">     0.516475  </td></tr>\n",
       "<tr><td>train_mcdo_3d8f62d5</td><td>TERMINATED</td><td>10.2.219.10:3491082</td><td style=\"text-align: right;\">    11.6799 </td><td style=\"text-align: right;\">  0.2368  </td><td style=\"text-align: right;\">    189.739  </td><td style=\"text-align: right;\">0.0855235  </td><td style=\"text-align: right;\">     9.21926</td><td style=\"text-align: right;\">  45.412  </td><td style=\"text-align: right;\">     1</td><td style=\"text-align: right;\">      189.859   </td><td style=\"text-align: right;\">     0.519046  </td></tr>\n",
       "<tr><td>train_mcdo_e19a1f14</td><td>TERMINATED</td><td>10.2.219.10:3490794</td><td style=\"text-align: right;\">    13.5858 </td><td style=\"text-align: right;\">  0.266064</td><td style=\"text-align: right;\">    174.957  </td><td style=\"text-align: right;\">0.0868653  </td><td style=\"text-align: right;\">     3.99375</td><td style=\"text-align: right;\">   5.82216</td><td style=\"text-align: right;\">     1</td><td style=\"text-align: right;\">        1.41488 </td><td style=\"text-align: right;\">     0.529008  </td></tr>\n",
       "<tr><td>train_mcdo_b22cc8c5</td><td>TERMINATED</td><td>10.2.219.10:3490794</td><td style=\"text-align: right;\">     7.37728</td><td style=\"text-align: right;\">  0.47792 </td><td style=\"text-align: right;\">     27.9641 </td><td style=\"text-align: right;\">0.0153337  </td><td style=\"text-align: right;\">     3.43743</td><td style=\"text-align: right;\">  42.8932 </td><td style=\"text-align: right;\">     1</td><td style=\"text-align: right;\">        9.3414  </td><td style=\"text-align: right;\">     0.53212   </td></tr>\n",
       "<tr><td>train_mcdo_6be8ad9c</td><td>TERMINATED</td><td>10.2.219.10:3491539</td><td style=\"text-align: right;\">     5.38078</td><td style=\"text-align: right;\">  0.228707</td><td style=\"text-align: right;\">    121.513  </td><td style=\"text-align: right;\">0.084763   </td><td style=\"text-align: right;\">     5.01648</td><td style=\"text-align: right;\">  23.201  </td><td style=\"text-align: right;\">     1</td><td style=\"text-align: right;\">       19.1785  </td><td style=\"text-align: right;\">     0.538947  </td></tr>\n",
       "<tr><td>train_mcdo_7f1fbc2e</td><td>TERMINATED</td><td>10.2.219.10:3490249</td><td style=\"text-align: right;\">    10.4937 </td><td style=\"text-align: right;\">  0.246791</td><td style=\"text-align: right;\">    108.519  </td><td style=\"text-align: right;\">0.0585514  </td><td style=\"text-align: right;\">     4.96645</td><td style=\"text-align: right;\">  28.6731 </td><td style=\"text-align: right;\">     1</td><td style=\"text-align: right;\">        7.34322 </td><td style=\"text-align: right;\">     0.538907  </td></tr>\n",
       "<tr><td>train_mcdo_93efe0b7</td><td>TERMINATED</td><td>10.2.219.10:3493694</td><td style=\"text-align: right;\">    13.3026 </td><td style=\"text-align: right;\">  0.182095</td><td style=\"text-align: right;\">    130.365  </td><td style=\"text-align: right;\">0.0598162  </td><td style=\"text-align: right;\">     8.69955</td><td style=\"text-align: right;\">  42.7453 </td><td style=\"text-align: right;\">     1</td><td style=\"text-align: right;\">       22.402   </td><td style=\"text-align: right;\">     0.528286  </td></tr>\n",
       "<tr><td>train_mcdo_4589013c</td><td>TERMINATED</td><td>10.2.219.10:3491615</td><td style=\"text-align: right;\">     1.11995</td><td style=\"text-align: right;\">  0.28316 </td><td style=\"text-align: right;\">     94.1349 </td><td style=\"text-align: right;\">0.0790185  </td><td style=\"text-align: right;\">     6.63795</td><td style=\"text-align: right;\">  16.507  </td><td style=\"text-align: right;\">     1</td><td style=\"text-align: right;\">       65.2904  </td><td style=\"text-align: right;\">     0.538919  </td></tr>\n",
       "<tr><td>train_mcdo_6f3e55a4</td><td>TERMINATED</td><td>10.2.219.10:3490943</td><td style=\"text-align: right;\">    16.2465 </td><td style=\"text-align: right;\">  0.358611</td><td style=\"text-align: right;\">    113.419  </td><td style=\"text-align: right;\">0.085097   </td><td style=\"text-align: right;\">     3.27221</td><td style=\"text-align: right;\">  21.9599 </td><td style=\"text-align: right;\">     1</td><td style=\"text-align: right;\">        3.53095 </td><td style=\"text-align: right;\">     0.537096  </td></tr>\n",
       "<tr><td>train_mcdo_3354c0b6</td><td>TERMINATED</td><td>10.2.219.10:3491140</td><td style=\"text-align: right;\">     1.9569 </td><td style=\"text-align: right;\">  0.322731</td><td style=\"text-align: right;\">     22.6264 </td><td style=\"text-align: right;\">0.0530473  </td><td style=\"text-align: right;\">     2.04298</td><td style=\"text-align: right;\">  30.0675 </td><td style=\"text-align: right;\">     1</td><td style=\"text-align: right;\">       27.7654  </td><td style=\"text-align: right;\">     0.0677427 </td></tr>\n",
       "<tr><td>train_mcdo_5438c23f</td><td>TERMINATED</td><td>10.2.219.10:3493238</td><td style=\"text-align: right;\">    19.2947 </td><td style=\"text-align: right;\">  0.111034</td><td style=\"text-align: right;\">    174.868  </td><td style=\"text-align: right;\">0.0813746  </td><td style=\"text-align: right;\">     7.14486</td><td style=\"text-align: right;\">  49.4613 </td><td style=\"text-align: right;\">     1</td><td style=\"text-align: right;\">       19.142   </td><td style=\"text-align: right;\">     0.743692  </td></tr>\n",
       "<tr><td>train_mcdo_35da9903</td><td>TERMINATED</td><td>10.2.219.10:3490794</td><td style=\"text-align: right;\">    15.0532 </td><td style=\"text-align: right;\">  0.123244</td><td style=\"text-align: right;\">    151.002  </td><td style=\"text-align: right;\">0.0447968  </td><td style=\"text-align: right;\">     9.82778</td><td style=\"text-align: right;\">  28.4077 </td><td style=\"text-align: right;\">     1</td><td style=\"text-align: right;\">       12.197   </td><td style=\"text-align: right;\">     0.524482  </td></tr>\n",
       "<tr><td>train_mcdo_23cfa422</td><td>TERMINATED</td><td>10.2.219.10:3491040</td><td style=\"text-align: right;\">    16.2577 </td><td style=\"text-align: right;\">  0.400739</td><td style=\"text-align: right;\">    109.916  </td><td style=\"text-align: right;\">0.047933   </td><td style=\"text-align: right;\">     3.404  </td><td style=\"text-align: right;\">   8.06411</td><td style=\"text-align: right;\">     1</td><td style=\"text-align: right;\">        2.03974 </td><td style=\"text-align: right;\">     0.534082  </td></tr>\n",
       "<tr><td>train_mcdo_d952bb83</td><td>TERMINATED</td><td>10.2.219.10:3490249</td><td style=\"text-align: right;\">    19.3358 </td><td style=\"text-align: right;\">  0.25946 </td><td style=\"text-align: right;\">    105.561  </td><td style=\"text-align: right;\">0.0586991  </td><td style=\"text-align: right;\">     2.52336</td><td style=\"text-align: right;\">  40.3951 </td><td style=\"text-align: right;\">     1</td><td style=\"text-align: right;\">        3.6159  </td><td style=\"text-align: right;\">     0.530803  </td></tr>\n",
       "<tr><td>train_mcdo_aadbc564</td><td>TERMINATED</td><td>10.2.219.10:3490943</td><td style=\"text-align: right;\">     6.08973</td><td style=\"text-align: right;\">  0.272401</td><td style=\"text-align: right;\">     26.8511 </td><td style=\"text-align: right;\">0.020722   </td><td style=\"text-align: right;\">     4.68092</td><td style=\"text-align: right;\">   8.47321</td><td style=\"text-align: right;\">     1</td><td style=\"text-align: right;\">        4.44001 </td><td style=\"text-align: right;\">     0.529008  </td></tr>\n",
       "<tr><td>train_mcdo_06f9bbce</td><td>TERMINATED</td><td>10.2.219.10:3491040</td><td style=\"text-align: right;\">     6.26037</td><td style=\"text-align: right;\">  0.348349</td><td style=\"text-align: right;\">    114.12   </td><td style=\"text-align: right;\">0.0138208  </td><td style=\"text-align: right;\">     9.04356</td><td style=\"text-align: right;\">  12.7459 </td><td style=\"text-align: right;\">     1</td><td style=\"text-align: right;\">       12.9334  </td><td style=\"text-align: right;\">     0.531162  </td></tr>\n",
       "<tr><td>train_mcdo_a3f3cdbd</td><td>TERMINATED</td><td>10.2.219.10:3490249</td><td style=\"text-align: right;\">     8.48754</td><td style=\"text-align: right;\">  0.399142</td><td style=\"text-align: right;\">     61.688  </td><td style=\"text-align: right;\">0.0751002  </td><td style=\"text-align: right;\">     3.51532</td><td style=\"text-align: right;\">   3.31144</td><td style=\"text-align: right;\">     1</td><td style=\"text-align: right;\">        1.48179 </td><td style=\"text-align: right;\">     0.536166  </td></tr>\n",
       "<tr><td>train_mcdo_62cbf22a</td><td>TERMINATED</td><td>10.2.219.10:3490249</td><td style=\"text-align: right;\">    16.4719 </td><td style=\"text-align: right;\">  0.219779</td><td style=\"text-align: right;\">    132.291  </td><td style=\"text-align: right;\">0.0850818  </td><td style=\"text-align: right;\">     7.97204</td><td style=\"text-align: right;\">  45.2121 </td><td style=\"text-align: right;\">     1</td><td style=\"text-align: right;\">       18.969   </td><td style=\"text-align: right;\">     0.529385  </td></tr>\n",
       "<tr><td>train_mcdo_309467c5</td><td>TERMINATED</td><td>10.2.219.10:3490943</td><td style=\"text-align: right;\">    10.5987 </td><td style=\"text-align: right;\">  0.47222 </td><td style=\"text-align: right;\">     78.1938 </td><td style=\"text-align: right;\">0.0943416  </td><td style=\"text-align: right;\">     5.54235</td><td style=\"text-align: right;\">  33.2392 </td><td style=\"text-align: right;\">     1</td><td style=\"text-align: right;\">        6.28879 </td><td style=\"text-align: right;\">     0.538909  </td></tr>\n",
       "<tr><td>train_mcdo_5a26abfe</td><td>TERMINATED</td><td>10.2.219.10:3491539</td><td style=\"text-align: right;\">     2.16214</td><td style=\"text-align: right;\">  0.191911</td><td style=\"text-align: right;\">    109.955  </td><td style=\"text-align: right;\">0.0188627  </td><td style=\"text-align: right;\">     5.67685</td><td style=\"text-align: right;\">  18.8249 </td><td style=\"text-align: right;\">     1</td><td style=\"text-align: right;\">       20.355   </td><td style=\"text-align: right;\">     0.528818  </td></tr>\n",
       "<tr><td>train_mcdo_3c3737c5</td><td>TERMINATED</td><td>10.2.219.10:3490794</td><td style=\"text-align: right;\">     8.00922</td><td style=\"text-align: right;\">  0.374458</td><td style=\"text-align: right;\">     21.4429 </td><td style=\"text-align: right;\">0.00180413 </td><td style=\"text-align: right;\">     6.76882</td><td style=\"text-align: right;\">  27.7165 </td><td style=\"text-align: right;\">     1</td><td style=\"text-align: right;\">       10.141   </td><td style=\"text-align: right;\">     0.534645  </td></tr>\n",
       "<tr><td>train_mcdo_2c02f127</td><td>TERMINATED</td><td>10.2.219.10:3490943</td><td style=\"text-align: right;\">    12.2205 </td><td style=\"text-align: right;\">  0.114206</td><td style=\"text-align: right;\">     51.0341 </td><td style=\"text-align: right;\">0.0244986  </td><td style=\"text-align: right;\">     6.06313</td><td style=\"text-align: right;\">  41.7219 </td><td style=\"text-align: right;\">     1</td><td style=\"text-align: right;\">        6.24595 </td><td style=\"text-align: right;\">     0.535297  </td></tr>\n",
       "<tr><td>train_mcdo_1b1cfc9b</td><td>TERMINATED</td><td>10.2.219.10:3491040</td><td style=\"text-align: right;\">     6.53893</td><td style=\"text-align: right;\">  0.423781</td><td style=\"text-align: right;\">    122.362  </td><td style=\"text-align: right;\">0.0699274  </td><td style=\"text-align: right;\">     4.36895</td><td style=\"text-align: right;\">  27.339  </td><td style=\"text-align: right;\">     1</td><td style=\"text-align: right;\">       24.7745  </td><td style=\"text-align: right;\">     0.528438  </td></tr>\n",
       "<tr><td>train_mcdo_1877aacb</td><td>TERMINATED</td><td>10.2.219.10:3493238</td><td style=\"text-align: right;\">    13.4771 </td><td style=\"text-align: right;\">  0.115499</td><td style=\"text-align: right;\">      7.27714</td><td style=\"text-align: right;\">0.0221463  </td><td style=\"text-align: right;\">     8.77335</td><td style=\"text-align: right;\">  15.9191 </td><td style=\"text-align: right;\">     1</td><td style=\"text-align: right;\">        3.80179 </td><td style=\"text-align: right;\">     0.53667   </td></tr>\n",
       "<tr><td>train_mcdo_dca90e32</td><td>TERMINATED</td><td>10.2.219.10:3493694</td><td style=\"text-align: right;\">     3.52706</td><td style=\"text-align: right;\">  0.177736</td><td style=\"text-align: right;\">    124.431  </td><td style=\"text-align: right;\">0.0923865  </td><td style=\"text-align: right;\">     5.11089</td><td style=\"text-align: right;\">  17.5118 </td><td style=\"text-align: right;\">     1</td><td style=\"text-align: right;\">       45.8288  </td><td style=\"text-align: right;\">     0.537017  </td></tr>\n",
       "<tr><td>train_mcdo_558ff2e1</td><td>TERMINATED</td><td>10.2.219.10:3490943</td><td style=\"text-align: right;\">     4.33363</td><td style=\"text-align: right;\">  0.303106</td><td style=\"text-align: right;\">     71.228  </td><td style=\"text-align: right;\">0.00640694 </td><td style=\"text-align: right;\">     9.38791</td><td style=\"text-align: right;\">  22.0876 </td><td style=\"text-align: right;\">     1</td><td style=\"text-align: right;\">       18.9304  </td><td style=\"text-align: right;\">     0.537387  </td></tr>\n",
       "<tr><td>train_mcdo_e56c2cfe</td><td>TERMINATED</td><td>10.2.219.10:3493238</td><td style=\"text-align: right;\">    16.0344 </td><td style=\"text-align: right;\">  0.279107</td><td style=\"text-align: right;\">    126.036  </td><td style=\"text-align: right;\">0.0396669  </td><td style=\"text-align: right;\">     7.6154 </td><td style=\"text-align: right;\">  49.6365 </td><td style=\"text-align: right;\">     1</td><td style=\"text-align: right;\">       22.5914  </td><td style=\"text-align: right;\">     0.529438  </td></tr>\n",
       "<tr><td>train_mcdo_b85acc5f</td><td>TERMINATED</td><td>10.2.219.10:3490794</td><td style=\"text-align: right;\">     7.39016</td><td style=\"text-align: right;\">  0.443919</td><td style=\"text-align: right;\">      3.9621 </td><td style=\"text-align: right;\">0.0159206  </td><td style=\"text-align: right;\">     6.0239 </td><td style=\"text-align: right;\">  13.5982 </td><td style=\"text-align: right;\">     1</td><td style=\"text-align: right;\">        4.13333 </td><td style=\"text-align: right;\">     0.536043  </td></tr>\n",
       "<tr><td>train_mcdo_3eaf38dd</td><td>TERMINATED</td><td>10.2.219.10:3490249</td><td style=\"text-align: right;\">     1.15065</td><td style=\"text-align: right;\">  0.381648</td><td style=\"text-align: right;\">      2.59265</td><td style=\"text-align: right;\">0.0690981  </td><td style=\"text-align: right;\">     7.56712</td><td style=\"text-align: right;\">  26.3906 </td><td style=\"text-align: right;\">     1</td><td style=\"text-align: right;\">       45.2926  </td><td style=\"text-align: right;\">     0.539486  </td></tr>\n",
       "<tr><td>train_mcdo_a7375372</td><td>TERMINATED</td><td>10.2.219.10:3490633</td><td style=\"text-align: right;\">     9.88496</td><td style=\"text-align: right;\">  0.18349 </td><td style=\"text-align: right;\">    133.899  </td><td style=\"text-align: right;\">0.0753724  </td><td style=\"text-align: right;\">     2.67443</td><td style=\"text-align: right;\">  29.3096 </td><td style=\"text-align: right;\">     1</td><td style=\"text-align: right;\">        2.67509 </td><td style=\"text-align: right;\">     0.524847  </td></tr>\n",
       "<tr><td>train_mcdo_fcfb26f3</td><td>TERMINATED</td><td>10.2.219.10:3491140</td><td style=\"text-align: right;\">     7.62767</td><td style=\"text-align: right;\">  0.362455</td><td style=\"text-align: right;\">     31.8744 </td><td style=\"text-align: right;\">0.0477233  </td><td style=\"text-align: right;\">     4.76551</td><td style=\"text-align: right;\">  33.4919 </td><td style=\"text-align: right;\">     1</td><td style=\"text-align: right;\">        6.42862 </td><td style=\"text-align: right;\">     0.534723  </td></tr>\n",
       "<tr><td>train_mcdo_0be955f4</td><td>TERMINATED</td><td>10.2.219.10:3490794</td><td style=\"text-align: right;\">     3.53699</td><td style=\"text-align: right;\">  0.155417</td><td style=\"text-align: right;\">     27.3013 </td><td style=\"text-align: right;\">0.0954863  </td><td style=\"text-align: right;\">     7.84622</td><td style=\"text-align: right;\">  40.2393 </td><td style=\"text-align: right;\">     1</td><td style=\"text-align: right;\">       32.3672  </td><td style=\"text-align: right;\">     0.537425  </td></tr>\n",
       "<tr><td>train_mcdo_f1b06494</td><td>TERMINATED</td><td>10.2.219.10:3490633</td><td style=\"text-align: right;\">     7.64885</td><td style=\"text-align: right;\">  0.144772</td><td style=\"text-align: right;\">     32.3864 </td><td style=\"text-align: right;\">0.0664344  </td><td style=\"text-align: right;\">     9.03821</td><td style=\"text-align: right;\">  16.9279 </td><td style=\"text-align: right;\">     1</td><td style=\"text-align: right;\">       12.7826  </td><td style=\"text-align: right;\">     0.533001  </td></tr>\n",
       "<tr><td>train_mcdo_027a6b48</td><td>TERMINATED</td><td>10.2.219.10:3491539</td><td style=\"text-align: right;\">    15.9708 </td><td style=\"text-align: right;\">  0.242861</td><td style=\"text-align: right;\">    187.927  </td><td style=\"text-align: right;\">0.0921861  </td><td style=\"text-align: right;\">     9.68746</td><td style=\"text-align: right;\">   6.81484</td><td style=\"text-align: right;\">     1</td><td style=\"text-align: right;\">        4.09889 </td><td style=\"text-align: right;\">     0.628943  </td></tr>\n",
       "<tr><td>train_mcdo_873605bf</td><td>TERMINATED</td><td>10.2.219.10:3491140</td><td style=\"text-align: right;\">    11.3792 </td><td style=\"text-align: right;\">  0.196607</td><td style=\"text-align: right;\">    115.955  </td><td style=\"text-align: right;\">0.0323186  </td><td style=\"text-align: right;\">     2.48689</td><td style=\"text-align: right;\">  39.211  </td><td style=\"text-align: right;\">     1</td><td style=\"text-align: right;\">        3.98074 </td><td style=\"text-align: right;\">     0.518914  </td></tr>\n",
       "<tr><td>train_mcdo_b07deb59</td><td>TERMINATED</td><td>10.2.219.10:3491539</td><td style=\"text-align: right;\">     4.7835 </td><td style=\"text-align: right;\">  0.160616</td><td style=\"text-align: right;\">     69.6183 </td><td style=\"text-align: right;\">0.0449156  </td><td style=\"text-align: right;\">     4.47186</td><td style=\"text-align: right;\">  18.5369 </td><td style=\"text-align: right;\">     1</td><td style=\"text-align: right;\">        8.05438 </td><td style=\"text-align: right;\">     0.538964  </td></tr>\n",
       "<tr><td>train_mcdo_d26f6804</td><td>TERMINATED</td><td>10.2.219.10:3491140</td><td style=\"text-align: right;\">    14.4851 </td><td style=\"text-align: right;\">  0.26472 </td><td style=\"text-align: right;\">     84.9375 </td><td style=\"text-align: right;\">0.0107668  </td><td style=\"text-align: right;\">     9.72157</td><td style=\"text-align: right;\">  11.947  </td><td style=\"text-align: right;\">     1</td><td style=\"text-align: right;\">        6.08699 </td><td style=\"text-align: right;\">     0.530434  </td></tr>\n",
       "<tr><td>train_mcdo_8d314827</td><td>TERMINATED</td><td>10.2.219.10:3490943</td><td style=\"text-align: right;\">    18.2925 </td><td style=\"text-align: right;\">  0.408041</td><td style=\"text-align: right;\">    142.997  </td><td style=\"text-align: right;\">0.0624118  </td><td style=\"text-align: right;\">     8.28578</td><td style=\"text-align: right;\">  31.3897 </td><td style=\"text-align: right;\">     1</td><td style=\"text-align: right;\">       13.2712  </td><td style=\"text-align: right;\">     0.499751  </td></tr>\n",
       "<tr><td>train_mcdo_faee098f</td><td>TERMINATED</td><td>10.2.219.10:3491040</td><td style=\"text-align: right;\">     1.0357 </td><td style=\"text-align: right;\">  0.225779</td><td style=\"text-align: right;\">    113.624  </td><td style=\"text-align: right;\">0.023222   </td><td style=\"text-align: right;\">     5.47226</td><td style=\"text-align: right;\">  38.7466 </td><td style=\"text-align: right;\">     1</td><td style=\"text-align: right;\">       83.6982  </td><td style=\"text-align: right;\">     0.366194  </td></tr>\n",
       "<tr><td>train_mcdo_56aa7d34</td><td>TERMINATED</td><td>10.2.219.10:3490633</td><td style=\"text-align: right;\">    12.1656 </td><td style=\"text-align: right;\">  0.156522</td><td style=\"text-align: right;\">    103.202  </td><td style=\"text-align: right;\">0.0315114  </td><td style=\"text-align: right;\">     6.94707</td><td style=\"text-align: right;\">   9.82402</td><td style=\"text-align: right;\">     1</td><td style=\"text-align: right;\">        4.17208 </td><td style=\"text-align: right;\">     0.532794  </td></tr>\n",
       "<tr><td>train_mcdo_021ca471</td><td>TERMINATED</td><td>10.2.219.10:3491539</td><td style=\"text-align: right;\">    10.3114 </td><td style=\"text-align: right;\">  0.103929</td><td style=\"text-align: right;\">    135.712  </td><td style=\"text-align: right;\">0.00483729 </td><td style=\"text-align: right;\">     9.29765</td><td style=\"text-align: right;\">  17.7844 </td><td style=\"text-align: right;\">     1</td><td style=\"text-align: right;\">       10.5507  </td><td style=\"text-align: right;\">     0.541072  </td></tr>\n",
       "<tr><td>train_mcdo_13633f20</td><td>TERMINATED</td><td>10.2.219.10:3491140</td><td style=\"text-align: right;\">     1.68449</td><td style=\"text-align: right;\">  0.477064</td><td style=\"text-align: right;\">    184.829  </td><td style=\"text-align: right;\">0.0153206  </td><td style=\"text-align: right;\">     6.56259</td><td style=\"text-align: right;\">   5.84054</td><td style=\"text-align: right;\">     1</td><td style=\"text-align: right;\">       24.8878  </td><td style=\"text-align: right;\">     0.538932  </td></tr>\n",
       "<tr><td>train_mcdo_d16aaf08</td><td>TERMINATED</td><td>10.2.219.10:3493238</td><td style=\"text-align: right;\">    13.2009 </td><td style=\"text-align: right;\">  0.447589</td><td style=\"text-align: right;\">     70.4262 </td><td style=\"text-align: right;\">0.0749208  </td><td style=\"text-align: right;\">     9.12783</td><td style=\"text-align: right;\">   7.58487</td><td style=\"text-align: right;\">     1</td><td style=\"text-align: right;\">        3.45608 </td><td style=\"text-align: right;\">     0.536537  </td></tr>\n",
       "<tr><td>train_mcdo_bbc2498a</td><td>TERMINATED</td><td>10.2.219.10:3490633</td><td style=\"text-align: right;\">     2.35366</td><td style=\"text-align: right;\">  0.303961</td><td style=\"text-align: right;\">     25.3235 </td><td style=\"text-align: right;\">0.0929269  </td><td style=\"text-align: right;\">     4.71075</td><td style=\"text-align: right;\">  15.4193 </td><td style=\"text-align: right;\">     1</td><td style=\"text-align: right;\">       20.3296  </td><td style=\"text-align: right;\">     0.538942  </td></tr>\n",
       "<tr><td>train_mcdo_b0eb1a52</td><td>TERMINATED</td><td>10.2.219.10:3493238</td><td style=\"text-align: right;\">    11.0728 </td><td style=\"text-align: right;\">  0.165592</td><td style=\"text-align: right;\">      2.36836</td><td style=\"text-align: right;\">0.0843103  </td><td style=\"text-align: right;\">     6.70005</td><td style=\"text-align: right;\">   6.1489 </td><td style=\"text-align: right;\">     1</td><td style=\"text-align: right;\">        1.77124 </td><td style=\"text-align: right;\">     0.51593   </td></tr>\n",
       "<tr><td>train_mcdo_e2a0dcfe</td><td>TERMINATED</td><td>10.2.219.10:3493238</td><td style=\"text-align: right;\">     4.25543</td><td style=\"text-align: right;\">  0.36841 </td><td style=\"text-align: right;\">     78.5428 </td><td style=\"text-align: right;\">0.0408579  </td><td style=\"text-align: right;\">     6.60861</td><td style=\"text-align: right;\">  34.5227 </td><td style=\"text-align: right;\">     1</td><td style=\"text-align: right;\">       52.9805  </td><td style=\"text-align: right;\">     0.538909  </td></tr>\n",
       "<tr><td>train_mcdo_baf87ad9</td><td>TERMINATED</td><td>10.2.219.10:3490943</td><td style=\"text-align: right;\">     9.91491</td><td style=\"text-align: right;\">  0.114082</td><td style=\"text-align: right;\">    139.589  </td><td style=\"text-align: right;\">0.0404551  </td><td style=\"text-align: right;\">     2.28674</td><td style=\"text-align: right;\">  41.7698 </td><td style=\"text-align: right;\">     1</td><td style=\"text-align: right;\">        4.53095 </td><td style=\"text-align: right;\">     0.519289  </td></tr>\n",
       "<tr><td>train_mcdo_ef7c011a</td><td>TERMINATED</td><td>10.2.219.10:3491539</td><td style=\"text-align: right;\">    17.8721 </td><td style=\"text-align: right;\">  0.358165</td><td style=\"text-align: right;\">     53.4009 </td><td style=\"text-align: right;\">0.0542411  </td><td style=\"text-align: right;\">     4.30909</td><td style=\"text-align: right;\">  47.7361 </td><td style=\"text-align: right;\">     1</td><td style=\"text-align: right;\">        8.97168 </td><td style=\"text-align: right;\">     0.535882  </td></tr>\n",
       "<tr><td>train_mcdo_3fc56f3d</td><td>TERMINATED</td><td>10.2.219.10:3490943</td><td style=\"text-align: right;\">     1.62721</td><td style=\"text-align: right;\">  0.399764</td><td style=\"text-align: right;\">    139.752  </td><td style=\"text-align: right;\">0.0942403  </td><td style=\"text-align: right;\">     6.0858 </td><td style=\"text-align: right;\">  44.2638 </td><td style=\"text-align: right;\">     1</td><td style=\"text-align: right;\">      184.299   </td><td style=\"text-align: right;\">     0.538922  </td></tr>\n",
       "<tr><td>train_mcdo_43cc27c4</td><td>TERMINATED</td><td>10.2.219.10:3490794</td><td style=\"text-align: right;\">    18.6564 </td><td style=\"text-align: right;\">  0.250259</td><td style=\"text-align: right;\">     10.6847 </td><td style=\"text-align: right;\">0.0530356  </td><td style=\"text-align: right;\">     3.34437</td><td style=\"text-align: right;\">  30.3303 </td><td style=\"text-align: right;\">     1</td><td style=\"text-align: right;\">        5.89366 </td><td style=\"text-align: right;\">     0.503775  </td></tr>\n",
       "<tr><td>train_mcdo_89899636</td><td>TERMINATED</td><td>10.2.219.10:3491615</td><td style=\"text-align: right;\">     4.85527</td><td style=\"text-align: right;\">  0.202815</td><td style=\"text-align: right;\">    149.631  </td><td style=\"text-align: right;\">0.0753754  </td><td style=\"text-align: right;\">     8.62941</td><td style=\"text-align: right;\">  44.3719 </td><td style=\"text-align: right;\">     1</td><td style=\"text-align: right;\">       69.2599  </td><td style=\"text-align: right;\">     0.547286  </td></tr>\n",
       "<tr><td>train_mcdo_3b3bb7ed</td><td>TERMINATED</td><td>10.2.219.10:3491539</td><td style=\"text-align: right;\">     2.58391</td><td style=\"text-align: right;\">  0.379606</td><td style=\"text-align: right;\">     16.88   </td><td style=\"text-align: right;\">0.0263597  </td><td style=\"text-align: right;\">     8.58885</td><td style=\"text-align: right;\">  28.448  </td><td style=\"text-align: right;\">     1</td><td style=\"text-align: right;\">       36.4074  </td><td style=\"text-align: right;\">     0.53894   </td></tr>\n",
       "<tr><td>train_mcdo_002d2e6c</td><td>TERMINATED</td><td>10.2.219.10:3493694</td><td style=\"text-align: right;\">     4.21675</td><td style=\"text-align: right;\">  0.342998</td><td style=\"text-align: right;\">    172.462  </td><td style=\"text-align: right;\">0.00783273 </td><td style=\"text-align: right;\">     5.88099</td><td style=\"text-align: right;\">  49.9712 </td><td style=\"text-align: right;\">     1</td><td style=\"text-align: right;\">       61.4366  </td><td style=\"text-align: right;\">     0.489182  </td></tr>\n",
       "<tr><td>train_mcdo_709b98fc</td><td>TERMINATED</td><td>10.2.219.10:3490794</td><td style=\"text-align: right;\">     2.77389</td><td style=\"text-align: right;\">  0.270621</td><td style=\"text-align: right;\">    120.772  </td><td style=\"text-align: right;\">0.0385419  </td><td style=\"text-align: right;\">     8.51164</td><td style=\"text-align: right;\">  26.5426 </td><td style=\"text-align: right;\">     1</td><td style=\"text-align: right;\">       50.2004  </td><td style=\"text-align: right;\">     0.538911  </td></tr>\n",
       "<tr><td>train_mcdo_d89b03ef</td><td>TERMINATED</td><td>10.2.219.10:3490633</td><td style=\"text-align: right;\">    14.5491 </td><td style=\"text-align: right;\">  0.109662</td><td style=\"text-align: right;\">    174.536  </td><td style=\"text-align: right;\">0.0313611  </td><td style=\"text-align: right;\">     9.3988 </td><td style=\"text-align: right;\">  38.3837 </td><td style=\"text-align: right;\">     1</td><td style=\"text-align: right;\">       27.8417  </td><td style=\"text-align: right;\">     0.525398  </td></tr>\n",
       "<tr><td>train_mcdo_6cb9d3e4</td><td>TERMINATED</td><td>10.2.219.10:3491140</td><td style=\"text-align: right;\">     3.96207</td><td style=\"text-align: right;\">  0.112728</td><td style=\"text-align: right;\">     32.0833 </td><td style=\"text-align: right;\">0.0520916  </td><td style=\"text-align: right;\">     4.87336</td><td style=\"text-align: right;\">  18.4744 </td><td style=\"text-align: right;\">     1</td><td style=\"text-align: right;\">        6.86164 </td><td style=\"text-align: right;\">     0.538321  </td></tr>\n",
       "<tr><td>train_mcdo_43406544</td><td>TERMINATED</td><td>10.2.219.10:3490249</td><td style=\"text-align: right;\">    19.6889 </td><td style=\"text-align: right;\">  0.480458</td><td style=\"text-align: right;\">    164.656  </td><td style=\"text-align: right;\">0.07053    </td><td style=\"text-align: right;\">     4.82306</td><td style=\"text-align: right;\">  24.4285 </td><td style=\"text-align: right;\">     1</td><td style=\"text-align: right;\">        3.1063  </td><td style=\"text-align: right;\">     0.533445  </td></tr>\n",
       "<tr><td>train_mcdo_56331bcf</td><td>TERMINATED</td><td>10.2.219.10:3490249</td><td style=\"text-align: right;\">    18.0065 </td><td style=\"text-align: right;\">  0.269049</td><td style=\"text-align: right;\">     87.7683 </td><td style=\"text-align: right;\">0.0146073  </td><td style=\"text-align: right;\">     2.45323</td><td style=\"text-align: right;\">  18.0581 </td><td style=\"text-align: right;\">     1</td><td style=\"text-align: right;\">        1.61972 </td><td style=\"text-align: right;\">     0.504878  </td></tr>\n",
       "<tr><td>train_mcdo_04330175</td><td>TERMINATED</td><td>10.2.219.10:3491140</td><td style=\"text-align: right;\">    10.537  </td><td style=\"text-align: right;\">  0.231785</td><td style=\"text-align: right;\">    162.066  </td><td style=\"text-align: right;\">0.00796956 </td><td style=\"text-align: right;\">     5.32616</td><td style=\"text-align: right;\">   4.11971</td><td style=\"text-align: right;\">     1</td><td style=\"text-align: right;\">        3.90643 </td><td style=\"text-align: right;\">     0.540145  </td></tr>\n",
       "<tr><td>train_mcdo_68e235cd</td><td>TERMINATED</td><td>10.2.219.10:3490249</td><td style=\"text-align: right;\">    18.0718 </td><td style=\"text-align: right;\">  0.250072</td><td style=\"text-align: right;\">     91.2596 </td><td style=\"text-align: right;\">0.0539873  </td><td style=\"text-align: right;\">     5.73361</td><td style=\"text-align: right;\">   8.46107</td><td style=\"text-align: right;\">     1</td><td style=\"text-align: right;\">        2.67517 </td><td style=\"text-align: right;\">     0.510649  </td></tr>\n",
       "<tr><td>train_mcdo_e16382b0</td><td>TERMINATED</td><td>10.2.219.10:3491432</td><td style=\"text-align: right;\">     4.50365</td><td style=\"text-align: right;\">  0.12877 </td><td style=\"text-align: right;\">    186.425  </td><td style=\"text-align: right;\">0.0479508  </td><td style=\"text-align: right;\">     7.82941</td><td style=\"text-align: right;\">  18.1913 </td><td style=\"text-align: right;\">     1</td><td style=\"text-align: right;\">       28.3049  </td><td style=\"text-align: right;\">     0.539765  </td></tr>\n",
       "<tr><td>train_mcdo_54954560</td><td>TERMINATED</td><td>10.2.219.10:3491140</td><td style=\"text-align: right;\">    13.7456 </td><td style=\"text-align: right;\">  0.332857</td><td style=\"text-align: right;\">     80.0674 </td><td style=\"text-align: right;\">0.0192669  </td><td style=\"text-align: right;\">     9.30092</td><td style=\"text-align: right;\">   7.20503</td><td style=\"text-align: right;\">     1</td><td style=\"text-align: right;\">        3.07608 </td><td style=\"text-align: right;\">     0.534618  </td></tr>\n",
       "<tr><td>train_mcdo_8d88cd73</td><td>TERMINATED</td><td>10.2.219.10:3490249</td><td style=\"text-align: right;\">     3.7172 </td><td style=\"text-align: right;\">  0.145174</td><td style=\"text-align: right;\">    164.521  </td><td style=\"text-align: right;\">0.0850428  </td><td style=\"text-align: right;\">     4.30016</td><td style=\"text-align: right;\">   1.88743</td><td style=\"text-align: right;\">     1</td><td style=\"text-align: right;\">        1.32941 </td><td style=\"text-align: right;\">     0.532025  </td></tr>\n",
       "<tr><td>train_mcdo_57718005</td><td>TERMINATED</td><td>10.2.219.10:3490249</td><td style=\"text-align: right;\">     3.08352</td><td style=\"text-align: right;\">  0.198431</td><td style=\"text-align: right;\">     30.4911 </td><td style=\"text-align: right;\">0.0863817  </td><td style=\"text-align: right;\">     9.97645</td><td style=\"text-align: right;\">   8.74136</td><td style=\"text-align: right;\">     1</td><td style=\"text-align: right;\">        9.50082 </td><td style=\"text-align: right;\">     0.537413  </td></tr>\n",
       "<tr><td>train_mcdo_d1445db4</td><td>TERMINATED</td><td>10.2.219.10:3490574</td><td style=\"text-align: right;\">     1.43004</td><td style=\"text-align: right;\">  0.183574</td><td style=\"text-align: right;\">     22.5547 </td><td style=\"text-align: right;\">0.0435908  </td><td style=\"text-align: right;\">     3.2229 </td><td style=\"text-align: right;\">  30.8411 </td><td style=\"text-align: right;\">     1</td><td style=\"text-align: right;\">       27.1873  </td><td style=\"text-align: right;\">     0.033364  </td></tr>\n",
       "<tr><td>train_mcdo_0e02676c</td><td>TERMINATED</td><td>10.2.219.10:3491140</td><td style=\"text-align: right;\">     9.67559</td><td style=\"text-align: right;\">  0.22779 </td><td style=\"text-align: right;\">    187.241  </td><td style=\"text-align: right;\">0.0910675  </td><td style=\"text-align: right;\">     7.70808</td><td style=\"text-align: right;\">  35.0849 </td><td style=\"text-align: right;\">     1</td><td style=\"text-align: right;\">       32.7075  </td><td style=\"text-align: right;\">     0.53823   </td></tr>\n",
       "<tr><td>train_mcdo_ac943f9c</td><td>TERMINATED</td><td>10.2.219.10:3502289</td><td style=\"text-align: right;\">    16.414  </td><td style=\"text-align: right;\">  0.213574</td><td style=\"text-align: right;\">     75.8159 </td><td style=\"text-align: right;\">0.000879428</td><td style=\"text-align: right;\">     9.0406 </td><td style=\"text-align: right;\">  48.2727 </td><td style=\"text-align: right;\">     1</td><td style=\"text-align: right;\">       12.1543  </td><td style=\"text-align: right;\">     0.530948  </td></tr>\n",
       "<tr><td>train_mcdo_6cb3ac73</td><td>TERMINATED</td><td>10.2.219.10:3490249</td><td style=\"text-align: right;\">     2.79586</td><td style=\"text-align: right;\">  0.391464</td><td style=\"text-align: right;\">    175.646  </td><td style=\"text-align: right;\">0.079928   </td><td style=\"text-align: right;\">     9.36465</td><td style=\"text-align: right;\">  47.0327 </td><td style=\"text-align: right;\">     1</td><td style=\"text-align: right;\">      313.66    </td><td style=\"text-align: right;\">     0.538913  </td></tr>\n",
       "<tr><td>train_mcdo_2f1ad1ce</td><td>TERMINATED</td><td>10.2.219.10:3490633</td><td style=\"text-align: right;\">    18.2578 </td><td style=\"text-align: right;\">  0.479173</td><td style=\"text-align: right;\">    116.308  </td><td style=\"text-align: right;\">0.0937076  </td><td style=\"text-align: right;\">     6.85681</td><td style=\"text-align: right;\">  27.3067 </td><td style=\"text-align: right;\">     1</td><td style=\"text-align: right;\">        7.51157 </td><td style=\"text-align: right;\">     0.506423  </td></tr>\n",
       "<tr><td>train_mcdo_c7cf748e</td><td>TERMINATED</td><td>10.2.219.10:3491539</td><td style=\"text-align: right;\">     1.59122</td><td style=\"text-align: right;\">  0.449885</td><td style=\"text-align: right;\">    182.431  </td><td style=\"text-align: right;\">0.0527827  </td><td style=\"text-align: right;\">     8.43252</td><td style=\"text-align: right;\">  16.029  </td><td style=\"text-align: right;\">     1</td><td style=\"text-align: right;\">      315.389   </td><td style=\"text-align: right;\">     0.538908  </td></tr>\n",
       "<tr><td>train_mcdo_d5837dc0</td><td>TERMINATED</td><td>10.2.219.10:3502289</td><td style=\"text-align: right;\">    18.701  </td><td style=\"text-align: right;\">  0.183011</td><td style=\"text-align: right;\">    102.836  </td><td style=\"text-align: right;\">0.0390288  </td><td style=\"text-align: right;\">     4.32516</td><td style=\"text-align: right;\">  20.6346 </td><td style=\"text-align: right;\">     1</td><td style=\"text-align: right;\">        9.22925 </td><td style=\"text-align: right;\">     0.501739  </td></tr>\n",
       "<tr><td>train_mcdo_47c8aac3</td><td>TERMINATED</td><td>10.2.219.10:3490633</td><td style=\"text-align: right;\">     1.8079 </td><td style=\"text-align: right;\">  0.445773</td><td style=\"text-align: right;\">     32.3155 </td><td style=\"text-align: right;\">0.094115   </td><td style=\"text-align: right;\">     6.97738</td><td style=\"text-align: right;\">  20.0085 </td><td style=\"text-align: right;\">     1</td><td style=\"text-align: right;\">       66.2759  </td><td style=\"text-align: right;\">     0.539105  </td></tr>\n",
       "<tr><td>train_mcdo_b5a54b14</td><td>TERMINATED</td><td>10.2.219.10:3493238</td><td style=\"text-align: right;\">     5.90008</td><td style=\"text-align: right;\">  0.140876</td><td style=\"text-align: right;\">      2.75155</td><td style=\"text-align: right;\">0.0263782  </td><td style=\"text-align: right;\">     3.05579</td><td style=\"text-align: right;\">  21.1676 </td><td style=\"text-align: right;\">     1</td><td style=\"text-align: right;\">       11.3039  </td><td style=\"text-align: right;\">     0.513426  </td></tr>\n",
       "<tr><td>train_mcdo_4d4e06af</td><td>TERMINATED</td><td>10.2.219.10:3491432</td><td style=\"text-align: right;\">    19.0726 </td><td style=\"text-align: right;\">  0.122696</td><td style=\"text-align: right;\">    112.973  </td><td style=\"text-align: right;\">0.0509561  </td><td style=\"text-align: right;\">     3.73162</td><td style=\"text-align: right;\">   6.24432</td><td style=\"text-align: right;\">     1</td><td style=\"text-align: right;\">        2.13767 </td><td style=\"text-align: right;\">     0.529178  </td></tr>\n",
       "<tr><td>train_mcdo_acddd531</td><td>TERMINATED</td><td>10.2.219.10:3491432</td><td style=\"text-align: right;\">     4.83561</td><td style=\"text-align: right;\">  0.35756 </td><td style=\"text-align: right;\">    141.249  </td><td style=\"text-align: right;\">0.00820621 </td><td style=\"text-align: right;\">     3.81081</td><td style=\"text-align: right;\">  33.6304 </td><td style=\"text-align: right;\">     1</td><td style=\"text-align: right;\">       27.0463  </td><td style=\"text-align: right;\">     0.501438  </td></tr>\n",
       "<tr><td>train_mcdo_10228f8d</td><td>TERMINATED</td><td>10.2.219.10:3490574</td><td style=\"text-align: right;\">    19.0214 </td><td style=\"text-align: right;\">  0.459946</td><td style=\"text-align: right;\">     39.5552 </td><td style=\"text-align: right;\">0.0153695  </td><td style=\"text-align: right;\">     8.08433</td><td style=\"text-align: right;\">  25.0807 </td><td style=\"text-align: right;\">     1</td><td style=\"text-align: right;\">       10.3485  </td><td style=\"text-align: right;\">     0.52828   </td></tr>\n",
       "<tr><td>train_mcdo_a9c1d3ff</td><td>TERMINATED</td><td>10.2.219.10:3502289</td><td style=\"text-align: right;\">    19.6301 </td><td style=\"text-align: right;\">  0.428111</td><td style=\"text-align: right;\">    128.133  </td><td style=\"text-align: right;\">0.0240804  </td><td style=\"text-align: right;\">     9.79234</td><td style=\"text-align: right;\">  12.8189 </td><td style=\"text-align: right;\">     1</td><td style=\"text-align: right;\">        7.54384 </td><td style=\"text-align: right;\">     0.529972  </td></tr>\n",
       "<tr><td>train_mcdo_ab80c8fc</td><td>TERMINATED</td><td>10.2.219.10:3490794</td><td style=\"text-align: right;\">    17.7183 </td><td style=\"text-align: right;\">  0.334906</td><td style=\"text-align: right;\">    187.199  </td><td style=\"text-align: right;\">0.0253264  </td><td style=\"text-align: right;\">     4.03681</td><td style=\"text-align: right;\">  40.8068 </td><td style=\"text-align: right;\">     1</td><td style=\"text-align: right;\">       20.6237  </td><td style=\"text-align: right;\">     0.534782  </td></tr>\n",
       "<tr><td>train_mcdo_864780cb</td><td>TERMINATED</td><td>10.2.219.10:3493238</td><td style=\"text-align: right;\">    13.7818 </td><td style=\"text-align: right;\">  0.124568</td><td style=\"text-align: right;\">     46.8592 </td><td style=\"text-align: right;\">0.0797383  </td><td style=\"text-align: right;\">     2.09607</td><td style=\"text-align: right;\">  13.6255 </td><td style=\"text-align: right;\">     1</td><td style=\"text-align: right;\">        3.85986 </td><td style=\"text-align: right;\">     0.527192  </td></tr>\n",
       "<tr><td>train_mcdo_086891d5</td><td>TERMINATED</td><td>10.2.219.10:3491140</td><td style=\"text-align: right;\">    14.0678 </td><td style=\"text-align: right;\">  0.339461</td><td style=\"text-align: right;\">    110.615  </td><td style=\"text-align: right;\">0.0229547  </td><td style=\"text-align: right;\">     6.43455</td><td style=\"text-align: right;\">  25.9355 </td><td style=\"text-align: right;\">     1</td><td style=\"text-align: right;\">       12.9468  </td><td style=\"text-align: right;\">     0.523671  </td></tr>\n",
       "<tr><td>train_mcdo_dfcd2b8d</td><td>TERMINATED</td><td>10.2.219.10:3502289</td><td style=\"text-align: right;\">    10.4055 </td><td style=\"text-align: right;\">  0.386072</td><td style=\"text-align: right;\">     75.922  </td><td style=\"text-align: right;\">0.0901545  </td><td style=\"text-align: right;\">     9.47572</td><td style=\"text-align: right;\">  11.6758 </td><td style=\"text-align: right;\">     1</td><td style=\"text-align: right;\">        5.89222 </td><td style=\"text-align: right;\">     0.539552  </td></tr>\n",
       "<tr><td>train_mcdo_3dadf62e</td><td>TERMINATED</td><td>10.2.219.10:3490574</td><td style=\"text-align: right;\">     2.48325</td><td style=\"text-align: right;\">  0.341689</td><td style=\"text-align: right;\">     18.4407 </td><td style=\"text-align: right;\">0.0605951  </td><td style=\"text-align: right;\">     6.29547</td><td style=\"text-align: right;\">  43.1308 </td><td style=\"text-align: right;\">     1</td><td style=\"text-align: right;\">       43.3312  </td><td style=\"text-align: right;\">     0.538915  </td></tr>\n",
       "<tr><td>train_mcdo_3dcdd477</td><td>TERMINATED</td><td>10.2.219.10:3493238</td><td style=\"text-align: right;\">    14.1223 </td><td style=\"text-align: right;\">  0.14525 </td><td style=\"text-align: right;\">    104.623  </td><td style=\"text-align: right;\">0.0122795  </td><td style=\"text-align: right;\">     6.90922</td><td style=\"text-align: right;\">  27.6786 </td><td style=\"text-align: right;\">     1</td><td style=\"text-align: right;\">       18.9925  </td><td style=\"text-align: right;\">     0.528503  </td></tr>\n",
       "<tr><td>train_mcdo_50256184</td><td>TERMINATED</td><td>10.2.219.10:3491040</td><td style=\"text-align: right;\">    12.9036 </td><td style=\"text-align: right;\">  0.400063</td><td style=\"text-align: right;\">    157.797  </td><td style=\"text-align: right;\">0.0238029  </td><td style=\"text-align: right;\">     9.64253</td><td style=\"text-align: right;\">  21.325  </td><td style=\"text-align: right;\">     1</td><td style=\"text-align: right;\">       10.6374  </td><td style=\"text-align: right;\">     0.535536  </td></tr>\n",
       "<tr><td>train_mcdo_e3ea8548</td><td>TERMINATED</td><td>10.2.219.10:3502289</td><td style=\"text-align: right;\">     9.14024</td><td style=\"text-align: right;\">  0.401457</td><td style=\"text-align: right;\">    139.094  </td><td style=\"text-align: right;\">0.0808421  </td><td style=\"text-align: right;\">     9.01768</td><td style=\"text-align: right;\">  38.523  </td><td style=\"text-align: right;\">     1</td><td style=\"text-align: right;\">       25.0572  </td><td style=\"text-align: right;\">     0.546816  </td></tr>\n",
       "<tr><td>train_mcdo_ef00d71e</td><td>TERMINATED</td><td>10.2.219.10:3493694</td><td style=\"text-align: right;\">    15.0606 </td><td style=\"text-align: right;\">  0.260922</td><td style=\"text-align: right;\">    169.945  </td><td style=\"text-align: right;\">0.0969761  </td><td style=\"text-align: right;\">     2.18333</td><td style=\"text-align: right;\">  10.3432 </td><td style=\"text-align: right;\">     1</td><td style=\"text-align: right;\">        1.58404 </td><td style=\"text-align: right;\">     0.524509  </td></tr>\n",
       "<tr><td>train_mcdo_53c09235</td><td>TERMINATED</td><td>10.2.219.10:3493694</td><td style=\"text-align: right;\">     1.73634</td><td style=\"text-align: right;\">  0.49898 </td><td style=\"text-align: right;\">    138.792  </td><td style=\"text-align: right;\">0.0125632  </td><td style=\"text-align: right;\">     8.09145</td><td style=\"text-align: right;\">  22.837  </td><td style=\"text-align: right;\">     1</td><td style=\"text-align: right;\">      101.42    </td><td style=\"text-align: right;\">     0.538326  </td></tr>\n",
       "<tr><td>train_mcdo_90a463c1</td><td>TERMINATED</td><td>10.2.219.10:3491615</td><td style=\"text-align: right;\">    10.4667 </td><td style=\"text-align: right;\">  0.385692</td><td style=\"text-align: right;\">     68.8197 </td><td style=\"text-align: right;\">0.0817982  </td><td style=\"text-align: right;\">     9.83836</td><td style=\"text-align: right;\">  36.8472 </td><td style=\"text-align: right;\">     1</td><td style=\"text-align: right;\">       16.9058  </td><td style=\"text-align: right;\">     0.538952  </td></tr>\n",
       "<tr><td>train_mcdo_67d5f5a3</td><td>TERMINATED</td><td>10.2.219.10:3491140</td><td style=\"text-align: right;\">    12.0542 </td><td style=\"text-align: right;\">  0.190504</td><td style=\"text-align: right;\">    151.235  </td><td style=\"text-align: right;\">0.061595   </td><td style=\"text-align: right;\">     5.74049</td><td style=\"text-align: right;\">  27.9254 </td><td style=\"text-align: right;\">     1</td><td style=\"text-align: right;\">        8.32125 </td><td style=\"text-align: right;\">     0.535056  </td></tr>\n",
       "<tr><td>train_mcdo_30b6d638</td><td>TERMINATED</td><td>10.2.219.10:3491040</td><td style=\"text-align: right;\">     3.98825</td><td style=\"text-align: right;\">  0.244497</td><td style=\"text-align: right;\">     22.3984 </td><td style=\"text-align: right;\">0.0555751  </td><td style=\"text-align: right;\">     7.59899</td><td style=\"text-align: right;\">  43.5799 </td><td style=\"text-align: right;\">     1</td><td style=\"text-align: right;\">       32.3615  </td><td style=\"text-align: right;\">     0.536617  </td></tr>\n",
       "<tr><td>train_mcdo_f0c2ebc7</td><td>TERMINATED</td><td>10.2.219.10:3491432</td><td style=\"text-align: right;\">    18.4798 </td><td style=\"text-align: right;\">  0.255268</td><td style=\"text-align: right;\">     45.1845 </td><td style=\"text-align: right;\">0.0789165  </td><td style=\"text-align: right;\">     8.17946</td><td style=\"text-align: right;\">  45.9259 </td><td style=\"text-align: right;\">     1</td><td style=\"text-align: right;\">       18.1972  </td><td style=\"text-align: right;\">     0.502006  </td></tr>\n",
       "<tr><td>train_mcdo_91968553</td><td>TERMINATED</td><td>10.2.219.10:3490794</td><td style=\"text-align: right;\">    14.0365 </td><td style=\"text-align: right;\">  0.221894</td><td style=\"text-align: right;\">     38.2489 </td><td style=\"text-align: right;\">0.0628053  </td><td style=\"text-align: right;\">     2.46812</td><td style=\"text-align: right;\">  33.5314 </td><td style=\"text-align: right;\">     1</td><td style=\"text-align: right;\">        4.1357  </td><td style=\"text-align: right;\">     0.52027   </td></tr>\n",
       "<tr><td>train_mcdo_6eaec835</td><td>TERMINATED</td><td>10.2.219.10:3491140</td><td style=\"text-align: right;\">    18.2329 </td><td style=\"text-align: right;\">  0.430802</td><td style=\"text-align: right;\">     86.3887 </td><td style=\"text-align: right;\">0.0841904  </td><td style=\"text-align: right;\">     2.72439</td><td style=\"text-align: right;\">  43.0723 </td><td style=\"text-align: right;\">     1</td><td style=\"text-align: right;\">        3.60697 </td><td style=\"text-align: right;\">     0.507726  </td></tr>\n",
       "<tr><td>train_mcdo_0716eb32</td><td>TERMINATED</td><td>10.2.219.10:3493238</td><td style=\"text-align: right;\">     7.03014</td><td style=\"text-align: right;\">  0.156216</td><td style=\"text-align: right;\">     53.7315 </td><td style=\"text-align: right;\">0.0125923  </td><td style=\"text-align: right;\">     3.71322</td><td style=\"text-align: right;\">  27.8929 </td><td style=\"text-align: right;\">     1</td><td style=\"text-align: right;\">        7.23919 </td><td style=\"text-align: right;\">     0.517571  </td></tr>\n",
       "<tr><td>train_mcdo_dd82ac12</td><td>TERMINATED</td><td>10.2.219.10:3490794</td><td style=\"text-align: right;\">    11.4403 </td><td style=\"text-align: right;\">  0.444384</td><td style=\"text-align: right;\">    184.812  </td><td style=\"text-align: right;\">0.0838725  </td><td style=\"text-align: right;\">     8.91573</td><td style=\"text-align: right;\">  36.4816 </td><td style=\"text-align: right;\">     1</td><td style=\"text-align: right;\">       46.3442  </td><td style=\"text-align: right;\">     0.518036  </td></tr>\n",
       "<tr><td>train_mcdo_e3125a57</td><td>TERMINATED</td><td>10.2.219.10:3491140</td><td style=\"text-align: right;\">     5.02387</td><td style=\"text-align: right;\">  0.255037</td><td style=\"text-align: right;\">      6.78899</td><td style=\"text-align: right;\">0.018098   </td><td style=\"text-align: right;\">     8.43549</td><td style=\"text-align: right;\">  42.7656 </td><td style=\"text-align: right;\">     1</td><td style=\"text-align: right;\">       23.5585  </td><td style=\"text-align: right;\">     0.538913  </td></tr>\n",
       "<tr><td>train_mcdo_8e4637a7</td><td>TERMINATED</td><td>10.2.219.10:3491615</td><td style=\"text-align: right;\">    13.2281 </td><td style=\"text-align: right;\">  0.368246</td><td style=\"text-align: right;\">     96.3078 </td><td style=\"text-align: right;\">0.0547432  </td><td style=\"text-align: right;\">     5.86366</td><td style=\"text-align: right;\">  45.0311 </td><td style=\"text-align: right;\">     1</td><td style=\"text-align: right;\">       22.0166  </td><td style=\"text-align: right;\">     0.525133  </td></tr>\n",
       "<tr><td>train_mcdo_7a7c3eba</td><td>TERMINATED</td><td>10.2.219.10:3493238</td><td style=\"text-align: right;\">    18.2705 </td><td style=\"text-align: right;\">  0.239612</td><td style=\"text-align: right;\">    111.268  </td><td style=\"text-align: right;\">0.0285038  </td><td style=\"text-align: right;\">     4.01258</td><td style=\"text-align: right;\">  31.7276 </td><td style=\"text-align: right;\">     1</td><td style=\"text-align: right;\">        8.28903 </td><td style=\"text-align: right;\">     0.504777  </td></tr>\n",
       "<tr><td>train_mcdo_408431df</td><td>TERMINATED</td><td>10.2.219.10:3502289</td><td style=\"text-align: right;\">     1.35873</td><td style=\"text-align: right;\">  0.32785 </td><td style=\"text-align: right;\">    177.028  </td><td style=\"text-align: right;\">0.0524409  </td><td style=\"text-align: right;\">     4.19727</td><td style=\"text-align: right;\">   6.41364</td><td style=\"text-align: right;\">     1</td><td style=\"text-align: right;\">       21.0535  </td><td style=\"text-align: right;\">     0.179515  </td></tr>\n",
       "<tr><td>train_mcdo_21181be2</td><td>TERMINATED</td><td>10.2.219.10:3491432</td><td style=\"text-align: right;\">    13.7404 </td><td style=\"text-align: right;\">  0.337109</td><td style=\"text-align: right;\">    154.167  </td><td style=\"text-align: right;\">0.0984856  </td><td style=\"text-align: right;\">     8.81141</td><td style=\"text-align: right;\">  36.0404 </td><td style=\"text-align: right;\">     1</td><td style=\"text-align: right;\">       11.42    </td><td style=\"text-align: right;\">     0.798951  </td></tr>\n",
       "<tr><td>train_mcdo_c3f8b84b</td><td>TERMINATED</td><td>10.2.219.10:3493238</td><td style=\"text-align: right;\">    14.1141 </td><td style=\"text-align: right;\">  0.16516 </td><td style=\"text-align: right;\">    169.339  </td><td style=\"text-align: right;\">0.0890988  </td><td style=\"text-align: right;\">     8.63755</td><td style=\"text-align: right;\">  49.3576 </td><td style=\"text-align: right;\">     1</td><td style=\"text-align: right;\">       29.5251  </td><td style=\"text-align: right;\">     0.544533  </td></tr>\n",
       "<tr><td>train_mcdo_e4a656af</td><td>TERMINATED</td><td>10.2.219.10:3503988</td><td style=\"text-align: right;\">     1.98516</td><td style=\"text-align: right;\">  0.478392</td><td style=\"text-align: right;\">    158.291  </td><td style=\"text-align: right;\">0.0267346  </td><td style=\"text-align: right;\">     3.13082</td><td style=\"text-align: right;\">  31.446  </td><td style=\"text-align: right;\">     1</td><td style=\"text-align: right;\">       59.9514  </td><td style=\"text-align: right;\">     0.0570115 </td></tr>\n",
       "<tr><td>train_mcdo_60b31f93</td><td>TERMINATED</td><td>10.2.219.10:3490574</td><td style=\"text-align: right;\">    13.438  </td><td style=\"text-align: right;\">  0.139417</td><td style=\"text-align: right;\">    171.972  </td><td style=\"text-align: right;\">0.00521254 </td><td style=\"text-align: right;\">     7.03782</td><td style=\"text-align: right;\">  29.628  </td><td style=\"text-align: right;\">     1</td><td style=\"text-align: right;\">       18.1731  </td><td style=\"text-align: right;\">     0.529929  </td></tr>\n",
       "<tr><td>train_mcdo_47848d28</td><td>TERMINATED</td><td>10.2.219.10:3491432</td><td style=\"text-align: right;\">    18.8015 </td><td style=\"text-align: right;\">  0.279229</td><td style=\"text-align: right;\">     98.1771 </td><td style=\"text-align: right;\">0.00646282 </td><td style=\"text-align: right;\">     4.47772</td><td style=\"text-align: right;\">  10.3993 </td><td style=\"text-align: right;\">     1</td><td style=\"text-align: right;\">        1.89231 </td><td style=\"text-align: right;\">     0.513886  </td></tr>\n",
       "<tr><td>train_mcdo_58c9a64b</td><td>TERMINATED</td><td>10.2.219.10:3491040</td><td style=\"text-align: right;\">     7.61746</td><td style=\"text-align: right;\">  0.27743 </td><td style=\"text-align: right;\">    179.105  </td><td style=\"text-align: right;\">0.0458172  </td><td style=\"text-align: right;\">     7.04833</td><td style=\"text-align: right;\">  44.2447 </td><td style=\"text-align: right;\">     1</td><td style=\"text-align: right;\">       47.9923  </td><td style=\"text-align: right;\">     0.53457   </td></tr>\n",
       "<tr><td>train_mcdo_522b2fbc</td><td>TERMINATED</td><td>10.2.219.10:3491140</td><td style=\"text-align: right;\">    12.2637 </td><td style=\"text-align: right;\">  0.241281</td><td style=\"text-align: right;\">     92.8995 </td><td style=\"text-align: right;\">0.0183903  </td><td style=\"text-align: right;\">     2.0559 </td><td style=\"text-align: right;\">  43.0877 </td><td style=\"text-align: right;\">     1</td><td style=\"text-align: right;\">        5.55032 </td><td style=\"text-align: right;\">     0.529459  </td></tr>\n",
       "<tr><td>train_mcdo_c36056bd</td><td>TERMINATED</td><td>10.2.219.10:3491432</td><td style=\"text-align: right;\">     1.98541</td><td style=\"text-align: right;\">  0.241392</td><td style=\"text-align: right;\">     30.8805 </td><td style=\"text-align: right;\">0.0422677  </td><td style=\"text-align: right;\">     5.19817</td><td style=\"text-align: right;\">  38.3127 </td><td style=\"text-align: right;\">     1</td><td style=\"text-align: right;\">      176.041   </td><td style=\"text-align: right;\">     0.538912  </td></tr>\n",
       "<tr><td>train_mcdo_4648bf06</td><td>TERMINATED</td><td>10.2.219.10:3490633</td><td style=\"text-align: right;\">    17.0039 </td><td style=\"text-align: right;\">  0.208502</td><td style=\"text-align: right;\">    137.671  </td><td style=\"text-align: right;\">0.0661688  </td><td style=\"text-align: right;\">     2.2924 </td><td style=\"text-align: right;\">   3.73181</td><td style=\"text-align: right;\">     1</td><td style=\"text-align: right;\">        0.614966</td><td style=\"text-align: right;\">     0.535246  </td></tr>\n",
       "<tr><td>train_mcdo_fff3caba</td><td>TERMINATED</td><td>10.2.219.10:3491615</td><td style=\"text-align: right;\">    13.4841 </td><td style=\"text-align: right;\">  0.174404</td><td style=\"text-align: right;\">    151.82   </td><td style=\"text-align: right;\">0.038307   </td><td style=\"text-align: right;\">     3.46537</td><td style=\"text-align: right;\">  14.1428 </td><td style=\"text-align: right;\">     1</td><td style=\"text-align: right;\">        5.37018 </td><td style=\"text-align: right;\">     0.53191   </td></tr>\n",
       "<tr><td>train_mcdo_51dbb8a6</td><td>TERMINATED</td><td>10.2.219.10:3502289</td><td style=\"text-align: right;\">     4.10701</td><td style=\"text-align: right;\">  0.383861</td><td style=\"text-align: right;\">    197.728  </td><td style=\"text-align: right;\">0.0535998  </td><td style=\"text-align: right;\">     8.44715</td><td style=\"text-align: right;\">  40.5524 </td><td style=\"text-align: right;\">     1</td><td style=\"text-align: right;\">      115.008   </td><td style=\"text-align: right;\">     0.539344  </td></tr>\n",
       "<tr><td>train_mcdo_c287acd3</td><td>TERMINATED</td><td>10.2.219.10:3490633</td><td style=\"text-align: right;\">    10.1753 </td><td style=\"text-align: right;\">  0.285517</td><td style=\"text-align: right;\">     32.0583 </td><td style=\"text-align: right;\">0.0775377  </td><td style=\"text-align: right;\">     9.22372</td><td style=\"text-align: right;\">  46.6116 </td><td style=\"text-align: right;\">     1</td><td style=\"text-align: right;\">       23.268   </td><td style=\"text-align: right;\">     0.538911  </td></tr>\n",
       "<tr><td>train_mcdo_aa49d559</td><td>TERMINATED</td><td>10.2.219.10:3491140</td><td style=\"text-align: right;\">    11.2146 </td><td style=\"text-align: right;\">  0.243453</td><td style=\"text-align: right;\">    112.147  </td><td style=\"text-align: right;\">0.0760191  </td><td style=\"text-align: right;\">     9.14466</td><td style=\"text-align: right;\">  24.6467 </td><td style=\"text-align: right;\">     1</td><td style=\"text-align: right;\">       23.3683  </td><td style=\"text-align: right;\">     0.520221  </td></tr>\n",
       "<tr><td>train_mcdo_7136a10d</td><td>TERMINATED</td><td>10.2.219.10:3491082</td><td style=\"text-align: right;\">    13.0215 </td><td style=\"text-align: right;\">  0.281319</td><td style=\"text-align: right;\">    168.595  </td><td style=\"text-align: right;\">0.0152064  </td><td style=\"text-align: right;\">     8.68144</td><td style=\"text-align: right;\">  41.5241 </td><td style=\"text-align: right;\">     1</td><td style=\"text-align: right;\">       17.3463  </td><td style=\"text-align: right;\">     0.535162  </td></tr>\n",
       "<tr><td>train_mcdo_7c7e0be6</td><td>TERMINATED</td><td>10.2.219.10:3491615</td><td style=\"text-align: right;\">     8.4538 </td><td style=\"text-align: right;\">  0.467287</td><td style=\"text-align: right;\">    107.369  </td><td style=\"text-align: right;\">0.0576969  </td><td style=\"text-align: right;\">     6.32987</td><td style=\"text-align: right;\">  47.358  </td><td style=\"text-align: right;\">     1</td><td style=\"text-align: right;\">       15.7312  </td><td style=\"text-align: right;\">     0.538907  </td></tr>\n",
       "<tr><td>train_mcdo_3eb25ab6</td><td>TERMINATED</td><td>10.2.219.10:3504447</td><td style=\"text-align: right;\">     8.07366</td><td style=\"text-align: right;\">  0.118458</td><td style=\"text-align: right;\">    158.348  </td><td style=\"text-align: right;\">0.0625896  </td><td style=\"text-align: right;\">     9.77045</td><td style=\"text-align: right;\">  42.8109 </td><td style=\"text-align: right;\">     1</td><td style=\"text-align: right;\">       35.3082  </td><td style=\"text-align: right;\">     0.53909   </td></tr>\n",
       "<tr><td>train_mcdo_ccc06977</td><td>TERMINATED</td><td>10.2.219.10:3490574</td><td style=\"text-align: right;\">    10.6435 </td><td style=\"text-align: right;\">  0.21148 </td><td style=\"text-align: right;\">    161.785  </td><td style=\"text-align: right;\">0.00790869 </td><td style=\"text-align: right;\">     9.92206</td><td style=\"text-align: right;\">  49.1012 </td><td style=\"text-align: right;\">     1</td><td style=\"text-align: right;\">       31.2978  </td><td style=\"text-align: right;\">     0.538966  </td></tr>\n",
       "<tr><td>train_mcdo_224e1018</td><td>TERMINATED</td><td>10.2.219.10:3493238</td><td style=\"text-align: right;\">    19.5691 </td><td style=\"text-align: right;\">  0.192819</td><td style=\"text-align: right;\">    180.122  </td><td style=\"text-align: right;\">0.0410977  </td><td style=\"text-align: right;\">     7.26354</td><td style=\"text-align: right;\">  30.9398 </td><td style=\"text-align: right;\">     1</td><td style=\"text-align: right;\">       16.9457  </td><td style=\"text-align: right;\">     0.530847  </td></tr>\n",
       "<tr><td>train_mcdo_356f28f3</td><td>TERMINATED</td><td>10.2.219.10:3490794</td><td style=\"text-align: right;\">     2.5321 </td><td style=\"text-align: right;\">  0.162185</td><td style=\"text-align: right;\">     39.7982 </td><td style=\"text-align: right;\">0.0753207  </td><td style=\"text-align: right;\">     3.29661</td><td style=\"text-align: right;\">   9.42648</td><td style=\"text-align: right;\">     1</td><td style=\"text-align: right;\">        4.29725 </td><td style=\"text-align: right;\">     0.523912  </td></tr>\n",
       "<tr><td>train_mcdo_5cac1e57</td><td>TERMINATED</td><td>10.2.219.10:3490794</td><td style=\"text-align: right;\">    16.5817 </td><td style=\"text-align: right;\">  0.458802</td><td style=\"text-align: right;\">     46.3826 </td><td style=\"text-align: right;\">0.0760047  </td><td style=\"text-align: right;\">     9.51363</td><td style=\"text-align: right;\">  35.6635 </td><td style=\"text-align: right;\">     1</td><td style=\"text-align: right;\">       12.2742  </td><td style=\"text-align: right;\">     0.533159  </td></tr>\n",
       "<tr><td>train_mcdo_a259aad8</td><td>TERMINATED</td><td>10.2.219.10:3491615</td><td style=\"text-align: right;\">    12.6264 </td><td style=\"text-align: right;\">  0.210148</td><td style=\"text-align: right;\">    181.145  </td><td style=\"text-align: right;\">0.0165429  </td><td style=\"text-align: right;\">     4.54358</td><td style=\"text-align: right;\">  33.4903 </td><td style=\"text-align: right;\">     1</td><td style=\"text-align: right;\">       10.9485  </td><td style=\"text-align: right;\">     0.535484  </td></tr>\n",
       "<tr><td>train_mcdo_f972e343</td><td>TERMINATED</td><td>10.2.219.10:3491082</td><td style=\"text-align: right;\">    15.7532 </td><td style=\"text-align: right;\">  0.499429</td><td style=\"text-align: right;\">    113.106  </td><td style=\"text-align: right;\">0.089387   </td><td style=\"text-align: right;\">     2.51979</td><td style=\"text-align: right;\">  22.5788 </td><td style=\"text-align: right;\">     1</td><td style=\"text-align: right;\">        3.45378 </td><td style=\"text-align: right;\">     0.529827  </td></tr>\n",
       "<tr><td>train_mcdo_15405a40</td><td>TERMINATED</td><td>10.2.219.10:3490633</td><td style=\"text-align: right;\">    16.983  </td><td style=\"text-align: right;\">  0.186709</td><td style=\"text-align: right;\">    119.19   </td><td style=\"text-align: right;\">0.0412535  </td><td style=\"text-align: right;\">     3.76826</td><td style=\"text-align: right;\">  13.5979 </td><td style=\"text-align: right;\">     1</td><td style=\"text-align: right;\">        4.04981 </td><td style=\"text-align: right;\">     0.531145  </td></tr>\n",
       "<tr><td>train_mcdo_bea0c2cf</td><td>TERMINATED</td><td>10.2.219.10:3491140</td><td style=\"text-align: right;\">    16.7153 </td><td style=\"text-align: right;\">  0.287802</td><td style=\"text-align: right;\">    152.787  </td><td style=\"text-align: right;\">0.0465388  </td><td style=\"text-align: right;\">     4.14333</td><td style=\"text-align: right;\">  38.0557 </td><td style=\"text-align: right;\">     1</td><td style=\"text-align: right;\">       12.6576  </td><td style=\"text-align: right;\">     0.525079  </td></tr>\n",
       "<tr><td>train_mcdo_7a14144f</td><td>TERMINATED</td><td>10.2.219.10:3491082</td><td style=\"text-align: right;\">    10.605  </td><td style=\"text-align: right;\">  0.460474</td><td style=\"text-align: right;\">    172.512  </td><td style=\"text-align: right;\">0.0961389  </td><td style=\"text-align: right;\">     2.06166</td><td style=\"text-align: right;\">  28.0012 </td><td style=\"text-align: right;\">     1</td><td style=\"text-align: right;\">        5.45346 </td><td style=\"text-align: right;\">     0.535908  </td></tr>\n",
       "<tr><td>train_mcdo_cf76b856</td><td>TERMINATED</td><td>10.2.219.10:3490633</td><td style=\"text-align: right;\">     5.78348</td><td style=\"text-align: right;\">  0.456284</td><td style=\"text-align: right;\">    176.819  </td><td style=\"text-align: right;\">0.0556453  </td><td style=\"text-align: right;\">     8.63202</td><td style=\"text-align: right;\">  21.8166 </td><td style=\"text-align: right;\">     1</td><td style=\"text-align: right;\">       53.5348  </td><td style=\"text-align: right;\">     0.538981  </td></tr>\n",
       "<tr><td>train_mcdo_7cbe3c53</td><td>TERMINATED</td><td>10.2.219.10:3493238</td><td style=\"text-align: right;\">     8.62382</td><td style=\"text-align: right;\">  0.308253</td><td style=\"text-align: right;\">     97.4696 </td><td style=\"text-align: right;\">0.0456244  </td><td style=\"text-align: right;\">     3.93302</td><td style=\"text-align: right;\">  25.7284 </td><td style=\"text-align: right;\">     1</td><td style=\"text-align: right;\">        7.96301 </td><td style=\"text-align: right;\">     0.525537  </td></tr>\n",
       "<tr><td>train_mcdo_81df9fe2</td><td>TERMINATED</td><td>10.2.219.10:3491615</td><td style=\"text-align: right;\">    19.3381 </td><td style=\"text-align: right;\">  0.356874</td><td style=\"text-align: right;\">     44.1754 </td><td style=\"text-align: right;\">0.0300353  </td><td style=\"text-align: right;\">     4.88665</td><td style=\"text-align: right;\">  11.4464 </td><td style=\"text-align: right;\">     1</td><td style=\"text-align: right;\">        3.23113 </td><td style=\"text-align: right;\">     0.532923  </td></tr>\n",
       "<tr><td>train_mcdo_86c2ca31</td><td>TERMINATED</td><td>10.2.219.10:3491082</td><td style=\"text-align: right;\">     7.38093</td><td style=\"text-align: right;\">  0.386903</td><td style=\"text-align: right;\">    147.416  </td><td style=\"text-align: right;\">0.0422426  </td><td style=\"text-align: right;\">     6.32852</td><td style=\"text-align: right;\">  49.4624 </td><td style=\"text-align: right;\">     1</td><td style=\"text-align: right;\">       75.8568  </td><td style=\"text-align: right;\">     0.534945  </td></tr>\n",
       "<tr><td>train_mcdo_a73da3bc</td><td>TERMINATED</td><td>10.2.219.10:3490794</td><td style=\"text-align: right;\">     1.84267</td><td style=\"text-align: right;\">  0.243304</td><td style=\"text-align: right;\">     61.0784 </td><td style=\"text-align: right;\">0.0263428  </td><td style=\"text-align: right;\">     2.52173</td><td style=\"text-align: right;\">  36.5413 </td><td style=\"text-align: right;\">     1</td><td style=\"text-align: right;\">       40.6601  </td><td style=\"text-align: right;\">     0.036692  </td></tr>\n",
       "<tr><td>train_mcdo_a22637e3</td><td>TERMINATED</td><td>10.2.219.10:3491615</td><td style=\"text-align: right;\">    18.2873 </td><td style=\"text-align: right;\">  0.149371</td><td style=\"text-align: right;\">     44.1284 </td><td style=\"text-align: right;\">0.0275324  </td><td style=\"text-align: right;\">     7.863  </td><td style=\"text-align: right;\">  25.0657 </td><td style=\"text-align: right;\">     1</td><td style=\"text-align: right;\">       11.1949  </td><td style=\"text-align: right;\">     0.505329  </td></tr>\n",
       "<tr><td>train_mcdo_1759223b</td><td>TERMINATED</td><td>10.2.219.10:3491140</td><td style=\"text-align: right;\">     5.98652</td><td style=\"text-align: right;\">  0.476819</td><td style=\"text-align: right;\">    127.907  </td><td style=\"text-align: right;\">0.0642009  </td><td style=\"text-align: right;\">     6.82343</td><td style=\"text-align: right;\">  18.174  </td><td style=\"text-align: right;\">     1</td><td style=\"text-align: right;\">       28.5639  </td><td style=\"text-align: right;\">     0.538944  </td></tr>\n",
       "<tr><td>train_mcdo_cabbb4f5</td><td>TERMINATED</td><td>10.2.219.10:3493238</td><td style=\"text-align: right;\">    16.6286 </td><td style=\"text-align: right;\">  0.278562</td><td style=\"text-align: right;\">     52.8913 </td><td style=\"text-align: right;\">0.0325974  </td><td style=\"text-align: right;\">     8.96801</td><td style=\"text-align: right;\">  22.599  </td><td style=\"text-align: right;\">     1</td><td style=\"text-align: right;\">       13.1948  </td><td style=\"text-align: right;\">     0.529668  </td></tr>\n",
       "<tr><td>train_mcdo_29e2d2d2</td><td>TERMINATED</td><td>10.2.219.10:3490574</td><td style=\"text-align: right;\">     6.45393</td><td style=\"text-align: right;\">  0.363626</td><td style=\"text-align: right;\">     35.3785 </td><td style=\"text-align: right;\">0.0288898  </td><td style=\"text-align: right;\">     7.19192</td><td style=\"text-align: right;\">  11.6016 </td><td style=\"text-align: right;\">     1</td><td style=\"text-align: right;\">        5.90831 </td><td style=\"text-align: right;\">     0.535455  </td></tr>\n",
       "<tr><td>train_mcdo_4f5a1672</td><td>TERMINATED</td><td>10.2.219.10:3491040</td><td style=\"text-align: right;\">    13.0223 </td><td style=\"text-align: right;\">  0.253259</td><td style=\"text-align: right;\">    143.815  </td><td style=\"text-align: right;\">0.0708463  </td><td style=\"text-align: right;\">     3.17705</td><td style=\"text-align: right;\">  34.272  </td><td style=\"text-align: right;\">     1</td><td style=\"text-align: right;\">        9.76325 </td><td style=\"text-align: right;\">     0.524335  </td></tr>\n",
       "<tr><td>train_mcdo_66a24879</td><td>TERMINATED</td><td>10.2.219.10:3504447</td><td style=\"text-align: right;\">     6.09448</td><td style=\"text-align: right;\">  0.228267</td><td style=\"text-align: right;\">     70.8001 </td><td style=\"text-align: right;\">0.0422425  </td><td style=\"text-align: right;\">     5.22925</td><td style=\"text-align: right;\">  36.4248 </td><td style=\"text-align: right;\">     1</td><td style=\"text-align: right;\">       20.0186  </td><td style=\"text-align: right;\">     0.532383  </td></tr>\n",
       "<tr><td>train_mcdo_156bdf1b</td><td>TERMINATED</td><td>10.2.219.10:3490574</td><td style=\"text-align: right;\">     4.4413 </td><td style=\"text-align: right;\">  0.271501</td><td style=\"text-align: right;\">    112.571  </td><td style=\"text-align: right;\">0.0403705  </td><td style=\"text-align: right;\">     5.69111</td><td style=\"text-align: right;\">  12.2717 </td><td style=\"text-align: right;\">     1</td><td style=\"text-align: right;\">       14.0496  </td><td style=\"text-align: right;\">     0.538913  </td></tr>\n",
       "<tr><td>train_mcdo_d183ceaa</td><td>TERMINATED</td><td>10.2.219.10:3503988</td><td style=\"text-align: right;\">     9.3827 </td><td style=\"text-align: right;\">  0.214328</td><td style=\"text-align: right;\">     45.5208 </td><td style=\"text-align: right;\">0.0824853  </td><td style=\"text-align: right;\">     3.01939</td><td style=\"text-align: right;\">  45.1189 </td><td style=\"text-align: right;\">     1</td><td style=\"text-align: right;\">        9.44    </td><td style=\"text-align: right;\">     0.52155   </td></tr>\n",
       "<tr><td>train_mcdo_e4d3db9b</td><td>TERMINATED</td><td>10.2.219.10:3491615</td><td style=\"text-align: right;\">     4.49821</td><td style=\"text-align: right;\">  0.402395</td><td style=\"text-align: right;\">     53.4089 </td><td style=\"text-align: right;\">0.0376834  </td><td style=\"text-align: right;\">     9.08305</td><td style=\"text-align: right;\">  33.1137 </td><td style=\"text-align: right;\">     1</td><td style=\"text-align: right;\">      114.563   </td><td style=\"text-align: right;\">     0.538907  </td></tr>\n",
       "<tr><td>train_mcdo_ce29f71b</td><td>TERMINATED</td><td>10.2.219.10:3491040</td><td style=\"text-align: right;\">    17.1095 </td><td style=\"text-align: right;\">  0.398845</td><td style=\"text-align: right;\">     17.8684 </td><td style=\"text-align: right;\">0.0359312  </td><td style=\"text-align: right;\">     6.97927</td><td style=\"text-align: right;\">  25.0269 </td><td style=\"text-align: right;\">     1</td><td style=\"text-align: right;\">       17.2779  </td><td style=\"text-align: right;\">     0.535428  </td></tr>\n",
       "<tr><td>train_mcdo_2b188e1c</td><td>TERMINATED</td><td>10.2.219.10:3493238</td><td style=\"text-align: right;\">    18.4986 </td><td style=\"text-align: right;\">  0.330297</td><td style=\"text-align: right;\">     36.6262 </td><td style=\"text-align: right;\">0.0141797  </td><td style=\"text-align: right;\">     5.14708</td><td style=\"text-align: right;\">  29.877  </td><td style=\"text-align: right;\">     1</td><td style=\"text-align: right;\">        6.48155 </td><td style=\"text-align: right;\">     0.503226  </td></tr>\n",
       "<tr><td>train_mcdo_bf759d42</td><td>TERMINATED</td><td>10.2.219.10:3493694</td><td style=\"text-align: right;\">    15.9672 </td><td style=\"text-align: right;\">  0.253149</td><td style=\"text-align: right;\">    192.655  </td><td style=\"text-align: right;\">0.0780227  </td><td style=\"text-align: right;\">     8.15743</td><td style=\"text-align: right;\">  41.4655 </td><td style=\"text-align: right;\">     1</td><td style=\"text-align: right;\">       80.6418  </td><td style=\"text-align: right;\">     0.521122  </td></tr>\n",
       "<tr><td>train_mcdo_9588b055</td><td>TERMINATED</td><td>10.2.219.10:3503988</td><td style=\"text-align: right;\">    13.4718 </td><td style=\"text-align: right;\">  0.261765</td><td style=\"text-align: right;\">    190.168  </td><td style=\"text-align: right;\">0.0789776  </td><td style=\"text-align: right;\">     6.9582 </td><td style=\"text-align: right;\">   8.81967</td><td style=\"text-align: right;\">     1</td><td style=\"text-align: right;\">        2.79489 </td><td style=\"text-align: right;\">     0.529822  </td></tr>\n",
       "<tr><td>train_mcdo_5fa3af9b</td><td>TERMINATED</td><td>10.2.219.10:3493238</td><td style=\"text-align: right;\">     5.76748</td><td style=\"text-align: right;\">  0.288551</td><td style=\"text-align: right;\">     55.0327 </td><td style=\"text-align: right;\">0.0542645  </td><td style=\"text-align: right;\">     5.21254</td><td style=\"text-align: right;\">  25.4234 </td><td style=\"text-align: right;\">     1</td><td style=\"text-align: right;\">       17.5283  </td><td style=\"text-align: right;\">     0.538935  </td></tr>\n",
       "<tr><td>train_mcdo_9aa129d6</td><td>TERMINATED</td><td>10.2.219.10:3503988</td><td style=\"text-align: right;\">    14.1576 </td><td style=\"text-align: right;\">  0.237964</td><td style=\"text-align: right;\">      1.6542 </td><td style=\"text-align: right;\">0.0410407  </td><td style=\"text-align: right;\">     6.93242</td><td style=\"text-align: right;\">  11.6581 </td><td style=\"text-align: right;\">     1</td><td style=\"text-align: right;\">        4.99541 </td><td style=\"text-align: right;\">     0.533222  </td></tr>\n",
       "<tr><td>train_mcdo_329ee56e</td><td>TERMINATED</td><td>10.2.219.10:3490574</td><td style=\"text-align: right;\">    15.2245 </td><td style=\"text-align: right;\">  0.473671</td><td style=\"text-align: right;\">     70.8748 </td><td style=\"text-align: right;\">0.0265524  </td><td style=\"text-align: right;\">     5.01239</td><td style=\"text-align: right;\">  14.6311 </td><td style=\"text-align: right;\">     1</td><td style=\"text-align: right;\">        9.33193 </td><td style=\"text-align: right;\">     0.524844  </td></tr>\n",
       "<tr><td>train_mcdo_d7f9efd0</td><td>TERMINATED</td><td>10.2.219.10:3504447</td><td style=\"text-align: right;\">     6.91965</td><td style=\"text-align: right;\">  0.12329 </td><td style=\"text-align: right;\">     15.9875 </td><td style=\"text-align: right;\">0.0953983  </td><td style=\"text-align: right;\">     8.17139</td><td style=\"text-align: right;\">  18.1304 </td><td style=\"text-align: right;\">     1</td><td style=\"text-align: right;\">       10.9962  </td><td style=\"text-align: right;\">     0.536903  </td></tr>\n",
       "<tr><td>train_mcdo_e0ae3293</td><td>TERMINATED</td><td>10.2.219.10:3491140</td><td style=\"text-align: right;\">    19.034  </td><td style=\"text-align: right;\">  0.104697</td><td style=\"text-align: right;\">    142.106  </td><td style=\"text-align: right;\">0.0720472  </td><td style=\"text-align: right;\">     6.91573</td><td style=\"text-align: right;\">  21.654  </td><td style=\"text-align: right;\">     1</td><td style=\"text-align: right;\">        4.65898 </td><td style=\"text-align: right;\">     0.533006  </td></tr>\n",
       "<tr><td>train_mcdo_95093f42</td><td>TERMINATED</td><td>10.2.219.10:3490943</td><td style=\"text-align: right;\">     7.26787</td><td style=\"text-align: right;\">  0.366064</td><td style=\"text-align: right;\">    148.683  </td><td style=\"text-align: right;\">0.0676729  </td><td style=\"text-align: right;\">     3.03593</td><td style=\"text-align: right;\">  45.6255 </td><td style=\"text-align: right;\">     1</td><td style=\"text-align: right;\">       15.0067  </td><td style=\"text-align: right;\">     0.528308  </td></tr>\n",
       "<tr><td>train_mcdo_46bc98af</td><td>TERMINATED</td><td>10.2.219.10:3503988</td><td style=\"text-align: right;\">    13.0526 </td><td style=\"text-align: right;\">  0.303306</td><td style=\"text-align: right;\">     27.6226 </td><td style=\"text-align: right;\">0.0678245  </td><td style=\"text-align: right;\">     5.9938 </td><td style=\"text-align: right;\">  44.3706 </td><td style=\"text-align: right;\">     1</td><td style=\"text-align: right;\">       14.4894  </td><td style=\"text-align: right;\">     0.525644  </td></tr>\n",
       "<tr><td>train_mcdo_01c6ce46</td><td>TERMINATED</td><td>10.2.219.10:3491040</td><td style=\"text-align: right;\">     8.22304</td><td style=\"text-align: right;\">  0.135162</td><td style=\"text-align: right;\">     92.0306 </td><td style=\"text-align: right;\">0.0947344  </td><td style=\"text-align: right;\">     8.53719</td><td style=\"text-align: right;\">  10.0525 </td><td style=\"text-align: right;\">     1</td><td style=\"text-align: right;\">       16.0193  </td><td style=\"text-align: right;\">     0.542278  </td></tr>\n",
       "<tr><td>train_mcdo_e24d6c6a</td><td>TERMINATED</td><td>10.2.219.10:3491140</td><td style=\"text-align: right;\">     6.59895</td><td style=\"text-align: right;\">  0.271814</td><td style=\"text-align: right;\">    149.9    </td><td style=\"text-align: right;\">0.01736    </td><td style=\"text-align: right;\">     4.92221</td><td style=\"text-align: right;\">  34.2542 </td><td style=\"text-align: right;\">     1</td><td style=\"text-align: right;\">       28.6811  </td><td style=\"text-align: right;\">     0.527188  </td></tr>\n",
       "<tr><td>train_mcdo_7480c9e8</td><td>TERMINATED</td><td>10.2.219.10:3490574</td><td style=\"text-align: right;\">    17.1937 </td><td style=\"text-align: right;\">  0.253033</td><td style=\"text-align: right;\">    192.778  </td><td style=\"text-align: right;\">0.0333811  </td><td style=\"text-align: right;\">     6.09808</td><td style=\"text-align: right;\">  37.1495 </td><td style=\"text-align: right;\">     1</td><td style=\"text-align: right;\">       17.7637  </td><td style=\"text-align: right;\">     0.534864  </td></tr>\n",
       "<tr><td>train_mcdo_60f6418c</td><td>TERMINATED</td><td>10.2.219.10:3504447</td><td style=\"text-align: right;\">     6.80291</td><td style=\"text-align: right;\">  0.437152</td><td style=\"text-align: right;\">     92.6718 </td><td style=\"text-align: right;\">0.0273997  </td><td style=\"text-align: right;\">     9.2153 </td><td style=\"text-align: right;\">  16.5557 </td><td style=\"text-align: right;\">     1</td><td style=\"text-align: right;\">       13.7275  </td><td style=\"text-align: right;\">     0.531447  </td></tr>\n",
       "<tr><td>train_mcdo_34b9ad5b</td><td>TERMINATED</td><td>10.2.219.10:3490794</td><td style=\"text-align: right;\">     7.99402</td><td style=\"text-align: right;\">  0.133217</td><td style=\"text-align: right;\">     37.3325 </td><td style=\"text-align: right;\">0.00741952 </td><td style=\"text-align: right;\">     3.7776 </td><td style=\"text-align: right;\">  33.2217 </td><td style=\"text-align: right;\">     1</td><td style=\"text-align: right;\">       14.7674  </td><td style=\"text-align: right;\">     0.520173  </td></tr>\n",
       "<tr><td>train_mcdo_6500706d</td><td>TERMINATED</td><td>10.2.219.10:3493238</td><td style=\"text-align: right;\">    15.2727 </td><td style=\"text-align: right;\">  0.1685  </td><td style=\"text-align: right;\">    117.819  </td><td style=\"text-align: right;\">0.00779687 </td><td style=\"text-align: right;\">     9.24412</td><td style=\"text-align: right;\">  38.6703 </td><td style=\"text-align: right;\">     1</td><td style=\"text-align: right;\">       31.7612  </td><td style=\"text-align: right;\">     0.524497  </td></tr>\n",
       "<tr><td>train_mcdo_7d95d63e</td><td>TERMINATED</td><td>10.2.219.10:3490633</td><td style=\"text-align: right;\">     1.29575</td><td style=\"text-align: right;\">  0.110408</td><td style=\"text-align: right;\">    179.712  </td><td style=\"text-align: right;\">0.0740828  </td><td style=\"text-align: right;\">     9.81231</td><td style=\"text-align: right;\">  40.713  </td><td style=\"text-align: right;\">     1</td><td style=\"text-align: right;\">      360.878   </td><td style=\"text-align: right;\">     0.538907  </td></tr>\n",
       "<tr><td>train_mcdo_c905fa3b</td><td>TERMINATED</td><td>10.2.219.10:3490943</td><td style=\"text-align: right;\">     1.84355</td><td style=\"text-align: right;\">  0.267242</td><td style=\"text-align: right;\">    170.057  </td><td style=\"text-align: right;\">0.0218942  </td><td style=\"text-align: right;\">     9.83731</td><td style=\"text-align: right;\">  31.2785 </td><td style=\"text-align: right;\">     1</td><td style=\"text-align: right;\">      323.93    </td><td style=\"text-align: right;\">     0.538909  </td></tr>\n",
       "<tr><td>train_mcdo_5110357d</td><td>TERMINATED</td><td>10.2.219.10:3503988</td><td style=\"text-align: right;\">    11.7655 </td><td style=\"text-align: right;\">  0.485638</td><td style=\"text-align: right;\">     66.7624 </td><td style=\"text-align: right;\">0.0622568  </td><td style=\"text-align: right;\">     5.45571</td><td style=\"text-align: right;\">  48.5332 </td><td style=\"text-align: right;\">     1</td><td style=\"text-align: right;\">       12.9704  </td><td style=\"text-align: right;\">     0.523166  </td></tr>\n",
       "<tr><td>train_mcdo_0aef2aa4</td><td>TERMINATED</td><td>10.2.219.10:3491040</td><td style=\"text-align: right;\">    10.8374 </td><td style=\"text-align: right;\">  0.169712</td><td style=\"text-align: right;\">     34.2296 </td><td style=\"text-align: right;\">0.023445   </td><td style=\"text-align: right;\">     6.83702</td><td style=\"text-align: right;\">  41.3919 </td><td style=\"text-align: right;\">     1</td><td style=\"text-align: right;\">       10.973   </td><td style=\"text-align: right;\">     0.538918  </td></tr>\n",
       "<tr><td>train_mcdo_1fb3eddc</td><td>TERMINATED</td><td>10.2.219.10:3504447</td><td style=\"text-align: right;\">     7.602  </td><td style=\"text-align: right;\">  0.436912</td><td style=\"text-align: right;\">    175.812  </td><td style=\"text-align: right;\">0.0628605  </td><td style=\"text-align: right;\">     8.41123</td><td style=\"text-align: right;\">  19.0881 </td><td style=\"text-align: right;\">     1</td><td style=\"text-align: right;\">       46.8149  </td><td style=\"text-align: right;\">     0.537384  </td></tr>\n",
       "<tr><td>train_mcdo_829138eb</td><td>TERMINATED</td><td>10.2.219.10:3490574</td><td style=\"text-align: right;\">     2.73299</td><td style=\"text-align: right;\">  0.208381</td><td style=\"text-align: right;\">    106.612  </td><td style=\"text-align: right;\">0.0491486  </td><td style=\"text-align: right;\">     7.84409</td><td style=\"text-align: right;\">  23.2836 </td><td style=\"text-align: right;\">     1</td><td style=\"text-align: right;\">       53.8555  </td><td style=\"text-align: right;\">     0.538907  </td></tr>\n",
       "<tr><td>train_mcdo_24b6c4aa</td><td>TERMINATED</td><td>10.2.219.10:3490794</td><td style=\"text-align: right;\">     6.77416</td><td style=\"text-align: right;\">  0.454056</td><td style=\"text-align: right;\">    133.376  </td><td style=\"text-align: right;\">0.0305474  </td><td style=\"text-align: right;\">     9.33121</td><td style=\"text-align: right;\">  42.3244 </td><td style=\"text-align: right;\">     1</td><td style=\"text-align: right;\">       81.5077  </td><td style=\"text-align: right;\">     0.530678  </td></tr>\n",
       "<tr><td>train_mcdo_89e51dea</td><td>TERMINATED</td><td>10.2.219.10:3503988</td><td style=\"text-align: right;\">     3.136  </td><td style=\"text-align: right;\">  0.143644</td><td style=\"text-align: right;\">     81.3704 </td><td style=\"text-align: right;\">0.0415688  </td><td style=\"text-align: right;\">     4.13112</td><td style=\"text-align: right;\">  33.5763 </td><td style=\"text-align: right;\">     1</td><td style=\"text-align: right;\">       21.6685  </td><td style=\"text-align: right;\">     0.530995  </td></tr>\n",
       "<tr><td>train_mcdo_abb19048</td><td>TERMINATED</td><td>10.2.219.10:3491040</td><td style=\"text-align: right;\">     7.68357</td><td style=\"text-align: right;\">  0.416673</td><td style=\"text-align: right;\">    174.015  </td><td style=\"text-align: right;\">0.0846742  </td><td style=\"text-align: right;\">     9.07463</td><td style=\"text-align: right;\">  30.7137 </td><td style=\"text-align: right;\">     1</td><td style=\"text-align: right;\">       42.1532  </td><td style=\"text-align: right;\">     0.541073  </td></tr>\n",
       "<tr><td>train_mcdo_29306368</td><td>TERMINATED</td><td>10.2.219.10:3491140</td><td style=\"text-align: right;\">     8.54967</td><td style=\"text-align: right;\">  0.486217</td><td style=\"text-align: right;\">     74.4564 </td><td style=\"text-align: right;\">0.0276979  </td><td style=\"text-align: right;\">     5.48398</td><td style=\"text-align: right;\">  47.785  </td><td style=\"text-align: right;\">     1</td><td style=\"text-align: right;\">       14.9872  </td><td style=\"text-align: right;\">     0.538322  </td></tr>\n",
       "<tr><td>train_mcdo_e6d1baa3</td><td>TERMINATED</td><td>10.2.219.10:3506596</td><td style=\"text-align: right;\">    13.4891 </td><td style=\"text-align: right;\">  0.231426</td><td style=\"text-align: right;\">     42.3436 </td><td style=\"text-align: right;\">0.0404536  </td><td style=\"text-align: right;\">     3.81559</td><td style=\"text-align: right;\">  48.8712 </td><td style=\"text-align: right;\">     1</td><td style=\"text-align: right;\">       11.7638  </td><td style=\"text-align: right;\">     0.525508  </td></tr>\n",
       "<tr><td>train_mcdo_7ec7de11</td><td>TERMINATED</td><td>10.2.219.10:3491082</td><td style=\"text-align: right;\">     8.29648</td><td style=\"text-align: right;\">  0.127807</td><td style=\"text-align: right;\">    165.052  </td><td style=\"text-align: right;\">0.00634443 </td><td style=\"text-align: right;\">     6.1827 </td><td style=\"text-align: right;\">  10.0562 </td><td style=\"text-align: right;\">     1</td><td style=\"text-align: right;\">       12.6874  </td><td style=\"text-align: right;\">     0.527194  </td></tr>\n",
       "<tr><td>train_mcdo_359d47f6</td><td>TERMINATED</td><td>10.2.219.10:3493238</td><td style=\"text-align: right;\">     3.23386</td><td style=\"text-align: right;\">  0.468713</td><td style=\"text-align: right;\">     99.1576 </td><td style=\"text-align: right;\">0.0387822  </td><td style=\"text-align: right;\">     7.74532</td><td style=\"text-align: right;\">   8.18623</td><td style=\"text-align: right;\">     1</td><td style=\"text-align: right;\">       27.866   </td><td style=\"text-align: right;\">     0.539122  </td></tr>\n",
       "<tr><td>train_mcdo_13938651</td><td>TERMINATED</td><td>10.2.219.10:3502289</td><td style=\"text-align: right;\">     4.55803</td><td style=\"text-align: right;\">  0.399668</td><td style=\"text-align: right;\">    109.226  </td><td style=\"text-align: right;\">0.0872493  </td><td style=\"text-align: right;\">     8.78996</td><td style=\"text-align: right;\">  26.9587 </td><td style=\"text-align: right;\">     1</td><td style=\"text-align: right;\">       35.8553  </td><td style=\"text-align: right;\">     0.539191  </td></tr>\n",
       "<tr><td>train_mcdo_9e774b62</td><td>TERMINATED</td><td>10.2.219.10:3491140</td><td style=\"text-align: right;\">    14.4013 </td><td style=\"text-align: right;\">  0.252677</td><td style=\"text-align: right;\">     63.7473 </td><td style=\"text-align: right;\">0.0497118  </td><td style=\"text-align: right;\">     3.69341</td><td style=\"text-align: right;\">  28.4445 </td><td style=\"text-align: right;\">     1</td><td style=\"text-align: right;\">        9.29898 </td><td style=\"text-align: right;\">     0.519852  </td></tr>\n",
       "<tr><td>train_mcdo_f4a95173</td><td>TERMINATED</td><td>10.2.219.10:3506596</td><td style=\"text-align: right;\">     8.91524</td><td style=\"text-align: right;\">  0.315315</td><td style=\"text-align: right;\">    122.004  </td><td style=\"text-align: right;\">0.0321565  </td><td style=\"text-align: right;\">     4.86135</td><td style=\"text-align: right;\">  33.5353 </td><td style=\"text-align: right;\">     1</td><td style=\"text-align: right;\">       13.4229  </td><td style=\"text-align: right;\">     0.537542  </td></tr>\n",
       "<tr><td>train_mcdo_c4ecc603</td><td>TERMINATED</td><td>10.2.219.10:3503988</td><td style=\"text-align: right;\">     2.1629 </td><td style=\"text-align: right;\">  0.293183</td><td style=\"text-align: right;\">    135.629  </td><td style=\"text-align: right;\">0.0377025  </td><td style=\"text-align: right;\">     9.96555</td><td style=\"text-align: right;\">  16.7427 </td><td style=\"text-align: right;\">     1</td><td style=\"text-align: right;\">       50.1534  </td><td style=\"text-align: right;\">     0.539302  </td></tr>\n",
       "<tr><td>train_mcdo_92ab2546</td><td>TERMINATED</td><td>10.2.219.10:3491082</td><td style=\"text-align: right;\">    16.0335 </td><td style=\"text-align: right;\">  0.121397</td><td style=\"text-align: right;\">    158.176  </td><td style=\"text-align: right;\">0.0491991  </td><td style=\"text-align: right;\">     6.40056</td><td style=\"text-align: right;\">   4.34112</td><td style=\"text-align: right;\">     1</td><td style=\"text-align: right;\">        3.62661 </td><td style=\"text-align: right;\">     0.533276  </td></tr>\n",
       "<tr><td>train_mcdo_b7820864</td><td>TERMINATED</td><td>10.2.219.10:3491140</td><td style=\"text-align: right;\">     5.38847</td><td style=\"text-align: right;\">  0.183632</td><td style=\"text-align: right;\">    104.285  </td><td style=\"text-align: right;\">0.048881   </td><td style=\"text-align: right;\">     7.74397</td><td style=\"text-align: right;\">  22.7713 </td><td style=\"text-align: right;\">     1</td><td style=\"text-align: right;\">       55.6436  </td><td style=\"text-align: right;\">     0.538909  </td></tr>\n",
       "<tr><td>train_mcdo_85e9bf67</td><td>TERMINATED</td><td>10.2.219.10:3491082</td><td style=\"text-align: right;\">    19.5544 </td><td style=\"text-align: right;\">  0.481688</td><td style=\"text-align: right;\">     43.6946 </td><td style=\"text-align: right;\">0.0170503  </td><td style=\"text-align: right;\">     5.2616 </td><td style=\"text-align: right;\">  17.7673 </td><td style=\"text-align: right;\">     1</td><td style=\"text-align: right;\">        2.43601 </td><td style=\"text-align: right;\">     0.52983   </td></tr>\n",
       "<tr><td>train_mcdo_735added</td><td>TERMINATED</td><td>10.2.219.10:3491082</td><td style=\"text-align: right;\">    18.7953 </td><td style=\"text-align: right;\">  0.499821</td><td style=\"text-align: right;\">    109.083  </td><td style=\"text-align: right;\">0.0371274  </td><td style=\"text-align: right;\">     3.15518</td><td style=\"text-align: right;\">  13.6358 </td><td style=\"text-align: right;\">     1</td><td style=\"text-align: right;\">        3.26843 </td><td style=\"text-align: right;\">     0.506051  </td></tr>\n",
       "<tr><td>train_mcdo_4cfd8ff3</td><td>TERMINATED</td><td>10.2.219.10:3506596</td><td style=\"text-align: right;\">     2.11774</td><td style=\"text-align: right;\">  0.394283</td><td style=\"text-align: right;\">     38.1637 </td><td style=\"text-align: right;\">0.0494408  </td><td style=\"text-align: right;\">     4.80124</td><td style=\"text-align: right;\">  43.0812 </td><td style=\"text-align: right;\">     1</td><td style=\"text-align: right;\">       34.2043  </td><td style=\"text-align: right;\">     0.528615  </td></tr>\n",
       "<tr><td>train_mcdo_8cd84511</td><td>TERMINATED</td><td>10.2.219.10:3491082</td><td style=\"text-align: right;\">     4.06554</td><td style=\"text-align: right;\">  0.308344</td><td style=\"text-align: right;\">     58.5199 </td><td style=\"text-align: right;\">0.0156535  </td><td style=\"text-align: right;\">     4.39973</td><td style=\"text-align: right;\">  28.9046 </td><td style=\"text-align: right;\">     1</td><td style=\"text-align: right;\">       15.5422  </td><td style=\"text-align: right;\">     0.508027  </td></tr>\n",
       "<tr><td>train_mcdo_741705d0</td><td>TERMINATED</td><td>10.2.219.10:3493694</td><td style=\"text-align: right;\">    16.8996 </td><td style=\"text-align: right;\">  0.302663</td><td style=\"text-align: right;\">    111.715  </td><td style=\"text-align: right;\">0.0969416  </td><td style=\"text-align: right;\">     6.92324</td><td style=\"text-align: right;\">  45.7017 </td><td style=\"text-align: right;\">     1</td><td style=\"text-align: right;\">       22.3737  </td><td style=\"text-align: right;\">     0.531605  </td></tr>\n",
       "<tr><td>train_mcdo_76770dc0</td><td>TERMINATED</td><td>10.2.219.10:3504447</td><td style=\"text-align: right;\">    19.3704 </td><td style=\"text-align: right;\">  0.421409</td><td style=\"text-align: right;\">     67.9948 </td><td style=\"text-align: right;\">0.0181095  </td><td style=\"text-align: right;\">     6.31916</td><td style=\"text-align: right;\">  49.26   </td><td style=\"text-align: right;\">     1</td><td style=\"text-align: right;\">       17.397   </td><td style=\"text-align: right;\">     0.529758  </td></tr>\n",
       "<tr><td>train_mcdo_b573ee69</td><td>TERMINATED</td><td>10.2.219.10:3493238</td><td style=\"text-align: right;\">    13.0184 </td><td style=\"text-align: right;\">  0.46996 </td><td style=\"text-align: right;\">     99.4694 </td><td style=\"text-align: right;\">0.0416276  </td><td style=\"text-align: right;\">     5.14744</td><td style=\"text-align: right;\">  18.1068 </td><td style=\"text-align: right;\">     1</td><td style=\"text-align: right;\">        2.71941 </td><td style=\"text-align: right;\">     0.533359  </td></tr>\n",
       "<tr><td>train_mcdo_20f88634</td><td>TERMINATED</td><td>10.2.219.10:3491040</td><td style=\"text-align: right;\">    16.4321 </td><td style=\"text-align: right;\">  0.144865</td><td style=\"text-align: right;\">     83.7238 </td><td style=\"text-align: right;\">0.0440903  </td><td style=\"text-align: right;\">     6.05045</td><td style=\"text-align: right;\">  49.9289 </td><td style=\"text-align: right;\">     1</td><td style=\"text-align: right;\">       11.1365  </td><td style=\"text-align: right;\">     0.533293  </td></tr>\n",
       "<tr><td>train_mcdo_16d294d9</td><td>TERMINATED</td><td>10.2.219.10:3493238</td><td style=\"text-align: right;\">     4.20886</td><td style=\"text-align: right;\">  0.198086</td><td style=\"text-align: right;\">    113.693  </td><td style=\"text-align: right;\">0.00357793 </td><td style=\"text-align: right;\">     7.56943</td><td style=\"text-align: right;\">  24.7422 </td><td style=\"text-align: right;\">     1</td><td style=\"text-align: right;\">       44.2932  </td><td style=\"text-align: right;\">     0.48315   </td></tr>\n",
       "<tr><td>train_mcdo_b9846f33</td><td>TERMINATED</td><td>10.2.219.10:3490574</td><td style=\"text-align: right;\">    15.316  </td><td style=\"text-align: right;\">  0.190578</td><td style=\"text-align: right;\">     50.8256 </td><td style=\"text-align: right;\">0.0872093  </td><td style=\"text-align: right;\">     9.39119</td><td style=\"text-align: right;\">  45.5024 </td><td style=\"text-align: right;\">     1</td><td style=\"text-align: right;\">       16.3253  </td><td style=\"text-align: right;\">     0.52438   </td></tr>\n",
       "<tr><td>train_mcdo_91e84ac3</td><td>TERMINATED</td><td>10.2.219.10:3491082</td><td style=\"text-align: right;\">     6.57236</td><td style=\"text-align: right;\">  0.32117 </td><td style=\"text-align: right;\">     80.7279 </td><td style=\"text-align: right;\">0.0393715  </td><td style=\"text-align: right;\">     7.11747</td><td style=\"text-align: right;\">  27.5968 </td><td style=\"text-align: right;\">     1</td><td style=\"text-align: right;\">       52.8378  </td><td style=\"text-align: right;\">     0.531338  </td></tr>\n",
       "<tr><td>train_mcdo_2aa90d8b</td><td>TERMINATED</td><td>10.2.219.10:3502289</td><td style=\"text-align: right;\">    11.4934 </td><td style=\"text-align: right;\">  0.364052</td><td style=\"text-align: right;\">     51.2032 </td><td style=\"text-align: right;\">0.0514845  </td><td style=\"text-align: right;\">     7.5658 </td><td style=\"text-align: right;\">   1.07052</td><td style=\"text-align: right;\">     1</td><td style=\"text-align: right;\">        1.61527 </td><td style=\"text-align: right;\">     0.527106  </td></tr>\n",
       "<tr><td>train_mcdo_08f5f7a2</td><td>TERMINATED</td><td>10.2.219.10:3491040</td><td style=\"text-align: right;\">     9.4648 </td><td style=\"text-align: right;\">  0.164972</td><td style=\"text-align: right;\">    157.619  </td><td style=\"text-align: right;\">0.0792978  </td><td style=\"text-align: right;\">     6.37103</td><td style=\"text-align: right;\">  38.0596 </td><td style=\"text-align: right;\">     1</td><td style=\"text-align: right;\">       31.7668  </td><td style=\"text-align: right;\">     0.522835  </td></tr>\n",
       "<tr><td>train_mcdo_34365835</td><td>TERMINATED</td><td>10.2.219.10:3502289</td><td style=\"text-align: right;\">     9.08774</td><td style=\"text-align: right;\">  0.251117</td><td style=\"text-align: right;\">    148.454  </td><td style=\"text-align: right;\">0.00107726 </td><td style=\"text-align: right;\">     9.2907 </td><td style=\"text-align: right;\">  42.7349 </td><td style=\"text-align: right;\">     1</td><td style=\"text-align: right;\">       25.9527  </td><td style=\"text-align: right;\">     0.521169  </td></tr>\n",
       "<tr><td>train_mcdo_4e9cb353</td><td>TERMINATED</td><td>10.2.219.10:3504447</td><td style=\"text-align: right;\">     9.53222</td><td style=\"text-align: right;\">  0.451421</td><td style=\"text-align: right;\">    168.125  </td><td style=\"text-align: right;\">0.0778094  </td><td style=\"text-align: right;\">     7.96328</td><td style=\"text-align: right;\">  30.1514 </td><td style=\"text-align: right;\">     1</td><td style=\"text-align: right;\">       28.227   </td><td style=\"text-align: right;\">     0.53974   </td></tr>\n",
       "<tr><td>train_mcdo_5aa139b1</td><td>TERMINATED</td><td>10.2.219.10:3493694</td><td style=\"text-align: right;\">     6.32102</td><td style=\"text-align: right;\">  0.48305 </td><td style=\"text-align: right;\">     46.2455 </td><td style=\"text-align: right;\">0.0232924  </td><td style=\"text-align: right;\">     8.90769</td><td style=\"text-align: right;\">  32.2199 </td><td style=\"text-align: right;\">     1</td><td style=\"text-align: right;\">       31.8762  </td><td style=\"text-align: right;\">     0.529435  </td></tr>\n",
       "<tr><td>train_mcdo_551d3b25</td><td>TERMINATED</td><td>10.2.219.10:3490574</td><td style=\"text-align: right;\">     4.03144</td><td style=\"text-align: right;\">  0.40307 </td><td style=\"text-align: right;\">    132.953  </td><td style=\"text-align: right;\">0.0274769  </td><td style=\"text-align: right;\">     2.60781</td><td style=\"text-align: right;\">   6.95342</td><td style=\"text-align: right;\">     1</td><td style=\"text-align: right;\">        2.35331 </td><td style=\"text-align: right;\">     0.501942  </td></tr>\n",
       "<tr><td>train_mcdo_d3a75666</td><td>TERMINATED</td><td>10.2.219.10:3490574</td><td style=\"text-align: right;\">     2.36929</td><td style=\"text-align: right;\">  0.32913 </td><td style=\"text-align: right;\">    115.571  </td><td style=\"text-align: right;\">0.0316598  </td><td style=\"text-align: right;\">     8.9374 </td><td style=\"text-align: right;\">  18.7985 </td><td style=\"text-align: right;\">     1</td><td style=\"text-align: right;\">       44.5675  </td><td style=\"text-align: right;\">     0.538942  </td></tr>\n",
       "<tr><td>train_mcdo_883e358d</td><td>TERMINATED</td><td>10.2.219.10:3491615</td><td style=\"text-align: right;\">     2.7793 </td><td style=\"text-align: right;\">  0.131415</td><td style=\"text-align: right;\">     85.066  </td><td style=\"text-align: right;\">0.0274421  </td><td style=\"text-align: right;\">     6.44601</td><td style=\"text-align: right;\">  31.2852 </td><td style=\"text-align: right;\">     1</td><td style=\"text-align: right;\">       44.3853  </td><td style=\"text-align: right;\">     0.514717  </td></tr>\n",
       "<tr><td>train_mcdo_d0910ef7</td><td>TERMINATED</td><td>10.2.219.10:3506596</td><td style=\"text-align: right;\">    12.9081 </td><td style=\"text-align: right;\">  0.409693</td><td style=\"text-align: right;\">    130.513  </td><td style=\"text-align: right;\">0.0186475  </td><td style=\"text-align: right;\">     8.80682</td><td style=\"text-align: right;\">  24.6713 </td><td style=\"text-align: right;\">     1</td><td style=\"text-align: right;\">       11.0976  </td><td style=\"text-align: right;\">     0.536333  </td></tr>\n",
       "<tr><td>train_mcdo_382921cf</td><td>TERMINATED</td><td>10.2.219.10:3503988</td><td style=\"text-align: right;\">     3.99827</td><td style=\"text-align: right;\">  0.288832</td><td style=\"text-align: right;\">     37.593  </td><td style=\"text-align: right;\">0.0493527  </td><td style=\"text-align: right;\">     3.42427</td><td style=\"text-align: right;\">  14.7019 </td><td style=\"text-align: right;\">     1</td><td style=\"text-align: right;\">       10.4439  </td><td style=\"text-align: right;\">     0.537478  </td></tr>\n",
       "<tr><td>train_mcdo_9a64a100</td><td>TERMINATED</td><td>10.2.219.10:3491432</td><td style=\"text-align: right;\">    11.681  </td><td style=\"text-align: right;\">  0.448516</td><td style=\"text-align: right;\">     60.596  </td><td style=\"text-align: right;\">0.0455705  </td><td style=\"text-align: right;\">     7.70982</td><td style=\"text-align: right;\">   6.30077</td><td style=\"text-align: right;\">     1</td><td style=\"text-align: right;\">        1.65109 </td><td style=\"text-align: right;\">     0.533222  </td></tr>\n",
       "<tr><td>train_mcdo_387572ee</td><td>TERMINATED</td><td>10.2.219.10:3491432</td><td style=\"text-align: right;\">     4.8831 </td><td style=\"text-align: right;\">  0.214981</td><td style=\"text-align: right;\">     13.6545 </td><td style=\"text-align: right;\">0.000283239</td><td style=\"text-align: right;\">     5.6937 </td><td style=\"text-align: right;\">  17.8157 </td><td style=\"text-align: right;\">     1</td><td style=\"text-align: right;\">       31.4368  </td><td style=\"text-align: right;\">     0.504281  </td></tr>\n",
       "<tr><td>train_mcdo_4862edc8</td><td>TERMINATED</td><td>10.2.219.10:3490794</td><td style=\"text-align: right;\">    16.8173 </td><td style=\"text-align: right;\">  0.224485</td><td style=\"text-align: right;\">    190.564  </td><td style=\"text-align: right;\">0.0797915  </td><td style=\"text-align: right;\">     6.31249</td><td style=\"text-align: right;\">  24.4161 </td><td style=\"text-align: right;\">     1</td><td style=\"text-align: right;\">       39.6632  </td><td style=\"text-align: right;\">     0.529747  </td></tr>\n",
       "<tr><td>train_mcdo_ee2331e6</td><td>TERMINATED</td><td>10.2.219.10:3506596</td><td style=\"text-align: right;\">    17.3679 </td><td style=\"text-align: right;\">  0.373012</td><td style=\"text-align: right;\">    174.1    </td><td style=\"text-align: right;\">0.00246391 </td><td style=\"text-align: right;\">     8.28958</td><td style=\"text-align: right;\">  39.506  </td><td style=\"text-align: right;\">     1</td><td style=\"text-align: right;\">       20.975   </td><td style=\"text-align: right;\">     0.537643  </td></tr>\n",
       "<tr><td>train_mcdo_073cf14a</td><td>TERMINATED</td><td>10.2.219.10:3502289</td><td style=\"text-align: right;\">     9.84987</td><td style=\"text-align: right;\">  0.383376</td><td style=\"text-align: right;\">     70.5384 </td><td style=\"text-align: right;\">0.0498727  </td><td style=\"text-align: right;\">     7.58222</td><td style=\"text-align: right;\">  48.0681 </td><td style=\"text-align: right;\">     1</td><td style=\"text-align: right;\">       26.2637  </td><td style=\"text-align: right;\">     0.521394  </td></tr>\n",
       "<tr><td>train_mcdo_7c186fb2</td><td>TERMINATED</td><td>10.2.219.10:3491140</td><td style=\"text-align: right;\">    14.2228 </td><td style=\"text-align: right;\">  0.165939</td><td style=\"text-align: right;\">      9.40018</td><td style=\"text-align: right;\">0.0445005  </td><td style=\"text-align: right;\">     3.39216</td><td style=\"text-align: right;\">  37.2997 </td><td style=\"text-align: right;\">     1</td><td style=\"text-align: right;\">       12.1636  </td><td style=\"text-align: right;\">     0.518799  </td></tr>\n",
       "<tr><td>train_mcdo_9ef7e1da</td><td>TERMINATED</td><td>10.2.219.10:3504447</td><td style=\"text-align: right;\">     3.20764</td><td style=\"text-align: right;\">  0.290924</td><td style=\"text-align: right;\">     88.1154 </td><td style=\"text-align: right;\">0.0692854  </td><td style=\"text-align: right;\">     2.11202</td><td style=\"text-align: right;\">  10.7776 </td><td style=\"text-align: right;\">     1</td><td style=\"text-align: right;\">        7.45938 </td><td style=\"text-align: right;\">     0.478376  </td></tr>\n",
       "<tr><td>train_mcdo_de1bd3a3</td><td>TERMINATED</td><td>10.2.219.10:3491040</td><td style=\"text-align: right;\">     2.69832</td><td style=\"text-align: right;\">  0.349245</td><td style=\"text-align: right;\">    197.641  </td><td style=\"text-align: right;\">0.0403009  </td><td style=\"text-align: right;\">     2.62079</td><td style=\"text-align: right;\">  34.9686 </td><td style=\"text-align: right;\">     1</td><td style=\"text-align: right;\">       24.2777  </td><td style=\"text-align: right;\">     0.401724  </td></tr>\n",
       "<tr><td>train_mcdo_5aedbf1b</td><td>TERMINATED</td><td>10.2.219.10:3493238</td><td style=\"text-align: right;\">    12.9165 </td><td style=\"text-align: right;\">  0.495775</td><td style=\"text-align: right;\">     60.8353 </td><td style=\"text-align: right;\">0.0568021  </td><td style=\"text-align: right;\">     8.52425</td><td style=\"text-align: right;\">  47.0217 </td><td style=\"text-align: right;\">     1</td><td style=\"text-align: right;\">       15.2903  </td><td style=\"text-align: right;\">     0.537143  </td></tr>\n",
       "<tr><td>train_mcdo_1a745c2e</td><td>TERMINATED</td><td>10.2.219.10:3493694</td><td style=\"text-align: right;\">     5.66252</td><td style=\"text-align: right;\">  0.117737</td><td style=\"text-align: right;\">    136.138  </td><td style=\"text-align: right;\">0.0797133  </td><td style=\"text-align: right;\">     2.16164</td><td style=\"text-align: right;\">  12.0646 </td><td style=\"text-align: right;\">     1</td><td style=\"text-align: right;\">        3.64505 </td><td style=\"text-align: right;\">     0.520487  </td></tr>\n",
       "<tr><td>train_mcdo_db5e8071</td><td>TERMINATED</td><td>10.2.219.10:3504447</td><td style=\"text-align: right;\">    10.0389 </td><td style=\"text-align: right;\">  0.313398</td><td style=\"text-align: right;\">    148.459  </td><td style=\"text-align: right;\">0.0933729  </td><td style=\"text-align: right;\">     5.98032</td><td style=\"text-align: right;\">  19.5084 </td><td style=\"text-align: right;\">     1</td><td style=\"text-align: right;\">        6.34429 </td><td style=\"text-align: right;\">     0.540018  </td></tr>\n",
       "<tr><td>train_mcdo_078fbd06</td><td>TERMINATED</td><td>10.2.219.10:3491140</td><td style=\"text-align: right;\">    10.1704 </td><td style=\"text-align: right;\">  0.255163</td><td style=\"text-align: right;\">     38.1273 </td><td style=\"text-align: right;\">0.0446559  </td><td style=\"text-align: right;\">     8.95115</td><td style=\"text-align: right;\">  30.2258 </td><td style=\"text-align: right;\">     1</td><td style=\"text-align: right;\">       15.0461  </td><td style=\"text-align: right;\">     0.538908  </td></tr>\n",
       "<tr><td>train_mcdo_18946c7e</td><td>TERMINATED</td><td>10.2.219.10:3493694</td><td style=\"text-align: right;\">    13.1565 </td><td style=\"text-align: right;\">  0.32198 </td><td style=\"text-align: right;\">    148.029  </td><td style=\"text-align: right;\">0.0830623  </td><td style=\"text-align: right;\">     5.67259</td><td style=\"text-align: right;\">  44.4219 </td><td style=\"text-align: right;\">     1</td><td style=\"text-align: right;\">       17.9836  </td><td style=\"text-align: right;\">     0.523971  </td></tr>\n",
       "<tr><td>train_mcdo_894f6c37</td><td>TERMINATED</td><td>10.2.219.10:3504447</td><td style=\"text-align: right;\">    14.4363 </td><td style=\"text-align: right;\">  0.129223</td><td style=\"text-align: right;\">    165.773  </td><td style=\"text-align: right;\">0.0459831  </td><td style=\"text-align: right;\">     3.5777 </td><td style=\"text-align: right;\">  22.4227 </td><td style=\"text-align: right;\">     1</td><td style=\"text-align: right;\">        4.84551 </td><td style=\"text-align: right;\">     0.530743  </td></tr>\n",
       "<tr><td>train_mcdo_650a6a38</td><td>TERMINATED</td><td>10.2.219.10:3506596</td><td style=\"text-align: right;\">     8.98335</td><td style=\"text-align: right;\">  0.493643</td><td style=\"text-align: right;\">     88.3178 </td><td style=\"text-align: right;\">0.00268171 </td><td style=\"text-align: right;\">     3.02929</td><td style=\"text-align: right;\">  13.0446 </td><td style=\"text-align: right;\">     1</td><td style=\"text-align: right;\">        7.75918 </td><td style=\"text-align: right;\">     0.53443   </td></tr>\n",
       "<tr><td>train_mcdo_f3f6002c</td><td>TERMINATED</td><td>10.2.219.10:3491082</td><td style=\"text-align: right;\">    11.374  </td><td style=\"text-align: right;\">  0.102924</td><td style=\"text-align: right;\">     56.5329 </td><td style=\"text-align: right;\">0.0577317  </td><td style=\"text-align: right;\">     5.47364</td><td style=\"text-align: right;\">   8.77223</td><td style=\"text-align: right;\">     1</td><td style=\"text-align: right;\">        4.1911  </td><td style=\"text-align: right;\">     0.523682  </td></tr>\n",
       "<tr><td>train_mcdo_998d5dd1</td><td>TERMINATED</td><td>10.2.219.10:3493238</td><td style=\"text-align: right;\">    15.6011 </td><td style=\"text-align: right;\">  0.109242</td><td style=\"text-align: right;\">    170.311  </td><td style=\"text-align: right;\">0.0490958  </td><td style=\"text-align: right;\">     3.76951</td><td style=\"text-align: right;\">  41.7963 </td><td style=\"text-align: right;\">     1</td><td style=\"text-align: right;\">        7.93119 </td><td style=\"text-align: right;\">     0.531788  </td></tr>\n",
       "<tr><td>train_mcdo_6f8757f0</td><td>TERMINATED</td><td>10.2.219.10:3504447</td><td style=\"text-align: right;\">    19.8974 </td><td style=\"text-align: right;\">  0.489859</td><td style=\"text-align: right;\">     22.6543 </td><td style=\"text-align: right;\">0.0749758  </td><td style=\"text-align: right;\">     4.15432</td><td style=\"text-align: right;\">  21.8651 </td><td style=\"text-align: right;\">     1</td><td style=\"text-align: right;\">        3.22452 </td><td style=\"text-align: right;\">     0.533609  </td></tr>\n",
       "<tr><td>train_mcdo_79587dd7</td><td>TERMINATED</td><td>10.2.219.10:3491432</td><td style=\"text-align: right;\">    11.0846 </td><td style=\"text-align: right;\">  0.473322</td><td style=\"text-align: right;\">    158.031  </td><td style=\"text-align: right;\">0.0268518  </td><td style=\"text-align: right;\">     6.13449</td><td style=\"text-align: right;\">  47.5301 </td><td style=\"text-align: right;\">     1</td><td style=\"text-align: right;\">       51.7824  </td><td style=\"text-align: right;\">     0.517553  </td></tr>\n",
       "<tr><td>train_mcdo_df289679</td><td>TERMINATED</td><td>10.2.219.10:3491615</td><td style=\"text-align: right;\">    11.6152 </td><td style=\"text-align: right;\">  0.136214</td><td style=\"text-align: right;\">    100.568  </td><td style=\"text-align: right;\">0.0688296  </td><td style=\"text-align: right;\">     7.79225</td><td style=\"text-align: right;\">  14.5688 </td><td style=\"text-align: right;\">     1</td><td style=\"text-align: right;\">       11.0803  </td><td style=\"text-align: right;\">     0.516108  </td></tr>\n",
       "<tr><td>train_mcdo_1fc3ac6b</td><td>TERMINATED</td><td>10.2.219.10:3491140</td><td style=\"text-align: right;\">    14.1044 </td><td style=\"text-align: right;\">  0.418268</td><td style=\"text-align: right;\">    113.061  </td><td style=\"text-align: right;\">0.0370981  </td><td style=\"text-align: right;\">     8.88819</td><td style=\"text-align: right;\">  18.1381 </td><td style=\"text-align: right;\">     1</td><td style=\"text-align: right;\">        5.75808 </td><td style=\"text-align: right;\">     0.522611  </td></tr>\n",
       "<tr><td>train_mcdo_aa33f6f8</td><td>TERMINATED</td><td>10.2.219.10:3490574</td><td style=\"text-align: right;\">     9.89389</td><td style=\"text-align: right;\">  0.183735</td><td style=\"text-align: right;\">    129.188  </td><td style=\"text-align: right;\">0.00401016 </td><td style=\"text-align: right;\">     4.0344 </td><td style=\"text-align: right;\">  29.8463 </td><td style=\"text-align: right;\">     1</td><td style=\"text-align: right;\">        8.47765 </td><td style=\"text-align: right;\">     0.513993  </td></tr>\n",
       "<tr><td>train_mcdo_b5bff474</td><td>TERMINATED</td><td>10.2.219.10:3491040</td><td style=\"text-align: right;\">     8.4275 </td><td style=\"text-align: right;\">  0.163766</td><td style=\"text-align: right;\">     99.9286 </td><td style=\"text-align: right;\">0.0271443  </td><td style=\"text-align: right;\">     5.63231</td><td style=\"text-align: right;\">  47.1239 </td><td style=\"text-align: right;\">     1</td><td style=\"text-align: right;\">       22.3607  </td><td style=\"text-align: right;\">     0.538907  </td></tr>\n",
       "<tr><td>train_mcdo_2b707f5f</td><td>TERMINATED</td><td>10.2.219.10:3493694</td><td style=\"text-align: right;\">    19.0411 </td><td style=\"text-align: right;\">  0.290884</td><td style=\"text-align: right;\">    145.396  </td><td style=\"text-align: right;\">0.0206126  </td><td style=\"text-align: right;\">     7.89577</td><td style=\"text-align: right;\">  19.7594 </td><td style=\"text-align: right;\">     1</td><td style=\"text-align: right;\">        8.2699  </td><td style=\"text-align: right;\">     0.529337  </td></tr>\n",
       "<tr><td>train_mcdo_198d352e</td><td>TERMINATED</td><td>10.2.219.10:3491140</td><td style=\"text-align: right;\">     6.23904</td><td style=\"text-align: right;\">  0.151487</td><td style=\"text-align: right;\">     74.7787 </td><td style=\"text-align: right;\">0.00792404 </td><td style=\"text-align: right;\">     6.1729 </td><td style=\"text-align: right;\">  18.7498 </td><td style=\"text-align: right;\">     1</td><td style=\"text-align: right;\">       21.5952  </td><td style=\"text-align: right;\">     0.519906  </td></tr>\n",
       "<tr><td>train_mcdo_ad5ec0d7</td><td>TERMINATED</td><td>10.2.219.10:3491615</td><td style=\"text-align: right;\">    15.0757 </td><td style=\"text-align: right;\">  0.16803 </td><td style=\"text-align: right;\">    115.642  </td><td style=\"text-align: right;\">0.0585153  </td><td style=\"text-align: right;\">     7.54334</td><td style=\"text-align: right;\">  12.5485 </td><td style=\"text-align: right;\">     1</td><td style=\"text-align: right;\">        5.3012  </td><td style=\"text-align: right;\">     0.53033   </td></tr>\n",
       "<tr><td>train_mcdo_7a239b49</td><td>TERMINATED</td><td>10.2.219.10:3490574</td><td style=\"text-align: right;\">     6.09593</td><td style=\"text-align: right;\">  0.366244</td><td style=\"text-align: right;\">    151.996  </td><td style=\"text-align: right;\">0.0217352  </td><td style=\"text-align: right;\">     7.97202</td><td style=\"text-align: right;\">  23.5718 </td><td style=\"text-align: right;\">     1</td><td style=\"text-align: right;\">       23.0803  </td><td style=\"text-align: right;\">     0.535442  </td></tr>\n",
       "<tr><td>train_mcdo_7960c903</td><td>TERMINATED</td><td>10.2.219.10:3493694</td><td style=\"text-align: right;\">    13.2353 </td><td style=\"text-align: right;\">  0.410395</td><td style=\"text-align: right;\">    149.204  </td><td style=\"text-align: right;\">0.000609613</td><td style=\"text-align: right;\">     4.64919</td><td style=\"text-align: right;\">   1.42704</td><td style=\"text-align: right;\">     1</td><td style=\"text-align: right;\">        1.08481 </td><td style=\"text-align: right;\">     0.538527  </td></tr>\n",
       "<tr><td>train_mcdo_6f9fdbd3</td><td>TERMINATED</td><td>10.2.219.10:3493694</td><td style=\"text-align: right;\">    11.4104 </td><td style=\"text-align: right;\">  0.211271</td><td style=\"text-align: right;\">    162.326  </td><td style=\"text-align: right;\">0.0581269  </td><td style=\"text-align: right;\">     6.06343</td><td style=\"text-align: right;\">   5.89796</td><td style=\"text-align: right;\">     1</td><td style=\"text-align: right;\">        3.35599 </td><td style=\"text-align: right;\">     0.535849  </td></tr>\n",
       "<tr><td>train_mcdo_b45634da</td><td>TERMINATED</td><td>10.2.219.10:3491615</td><td style=\"text-align: right;\">    12.6734 </td><td style=\"text-align: right;\">  0.111061</td><td style=\"text-align: right;\">     28.4023 </td><td style=\"text-align: right;\">0.0845263  </td><td style=\"text-align: right;\">     8.1179 </td><td style=\"text-align: right;\">   2.28138</td><td style=\"text-align: right;\">     1</td><td style=\"text-align: right;\">        1.87079 </td><td style=\"text-align: right;\">     0.534599  </td></tr>\n",
       "<tr><td>train_mcdo_5fd8c3b5</td><td>TERMINATED</td><td>10.2.219.10:3491615</td><td style=\"text-align: right;\">     6.76571</td><td style=\"text-align: right;\">  0.142178</td><td style=\"text-align: right;\">     77.7052 </td><td style=\"text-align: right;\">0.0472203  </td><td style=\"text-align: right;\">     8.07273</td><td style=\"text-align: right;\">  44.2377 </td><td style=\"text-align: right;\">     1</td><td style=\"text-align: right;\">       33.4269  </td><td style=\"text-align: right;\">     0.531386  </td></tr>\n",
       "<tr><td>train_mcdo_674df3af</td><td>TERMINATED</td><td>10.2.219.10:3493694</td><td style=\"text-align: right;\">     8.81146</td><td style=\"text-align: right;\">  0.435477</td><td style=\"text-align: right;\">    180.54   </td><td style=\"text-align: right;\">0.0722695  </td><td style=\"text-align: right;\">     2.8592 </td><td style=\"text-align: right;\">  13.1746 </td><td style=\"text-align: right;\">     1</td><td style=\"text-align: right;\">        2.90575 </td><td style=\"text-align: right;\">     0.527451  </td></tr>\n",
       "<tr><td>train_mcdo_32941b11</td><td>TERMINATED</td><td>10.2.219.10:3490249</td><td style=\"text-align: right;\">     3.06218</td><td style=\"text-align: right;\">  0.121768</td><td style=\"text-align: right;\">     60.0376 </td><td style=\"text-align: right;\">0.00310295 </td><td style=\"text-align: right;\">     8.17495</td><td style=\"text-align: right;\">  17.318  </td><td style=\"text-align: right;\">     1</td><td style=\"text-align: right;\">       32.4904  </td><td style=\"text-align: right;\">     0.444272  </td></tr>\n",
       "<tr><td>train_mcdo_98ad2a03</td><td>TERMINATED</td><td>10.2.219.10:3493694</td><td style=\"text-align: right;\">     5.16889</td><td style=\"text-align: right;\">  0.379546</td><td style=\"text-align: right;\">     17.6984 </td><td style=\"text-align: right;\">0.0644396  </td><td style=\"text-align: right;\">     8.36519</td><td style=\"text-align: right;\">  15.5235 </td><td style=\"text-align: right;\">     1</td><td style=\"text-align: right;\">       11.9653  </td><td style=\"text-align: right;\">     0.539204  </td></tr>\n",
       "<tr><td>train_mcdo_f96bcecf</td><td>TERMINATED</td><td>10.2.219.10:3491040</td><td style=\"text-align: right;\">    12.7312 </td><td style=\"text-align: right;\">  0.108044</td><td style=\"text-align: right;\">    149.028  </td><td style=\"text-align: right;\">0.069707   </td><td style=\"text-align: right;\">     4.88944</td><td style=\"text-align: right;\">  44.3758 </td><td style=\"text-align: right;\">     1</td><td style=\"text-align: right;\">       11.8733  </td><td style=\"text-align: right;\">     0.535453  </td></tr>\n",
       "<tr><td>train_mcdo_bf5e3f4f</td><td>TERMINATED</td><td>10.2.219.10:3491539</td><td style=\"text-align: right;\">    18.6249 </td><td style=\"text-align: right;\">  0.110976</td><td style=\"text-align: right;\">    173.809  </td><td style=\"text-align: right;\">0.0238976  </td><td style=\"text-align: right;\">     4.70271</td><td style=\"text-align: right;\">   3.58248</td><td style=\"text-align: right;\">     1</td><td style=\"text-align: right;\">        0.679858</td><td style=\"text-align: right;\">     0.526023  </td></tr>\n",
       "<tr><td>train_mcdo_b0df2d29</td><td>TERMINATED</td><td>10.2.219.10:3491140</td><td style=\"text-align: right;\">     7.44723</td><td style=\"text-align: right;\">  0.190905</td><td style=\"text-align: right;\">    158.595  </td><td style=\"text-align: right;\">0.0716599  </td><td style=\"text-align: right;\">     9.8187 </td><td style=\"text-align: right;\">   1.10474</td><td style=\"text-align: right;\">     1</td><td style=\"text-align: right;\">        2.89512 </td><td style=\"text-align: right;\">     0.626984  </td></tr>\n",
       "<tr><td>train_mcdo_f25e49fd</td><td>TERMINATED</td><td>10.2.219.10:3491539</td><td style=\"text-align: right;\">     9.67918</td><td style=\"text-align: right;\">  0.398995</td><td style=\"text-align: right;\">     25.3047 </td><td style=\"text-align: right;\">0.0184288  </td><td style=\"text-align: right;\">     3.19391</td><td style=\"text-align: right;\">  22.8984 </td><td style=\"text-align: right;\">     1</td><td style=\"text-align: right;\">        4.68969 </td><td style=\"text-align: right;\">     0.529071  </td></tr>\n",
       "<tr><td>train_mcdo_d14b12f4</td><td>TERMINATED</td><td>10.2.219.10:3491140</td><td style=\"text-align: right;\">    11.0807 </td><td style=\"text-align: right;\">  0.22164 </td><td style=\"text-align: right;\">    191.818  </td><td style=\"text-align: right;\">0.0819966  </td><td style=\"text-align: right;\">     4.04502</td><td style=\"text-align: right;\">   8.74663</td><td style=\"text-align: right;\">     1</td><td style=\"text-align: right;\">        7.37508 </td><td style=\"text-align: right;\">     0.519845  </td></tr>\n",
       "<tr><td>train_mcdo_a7e0108f</td><td>TERMINATED</td><td>10.2.219.10:3493694</td><td style=\"text-align: right;\">    17.7889 </td><td style=\"text-align: right;\">  0.452059</td><td style=\"text-align: right;\">    119.375  </td><td style=\"text-align: right;\">0.0610322  </td><td style=\"text-align: right;\">     8.3834 </td><td style=\"text-align: right;\">   7.35932</td><td style=\"text-align: right;\">     1</td><td style=\"text-align: right;\">        4.27726 </td><td style=\"text-align: right;\">     0.541923  </td></tr>\n",
       "<tr><td>train_mcdo_99d4415e</td><td>TERMINATED</td><td>10.2.219.10:3490574</td><td style=\"text-align: right;\">    13.6637 </td><td style=\"text-align: right;\">  0.413861</td><td style=\"text-align: right;\">     26.7041 </td><td style=\"text-align: right;\">0.0595825  </td><td style=\"text-align: right;\">     6.85206</td><td style=\"text-align: right;\">  38.5577 </td><td style=\"text-align: right;\">     1</td><td style=\"text-align: right;\">       11.5683  </td><td style=\"text-align: right;\">     0.527069  </td></tr>\n",
       "<tr><td>train_mcdo_48b6422a</td><td>TERMINATED</td><td>10.2.219.10:3491539</td><td style=\"text-align: right;\">    13.8097 </td><td style=\"text-align: right;\">  0.4023  </td><td style=\"text-align: right;\">     76.3065 </td><td style=\"text-align: right;\">0.0225997  </td><td style=\"text-align: right;\">     8.41466</td><td style=\"text-align: right;\">   9.74553</td><td style=\"text-align: right;\">     1</td><td style=\"text-align: right;\">        5.26469 </td><td style=\"text-align: right;\">     0.530829  </td></tr>\n",
       "<tr><td>train_mcdo_5e478b78</td><td>TERMINATED</td><td>10.2.219.10:3491040</td><td style=\"text-align: right;\">     1.0372 </td><td style=\"text-align: right;\">  0.328992</td><td style=\"text-align: right;\">    165.939  </td><td style=\"text-align: right;\">0.0209786  </td><td style=\"text-align: right;\">     3.79977</td><td style=\"text-align: right;\">  20.796  </td><td style=\"text-align: right;\">     1</td><td style=\"text-align: right;\">       61.3432  </td><td style=\"text-align: right;\">     0.0411436 </td></tr>\n",
       "<tr><td>train_mcdo_272618b1</td><td>TERMINATED</td><td>10.2.219.10:3493694</td><td style=\"text-align: right;\">    18.2785 </td><td style=\"text-align: right;\">  0.152272</td><td style=\"text-align: right;\">     82.4531 </td><td style=\"text-align: right;\">0.0965591  </td><td style=\"text-align: right;\">     7.50556</td><td style=\"text-align: right;\">  17.0451 </td><td style=\"text-align: right;\">     1</td><td style=\"text-align: right;\">        6.67144 </td><td style=\"text-align: right;\">     0.514555  </td></tr>\n",
       "<tr><td>train_mcdo_2669b3c5</td><td>TERMINATED</td><td>10.2.219.10:3491140</td><td style=\"text-align: right;\">     4.24073</td><td style=\"text-align: right;\">  0.101782</td><td style=\"text-align: right;\">     37.0308 </td><td style=\"text-align: right;\">0.0422979  </td><td style=\"text-align: right;\">     5.95081</td><td style=\"text-align: right;\">  21.9693 </td><td style=\"text-align: right;\">     1</td><td style=\"text-align: right;\">       11.0517  </td><td style=\"text-align: right;\">     0.538914  </td></tr>\n",
       "<tr><td>train_mcdo_a276a47f</td><td>TERMINATED</td><td>10.2.219.10:3491539</td><td style=\"text-align: right;\">     8.81859</td><td style=\"text-align: right;\">  0.405939</td><td style=\"text-align: right;\">     41.2797 </td><td style=\"text-align: right;\">0.0927216  </td><td style=\"text-align: right;\">     7.33956</td><td style=\"text-align: right;\">  47.4073 </td><td style=\"text-align: right;\">     1</td><td style=\"text-align: right;\">       16.2197  </td><td style=\"text-align: right;\">     0.538911  </td></tr>\n",
       "<tr><td>train_mcdo_677ea612</td><td>TERMINATED</td><td>10.2.219.10:3493694</td><td style=\"text-align: right;\">     7.51548</td><td style=\"text-align: right;\">  0.108828</td><td style=\"text-align: right;\">    126.353  </td><td style=\"text-align: right;\">0.0292833  </td><td style=\"text-align: right;\">     7.97985</td><td style=\"text-align: right;\">  10.2658 </td><td style=\"text-align: right;\">     1</td><td style=\"text-align: right;\">        7.72967 </td><td style=\"text-align: right;\">     0.539019  </td></tr>\n",
       "<tr><td>train_mcdo_b8648fdd</td><td>TERMINATED</td><td>10.2.219.10:3490574</td><td style=\"text-align: right;\">     2.70238</td><td style=\"text-align: right;\">  0.332431</td><td style=\"text-align: right;\">    188.703  </td><td style=\"text-align: right;\">0.0884409  </td><td style=\"text-align: right;\">     8.07677</td><td style=\"text-align: right;\">  15.8729 </td><td style=\"text-align: right;\">     1</td><td style=\"text-align: right;\">       84.4395  </td><td style=\"text-align: right;\">     0.541111  </td></tr>\n",
       "<tr><td>train_mcdo_aafe3778</td><td>TERMINATED</td><td>10.2.219.10:3491432</td><td style=\"text-align: right;\">    18.5135 </td><td style=\"text-align: right;\">  0.19411 </td><td style=\"text-align: right;\">      4.4768 </td><td style=\"text-align: right;\">0.093398   </td><td style=\"text-align: right;\">     5.93612</td><td style=\"text-align: right;\">  20.6854 </td><td style=\"text-align: right;\">     1</td><td style=\"text-align: right;\">        5.63621 </td><td style=\"text-align: right;\">     0.501638  </td></tr>\n",
       "<tr><td>train_mcdo_e61a8a40</td><td>TERMINATED</td><td>10.2.219.10:3491615</td><td style=\"text-align: right;\">     4.62096</td><td style=\"text-align: right;\">  0.466912</td><td style=\"text-align: right;\">     16.002  </td><td style=\"text-align: right;\">0.0285533  </td><td style=\"text-align: right;\">     8.11118</td><td style=\"text-align: right;\">  37.5059 </td><td style=\"text-align: right;\">     1</td><td style=\"text-align: right;\">       44.2791  </td><td style=\"text-align: right;\">     0.538914  </td></tr>\n",
       "<tr><td>train_mcdo_d4e74b9b</td><td>TERMINATED</td><td>10.2.219.10:3490249</td><td style=\"text-align: right;\">     4.12936</td><td style=\"text-align: right;\">  0.211867</td><td style=\"text-align: right;\">    152.862  </td><td style=\"text-align: right;\">0.0381379  </td><td style=\"text-align: right;\">     3.132  </td><td style=\"text-align: right;\">   3.13885</td><td style=\"text-align: right;\">     1</td><td style=\"text-align: right;\">        1.42055 </td><td style=\"text-align: right;\">     0.52292   </td></tr>\n",
       "<tr><td>train_mcdo_2adb7ad8</td><td>TERMINATED</td><td>10.2.219.10:3491140</td><td style=\"text-align: right;\">    19.2577 </td><td style=\"text-align: right;\">  0.211172</td><td style=\"text-align: right;\">     61.1038 </td><td style=\"text-align: right;\">0.0489255  </td><td style=\"text-align: right;\">     6.51426</td><td style=\"text-align: right;\">  33.4211 </td><td style=\"text-align: right;\">     1</td><td style=\"text-align: right;\">        8.44757 </td><td style=\"text-align: right;\">     0.5336    </td></tr>\n",
       "<tr><td>train_mcdo_87ae6ff7</td><td>TERMINATED</td><td>10.2.219.10:3493694</td><td style=\"text-align: right;\">     5.80983</td><td style=\"text-align: right;\">  0.12312 </td><td style=\"text-align: right;\">     98.6078 </td><td style=\"text-align: right;\">0.0232076  </td><td style=\"text-align: right;\">     4.3321 </td><td style=\"text-align: right;\">  38.0736 </td><td style=\"text-align: right;\">     1</td><td style=\"text-align: right;\">       15.5675  </td><td style=\"text-align: right;\">     0.528831  </td></tr>\n",
       "<tr><td>train_mcdo_a95ada94</td><td>TERMINATED</td><td>10.2.219.10:3490249</td><td style=\"text-align: right;\">    18.5365 </td><td style=\"text-align: right;\">  0.384689</td><td style=\"text-align: right;\">    161.652  </td><td style=\"text-align: right;\">0.081995   </td><td style=\"text-align: right;\">     8.03912</td><td style=\"text-align: right;\">  41.0577 </td><td style=\"text-align: right;\">     1</td><td style=\"text-align: right;\">       44.9973  </td><td style=\"text-align: right;\">     0.501363  </td></tr>\n",
       "<tr><td>train_mcdo_8a6795c9</td><td>TERMINATED</td><td>10.2.219.10:3491432</td><td style=\"text-align: right;\">     3.76526</td><td style=\"text-align: right;\">  0.138216</td><td style=\"text-align: right;\">     31.4778 </td><td style=\"text-align: right;\">0.0117313  </td><td style=\"text-align: right;\">     7.73817</td><td style=\"text-align: right;\">  38.9045 </td><td style=\"text-align: right;\">     1</td><td style=\"text-align: right;\">       23.2992  </td><td style=\"text-align: right;\">     0.447713  </td></tr>\n",
       "<tr><td>train_mcdo_ffd62b53</td><td>TERMINATED</td><td>10.2.219.10:3491539</td><td style=\"text-align: right;\">     9.20699</td><td style=\"text-align: right;\">  0.354625</td><td style=\"text-align: right;\">     41.5775 </td><td style=\"text-align: right;\">0.0796236  </td><td style=\"text-align: right;\">     8.83818</td><td style=\"text-align: right;\">   4.90473</td><td style=\"text-align: right;\">     1</td><td style=\"text-align: right;\">        3.17181 </td><td style=\"text-align: right;\">     0.535287  </td></tr>\n",
       "<tr><td>train_mcdo_efc70bcf</td><td>TERMINATED</td><td>10.2.219.10:3491140</td><td style=\"text-align: right;\">    14.4667 </td><td style=\"text-align: right;\">  0.44038 </td><td style=\"text-align: right;\">    120.777  </td><td style=\"text-align: right;\">0.0155524  </td><td style=\"text-align: right;\">     9.95497</td><td style=\"text-align: right;\">  14.4905 </td><td style=\"text-align: right;\">     1</td><td style=\"text-align: right;\">        7.64067 </td><td style=\"text-align: right;\">     0.524683  </td></tr>\n",
       "<tr><td>train_mcdo_f2b62fe7</td><td>TERMINATED</td><td>10.2.219.10:3491539</td><td style=\"text-align: right;\">    12.232  </td><td style=\"text-align: right;\">  0.317572</td><td style=\"text-align: right;\">     54.803  </td><td style=\"text-align: right;\">0.0564939  </td><td style=\"text-align: right;\">     6.21994</td><td style=\"text-align: right;\">  46.0688 </td><td style=\"text-align: right;\">     1</td><td style=\"text-align: right;\">        9.59475 </td><td style=\"text-align: right;\">     0.535277  </td></tr>\n",
       "<tr><td>train_mcdo_feb98159</td><td>TERMINATED</td><td>10.2.219.10:3510360</td><td style=\"text-align: right;\">    18.5515 </td><td style=\"text-align: right;\">  0.355728</td><td style=\"text-align: right;\">     44.1731 </td><td style=\"text-align: right;\">0.0429836  </td><td style=\"text-align: right;\">     5.36429</td><td style=\"text-align: right;\">  45.3567 </td><td style=\"text-align: right;\">     1</td><td style=\"text-align: right;\">        9.57755 </td><td style=\"text-align: right;\">     0.499449  </td></tr>\n",
       "<tr><td>train_mcdo_a44f11b6</td><td>TERMINATED</td><td>10.2.219.10:3493694</td><td style=\"text-align: right;\">    10.6364 </td><td style=\"text-align: right;\">  0.360457</td><td style=\"text-align: right;\">    135.366  </td><td style=\"text-align: right;\">0.0905674  </td><td style=\"text-align: right;\">     8.19432</td><td style=\"text-align: right;\">   6.55825</td><td style=\"text-align: right;\">     1</td><td style=\"text-align: right;\">        3.18857 </td><td style=\"text-align: right;\">     0.551906  </td></tr>\n",
       "<tr><td>train_mcdo_f2101cbb</td><td>TERMINATED</td><td>10.2.219.10:3491140</td><td style=\"text-align: right;\">     9.62808</td><td style=\"text-align: right;\">  0.23906 </td><td style=\"text-align: right;\">      4.318  </td><td style=\"text-align: right;\">0.0582618  </td><td style=\"text-align: right;\">     2.77273</td><td style=\"text-align: right;\">  46.8625 </td><td style=\"text-align: right;\">     1</td><td style=\"text-align: right;\">       12.3241  </td><td style=\"text-align: right;\">     0.521006  </td></tr>\n",
       "<tr><td>train_mcdo_a83ed261</td><td>TERMINATED</td><td>10.2.219.10:3493694</td><td style=\"text-align: right;\">     1.28445</td><td style=\"text-align: right;\">  0.128054</td><td style=\"text-align: right;\">     25.7859 </td><td style=\"text-align: right;\">0.0101485  </td><td style=\"text-align: right;\">     4.06902</td><td style=\"text-align: right;\">  22.2937 </td><td style=\"text-align: right;\">     1</td><td style=\"text-align: right;\">       43.0359  </td><td style=\"text-align: right;\">     0.00973286</td></tr>\n",
       "<tr><td>train_mcdo_cb02c9ed</td><td>TERMINATED</td><td>10.2.219.10:3491539</td><td style=\"text-align: right;\">     9.04667</td><td style=\"text-align: right;\">  0.40328 </td><td style=\"text-align: right;\">     89.504  </td><td style=\"text-align: right;\">0.0781598  </td><td style=\"text-align: right;\">     6.4635 </td><td style=\"text-align: right;\">  42.528  </td><td style=\"text-align: right;\">     1</td><td style=\"text-align: right;\">       21.1489  </td><td style=\"text-align: right;\">     0.528269  </td></tr>\n",
       "<tr><td>train_mcdo_12aff083</td><td>TERMINATED</td><td>10.2.219.10:3510360</td><td style=\"text-align: right;\">    15.0588 </td><td style=\"text-align: right;\">  0.206534</td><td style=\"text-align: right;\">    140.884  </td><td style=\"text-align: right;\">0.0669931  </td><td style=\"text-align: right;\">     2.52876</td><td style=\"text-align: right;\">  14.3034 </td><td style=\"text-align: right;\">     1</td><td style=\"text-align: right;\">        2.82219 </td><td style=\"text-align: right;\">     0.520927  </td></tr>\n",
       "<tr><td>train_mcdo_ff1da303</td><td>TERMINATED</td><td>10.2.219.10:3491432</td><td style=\"text-align: right;\">    10.4572 </td><td style=\"text-align: right;\">  0.256298</td><td style=\"text-align: right;\">     86.1956 </td><td style=\"text-align: right;\">0.0666219  </td><td style=\"text-align: right;\">     4.32645</td><td style=\"text-align: right;\">  37.3076 </td><td style=\"text-align: right;\">     1</td><td style=\"text-align: right;\">        8.97401 </td><td style=\"text-align: right;\">     0.537971  </td></tr>\n",
       "<tr><td>train_mcdo_49058305</td><td>TERMINATED</td><td>10.2.219.10:3510360</td><td style=\"text-align: right;\">    13.7717 </td><td style=\"text-align: right;\">  0.3293  </td><td style=\"text-align: right;\">    162.025  </td><td style=\"text-align: right;\">0.0812071  </td><td style=\"text-align: right;\">     4.62274</td><td style=\"text-align: right;\">  10.5788 </td><td style=\"text-align: right;\">     1</td><td style=\"text-align: right;\">        2.36826 </td><td style=\"text-align: right;\">     0.528279  </td></tr>\n",
       "<tr><td>train_mcdo_c57a0bd1</td><td>TERMINATED</td><td>10.2.219.10:3491140</td><td style=\"text-align: right;\">    12.4621 </td><td style=\"text-align: right;\">  0.363938</td><td style=\"text-align: right;\">    121.677  </td><td style=\"text-align: right;\">0.0250241  </td><td style=\"text-align: right;\">     3.55729</td><td style=\"text-align: right;\">  45.2559 </td><td style=\"text-align: right;\">     1</td><td style=\"text-align: right;\">       19.9145  </td><td style=\"text-align: right;\">     0.535978  </td></tr>\n",
       "<tr><td>train_mcdo_dac7ea37</td><td>TERMINATED</td><td>10.2.219.10:3510360</td><td style=\"text-align: right;\">     6.53526</td><td style=\"text-align: right;\">  0.391024</td><td style=\"text-align: right;\">     23.8419 </td><td style=\"text-align: right;\">0.0609108  </td><td style=\"text-align: right;\">     7.7669 </td><td style=\"text-align: right;\">  43.7656 </td><td style=\"text-align: right;\">     1</td><td style=\"text-align: right;\">       21.393   </td><td style=\"text-align: right;\">     0.529393  </td></tr>\n",
       "<tr><td>train_mcdo_3ad8587d</td><td>TERMINATED</td><td>10.2.219.10:3491432</td><td style=\"text-align: right;\">    18.4485 </td><td style=\"text-align: right;\">  0.228601</td><td style=\"text-align: right;\">    103.744  </td><td style=\"text-align: right;\">0.0921187  </td><td style=\"text-align: right;\">     2.52228</td><td style=\"text-align: right;\">  10.6552 </td><td style=\"text-align: right;\">     1</td><td style=\"text-align: right;\">        1.2958  </td><td style=\"text-align: right;\">     0.513266  </td></tr>\n",
       "<tr><td>train_mcdo_61a43b6e</td><td>TERMINATED</td><td>10.2.219.10:3491432</td><td style=\"text-align: right;\">    16.2581 </td><td style=\"text-align: right;\">  0.369334</td><td style=\"text-align: right;\">    111.338  </td><td style=\"text-align: right;\">0.0755722  </td><td style=\"text-align: right;\">     2.22727</td><td style=\"text-align: right;\">  30.961  </td><td style=\"text-align: right;\">     1</td><td style=\"text-align: right;\">        2.25422 </td><td style=\"text-align: right;\">     0.527922  </td></tr>\n",
       "<tr><td>train_mcdo_abe27052</td><td>TERMINATED</td><td>10.2.219.10:3491432</td><td style=\"text-align: right;\">     3.69608</td><td style=\"text-align: right;\">  0.127909</td><td style=\"text-align: right;\">    119.521  </td><td style=\"text-align: right;\">0.0303947  </td><td style=\"text-align: right;\">     3.88786</td><td style=\"text-align: right;\">  16.0455 </td><td style=\"text-align: right;\">     1</td><td style=\"text-align: right;\">       11.5442  </td><td style=\"text-align: right;\">     0.467563  </td></tr>\n",
       "<tr><td>train_mcdo_598cb62c</td><td>TERMINATED</td><td>10.2.219.10:3491615</td><td style=\"text-align: right;\">     2.72165</td><td style=\"text-align: right;\">  0.269507</td><td style=\"text-align: right;\">    157.597  </td><td style=\"text-align: right;\">0.0649562  </td><td style=\"text-align: right;\">     8.06021</td><td style=\"text-align: right;\">  15.4899 </td><td style=\"text-align: right;\">     1</td><td style=\"text-align: right;\">       24.4269  </td><td style=\"text-align: right;\">     0.539975  </td></tr>\n",
       "<tr><td>train_mcdo_c50f7f50</td><td>TERMINATED</td><td>10.2.219.10:3491539</td><td style=\"text-align: right;\">    14.0376 </td><td style=\"text-align: right;\">  0.302099</td><td style=\"text-align: right;\">     60.6373 </td><td style=\"text-align: right;\">0.0121582  </td><td style=\"text-align: right;\">     7.88801</td><td style=\"text-align: right;\">   5.00123</td><td style=\"text-align: right;\">     1</td><td style=\"text-align: right;\">        2.64852 </td><td style=\"text-align: right;\">     0.52899   </td></tr>\n",
       "<tr><td>train_mcdo_691c9685</td><td>TERMINATED</td><td>10.2.219.10:3491040</td><td style=\"text-align: right;\">    18.1258 </td><td style=\"text-align: right;\">  0.366551</td><td style=\"text-align: right;\">     91.3169 </td><td style=\"text-align: right;\">0.0278754  </td><td style=\"text-align: right;\">     4.59531</td><td style=\"text-align: right;\">   1.44631</td><td style=\"text-align: right;\">     1</td><td style=\"text-align: right;\">        0.162125</td><td style=\"text-align: right;\">     0.524954  </td></tr>\n",
       "<tr><td>train_mcdo_e33b448f</td><td>TERMINATED</td><td>10.2.219.10:3491040</td><td style=\"text-align: right;\">     7.88882</td><td style=\"text-align: right;\">  0.358138</td><td style=\"text-align: right;\">     35.91   </td><td style=\"text-align: right;\">0.00914082 </td><td style=\"text-align: right;\">     7.17011</td><td style=\"text-align: right;\">  15.922  </td><td style=\"text-align: right;\">     1</td><td style=\"text-align: right;\">        6.30768 </td><td style=\"text-align: right;\">     0.538053  </td></tr>\n",
       "<tr><td>train_mcdo_060d95ca</td><td>TERMINATED</td><td>10.2.219.10:3491539</td><td style=\"text-align: right;\">     1.93599</td><td style=\"text-align: right;\">  0.376742</td><td style=\"text-align: right;\">     34.2769 </td><td style=\"text-align: right;\">0.0620976  </td><td style=\"text-align: right;\">     3.7788 </td><td style=\"text-align: right;\">  14.7827 </td><td style=\"text-align: right;\">     1</td><td style=\"text-align: right;\">       18.8248  </td><td style=\"text-align: right;\">     0.538954  </td></tr>\n",
       "<tr><td>train_mcdo_808e4e0f</td><td>TERMINATED</td><td>10.2.219.10:3490249</td><td style=\"text-align: right;\">    18.8399 </td><td style=\"text-align: right;\">  0.101441</td><td style=\"text-align: right;\">     90.9593 </td><td style=\"text-align: right;\">0.0582643  </td><td style=\"text-align: right;\">     7.00787</td><td style=\"text-align: right;\">   2.15128</td><td style=\"text-align: right;\">     1</td><td style=\"text-align: right;\">        0.598128</td><td style=\"text-align: right;\">     0.525638  </td></tr>\n",
       "</tbody>\n",
       "</table>\n",
       "  </div>\n",
       "</div>\n",
       "<style>\n",
       ".tuneStatus {\n",
       "  color: var(--jp-ui-font-color1);\n",
       "}\n",
       ".tuneStatus .systemInfo {\n",
       "  display: flex;\n",
       "  flex-direction: column;\n",
       "}\n",
       ".tuneStatus td {\n",
       "  white-space: nowrap;\n",
       "}\n",
       ".tuneStatus .trialStatus {\n",
       "  display: flex;\n",
       "  flex-direction: column;\n",
       "}\n",
       ".tuneStatus h3 {\n",
       "  font-weight: bold;\n",
       "}\n",
       ".tuneStatus .hDivider {\n",
       "  border-bottom-width: var(--jp-border-width);\n",
       "  border-bottom-color: var(--jp-border-color0);\n",
       "  border-bottom-style: solid;\n",
       "}\n",
       ".tuneStatus .vDivider {\n",
       "  border-left-width: var(--jp-border-width);\n",
       "  border-left-color: var(--jp-border-color0);\n",
       "  border-left-style: solid;\n",
       "  margin: 0.5em 1em 0.5em 1em;\n",
       "}\n",
       "</style>\n"
      ],
      "text/plain": [
       "<IPython.core.display.HTML object>"
      ]
     },
     "metadata": {},
     "output_type": "display_data"
    },
    {
     "name": "stderr",
     "output_type": "stream",
     "text": [
      "\u001b[2m\u001b[36m(train_mcdo pid=3489497)\u001b[0m /home/sgupta/anaconda3/envs/py39SAM/lib/python3.9/site-packages/torch/nn/modules/loss.py:535: UserWarning: Using a target size (torch.Size([8, 1])) that is different to the input size (torch.Size([8])). This will likely lead to incorrect results due to broadcasting. Please ensure they have the same size.\n",
      "\u001b[2m\u001b[36m(train_mcdo pid=3489497)\u001b[0m   return F.mse_loss(input, target, reduction=self.reduction)\n",
      "\u001b[2m\u001b[36m(train_mcdo pid=3489497)\u001b[0m /home/sgupta/anaconda3/envs/py39SAM/lib/python3.9/site-packages/torch/nn/modules/loss.py:535: UserWarning: Using a target size (torch.Size([4, 1])) that is different to the input size (torch.Size([4])). This will likely lead to incorrect results due to broadcasting. Please ensure they have the same size.\n",
      "\u001b[2m\u001b[36m(train_mcdo pid=3489497)\u001b[0m   return F.mse_loss(input, target, reduction=self.reduction)\n"
     ]
    },
    {
     "data": {
      "text/html": [
       "<div class=\"trialProgress\">\n",
       "  <h3>Trial Progress</h3>\n",
       "  <table>\n",
       "<thead>\n",
       "<tr><th>Trial name         </th><th style=\"text-align: right;\">  best_val_loss</th><th style=\"text-align: right;\">   train_loss</th></tr>\n",
       "</thead>\n",
       "<tbody>\n",
       "<tr><td>train_mcdo_002d2e6c</td><td style=\"text-align: right;\">     0.489182  </td><td style=\"text-align: right;\">  0.851885   </td></tr>\n",
       "<tr><td>train_mcdo_01c6ce46</td><td style=\"text-align: right;\">     0.542278  </td><td style=\"text-align: right;\">  0.481023   </td></tr>\n",
       "<tr><td>train_mcdo_021ca471</td><td style=\"text-align: right;\">     0.541072  </td><td style=\"text-align: right;\">  0.607262   </td></tr>\n",
       "<tr><td>train_mcdo_027a6b48</td><td style=\"text-align: right;\">     0.628943  </td><td style=\"text-align: right;\">  0.726747   </td></tr>\n",
       "<tr><td>train_mcdo_03bc6443</td><td style=\"text-align: right;\">     0.532649  </td><td style=\"text-align: right;\">  0.402912   </td></tr>\n",
       "<tr><td>train_mcdo_04330175</td><td style=\"text-align: right;\">     0.540145  </td><td style=\"text-align: right;\">  0.485861   </td></tr>\n",
       "<tr><td>train_mcdo_04692492</td><td style=\"text-align: right;\">     0.535047  </td><td style=\"text-align: right;\">  0.70423    </td></tr>\n",
       "<tr><td>train_mcdo_060d95ca</td><td style=\"text-align: right;\">     0.538954  </td><td style=\"text-align: right;\">  0.183564   </td></tr>\n",
       "<tr><td>train_mcdo_06f9bbce</td><td style=\"text-align: right;\">     0.531162  </td><td style=\"text-align: right;\">  0.746319   </td></tr>\n",
       "<tr><td>train_mcdo_0716eb32</td><td style=\"text-align: right;\">     0.517571  </td><td style=\"text-align: right;\">  0.347062   </td></tr>\n",
       "<tr><td>train_mcdo_073cf14a</td><td style=\"text-align: right;\">     0.521394  </td><td style=\"text-align: right;\">  0.597326   </td></tr>\n",
       "<tr><td>train_mcdo_078fbd06</td><td style=\"text-align: right;\">     0.538908  </td><td style=\"text-align: right;\">  0.456419   </td></tr>\n",
       "<tr><td>train_mcdo_086891d5</td><td style=\"text-align: right;\">     0.523671  </td><td style=\"text-align: right;\">  0.341868   </td></tr>\n",
       "<tr><td>train_mcdo_08f5f7a2</td><td style=\"text-align: right;\">     0.522835  </td><td style=\"text-align: right;\">  0.57576    </td></tr>\n",
       "<tr><td>train_mcdo_09b1a17c</td><td style=\"text-align: right;\">     0.539081  </td><td style=\"text-align: right;\">  0.343338   </td></tr>\n",
       "<tr><td>train_mcdo_0a974117</td><td style=\"text-align: right;\">     0.536764  </td><td style=\"text-align: right;\">  0.304067   </td></tr>\n",
       "<tr><td>train_mcdo_0aef2aa4</td><td style=\"text-align: right;\">     0.538918  </td><td style=\"text-align: right;\">  0.440696   </td></tr>\n",
       "<tr><td>train_mcdo_0b2c7540</td><td style=\"text-align: right;\">     0.531931  </td><td style=\"text-align: right;\">  0.451877   </td></tr>\n",
       "<tr><td>train_mcdo_0be955f4</td><td style=\"text-align: right;\">     0.537425  </td><td style=\"text-align: right;\">  0.785838   </td></tr>\n",
       "<tr><td>train_mcdo_0dfb5675</td><td style=\"text-align: right;\">     0.521822  </td><td style=\"text-align: right;\">  0.0505224  </td></tr>\n",
       "<tr><td>train_mcdo_0e02676c</td><td style=\"text-align: right;\">     0.53823   </td><td style=\"text-align: right;\">  0.352278   </td></tr>\n",
       "<tr><td>train_mcdo_0e6e65b9</td><td style=\"text-align: right;\">     0.536051  </td><td style=\"text-align: right;\">  0.414695   </td></tr>\n",
       "<tr><td>train_mcdo_0ee444a1</td><td style=\"text-align: right;\">     0.532504  </td><td style=\"text-align: right;\">  0.599217   </td></tr>\n",
       "<tr><td>train_mcdo_10228f8d</td><td style=\"text-align: right;\">     0.52828   </td><td style=\"text-align: right;\">  0.890619   </td></tr>\n",
       "<tr><td>train_mcdo_1097ba69</td><td style=\"text-align: right;\">     0.532795  </td><td style=\"text-align: right;\">  0.623737   </td></tr>\n",
       "<tr><td>train_mcdo_10c61dc4</td><td style=\"text-align: right;\">     0.0406359 </td><td style=\"text-align: right;\">  1.62107    </td></tr>\n",
       "<tr><td>train_mcdo_1190a479</td><td style=\"text-align: right;\">     0.538915  </td><td style=\"text-align: right;\">  0.111974   </td></tr>\n",
       "<tr><td>train_mcdo_12404d96</td><td style=\"text-align: right;\">     0.533448  </td><td style=\"text-align: right;\">  0.575232   </td></tr>\n",
       "<tr><td>train_mcdo_12aff083</td><td style=\"text-align: right;\">     0.520927  </td><td style=\"text-align: right;\">  0.566389   </td></tr>\n",
       "<tr><td>train_mcdo_12f02177</td><td style=\"text-align: right;\">     0.561839  </td><td style=\"text-align: right;\">  2.08146    </td></tr>\n",
       "<tr><td>train_mcdo_13633f20</td><td style=\"text-align: right;\">     0.538932  </td><td style=\"text-align: right;\">214.149      </td></tr>\n",
       "<tr><td>train_mcdo_13938651</td><td style=\"text-align: right;\">     0.539191  </td><td style=\"text-align: right;\">  0.0899449  </td></tr>\n",
       "<tr><td>train_mcdo_13978a0c</td><td style=\"text-align: right;\">     0.52378   </td><td style=\"text-align: right;\">  0.604173   </td></tr>\n",
       "<tr><td>train_mcdo_144def41</td><td style=\"text-align: right;\">     0.541272  </td><td style=\"text-align: right;\"> 79.7758     </td></tr>\n",
       "<tr><td>train_mcdo_148bdc7f</td><td style=\"text-align: right;\">     0.530601  </td><td style=\"text-align: right;\">  0.708783   </td></tr>\n",
       "<tr><td>train_mcdo_15405a40</td><td style=\"text-align: right;\">     0.531145  </td><td style=\"text-align: right;\">  0.214956   </td></tr>\n",
       "<tr><td>train_mcdo_156bdf1b</td><td style=\"text-align: right;\">     0.538913  </td><td style=\"text-align: right;\">  0.677403   </td></tr>\n",
       "<tr><td>train_mcdo_16d294d9</td><td style=\"text-align: right;\">     0.48315   </td><td style=\"text-align: right;\">  0.553097   </td></tr>\n",
       "<tr><td>train_mcdo_17050dae</td><td style=\"text-align: right;\">     0.504372  </td><td style=\"text-align: right;\">  0.372214   </td></tr>\n",
       "<tr><td>train_mcdo_1759223b</td><td style=\"text-align: right;\">     0.538944  </td><td style=\"text-align: right;\">  0.782572   </td></tr>\n",
       "<tr><td>train_mcdo_175ba570</td><td style=\"text-align: right;\">     0.52269   </td><td style=\"text-align: right;\">  0.639614   </td></tr>\n",
       "<tr><td>train_mcdo_178e2916</td><td style=\"text-align: right;\">     0.525519  </td><td style=\"text-align: right;\">  0.409577   </td></tr>\n",
       "<tr><td>train_mcdo_181ee6a5</td><td style=\"text-align: right;\">     0.493055  </td><td style=\"text-align: right;\">  0.762525   </td></tr>\n",
       "<tr><td>train_mcdo_1877aacb</td><td style=\"text-align: right;\">     0.53667   </td><td style=\"text-align: right;\">  0.641935   </td></tr>\n",
       "<tr><td>train_mcdo_18946c7e</td><td style=\"text-align: right;\">     0.523971  </td><td style=\"text-align: right;\">  0.212917   </td></tr>\n",
       "<tr><td>train_mcdo_18ce914a</td><td style=\"text-align: right;\">     0.538911  </td><td style=\"text-align: right;\">  0.451703   </td></tr>\n",
       "<tr><td>train_mcdo_18e3b1ca</td><td style=\"text-align: right;\">     0.467321  </td><td style=\"text-align: right;\">  0.766132   </td></tr>\n",
       "<tr><td>train_mcdo_190c3eb1</td><td style=\"text-align: right;\">     0.521938  </td><td style=\"text-align: right;\">  0.573965   </td></tr>\n",
       "<tr><td>train_mcdo_1953c46a</td><td style=\"text-align: right;\">     0.529367  </td><td style=\"text-align: right;\">  0.617833   </td></tr>\n",
       "<tr><td>train_mcdo_198d352e</td><td style=\"text-align: right;\">     0.519906  </td><td style=\"text-align: right;\">  0.443285   </td></tr>\n",
       "<tr><td>train_mcdo_1a745c2e</td><td style=\"text-align: right;\">     0.520487  </td><td style=\"text-align: right;\">  0.281853   </td></tr>\n",
       "<tr><td>train_mcdo_1aa26374</td><td style=\"text-align: right;\">     0.523292  </td><td style=\"text-align: right;\">  0.379023   </td></tr>\n",
       "<tr><td>train_mcdo_1b1cfc9b</td><td style=\"text-align: right;\">     0.528438  </td><td style=\"text-align: right;\">  0.864909   </td></tr>\n",
       "<tr><td>train_mcdo_1c28836c</td><td style=\"text-align: right;\">     0.533235  </td><td style=\"text-align: right;\">  0.547864   </td></tr>\n",
       "<tr><td>train_mcdo_1d14e2c7</td><td style=\"text-align: right;\">     0.538958  </td><td style=\"text-align: right;\">  0.342675   </td></tr>\n",
       "<tr><td>train_mcdo_1fb3eddc</td><td style=\"text-align: right;\">     0.537384  </td><td style=\"text-align: right;\">  0.603304   </td></tr>\n",
       "<tr><td>train_mcdo_1fc3ac6b</td><td style=\"text-align: right;\">     0.522611  </td><td style=\"text-align: right;\">  0.548674   </td></tr>\n",
       "<tr><td>train_mcdo_202b0411</td><td style=\"text-align: right;\">     0.427368  </td><td style=\"text-align: right;\">  0.752409   </td></tr>\n",
       "<tr><td>train_mcdo_20f88634</td><td style=\"text-align: right;\">     0.533293  </td><td style=\"text-align: right;\">  0.637922   </td></tr>\n",
       "<tr><td>train_mcdo_21181be2</td><td style=\"text-align: right;\">     0.798951  </td><td style=\"text-align: right;\">  1.1061     </td></tr>\n",
       "<tr><td>train_mcdo_224e1018</td><td style=\"text-align: right;\">     0.530847  </td><td style=\"text-align: right;\">  0.668113   </td></tr>\n",
       "<tr><td>train_mcdo_237e0772</td><td style=\"text-align: right;\">     0.532706  </td><td style=\"text-align: right;\">  0.842897   </td></tr>\n",
       "<tr><td>train_mcdo_23cfa422</td><td style=\"text-align: right;\">     0.534082  </td><td style=\"text-align: right;\">  0.344297   </td></tr>\n",
       "<tr><td>train_mcdo_2469bc67</td><td style=\"text-align: right;\">     0.539457  </td><td style=\"text-align: right;\">  1.0811     </td></tr>\n",
       "<tr><td>train_mcdo_24b6c4aa</td><td style=\"text-align: right;\">     0.530678  </td><td style=\"text-align: right;\">  2.84637    </td></tr>\n",
       "<tr><td>train_mcdo_2652c3ee</td><td style=\"text-align: right;\">     0.536054  </td><td style=\"text-align: right;\">  0.268368   </td></tr>\n",
       "<tr><td>train_mcdo_2669b3c5</td><td style=\"text-align: right;\">     0.538914  </td><td style=\"text-align: right;\">  0.480434   </td></tr>\n",
       "<tr><td>train_mcdo_27253268</td><td style=\"text-align: right;\">     0.507175  </td><td style=\"text-align: right;\">  0.546872   </td></tr>\n",
       "<tr><td>train_mcdo_272618b1</td><td style=\"text-align: right;\">     0.514555  </td><td style=\"text-align: right;\">  0.701347   </td></tr>\n",
       "<tr><td>train_mcdo_28645f1c</td><td style=\"text-align: right;\">     0.538964  </td><td style=\"text-align: right;\">  0.488787   </td></tr>\n",
       "<tr><td>train_mcdo_29306368</td><td style=\"text-align: right;\">     0.538322  </td><td style=\"text-align: right;\">  0.645185   </td></tr>\n",
       "<tr><td>train_mcdo_2954a0bb</td><td style=\"text-align: right;\">     0.535026  </td><td style=\"text-align: right;\">  0.487206   </td></tr>\n",
       "<tr><td>train_mcdo_29e2d2d2</td><td style=\"text-align: right;\">     0.535455  </td><td style=\"text-align: right;\">  0.466321   </td></tr>\n",
       "<tr><td>train_mcdo_2aa90d8b</td><td style=\"text-align: right;\">     0.527106  </td><td style=\"text-align: right;\">  0.649151   </td></tr>\n",
       "<tr><td>train_mcdo_2adb7ad8</td><td style=\"text-align: right;\">     0.5336    </td><td style=\"text-align: right;\">  0.322537   </td></tr>\n",
       "<tr><td>train_mcdo_2b188e1c</td><td style=\"text-align: right;\">     0.503226  </td><td style=\"text-align: right;\">  0.647087   </td></tr>\n",
       "<tr><td>train_mcdo_2b707f5f</td><td style=\"text-align: right;\">     0.529337  </td><td style=\"text-align: right;\">  0.458124   </td></tr>\n",
       "<tr><td>train_mcdo_2c02f127</td><td style=\"text-align: right;\">     0.535297  </td><td style=\"text-align: right;\">  0.454609   </td></tr>\n",
       "<tr><td>train_mcdo_2d3d5b19</td><td style=\"text-align: right;\">     0.538916  </td><td style=\"text-align: right;\">  0.560978   </td></tr>\n",
       "<tr><td>train_mcdo_2dcdb40c</td><td style=\"text-align: right;\">     0.542131  </td><td style=\"text-align: right;\">  0.387868   </td></tr>\n",
       "<tr><td>train_mcdo_2e01ec83</td><td style=\"text-align: right;\">     0.528224  </td><td style=\"text-align: right;\">  0.297489   </td></tr>\n",
       "<tr><td>train_mcdo_2f1ad1ce</td><td style=\"text-align: right;\">     0.506423  </td><td style=\"text-align: right;\">  0.325643   </td></tr>\n",
       "<tr><td>train_mcdo_309467c5</td><td style=\"text-align: right;\">     0.538909  </td><td style=\"text-align: right;\">  0.475754   </td></tr>\n",
       "<tr><td>train_mcdo_30b6d638</td><td style=\"text-align: right;\">     0.536617  </td><td style=\"text-align: right;\">  0.0399583  </td></tr>\n",
       "<tr><td>train_mcdo_32941b11</td><td style=\"text-align: right;\">     0.444272  </td><td style=\"text-align: right;\">  0.738826   </td></tr>\n",
       "<tr><td>train_mcdo_329ee56e</td><td style=\"text-align: right;\">     0.524844  </td><td style=\"text-align: right;\">  0.336552   </td></tr>\n",
       "<tr><td>train_mcdo_32d4a43e</td><td style=\"text-align: right;\">     0.535702  </td><td style=\"text-align: right;\">  0.392615   </td></tr>\n",
       "<tr><td>train_mcdo_332559f6</td><td style=\"text-align: right;\">     0.52311   </td><td style=\"text-align: right;\">  0.383735   </td></tr>\n",
       "<tr><td>train_mcdo_3354c0b6</td><td style=\"text-align: right;\">     0.0677427 </td><td style=\"text-align: right;\">  0.225058   </td></tr>\n",
       "<tr><td>train_mcdo_337335a9</td><td style=\"text-align: right;\">     0.539489  </td><td style=\"text-align: right;\">  0.821177   </td></tr>\n",
       "<tr><td>train_mcdo_337a223e</td><td style=\"text-align: right;\">     0.537614  </td><td style=\"text-align: right;\">  0.341663   </td></tr>\n",
       "<tr><td>train_mcdo_33b02e70</td><td style=\"text-align: right;\">     0.535238  </td><td style=\"text-align: right;\">  0.450066   </td></tr>\n",
       "<tr><td>train_mcdo_34255f8e</td><td style=\"text-align: right;\">     0.538959  </td><td style=\"text-align: right;\">  0.0319126  </td></tr>\n",
       "<tr><td>train_mcdo_34365835</td><td style=\"text-align: right;\">     0.521169  </td><td style=\"text-align: right;\">  0.387587   </td></tr>\n",
       "<tr><td>train_mcdo_34b9ad5b</td><td style=\"text-align: right;\">     0.520173  </td><td style=\"text-align: right;\">  0.470024   </td></tr>\n",
       "<tr><td>train_mcdo_34ba69e4</td><td style=\"text-align: right;\">     0.534046  </td><td style=\"text-align: right;\">  1.05919    </td></tr>\n",
       "<tr><td>train_mcdo_34efaac4</td><td style=\"text-align: right;\">     0.530733  </td><td style=\"text-align: right;\">  0.436442   </td></tr>\n",
       "<tr><td>train_mcdo_356f28f3</td><td style=\"text-align: right;\">     0.523912  </td><td style=\"text-align: right;\">  1.29044    </td></tr>\n",
       "<tr><td>train_mcdo_359d47f6</td><td style=\"text-align: right;\">     0.539122  </td><td style=\"text-align: right;\">  0.687445   </td></tr>\n",
       "<tr><td>train_mcdo_35da9903</td><td style=\"text-align: right;\">     0.524482  </td><td style=\"text-align: right;\">  0.523124   </td></tr>\n",
       "<tr><td>train_mcdo_37a5cc34</td><td style=\"text-align: right;\">     0.533636  </td><td style=\"text-align: right;\">  0.500931   </td></tr>\n",
       "<tr><td>train_mcdo_382921cf</td><td style=\"text-align: right;\">     0.537478  </td><td style=\"text-align: right;\">  0.609237   </td></tr>\n",
       "<tr><td>train_mcdo_387572ee</td><td style=\"text-align: right;\">     0.504281  </td><td style=\"text-align: right;\">  0.321078   </td></tr>\n",
       "<tr><td>train_mcdo_3ad8587d</td><td style=\"text-align: right;\">     0.513266  </td><td style=\"text-align: right;\">  0.563181   </td></tr>\n",
       "<tr><td>train_mcdo_3b3bb7ed</td><td style=\"text-align: right;\">     0.53894   </td><td style=\"text-align: right;\">  0.321236   </td></tr>\n",
       "<tr><td>train_mcdo_3c07176a</td><td style=\"text-align: right;\">     0.536853  </td><td style=\"text-align: right;\">  0.558032   </td></tr>\n",
       "<tr><td>train_mcdo_3c3737c5</td><td style=\"text-align: right;\">     0.534645  </td><td style=\"text-align: right;\">  0.595523   </td></tr>\n",
       "<tr><td>train_mcdo_3cf75520</td><td style=\"text-align: right;\">     0.528901  </td><td style=\"text-align: right;\">  0.758638   </td></tr>\n",
       "<tr><td>train_mcdo_3d8f62d5</td><td style=\"text-align: right;\">     0.519046  </td><td style=\"text-align: right;\">  0.633967   </td></tr>\n",
       "<tr><td>train_mcdo_3dadf62e</td><td style=\"text-align: right;\">     0.538915  </td><td style=\"text-align: right;\">  0.94975    </td></tr>\n",
       "<tr><td>train_mcdo_3dcdd477</td><td style=\"text-align: right;\">     0.528503  </td><td style=\"text-align: right;\">  0.302109   </td></tr>\n",
       "<tr><td>train_mcdo_3eaf38dd</td><td style=\"text-align: right;\">     0.539486  </td><td style=\"text-align: right;\">  0.771582   </td></tr>\n",
       "<tr><td>train_mcdo_3eb25ab6</td><td style=\"text-align: right;\">     0.53909   </td><td style=\"text-align: right;\">  0.207472   </td></tr>\n",
       "<tr><td>train_mcdo_3fc56f3d</td><td style=\"text-align: right;\">     0.538922  </td><td style=\"text-align: right;\">  0.202132   </td></tr>\n",
       "<tr><td>train_mcdo_408431df</td><td style=\"text-align: right;\">     0.179515  </td><td style=\"text-align: right;\">  1.47307    </td></tr>\n",
       "<tr><td>train_mcdo_4201b0a2</td><td style=\"text-align: right;\">     0.379633  </td><td style=\"text-align: right;\">  0.401118   </td></tr>\n",
       "<tr><td>train_mcdo_43354cd3</td><td style=\"text-align: right;\">     0.531934  </td><td style=\"text-align: right;\">  0.395306   </td></tr>\n",
       "<tr><td>train_mcdo_43406544</td><td style=\"text-align: right;\">     0.533445  </td><td style=\"text-align: right;\">  0.476123   </td></tr>\n",
       "<tr><td>train_mcdo_43cc27c4</td><td style=\"text-align: right;\">     0.503775  </td><td style=\"text-align: right;\">  0.507828   </td></tr>\n",
       "<tr><td>train_mcdo_448dc198</td><td style=\"text-align: right;\">     0.541208  </td><td style=\"text-align: right;\">  0.392799   </td></tr>\n",
       "<tr><td>train_mcdo_452c3e20</td><td style=\"text-align: right;\">     0.520878  </td><td style=\"text-align: right;\">  0.453485   </td></tr>\n",
       "<tr><td>train_mcdo_4589013c</td><td style=\"text-align: right;\">     0.538919  </td><td style=\"text-align: right;\">  0.000849736</td></tr>\n",
       "<tr><td>train_mcdo_45d56833</td><td style=\"text-align: right;\">     0.520033  </td><td style=\"text-align: right;\">  0.515008   </td></tr>\n",
       "<tr><td>train_mcdo_4648bf06</td><td style=\"text-align: right;\">     0.535246  </td><td style=\"text-align: right;\">  0.365898   </td></tr>\n",
       "<tr><td>train_mcdo_46bc98af</td><td style=\"text-align: right;\">     0.525644  </td><td style=\"text-align: right;\">  0.886924   </td></tr>\n",
       "<tr><td>train_mcdo_47848d28</td><td style=\"text-align: right;\">     0.513886  </td><td style=\"text-align: right;\">  0.489601   </td></tr>\n",
       "<tr><td>train_mcdo_47c8aac3</td><td style=\"text-align: right;\">     0.539105  </td><td style=\"text-align: right;\">  1.23856    </td></tr>\n",
       "<tr><td>train_mcdo_4862edc8</td><td style=\"text-align: right;\">     0.529747  </td><td style=\"text-align: right;\">  0.116974   </td></tr>\n",
       "<tr><td>train_mcdo_48b6422a</td><td style=\"text-align: right;\">     0.530829  </td><td style=\"text-align: right;\">  0.58263    </td></tr>\n",
       "<tr><td>train_mcdo_48b8b982</td><td style=\"text-align: right;\">     0.532192  </td><td style=\"text-align: right;\">  0.529193   </td></tr>\n",
       "<tr><td>train_mcdo_4905786b</td><td style=\"text-align: right;\">     0.535271  </td><td style=\"text-align: right;\">  0.309831   </td></tr>\n",
       "<tr><td>train_mcdo_49058305</td><td style=\"text-align: right;\">     0.528279  </td><td style=\"text-align: right;\">  0.425648   </td></tr>\n",
       "<tr><td>train_mcdo_496043c3</td><td style=\"text-align: right;\">     0.491669  </td><td style=\"text-align: right;\">  0.558795   </td></tr>\n",
       "<tr><td>train_mcdo_49b05a97</td><td style=\"text-align: right;\">     0.534528  </td><td style=\"text-align: right;\">  0.624889   </td></tr>\n",
       "<tr><td>train_mcdo_4b7e4866</td><td style=\"text-align: right;\">     0.516475  </td><td style=\"text-align: right;\">  0.63332    </td></tr>\n",
       "<tr><td>train_mcdo_4c018549</td><td style=\"text-align: right;\">     0.503327  </td><td style=\"text-align: right;\">  0.441468   </td></tr>\n",
       "<tr><td>train_mcdo_4cfd8ff3</td><td style=\"text-align: right;\">     0.528615  </td><td style=\"text-align: right;\">  0.497129   </td></tr>\n",
       "<tr><td>train_mcdo_4d4e06af</td><td style=\"text-align: right;\">     0.529178  </td><td style=\"text-align: right;\">  0.49498    </td></tr>\n",
       "<tr><td>train_mcdo_4e159928</td><td style=\"text-align: right;\">     0.501328  </td><td style=\"text-align: right;\">  0.353024   </td></tr>\n",
       "<tr><td>train_mcdo_4e9cb353</td><td style=\"text-align: right;\">     0.53974   </td><td style=\"text-align: right;\">  0.76322    </td></tr>\n",
       "<tr><td>train_mcdo_4f5a1672</td><td style=\"text-align: right;\">     0.524335  </td><td style=\"text-align: right;\">  0.42997    </td></tr>\n",
       "<tr><td>train_mcdo_50173097</td><td style=\"text-align: right;\">     0.533238  </td><td style=\"text-align: right;\">  0.478803   </td></tr>\n",
       "<tr><td>train_mcdo_50256184</td><td style=\"text-align: right;\">     0.535536  </td><td style=\"text-align: right;\">  0.674521   </td></tr>\n",
       "<tr><td>train_mcdo_5110357d</td><td style=\"text-align: right;\">     0.523166  </td><td style=\"text-align: right;\">  0.244714   </td></tr>\n",
       "<tr><td>train_mcdo_51915f50</td><td style=\"text-align: right;\">     0.528303  </td><td style=\"text-align: right;\">  0.535098   </td></tr>\n",
       "<tr><td>train_mcdo_51dbb8a6</td><td style=\"text-align: right;\">     0.539344  </td><td style=\"text-align: right;\">  3.26989    </td></tr>\n",
       "<tr><td>train_mcdo_520fe050</td><td style=\"text-align: right;\">     0.575485  </td><td style=\"text-align: right;\">100.799      </td></tr>\n",
       "<tr><td>train_mcdo_521f368c</td><td style=\"text-align: right;\">     0.53444   </td><td style=\"text-align: right;\">  0.483077   </td></tr>\n",
       "<tr><td>train_mcdo_522b2fbc</td><td style=\"text-align: right;\">     0.529459  </td><td style=\"text-align: right;\">  0.409748   </td></tr>\n",
       "<tr><td>train_mcdo_531456ee</td><td style=\"text-align: right;\">     0.536436  </td><td style=\"text-align: right;\">  0.504127   </td></tr>\n",
       "<tr><td>train_mcdo_53992bb3</td><td style=\"text-align: right;\">     0.530845  </td><td style=\"text-align: right;\">  0.588929   </td></tr>\n",
       "<tr><td>train_mcdo_53c09235</td><td style=\"text-align: right;\">     0.538326  </td><td style=\"text-align: right;\">  0.00438464 </td></tr>\n",
       "<tr><td>train_mcdo_5438c23f</td><td style=\"text-align: right;\">     0.743692  </td><td style=\"text-align: right;\">  1.47093    </td></tr>\n",
       "<tr><td>train_mcdo_543e484d</td><td style=\"text-align: right;\">     0.539351  </td><td style=\"text-align: right;\">  0.261595   </td></tr>\n",
       "<tr><td>train_mcdo_5449a40e</td><td style=\"text-align: right;\">     0.539409  </td><td style=\"text-align: right;\">  0.673728   </td></tr>\n",
       "<tr><td>train_mcdo_546747fc</td><td style=\"text-align: right;\">     0.545616  </td><td style=\"text-align: right;\">  2.06501    </td></tr>\n",
       "<tr><td>train_mcdo_54954560</td><td style=\"text-align: right;\">     0.534618  </td><td style=\"text-align: right;\">  0.508944   </td></tr>\n",
       "<tr><td>train_mcdo_5519e34c</td><td style=\"text-align: right;\">     0.53899   </td><td style=\"text-align: right;\">  1.09701    </td></tr>\n",
       "<tr><td>train_mcdo_551d3b25</td><td style=\"text-align: right;\">     0.501942  </td><td style=\"text-align: right;\">  0.504839   </td></tr>\n",
       "<tr><td>train_mcdo_558ff2e1</td><td style=\"text-align: right;\">     0.537387  </td><td style=\"text-align: right;\">  0.469277   </td></tr>\n",
       "<tr><td>train_mcdo_56331bcf</td><td style=\"text-align: right;\">     0.504878  </td><td style=\"text-align: right;\">  0.34801    </td></tr>\n",
       "<tr><td>train_mcdo_566f41fd</td><td style=\"text-align: right;\">     0.528588  </td><td style=\"text-align: right;\">  0.365007   </td></tr>\n",
       "<tr><td>train_mcdo_56aa7d34</td><td style=\"text-align: right;\">     0.532794  </td><td style=\"text-align: right;\">  0.43154    </td></tr>\n",
       "<tr><td>train_mcdo_57718005</td><td style=\"text-align: right;\">     0.537413  </td><td style=\"text-align: right;\">  0.134486   </td></tr>\n",
       "<tr><td>train_mcdo_58c9a64b</td><td style=\"text-align: right;\">     0.53457   </td><td style=\"text-align: right;\">  0.293432   </td></tr>\n",
       "<tr><td>train_mcdo_598cb62c</td><td style=\"text-align: right;\">     0.539975  </td><td style=\"text-align: right;\">  0.953886   </td></tr>\n",
       "<tr><td>train_mcdo_5a26abfe</td><td style=\"text-align: right;\">     0.528818  </td><td style=\"text-align: right;\">  0.275653   </td></tr>\n",
       "<tr><td>train_mcdo_5aa139b1</td><td style=\"text-align: right;\">     0.529435  </td><td style=\"text-align: right;\">  1.21286    </td></tr>\n",
       "<tr><td>train_mcdo_5aedbf1b</td><td style=\"text-align: right;\">     0.537143  </td><td style=\"text-align: right;\">  0.671169   </td></tr>\n",
       "<tr><td>train_mcdo_5cac1e57</td><td style=\"text-align: right;\">     0.533159  </td><td style=\"text-align: right;\">  0.517765   </td></tr>\n",
       "<tr><td>train_mcdo_5cf5fe3d</td><td style=\"text-align: right;\">     0.538967  </td><td style=\"text-align: right;\">  0.0886527  </td></tr>\n",
       "<tr><td>train_mcdo_5e478b78</td><td style=\"text-align: right;\">     0.0411436 </td><td style=\"text-align: right;\">  0.527269   </td></tr>\n",
       "<tr><td>train_mcdo_5f9288eb</td><td style=\"text-align: right;\">     0.0346156 </td><td style=\"text-align: right;\">  0.0560851  </td></tr>\n",
       "<tr><td>train_mcdo_5fa3af9b</td><td style=\"text-align: right;\">     0.538935  </td><td style=\"text-align: right;\">  0.474877   </td></tr>\n",
       "<tr><td>train_mcdo_5fd8c3b5</td><td style=\"text-align: right;\">     0.531386  </td><td style=\"text-align: right;\">  0.17658    </td></tr>\n",
       "<tr><td>train_mcdo_602ae9b2</td><td style=\"text-align: right;\">     0.530596  </td><td style=\"text-align: right;\">  0.502821   </td></tr>\n",
       "<tr><td>train_mcdo_60b31f93</td><td style=\"text-align: right;\">     0.529929  </td><td style=\"text-align: right;\">  0.514569   </td></tr>\n",
       "<tr><td>train_mcdo_60f6418c</td><td style=\"text-align: right;\">     0.531447  </td><td style=\"text-align: right;\">  1.0046     </td></tr>\n",
       "<tr><td>train_mcdo_61a43b6e</td><td style=\"text-align: right;\">     0.527922  </td><td style=\"text-align: right;\">  0.131583   </td></tr>\n",
       "<tr><td>train_mcdo_624f6c33</td><td style=\"text-align: right;\">     0.539037  </td><td style=\"text-align: right;\">  1.36441    </td></tr>\n",
       "<tr><td>train_mcdo_62cbf22a</td><td style=\"text-align: right;\">     0.529385  </td><td style=\"text-align: right;\">  0.648676   </td></tr>\n",
       "<tr><td>train_mcdo_634ca0a8</td><td style=\"text-align: right;\">     0.393362  </td><td style=\"text-align: right;\">  1.00184    </td></tr>\n",
       "<tr><td>train_mcdo_63973a60</td><td style=\"text-align: right;\">     0.538944  </td><td style=\"text-align: right;\">  0.207972   </td></tr>\n",
       "<tr><td>train_mcdo_63fac83b</td><td style=\"text-align: right;\">     2.06242   </td><td style=\"text-align: right;\">  5.52334    </td></tr>\n",
       "<tr><td>train_mcdo_63fdcc94</td><td style=\"text-align: right;\">     0.533095  </td><td style=\"text-align: right;\">  0.772992   </td></tr>\n",
       "<tr><td>train_mcdo_6500706d</td><td style=\"text-align: right;\">     0.524497  </td><td style=\"text-align: right;\">  0.326232   </td></tr>\n",
       "<tr><td>train_mcdo_650a6a38</td><td style=\"text-align: right;\">     0.53443   </td><td style=\"text-align: right;\">  0.702501   </td></tr>\n",
       "<tr><td>train_mcdo_656eb279</td><td style=\"text-align: right;\">     0.523712  </td><td style=\"text-align: right;\">  0.616236   </td></tr>\n",
       "<tr><td>train_mcdo_65807b47</td><td style=\"text-align: right;\">     0.531915  </td><td style=\"text-align: right;\">  0.561944   </td></tr>\n",
       "<tr><td>train_mcdo_660f1f11</td><td style=\"text-align: right;\">     0.538907  </td><td style=\"text-align: right;\">  0.281404   </td></tr>\n",
       "<tr><td>train_mcdo_663f6f13</td><td style=\"text-align: right;\">     0.529684  </td><td style=\"text-align: right;\">  0.492395   </td></tr>\n",
       "<tr><td>train_mcdo_66a24879</td><td style=\"text-align: right;\">     0.532383  </td><td style=\"text-align: right;\">  0.376177   </td></tr>\n",
       "<tr><td>train_mcdo_674df3af</td><td style=\"text-align: right;\">     0.527451  </td><td style=\"text-align: right;\">  0.491949   </td></tr>\n",
       "<tr><td>train_mcdo_6753af08</td><td style=\"text-align: right;\">     0.511732  </td><td style=\"text-align: right;\">  0.506091   </td></tr>\n",
       "<tr><td>train_mcdo_677ea612</td><td style=\"text-align: right;\">     0.539019  </td><td style=\"text-align: right;\">  0.585976   </td></tr>\n",
       "<tr><td>train_mcdo_67d5f5a3</td><td style=\"text-align: right;\">     0.535056  </td><td style=\"text-align: right;\">  0.532894   </td></tr>\n",
       "<tr><td>train_mcdo_67f1ff0b</td><td style=\"text-align: right;\">     0.520305  </td><td style=\"text-align: right;\">  0.568437   </td></tr>\n",
       "<tr><td>train_mcdo_684e5173</td><td style=\"text-align: right;\">     0.529242  </td><td style=\"text-align: right;\">  0.695367   </td></tr>\n",
       "<tr><td>train_mcdo_68b1404d</td><td style=\"text-align: right;\">     0.510029  </td><td style=\"text-align: right;\">  0.550085   </td></tr>\n",
       "<tr><td>train_mcdo_68e235cd</td><td style=\"text-align: right;\">     0.510649  </td><td style=\"text-align: right;\">  0.522068   </td></tr>\n",
       "<tr><td>train_mcdo_691c9685</td><td style=\"text-align: right;\">     0.524954  </td><td style=\"text-align: right;\">  0.650109   </td></tr>\n",
       "<tr><td>train_mcdo_69a35707</td><td style=\"text-align: right;\">     0.506283  </td><td style=\"text-align: right;\">  0.55795    </td></tr>\n",
       "<tr><td>train_mcdo_6a141880</td><td style=\"text-align: right;\">     0.538908  </td><td style=\"text-align: right;\">  0.37854    </td></tr>\n",
       "<tr><td>train_mcdo_6aecc7e8</td><td style=\"text-align: right;\">     0.524378  </td><td style=\"text-align: right;\">  0.213441   </td></tr>\n",
       "<tr><td>train_mcdo_6be8ad9c</td><td style=\"text-align: right;\">     0.538947  </td><td style=\"text-align: right;\">  0.467327   </td></tr>\n",
       "<tr><td>train_mcdo_6cb3ac73</td><td style=\"text-align: right;\">     0.538913  </td><td style=\"text-align: right;\">  1.00044    </td></tr>\n",
       "<tr><td>train_mcdo_6cb9d3e4</td><td style=\"text-align: right;\">     0.538321  </td><td style=\"text-align: right;\">  0.102312   </td></tr>\n",
       "<tr><td>train_mcdo_6eaec835</td><td style=\"text-align: right;\">     0.507726  </td><td style=\"text-align: right;\">  0.66565    </td></tr>\n",
       "<tr><td>train_mcdo_6ec0330c</td><td style=\"text-align: right;\">     0.538907  </td><td style=\"text-align: right;\">  0.675327   </td></tr>\n",
       "<tr><td>train_mcdo_6f3e55a4</td><td style=\"text-align: right;\">     0.537096  </td><td style=\"text-align: right;\">  0.727574   </td></tr>\n",
       "<tr><td>train_mcdo_6f8757f0</td><td style=\"text-align: right;\">     0.533609  </td><td style=\"text-align: right;\">  0.504004   </td></tr>\n",
       "<tr><td>train_mcdo_6f9fdbd3</td><td style=\"text-align: right;\">     0.535849  </td><td style=\"text-align: right;\">  0.625995   </td></tr>\n",
       "<tr><td>train_mcdo_709b98fc</td><td style=\"text-align: right;\">     0.538911  </td><td style=\"text-align: right;\">  0.704442   </td></tr>\n",
       "<tr><td>train_mcdo_70bbac6f</td><td style=\"text-align: right;\">     0.541563  </td><td style=\"text-align: right;\">  1.68182    </td></tr>\n",
       "<tr><td>train_mcdo_70c98bbb</td><td style=\"text-align: right;\">     0.492326  </td><td style=\"text-align: right;\">  0.20425    </td></tr>\n",
       "<tr><td>train_mcdo_7136a10d</td><td style=\"text-align: right;\">     0.535162  </td><td style=\"text-align: right;\">  0.835383   </td></tr>\n",
       "<tr><td>train_mcdo_7191014c</td><td style=\"text-align: right;\">     0.538953  </td><td style=\"text-align: right;\">  0.643758   </td></tr>\n",
       "<tr><td>train_mcdo_72a90a8b</td><td style=\"text-align: right;\">     0.538908  </td><td style=\"text-align: right;\">  0.035597   </td></tr>\n",
       "<tr><td>train_mcdo_735added</td><td style=\"text-align: right;\">     0.506051  </td><td style=\"text-align: right;\">  0.464003   </td></tr>\n",
       "<tr><td>train_mcdo_73c63676</td><td style=\"text-align: right;\">     0.531525  </td><td style=\"text-align: right;\">  0.301132   </td></tr>\n",
       "<tr><td>train_mcdo_741705d0</td><td style=\"text-align: right;\">     0.531605  </td><td style=\"text-align: right;\">  0.551518   </td></tr>\n",
       "<tr><td>train_mcdo_7425e603</td><td style=\"text-align: right;\">     0.538944  </td><td style=\"text-align: right;\">  0.516902   </td></tr>\n",
       "<tr><td>train_mcdo_74808b61</td><td style=\"text-align: right;\">     0.51847   </td><td style=\"text-align: right;\">  0.0441649  </td></tr>\n",
       "<tr><td>train_mcdo_7480c9e8</td><td style=\"text-align: right;\">     0.534864  </td><td style=\"text-align: right;\">  0.392886   </td></tr>\n",
       "<tr><td>train_mcdo_74e25820</td><td style=\"text-align: right;\">     0.366811  </td><td style=\"text-align: right;\">  0.454597   </td></tr>\n",
       "<tr><td>train_mcdo_76770dc0</td><td style=\"text-align: right;\">     0.529758  </td><td style=\"text-align: right;\">  0.843276   </td></tr>\n",
       "<tr><td>train_mcdo_7728fc8e</td><td style=\"text-align: right;\">     0.538907  </td><td style=\"text-align: right;\">  0.710029   </td></tr>\n",
       "<tr><td>train_mcdo_773d0373</td><td style=\"text-align: right;\">     0.526509  </td><td style=\"text-align: right;\">  0.386321   </td></tr>\n",
       "<tr><td>train_mcdo_782a8f9c</td><td style=\"text-align: right;\">     0.0106569 </td><td style=\"text-align: right;\">  0.00570207 </td></tr>\n",
       "<tr><td>train_mcdo_78609f4f</td><td style=\"text-align: right;\">     0.527482  </td><td style=\"text-align: right;\">  0.416312   </td></tr>\n",
       "<tr><td>train_mcdo_794ad7ed</td><td style=\"text-align: right;\">     0.500575  </td><td style=\"text-align: right;\">  0.432397   </td></tr>\n",
       "<tr><td>train_mcdo_79587dd7</td><td style=\"text-align: right;\">     0.517553  </td><td style=\"text-align: right;\">  0.396094   </td></tr>\n",
       "<tr><td>train_mcdo_7960c903</td><td style=\"text-align: right;\">     0.538527  </td><td style=\"text-align: right;\">  0.618463   </td></tr>\n",
       "<tr><td>train_mcdo_7978aa26</td><td style=\"text-align: right;\">     0.541181  </td><td style=\"text-align: right;\">  1.47976    </td></tr>\n",
       "<tr><td>train_mcdo_79a6f498</td><td style=\"text-align: right;\">     0.519871  </td><td style=\"text-align: right;\">  0.460697   </td></tr>\n",
       "<tr><td>train_mcdo_7a0e22a3</td><td style=\"text-align: right;\">     0.0282615 </td><td style=\"text-align: right;\">  0.121326   </td></tr>\n",
       "<tr><td>train_mcdo_7a14144f</td><td style=\"text-align: right;\">     0.535908  </td><td style=\"text-align: right;\">  0.528979   </td></tr>\n",
       "<tr><td>train_mcdo_7a239b49</td><td style=\"text-align: right;\">     0.535442  </td><td style=\"text-align: right;\">  0.398189   </td></tr>\n",
       "<tr><td>train_mcdo_7a7c3eba</td><td style=\"text-align: right;\">     0.504777  </td><td style=\"text-align: right;\">  0.619179   </td></tr>\n",
       "<tr><td>train_mcdo_7a9237ac</td><td style=\"text-align: right;\">     0.537981  </td><td style=\"text-align: right;\">  0.450874   </td></tr>\n",
       "<tr><td>train_mcdo_7aa48ac8</td><td style=\"text-align: right;\">     0.52326   </td><td style=\"text-align: right;\">  0.517546   </td></tr>\n",
       "<tr><td>train_mcdo_7c186fb2</td><td style=\"text-align: right;\">     0.518799  </td><td style=\"text-align: right;\">  0.681596   </td></tr>\n",
       "<tr><td>train_mcdo_7c651339</td><td style=\"text-align: right;\">     0.440307  </td><td style=\"text-align: right;\">  0.312873   </td></tr>\n",
       "<tr><td>train_mcdo_7c74819b</td><td style=\"text-align: right;\">     0.533149  </td><td style=\"text-align: right;\">  0.180261   </td></tr>\n",
       "<tr><td>train_mcdo_7c7e0be6</td><td style=\"text-align: right;\">     0.538907  </td><td style=\"text-align: right;\">  0.411804   </td></tr>\n",
       "<tr><td>train_mcdo_7cbe3c53</td><td style=\"text-align: right;\">     0.525537  </td><td style=\"text-align: right;\">  0.206501   </td></tr>\n",
       "<tr><td>train_mcdo_7d95d63e</td><td style=\"text-align: right;\">     0.538907  </td><td style=\"text-align: right;\">  0.524196   </td></tr>\n",
       "<tr><td>train_mcdo_7e9fd95e</td><td style=\"text-align: right;\">     0.525821  </td><td style=\"text-align: right;\">  0.596461   </td></tr>\n",
       "<tr><td>train_mcdo_7ec7de11</td><td style=\"text-align: right;\">     0.527194  </td><td style=\"text-align: right;\">  0.203588   </td></tr>\n",
       "<tr><td>train_mcdo_7f1fbc2e</td><td style=\"text-align: right;\">     0.538907  </td><td style=\"text-align: right;\">  0.443876   </td></tr>\n",
       "<tr><td>train_mcdo_7fb64f5d</td><td style=\"text-align: right;\">     0.536146  </td><td style=\"text-align: right;\">  0.554044   </td></tr>\n",
       "<tr><td>train_mcdo_7fe05413</td><td style=\"text-align: right;\">     0.536255  </td><td style=\"text-align: right;\">  0.749313   </td></tr>\n",
       "<tr><td>train_mcdo_808e4e0f</td><td style=\"text-align: right;\">     0.525638  </td><td style=\"text-align: right;\">  0.451061   </td></tr>\n",
       "<tr><td>train_mcdo_81df9fe2</td><td style=\"text-align: right;\">     0.532923  </td><td style=\"text-align: right;\">  0.444607   </td></tr>\n",
       "<tr><td>train_mcdo_829138eb</td><td style=\"text-align: right;\">     0.538907  </td><td style=\"text-align: right;\">  0.177736   </td></tr>\n",
       "<tr><td>train_mcdo_83c92371</td><td style=\"text-align: right;\">     0.531377  </td><td style=\"text-align: right;\">  0.869444   </td></tr>\n",
       "<tr><td>train_mcdo_83f776ef</td><td style=\"text-align: right;\">     0.532718  </td><td style=\"text-align: right;\">  0.73608    </td></tr>\n",
       "<tr><td>train_mcdo_85a7747c</td><td style=\"text-align: right;\">     0.516512  </td><td style=\"text-align: right;\">  0.657413   </td></tr>\n",
       "<tr><td>train_mcdo_85e9bf67</td><td style=\"text-align: right;\">     0.52983   </td><td style=\"text-align: right;\">  0.570071   </td></tr>\n",
       "<tr><td>train_mcdo_864780cb</td><td style=\"text-align: right;\">     0.527192  </td><td style=\"text-align: right;\">  0.649067   </td></tr>\n",
       "<tr><td>train_mcdo_86c2ca31</td><td style=\"text-align: right;\">     0.534945  </td><td style=\"text-align: right;\">  0.361949   </td></tr>\n",
       "<tr><td>train_mcdo_873605bf</td><td style=\"text-align: right;\">     0.518914  </td><td style=\"text-align: right;\">  0.313762   </td></tr>\n",
       "<tr><td>train_mcdo_87ae6ff7</td><td style=\"text-align: right;\">     0.528831  </td><td style=\"text-align: right;\">  0.696389   </td></tr>\n",
       "<tr><td>train_mcdo_883e358d</td><td style=\"text-align: right;\">     0.514717  </td><td style=\"text-align: right;\">  0.0772823  </td></tr>\n",
       "<tr><td>train_mcdo_89048f4c</td><td style=\"text-align: right;\">     0.533258  </td><td style=\"text-align: right;\">  0.490298   </td></tr>\n",
       "<tr><td>train_mcdo_8927a38b</td><td style=\"text-align: right;\">     0.531964  </td><td style=\"text-align: right;\">  0.484035   </td></tr>\n",
       "<tr><td>train_mcdo_894f6c37</td><td style=\"text-align: right;\">     0.530743  </td><td style=\"text-align: right;\">  0.580093   </td></tr>\n",
       "<tr><td>train_mcdo_89899636</td><td style=\"text-align: right;\">     0.547286  </td><td style=\"text-align: right;\">  5.83645    </td></tr>\n",
       "<tr><td>train_mcdo_89e51dea</td><td style=\"text-align: right;\">     0.530995  </td><td style=\"text-align: right;\">  0.669692   </td></tr>\n",
       "<tr><td>train_mcdo_8a6795c9</td><td style=\"text-align: right;\">     0.447713  </td><td style=\"text-align: right;\">  0.812137   </td></tr>\n",
       "<tr><td>train_mcdo_8b0ffa28</td><td style=\"text-align: right;\">     0.549214  </td><td style=\"text-align: right;\">  0.418599   </td></tr>\n",
       "<tr><td>train_mcdo_8c4fcc37</td><td style=\"text-align: right;\">     0.516819  </td><td style=\"text-align: right;\">  0.885974   </td></tr>\n",
       "<tr><td>train_mcdo_8cd84511</td><td style=\"text-align: right;\">     0.508027  </td><td style=\"text-align: right;\">  0.286314   </td></tr>\n",
       "<tr><td>train_mcdo_8d314827</td><td style=\"text-align: right;\">     0.499751  </td><td style=\"text-align: right;\">  0.564819   </td></tr>\n",
       "<tr><td>train_mcdo_8d88cd73</td><td style=\"text-align: right;\">     0.532025  </td><td style=\"text-align: right;\">  0.211047   </td></tr>\n",
       "<tr><td>train_mcdo_8e4637a7</td><td style=\"text-align: right;\">     0.525133  </td><td style=\"text-align: right;\">  0.377368   </td></tr>\n",
       "<tr><td>train_mcdo_8f01c354</td><td style=\"text-align: right;\">     0.536859  </td><td style=\"text-align: right;\">  0.597356   </td></tr>\n",
       "<tr><td>train_mcdo_8fe6cf9e</td><td style=\"text-align: right;\">     0.522576  </td><td style=\"text-align: right;\">  0.463936   </td></tr>\n",
       "<tr><td>train_mcdo_90a463c1</td><td style=\"text-align: right;\">     0.538952  </td><td style=\"text-align: right;\">  0.479505   </td></tr>\n",
       "<tr><td>train_mcdo_91968553</td><td style=\"text-align: right;\">     0.52027   </td><td style=\"text-align: right;\">  0.25893    </td></tr>\n",
       "<tr><td>train_mcdo_91e84ac3</td><td style=\"text-align: right;\">     0.531338  </td><td style=\"text-align: right;\">  0.131595   </td></tr>\n",
       "<tr><td>train_mcdo_921db4c5</td><td style=\"text-align: right;\">     0.534352  </td><td style=\"text-align: right;\">  0.526237   </td></tr>\n",
       "<tr><td>train_mcdo_92ab2546</td><td style=\"text-align: right;\">     0.533276  </td><td style=\"text-align: right;\">  0.586745   </td></tr>\n",
       "<tr><td>train_mcdo_92ccbf83</td><td style=\"text-align: right;\">     0.535531  </td><td style=\"text-align: right;\">  0.473626   </td></tr>\n",
       "<tr><td>train_mcdo_93efe0b7</td><td style=\"text-align: right;\">     0.528286  </td><td style=\"text-align: right;\">  0.45582    </td></tr>\n",
       "<tr><td>train_mcdo_943a0bc0</td><td style=\"text-align: right;\">     0.53165   </td><td style=\"text-align: right;\">  0.510476   </td></tr>\n",
       "<tr><td>train_mcdo_95093f42</td><td style=\"text-align: right;\">     0.528308  </td><td style=\"text-align: right;\">  0.029605   </td></tr>\n",
       "<tr><td>train_mcdo_9588b055</td><td style=\"text-align: right;\">     0.529822  </td><td style=\"text-align: right;\">  0.732501   </td></tr>\n",
       "<tr><td>train_mcdo_96f043de</td><td style=\"text-align: right;\">     0.528914  </td><td style=\"text-align: right;\">  0.545331   </td></tr>\n",
       "<tr><td>train_mcdo_97edf5ae</td><td style=\"text-align: right;\">     0.523461  </td><td style=\"text-align: right;\">  0.677672   </td></tr>\n",
       "<tr><td>train_mcdo_987375de</td><td style=\"text-align: right;\">     0.530709  </td><td style=\"text-align: right;\">  0.872054   </td></tr>\n",
       "<tr><td>train_mcdo_9894c2d4</td><td style=\"text-align: right;\">     0.548442  </td><td style=\"text-align: right;\">  0.472313   </td></tr>\n",
       "<tr><td>train_mcdo_98ad2a03</td><td style=\"text-align: right;\">     0.539204  </td><td style=\"text-align: right;\">  0.730937   </td></tr>\n",
       "<tr><td>train_mcdo_998d5dd1</td><td style=\"text-align: right;\">     0.531788  </td><td style=\"text-align: right;\">  0.567303   </td></tr>\n",
       "<tr><td>train_mcdo_99d4415e</td><td style=\"text-align: right;\">     0.527069  </td><td style=\"text-align: right;\">  0.547932   </td></tr>\n",
       "<tr><td>train_mcdo_9a57f3aa</td><td style=\"text-align: right;\">     0.503612  </td><td style=\"text-align: right;\">  0.541436   </td></tr>\n",
       "<tr><td>train_mcdo_9a64a100</td><td style=\"text-align: right;\">     0.533222  </td><td style=\"text-align: right;\">  0.508861   </td></tr>\n",
       "<tr><td>train_mcdo_9aa129d6</td><td style=\"text-align: right;\">     0.533222  </td><td style=\"text-align: right;\">  0.416105   </td></tr>\n",
       "<tr><td>train_mcdo_9b969ce6</td><td style=\"text-align: right;\">     0.529157  </td><td style=\"text-align: right;\">  0.428432   </td></tr>\n",
       "<tr><td>train_mcdo_9e774b62</td><td style=\"text-align: right;\">     0.519852  </td><td style=\"text-align: right;\">  0.457316   </td></tr>\n",
       "<tr><td>train_mcdo_9ef7e1da</td><td style=\"text-align: right;\">     0.478376  </td><td style=\"text-align: right;\">  0.895061   </td></tr>\n",
       "<tr><td>train_mcdo_9f4f88d2</td><td style=\"text-align: right;\">     0.521473  </td><td style=\"text-align: right;\">  0.675167   </td></tr>\n",
       "<tr><td>train_mcdo_9f6a6801</td><td style=\"text-align: right;\">     0.535042  </td><td style=\"text-align: right;\">  0.44202    </td></tr>\n",
       "<tr><td>train_mcdo_a03784ba</td><td style=\"text-align: right;\">     0.529557  </td><td style=\"text-align: right;\">  0.405537   </td></tr>\n",
       "<tr><td>train_mcdo_a22637e3</td><td style=\"text-align: right;\">     0.505329  </td><td style=\"text-align: right;\">  0.586686   </td></tr>\n",
       "<tr><td>train_mcdo_a259aad8</td><td style=\"text-align: right;\">     0.535484  </td><td style=\"text-align: right;\">  0.181364   </td></tr>\n",
       "<tr><td>train_mcdo_a276a47f</td><td style=\"text-align: right;\">     0.538911  </td><td style=\"text-align: right;\">  0.463919   </td></tr>\n",
       "<tr><td>train_mcdo_a28435ab</td><td style=\"text-align: right;\">     0.534732  </td><td style=\"text-align: right;\">  0.50359    </td></tr>\n",
       "<tr><td>train_mcdo_a2d80f07</td><td style=\"text-align: right;\">     0.540638  </td><td style=\"text-align: right;\">  0.61881    </td></tr>\n",
       "<tr><td>train_mcdo_a35e36a7</td><td style=\"text-align: right;\">     0.525712  </td><td style=\"text-align: right;\">  0.437826   </td></tr>\n",
       "<tr><td>train_mcdo_a39857e6</td><td style=\"text-align: right;\">     0.530216  </td><td style=\"text-align: right;\">  0.638219   </td></tr>\n",
       "<tr><td>train_mcdo_a3f3cdbd</td><td style=\"text-align: right;\">     0.536166  </td><td style=\"text-align: right;\">  0.319361   </td></tr>\n",
       "<tr><td>train_mcdo_a44f11b6</td><td style=\"text-align: right;\">     0.551906  </td><td style=\"text-align: right;\">  0.485336   </td></tr>\n",
       "<tr><td>train_mcdo_a55684cd</td><td style=\"text-align: right;\">     0.500966  </td><td style=\"text-align: right;\">  0.571666   </td></tr>\n",
       "<tr><td>train_mcdo_a7375372</td><td style=\"text-align: right;\">     0.524847  </td><td style=\"text-align: right;\">  0.824373   </td></tr>\n",
       "<tr><td>train_mcdo_a73da3bc</td><td style=\"text-align: right;\">     0.036692  </td><td style=\"text-align: right;\">  0.464589   </td></tr>\n",
       "<tr><td>train_mcdo_a74ba890</td><td style=\"text-align: right;\">     0.528759  </td><td style=\"text-align: right;\">  0.575029   </td></tr>\n",
       "<tr><td>train_mcdo_a78d8cc2</td><td style=\"text-align: right;\">     0.534916  </td><td style=\"text-align: right;\">  0.385044   </td></tr>\n",
       "<tr><td>train_mcdo_a7da9006</td><td style=\"text-align: right;\">     0.523017  </td><td style=\"text-align: right;\">  0.418847   </td></tr>\n",
       "<tr><td>train_mcdo_a7e0108f</td><td style=\"text-align: right;\">     0.541923  </td><td style=\"text-align: right;\"> 13.7251     </td></tr>\n",
       "<tr><td>train_mcdo_a83ed261</td><td style=\"text-align: right;\">     0.00973286</td><td style=\"text-align: right;\">  0.0962045  </td></tr>\n",
       "<tr><td>train_mcdo_a872aa94</td><td style=\"text-align: right;\">     0.532795  </td><td style=\"text-align: right;\">  0.294436   </td></tr>\n",
       "<tr><td>train_mcdo_a95ada94</td><td style=\"text-align: right;\">     0.501363  </td><td style=\"text-align: right;\">  0.346069   </td></tr>\n",
       "<tr><td>train_mcdo_a9c1d3ff</td><td style=\"text-align: right;\">     0.529972  </td><td style=\"text-align: right;\">  0.346696   </td></tr>\n",
       "<tr><td>train_mcdo_aa33f6f8</td><td style=\"text-align: right;\">     0.513993  </td><td style=\"text-align: right;\">  0.477228   </td></tr>\n",
       "<tr><td>train_mcdo_aa49d559</td><td style=\"text-align: right;\">     0.520221  </td><td style=\"text-align: right;\">  0.310298   </td></tr>\n",
       "<tr><td>train_mcdo_aa608d20</td><td style=\"text-align: right;\">     0.505742  </td><td style=\"text-align: right;\">  0.596304   </td></tr>\n",
       "<tr><td>train_mcdo_aa9bedfe</td><td style=\"text-align: right;\">     0.533635  </td><td style=\"text-align: right;\">  0.117416   </td></tr>\n",
       "<tr><td>train_mcdo_aadbc564</td><td style=\"text-align: right;\">     0.529008  </td><td style=\"text-align: right;\">  0.238552   </td></tr>\n",
       "<tr><td>train_mcdo_aafe3778</td><td style=\"text-align: right;\">     0.501638  </td><td style=\"text-align: right;\">  0.597838   </td></tr>\n",
       "<tr><td>train_mcdo_ab631cf3</td><td style=\"text-align: right;\">     0.513582  </td><td style=\"text-align: right;\">  0.14238    </td></tr>\n",
       "<tr><td>train_mcdo_ab708aad</td><td style=\"text-align: right;\">     0.710999  </td><td style=\"text-align: right;\">  1.3585     </td></tr>\n",
       "<tr><td>train_mcdo_ab80c8fc</td><td style=\"text-align: right;\">     0.534782  </td><td style=\"text-align: right;\">  0.328974   </td></tr>\n",
       "<tr><td>train_mcdo_abb19048</td><td style=\"text-align: right;\">     0.541073  </td><td style=\"text-align: right;\"> 52.1103     </td></tr>\n",
       "<tr><td>train_mcdo_abe27052</td><td style=\"text-align: right;\">     0.467563  </td><td style=\"text-align: right;\">  0.264033   </td></tr>\n",
       "<tr><td>train_mcdo_abfb3ba1</td><td style=\"text-align: right;\">     0.537744  </td><td style=\"text-align: right;\">  0.720071   </td></tr>\n",
       "<tr><td>train_mcdo_ac8c5c30</td><td style=\"text-align: right;\">     0.538908  </td><td style=\"text-align: right;\">  0.197705   </td></tr>\n",
       "<tr><td>train_mcdo_ac943f9c</td><td style=\"text-align: right;\">     0.530948  </td><td style=\"text-align: right;\">  0.503165   </td></tr>\n",
       "<tr><td>train_mcdo_acddd531</td><td style=\"text-align: right;\">     0.501438  </td><td style=\"text-align: right;\">  0.0676815  </td></tr>\n",
       "<tr><td>train_mcdo_ad5ec0d7</td><td style=\"text-align: right;\">     0.53033   </td><td style=\"text-align: right;\">  0.475853   </td></tr>\n",
       "<tr><td>train_mcdo_aef1edb9</td><td style=\"text-align: right;\">     0.530779  </td><td style=\"text-align: right;\">  0.639018   </td></tr>\n",
       "<tr><td>train_mcdo_af70ae01</td><td style=\"text-align: right;\">     0.501421  </td><td style=\"text-align: right;\">  0.639485   </td></tr>\n",
       "<tr><td>train_mcdo_b07deb59</td><td style=\"text-align: right;\">     0.538964  </td><td style=\"text-align: right;\">  0.315281   </td></tr>\n",
       "<tr><td>train_mcdo_b0df2d29</td><td style=\"text-align: right;\">     0.626984  </td><td style=\"text-align: right;\">  0.577548   </td></tr>\n",
       "<tr><td>train_mcdo_b0eb1a52</td><td style=\"text-align: right;\">     0.51593   </td><td style=\"text-align: right;\">  0.453084   </td></tr>\n",
       "<tr><td>train_mcdo_b221de87</td><td style=\"text-align: right;\">     0.533942  </td><td style=\"text-align: right;\">  0.674527   </td></tr>\n",
       "<tr><td>train_mcdo_b22cc8c5</td><td style=\"text-align: right;\">     0.53212   </td><td style=\"text-align: right;\">  0.655731   </td></tr>\n",
       "<tr><td>train_mcdo_b45634da</td><td style=\"text-align: right;\">     0.534599  </td><td style=\"text-align: right;\">  0.540309   </td></tr>\n",
       "<tr><td>train_mcdo_b45702e6</td><td style=\"text-align: right;\">     0.694042  </td><td style=\"text-align: right;\">  0.795105   </td></tr>\n",
       "<tr><td>train_mcdo_b5524a11</td><td style=\"text-align: right;\">     0.538873  </td><td style=\"text-align: right;\">  0.522133   </td></tr>\n",
       "<tr><td>train_mcdo_b573ee69</td><td style=\"text-align: right;\">     0.533359  </td><td style=\"text-align: right;\">  0.556969   </td></tr>\n",
       "<tr><td>train_mcdo_b582cb0f</td><td style=\"text-align: right;\">     0.553467  </td><td style=\"text-align: right;\">  0.838118   </td></tr>\n",
       "<tr><td>train_mcdo_b5a54b14</td><td style=\"text-align: right;\">     0.513426  </td><td style=\"text-align: right;\">  0.608806   </td></tr>\n",
       "<tr><td>train_mcdo_b5bff474</td><td style=\"text-align: right;\">     0.538907  </td><td style=\"text-align: right;\">  0.205365   </td></tr>\n",
       "<tr><td>train_mcdo_b646a14c</td><td style=\"text-align: right;\">     0.516107  </td><td style=\"text-align: right;\">  0.822476   </td></tr>\n",
       "<tr><td>train_mcdo_b718bcb8</td><td style=\"text-align: right;\">     0.520555  </td><td style=\"text-align: right;\">  0.444216   </td></tr>\n",
       "<tr><td>train_mcdo_b7820864</td><td style=\"text-align: right;\">     0.538909  </td><td style=\"text-align: right;\">  0.689413   </td></tr>\n",
       "<tr><td>train_mcdo_b7ad534d</td><td style=\"text-align: right;\">     0.538907  </td><td style=\"text-align: right;\">  0.386215   </td></tr>\n",
       "<tr><td>train_mcdo_b85acc5f</td><td style=\"text-align: right;\">     0.536043  </td><td style=\"text-align: right;\">  0.594337   </td></tr>\n",
       "<tr><td>train_mcdo_b8648fdd</td><td style=\"text-align: right;\">     0.541111  </td><td style=\"text-align: right;\">  3.30064    </td></tr>\n",
       "<tr><td>train_mcdo_b8e947a7</td><td style=\"text-align: right;\">     0.538924  </td><td style=\"text-align: right;\">  0.819868   </td></tr>\n",
       "<tr><td>train_mcdo_b8ec0464</td><td style=\"text-align: right;\">     0.529194  </td><td style=\"text-align: right;\">  0.0829563  </td></tr>\n",
       "<tr><td>train_mcdo_b9529a5e</td><td style=\"text-align: right;\">     0.517448  </td><td style=\"text-align: right;\">  0.383179   </td></tr>\n",
       "<tr><td>train_mcdo_b9846f33</td><td style=\"text-align: right;\">     0.52438   </td><td style=\"text-align: right;\">  0.965814   </td></tr>\n",
       "<tr><td>train_mcdo_ba23dd85</td><td style=\"text-align: right;\">     0.535371  </td><td style=\"text-align: right;\">  0.363777   </td></tr>\n",
       "<tr><td>train_mcdo_baf87ad9</td><td style=\"text-align: right;\">     0.519289  </td><td style=\"text-align: right;\">  0.722848   </td></tr>\n",
       "<tr><td>train_mcdo_bbb655e4</td><td style=\"text-align: right;\">     0.576469  </td><td style=\"text-align: right;\"> 21.0233     </td></tr>\n",
       "<tr><td>train_mcdo_bbc2498a</td><td style=\"text-align: right;\">     0.538942  </td><td style=\"text-align: right;\">  0.331495   </td></tr>\n",
       "<tr><td>train_mcdo_bc54ea81</td><td style=\"text-align: right;\">     0.523202  </td><td style=\"text-align: right;\">  0.500402   </td></tr>\n",
       "<tr><td>train_mcdo_bea0c2cf</td><td style=\"text-align: right;\">     0.525079  </td><td style=\"text-align: right;\">  0.535844   </td></tr>\n",
       "<tr><td>train_mcdo_beece488</td><td style=\"text-align: right;\">     0.536451  </td><td style=\"text-align: right;\">  0.504099   </td></tr>\n",
       "<tr><td>train_mcdo_bf5e3f4f</td><td style=\"text-align: right;\">     0.526023  </td><td style=\"text-align: right;\">  0.413928   </td></tr>\n",
       "<tr><td>train_mcdo_bf759d42</td><td style=\"text-align: right;\">     0.521122  </td><td style=\"text-align: right;\">  0.681411   </td></tr>\n",
       "<tr><td>train_mcdo_bf88812f</td><td style=\"text-align: right;\">     0.540393  </td><td style=\"text-align: right;\">  0.976051   </td></tr>\n",
       "<tr><td>train_mcdo_c04a2fe3</td><td style=\"text-align: right;\">     0.534864  </td><td style=\"text-align: right;\">  4.4554     </td></tr>\n",
       "<tr><td>train_mcdo_c274566b</td><td style=\"text-align: right;\">     0.538911  </td><td style=\"text-align: right;\">  0.616582   </td></tr>\n",
       "<tr><td>train_mcdo_c287acd3</td><td style=\"text-align: right;\">     0.538911  </td><td style=\"text-align: right;\">  0.497291   </td></tr>\n",
       "<tr><td>train_mcdo_c36056bd</td><td style=\"text-align: right;\">     0.538912  </td><td style=\"text-align: right;\">  0.00335511 </td></tr>\n",
       "<tr><td>train_mcdo_c38d3689</td><td style=\"text-align: right;\">     0.0644309 </td><td style=\"text-align: right;\">  1.12102    </td></tr>\n",
       "<tr><td>train_mcdo_c394d391</td><td style=\"text-align: right;\">     0.0365804 </td><td style=\"text-align: right;\">  1.30406    </td></tr>\n",
       "<tr><td>train_mcdo_c3aa454c</td><td style=\"text-align: right;\">     0.0112831 </td><td style=\"text-align: right;\">  0.0325398  </td></tr>\n",
       "<tr><td>train_mcdo_c3f8b84b</td><td style=\"text-align: right;\">     0.544533  </td><td style=\"text-align: right;\">  0.714154   </td></tr>\n",
       "<tr><td>train_mcdo_c4a17ca4</td><td style=\"text-align: right;\">     0.538915  </td><td style=\"text-align: right;\">  0.383222   </td></tr>\n",
       "<tr><td>train_mcdo_c4a5ca42</td><td style=\"text-align: right;\">     0.518321  </td><td style=\"text-align: right;\">  0.836343   </td></tr>\n",
       "<tr><td>train_mcdo_c4ecc603</td><td style=\"text-align: right;\">     0.539302  </td><td style=\"text-align: right;\">  0.202211   </td></tr>\n",
       "<tr><td>train_mcdo_c50f7f50</td><td style=\"text-align: right;\">     0.52899   </td><td style=\"text-align: right;\">  0.654015   </td></tr>\n",
       "<tr><td>train_mcdo_c55e6752</td><td style=\"text-align: right;\">     0.538907  </td><td style=\"text-align: right;\">  0.77339    </td></tr>\n",
       "<tr><td>train_mcdo_c57a0bd1</td><td style=\"text-align: right;\">     0.535978  </td><td style=\"text-align: right;\">  0.486148   </td></tr>\n",
       "<tr><td>train_mcdo_c69442d3</td><td style=\"text-align: right;\">     0.524636  </td><td style=\"text-align: right;\">  0.255448   </td></tr>\n",
       "<tr><td>train_mcdo_c7cf748e</td><td style=\"text-align: right;\">     0.538908  </td><td style=\"text-align: right;\">  1.01055    </td></tr>\n",
       "<tr><td>train_mcdo_c905fa3b</td><td style=\"text-align: right;\">     0.538909  </td><td style=\"text-align: right;\">  1.06207    </td></tr>\n",
       "<tr><td>train_mcdo_c9ce1fba</td><td style=\"text-align: right;\">     0.529345  </td><td style=\"text-align: right;\">  0.768097   </td></tr>\n",
       "<tr><td>train_mcdo_cabbb4f5</td><td style=\"text-align: right;\">     0.529668  </td><td style=\"text-align: right;\">  0.872449   </td></tr>\n",
       "<tr><td>train_mcdo_caefd1d2</td><td style=\"text-align: right;\">     0.494338  </td><td style=\"text-align: right;\">  0.284597   </td></tr>\n",
       "<tr><td>train_mcdo_cb02c9ed</td><td style=\"text-align: right;\">     0.528269  </td><td style=\"text-align: right;\">  0.339917   </td></tr>\n",
       "<tr><td>train_mcdo_cc633c03</td><td style=\"text-align: right;\">     0.535002  </td><td style=\"text-align: right;\">  0.713436   </td></tr>\n",
       "<tr><td>train_mcdo_ccc06977</td><td style=\"text-align: right;\">     0.538966  </td><td style=\"text-align: right;\">  0.5368     </td></tr>\n",
       "<tr><td>train_mcdo_cd2463df</td><td style=\"text-align: right;\">     0.539209  </td><td style=\"text-align: right;\">  0.203303   </td></tr>\n",
       "<tr><td>train_mcdo_ce29f71b</td><td style=\"text-align: right;\">     0.535428  </td><td style=\"text-align: right;\">  0.429695   </td></tr>\n",
       "<tr><td>train_mcdo_ce4bb368</td><td style=\"text-align: right;\">     0.536304  </td><td style=\"text-align: right;\">  0.3891     </td></tr>\n",
       "<tr><td>train_mcdo_cf76b856</td><td style=\"text-align: right;\">     0.538981  </td><td style=\"text-align: right;\">  6.53196    </td></tr>\n",
       "<tr><td>train_mcdo_cfb52439</td><td style=\"text-align: right;\">     0.528815  </td><td style=\"text-align: right;\">  0.414536   </td></tr>\n",
       "<tr><td>train_mcdo_d0910ef7</td><td style=\"text-align: right;\">     0.536333  </td><td style=\"text-align: right;\">  0.499852   </td></tr>\n",
       "<tr><td>train_mcdo_d0b8e7a7</td><td style=\"text-align: right;\">     0.51151   </td><td style=\"text-align: right;\">  0.5226     </td></tr>\n",
       "<tr><td>train_mcdo_d1445db4</td><td style=\"text-align: right;\">     0.033364  </td><td style=\"text-align: right;\">  0.0019352  </td></tr>\n",
       "<tr><td>train_mcdo_d14b12f4</td><td style=\"text-align: right;\">     0.519845  </td><td style=\"text-align: right;\">  0.47773    </td></tr>\n",
       "<tr><td>train_mcdo_d16aaf08</td><td style=\"text-align: right;\">     0.536537  </td><td style=\"text-align: right;\">  0.555299   </td></tr>\n",
       "<tr><td>train_mcdo_d183ceaa</td><td style=\"text-align: right;\">     0.52155   </td><td style=\"text-align: right;\">  0.47841    </td></tr>\n",
       "<tr><td>train_mcdo_d1db3f85</td><td style=\"text-align: right;\">     0.536527  </td><td style=\"text-align: right;\">  0.579089   </td></tr>\n",
       "<tr><td>train_mcdo_d26f6804</td><td style=\"text-align: right;\">     0.530434  </td><td style=\"text-align: right;\">  0.604431   </td></tr>\n",
       "<tr><td>train_mcdo_d3a75666</td><td style=\"text-align: right;\">     0.538942  </td><td style=\"text-align: right;\">  1.5592     </td></tr>\n",
       "<tr><td>train_mcdo_d42dcd35</td><td style=\"text-align: right;\">     0.527061  </td><td style=\"text-align: right;\">  0.801676   </td></tr>\n",
       "<tr><td>train_mcdo_d4e74b9b</td><td style=\"text-align: right;\">     0.52292   </td><td style=\"text-align: right;\">  0.631301   </td></tr>\n",
       "<tr><td>train_mcdo_d5837dc0</td><td style=\"text-align: right;\">     0.501739  </td><td style=\"text-align: right;\">  0.317497   </td></tr>\n",
       "<tr><td>train_mcdo_d7145192</td><td style=\"text-align: right;\">     0.519753  </td><td style=\"text-align: right;\">  8.96203    </td></tr>\n",
       "<tr><td>train_mcdo_d755e194</td><td style=\"text-align: right;\">     0.526091  </td><td style=\"text-align: right;\">  0.236678   </td></tr>\n",
       "<tr><td>train_mcdo_d7f9efd0</td><td style=\"text-align: right;\">     0.536903  </td><td style=\"text-align: right;\">  0.184532   </td></tr>\n",
       "<tr><td>train_mcdo_d86988fb</td><td style=\"text-align: right;\">     0.53198   </td><td style=\"text-align: right;\">  0.57978    </td></tr>\n",
       "<tr><td>train_mcdo_d8789475</td><td style=\"text-align: right;\">     0.539459  </td><td style=\"text-align: right;\">  4.32868    </td></tr>\n",
       "<tr><td>train_mcdo_d89b03ef</td><td style=\"text-align: right;\">     0.525398  </td><td style=\"text-align: right;\">  0.484432   </td></tr>\n",
       "<tr><td>train_mcdo_d952bb83</td><td style=\"text-align: right;\">     0.530803  </td><td style=\"text-align: right;\">  0.485305   </td></tr>\n",
       "<tr><td>train_mcdo_d9af78ec</td><td style=\"text-align: right;\">     0.537801  </td><td style=\"text-align: right;\">  0.690254   </td></tr>\n",
       "<tr><td>train_mcdo_d9b08b4e</td><td style=\"text-align: right;\">     0.535276  </td><td style=\"text-align: right;\">  0.581293   </td></tr>\n",
       "<tr><td>train_mcdo_dac7ea37</td><td style=\"text-align: right;\">     0.529393  </td><td style=\"text-align: right;\">  0.570467   </td></tr>\n",
       "<tr><td>train_mcdo_db5e8071</td><td style=\"text-align: right;\">     0.540018  </td><td style=\"text-align: right;\">  0.36373    </td></tr>\n",
       "<tr><td>train_mcdo_db826fde</td><td style=\"text-align: right;\">     0.376357  </td><td style=\"text-align: right;\">  1.13598    </td></tr>\n",
       "<tr><td>train_mcdo_dca90e32</td><td style=\"text-align: right;\">     0.537017  </td><td style=\"text-align: right;\">  0.430319   </td></tr>\n",
       "<tr><td>train_mcdo_dd82ac12</td><td style=\"text-align: right;\">     0.518036  </td><td style=\"text-align: right;\">  0.424156   </td></tr>\n",
       "<tr><td>train_mcdo_de1bd3a3</td><td style=\"text-align: right;\">     0.401724  </td><td style=\"text-align: right;\">  0.405447   </td></tr>\n",
       "<tr><td>train_mcdo_de1f6075</td><td style=\"text-align: right;\">     0.538631  </td><td style=\"text-align: right;\">  0.477521   </td></tr>\n",
       "<tr><td>train_mcdo_dea89fae</td><td style=\"text-align: right;\">     0.539534  </td><td style=\"text-align: right;\">  0.489265   </td></tr>\n",
       "<tr><td>train_mcdo_def0cab2</td><td style=\"text-align: right;\">     0.523362  </td><td style=\"text-align: right;\">  0.0806794  </td></tr>\n",
       "<tr><td>train_mcdo_df289679</td><td style=\"text-align: right;\">     0.516108  </td><td style=\"text-align: right;\">  0.689652   </td></tr>\n",
       "<tr><td>train_mcdo_df77501d</td><td style=\"text-align: right;\">     0.538418  </td><td style=\"text-align: right;\">  0.192875   </td></tr>\n",
       "<tr><td>train_mcdo_dfcd2b8d</td><td style=\"text-align: right;\">     0.539552  </td><td style=\"text-align: right;\">  0.404577   </td></tr>\n",
       "<tr><td>train_mcdo_e0ae3293</td><td style=\"text-align: right;\">     0.533006  </td><td style=\"text-align: right;\">  0.458775   </td></tr>\n",
       "<tr><td>train_mcdo_e0beb724</td><td style=\"text-align: right;\">     0.539155  </td><td style=\"text-align: right;\">  8.98646    </td></tr>\n",
       "<tr><td>train_mcdo_e0dabbc7</td><td style=\"text-align: right;\">     0.538942  </td><td style=\"text-align: right;\">  0.35177    </td></tr>\n",
       "<tr><td>train_mcdo_e16382b0</td><td style=\"text-align: right;\">     0.539765  </td><td style=\"text-align: right;\">  0.605514   </td></tr>\n",
       "<tr><td>train_mcdo_e19a1f14</td><td style=\"text-align: right;\">     0.529008  </td><td style=\"text-align: right;\">  0.510755   </td></tr>\n",
       "<tr><td>train_mcdo_e1f9b4ed</td><td style=\"text-align: right;\">     0.535644  </td><td style=\"text-align: right;\">  0.518875   </td></tr>\n",
       "<tr><td>train_mcdo_e24d6c6a</td><td style=\"text-align: right;\">     0.527188  </td><td style=\"text-align: right;\">  0.0739178  </td></tr>\n",
       "<tr><td>train_mcdo_e2a0dcfe</td><td style=\"text-align: right;\">     0.538909  </td><td style=\"text-align: right;\">  0.62322    </td></tr>\n",
       "<tr><td>train_mcdo_e303f0f2</td><td style=\"text-align: right;\">     0.509762  </td><td style=\"text-align: right;\">  1.37117    </td></tr>\n",
       "<tr><td>train_mcdo_e3125a57</td><td style=\"text-align: right;\">     0.538913  </td><td style=\"text-align: right;\">  0.3746     </td></tr>\n",
       "<tr><td>train_mcdo_e33b448f</td><td style=\"text-align: right;\">     0.538053  </td><td style=\"text-align: right;\">  0.521008   </td></tr>\n",
       "<tr><td>train_mcdo_e3ea8548</td><td style=\"text-align: right;\">     0.546816  </td><td style=\"text-align: right;\">  3.1435     </td></tr>\n",
       "<tr><td>train_mcdo_e4a656af</td><td style=\"text-align: right;\">     0.0570115 </td><td style=\"text-align: right;\">  0.604815   </td></tr>\n",
       "<tr><td>train_mcdo_e4d3db9b</td><td style=\"text-align: right;\">     0.538907  </td><td style=\"text-align: right;\">  0.41445    </td></tr>\n",
       "<tr><td>train_mcdo_e56c2cfe</td><td style=\"text-align: right;\">     0.529438  </td><td style=\"text-align: right;\">  0.524022   </td></tr>\n",
       "<tr><td>train_mcdo_e61a8a40</td><td style=\"text-align: right;\">     0.538914  </td><td style=\"text-align: right;\">  0.629816   </td></tr>\n",
       "<tr><td>train_mcdo_e6d1baa3</td><td style=\"text-align: right;\">     0.525508  </td><td style=\"text-align: right;\">  0.514446   </td></tr>\n",
       "<tr><td>train_mcdo_e7f5e3d1</td><td style=\"text-align: right;\">     0.516961  </td><td style=\"text-align: right;\">  0.720099   </td></tr>\n",
       "<tr><td>train_mcdo_e9111841</td><td style=\"text-align: right;\">     0.519938  </td><td style=\"text-align: right;\">  0.816243   </td></tr>\n",
       "<tr><td>train_mcdo_e934cf9c</td><td style=\"text-align: right;\">     0.525722  </td><td style=\"text-align: right;\">  0.0327536  </td></tr>\n",
       "<tr><td>train_mcdo_e99c0d39</td><td style=\"text-align: right;\">     0.511014  </td><td style=\"text-align: right;\">  0.763817   </td></tr>\n",
       "<tr><td>train_mcdo_ea0da2da</td><td style=\"text-align: right;\">     0.532191  </td><td style=\"text-align: right;\">  0.344387   </td></tr>\n",
       "<tr><td>train_mcdo_ead9274a</td><td style=\"text-align: right;\">     0.539989  </td><td style=\"text-align: right;\">  0.263045   </td></tr>\n",
       "<tr><td>train_mcdo_ed697216</td><td style=\"text-align: right;\">     0.536591  </td><td style=\"text-align: right;\">  0.171768   </td></tr>\n",
       "<tr><td>train_mcdo_edcd5539</td><td style=\"text-align: right;\">     0.534363  </td><td style=\"text-align: right;\">  0.332951   </td></tr>\n",
       "<tr><td>train_mcdo_ee2331e6</td><td style=\"text-align: right;\">     0.537643  </td><td style=\"text-align: right;\">  0.184731   </td></tr>\n",
       "<tr><td>train_mcdo_ef00d71e</td><td style=\"text-align: right;\">     0.524509  </td><td style=\"text-align: right;\">  0.427359   </td></tr>\n",
       "<tr><td>train_mcdo_ef7c011a</td><td style=\"text-align: right;\">     0.535882  </td><td style=\"text-align: right;\">  0.417939   </td></tr>\n",
       "<tr><td>train_mcdo_ef919fd9</td><td style=\"text-align: right;\">     0.0124817 </td><td style=\"text-align: right;\">  0.0223239  </td></tr>\n",
       "<tr><td>train_mcdo_efc70bcf</td><td style=\"text-align: right;\">     0.524683  </td><td style=\"text-align: right;\">  0.51422    </td></tr>\n",
       "<tr><td>train_mcdo_efe8c674</td><td style=\"text-align: right;\">     0.517662  </td><td style=\"text-align: right;\">  0.568399   </td></tr>\n",
       "<tr><td>train_mcdo_f0c2ebc7</td><td style=\"text-align: right;\">     0.502006  </td><td style=\"text-align: right;\">  0.574281   </td></tr>\n",
       "<tr><td>train_mcdo_f0ea0156</td><td style=\"text-align: right;\">     0.517803  </td><td style=\"text-align: right;\">  0.418785   </td></tr>\n",
       "<tr><td>train_mcdo_f1b06494</td><td style=\"text-align: right;\">     0.533001  </td><td style=\"text-align: right;\">  0.687578   </td></tr>\n",
       "<tr><td>train_mcdo_f2101cbb</td><td style=\"text-align: right;\">     0.521006  </td><td style=\"text-align: right;\">  0.442022   </td></tr>\n",
       "<tr><td>train_mcdo_f25e49fd</td><td style=\"text-align: right;\">     0.529071  </td><td style=\"text-align: right;\">  0.488677   </td></tr>\n",
       "<tr><td>train_mcdo_f2ab4233</td><td style=\"text-align: right;\">     0.525201  </td><td style=\"text-align: right;\">  0.288336   </td></tr>\n",
       "<tr><td>train_mcdo_f2b62fe7</td><td style=\"text-align: right;\">     0.535277  </td><td style=\"text-align: right;\">  0.66731    </td></tr>\n",
       "<tr><td>train_mcdo_f3cf8c2a</td><td style=\"text-align: right;\">     0.53891   </td><td style=\"text-align: right;\"> 45.0714     </td></tr>\n",
       "<tr><td>train_mcdo_f3f6002c</td><td style=\"text-align: right;\">     0.523682  </td><td style=\"text-align: right;\">  0.528769   </td></tr>\n",
       "<tr><td>train_mcdo_f4a95173</td><td style=\"text-align: right;\">     0.537542  </td><td style=\"text-align: right;\">  0.828604   </td></tr>\n",
       "<tr><td>train_mcdo_f51bb8c8</td><td style=\"text-align: right;\">     0.532138  </td><td style=\"text-align: right;\">  0.661549   </td></tr>\n",
       "<tr><td>train_mcdo_f59a314c</td><td style=\"text-align: right;\">     0.502417  </td><td style=\"text-align: right;\">  0.609714   </td></tr>\n",
       "<tr><td>train_mcdo_f5c52f4f</td><td style=\"text-align: right;\">     0.534216  </td><td style=\"text-align: right;\">  0.980868   </td></tr>\n",
       "<tr><td>train_mcdo_f65ca6e8</td><td style=\"text-align: right;\">     0.511883  </td><td style=\"text-align: right;\">  0.674894   </td></tr>\n",
       "<tr><td>train_mcdo_f69a1581</td><td style=\"text-align: right;\">     0.538948  </td><td style=\"text-align: right;\">  3.99243    </td></tr>\n",
       "<tr><td>train_mcdo_f8b17913</td><td style=\"text-align: right;\">     0.538112  </td><td style=\"text-align: right;\">  0.301901   </td></tr>\n",
       "<tr><td>train_mcdo_f8cf72da</td><td style=\"text-align: right;\">     0.531827  </td><td style=\"text-align: right;\">  0.709211   </td></tr>\n",
       "<tr><td>train_mcdo_f90ee541</td><td style=\"text-align: right;\">     0.52786   </td><td style=\"text-align: right;\">  0.366012   </td></tr>\n",
       "<tr><td>train_mcdo_f92acfe9</td><td style=\"text-align: right;\">     0.596421  </td><td style=\"text-align: right;\">  0.38554    </td></tr>\n",
       "<tr><td>train_mcdo_f96bcecf</td><td style=\"text-align: right;\">     0.535453  </td><td style=\"text-align: right;\">  0.485464   </td></tr>\n",
       "<tr><td>train_mcdo_f972e343</td><td style=\"text-align: right;\">     0.529827  </td><td style=\"text-align: right;\">  0.466205   </td></tr>\n",
       "<tr><td>train_mcdo_fa7291ec</td><td style=\"text-align: right;\">     0.52628   </td><td style=\"text-align: right;\">  0.2695     </td></tr>\n",
       "<tr><td>train_mcdo_faee098f</td><td style=\"text-align: right;\">     0.366194  </td><td style=\"text-align: right;\">  0.107283   </td></tr>\n",
       "<tr><td>train_mcdo_fb25af8c</td><td style=\"text-align: right;\">     0.608514  </td><td style=\"text-align: right;\"> 16.6713     </td></tr>\n",
       "<tr><td>train_mcdo_fcfb26f3</td><td style=\"text-align: right;\">     0.534723  </td><td style=\"text-align: right;\">  0.126373   </td></tr>\n",
       "<tr><td>train_mcdo_fd5e35d0</td><td style=\"text-align: right;\">     0.526313  </td><td style=\"text-align: right;\">  0.543618   </td></tr>\n",
       "<tr><td>train_mcdo_fdfbfa56</td><td style=\"text-align: right;\">     0.532416  </td><td style=\"text-align: right;\">  0.529889   </td></tr>\n",
       "<tr><td>train_mcdo_fe8a2c68</td><td style=\"text-align: right;\">     0.520362  </td><td style=\"text-align: right;\">  0.724382   </td></tr>\n",
       "<tr><td>train_mcdo_feb98159</td><td style=\"text-align: right;\">     0.499449  </td><td style=\"text-align: right;\">  0.428545   </td></tr>\n",
       "<tr><td>train_mcdo_ff1da303</td><td style=\"text-align: right;\">     0.537971  </td><td style=\"text-align: right;\">  0.553019   </td></tr>\n",
       "<tr><td>train_mcdo_ff538c20</td><td style=\"text-align: right;\">     0.54422   </td><td style=\"text-align: right;\">  0.452484   </td></tr>\n",
       "<tr><td>train_mcdo_ffb00953</td><td style=\"text-align: right;\">     0.53893   </td><td style=\"text-align: right;\">  0.487692   </td></tr>\n",
       "<tr><td>train_mcdo_ffd62b53</td><td style=\"text-align: right;\">     0.535287  </td><td style=\"text-align: right;\">  0.594671   </td></tr>\n",
       "<tr><td>train_mcdo_fff3caba</td><td style=\"text-align: right;\">     0.53191   </td><td style=\"text-align: right;\">  0.552696   </td></tr>\n",
       "</tbody>\n",
       "</table>\n",
       "</div>\n",
       "<style>\n",
       ".trialProgress {\n",
       "  display: flex;\n",
       "  flex-direction: column;\n",
       "  color: var(--jp-ui-font-color1);\n",
       "}\n",
       ".trialProgress h3 {\n",
       "  font-weight: bold;\n",
       "}\n",
       ".trialProgress td {\n",
       "  white-space: nowrap;\n",
       "}\n",
       "</style>\n"
      ],
      "text/plain": [
       "<IPython.core.display.HTML object>"
      ]
     },
     "metadata": {},
     "output_type": "display_data"
    },
    {
     "name": "stderr",
     "output_type": "stream",
     "text": [
      "\u001b[2m\u001b[36m(train_mcdo pid=3489497)\u001b[0m /home/sgupta/anaconda3/envs/py39SAM/lib/python3.9/site-packages/torch/nn/modules/loss.py:535: UserWarning: Using a target size (torch.Size([2, 1])) that is different to the input size (torch.Size([2])). This will likely lead to incorrect results due to broadcasting. Please ensure they have the same size.\n",
      "\u001b[2m\u001b[36m(train_mcdo pid=3489497)\u001b[0m   return F.mse_loss(input, target, reduction=self.reduction)\n"
     ]
    },
    {
     "name": "stdout",
     "output_type": "stream",
     "text": [
      "\u001b[2m\u001b[36m(train_mcdo pid=3489497)\u001b[0m Early stopping triggered at epoch 10\n"
     ]
    },
    {
     "name": "stderr",
     "output_type": "stream",
     "text": [
      "\u001b[2m\u001b[36m(train_mcdo pid=3489981)\u001b[0m /home/sgupta/anaconda3/envs/py39SAM/lib/python3.9/site-packages/torch/nn/modules/loss.py:535: UserWarning: Using a target size (torch.Size([9, 1])) that is different to the input size (torch.Size([9])). This will likely lead to incorrect results due to broadcasting. Please ensure they have the same size.\u001b[32m [repeated 4x across cluster] (Ray deduplicates logs by default. Set RAY_DEDUP_LOGS=0 to disable log deduplication, or see https://docs.ray.io/en/master/ray-observability/ray-logging.html#log-deduplication for more options.)\u001b[0m\n",
      "\u001b[2m\u001b[36m(train_mcdo pid=3489981)\u001b[0m   return F.mse_loss(input, target, reduction=self.reduction)\u001b[32m [repeated 4x across cluster]\u001b[0m\n"
     ]
    },
    {
     "name": "stdout",
     "output_type": "stream",
     "text": [
      "\u001b[2m\u001b[36m(train_mcdo pid=3489921)\u001b[0m Early stopping triggered at epoch 70\n",
      "\u001b[2m\u001b[36m(train_mcdo pid=3489921)\u001b[0m Early stopping triggered at epoch 4\n"
     ]
    },
    {
     "name": "stderr",
     "output_type": "stream",
     "text": [
      "\u001b[2m\u001b[36m(train_mcdo pid=3489981)\u001b[0m /home/sgupta/anaconda3/envs/py39SAM/lib/python3.9/site-packages/torch/nn/modules/loss.py:535: UserWarning: Using a target size (torch.Size([11, 1])) that is different to the input size (torch.Size([11])). This will likely lead to incorrect results due to broadcasting. Please ensure they have the same size.\u001b[32m [repeated 9x across cluster]\u001b[0m\n",
      "\u001b[2m\u001b[36m(train_mcdo pid=3489981)\u001b[0m   return F.mse_loss(input, target, reduction=self.reduction)\u001b[32m [repeated 9x across cluster]\u001b[0m\n"
     ]
    },
    {
     "name": "stdout",
     "output_type": "stream",
     "text": [
      "\u001b[2m\u001b[36m(train_mcdo pid=3489981)\u001b[0m Early stopping triggered at epoch 46\u001b[32m [repeated 3x across cluster]\u001b[0m\n",
      "\u001b[2m\u001b[36m(train_mcdo pid=3490249)\u001b[0m Early stopping triggered at epoch 21\n",
      "\u001b[2m\u001b[36m(train_mcdo pid=3489921)\u001b[0m Early stopping triggered at epoch 110\n",
      "\u001b[2m\u001b[36m(train_mcdo pid=3489981)\u001b[0m Early stopping triggered at epoch 47\n",
      "\u001b[2m\u001b[36m(train_mcdo pid=3489497)\u001b[0m Early stopping triggered at epoch 42\n"
     ]
    },
    {
     "name": "stderr",
     "output_type": "stream",
     "text": [
      "\u001b[2m\u001b[36m(train_mcdo pid=3490249)\u001b[0m /home/sgupta/anaconda3/envs/py39SAM/lib/python3.9/site-packages/torch/nn/modules/loss.py:535: UserWarning: Using a target size (torch.Size([20, 1])) that is different to the input size (torch.Size([20])). This will likely lead to incorrect results due to broadcasting. Please ensure they have the same size.\u001b[32m [repeated 3x across cluster]\u001b[0m\n",
      "\u001b[2m\u001b[36m(train_mcdo pid=3490249)\u001b[0m   return F.mse_loss(input, target, reduction=self.reduction)\u001b[32m [repeated 3x across cluster]\u001b[0m\n",
      "\u001b[2m\u001b[36m(train_mcdo pid=3490633)\u001b[0m /home/sgupta/anaconda3/envs/py39SAM/lib/python3.9/site-packages/torch/nn/modules/loss.py:535: UserWarning: Using a target size (torch.Size([9, 1])) that is different to the input size (torch.Size([9])). This will likely lead to incorrect results due to broadcasting. Please ensure they have the same size.\u001b[32m [repeated 4x across cluster]\u001b[0m\n",
      "\u001b[2m\u001b[36m(train_mcdo pid=3490633)\u001b[0m   return F.mse_loss(input, target, reduction=self.reduction)\u001b[32m [repeated 4x across cluster]\u001b[0m\n"
     ]
    },
    {
     "name": "stdout",
     "output_type": "stream",
     "text": [
      "\u001b[2m\u001b[36m(train_mcdo pid=3490249)\u001b[0m Early stopping triggered at epoch 51\n",
      "\u001b[2m\u001b[36m(train_mcdo pid=3490249)\u001b[0m Early stopping triggered at epoch 22\n"
     ]
    },
    {
     "name": "stderr",
     "output_type": "stream",
     "text": [
      "\u001b[2m\u001b[36m(train_mcdo pid=3490249)\u001b[0m /home/sgupta/anaconda3/envs/py39SAM/lib/python3.9/site-packages/torch/nn/modules/loss.py:535: UserWarning: Using a target size (torch.Size([1, 1])) that is different to the input size (torch.Size([1])). This will likely lead to incorrect results due to broadcasting. Please ensure they have the same size.\u001b[32m [repeated 3x across cluster]\u001b[0m\n",
      "\u001b[2m\u001b[36m(train_mcdo pid=3490249)\u001b[0m   return F.mse_loss(input, target, reduction=self.reduction)\u001b[32m [repeated 3x across cluster]\u001b[0m\n"
     ]
    },
    {
     "name": "stdout",
     "output_type": "stream",
     "text": [
      "\u001b[2m\u001b[36m(train_mcdo pid=3490574)\u001b[0m Early stopping triggered at epoch 54\n"
     ]
    },
    {
     "name": "stderr",
     "output_type": "stream",
     "text": [
      "\u001b[2m\u001b[36m(train_mcdo pid=3490574)\u001b[0m /home/sgupta/anaconda3/envs/py39SAM/lib/python3.9/site-packages/torch/nn/modules/loss.py:535: UserWarning: Using a target size (torch.Size([1, 1])) that is different to the input size (torch.Size([1])). This will likely lead to incorrect results due to broadcasting. Please ensure they have the same size.\u001b[32m [repeated 2x across cluster]\u001b[0m\n",
      "\u001b[2m\u001b[36m(train_mcdo pid=3490574)\u001b[0m   return F.mse_loss(input, target, reduction=self.reduction)\u001b[32m [repeated 2x across cluster]\u001b[0m\n",
      "\u001b[2m\u001b[36m(train_mcdo pid=3491040)\u001b[0m /home/sgupta/anaconda3/envs/py39SAM/lib/python3.9/site-packages/torch/nn/modules/loss.py:535: UserWarning: Using a target size (torch.Size([12, 1])) that is different to the input size (torch.Size([12])). This will likely lead to incorrect results due to broadcasting. Please ensure they have the same size.\u001b[32m [repeated 4x across cluster]\u001b[0m\n",
      "\u001b[2m\u001b[36m(train_mcdo pid=3491040)\u001b[0m   return F.mse_loss(input, target, reduction=self.reduction)\u001b[32m [repeated 4x across cluster]\u001b[0m\n",
      "\u001b[2m\u001b[36m(train_mcdo pid=3491140)\u001b[0m /home/sgupta/anaconda3/envs/py39SAM/lib/python3.9/site-packages/torch/nn/modules/loss.py:535: UserWarning: Using a target size (torch.Size([12, 1])) that is different to the input size (torch.Size([12])). This will likely lead to incorrect results due to broadcasting. Please ensure they have the same size.\u001b[32m [repeated 5x across cluster]\u001b[0m\n",
      "\u001b[2m\u001b[36m(train_mcdo pid=3491140)\u001b[0m   return F.mse_loss(input, target, reduction=self.reduction)\u001b[32m [repeated 5x across cluster]\u001b[0m\n"
     ]
    },
    {
     "name": "stdout",
     "output_type": "stream",
     "text": [
      "\u001b[2m\u001b[36m(train_mcdo pid=3490794)\u001b[0m Early stopping triggered at epoch 51\n"
     ]
    },
    {
     "name": "stderr",
     "output_type": "stream",
     "text": [
      "\u001b[2m\u001b[36m(train_mcdo pid=3490794)\u001b[0m /home/sgupta/anaconda3/envs/py39SAM/lib/python3.9/site-packages/torch/nn/modules/loss.py:535: UserWarning: Using a target size (torch.Size([2, 1])) that is different to the input size (torch.Size([2])). This will likely lead to incorrect results due to broadcasting. Please ensure they have the same size.\u001b[32m [repeated 7x across cluster]\u001b[0m\n",
      "\u001b[2m\u001b[36m(train_mcdo pid=3490794)\u001b[0m   return F.mse_loss(input, target, reduction=self.reduction)\u001b[32m [repeated 7x across cluster]\u001b[0m\n"
     ]
    },
    {
     "name": "stdout",
     "output_type": "stream",
     "text": [
      "\u001b[2m\u001b[36m(train_mcdo pid=3490574)\u001b[0m Early stopping triggered at epoch 50\u001b[32m [repeated 3x across cluster]\u001b[0m\n"
     ]
    },
    {
     "name": "stderr",
     "output_type": "stream",
     "text": [
      "\u001b[2m\u001b[36m(train_mcdo pid=3490574)\u001b[0m /home/sgupta/anaconda3/envs/py39SAM/lib/python3.9/site-packages/torch/nn/modules/loss.py:535: UserWarning: Using a target size (torch.Size([17, 1])) that is different to the input size (torch.Size([17])). This will likely lead to incorrect results due to broadcasting. Please ensure they have the same size.\u001b[32m [repeated 7x across cluster]\u001b[0m\n",
      "\u001b[2m\u001b[36m(train_mcdo pid=3490574)\u001b[0m   return F.mse_loss(input, target, reduction=self.reduction)\u001b[32m [repeated 7x across cluster]\u001b[0m\n",
      "\u001b[2m\u001b[36m(train_mcdo pid=3491539)\u001b[0m /home/sgupta/anaconda3/envs/py39SAM/lib/python3.9/site-packages/torch/nn/modules/loss.py:535: UserWarning: Using a target size (torch.Size([11, 1])) that is different to the input size (torch.Size([11])). This will likely lead to incorrect results due to broadcasting. Please ensure they have the same size.\u001b[32m [repeated 6x across cluster]\u001b[0m\n",
      "\u001b[2m\u001b[36m(train_mcdo pid=3491539)\u001b[0m   return F.mse_loss(input, target, reduction=self.reduction)\u001b[32m [repeated 6x across cluster]\u001b[0m\n"
     ]
    },
    {
     "name": "stdout",
     "output_type": "stream",
     "text": [
      "\u001b[2m\u001b[36m(train_mcdo pid=3490943)\u001b[0m Early stopping triggered at epoch 86\n",
      "\u001b[2m\u001b[36m(train_mcdo pid=3491140)\u001b[0m Early stopping triggered at epoch 50\n"
     ]
    },
    {
     "name": "stderr",
     "output_type": "stream",
     "text": [
      "\u001b[2m\u001b[36m(train_mcdo pid=3490633)\u001b[0m /home/sgupta/anaconda3/envs/py39SAM/lib/python3.9/site-packages/torch/nn/modules/loss.py:535: UserWarning: Using a target size (torch.Size([11, 1])) that is different to the input size (torch.Size([11])). This will likely lead to incorrect results due to broadcasting. Please ensure they have the same size.\u001b[32m [repeated 5x across cluster]\u001b[0m\n",
      "\u001b[2m\u001b[36m(train_mcdo pid=3490633)\u001b[0m   return F.mse_loss(input, target, reduction=self.reduction)\u001b[32m [repeated 5x across cluster]\u001b[0m\n"
     ]
    },
    {
     "name": "stdout",
     "output_type": "stream",
     "text": [
      "\u001b[2m\u001b[36m(train_mcdo pid=3491615)\u001b[0m Early stopping triggered at epoch 35\u001b[32m [repeated 2x across cluster]\u001b[0m\n"
     ]
    },
    {
     "name": "stderr",
     "output_type": "stream",
     "text": [
      "\u001b[2m\u001b[36m(train_mcdo pid=3491432)\u001b[0m /home/sgupta/anaconda3/envs/py39SAM/lib/python3.9/site-packages/torch/nn/modules/loss.py:535: UserWarning: Using a target size (torch.Size([12, 1])) that is different to the input size (torch.Size([12])). This will likely lead to incorrect results due to broadcasting. Please ensure they have the same size.\u001b[32m [repeated 7x across cluster]\u001b[0m\n",
      "\u001b[2m\u001b[36m(train_mcdo pid=3491432)\u001b[0m   return F.mse_loss(input, target, reduction=self.reduction)\u001b[32m [repeated 7x across cluster]\u001b[0m\n"
     ]
    },
    {
     "name": "stdout",
     "output_type": "stream",
     "text": [
      "\u001b[2m\u001b[36m(train_mcdo pid=3490574)\u001b[0m Early stopping triggered at epoch 69\u001b[32m [repeated 8x across cluster]\u001b[0m\n"
     ]
    },
    {
     "name": "stderr",
     "output_type": "stream",
     "text": [
      "\u001b[2m\u001b[36m(train_mcdo pid=3491432)\u001b[0m /home/sgupta/anaconda3/envs/py39SAM/lib/python3.9/site-packages/torch/nn/modules/loss.py:535: UserWarning: Using a target size (torch.Size([7, 1])) that is different to the input size (torch.Size([7])). This will likely lead to incorrect results due to broadcasting. Please ensure they have the same size.\u001b[32m [repeated 6x across cluster]\u001b[0m\n",
      "\u001b[2m\u001b[36m(train_mcdo pid=3491432)\u001b[0m   return F.mse_loss(input, target, reduction=self.reduction)\u001b[32m [repeated 6x across cluster]\u001b[0m\n"
     ]
    },
    {
     "name": "stdout",
     "output_type": "stream",
     "text": [
      "\u001b[2m\u001b[36m(train_mcdo pid=3491432)\u001b[0m Early stopping triggered at epoch 9\u001b[32m [repeated 5x across cluster]\u001b[0m\n"
     ]
    },
    {
     "name": "stderr",
     "output_type": "stream",
     "text": [
      "\u001b[2m\u001b[36m(train_mcdo pid=3490633)\u001b[0m /home/sgupta/anaconda3/envs/py39SAM/lib/python3.9/site-packages/torch/nn/modules/loss.py:535: UserWarning: Using a target size (torch.Size([3, 1])) that is different to the input size (torch.Size([3])). This will likely lead to incorrect results due to broadcasting. Please ensure they have the same size.\u001b[32m [repeated 8x across cluster]\u001b[0m\n",
      "\u001b[2m\u001b[36m(train_mcdo pid=3490633)\u001b[0m   return F.mse_loss(input, target, reduction=self.reduction)\u001b[32m [repeated 8x across cluster]\u001b[0m\n"
     ]
    },
    {
     "name": "stdout",
     "output_type": "stream",
     "text": [
      "\u001b[2m\u001b[36m(train_mcdo pid=3490943)\u001b[0m Early stopping triggered at epoch 63\u001b[32m [repeated 5x across cluster]\u001b[0m\n",
      "\u001b[2m\u001b[36m(train_mcdo pid=3491432)\u001b[0m Early stopping triggered at epoch 86\u001b[32m [repeated 5x across cluster]\u001b[0m\n"
     ]
    },
    {
     "name": "stderr",
     "output_type": "stream",
     "text": [
      "\u001b[2m\u001b[36m(train_mcdo pid=3491432)\u001b[0m /home/sgupta/anaconda3/envs/py39SAM/lib/python3.9/site-packages/torch/nn/modules/loss.py:535: UserWarning: Using a target size (torch.Size([14, 1])) that is different to the input size (torch.Size([14])). This will likely lead to incorrect results due to broadcasting. Please ensure they have the same size.\u001b[32m [repeated 7x across cluster]\u001b[0m\n",
      "\u001b[2m\u001b[36m(train_mcdo pid=3491432)\u001b[0m   return F.mse_loss(input, target, reduction=self.reduction)\u001b[32m [repeated 7x across cluster]\u001b[0m\n"
     ]
    },
    {
     "name": "stdout",
     "output_type": "stream",
     "text": [
      "\u001b[2m\u001b[36m(train_mcdo pid=3491140)\u001b[0m Early stopping triggered at epoch 87\u001b[32m [repeated 4x across cluster]\u001b[0m\n"
     ]
    },
    {
     "name": "stderr",
     "output_type": "stream",
     "text": [
      "\u001b[2m\u001b[36m(train_mcdo pid=3491140)\u001b[0m /home/sgupta/anaconda3/envs/py39SAM/lib/python3.9/site-packages/torch/nn/modules/loss.py:535: UserWarning: Using a target size (torch.Size([9, 1])) that is different to the input size (torch.Size([9])). This will likely lead to incorrect results due to broadcasting. Please ensure they have the same size.\n",
      "\u001b[2m\u001b[36m(train_mcdo pid=3491140)\u001b[0m   return F.mse_loss(input, target, reduction=self.reduction)\n",
      "\u001b[2m\u001b[36m(train_mcdo pid=3491140)\u001b[0m /home/sgupta/anaconda3/envs/py39SAM/lib/python3.9/site-packages/torch/nn/modules/loss.py:535: UserWarning: Using a target size (torch.Size([5, 1])) that is different to the input size (torch.Size([5])). This will likely lead to incorrect results due to broadcasting. Please ensure they have the same size.\n",
      "\u001b[2m\u001b[36m(train_mcdo pid=3491140)\u001b[0m   return F.mse_loss(input, target, reduction=self.reduction)\n",
      "\u001b[2m\u001b[36m(train_mcdo pid=3491140)\u001b[0m /home/sgupta/anaconda3/envs/py39SAM/lib/python3.9/site-packages/torch/nn/modules/loss.py:535: UserWarning: Using a target size (torch.Size([2, 1])) that is different to the input size (torch.Size([2])). This will likely lead to incorrect results due to broadcasting. Please ensure they have the same size.\n",
      "\u001b[2m\u001b[36m(train_mcdo pid=3491140)\u001b[0m   return F.mse_loss(input, target, reduction=self.reduction)\n"
     ]
    },
    {
     "name": "stdout",
     "output_type": "stream",
     "text": [
      "\u001b[2m\u001b[36m(train_mcdo pid=3490943)\u001b[0m Early stopping triggered at epoch 25\u001b[32m [repeated 4x across cluster]\u001b[0m\n"
     ]
    },
    {
     "name": "stderr",
     "output_type": "stream",
     "text": [
      "\u001b[2m\u001b[36m(train_mcdo pid=3490943)\u001b[0m /home/sgupta/anaconda3/envs/py39SAM/lib/python3.9/site-packages/torch/nn/modules/loss.py:535: UserWarning: Using a target size (torch.Size([9, 1])) that is different to the input size (torch.Size([9])). This will likely lead to incorrect results due to broadcasting. Please ensure they have the same size.\u001b[32m [repeated 2x across cluster]\u001b[0m\n",
      "\u001b[2m\u001b[36m(train_mcdo pid=3490943)\u001b[0m   return F.mse_loss(input, target, reduction=self.reduction)\u001b[32m [repeated 2x across cluster]\u001b[0m\n",
      "\u001b[2m\u001b[36m(train_mcdo pid=3493238)\u001b[0m /home/sgupta/anaconda3/envs/py39SAM/lib/python3.9/site-packages/torch/nn/modules/loss.py:535: UserWarning: Using a target size (torch.Size([13, 1])) that is different to the input size (torch.Size([13])). This will likely lead to incorrect results due to broadcasting. Please ensure they have the same size.\u001b[32m [repeated 7x across cluster]\u001b[0m\n",
      "\u001b[2m\u001b[36m(train_mcdo pid=3493238)\u001b[0m   return F.mse_loss(input, target, reduction=self.reduction)\u001b[32m [repeated 7x across cluster]\u001b[0m\n"
     ]
    },
    {
     "name": "stdout",
     "output_type": "stream",
     "text": [
      "\u001b[2m\u001b[36m(train_mcdo pid=3491208)\u001b[0m Early stopping triggered at epoch 33\u001b[32m [repeated 5x across cluster]\u001b[0m\n"
     ]
    },
    {
     "name": "stderr",
     "output_type": "stream",
     "text": [
      "\u001b[2m\u001b[36m(train_mcdo pid=3491082)\u001b[0m /home/sgupta/anaconda3/envs/py39SAM/lib/python3.9/site-packages/torch/nn/modules/loss.py:535: UserWarning: Using a target size (torch.Size([13, 1])) that is different to the input size (torch.Size([13])). This will likely lead to incorrect results due to broadcasting. Please ensure they have the same size.\u001b[32m [repeated 7x across cluster]\u001b[0m\n",
      "\u001b[2m\u001b[36m(train_mcdo pid=3491082)\u001b[0m   return F.mse_loss(input, target, reduction=self.reduction)\u001b[32m [repeated 7x across cluster]\u001b[0m\n"
     ]
    },
    {
     "name": "stdout",
     "output_type": "stream",
     "text": [
      "\u001b[2m\u001b[36m(train_mcdo pid=3490633)\u001b[0m Early stopping triggered at epoch 95\u001b[32m [repeated 5x across cluster]\u001b[0m\n"
     ]
    },
    {
     "name": "stderr",
     "output_type": "stream",
     "text": [
      "\u001b[2m\u001b[36m(train_mcdo pid=3493238)\u001b[0m /home/sgupta/anaconda3/envs/py39SAM/lib/python3.9/site-packages/torch/nn/modules/loss.py:535: UserWarning: Using a target size (torch.Size([8, 1])) that is different to the input size (torch.Size([8])). This will likely lead to incorrect results due to broadcasting. Please ensure they have the same size.\u001b[32m [repeated 4x across cluster]\u001b[0m\n",
      "\u001b[2m\u001b[36m(train_mcdo pid=3493238)\u001b[0m   return F.mse_loss(input, target, reduction=self.reduction)\u001b[32m [repeated 4x across cluster]\u001b[0m\n"
     ]
    },
    {
     "name": "stdout",
     "output_type": "stream",
     "text": [
      "\u001b[2m\u001b[36m(train_mcdo pid=3493238)\u001b[0m Early stopping triggered at epoch 57\u001b[32m [repeated 3x across cluster]\u001b[0m\n",
      "\u001b[2m\u001b[36m(train_mcdo pid=3491539)\u001b[0m Early stopping triggered at epoch 63\u001b[32m [repeated 4x across cluster]\u001b[0m\n"
     ]
    },
    {
     "name": "stderr",
     "output_type": "stream",
     "text": [
      "\u001b[2m\u001b[36m(train_mcdo pid=3493694)\u001b[0m /home/sgupta/anaconda3/envs/py39SAM/lib/python3.9/site-packages/torch/nn/modules/loss.py:535: UserWarning: Using a target size (torch.Size([6, 1])) that is different to the input size (torch.Size([6])). This will likely lead to incorrect results due to broadcasting. Please ensure they have the same size.\u001b[32m [repeated 8x across cluster]\u001b[0m\n",
      "\u001b[2m\u001b[36m(train_mcdo pid=3493694)\u001b[0m   return F.mse_loss(input, target, reduction=self.reduction)\u001b[32m [repeated 8x across cluster]\u001b[0m\n"
     ]
    },
    {
     "name": "stdout",
     "output_type": "stream",
     "text": [
      "\u001b[2m\u001b[36m(train_mcdo pid=3490881)\u001b[0m Early stopping triggered at epoch 3\u001b[32m [repeated 5x across cluster]\u001b[0m\n"
     ]
    },
    {
     "name": "stderr",
     "output_type": "stream",
     "text": [
      "\u001b[2m\u001b[36m(train_mcdo pid=3490881)\u001b[0m /home/sgupta/anaconda3/envs/py39SAM/lib/python3.9/site-packages/torch/nn/modules/loss.py:535: UserWarning: Using a target size (torch.Size([17, 1])) that is different to the input size (torch.Size([17])). This will likely lead to incorrect results due to broadcasting. Please ensure they have the same size.\u001b[32m [repeated 7x across cluster]\u001b[0m\n",
      "\u001b[2m\u001b[36m(train_mcdo pid=3490881)\u001b[0m   return F.mse_loss(input, target, reduction=self.reduction)\u001b[32m [repeated 7x across cluster]\u001b[0m\n"
     ]
    },
    {
     "name": "stdout",
     "output_type": "stream",
     "text": [
      "\u001b[2m\u001b[36m(train_mcdo pid=3491040)\u001b[0m Early stopping triggered at epoch 46\u001b[32m [repeated 4x across cluster]\u001b[0m\n"
     ]
    },
    {
     "name": "stderr",
     "output_type": "stream",
     "text": [
      "\u001b[2m\u001b[36m(train_mcdo pid=3491208)\u001b[0m /home/sgupta/anaconda3/envs/py39SAM/lib/python3.9/site-packages/torch/nn/modules/loss.py:535: UserWarning: Using a target size (torch.Size([2, 1])) that is different to the input size (torch.Size([2])). This will likely lead to incorrect results due to broadcasting. Please ensure they have the same size.\u001b[32m [repeated 6x across cluster]\u001b[0m\n",
      "\u001b[2m\u001b[36m(train_mcdo pid=3491208)\u001b[0m   return F.mse_loss(input, target, reduction=self.reduction)\u001b[32m [repeated 6x across cluster]\u001b[0m\n"
     ]
    },
    {
     "name": "stdout",
     "output_type": "stream",
     "text": [
      "\u001b[2m\u001b[36m(train_mcdo pid=3490881)\u001b[0m Early stopping triggered at epoch 60\u001b[32m [repeated 3x across cluster]\u001b[0m\n"
     ]
    },
    {
     "name": "stderr",
     "output_type": "stream",
     "text": [
      "\u001b[2m\u001b[36m(train_mcdo pid=3493694)\u001b[0m /home/sgupta/anaconda3/envs/py39SAM/lib/python3.9/site-packages/torch/nn/modules/loss.py:535: UserWarning: Using a target size (torch.Size([7, 1])) that is different to the input size (torch.Size([7])). This will likely lead to incorrect results due to broadcasting. Please ensure they have the same size.\u001b[32m [repeated 3x across cluster]\u001b[0m\n",
      "\u001b[2m\u001b[36m(train_mcdo pid=3493694)\u001b[0m   return F.mse_loss(input, target, reduction=self.reduction)\u001b[32m [repeated 3x across cluster]\u001b[0m\n"
     ]
    },
    {
     "name": "stdout",
     "output_type": "stream",
     "text": [
      "\u001b[2m\u001b[36m(train_mcdo pid=3493694)\u001b[0m Early stopping triggered at epoch 21\u001b[32m [repeated 6x across cluster]\u001b[0m\n"
     ]
    },
    {
     "name": "stderr",
     "output_type": "stream",
     "text": [
      "\u001b[2m\u001b[36m(train_mcdo pid=3491615)\u001b[0m /home/sgupta/anaconda3/envs/py39SAM/lib/python3.9/site-packages/torch/nn/modules/loss.py:535: UserWarning: Using a target size (torch.Size([18, 1])) that is different to the input size (torch.Size([18])). This will likely lead to incorrect results due to broadcasting. Please ensure they have the same size.\u001b[32m [repeated 6x across cluster]\u001b[0m\n",
      "\u001b[2m\u001b[36m(train_mcdo pid=3491615)\u001b[0m   return F.mse_loss(input, target, reduction=self.reduction)\u001b[32m [repeated 6x across cluster]\u001b[0m\n"
     ]
    },
    {
     "name": "stdout",
     "output_type": "stream",
     "text": [
      "\u001b[2m\u001b[36m(train_mcdo pid=3491432)\u001b[0m Early stopping triggered at epoch 29\u001b[32m [repeated 4x across cluster]\u001b[0m\n"
     ]
    },
    {
     "name": "stderr",
     "output_type": "stream",
     "text": [
      "\u001b[2m\u001b[36m(train_mcdo pid=3490881)\u001b[0m /home/sgupta/anaconda3/envs/py39SAM/lib/python3.9/site-packages/torch/nn/modules/loss.py:535: UserWarning: Using a target size (torch.Size([4, 1])) that is different to the input size (torch.Size([4])). This will likely lead to incorrect results due to broadcasting. Please ensure they have the same size.\u001b[32m [repeated 7x across cluster]\u001b[0m\n",
      "\u001b[2m\u001b[36m(train_mcdo pid=3490881)\u001b[0m   return F.mse_loss(input, target, reduction=self.reduction)\u001b[32m [repeated 7x across cluster]\u001b[0m\n"
     ]
    },
    {
     "name": "stdout",
     "output_type": "stream",
     "text": [
      "\u001b[2m\u001b[36m(train_mcdo pid=3491615)\u001b[0m Early stopping triggered at epoch 22\u001b[32m [repeated 7x across cluster]\u001b[0m\n"
     ]
    },
    {
     "name": "stderr",
     "output_type": "stream",
     "text": [
      "\u001b[2m\u001b[36m(train_mcdo pid=3493694)\u001b[0m /home/sgupta/anaconda3/envs/py39SAM/lib/python3.9/site-packages/torch/nn/modules/loss.py:535: UserWarning: Using a target size (torch.Size([1, 1])) that is different to the input size (torch.Size([1])). This will likely lead to incorrect results due to broadcasting. Please ensure they have the same size.\u001b[32m [repeated 7x across cluster]\u001b[0m\n",
      "\u001b[2m\u001b[36m(train_mcdo pid=3493694)\u001b[0m   return F.mse_loss(input, target, reduction=self.reduction)\u001b[32m [repeated 7x across cluster]\u001b[0m\n"
     ]
    },
    {
     "name": "stdout",
     "output_type": "stream",
     "text": [
      "\u001b[2m\u001b[36m(train_mcdo pid=3491432)\u001b[0m Early stopping triggered at epoch 41\u001b[32m [repeated 5x across cluster]\u001b[0m\n",
      "\u001b[2m\u001b[36m(train_mcdo pid=3491140)\u001b[0m Early stopping triggered at epoch 32\u001b[32m [repeated 4x across cluster]\u001b[0m\n"
     ]
    },
    {
     "name": "stderr",
     "output_type": "stream",
     "text": [
      "\u001b[2m\u001b[36m(train_mcdo pid=3490633)\u001b[0m /home/sgupta/anaconda3/envs/py39SAM/lib/python3.9/site-packages/torch/nn/modules/loss.py:535: UserWarning: Using a target size (torch.Size([4, 1])) that is different to the input size (torch.Size([4])). This will likely lead to incorrect results due to broadcasting. Please ensure they have the same size.\u001b[32m [repeated 4x across cluster]\u001b[0m\n",
      "\u001b[2m\u001b[36m(train_mcdo pid=3490633)\u001b[0m   return F.mse_loss(input, target, reduction=self.reduction)\u001b[32m [repeated 4x across cluster]\u001b[0m\n"
     ]
    },
    {
     "name": "stdout",
     "output_type": "stream",
     "text": [
      "\u001b[2m\u001b[36m(train_mcdo pid=3490633)\u001b[0m Early stopping triggered at epoch 47\u001b[32m [repeated 4x across cluster]\u001b[0m\n"
     ]
    },
    {
     "name": "stderr",
     "output_type": "stream",
     "text": [
      "\u001b[2m\u001b[36m(train_mcdo pid=3493238)\u001b[0m /home/sgupta/anaconda3/envs/py39SAM/lib/python3.9/site-packages/torch/nn/modules/loss.py:535: UserWarning: Using a target size (torch.Size([3, 1])) that is different to the input size (torch.Size([3])). This will likely lead to incorrect results due to broadcasting. Please ensure they have the same size.\u001b[32m [repeated 3x across cluster]\u001b[0m\n",
      "\u001b[2m\u001b[36m(train_mcdo pid=3493238)\u001b[0m   return F.mse_loss(input, target, reduction=self.reduction)\u001b[32m [repeated 3x across cluster]\u001b[0m\n"
     ]
    },
    {
     "name": "stdout",
     "output_type": "stream",
     "text": [
      "\u001b[2m\u001b[36m(train_mcdo pid=3491615)\u001b[0m Early stopping triggered at epoch 1\u001b[32m [repeated 4x across cluster]\u001b[0m\n",
      "\u001b[2m\u001b[36m(train_mcdo pid=3491432)\u001b[0m Early stopping triggered at epoch 116\u001b[32m [repeated 3x across cluster]\u001b[0m\n"
     ]
    },
    {
     "name": "stderr",
     "output_type": "stream",
     "text": [
      "\u001b[2m\u001b[36m(train_mcdo pid=3491432)\u001b[0m /home/sgupta/anaconda3/envs/py39SAM/lib/python3.9/site-packages/torch/nn/modules/loss.py:535: UserWarning: Using a target size (torch.Size([1, 1])) that is different to the input size (torch.Size([1])). This will likely lead to incorrect results due to broadcasting. Please ensure they have the same size.\u001b[32m [repeated 3x across cluster]\u001b[0m\n",
      "\u001b[2m\u001b[36m(train_mcdo pid=3491432)\u001b[0m   return F.mse_loss(input, target, reduction=self.reduction)\u001b[32m [repeated 3x across cluster]\u001b[0m\n"
     ]
    },
    {
     "name": "stdout",
     "output_type": "stream",
     "text": [
      "\u001b[2m\u001b[36m(train_mcdo pid=3490794)\u001b[0m Early stopping triggered at epoch 29\u001b[32m [repeated 2x across cluster]\u001b[0m\n"
     ]
    },
    {
     "name": "stderr",
     "output_type": "stream",
     "text": [
      "\u001b[2m\u001b[36m(train_mcdo pid=3493238)\u001b[0m /home/sgupta/anaconda3/envs/py39SAM/lib/python3.9/site-packages/torch/nn/modules/loss.py:535: UserWarning: Using a target size (torch.Size([10, 1])) that is different to the input size (torch.Size([10])). This will likely lead to incorrect results due to broadcasting. Please ensure they have the same size.\n",
      "\u001b[2m\u001b[36m(train_mcdo pid=3493238)\u001b[0m   return F.mse_loss(input, target, reduction=self.reduction)\n",
      "\u001b[2m\u001b[36m(train_mcdo pid=3491082)\u001b[0m /home/sgupta/anaconda3/envs/py39SAM/lib/python3.9/site-packages/torch/nn/modules/loss.py:535: UserWarning: Using a target size (torch.Size([12, 1])) that is different to the input size (torch.Size([12])). This will likely lead to incorrect results due to broadcasting. Please ensure they have the same size.\n",
      "\u001b[2m\u001b[36m(train_mcdo pid=3491082)\u001b[0m   return F.mse_loss(input, target, reduction=self.reduction)\n",
      "\u001b[2m\u001b[36m(train_mcdo pid=3491082)\u001b[0m /home/sgupta/anaconda3/envs/py39SAM/lib/python3.9/site-packages/torch/nn/modules/loss.py:535: UserWarning: Using a target size (torch.Size([8, 1])) that is different to the input size (torch.Size([8])). This will likely lead to incorrect results due to broadcasting. Please ensure they have the same size.\n",
      "\u001b[2m\u001b[36m(train_mcdo pid=3491082)\u001b[0m   return F.mse_loss(input, target, reduction=self.reduction)\n"
     ]
    },
    {
     "name": "stdout",
     "output_type": "stream",
     "text": [
      "\u001b[2m\u001b[36m(train_mcdo pid=3490633)\u001b[0m Early stopping triggered at epoch 6\u001b[32m [repeated 5x across cluster]\u001b[0m\n",
      "\u001b[2m\u001b[36m(train_mcdo pid=3491208)\u001b[0m Early stopping triggered at epoch 31\u001b[32m [repeated 5x across cluster]\u001b[0m\n"
     ]
    },
    {
     "name": "stderr",
     "output_type": "stream",
     "text": [
      "\u001b[2m\u001b[36m(train_mcdo pid=3491208)\u001b[0m /home/sgupta/anaconda3/envs/py39SAM/lib/python3.9/site-packages/torch/nn/modules/loss.py:535: UserWarning: Using a target size (torch.Size([15, 1])) that is different to the input size (torch.Size([15])). This will likely lead to incorrect results due to broadcasting. Please ensure they have the same size.\u001b[32m [repeated 3x across cluster]\u001b[0m\n",
      "\u001b[2m\u001b[36m(train_mcdo pid=3491208)\u001b[0m   return F.mse_loss(input, target, reduction=self.reduction)\u001b[32m [repeated 3x across cluster]\u001b[0m\n"
     ]
    },
    {
     "name": "stdout",
     "output_type": "stream",
     "text": [
      "\u001b[2m\u001b[36m(train_mcdo pid=3493238)\u001b[0m Early stopping triggered at epoch 3\u001b[32m [repeated 7x across cluster]\u001b[0m\n"
     ]
    },
    {
     "name": "stderr",
     "output_type": "stream",
     "text": [
      "\u001b[2m\u001b[36m(train_mcdo pid=3490881)\u001b[0m /home/sgupta/anaconda3/envs/py39SAM/lib/python3.9/site-packages/torch/nn/modules/loss.py:535: UserWarning: Using a target size (torch.Size([3, 1])) that is different to the input size (torch.Size([3])). This will likely lead to incorrect results due to broadcasting. Please ensure they have the same size.\u001b[32m [repeated 6x across cluster]\u001b[0m\n",
      "\u001b[2m\u001b[36m(train_mcdo pid=3490881)\u001b[0m   return F.mse_loss(input, target, reduction=self.reduction)\u001b[32m [repeated 6x across cluster]\u001b[0m\n"
     ]
    },
    {
     "name": "stdout",
     "output_type": "stream",
     "text": [
      "\u001b[2m\u001b[36m(train_mcdo pid=3491040)\u001b[0m Early stopping triggered at epoch 3\u001b[32m [repeated 5x across cluster]\u001b[0m\n"
     ]
    },
    {
     "name": "stderr",
     "output_type": "stream",
     "text": [
      "\u001b[2m\u001b[36m(train_mcdo pid=3491040)\u001b[0m /home/sgupta/anaconda3/envs/py39SAM/lib/python3.9/site-packages/torch/nn/modules/loss.py:535: UserWarning: Using a target size (torch.Size([14, 1])) that is different to the input size (torch.Size([14])). This will likely lead to incorrect results due to broadcasting. Please ensure they have the same size.\u001b[32m [repeated 3x across cluster]\u001b[0m\n",
      "\u001b[2m\u001b[36m(train_mcdo pid=3491040)\u001b[0m   return F.mse_loss(input, target, reduction=self.reduction)\u001b[32m [repeated 3x across cluster]\u001b[0m\n"
     ]
    },
    {
     "name": "stdout",
     "output_type": "stream",
     "text": [
      "\u001b[2m\u001b[36m(train_mcdo pid=3491208)\u001b[0m Early stopping triggered at epoch 13\u001b[32m [repeated 6x across cluster]\u001b[0m\n",
      "\u001b[2m\u001b[36m(train_mcdo pid=3491539)\u001b[0m Early stopping triggered at epoch 4\u001b[32m [repeated 4x across cluster]\u001b[0m\n",
      "\u001b[2m\u001b[36m(train_mcdo pid=3491082)\u001b[0m Early stopping triggered at epoch 39\u001b[32m [repeated 3x across cluster]\u001b[0m\n"
     ]
    },
    {
     "name": "stderr",
     "output_type": "stream",
     "text": [
      "\u001b[2m\u001b[36m(train_mcdo pid=3491140)\u001b[0m /home/sgupta/anaconda3/envs/py39SAM/lib/python3.9/site-packages/torch/nn/modules/loss.py:535: UserWarning: Using a target size (torch.Size([19, 1])) that is different to the input size (torch.Size([19])). This will likely lead to incorrect results due to broadcasting. Please ensure they have the same size.\u001b[32m [repeated 4x across cluster]\u001b[0m\n",
      "\u001b[2m\u001b[36m(train_mcdo pid=3491140)\u001b[0m   return F.mse_loss(input, target, reduction=self.reduction)\u001b[32m [repeated 4x across cluster]\u001b[0m\n"
     ]
    },
    {
     "name": "stdout",
     "output_type": "stream",
     "text": [
      "\u001b[2m\u001b[36m(train_mcdo pid=3493694)\u001b[0m Early stopping triggered at epoch 12\u001b[32m [repeated 2x across cluster]\u001b[0m\n",
      "\u001b[2m\u001b[36m(train_mcdo pid=3491040)\u001b[0m Early stopping triggered at epoch 123\u001b[32m [repeated 6x across cluster]\u001b[0m\n"
     ]
    },
    {
     "name": "stderr",
     "output_type": "stream",
     "text": [
      "\u001b[2m\u001b[36m(train_mcdo pid=3491040)\u001b[0m /home/sgupta/anaconda3/envs/py39SAM/lib/python3.9/site-packages/torch/nn/modules/loss.py:535: UserWarning: Using a target size (torch.Size([18, 1])) that is different to the input size (torch.Size([18])). This will likely lead to incorrect results due to broadcasting. Please ensure they have the same size.\u001b[32m [repeated 4x across cluster]\u001b[0m\n",
      "\u001b[2m\u001b[36m(train_mcdo pid=3491040)\u001b[0m   return F.mse_loss(input, target, reduction=self.reduction)\u001b[32m [repeated 4x across cluster]\u001b[0m\n"
     ]
    },
    {
     "name": "stdout",
     "output_type": "stream",
     "text": [
      "\u001b[2m\u001b[36m(train_mcdo pid=3491539)\u001b[0m Early stopping triggered at epoch 61\u001b[32m [repeated 6x across cluster]\u001b[0m\n"
     ]
    },
    {
     "name": "stderr",
     "output_type": "stream",
     "text": [
      "\u001b[2m\u001b[36m(train_mcdo pid=3491082)\u001b[0m /home/sgupta/anaconda3/envs/py39SAM/lib/python3.9/site-packages/torch/nn/modules/loss.py:535: UserWarning: Using a target size (torch.Size([18, 1])) that is different to the input size (torch.Size([18])). This will likely lead to incorrect results due to broadcasting. Please ensure they have the same size.\u001b[32m [repeated 2x across cluster]\u001b[0m\n",
      "\u001b[2m\u001b[36m(train_mcdo pid=3491082)\u001b[0m   return F.mse_loss(input, target, reduction=self.reduction)\u001b[32m [repeated 2x across cluster]\u001b[0m\n"
     ]
    },
    {
     "name": "stdout",
     "output_type": "stream",
     "text": [
      "\u001b[2m\u001b[36m(train_mcdo pid=3491208)\u001b[0m Early stopping triggered at epoch 13\u001b[32m [repeated 5x across cluster]\u001b[0m\n"
     ]
    },
    {
     "name": "stderr",
     "output_type": "stream",
     "text": [
      "\u001b[2m\u001b[36m(train_mcdo pid=3490249)\u001b[0m /home/sgupta/anaconda3/envs/py39SAM/lib/python3.9/site-packages/torch/nn/modules/loss.py:535: UserWarning: Using a target size (torch.Size([10, 1])) that is different to the input size (torch.Size([10])). This will likely lead to incorrect results due to broadcasting. Please ensure they have the same size.\u001b[32m [repeated 4x across cluster]\u001b[0m\n",
      "\u001b[2m\u001b[36m(train_mcdo pid=3490249)\u001b[0m   return F.mse_loss(input, target, reduction=self.reduction)\u001b[32m [repeated 4x across cluster]\u001b[0m\n"
     ]
    },
    {
     "name": "stdout",
     "output_type": "stream",
     "text": [
      "\u001b[2m\u001b[36m(train_mcdo pid=3490794)\u001b[0m Early stopping triggered at epoch 49\u001b[32m [repeated 6x across cluster]\u001b[0m\n",
      "\u001b[2m\u001b[36m(train_mcdo pid=3491082)\u001b[0m Early stopping triggered at epoch 11\u001b[32m [repeated 5x across cluster]\u001b[0m\n"
     ]
    },
    {
     "name": "stderr",
     "output_type": "stream",
     "text": [
      "\u001b[2m\u001b[36m(train_mcdo pid=3491208)\u001b[0m /home/sgupta/anaconda3/envs/py39SAM/lib/python3.9/site-packages/torch/nn/modules/loss.py:535: UserWarning: Using a target size (torch.Size([11, 1])) that is different to the input size (torch.Size([11])). This will likely lead to incorrect results due to broadcasting. Please ensure they have the same size.\n",
      "\u001b[2m\u001b[36m(train_mcdo pid=3491208)\u001b[0m   return F.mse_loss(input, target, reduction=self.reduction)\n"
     ]
    },
    {
     "name": "stdout",
     "output_type": "stream",
     "text": [
      "\u001b[2m\u001b[36m(train_mcdo pid=3490249)\u001b[0m Early stopping triggered at epoch 41\u001b[32m [repeated 3x across cluster]\u001b[0m\n"
     ]
    },
    {
     "name": "stderr",
     "output_type": "stream",
     "text": [
      "\u001b[2m\u001b[36m(train_mcdo pid=3490249)\u001b[0m /home/sgupta/anaconda3/envs/py39SAM/lib/python3.9/site-packages/torch/nn/modules/loss.py:535: UserWarning: Using a target size (torch.Size([18, 1])) that is different to the input size (torch.Size([18])). This will likely lead to incorrect results due to broadcasting. Please ensure they have the same size.\n",
      "\u001b[2m\u001b[36m(train_mcdo pid=3490249)\u001b[0m   return F.mse_loss(input, target, reduction=self.reduction)\n",
      "\u001b[2m\u001b[36m(train_mcdo pid=3490249)\u001b[0m /home/sgupta/anaconda3/envs/py39SAM/lib/python3.9/site-packages/torch/nn/modules/loss.py:535: UserWarning: Using a target size (torch.Size([14, 1])) that is different to the input size (torch.Size([14])). This will likely lead to incorrect results due to broadcasting. Please ensure they have the same size.\n",
      "\u001b[2m\u001b[36m(train_mcdo pid=3490249)\u001b[0m   return F.mse_loss(input, target, reduction=self.reduction)\n",
      "\u001b[2m\u001b[36m(train_mcdo pid=3490249)\u001b[0m /home/sgupta/anaconda3/envs/py39SAM/lib/python3.9/site-packages/torch/nn/modules/loss.py:535: UserWarning: Using a target size (torch.Size([2, 1])) that is different to the input size (torch.Size([2])). This will likely lead to incorrect results due to broadcasting. Please ensure they have the same size.\n",
      "\u001b[2m\u001b[36m(train_mcdo pid=3490249)\u001b[0m   return F.mse_loss(input, target, reduction=self.reduction)\n"
     ]
    },
    {
     "name": "stdout",
     "output_type": "stream",
     "text": [
      "\u001b[2m\u001b[36m(train_mcdo pid=3491208)\u001b[0m Early stopping triggered at epoch 47\u001b[32m [repeated 3x across cluster]\u001b[0m\n"
     ]
    },
    {
     "name": "stderr",
     "output_type": "stream",
     "text": [
      "\u001b[2m\u001b[36m(train_mcdo pid=3491208)\u001b[0m /home/sgupta/anaconda3/envs/py39SAM/lib/python3.9/site-packages/torch/nn/modules/loss.py:535: UserWarning: Using a target size (torch.Size([16, 1])) that is different to the input size (torch.Size([16])). This will likely lead to incorrect results due to broadcasting. Please ensure they have the same size.\n",
      "\u001b[2m\u001b[36m(train_mcdo pid=3491208)\u001b[0m   return F.mse_loss(input, target, reduction=self.reduction)\n",
      "\u001b[2m\u001b[36m(train_mcdo pid=3490249)\u001b[0m /home/sgupta/anaconda3/envs/py39SAM/lib/python3.9/site-packages/torch/nn/modules/loss.py:535: UserWarning: Using a target size (torch.Size([5, 1])) that is different to the input size (torch.Size([5])). This will likely lead to incorrect results due to broadcasting. Please ensure they have the same size.\n",
      "\u001b[2m\u001b[36m(train_mcdo pid=3490249)\u001b[0m   return F.mse_loss(input, target, reduction=self.reduction)\n"
     ]
    },
    {
     "name": "stdout",
     "output_type": "stream",
     "text": [
      "\u001b[2m\u001b[36m(train_mcdo pid=3491140)\u001b[0m Early stopping triggered at epoch 72\u001b[32m [repeated 5x across cluster]\u001b[0m\n"
     ]
    },
    {
     "name": "stderr",
     "output_type": "stream",
     "text": [
      "\u001b[2m\u001b[36m(train_mcdo pid=3491140)\u001b[0m /home/sgupta/anaconda3/envs/py39SAM/lib/python3.9/site-packages/torch/nn/modules/loss.py:535: UserWarning: Using a target size (torch.Size([16, 1])) that is different to the input size (torch.Size([16])). This will likely lead to incorrect results due to broadcasting. Please ensure they have the same size.\n",
      "\u001b[2m\u001b[36m(train_mcdo pid=3491140)\u001b[0m   return F.mse_loss(input, target, reduction=self.reduction)\n",
      "\u001b[2m\u001b[36m(train_mcdo pid=3490943)\u001b[0m /home/sgupta/anaconda3/envs/py39SAM/lib/python3.9/site-packages/torch/nn/modules/loss.py:535: UserWarning: Using a target size (torch.Size([15, 1])) that is different to the input size (torch.Size([15])). This will likely lead to incorrect results due to broadcasting. Please ensure they have the same size.\n",
      "\u001b[2m\u001b[36m(train_mcdo pid=3490943)\u001b[0m   return F.mse_loss(input, target, reduction=self.reduction)\n"
     ]
    },
    {
     "name": "stdout",
     "output_type": "stream",
     "text": [
      "\u001b[2m\u001b[36m(train_mcdo pid=3490943)\u001b[0m Early stopping triggered at epoch 13\u001b[32m [repeated 6x across cluster]\u001b[0m\n"
     ]
    },
    {
     "name": "stderr",
     "output_type": "stream",
     "text": [
      "\u001b[2m\u001b[36m(train_mcdo pid=3491140)\u001b[0m /home/sgupta/anaconda3/envs/py39SAM/lib/python3.9/site-packages/torch/nn/modules/loss.py:535: UserWarning: Using a target size (torch.Size([18, 1])) that is different to the input size (torch.Size([18])). This will likely lead to incorrect results due to broadcasting. Please ensure they have the same size.\u001b[32m [repeated 7x across cluster]\u001b[0m\n",
      "\u001b[2m\u001b[36m(train_mcdo pid=3491140)\u001b[0m   return F.mse_loss(input, target, reduction=self.reduction)\u001b[32m [repeated 7x across cluster]\u001b[0m\n"
     ]
    },
    {
     "name": "stdout",
     "output_type": "stream",
     "text": [
      "\u001b[2m\u001b[36m(train_mcdo pid=3493238)\u001b[0m Early stopping triggered at epoch 36\u001b[32m [repeated 6x across cluster]\u001b[0m\n",
      "\u001b[2m\u001b[36m(train_mcdo pid=3491040)\u001b[0m Early stopping triggered at epoch 36\u001b[32m [repeated 3x across cluster]\u001b[0m\n",
      "\u001b[2m\u001b[36m(train_mcdo pid=3491040)\u001b[0m Early stopping triggered at epoch 36\u001b[32m [repeated 3x across cluster]\u001b[0m\n"
     ]
    },
    {
     "name": "stderr",
     "output_type": "stream",
     "text": [
      "\u001b[2m\u001b[36m(train_mcdo pid=3490249)\u001b[0m /home/sgupta/anaconda3/envs/py39SAM/lib/python3.9/site-packages/torch/nn/modules/loss.py:535: UserWarning: Using a target size (torch.Size([11, 1])) that is different to the input size (torch.Size([11])). This will likely lead to incorrect results due to broadcasting. Please ensure they have the same size.\u001b[32m [repeated 5x across cluster]\u001b[0m\n",
      "\u001b[2m\u001b[36m(train_mcdo pid=3490249)\u001b[0m   return F.mse_loss(input, target, reduction=self.reduction)\u001b[32m [repeated 5x across cluster]\u001b[0m\n"
     ]
    },
    {
     "name": "stdout",
     "output_type": "stream",
     "text": [
      "\u001b[2m\u001b[36m(train_mcdo pid=3491082)\u001b[0m Early stopping triggered at epoch 90\u001b[32m [repeated 3x across cluster]\u001b[0m\n"
     ]
    },
    {
     "name": "stderr",
     "output_type": "stream",
     "text": [
      "\u001b[2m\u001b[36m(train_mcdo pid=3490794)\u001b[0m /home/sgupta/anaconda3/envs/py39SAM/lib/python3.9/site-packages/torch/nn/modules/loss.py:535: UserWarning: Using a target size (torch.Size([7, 1])) that is different to the input size (torch.Size([7])). This will likely lead to incorrect results due to broadcasting. Please ensure they have the same size.\u001b[32m [repeated 2x across cluster]\u001b[0m\n",
      "\u001b[2m\u001b[36m(train_mcdo pid=3490794)\u001b[0m   return F.mse_loss(input, target, reduction=self.reduction)\u001b[32m [repeated 2x across cluster]\u001b[0m\n"
     ]
    },
    {
     "name": "stdout",
     "output_type": "stream",
     "text": [
      "\u001b[2m\u001b[36m(train_mcdo pid=3490249)\u001b[0m Early stopping triggered at epoch 50\u001b[32m [repeated 4x across cluster]\u001b[0m\n"
     ]
    },
    {
     "name": "stderr",
     "output_type": "stream",
     "text": [
      "\u001b[2m\u001b[36m(train_mcdo pid=3493694)\u001b[0m /home/sgupta/anaconda3/envs/py39SAM/lib/python3.9/site-packages/torch/nn/modules/loss.py:535: UserWarning: Using a target size (torch.Size([13, 1])) that is different to the input size (torch.Size([13])). This will likely lead to incorrect results due to broadcasting. Please ensure they have the same size.\u001b[32m [repeated 2x across cluster]\u001b[0m\n",
      "\u001b[2m\u001b[36m(train_mcdo pid=3493694)\u001b[0m   return F.mse_loss(input, target, reduction=self.reduction)\u001b[32m [repeated 2x across cluster]\u001b[0m\n"
     ]
    },
    {
     "name": "stdout",
     "output_type": "stream",
     "text": [
      "\u001b[2m\u001b[36m(train_mcdo pid=3490794)\u001b[0m Early stopping triggered at epoch 46\u001b[32m [repeated 6x across cluster]\u001b[0m\n"
     ]
    },
    {
     "name": "stderr",
     "output_type": "stream",
     "text": [
      "\u001b[2m\u001b[36m(train_mcdo pid=3490249)\u001b[0m /home/sgupta/anaconda3/envs/py39SAM/lib/python3.9/site-packages/torch/nn/modules/loss.py:535: UserWarning: Using a target size (torch.Size([6, 1])) that is different to the input size (torch.Size([6])). This will likely lead to incorrect results due to broadcasting. Please ensure they have the same size.\u001b[32m [repeated 5x across cluster]\u001b[0m\n",
      "\u001b[2m\u001b[36m(train_mcdo pid=3490249)\u001b[0m   return F.mse_loss(input, target, reduction=self.reduction)\u001b[32m [repeated 5x across cluster]\u001b[0m\n"
     ]
    },
    {
     "name": "stdout",
     "output_type": "stream",
     "text": [
      "\u001b[2m\u001b[36m(train_mcdo pid=3490249)\u001b[0m Early stopping triggered at epoch 70\u001b[32m [repeated 5x across cluster]\u001b[0m\n"
     ]
    },
    {
     "name": "stderr",
     "output_type": "stream",
     "text": [
      "\u001b[2m\u001b[36m(train_mcdo pid=3490249)\u001b[0m /home/sgupta/anaconda3/envs/py39SAM/lib/python3.9/site-packages/torch/nn/modules/loss.py:535: UserWarning: Using a target size (torch.Size([16, 1])) that is different to the input size (torch.Size([16])). This will likely lead to incorrect results due to broadcasting. Please ensure they have the same size.\u001b[32m [repeated 3x across cluster]\u001b[0m\n",
      "\u001b[2m\u001b[36m(train_mcdo pid=3490249)\u001b[0m   return F.mse_loss(input, target, reduction=self.reduction)\u001b[32m [repeated 3x across cluster]\u001b[0m\n"
     ]
    },
    {
     "name": "stdout",
     "output_type": "stream",
     "text": [
      "\u001b[2m\u001b[36m(train_mcdo pid=3491539)\u001b[0m Early stopping triggered at epoch 34\u001b[32m [repeated 3x across cluster]\u001b[0m\n",
      "\u001b[2m\u001b[36m(train_mcdo pid=3491040)\u001b[0m Early stopping triggered at epoch 18\u001b[32m [repeated 3x across cluster]\u001b[0m\n",
      "\u001b[2m\u001b[36m(train_mcdo pid=3493238)\u001b[0m Early stopping triggered at epoch 21\u001b[32m [repeated 4x across cluster]\u001b[0m\n"
     ]
    },
    {
     "name": "stderr",
     "output_type": "stream",
     "text": [
      "\u001b[2m\u001b[36m(train_mcdo pid=3493238)\u001b[0m /home/sgupta/anaconda3/envs/py39SAM/lib/python3.9/site-packages/torch/nn/modules/loss.py:535: UserWarning: Using a target size (torch.Size([16, 1])) that is different to the input size (torch.Size([16])). This will likely lead to incorrect results due to broadcasting. Please ensure they have the same size.\n",
      "\u001b[2m\u001b[36m(train_mcdo pid=3493238)\u001b[0m   return F.mse_loss(input, target, reduction=self.reduction)\n"
     ]
    },
    {
     "name": "stdout",
     "output_type": "stream",
     "text": [
      "\u001b[2m\u001b[36m(train_mcdo pid=3490794)\u001b[0m Early stopping triggered at epoch 21\u001b[32m [repeated 5x across cluster]\u001b[0m\n"
     ]
    },
    {
     "name": "stderr",
     "output_type": "stream",
     "text": [
      "\u001b[2m\u001b[36m(train_mcdo pid=3491539)\u001b[0m /home/sgupta/anaconda3/envs/py39SAM/lib/python3.9/site-packages/torch/nn/modules/loss.py:535: UserWarning: Using a target size (torch.Size([15, 1])) that is different to the input size (torch.Size([15])). This will likely lead to incorrect results due to broadcasting. Please ensure they have the same size.\n",
      "\u001b[2m\u001b[36m(train_mcdo pid=3491539)\u001b[0m   return F.mse_loss(input, target, reduction=self.reduction)\n"
     ]
    },
    {
     "name": "stdout",
     "output_type": "stream",
     "text": [
      "\u001b[2m\u001b[36m(train_mcdo pid=3491140)\u001b[0m Early stopping triggered at epoch 33\u001b[32m [repeated 3x across cluster]\u001b[0m\n",
      "\u001b[2m\u001b[36m(train_mcdo pid=3490943)\u001b[0m Early stopping triggered at epoch 23\u001b[32m [repeated 3x across cluster]\u001b[0m\n"
     ]
    },
    {
     "name": "stderr",
     "output_type": "stream",
     "text": [
      "\u001b[2m\u001b[36m(train_mcdo pid=3490943)\u001b[0m /home/sgupta/anaconda3/envs/py39SAM/lib/python3.9/site-packages/torch/nn/modules/loss.py:535: UserWarning: Using a target size (torch.Size([18, 1])) that is different to the input size (torch.Size([18])). This will likely lead to incorrect results due to broadcasting. Please ensure they have the same size.\u001b[32m [repeated 2x across cluster]\u001b[0m\n",
      "\u001b[2m\u001b[36m(train_mcdo pid=3490943)\u001b[0m   return F.mse_loss(input, target, reduction=self.reduction)\u001b[32m [repeated 2x across cluster]\u001b[0m\n"
     ]
    },
    {
     "name": "stdout",
     "output_type": "stream",
     "text": [
      "\u001b[2m\u001b[36m(train_mcdo pid=3493238)\u001b[0m Early stopping triggered at epoch 86\u001b[32m [repeated 5x across cluster]\u001b[0m\n",
      "\u001b[2m\u001b[36m(train_mcdo pid=3493238)\u001b[0m Early stopping triggered at epoch 12\u001b[32m [repeated 3x across cluster]\u001b[0m\n"
     ]
    },
    {
     "name": "stderr",
     "output_type": "stream",
     "text": [
      "\u001b[2m\u001b[36m(train_mcdo pid=3491539)\u001b[0m /home/sgupta/anaconda3/envs/py39SAM/lib/python3.9/site-packages/torch/nn/modules/loss.py:535: UserWarning: Using a target size (torch.Size([17, 1])) that is different to the input size (torch.Size([17])). This will likely lead to incorrect results due to broadcasting. Please ensure they have the same size.\u001b[32m [repeated 4x across cluster]\u001b[0m\n",
      "\u001b[2m\u001b[36m(train_mcdo pid=3491539)\u001b[0m   return F.mse_loss(input, target, reduction=self.reduction)\u001b[32m [repeated 4x across cluster]\u001b[0m\n"
     ]
    },
    {
     "name": "stdout",
     "output_type": "stream",
     "text": [
      "\u001b[2m\u001b[36m(train_mcdo pid=3490943)\u001b[0m Early stopping triggered at epoch 58\u001b[32m [repeated 3x across cluster]\u001b[0m\n"
     ]
    },
    {
     "name": "stderr",
     "output_type": "stream",
     "text": [
      "\u001b[2m\u001b[36m(train_mcdo pid=3490794)\u001b[0m /home/sgupta/anaconda3/envs/py39SAM/lib/python3.9/site-packages/torch/nn/modules/loss.py:535: UserWarning: Using a target size (torch.Size([14, 1])) that is different to the input size (torch.Size([14])). This will likely lead to incorrect results due to broadcasting. Please ensure they have the same size.\u001b[32m [repeated 3x across cluster]\u001b[0m\n",
      "\u001b[2m\u001b[36m(train_mcdo pid=3490794)\u001b[0m   return F.mse_loss(input, target, reduction=self.reduction)\u001b[32m [repeated 3x across cluster]\u001b[0m\n"
     ]
    },
    {
     "name": "stdout",
     "output_type": "stream",
     "text": [
      "\u001b[2m\u001b[36m(train_mcdo pid=3491539)\u001b[0m Early stopping triggered at epoch 104\u001b[32m [repeated 3x across cluster]\u001b[0m\n",
      "\u001b[2m\u001b[36m(train_mcdo pid=3491140)\u001b[0m Early stopping triggered at epoch 6\u001b[32m [repeated 4x across cluster]\u001b[0m\n",
      "\u001b[2m\u001b[36m(train_mcdo pid=3490249)\u001b[0m Early stopping triggered at epoch 35\u001b[32m [repeated 2x across cluster]\u001b[0m\n",
      "\u001b[2m\u001b[36m(train_mcdo pid=3491140)\u001b[0m Early stopping triggered at epoch 6\u001b[32m [repeated 4x across cluster]\u001b[0m\n"
     ]
    },
    {
     "name": "stderr",
     "output_type": "stream",
     "text": [
      "\u001b[2m\u001b[36m(train_mcdo pid=3490249)\u001b[0m /home/sgupta/anaconda3/envs/py39SAM/lib/python3.9/site-packages/torch/nn/modules/loss.py:535: UserWarning: Using a target size (torch.Size([3, 1])) that is different to the input size (torch.Size([3])). This will likely lead to incorrect results due to broadcasting. Please ensure they have the same size.\n",
      "\u001b[2m\u001b[36m(train_mcdo pid=3490249)\u001b[0m   return F.mse_loss(input, target, reduction=self.reduction)\n",
      "\u001b[2m\u001b[36m(train_mcdo pid=3502289)\u001b[0m /home/sgupta/anaconda3/envs/py39SAM/lib/python3.9/site-packages/torch/nn/modules/loss.py:535: UserWarning: Using a target size (torch.Size([16, 1])) that is different to the input size (torch.Size([16])). This will likely lead to incorrect results due to broadcasting. Please ensure they have the same size.\n",
      "\u001b[2m\u001b[36m(train_mcdo pid=3502289)\u001b[0m   return F.mse_loss(input, target, reduction=self.reduction)\n",
      "\u001b[2m\u001b[36m(train_mcdo pid=3502289)\u001b[0m /home/sgupta/anaconda3/envs/py39SAM/lib/python3.9/site-packages/torch/nn/modules/loss.py:535: UserWarning: Using a target size (torch.Size([4, 1])) that is different to the input size (torch.Size([4])). This will likely lead to incorrect results due to broadcasting. Please ensure they have the same size.\n",
      "\u001b[2m\u001b[36m(train_mcdo pid=3502289)\u001b[0m   return F.mse_loss(input, target, reduction=self.reduction)\n"
     ]
    },
    {
     "name": "stdout",
     "output_type": "stream",
     "text": [
      "\u001b[2m\u001b[36m(train_mcdo pid=3490249)\u001b[0m Early stopping triggered at epoch 10\u001b[32m [repeated 5x across cluster]\u001b[0m\n"
     ]
    },
    {
     "name": "stderr",
     "output_type": "stream",
     "text": [
      "\u001b[2m\u001b[36m(train_mcdo pid=3502289)\u001b[0m /home/sgupta/anaconda3/envs/py39SAM/lib/python3.9/site-packages/torch/nn/modules/loss.py:535: UserWarning: Using a target size (torch.Size([8, 1])) that is different to the input size (torch.Size([8])). This will likely lead to incorrect results due to broadcasting. Please ensure they have the same size.\n",
      "\u001b[2m\u001b[36m(train_mcdo pid=3502289)\u001b[0m   return F.mse_loss(input, target, reduction=self.reduction)\n"
     ]
    },
    {
     "name": "stdout",
     "output_type": "stream",
     "text": [
      "\u001b[2m\u001b[36m(train_mcdo pid=3491539)\u001b[0m Early stopping triggered at epoch 39\u001b[32m [repeated 2x across cluster]\u001b[0m\n"
     ]
    },
    {
     "name": "stderr",
     "output_type": "stream",
     "text": [
      "\u001b[2m\u001b[36m(train_mcdo pid=3502289)\u001b[0m /home/sgupta/anaconda3/envs/py39SAM/lib/python3.9/site-packages/torch/nn/modules/loss.py:535: UserWarning: Using a target size (torch.Size([18, 1])) that is different to the input size (torch.Size([18])). This will likely lead to incorrect results due to broadcasting. Please ensure they have the same size.\n",
      "\u001b[2m\u001b[36m(train_mcdo pid=3502289)\u001b[0m   return F.mse_loss(input, target, reduction=self.reduction)\n",
      "\u001b[2m\u001b[36m(train_mcdo pid=3502289)\u001b[0m /home/sgupta/anaconda3/envs/py39SAM/lib/python3.9/site-packages/torch/nn/modules/loss.py:535: UserWarning: Using a target size (torch.Size([14, 1])) that is different to the input size (torch.Size([14])). This will likely lead to incorrect results due to broadcasting. Please ensure they have the same size.\n",
      "\u001b[2m\u001b[36m(train_mcdo pid=3502289)\u001b[0m   return F.mse_loss(input, target, reduction=self.reduction)\n",
      "\u001b[2m\u001b[36m(train_mcdo pid=3502289)\u001b[0m /home/sgupta/anaconda3/envs/py39SAM/lib/python3.9/site-packages/torch/nn/modules/loss.py:535: UserWarning: Using a target size (torch.Size([2, 1])) that is different to the input size (torch.Size([2])). This will likely lead to incorrect results due to broadcasting. Please ensure they have the same size.\n",
      "\u001b[2m\u001b[36m(train_mcdo pid=3502289)\u001b[0m   return F.mse_loss(input, target, reduction=self.reduction)\n"
     ]
    },
    {
     "name": "stdout",
     "output_type": "stream",
     "text": [
      "\u001b[2m\u001b[36m(train_mcdo pid=3491432)\u001b[0m Early stopping triggered at epoch 23\u001b[32m [repeated 4x across cluster]\u001b[0m\n"
     ]
    },
    {
     "name": "stderr",
     "output_type": "stream",
     "text": [
      "\u001b[2m\u001b[36m(train_mcdo pid=3490574)\u001b[0m /home/sgupta/anaconda3/envs/py39SAM/lib/python3.9/site-packages/torch/nn/modules/loss.py:535: UserWarning: Using a target size (torch.Size([19, 1])) that is different to the input size (torch.Size([19])). This will likely lead to incorrect results due to broadcasting. Please ensure they have the same size.\n",
      "\u001b[2m\u001b[36m(train_mcdo pid=3490574)\u001b[0m   return F.mse_loss(input, target, reduction=self.reduction)\n",
      "\u001b[2m\u001b[36m(train_mcdo pid=3490574)\u001b[0m /home/sgupta/anaconda3/envs/py39SAM/lib/python3.9/site-packages/torch/nn/modules/loss.py:535: UserWarning: Using a target size (torch.Size([6, 1])) that is different to the input size (torch.Size([6])). This will likely lead to incorrect results due to broadcasting. Please ensure they have the same size.\n",
      "\u001b[2m\u001b[36m(train_mcdo pid=3490574)\u001b[0m   return F.mse_loss(input, target, reduction=self.reduction)\n",
      "\u001b[2m\u001b[36m(train_mcdo pid=3490574)\u001b[0m /home/sgupta/anaconda3/envs/py39SAM/lib/python3.9/site-packages/torch/nn/modules/loss.py:535: UserWarning: Using a target size (torch.Size([10, 1])) that is different to the input size (torch.Size([10])). This will likely lead to incorrect results due to broadcasting. Please ensure they have the same size.\n",
      "\u001b[2m\u001b[36m(train_mcdo pid=3490574)\u001b[0m   return F.mse_loss(input, target, reduction=self.reduction)\n"
     ]
    },
    {
     "name": "stdout",
     "output_type": "stream",
     "text": [
      "\u001b[2m\u001b[36m(train_mcdo pid=3502289)\u001b[0m Early stopping triggered at epoch 63\u001b[32m [repeated 3x across cluster]\u001b[0m\n"
     ]
    },
    {
     "name": "stderr",
     "output_type": "stream",
     "text": [
      "\u001b[2m\u001b[36m(train_mcdo pid=3490794)\u001b[0m /home/sgupta/anaconda3/envs/py39SAM/lib/python3.9/site-packages/torch/nn/modules/loss.py:535: UserWarning: Using a target size (torch.Size([17, 1])) that is different to the input size (torch.Size([17])). This will likely lead to incorrect results due to broadcasting. Please ensure they have the same size.\u001b[32m [repeated 4x across cluster]\u001b[0m\n",
      "\u001b[2m\u001b[36m(train_mcdo pid=3490794)\u001b[0m   return F.mse_loss(input, target, reduction=self.reduction)\u001b[32m [repeated 4x across cluster]\u001b[0m\n"
     ]
    },
    {
     "name": "stdout",
     "output_type": "stream",
     "text": [
      "\u001b[2m\u001b[36m(train_mcdo pid=3491140)\u001b[0m Early stopping triggered at epoch 56\u001b[32m [repeated 3x across cluster]\u001b[0m\n"
     ]
    },
    {
     "name": "stderr",
     "output_type": "stream",
     "text": [
      "\u001b[2m\u001b[36m(train_mcdo pid=3493238)\u001b[0m /home/sgupta/anaconda3/envs/py39SAM/lib/python3.9/site-packages/torch/nn/modules/loss.py:535: UserWarning: Using a target size (torch.Size([14, 1])) that is different to the input size (torch.Size([14])). This will likely lead to incorrect results due to broadcasting. Please ensure they have the same size.\n",
      "\u001b[2m\u001b[36m(train_mcdo pid=3493238)\u001b[0m   return F.mse_loss(input, target, reduction=self.reduction)\n"
     ]
    },
    {
     "name": "stdout",
     "output_type": "stream",
     "text": [
      "\u001b[2m\u001b[36m(train_mcdo pid=3491040)\u001b[0m Early stopping triggered at epoch 38\u001b[32m [repeated 4x across cluster]\u001b[0m\n"
     ]
    },
    {
     "name": "stderr",
     "output_type": "stream",
     "text": [
      "\u001b[2m\u001b[36m(train_mcdo pid=3502289)\u001b[0m /home/sgupta/anaconda3/envs/py39SAM/lib/python3.9/site-packages/torch/nn/modules/loss.py:535: UserWarning: Using a target size (torch.Size([9, 1])) that is different to the input size (torch.Size([9])). This will likely lead to incorrect results due to broadcasting. Please ensure they have the same size.\n",
      "\u001b[2m\u001b[36m(train_mcdo pid=3502289)\u001b[0m   return F.mse_loss(input, target, reduction=self.reduction)\n",
      "\u001b[2m\u001b[36m(train_mcdo pid=3502289)\u001b[0m /home/sgupta/anaconda3/envs/py39SAM/lib/python3.9/site-packages/torch/nn/modules/loss.py:535: UserWarning: Using a target size (torch.Size([5, 1])) that is different to the input size (torch.Size([5])). This will likely lead to incorrect results due to broadcasting. Please ensure they have the same size.\n",
      "\u001b[2m\u001b[36m(train_mcdo pid=3502289)\u001b[0m   return F.mse_loss(input, target, reduction=self.reduction)\n"
     ]
    },
    {
     "name": "stdout",
     "output_type": "stream",
     "text": [
      "\u001b[2m\u001b[36m(train_mcdo pid=3491615)\u001b[0m Early stopping triggered at epoch 55\u001b[32m [repeated 4x across cluster]\u001b[0m\n",
      "\u001b[2m\u001b[36m(train_mcdo pid=3491432)\u001b[0m Early stopping triggered at epoch 62\u001b[32m [repeated 3x across cluster]\u001b[0m\n"
     ]
    },
    {
     "name": "stderr",
     "output_type": "stream",
     "text": [
      "\u001b[2m\u001b[36m(train_mcdo pid=3493238)\u001b[0m /home/sgupta/anaconda3/envs/py39SAM/lib/python3.9/site-packages/torch/nn/modules/loss.py:535: UserWarning: Using a target size (torch.Size([7, 1])) that is different to the input size (torch.Size([7])). This will likely lead to incorrect results due to broadcasting. Please ensure they have the same size.\n",
      "\u001b[2m\u001b[36m(train_mcdo pid=3493238)\u001b[0m   return F.mse_loss(input, target, reduction=self.reduction)\n"
     ]
    },
    {
     "name": "stdout",
     "output_type": "stream",
     "text": [
      "\u001b[2m\u001b[36m(train_mcdo pid=3490794)\u001b[0m Early stopping triggered at epoch 80\u001b[32m [repeated 4x across cluster]\u001b[0m\n",
      "\u001b[2m\u001b[36m(train_mcdo pid=3491615)\u001b[0m Early stopping triggered at epoch 52\u001b[32m [repeated 2x across cluster]\u001b[0m\n"
     ]
    },
    {
     "name": "stderr",
     "output_type": "stream",
     "text": [
      "\u001b[2m\u001b[36m(train_mcdo pid=3493238)\u001b[0m /home/sgupta/anaconda3/envs/py39SAM/lib/python3.9/site-packages/torch/nn/modules/loss.py:535: UserWarning: Using a target size (torch.Size([18, 1])) that is different to the input size (torch.Size([18])). This will likely lead to incorrect results due to broadcasting. Please ensure they have the same size.\n",
      "\u001b[2m\u001b[36m(train_mcdo pid=3493238)\u001b[0m   return F.mse_loss(input, target, reduction=self.reduction)\n"
     ]
    },
    {
     "name": "stdout",
     "output_type": "stream",
     "text": [
      "\u001b[2m\u001b[36m(train_mcdo pid=3491432)\u001b[0m Early stopping triggered at epoch 126\u001b[32m [repeated 3x across cluster]\u001b[0m\n"
     ]
    },
    {
     "name": "stderr",
     "output_type": "stream",
     "text": [
      "\u001b[2m\u001b[36m(train_mcdo pid=3491432)\u001b[0m /home/sgupta/anaconda3/envs/py39SAM/lib/python3.9/site-packages/torch/nn/modules/loss.py:535: UserWarning: Using a target size (torch.Size([13, 1])) that is different to the input size (torch.Size([13])). This will likely lead to incorrect results due to broadcasting. Please ensure they have the same size.\u001b[32m [repeated 2x across cluster]\u001b[0m\n",
      "\u001b[2m\u001b[36m(train_mcdo pid=3491432)\u001b[0m   return F.mse_loss(input, target, reduction=self.reduction)\u001b[32m [repeated 2x across cluster]\u001b[0m\n",
      "\u001b[2m\u001b[36m(train_mcdo pid=3503988)\u001b[0m /home/sgupta/anaconda3/envs/py39SAM/lib/python3.9/site-packages/torch/nn/modules/loss.py:535: UserWarning: Using a target size (torch.Size([1, 1])) that is different to the input size (torch.Size([1])). This will likely lead to incorrect results due to broadcasting. Please ensure they have the same size.\n",
      "\u001b[2m\u001b[36m(train_mcdo pid=3503988)\u001b[0m   return F.mse_loss(input, target, reduction=self.reduction)\n"
     ]
    },
    {
     "name": "stdout",
     "output_type": "stream",
     "text": [
      "\u001b[2m\u001b[36m(train_mcdo pid=3490574)\u001b[0m Early stopping triggered at epoch 49\u001b[32m [repeated 2x across cluster]\u001b[0m\n",
      "\u001b[2m\u001b[36m(train_mcdo pid=3490633)\u001b[0m Early stopping triggered at epoch 40\u001b[32m [repeated 5x across cluster]\u001b[0m\n",
      "\u001b[2m\u001b[36m(train_mcdo pid=3491082)\u001b[0m Early stopping triggered at epoch 284\u001b[32m [repeated 5x across cluster]\u001b[0m\n",
      "\u001b[2m\u001b[36m(train_mcdo pid=3490574)\u001b[0m Early stopping triggered at epoch 43\u001b[32m [repeated 2x across cluster]\u001b[0m\n"
     ]
    },
    {
     "name": "stderr",
     "output_type": "stream",
     "text": [
      "\u001b[2m\u001b[36m(train_mcdo pid=3504447)\u001b[0m /home/sgupta/anaconda3/envs/py39SAM/lib/python3.9/site-packages/torch/nn/modules/loss.py:535: UserWarning: Using a target size (torch.Size([8, 1])) that is different to the input size (torch.Size([8])). This will likely lead to incorrect results due to broadcasting. Please ensure they have the same size.\n",
      "\u001b[2m\u001b[36m(train_mcdo pid=3504447)\u001b[0m   return F.mse_loss(input, target, reduction=self.reduction)\n",
      "\u001b[2m\u001b[36m(train_mcdo pid=3504447)\u001b[0m /home/sgupta/anaconda3/envs/py39SAM/lib/python3.9/site-packages/torch/nn/modules/loss.py:535: UserWarning: Using a target size (torch.Size([4, 1])) that is different to the input size (torch.Size([4])). This will likely lead to incorrect results due to broadcasting. Please ensure they have the same size.\n",
      "\u001b[2m\u001b[36m(train_mcdo pid=3504447)\u001b[0m   return F.mse_loss(input, target, reduction=self.reduction)\n"
     ]
    },
    {
     "name": "stdout",
     "output_type": "stream",
     "text": [
      "\u001b[2m\u001b[36m(train_mcdo pid=3490794)\u001b[0m Early stopping triggered at epoch 82\u001b[32m [repeated 2x across cluster]\u001b[0m\n",
      "\u001b[2m\u001b[36m(train_mcdo pid=3491082)\u001b[0m Early stopping triggered at epoch 51\u001b[32m [repeated 3x across cluster]\u001b[0m\n"
     ]
    },
    {
     "name": "stderr",
     "output_type": "stream",
     "text": [
      "\u001b[2m\u001b[36m(train_mcdo pid=3491615)\u001b[0m /home/sgupta/anaconda3/envs/py39SAM/lib/python3.9/site-packages/torch/nn/modules/loss.py:535: UserWarning: Using a target size (torch.Size([12, 1])) that is different to the input size (torch.Size([12])). This will likely lead to incorrect results due to broadcasting. Please ensure they have the same size.\n",
      "\u001b[2m\u001b[36m(train_mcdo pid=3491615)\u001b[0m   return F.mse_loss(input, target, reduction=self.reduction)\n",
      "\u001b[2m\u001b[36m(train_mcdo pid=3491082)\u001b[0m /home/sgupta/anaconda3/envs/py39SAM/lib/python3.9/site-packages/torch/nn/modules/loss.py:535: UserWarning: Using a target size (torch.Size([15, 1])) that is different to the input size (torch.Size([15])). This will likely lead to incorrect results due to broadcasting. Please ensure they have the same size.\n",
      "\u001b[2m\u001b[36m(train_mcdo pid=3491082)\u001b[0m   return F.mse_loss(input, target, reduction=self.reduction)\n"
     ]
    },
    {
     "name": "stdout",
     "output_type": "stream",
     "text": [
      "\u001b[2m\u001b[36m(train_mcdo pid=3490633)\u001b[0m Early stopping triggered at epoch 31\u001b[32m [repeated 4x across cluster]\u001b[0m\n"
     ]
    },
    {
     "name": "stderr",
     "output_type": "stream",
     "text": [
      "\u001b[2m\u001b[36m(train_mcdo pid=3491615)\u001b[0m /home/sgupta/anaconda3/envs/py39SAM/lib/python3.9/site-packages/torch/nn/modules/loss.py:535: UserWarning: Using a target size (torch.Size([19, 1])) that is different to the input size (torch.Size([19])). This will likely lead to incorrect results due to broadcasting. Please ensure they have the same size.\u001b[32m [repeated 2x across cluster]\u001b[0m\n",
      "\u001b[2m\u001b[36m(train_mcdo pid=3491615)\u001b[0m   return F.mse_loss(input, target, reduction=self.reduction)\u001b[32m [repeated 2x across cluster]\u001b[0m\n"
     ]
    },
    {
     "name": "stdout",
     "output_type": "stream",
     "text": [
      "\u001b[2m\u001b[36m(train_mcdo pid=3491615)\u001b[0m Early stopping triggered at epoch 11\u001b[32m [repeated 5x across cluster]\u001b[0m\n",
      "\u001b[2m\u001b[36m(train_mcdo pid=3490574)\u001b[0m Early stopping triggered at epoch 49\u001b[32m [repeated 3x across cluster]\u001b[0m\n"
     ]
    },
    {
     "name": "stderr",
     "output_type": "stream",
     "text": [
      "\u001b[2m\u001b[36m(train_mcdo pid=3504447)\u001b[0m /home/sgupta/anaconda3/envs/py39SAM/lib/python3.9/site-packages/torch/nn/modules/loss.py:535: UserWarning: Using a target size (torch.Size([6, 1])) that is different to the input size (torch.Size([6])). This will likely lead to incorrect results due to broadcasting. Please ensure they have the same size.\n",
      "\u001b[2m\u001b[36m(train_mcdo pid=3504447)\u001b[0m   return F.mse_loss(input, target, reduction=self.reduction)\n",
      "\u001b[2m\u001b[36m(train_mcdo pid=3504447)\u001b[0m /home/sgupta/anaconda3/envs/py39SAM/lib/python3.9/site-packages/torch/nn/modules/loss.py:535: UserWarning: Using a target size (torch.Size([2, 1])) that is different to the input size (torch.Size([2])). This will likely lead to incorrect results due to broadcasting. Please ensure they have the same size.\n",
      "\u001b[2m\u001b[36m(train_mcdo pid=3504447)\u001b[0m   return F.mse_loss(input, target, reduction=self.reduction)\n"
     ]
    },
    {
     "name": "stdout",
     "output_type": "stream",
     "text": [
      "\u001b[2m\u001b[36m(train_mcdo pid=3490574)\u001b[0m Early stopping triggered at epoch 14\u001b[32m [repeated 3x across cluster]\u001b[0m\n",
      "\u001b[2m\u001b[36m(train_mcdo pid=3493694)\u001b[0m Early stopping triggered at epoch 23\u001b[32m [repeated 5x across cluster]\u001b[0m\n"
     ]
    },
    {
     "name": "stderr",
     "output_type": "stream",
     "text": [
      "\u001b[2m\u001b[36m(train_mcdo pid=3503988)\u001b[0m /home/sgupta/anaconda3/envs/py39SAM/lib/python3.9/site-packages/torch/nn/modules/loss.py:535: UserWarning: Using a target size (torch.Size([13, 1])) that is different to the input size (torch.Size([13])). This will likely lead to incorrect results due to broadcasting. Please ensure they have the same size.\u001b[32m [repeated 5x across cluster]\u001b[0m\n",
      "\u001b[2m\u001b[36m(train_mcdo pid=3503988)\u001b[0m   return F.mse_loss(input, target, reduction=self.reduction)\u001b[32m [repeated 5x across cluster]\u001b[0m\n"
     ]
    },
    {
     "name": "stdout",
     "output_type": "stream",
     "text": [
      "\u001b[2m\u001b[36m(train_mcdo pid=3503988)\u001b[0m Early stopping triggered at epoch 9\u001b[32m [repeated 3x across cluster]\u001b[0m\n",
      "\u001b[2m\u001b[36m(train_mcdo pid=3490943)\u001b[0m Early stopping triggered at epoch 53\u001b[32m [repeated 4x across cluster]\u001b[0m\n",
      "\u001b[2m\u001b[36m(train_mcdo pid=3490574)\u001b[0m Early stopping triggered at epoch 46\u001b[32m [repeated 4x across cluster]\u001b[0m\n",
      "\u001b[2m\u001b[36m(train_mcdo pid=3493238)\u001b[0m Early stopping triggered at epoch 25\u001b[32m [repeated 3x across cluster]\u001b[0m\n"
     ]
    },
    {
     "name": "stderr",
     "output_type": "stream",
     "text": [
      "\u001b[2m\u001b[36m(train_mcdo pid=3493238)\u001b[0m /home/sgupta/anaconda3/envs/py39SAM/lib/python3.9/site-packages/torch/nn/modules/loss.py:535: UserWarning: Using a target size (torch.Size([15, 1])) that is different to the input size (torch.Size([15])). This will likely lead to incorrect results due to broadcasting. Please ensure they have the same size.\u001b[32m [repeated 6x across cluster]\u001b[0m\n",
      "\u001b[2m\u001b[36m(train_mcdo pid=3493238)\u001b[0m   return F.mse_loss(input, target, reduction=self.reduction)\u001b[32m [repeated 6x across cluster]\u001b[0m\n"
     ]
    },
    {
     "name": "stdout",
     "output_type": "stream",
     "text": [
      "\u001b[2m\u001b[36m(train_mcdo pid=3490943)\u001b[0m Early stopping triggered at epoch 45\u001b[32m [repeated 2x across cluster]\u001b[0m\n"
     ]
    },
    {
     "name": "stderr",
     "output_type": "stream",
     "text": [
      "\u001b[2m\u001b[36m(train_mcdo pid=3503988)\u001b[0m /home/sgupta/anaconda3/envs/py39SAM/lib/python3.9/site-packages/torch/nn/modules/loss.py:535: UserWarning: Using a target size (torch.Size([11, 1])) that is different to the input size (torch.Size([11])). This will likely lead to incorrect results due to broadcasting. Please ensure they have the same size.\n",
      "\u001b[2m\u001b[36m(train_mcdo pid=3503988)\u001b[0m   return F.mse_loss(input, target, reduction=self.reduction)\n"
     ]
    },
    {
     "name": "stdout",
     "output_type": "stream",
     "text": [
      "\u001b[2m\u001b[36m(train_mcdo pid=3504447)\u001b[0m Early stopping triggered at epoch 17\u001b[32m [repeated 3x across cluster]\u001b[0m\n"
     ]
    },
    {
     "name": "stderr",
     "output_type": "stream",
     "text": [
      "\u001b[2m\u001b[36m(train_mcdo pid=3504447)\u001b[0m /home/sgupta/anaconda3/envs/py39SAM/lib/python3.9/site-packages/torch/nn/modules/loss.py:535: UserWarning: Using a target size (torch.Size([7, 1])) that is different to the input size (torch.Size([7])). This will likely lead to incorrect results due to broadcasting. Please ensure they have the same size.\n",
      "\u001b[2m\u001b[36m(train_mcdo pid=3504447)\u001b[0m   return F.mse_loss(input, target, reduction=self.reduction)\n",
      "\u001b[2m\u001b[36m(train_mcdo pid=3504447)\u001b[0m /home/sgupta/anaconda3/envs/py39SAM/lib/python3.9/site-packages/torch/nn/modules/loss.py:535: UserWarning: Using a target size (torch.Size([3, 1])) that is different to the input size (torch.Size([3])). This will likely lead to incorrect results due to broadcasting. Please ensure they have the same size.\n",
      "\u001b[2m\u001b[36m(train_mcdo pid=3504447)\u001b[0m   return F.mse_loss(input, target, reduction=self.reduction)\n"
     ]
    },
    {
     "name": "stdout",
     "output_type": "stream",
     "text": [
      "\u001b[2m\u001b[36m(train_mcdo pid=3503988)\u001b[0m Early stopping triggered at epoch 64\u001b[32m [repeated 3x across cluster]\u001b[0m\n"
     ]
    },
    {
     "name": "stderr",
     "output_type": "stream",
     "text": [
      "\u001b[2m\u001b[36m(train_mcdo pid=3503988)\u001b[0m /home/sgupta/anaconda3/envs/py39SAM/lib/python3.9/site-packages/torch/nn/modules/loss.py:535: UserWarning: Using a target size (torch.Size([3, 1])) that is different to the input size (torch.Size([3])). This will likely lead to incorrect results due to broadcasting. Please ensure they have the same size.\n",
      "\u001b[2m\u001b[36m(train_mcdo pid=3503988)\u001b[0m   return F.mse_loss(input, target, reduction=self.reduction)\n"
     ]
    },
    {
     "name": "stdout",
     "output_type": "stream",
     "text": [
      "\u001b[2m\u001b[36m(train_mcdo pid=3491082)\u001b[0m Early stopping triggered at epoch 116\u001b[32m [repeated 3x across cluster]\u001b[0m\n"
     ]
    },
    {
     "name": "stderr",
     "output_type": "stream",
     "text": [
      "\u001b[2m\u001b[36m(train_mcdo pid=3506596)\u001b[0m /home/sgupta/anaconda3/envs/py39SAM/lib/python3.9/site-packages/torch/nn/modules/loss.py:535: UserWarning: Using a target size (torch.Size([13, 1])) that is different to the input size (torch.Size([13])). This will likely lead to incorrect results due to broadcasting. Please ensure they have the same size.\n",
      "\u001b[2m\u001b[36m(train_mcdo pid=3506596)\u001b[0m   return F.mse_loss(input, target, reduction=self.reduction)\n",
      "\u001b[2m\u001b[36m(train_mcdo pid=3506596)\u001b[0m /home/sgupta/anaconda3/envs/py39SAM/lib/python3.9/site-packages/torch/nn/modules/loss.py:535: UserWarning: Using a target size (torch.Size([6, 1])) that is different to the input size (torch.Size([6])). This will likely lead to incorrect results due to broadcasting. Please ensure they have the same size.\n",
      "\u001b[2m\u001b[36m(train_mcdo pid=3506596)\u001b[0m   return F.mse_loss(input, target, reduction=self.reduction)\n",
      "\u001b[2m\u001b[36m(train_mcdo pid=3506596)\u001b[0m /home/sgupta/anaconda3/envs/py39SAM/lib/python3.9/site-packages/torch/nn/modules/loss.py:535: UserWarning: Using a target size (torch.Size([5, 1])) that is different to the input size (torch.Size([5])). This will likely lead to incorrect results due to broadcasting. Please ensure they have the same size.\n",
      "\u001b[2m\u001b[36m(train_mcdo pid=3506596)\u001b[0m   return F.mse_loss(input, target, reduction=self.reduction)\n"
     ]
    },
    {
     "name": "stdout",
     "output_type": "stream",
     "text": [
      "\u001b[2m\u001b[36m(train_mcdo pid=3502289)\u001b[0m Early stopping triggered at epoch 61\u001b[32m [repeated 2x across cluster]\u001b[0m\n"
     ]
    },
    {
     "name": "stderr",
     "output_type": "stream",
     "text": [
      "\u001b[2m\u001b[36m(train_mcdo pid=3506596)\u001b[0m /home/sgupta/anaconda3/envs/py39SAM/lib/python3.9/site-packages/torch/nn/modules/loss.py:535: UserWarning: Using a target size (torch.Size([8, 1])) that is different to the input size (torch.Size([8])). This will likely lead to incorrect results due to broadcasting. Please ensure they have the same size.\n",
      "\u001b[2m\u001b[36m(train_mcdo pid=3506596)\u001b[0m   return F.mse_loss(input, target, reduction=self.reduction)\n"
     ]
    },
    {
     "name": "stdout",
     "output_type": "stream",
     "text": [
      "\u001b[2m\u001b[36m(train_mcdo pid=3503988)\u001b[0m Early stopping triggered at epoch 33\u001b[32m [repeated 3x across cluster]\u001b[0m\n"
     ]
    },
    {
     "name": "stderr",
     "output_type": "stream",
     "text": [
      "\u001b[2m\u001b[36m(train_mcdo pid=3506596)\u001b[0m /home/sgupta/anaconda3/envs/py39SAM/lib/python3.9/site-packages/torch/nn/modules/loss.py:535: UserWarning: Using a target size (torch.Size([4, 1])) that is different to the input size (torch.Size([4])). This will likely lead to incorrect results due to broadcasting. Please ensure they have the same size.\n",
      "\u001b[2m\u001b[36m(train_mcdo pid=3506596)\u001b[0m   return F.mse_loss(input, target, reduction=self.reduction)\n"
     ]
    },
    {
     "name": "stdout",
     "output_type": "stream",
     "text": [
      "\u001b[2m\u001b[36m(train_mcdo pid=3491140)\u001b[0m Early stopping triggered at epoch 42\u001b[32m [repeated 2x across cluster]\u001b[0m\n",
      "\u001b[2m\u001b[36m(train_mcdo pid=3506596)\u001b[0m Early stopping triggered at epoch 33\u001b[32m [repeated 3x across cluster]\u001b[0m\n"
     ]
    },
    {
     "name": "stderr",
     "output_type": "stream",
     "text": [
      "\u001b[2m\u001b[36m(train_mcdo pid=3506596)\u001b[0m /home/sgupta/anaconda3/envs/py39SAM/lib/python3.9/site-packages/torch/nn/modules/loss.py:535: UserWarning: Using a target size (torch.Size([2, 1])) that is different to the input size (torch.Size([2])). This will likely lead to incorrect results due to broadcasting. Please ensure they have the same size.\u001b[32m [repeated 2x across cluster]\u001b[0m\n",
      "\u001b[2m\u001b[36m(train_mcdo pid=3506596)\u001b[0m   return F.mse_loss(input, target, reduction=self.reduction)\u001b[32m [repeated 2x across cluster]\u001b[0m\n",
      "\u001b[2m\u001b[36m(train_mcdo pid=3504447)\u001b[0m /home/sgupta/anaconda3/envs/py39SAM/lib/python3.9/site-packages/torch/nn/modules/loss.py:535: UserWarning: Using a target size (torch.Size([10, 1])) that is different to the input size (torch.Size([10])). This will likely lead to incorrect results due to broadcasting. Please ensure they have the same size.\u001b[32m [repeated 2x across cluster]\u001b[0m\n",
      "\u001b[2m\u001b[36m(train_mcdo pid=3504447)\u001b[0m   return F.mse_loss(input, target, reduction=self.reduction)\u001b[32m [repeated 2x across cluster]\u001b[0m\n"
     ]
    },
    {
     "name": "stdout",
     "output_type": "stream",
     "text": [
      "\u001b[2m\u001b[36m(train_mcdo pid=3493238)\u001b[0m Early stopping triggered at epoch 18\u001b[32m [repeated 4x across cluster]\u001b[0m\n",
      "\u001b[2m\u001b[36m(train_mcdo pid=3490574)\u001b[0m Early stopping triggered at epoch 29\u001b[32m [repeated 3x across cluster]\u001b[0m\n",
      "\u001b[2m\u001b[36m(train_mcdo pid=3502289)\u001b[0m Early stopping triggered at epoch 30\u001b[32m [repeated 2x across cluster]\u001b[0m\n"
     ]
    },
    {
     "name": "stderr",
     "output_type": "stream",
     "text": [
      "\u001b[2m\u001b[36m(train_mcdo pid=3502289)\u001b[0m /home/sgupta/anaconda3/envs/py39SAM/lib/python3.9/site-packages/torch/nn/modules/loss.py:535: UserWarning: Using a target size (torch.Size([11, 1])) that is different to the input size (torch.Size([11])). This will likely lead to incorrect results due to broadcasting. Please ensure they have the same size.\n",
      "\u001b[2m\u001b[36m(train_mcdo pid=3502289)\u001b[0m   return F.mse_loss(input, target, reduction=self.reduction)\n",
      "\u001b[2m\u001b[36m(train_mcdo pid=3504447)\u001b[0m /home/sgupta/anaconda3/envs/py39SAM/lib/python3.9/site-packages/torch/nn/modules/loss.py:535: UserWarning: Using a target size (torch.Size([9, 1])) that is different to the input size (torch.Size([9])). This will likely lead to incorrect results due to broadcasting. Please ensure they have the same size.\n",
      "\u001b[2m\u001b[36m(train_mcdo pid=3504447)\u001b[0m   return F.mse_loss(input, target, reduction=self.reduction)\n",
      "\u001b[2m\u001b[36m(train_mcdo pid=3504447)\u001b[0m /home/sgupta/anaconda3/envs/py39SAM/lib/python3.9/site-packages/torch/nn/modules/loss.py:535: UserWarning: Using a target size (torch.Size([5, 1])) that is different to the input size (torch.Size([5])). This will likely lead to incorrect results due to broadcasting. Please ensure they have the same size.\n",
      "\u001b[2m\u001b[36m(train_mcdo pid=3504447)\u001b[0m   return F.mse_loss(input, target, reduction=self.reduction)\n"
     ]
    },
    {
     "name": "stdout",
     "output_type": "stream",
     "text": [
      "\u001b[2m\u001b[36m(train_mcdo pid=3493694)\u001b[0m Early stopping triggered at epoch 87\u001b[32m [repeated 4x across cluster]\u001b[0m\n",
      "\u001b[2m\u001b[36m(train_mcdo pid=3490574)\u001b[0m Early stopping triggered at epoch 12\u001b[32m [repeated 2x across cluster]\u001b[0m\n"
     ]
    },
    {
     "name": "stderr",
     "output_type": "stream",
     "text": [
      "\u001b[2m\u001b[36m(train_mcdo pid=3506596)\u001b[0m /home/sgupta/anaconda3/envs/py39SAM/lib/python3.9/site-packages/torch/nn/modules/loss.py:535: UserWarning: Using a target size (torch.Size([12, 1])) that is different to the input size (torch.Size([12])). This will likely lead to incorrect results due to broadcasting. Please ensure they have the same size.\n",
      "\u001b[2m\u001b[36m(train_mcdo pid=3506596)\u001b[0m   return F.mse_loss(input, target, reduction=self.reduction)\n"
     ]
    },
    {
     "name": "stdout",
     "output_type": "stream",
     "text": [
      "\u001b[2m\u001b[36m(train_mcdo pid=3503988)\u001b[0m Early stopping triggered at epoch 16\u001b[32m [repeated 3x across cluster]\u001b[0m\n",
      "\u001b[2m\u001b[36m(train_mcdo pid=3506596)\u001b[0m Early stopping triggered at epoch 31\u001b[32m [repeated 4x across cluster]\u001b[0m\n"
     ]
    },
    {
     "name": "stderr",
     "output_type": "stream",
     "text": [
      "\u001b[2m\u001b[36m(train_mcdo pid=3506596)\u001b[0m /home/sgupta/anaconda3/envs/py39SAM/lib/python3.9/site-packages/torch/nn/modules/loss.py:535: UserWarning: Using a target size (torch.Size([17, 1])) that is different to the input size (torch.Size([17])). This will likely lead to incorrect results due to broadcasting. Please ensure they have the same size.\n",
      "\u001b[2m\u001b[36m(train_mcdo pid=3506596)\u001b[0m   return F.mse_loss(input, target, reduction=self.reduction)\n",
      "\u001b[2m\u001b[36m(train_mcdo pid=3506596)\u001b[0m /home/sgupta/anaconda3/envs/py39SAM/lib/python3.9/site-packages/torch/nn/modules/loss.py:535: UserWarning: Using a target size (torch.Size([7, 1])) that is different to the input size (torch.Size([7])). This will likely lead to incorrect results due to broadcasting. Please ensure they have the same size.\n",
      "\u001b[2m\u001b[36m(train_mcdo pid=3506596)\u001b[0m   return F.mse_loss(input, target, reduction=self.reduction)\n"
     ]
    },
    {
     "name": "stdout",
     "output_type": "stream",
     "text": [
      "\u001b[2m\u001b[36m(train_mcdo pid=3504447)\u001b[0m Early stopping triggered at epoch 52\u001b[32m [repeated 4x across cluster]\u001b[0m\n",
      "\u001b[2m\u001b[36m(train_mcdo pid=3493694)\u001b[0m Early stopping triggered at epoch 64\u001b[32m [repeated 3x across cluster]\u001b[0m\n",
      "\u001b[2m\u001b[36m(train_mcdo pid=3504447)\u001b[0m Early stopping triggered at epoch 23\u001b[32m [repeated 4x across cluster]\u001b[0m\n"
     ]
    },
    {
     "name": "stderr",
     "output_type": "stream",
     "text": [
      "\u001b[2m\u001b[36m(train_mcdo pid=3504447)\u001b[0m /home/sgupta/anaconda3/envs/py39SAM/lib/python3.9/site-packages/torch/nn/modules/loss.py:535: UserWarning: Using a target size (torch.Size([14, 1])) that is different to the input size (torch.Size([14])). This will likely lead to incorrect results due to broadcasting. Please ensure they have the same size.\n",
      "\u001b[2m\u001b[36m(train_mcdo pid=3504447)\u001b[0m   return F.mse_loss(input, target, reduction=self.reduction)\n"
     ]
    },
    {
     "name": "stdout",
     "output_type": "stream",
     "text": [
      "\u001b[2m\u001b[36m(train_mcdo pid=3504447)\u001b[0m Early stopping triggered at epoch 25\u001b[32m [repeated 3x across cluster]\u001b[0m\n",
      "\u001b[2m\u001b[36m(train_mcdo pid=3491615)\u001b[0m Early stopping triggered at epoch 31\u001b[32m [repeated 7x across cluster]\u001b[0m\n"
     ]
    },
    {
     "name": "stderr",
     "output_type": "stream",
     "text": [
      "\u001b[2m\u001b[36m(train_mcdo pid=3491615)\u001b[0m /home/sgupta/anaconda3/envs/py39SAM/lib/python3.9/site-packages/torch/nn/modules/loss.py:535: UserWarning: Using a target size (torch.Size([11, 1])) that is different to the input size (torch.Size([11])). This will likely lead to incorrect results due to broadcasting. Please ensure they have the same size.\n",
      "\u001b[2m\u001b[36m(train_mcdo pid=3491615)\u001b[0m   return F.mse_loss(input, target, reduction=self.reduction)\n"
     ]
    },
    {
     "name": "stdout",
     "output_type": "stream",
     "text": [
      "\u001b[2m\u001b[36m(train_mcdo pid=3491140)\u001b[0m Early stopping triggered at epoch 24\u001b[32m [repeated 7x across cluster]\u001b[0m\n"
     ]
    },
    {
     "name": "stderr",
     "output_type": "stream",
     "text": [
      "\u001b[2m\u001b[36m(train_mcdo pid=3491615)\u001b[0m /home/sgupta/anaconda3/envs/py39SAM/lib/python3.9/site-packages/torch/nn/modules/loss.py:535: UserWarning: Using a target size (torch.Size([15, 1])) that is different to the input size (torch.Size([15])). This will likely lead to incorrect results due to broadcasting. Please ensure they have the same size.\n",
      "\u001b[2m\u001b[36m(train_mcdo pid=3491615)\u001b[0m   return F.mse_loss(input, target, reduction=self.reduction)\n"
     ]
    },
    {
     "name": "stdout",
     "output_type": "stream",
     "text": [
      "\u001b[2m\u001b[36m(train_mcdo pid=3493694)\u001b[0m Early stopping triggered at epoch 41\u001b[32m [repeated 3x across cluster]\u001b[0m\n"
     ]
    },
    {
     "name": "stderr",
     "output_type": "stream",
     "text": [
      "\u001b[2m\u001b[36m(train_mcdo pid=3493694)\u001b[0m /home/sgupta/anaconda3/envs/py39SAM/lib/python3.9/site-packages/torch/nn/modules/loss.py:535: UserWarning: Using a target size (torch.Size([11, 1])) that is different to the input size (torch.Size([11])). This will likely lead to incorrect results due to broadcasting. Please ensure they have the same size.\n",
      "\u001b[2m\u001b[36m(train_mcdo pid=3493694)\u001b[0m   return F.mse_loss(input, target, reduction=self.reduction)\n"
     ]
    },
    {
     "name": "stdout",
     "output_type": "stream",
     "text": [
      "\u001b[2m\u001b[36m(train_mcdo pid=3491615)\u001b[0m Early stopping triggered at epoch 4\u001b[32m [repeated 3x across cluster]\u001b[0m\n",
      "\u001b[2m\u001b[36m(train_mcdo pid=3491040)\u001b[0m Early stopping triggered at epoch 72\u001b[32m [repeated 4x across cluster]\u001b[0m\n"
     ]
    },
    {
     "name": "stderr",
     "output_type": "stream",
     "text": [
      "\u001b[2m\u001b[36m(train_mcdo pid=3491539)\u001b[0m /home/sgupta/anaconda3/envs/py39SAM/lib/python3.9/site-packages/torch/nn/modules/loss.py:535: UserWarning: Using a target size (torch.Size([9, 1])) that is different to the input size (torch.Size([9])). This will likely lead to incorrect results due to broadcasting. Please ensure they have the same size.\n",
      "\u001b[2m\u001b[36m(train_mcdo pid=3491539)\u001b[0m   return F.mse_loss(input, target, reduction=self.reduction)\n"
     ]
    },
    {
     "name": "stdout",
     "output_type": "stream",
     "text": [
      "\u001b[2m\u001b[36m(train_mcdo pid=3491140)\u001b[0m Early stopping triggered at epoch 4\u001b[32m [repeated 4x across cluster]\u001b[0m\n"
     ]
    },
    {
     "name": "stderr",
     "output_type": "stream",
     "text": [
      "\u001b[2m\u001b[36m(train_mcdo pid=3493694)\u001b[0m /home/sgupta/anaconda3/envs/py39SAM/lib/python3.9/site-packages/torch/nn/modules/loss.py:535: UserWarning: Using a target size (torch.Size([17, 1])) that is different to the input size (torch.Size([17])). This will likely lead to incorrect results due to broadcasting. Please ensure they have the same size.\n",
      "\u001b[2m\u001b[36m(train_mcdo pid=3493694)\u001b[0m   return F.mse_loss(input, target, reduction=self.reduction)\n"
     ]
    },
    {
     "name": "stdout",
     "output_type": "stream",
     "text": [
      "\u001b[2m\u001b[36m(train_mcdo pid=3491040)\u001b[0m Early stopping triggered at epoch 58\u001b[32m [repeated 4x across cluster]\u001b[0m\n"
     ]
    },
    {
     "name": "stderr",
     "output_type": "stream",
     "text": [
      "\u001b[2m\u001b[36m(train_mcdo pid=3493694)\u001b[0m /home/sgupta/anaconda3/envs/py39SAM/lib/python3.9/site-packages/torch/nn/modules/loss.py:535: UserWarning: Using a target size (torch.Size([18, 1])) that is different to the input size (torch.Size([18])). This will likely lead to incorrect results due to broadcasting. Please ensure they have the same size.\n",
      "\u001b[2m\u001b[36m(train_mcdo pid=3493694)\u001b[0m   return F.mse_loss(input, target, reduction=self.reduction)\n",
      "\u001b[2m\u001b[36m(train_mcdo pid=3493694)\u001b[0m /home/sgupta/anaconda3/envs/py39SAM/lib/python3.9/site-packages/torch/nn/modules/loss.py:535: UserWarning: Using a target size (torch.Size([14, 1])) that is different to the input size (torch.Size([14])). This will likely lead to incorrect results due to broadcasting. Please ensure they have the same size.\n",
      "\u001b[2m\u001b[36m(train_mcdo pid=3493694)\u001b[0m   return F.mse_loss(input, target, reduction=self.reduction)\n"
     ]
    },
    {
     "name": "stdout",
     "output_type": "stream",
     "text": [
      "\u001b[2m\u001b[36m(train_mcdo pid=3493694)\u001b[0m Early stopping triggered at epoch 27\u001b[32m [repeated 4x across cluster]\u001b[0m\n",
      "\u001b[2m\u001b[36m(train_mcdo pid=3491615)\u001b[0m Early stopping triggered at epoch 57\u001b[32m [repeated 3x across cluster]\u001b[0m\n",
      "\u001b[2m\u001b[36m(train_mcdo pid=3491539)\u001b[0m Early stopping triggered at epoch 51\u001b[32m [repeated 6x across cluster]\u001b[0m\n"
     ]
    },
    {
     "name": "stderr",
     "output_type": "stream",
     "text": [
      "\u001b[2m\u001b[36m(train_mcdo pid=3491539)\u001b[0m /home/sgupta/anaconda3/envs/py39SAM/lib/python3.9/site-packages/torch/nn/modules/loss.py:535: UserWarning: Using a target size (torch.Size([12, 1])) that is different to the input size (torch.Size([12])). This will likely lead to incorrect results due to broadcasting. Please ensure they have the same size.\n",
      "\u001b[2m\u001b[36m(train_mcdo pid=3491539)\u001b[0m   return F.mse_loss(input, target, reduction=self.reduction)\n",
      "\u001b[2m\u001b[36m(train_mcdo pid=3510360)\u001b[0m /home/sgupta/anaconda3/envs/py39SAM/lib/python3.9/site-packages/torch/nn/modules/loss.py:535: UserWarning: Using a target size (torch.Size([18, 1])) that is different to the input size (torch.Size([18])). This will likely lead to incorrect results due to broadcasting. Please ensure they have the same size.\n",
      "\u001b[2m\u001b[36m(train_mcdo pid=3510360)\u001b[0m   return F.mse_loss(input, target, reduction=self.reduction)\n",
      "\u001b[2m\u001b[36m(train_mcdo pid=3510360)\u001b[0m /home/sgupta/anaconda3/envs/py39SAM/lib/python3.9/site-packages/torch/nn/modules/loss.py:535: UserWarning: Using a target size (torch.Size([14, 1])) that is different to the input size (torch.Size([14])). This will likely lead to incorrect results due to broadcasting. Please ensure they have the same size.\n",
      "\u001b[2m\u001b[36m(train_mcdo pid=3510360)\u001b[0m   return F.mse_loss(input, target, reduction=self.reduction)\n",
      "\u001b[2m\u001b[36m(train_mcdo pid=3510360)\u001b[0m /home/sgupta/anaconda3/envs/py39SAM/lib/python3.9/site-packages/torch/nn/modules/loss.py:535: UserWarning: Using a target size (torch.Size([2, 1])) that is different to the input size (torch.Size([2])). This will likely lead to incorrect results due to broadcasting. Please ensure they have the same size.\n",
      "\u001b[2m\u001b[36m(train_mcdo pid=3510360)\u001b[0m   return F.mse_loss(input, target, reduction=self.reduction)\n"
     ]
    },
    {
     "name": "stdout",
     "output_type": "stream",
     "text": [
      "\u001b[2m\u001b[36m(train_mcdo pid=3493694)\u001b[0m Early stopping triggered at epoch 45\u001b[32m [repeated 3x across cluster]\u001b[0m\n",
      "\u001b[2m\u001b[36m(train_mcdo pid=3510360)\u001b[0m Early stopping triggered at epoch 93\u001b[32m [repeated 4x across cluster]\u001b[0m\n"
     ]
    },
    {
     "name": "stderr",
     "output_type": "stream",
     "text": [
      "\u001b[2m\u001b[36m(train_mcdo pid=3510360)\u001b[0m /home/sgupta/anaconda3/envs/py39SAM/lib/python3.9/site-packages/torch/nn/modules/loss.py:535: UserWarning: Using a target size (torch.Size([15, 1])) that is different to the input size (torch.Size([15])). This will likely lead to incorrect results due to broadcasting. Please ensure they have the same size.\n",
      "\u001b[2m\u001b[36m(train_mcdo pid=3510360)\u001b[0m   return F.mse_loss(input, target, reduction=self.reduction)\n",
      "\u001b[2m\u001b[36m(train_mcdo pid=3510360)\u001b[0m /home/sgupta/anaconda3/envs/py39SAM/lib/python3.9/site-packages/torch/nn/modules/loss.py:535: UserWarning: Using a target size (torch.Size([5, 1])) that is different to the input size (torch.Size([5])). This will likely lead to incorrect results due to broadcasting. Please ensure they have the same size.\n",
      "\u001b[2m\u001b[36m(train_mcdo pid=3510360)\u001b[0m   return F.mse_loss(input, target, reduction=self.reduction)\n",
      "\u001b[2m\u001b[36m(train_mcdo pid=3510360)\u001b[0m /home/sgupta/anaconda3/envs/py39SAM/lib/python3.9/site-packages/torch/nn/modules/loss.py:535: UserWarning: Using a target size (torch.Size([13, 1])) that is different to the input size (torch.Size([13])). This will likely lead to incorrect results due to broadcasting. Please ensure they have the same size.\n",
      "\u001b[2m\u001b[36m(train_mcdo pid=3510360)\u001b[0m   return F.mse_loss(input, target, reduction=self.reduction)\n",
      "\u001b[2m\u001b[36m(train_mcdo pid=3510360)\u001b[0m /home/sgupta/anaconda3/envs/py39SAM/lib/python3.9/site-packages/torch/nn/modules/loss.py:535: UserWarning: Using a target size (torch.Size([6, 1])) that is different to the input size (torch.Size([6])). This will likely lead to incorrect results due to broadcasting. Please ensure they have the same size.\n",
      "\u001b[2m\u001b[36m(train_mcdo pid=3510360)\u001b[0m   return F.mse_loss(input, target, reduction=self.reduction)\n"
     ]
    },
    {
     "name": "stdout",
     "output_type": "stream",
     "text": [
      "\u001b[2m\u001b[36m(train_mcdo pid=3491140)\u001b[0m Early stopping triggered at epoch 138\u001b[32m [repeated 3x across cluster]\u001b[0m\n",
      "\u001b[2m\u001b[36m(train_mcdo pid=3491432)\u001b[0m Early stopping triggered at epoch 40\u001b[32m [repeated 2x across cluster]\u001b[0m\n"
     ]
    },
    {
     "name": "stderr",
     "output_type": "stream",
     "text": [
      "\u001b[2m\u001b[36m(train_mcdo pid=3491432)\u001b[0m /home/sgupta/anaconda3/envs/py39SAM/lib/python3.9/site-packages/torch/nn/modules/loss.py:535: UserWarning: Using a target size (torch.Size([16, 1])) that is different to the input size (torch.Size([16])). This will likely lead to incorrect results due to broadcasting. Please ensure they have the same size.\n",
      "\u001b[2m\u001b[36m(train_mcdo pid=3491432)\u001b[0m   return F.mse_loss(input, target, reduction=self.reduction)\n"
     ]
    },
    {
     "name": "stdout",
     "output_type": "stream",
     "text": [
      "\u001b[2m\u001b[36m(train_mcdo pid=3491615)\u001b[0m Early stopping triggered at epoch 74\u001b[32m [repeated 3x across cluster]\u001b[0m\n",
      "\u001b[2m\u001b[36m(train_mcdo pid=3490249)\u001b[0m Early stopping triggered at epoch 136\u001b[32m [repeated 5x across cluster]\u001b[0m\n",
      "\u001b[2m\u001b[36m(train_mcdo pid=3491040)\u001b[0m Early stopping triggered at epoch 22\u001b[32m [repeated 4x across cluster]\u001b[0m\n",
      "\u001b[2m\u001b[36m(train_mcdo pid=3493694)\u001b[0m Early stopping triggered at epoch 39\u001b[32m [repeated 2x across cluster]\u001b[0m\n",
      "\u001b[2m\u001b[36m(train_mcdo pid=3490574)\u001b[0m Early stopping triggered at epoch 32\u001b[32m [repeated 3x across cluster]\u001b[0m\n",
      "\u001b[2m\u001b[36m(train_mcdo pid=3490943)\u001b[0m Early stopping triggered at epoch 61\n",
      "\u001b[2m\u001b[36m(train_mcdo pid=3490633)\u001b[0m Early stopping triggered at epoch 68\n"
     ]
    },
    {
     "name": "stderr",
     "output_type": "stream",
     "text": [
      "2023-11-28 14:30:18,846\tINFO tune.py:1148 -- Total run time: 996.92 seconds (996.70 seconds for the tuning loop).\n"
     ]
    }
   ],
   "source": [
    "import ray\n",
    "\n",
    "main(100,500)\n",
    "#  Stop Ray\n",
    "ray.shutdown()"
   ]
  },
  {
   "cell_type": "code",
   "execution_count": 12,
   "metadata": {},
   "outputs": [
    {
     "data": {
      "text/plain": [
       "{}"
      ]
     },
     "execution_count": 12,
     "metadata": {},
     "output_type": "execute_result"
    }
   ],
   "source": [
    "models"
   ]
  }
 ],
 "metadata": {
  "kernelspec": {
   "display_name": "py39SAM",
   "language": "python",
   "name": "python3"
  },
  "language_info": {
   "codemirror_mode": {
    "name": "ipython",
    "version": 3
   },
   "file_extension": ".py",
   "mimetype": "text/x-python",
   "name": "python",
   "nbconvert_exporter": "python",
   "pygments_lexer": "ipython3",
   "version": "3.9.17"
  }
 },
 "nbformat": 4,
 "nbformat_minor": 2
}
