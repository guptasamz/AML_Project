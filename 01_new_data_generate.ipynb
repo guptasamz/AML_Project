{
 "cells": [
  {
   "cell_type": "code",
   "execution_count": null,
   "metadata": {},
   "outputs": [],
   "source": [
    "import numpy as np\n",
    "import math\n",
    "import matplotlib.pyplot as plt\n",
    "import pickle\n",
    "import pandas as pd  \n",
    "import pathlib\n"
   ]
  },
  {
   "cell_type": "code",
   "execution_count": null,
   "metadata": {},
   "outputs": [],
   "source": [
    "path = '../data/new_data'\n",
    "pathlib.Path(f'{path}/').mkdir(parents=True, exist_ok=True) \n",
    "\n",
    "pathlib.Path(f'{path}/data1').mkdir(parents=True, exist_ok=True) \n"
   ]
  },
  {
   "cell_type": "markdown",
   "metadata": {},
   "source": [
    "### Dataset 1"
   ]
  },
  {
   "cell_type": "code",
   "execution_count": null,
   "metadata": {},
   "outputs": [],
   "source": [
    "N_train = 5*100 \n",
    "N_test = 2*100 \n",
    "N_val = 2*100 \n",
    "Noise_Mag = 0.1\n",
    "figure_size = (4, 4)\n",
    "\n",
    "N = N_train\n",
    "X1 = np.arange(0,2.5,2.5/N)\n",
    "y = np.sin(2*X1)+ Noise_Mag*(np.random.rand(N)-1/2)\n",
    "\n",
    "plt.figure(figsize=figure_size) \n",
    "plt.title('Target vs X1')\n",
    "plt.scatter(X1, y, color='k',s=.2)\n",
    "plt.show()\n",
    "\n",
    "Data = np.column_stack((X1,y))\n",
    "print('Train Set', Data.shape)\n",
    "dict = {'Input1': X1, 'Output': y}  \n",
    "df = pd.DataFrame(dict) \n",
    "df.to_csv(f'{path}/data1/Data1_Train.csv', header=True, index=False) \n",
    "output = open(f'{path}/data1/Data1_Train.pkl', 'wb')\n",
    "pickle.dump(Data, output)\n",
    "output.close()\n",
    "\n",
    "\n",
    "N = N_test\n",
    "X1 = np.arange(0,2.5,2.5/N)\n",
    "y = np.sin(2*X1)+ Noise_Mag*(np.random.rand(N)-1/2)\n",
    "\n",
    "Data = np.column_stack((X1,y))\n",
    "print('Test Set',Data.shape)\n",
    "dict = {'Input1': X1, 'Output': y}  \n",
    "df = pd.DataFrame(dict) \n",
    "df.to_csv(f'{path}/data1/Data1_Test.csv', header=True, index=False) \n",
    "output = open(f'{path}/data1/Data1_Test.pkl', 'wb')\n",
    "pickle.dump(Data, output)\n",
    "output.close()\n",
    "\n",
    "N = N_val\n",
    "X1 = np.arange(0,2.7,2.7/N) \n",
    "y = np.sin(2*X1)+ Noise_Mag*(np.random.rand(N)-1/2)\n",
    "\n",
    "Data = np.column_stack((X1,y))\n",
    "print('Val Set',Data.shape)\n",
    "dict = {'Input1': X1, 'Output': y}  \n",
    "df = pd.DataFrame(dict) \n",
    "df.to_csv(f'{path}/data1/Data1_Val.csv', header=True, index=False) \n",
    "output = open(f'{path}/data1/Data1_Val.pkl', 'wb')\n",
    "pickle.dump(Data, output)\n",
    "output.close()\n"
   ]
  },
  {
   "cell_type": "markdown",
   "metadata": {},
   "source": [
    "### Dataset 2"
   ]
  },
  {
   "cell_type": "code",
   "execution_count": null,
   "metadata": {},
   "outputs": [],
   "source": [
    "N_train = 5*1000 # Five thousand\n",
    "N_test = 2*1000 # Two thousand\n",
    "N_val = 2*1000 # Two thousand"
   ]
  },
  {
   "cell_type": "code",
   "execution_count": null,
   "metadata": {},
   "outputs": [],
   "source": [
    "import pathlib\n",
    "pathlib.Path(f'{path}/data2').mkdir(parents=True, exist_ok=True) "
   ]
  },
  {
   "cell_type": "code",
   "execution_count": null,
   "metadata": {},
   "outputs": [],
   "source": [
    "Noise_Mag = 0.5\n",
    "figure_size = (4, 4)\n",
    "\n",
    "N = N_train\n",
    "X1 = np.power(np.arange(0,1,1/N),5)\n",
    "y = np.cos(8*X1)+ Noise_Mag*(np.random.rand(N)-1/2)\n",
    "\n",
    "Data = np.column_stack((X1,y))\n",
    "print('Train Set', Data.shape)\n",
    "dict = {'Input1': X1, 'Output': y}  \n",
    "df = pd.DataFrame(dict) \n",
    "df.to_csv(f'{path}/data2/Data2_Train.csv', header=True, index=False) \n",
    "output = open(f'{path}/data2/Data_Train.pkl', 'wb')\n",
    "pickle.dump(Data, output)\n",
    "output.close()\n",
    "\n",
    "\n",
    "N = N_test\n",
    "X1 = np.power(np.arange(0,1,1/N),1)\n",
    "y = np.cos(8*X1)+ Noise_Mag*(np.random.rand(N)-1/2)\n",
    "\n",
    "Data = np.column_stack((X1,y))\n",
    "print('Test Set',Data.shape)\n",
    "dict = {'Input1': X1, 'Output': y}  \n",
    "df = pd.DataFrame(dict) \n",
    "df.to_csv(f'{path}/data2/Data2_Test.csv', header=True, index=False) \n",
    "output = open(f'{path}/data2/Data2_Test.pkl', 'wb')\n",
    "pickle.dump(Data, output)\n",
    "output.close()\n",
    "\n",
    "N = N_val\n",
    "X1 = np.power(np.arange(0,1,1/N),1)\n",
    "y = np.cos(8*X1)+ Noise_Mag*(np.random.rand(N)-1/2)\n",
    "\n",
    "Data = np.column_stack((X1,y))\n",
    "print('Val Set',Data.shape)\n",
    "dict = {'Input1': X1, 'Output': y}  \n",
    "df = pd.DataFrame(dict) \n",
    "df.to_csv(f'{path}/data2/Data2_Val.csv', header=True, index=False) \n",
    "output = open(f'{path}/data2/Data2_Val.pkl', 'wb')\n",
    "pickle.dump(Data, output)\n",
    "output.close()\n"
   ]
  },
  {
   "cell_type": "markdown",
   "metadata": {},
   "source": [
    "### Dataset 3"
   ]
  },
  {
   "cell_type": "code",
   "execution_count": null,
   "metadata": {},
   "outputs": [],
   "source": [
    "import pathlib\n",
    "pathlib.Path(f'{path}/data3').mkdir(parents=True, exist_ok=True) "
   ]
  },
  {
   "cell_type": "code",
   "execution_count": null,
   "metadata": {},
   "outputs": [],
   "source": [
    "Noise_Mag = 0.5\n",
    "figure_size = (4, 4)\n",
    "\n",
    "N = N_train\n",
    "X1 = np.cbrt(np.arange(-1,1,2/N))\n",
    "X1 = X1*np.sign(X1)*X1\n",
    "y = np.cos(8*X1)+ Noise_Mag*(np.random.rand(N)-1/2)\n",
    "\n",
    "Data = np.column_stack((X1,y))\n",
    "print('Train Set', Data.shape)\n",
    "dict = {'Input1': X1, 'Output': y}  \n",
    "df = pd.DataFrame(dict) \n",
    "df.to_csv(f'{path}/data3/Data3_Train.csv', header=True, index=False) \n",
    "output = open(f'{path}/data3/Data3_Train.pkl', 'wb')\n",
    "pickle.dump(Data, output)\n",
    "output.close()\n",
    "\n",
    "N = N_test\n",
    "X1 = np.arange(-1,1,2/N)\n",
    "y = np.cos(8*X1)+ Noise_Mag*(np.random.rand(N)-1/2)\n",
    "\n",
    "Data = np.column_stack((X1,y))\n",
    "print('Test Set',Data.shape)\n",
    "dict = {'Input1': X1, 'Output': y}  \n",
    "df = pd.DataFrame(dict) \n",
    "df.to_csv(f'{path}/data3/Data3_Test.csv', header=True, index=False) \n",
    "output = open(f'{path}/data3/Data3_Test.pkl', 'wb')\n",
    "pickle.dump(Data, output)\n",
    "output.close()\n",
    "\n",
    "N = N_val\n",
    "X1 = np.arange(-1,1,2/N)\n",
    "y = np.cos(8*X1)+ Noise_Mag*(np.random.rand(N)-1/2)\n",
    "\n",
    "Data = np.column_stack((X1,y))\n",
    "print('Val Set',Data.shape)\n",
    "dict = {'Input1': X1, 'Output': y}  \n",
    "df = pd.DataFrame(dict) \n",
    "df.to_csv(f'{path}/data3/Data3_Val.csv', header=True, index=False) \n",
    "output = open(f'{path}/data3/Data3_Val.pkl', 'wb')\n",
    "pickle.dump(Data, output)\n",
    "output.close()"
   ]
  }
 ],
 "metadata": {
  "kernelspec": {
   "display_name": "py39SAM",
   "language": "python",
   "name": "python3"
  },
  "language_info": {
   "codemirror_mode": {
    "name": "ipython",
    "version": 3
   },
   "file_extension": ".py",
   "mimetype": "text/x-python",
   "name": "python",
   "nbconvert_exporter": "python",
   "pygments_lexer": "ipython3",
   "version": "3.9.17"
  }
 },
 "nbformat": 4,
 "nbformat_minor": 2
}
